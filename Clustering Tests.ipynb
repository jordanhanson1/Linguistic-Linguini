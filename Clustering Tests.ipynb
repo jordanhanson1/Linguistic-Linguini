{
 "cells": [
  {
   "cell_type": "code",
   "execution_count": 363,
   "id": "9aaf5e8e",
   "metadata": {},
   "outputs": [],
   "source": [
    "import pandas as pd\n",
    "import numpy as np\n",
    "import datetime as dt\n",
    "import seaborn as sns\n",
    "import matplotlib.pyplot as plt\n",
    "from sklearn.preprocessing import StandardScaler\n",
    "from sklearn.cluster import KMeans\n",
    "from kneed import KneeLocator\n",
    "import math\n",
    "\n",
    "sns.set(rc={'figure.figsize':(15, 6)})"
   ]
  },
  {
   "cell_type": "code",
   "execution_count": 123,
   "id": "9b1b1b22",
   "metadata": {},
   "outputs": [],
   "source": [
    "def preprocess(df):\n",
    "    \"\"\"Preprocess data for KMeans clustering\"\"\"\n",
    "    \n",
    "    #df_log = np.log1p(df)\n",
    "    scaler = StandardScaler()\n",
    "    scaler.fit(df)\n",
    "    df_norm = scaler.transform(df)\n",
    "    \n",
    "    return df_norm"
   ]
  },
  {
   "cell_type": "code",
   "execution_count": 124,
   "id": "35f41f9c",
   "metadata": {},
   "outputs": [],
   "source": [
    "def elbow_plot(df):\n",
    "    \"\"\"Create elbow plot from normalized data\"\"\"\n",
    "    \n",
    "    df_norm = preprocess(df)\n",
    "    \n",
    "    sse = {}\n",
    "    \n",
    "    for k in range(1, 21):\n",
    "        kmeans = KMeans(n_clusters=k, random_state=1)\n",
    "        kmeans.fit(df_norm)\n",
    "        sse[k] = kmeans.inertia_\n",
    "    \n",
    "    plt.title('Elbow plot for K selection')\n",
    "    plt.xlabel('k')\n",
    "    plt.ylabel('SSE')\n",
    "    sns.pointplot(x=list(sse.keys()),\n",
    "                 y=list(sse.values()))\n",
    "    plt.show()"
   ]
  },
  {
   "cell_type": "code",
   "execution_count": 125,
   "id": "2f03d934",
   "metadata": {},
   "outputs": [],
   "source": [
    "def find_k(df, increment=0, decrement=0):\n",
    "    \"\"\"Find the optimum k clusters\"\"\"\n",
    "    \n",
    "    df_norm = preprocess(df)\n",
    "    sse = {}\n",
    "    \n",
    "    for k in range(1, 21):\n",
    "        kmeans = KMeans(n_clusters=k, random_state=1)\n",
    "        kmeans.fit(df_norm)\n",
    "        sse[k] = kmeans.inertia_\n",
    "    \n",
    "    kn = KneeLocator(x=list(sse.keys()), \n",
    "                 y=list(sse.values()), \n",
    "                 curve='convex', \n",
    "                 direction='decreasing')\n",
    "    k = kn.knee + increment - decrement\n",
    "    return k"
   ]
  },
  {
   "cell_type": "code",
   "execution_count": 126,
   "id": "7d6297fd",
   "metadata": {},
   "outputs": [],
   "source": [
    "def run_kmeans(df, increment=0, decrement=0):\n",
    "    \"\"\"Run KMeans clustering, including the preprocessing of the data\n",
    "    and the automatic selection of the optimum k. \n",
    "    \"\"\"\n",
    "    \n",
    "    df_norm = preprocess(df)\n",
    "    k = find_k(df, increment, decrement)\n",
    "    kmeans = KMeans(n_clusters=k, \n",
    "                    random_state=1)\n",
    "    kmeans.fit(df_norm)\n",
    "    return df.assign(cluster=kmeans.labels_)"
   ]
  },
  {
   "cell_type": "code",
   "execution_count": 238,
   "id": "874a0a6c",
   "metadata": {},
   "outputs": [],
   "source": [
    "df = pd.read_csv('missesTotal.csv')  "
   ]
  },
  {
   "cell_type": "code",
   "execution_count": 239,
   "id": "83655cd2",
   "metadata": {},
   "outputs": [
    {
     "data": {
      "text/html": [
       "<div>\n",
       "<style scoped>\n",
       "    .dataframe tbody tr th:only-of-type {\n",
       "        vertical-align: middle;\n",
       "    }\n",
       "\n",
       "    .dataframe tbody tr th {\n",
       "        vertical-align: top;\n",
       "    }\n",
       "\n",
       "    .dataframe thead th {\n",
       "        text-align: right;\n",
       "    }\n",
       "</style>\n",
       "<table border=\"1\" class=\"dataframe\">\n",
       "  <thead>\n",
       "    <tr style=\"text-align: right;\">\n",
       "      <th></th>\n",
       "      <th>Unnamed: 0.1</th>\n",
       "      <th>Unnamed: 0</th>\n",
       "      <th>label</th>\n",
       "      <th>text</th>\n",
       "      <th>category</th>\n",
       "      <th>original_id</th>\n",
       "      <th>predicted_label</th>\n",
       "      <th>emb_0</th>\n",
       "      <th>emb_1</th>\n",
       "      <th>emb_2</th>\n",
       "      <th>...</th>\n",
       "      <th>emb_758</th>\n",
       "      <th>emb_759</th>\n",
       "      <th>emb_760</th>\n",
       "      <th>emb_761</th>\n",
       "      <th>emb_762</th>\n",
       "      <th>emb_763</th>\n",
       "      <th>emb_764</th>\n",
       "      <th>emb_765</th>\n",
       "      <th>emb_766</th>\n",
       "      <th>emb_767</th>\n",
       "    </tr>\n",
       "  </thead>\n",
       "  <tbody>\n",
       "    <tr>\n",
       "      <th>0</th>\n",
       "      <td>0</td>\n",
       "      <td>813</td>\n",
       "      <td>neutral</td>\n",
       "      <td>@united I hope so too</td>\n",
       "      <td>0</td>\n",
       "      <td>813</td>\n",
       "      <td>1</td>\n",
       "      <td>0.701212</td>\n",
       "      <td>0.149414</td>\n",
       "      <td>1.801739</td>\n",
       "      <td>...</td>\n",
       "      <td>-0.641708</td>\n",
       "      <td>-0.631561</td>\n",
       "      <td>0.724360</td>\n",
       "      <td>-0.479683</td>\n",
       "      <td>0.342981</td>\n",
       "      <td>-0.128573</td>\n",
       "      <td>-0.765833</td>\n",
       "      <td>-0.322237</td>\n",
       "      <td>-0.484272</td>\n",
       "      <td>-0.027367</td>\n",
       "    </tr>\n",
       "    <tr>\n",
       "      <th>1</th>\n",
       "      <td>1</td>\n",
       "      <td>7130</td>\n",
       "      <td>neutral</td>\n",
       "      <td>@jetblue who's running your tweeter using the ...</td>\n",
       "      <td>0</td>\n",
       "      <td>7130</td>\n",
       "      <td>2</td>\n",
       "      <td>-0.095302</td>\n",
       "      <td>0.519799</td>\n",
       "      <td>-0.860941</td>\n",
       "      <td>...</td>\n",
       "      <td>-0.844507</td>\n",
       "      <td>0.545532</td>\n",
       "      <td>-0.988797</td>\n",
       "      <td>-0.470753</td>\n",
       "      <td>0.221976</td>\n",
       "      <td>-0.781311</td>\n",
       "      <td>0.437286</td>\n",
       "      <td>0.007654</td>\n",
       "      <td>-0.176711</td>\n",
       "      <td>0.090562</td>\n",
       "    </tr>\n",
       "    <tr>\n",
       "      <th>2</th>\n",
       "      <td>2</td>\n",
       "      <td>3380</td>\n",
       "      <td>neutral</td>\n",
       "      <td>@united still waiting for a response on whethe...</td>\n",
       "      <td>0</td>\n",
       "      <td>3380</td>\n",
       "      <td>2</td>\n",
       "      <td>0.404428</td>\n",
       "      <td>-0.281564</td>\n",
       "      <td>1.098605</td>\n",
       "      <td>...</td>\n",
       "      <td>0.027952</td>\n",
       "      <td>-0.336490</td>\n",
       "      <td>-0.060362</td>\n",
       "      <td>-0.929268</td>\n",
       "      <td>0.410162</td>\n",
       "      <td>0.116782</td>\n",
       "      <td>-0.160092</td>\n",
       "      <td>-0.028493</td>\n",
       "      <td>-0.795741</td>\n",
       "      <td>0.037037</td>\n",
       "    </tr>\n",
       "    <tr>\n",
       "      <th>3</th>\n",
       "      <td>3</td>\n",
       "      <td>3008</td>\n",
       "      <td>neutral</td>\n",
       "      <td>@united Based on suggestions from other passen...</td>\n",
       "      <td>0</td>\n",
       "      <td>3008</td>\n",
       "      <td>2</td>\n",
       "      <td>0.580564</td>\n",
       "      <td>-0.417264</td>\n",
       "      <td>0.539577</td>\n",
       "      <td>...</td>\n",
       "      <td>-0.246741</td>\n",
       "      <td>-1.197115</td>\n",
       "      <td>-0.562455</td>\n",
       "      <td>-0.443025</td>\n",
       "      <td>-0.123202</td>\n",
       "      <td>-0.652523</td>\n",
       "      <td>-0.151871</td>\n",
       "      <td>0.264033</td>\n",
       "      <td>-0.452444</td>\n",
       "      <td>-0.366747</td>\n",
       "    </tr>\n",
       "    <tr>\n",
       "      <th>4</th>\n",
       "      <td>4</td>\n",
       "      <td>7030</td>\n",
       "      <td>neutral</td>\n",
       "      <td>“@JetBlue: Our fleet's on fleek. http://t.co/Q...</td>\n",
       "      <td>0</td>\n",
       "      <td>7030</td>\n",
       "      <td>2</td>\n",
       "      <td>0.150641</td>\n",
       "      <td>0.191832</td>\n",
       "      <td>0.901386</td>\n",
       "      <td>...</td>\n",
       "      <td>-0.277474</td>\n",
       "      <td>-0.263758</td>\n",
       "      <td>0.017206</td>\n",
       "      <td>-0.703940</td>\n",
       "      <td>-0.521036</td>\n",
       "      <td>0.051719</td>\n",
       "      <td>0.339595</td>\n",
       "      <td>0.206907</td>\n",
       "      <td>-0.883897</td>\n",
       "      <td>0.368364</td>\n",
       "    </tr>\n",
       "    <tr>\n",
       "      <th>...</th>\n",
       "      <td>...</td>\n",
       "      <td>...</td>\n",
       "      <td>...</td>\n",
       "      <td>...</td>\n",
       "      <td>...</td>\n",
       "      <td>...</td>\n",
       "      <td>...</td>\n",
       "      <td>...</td>\n",
       "      <td>...</td>\n",
       "      <td>...</td>\n",
       "      <td>...</td>\n",
       "      <td>...</td>\n",
       "      <td>...</td>\n",
       "      <td>...</td>\n",
       "      <td>...</td>\n",
       "      <td>...</td>\n",
       "      <td>...</td>\n",
       "      <td>...</td>\n",
       "      <td>...</td>\n",
       "      <td>...</td>\n",
       "      <td>...</td>\n",
       "    </tr>\n",
       "    <tr>\n",
       "      <th>963</th>\n",
       "      <td>963</td>\n",
       "      <td>4377</td>\n",
       "      <td>positive</td>\n",
       "      <td>@SouthwestAir @heavenlychc9 I'd at least enjoy...</td>\n",
       "      <td>1</td>\n",
       "      <td>4377</td>\n",
       "      <td>0</td>\n",
       "      <td>-0.288926</td>\n",
       "      <td>-0.469544</td>\n",
       "      <td>0.763421</td>\n",
       "      <td>...</td>\n",
       "      <td>-0.027024</td>\n",
       "      <td>-1.082415</td>\n",
       "      <td>-0.697840</td>\n",
       "      <td>-0.485712</td>\n",
       "      <td>-0.417425</td>\n",
       "      <td>0.451793</td>\n",
       "      <td>-0.545403</td>\n",
       "      <td>-0.404581</td>\n",
       "      <td>-0.650430</td>\n",
       "      <td>0.245911</td>\n",
       "    </tr>\n",
       "    <tr>\n",
       "      <th>964</th>\n",
       "      <td>964</td>\n",
       "      <td>5512</td>\n",
       "      <td>positive</td>\n",
       "      <td>@SouthwestAir I'll have to drop by next time I...</td>\n",
       "      <td>1</td>\n",
       "      <td>5512</td>\n",
       "      <td>0</td>\n",
       "      <td>-0.287779</td>\n",
       "      <td>-0.133505</td>\n",
       "      <td>1.637628</td>\n",
       "      <td>...</td>\n",
       "      <td>-0.028515</td>\n",
       "      <td>-0.204185</td>\n",
       "      <td>-0.278846</td>\n",
       "      <td>0.153048</td>\n",
       "      <td>-0.024744</td>\n",
       "      <td>0.142459</td>\n",
       "      <td>-0.391037</td>\n",
       "      <td>-0.188013</td>\n",
       "      <td>-0.114064</td>\n",
       "      <td>0.296878</td>\n",
       "    </tr>\n",
       "    <tr>\n",
       "      <th>965</th>\n",
       "      <td>965</td>\n",
       "      <td>56</td>\n",
       "      <td>positive</td>\n",
       "      <td>@VirginAmerica you know it. Need it on my spot...</td>\n",
       "      <td>1</td>\n",
       "      <td>56</td>\n",
       "      <td>0</td>\n",
       "      <td>-0.120062</td>\n",
       "      <td>0.689700</td>\n",
       "      <td>0.500194</td>\n",
       "      <td>...</td>\n",
       "      <td>-0.449935</td>\n",
       "      <td>-0.235210</td>\n",
       "      <td>-0.653002</td>\n",
       "      <td>-1.018101</td>\n",
       "      <td>-0.308710</td>\n",
       "      <td>-0.254051</td>\n",
       "      <td>-0.067138</td>\n",
       "      <td>0.288422</td>\n",
       "      <td>-0.103543</td>\n",
       "      <td>-0.275301</td>\n",
       "    </tr>\n",
       "    <tr>\n",
       "      <th>966</th>\n",
       "      <td>966</td>\n",
       "      <td>6239</td>\n",
       "      <td>positive</td>\n",
       "      <td>@SouthwestAir I'm really craving your pretzels...</td>\n",
       "      <td>1</td>\n",
       "      <td>6239</td>\n",
       "      <td>0</td>\n",
       "      <td>-0.466340</td>\n",
       "      <td>0.289625</td>\n",
       "      <td>-0.217530</td>\n",
       "      <td>...</td>\n",
       "      <td>-0.224040</td>\n",
       "      <td>-0.835734</td>\n",
       "      <td>-0.458101</td>\n",
       "      <td>-1.050726</td>\n",
       "      <td>-0.012579</td>\n",
       "      <td>0.600473</td>\n",
       "      <td>-0.229492</td>\n",
       "      <td>0.395023</td>\n",
       "      <td>-0.019480</td>\n",
       "      <td>0.537425</td>\n",
       "    </tr>\n",
       "    <tr>\n",
       "      <th>967</th>\n",
       "      <td>967</td>\n",
       "      <td>7046</td>\n",
       "      <td>positive</td>\n",
       "      <td>Power Moves RT @JetBlue: Our fleet's on fleek....</td>\n",
       "      <td>1</td>\n",
       "      <td>7046</td>\n",
       "      <td>0</td>\n",
       "      <td>0.144981</td>\n",
       "      <td>-0.324572</td>\n",
       "      <td>1.059081</td>\n",
       "      <td>...</td>\n",
       "      <td>-0.364800</td>\n",
       "      <td>-0.459383</td>\n",
       "      <td>-0.432453</td>\n",
       "      <td>-1.093191</td>\n",
       "      <td>-0.174370</td>\n",
       "      <td>0.032528</td>\n",
       "      <td>0.146126</td>\n",
       "      <td>0.184161</td>\n",
       "      <td>-0.432964</td>\n",
       "      <td>-0.284159</td>\n",
       "    </tr>\n",
       "  </tbody>\n",
       "</table>\n",
       "<p>968 rows × 775 columns</p>\n",
       "</div>"
      ],
      "text/plain": [
       "     Unnamed: 0.1  Unnamed: 0     label  \\\n",
       "0               0         813   neutral   \n",
       "1               1        7130   neutral   \n",
       "2               2        3380   neutral   \n",
       "3               3        3008   neutral   \n",
       "4               4        7030   neutral   \n",
       "..            ...         ...       ...   \n",
       "963           963        4377  positive   \n",
       "964           964        5512  positive   \n",
       "965           965          56  positive   \n",
       "966           966        6239  positive   \n",
       "967           967        7046  positive   \n",
       "\n",
       "                                                  text  category  original_id  \\\n",
       "0                                @united I hope so too         0          813   \n",
       "1    @jetblue who's running your tweeter using the ...         0         7130   \n",
       "2    @united still waiting for a response on whethe...         0         3380   \n",
       "3    @united Based on suggestions from other passen...         0         3008   \n",
       "4    “@JetBlue: Our fleet's on fleek. http://t.co/Q...         0         7030   \n",
       "..                                                 ...       ...          ...   \n",
       "963  @SouthwestAir @heavenlychc9 I'd at least enjoy...         1         4377   \n",
       "964  @SouthwestAir I'll have to drop by next time I...         1         5512   \n",
       "965  @VirginAmerica you know it. Need it on my spot...         1           56   \n",
       "966  @SouthwestAir I'm really craving your pretzels...         1         6239   \n",
       "967  Power Moves RT @JetBlue: Our fleet's on fleek....         1         7046   \n",
       "\n",
       "     predicted_label     emb_0     emb_1     emb_2  ...   emb_758   emb_759  \\\n",
       "0                  1  0.701212  0.149414  1.801739  ... -0.641708 -0.631561   \n",
       "1                  2 -0.095302  0.519799 -0.860941  ... -0.844507  0.545532   \n",
       "2                  2  0.404428 -0.281564  1.098605  ...  0.027952 -0.336490   \n",
       "3                  2  0.580564 -0.417264  0.539577  ... -0.246741 -1.197115   \n",
       "4                  2  0.150641  0.191832  0.901386  ... -0.277474 -0.263758   \n",
       "..               ...       ...       ...       ...  ...       ...       ...   \n",
       "963                0 -0.288926 -0.469544  0.763421  ... -0.027024 -1.082415   \n",
       "964                0 -0.287779 -0.133505  1.637628  ... -0.028515 -0.204185   \n",
       "965                0 -0.120062  0.689700  0.500194  ... -0.449935 -0.235210   \n",
       "966                0 -0.466340  0.289625 -0.217530  ... -0.224040 -0.835734   \n",
       "967                0  0.144981 -0.324572  1.059081  ... -0.364800 -0.459383   \n",
       "\n",
       "      emb_760   emb_761   emb_762   emb_763   emb_764   emb_765   emb_766  \\\n",
       "0    0.724360 -0.479683  0.342981 -0.128573 -0.765833 -0.322237 -0.484272   \n",
       "1   -0.988797 -0.470753  0.221976 -0.781311  0.437286  0.007654 -0.176711   \n",
       "2   -0.060362 -0.929268  0.410162  0.116782 -0.160092 -0.028493 -0.795741   \n",
       "3   -0.562455 -0.443025 -0.123202 -0.652523 -0.151871  0.264033 -0.452444   \n",
       "4    0.017206 -0.703940 -0.521036  0.051719  0.339595  0.206907 -0.883897   \n",
       "..        ...       ...       ...       ...       ...       ...       ...   \n",
       "963 -0.697840 -0.485712 -0.417425  0.451793 -0.545403 -0.404581 -0.650430   \n",
       "964 -0.278846  0.153048 -0.024744  0.142459 -0.391037 -0.188013 -0.114064   \n",
       "965 -0.653002 -1.018101 -0.308710 -0.254051 -0.067138  0.288422 -0.103543   \n",
       "966 -0.458101 -1.050726 -0.012579  0.600473 -0.229492  0.395023 -0.019480   \n",
       "967 -0.432453 -1.093191 -0.174370  0.032528  0.146126  0.184161 -0.432964   \n",
       "\n",
       "      emb_767  \n",
       "0   -0.027367  \n",
       "1    0.090562  \n",
       "2    0.037037  \n",
       "3   -0.366747  \n",
       "4    0.368364  \n",
       "..        ...  \n",
       "963  0.245911  \n",
       "964  0.296878  \n",
       "965 -0.275301  \n",
       "966  0.537425  \n",
       "967 -0.284159  \n",
       "\n",
       "[968 rows x 775 columns]"
      ]
     },
     "execution_count": 239,
     "metadata": {},
     "output_type": "execute_result"
    }
   ],
   "source": [
    "df"
   ]
  },
  {
   "cell_type": "code",
   "execution_count": 240,
   "id": "07d5c394",
   "metadata": {
    "scrolled": true
   },
   "outputs": [],
   "source": [
    "df2 = df[[\"emb_\" + str(i) for i in range(768)]]"
   ]
  },
  {
   "cell_type": "code",
   "execution_count": 241,
   "id": "9fd4bc3b",
   "metadata": {},
   "outputs": [
    {
     "data": {
      "image/png": "[encoded data removed]",
      "text/plain": [
       "<Figure size 1080x432 with 1 Axes>"
      ]
     },
     "metadata": {},
     "output_type": "display_data"
    }
   ],
   "source": [
    "elbow_plot(df2)"
   ]
  },
  {
   "cell_type": "code",
   "execution_count": 242,
   "id": "7d87426c",
   "metadata": {},
   "outputs": [
    {
     "data": {
      "text/plain": [
       "7"
      ]
     },
     "execution_count": 242,
     "metadata": {},
     "output_type": "execute_result"
    }
   ],
   "source": [
    "find_k(df2)"
   ]
  },
  {
   "cell_type": "code",
   "execution_count": 243,
   "id": "3a54ddd9",
   "metadata": {},
   "outputs": [],
   "source": [
    "df3 = run_kmeans(df2)"
   ]
  },
  {
   "cell_type": "code",
   "execution_count": 244,
   "id": "26bebf50",
   "metadata": {
    "scrolled": true
   },
   "outputs": [],
   "source": [
    "df['cluster'] = df3[\"cluster\"].to_numpy()"
   ]
  },
  {
   "cell_type": "code",
   "execution_count": 245,
   "id": "91f2edb9",
   "metadata": {},
   "outputs": [
    {
     "data": {
      "text/html": [
       "<div>\n",
       "<style scoped>\n",
       "    .dataframe tbody tr th:only-of-type {\n",
       "        vertical-align: middle;\n",
       "    }\n",
       "\n",
       "    .dataframe tbody tr th {\n",
       "        vertical-align: top;\n",
       "    }\n",
       "\n",
       "    .dataframe thead th {\n",
       "        text-align: right;\n",
       "    }\n",
       "</style>\n",
       "<table border=\"1\" class=\"dataframe\">\n",
       "  <thead>\n",
       "    <tr style=\"text-align: right;\">\n",
       "      <th></th>\n",
       "      <th>Unnamed: 0.1</th>\n",
       "      <th>Unnamed: 0</th>\n",
       "      <th>label</th>\n",
       "      <th>text</th>\n",
       "      <th>category</th>\n",
       "      <th>original_id</th>\n",
       "      <th>predicted_label</th>\n",
       "      <th>emb_0</th>\n",
       "      <th>emb_1</th>\n",
       "      <th>emb_2</th>\n",
       "      <th>...</th>\n",
       "      <th>emb_759</th>\n",
       "      <th>emb_760</th>\n",
       "      <th>emb_761</th>\n",
       "      <th>emb_762</th>\n",
       "      <th>emb_763</th>\n",
       "      <th>emb_764</th>\n",
       "      <th>emb_765</th>\n",
       "      <th>emb_766</th>\n",
       "      <th>emb_767</th>\n",
       "      <th>cluster</th>\n",
       "    </tr>\n",
       "  </thead>\n",
       "  <tbody>\n",
       "    <tr>\n",
       "      <th>0</th>\n",
       "      <td>0</td>\n",
       "      <td>813</td>\n",
       "      <td>neutral</td>\n",
       "      <td>@united I hope so too</td>\n",
       "      <td>0</td>\n",
       "      <td>813</td>\n",
       "      <td>1</td>\n",
       "      <td>0.701212</td>\n",
       "      <td>0.149414</td>\n",
       "      <td>1.801739</td>\n",
       "      <td>...</td>\n",
       "      <td>-0.631561</td>\n",
       "      <td>0.724360</td>\n",
       "      <td>-0.479683</td>\n",
       "      <td>0.342981</td>\n",
       "      <td>-0.128573</td>\n",
       "      <td>-0.765833</td>\n",
       "      <td>-0.322237</td>\n",
       "      <td>-0.484272</td>\n",
       "      <td>-0.027367</td>\n",
       "      <td>3</td>\n",
       "    </tr>\n",
       "    <tr>\n",
       "      <th>1</th>\n",
       "      <td>1</td>\n",
       "      <td>7130</td>\n",
       "      <td>neutral</td>\n",
       "      <td>@jetblue who's running your tweeter using the ...</td>\n",
       "      <td>0</td>\n",
       "      <td>7130</td>\n",
       "      <td>2</td>\n",
       "      <td>-0.095302</td>\n",
       "      <td>0.519799</td>\n",
       "      <td>-0.860941</td>\n",
       "      <td>...</td>\n",
       "      <td>0.545532</td>\n",
       "      <td>-0.988797</td>\n",
       "      <td>-0.470753</td>\n",
       "      <td>0.221976</td>\n",
       "      <td>-0.781311</td>\n",
       "      <td>0.437286</td>\n",
       "      <td>0.007654</td>\n",
       "      <td>-0.176711</td>\n",
       "      <td>0.090562</td>\n",
       "      <td>1</td>\n",
       "    </tr>\n",
       "    <tr>\n",
       "      <th>2</th>\n",
       "      <td>2</td>\n",
       "      <td>3380</td>\n",
       "      <td>neutral</td>\n",
       "      <td>@united still waiting for a response on whethe...</td>\n",
       "      <td>0</td>\n",
       "      <td>3380</td>\n",
       "      <td>2</td>\n",
       "      <td>0.404428</td>\n",
       "      <td>-0.281564</td>\n",
       "      <td>1.098605</td>\n",
       "      <td>...</td>\n",
       "      <td>-0.336490</td>\n",
       "      <td>-0.060362</td>\n",
       "      <td>-0.929268</td>\n",
       "      <td>0.410162</td>\n",
       "      <td>0.116782</td>\n",
       "      <td>-0.160092</td>\n",
       "      <td>-0.028493</td>\n",
       "      <td>-0.795741</td>\n",
       "      <td>0.037037</td>\n",
       "      <td>5</td>\n",
       "    </tr>\n",
       "    <tr>\n",
       "      <th>3</th>\n",
       "      <td>3</td>\n",
       "      <td>3008</td>\n",
       "      <td>neutral</td>\n",
       "      <td>@united Based on suggestions from other passen...</td>\n",
       "      <td>0</td>\n",
       "      <td>3008</td>\n",
       "      <td>2</td>\n",
       "      <td>0.580564</td>\n",
       "      <td>-0.417264</td>\n",
       "      <td>0.539577</td>\n",
       "      <td>...</td>\n",
       "      <td>-1.197115</td>\n",
       "      <td>-0.562455</td>\n",
       "      <td>-0.443025</td>\n",
       "      <td>-0.123202</td>\n",
       "      <td>-0.652523</td>\n",
       "      <td>-0.151871</td>\n",
       "      <td>0.264033</td>\n",
       "      <td>-0.452444</td>\n",
       "      <td>-0.366747</td>\n",
       "      <td>5</td>\n",
       "    </tr>\n",
       "    <tr>\n",
       "      <th>4</th>\n",
       "      <td>4</td>\n",
       "      <td>7030</td>\n",
       "      <td>neutral</td>\n",
       "      <td>“@JetBlue: Our fleet's on fleek. http://t.co/Q...</td>\n",
       "      <td>0</td>\n",
       "      <td>7030</td>\n",
       "      <td>2</td>\n",
       "      <td>0.150641</td>\n",
       "      <td>0.191832</td>\n",
       "      <td>0.901386</td>\n",
       "      <td>...</td>\n",
       "      <td>-0.263758</td>\n",
       "      <td>0.017206</td>\n",
       "      <td>-0.703940</td>\n",
       "      <td>-0.521036</td>\n",
       "      <td>0.051719</td>\n",
       "      <td>0.339595</td>\n",
       "      <td>0.206907</td>\n",
       "      <td>-0.883897</td>\n",
       "      <td>0.368364</td>\n",
       "      <td>1</td>\n",
       "    </tr>\n",
       "    <tr>\n",
       "      <th>...</th>\n",
       "      <td>...</td>\n",
       "      <td>...</td>\n",
       "      <td>...</td>\n",
       "      <td>...</td>\n",
       "      <td>...</td>\n",
       "      <td>...</td>\n",
       "      <td>...</td>\n",
       "      <td>...</td>\n",
       "      <td>...</td>\n",
       "      <td>...</td>\n",
       "      <td>...</td>\n",
       "      <td>...</td>\n",
       "      <td>...</td>\n",
       "      <td>...</td>\n",
       "      <td>...</td>\n",
       "      <td>...</td>\n",
       "      <td>...</td>\n",
       "      <td>...</td>\n",
       "      <td>...</td>\n",
       "      <td>...</td>\n",
       "      <td>...</td>\n",
       "    </tr>\n",
       "    <tr>\n",
       "      <th>963</th>\n",
       "      <td>963</td>\n",
       "      <td>4377</td>\n",
       "      <td>positive</td>\n",
       "      <td>@SouthwestAir @heavenlychc9 I'd at least enjoy...</td>\n",
       "      <td>1</td>\n",
       "      <td>4377</td>\n",
       "      <td>0</td>\n",
       "      <td>-0.288926</td>\n",
       "      <td>-0.469544</td>\n",
       "      <td>0.763421</td>\n",
       "      <td>...</td>\n",
       "      <td>-1.082415</td>\n",
       "      <td>-0.697840</td>\n",
       "      <td>-0.485712</td>\n",
       "      <td>-0.417425</td>\n",
       "      <td>0.451793</td>\n",
       "      <td>-0.545403</td>\n",
       "      <td>-0.404581</td>\n",
       "      <td>-0.650430</td>\n",
       "      <td>0.245911</td>\n",
       "      <td>0</td>\n",
       "    </tr>\n",
       "    <tr>\n",
       "      <th>964</th>\n",
       "      <td>964</td>\n",
       "      <td>5512</td>\n",
       "      <td>positive</td>\n",
       "      <td>@SouthwestAir I'll have to drop by next time I...</td>\n",
       "      <td>1</td>\n",
       "      <td>5512</td>\n",
       "      <td>0</td>\n",
       "      <td>-0.287779</td>\n",
       "      <td>-0.133505</td>\n",
       "      <td>1.637628</td>\n",
       "      <td>...</td>\n",
       "      <td>-0.204185</td>\n",
       "      <td>-0.278846</td>\n",
       "      <td>0.153048</td>\n",
       "      <td>-0.024744</td>\n",
       "      <td>0.142459</td>\n",
       "      <td>-0.391037</td>\n",
       "      <td>-0.188013</td>\n",
       "      <td>-0.114064</td>\n",
       "      <td>0.296878</td>\n",
       "      <td>0</td>\n",
       "    </tr>\n",
       "    <tr>\n",
       "      <th>965</th>\n",
       "      <td>965</td>\n",
       "      <td>56</td>\n",
       "      <td>positive</td>\n",
       "      <td>@VirginAmerica you know it. Need it on my spot...</td>\n",
       "      <td>1</td>\n",
       "      <td>56</td>\n",
       "      <td>0</td>\n",
       "      <td>-0.120062</td>\n",
       "      <td>0.689700</td>\n",
       "      <td>0.500194</td>\n",
       "      <td>...</td>\n",
       "      <td>-0.235210</td>\n",
       "      <td>-0.653002</td>\n",
       "      <td>-1.018101</td>\n",
       "      <td>-0.308710</td>\n",
       "      <td>-0.254051</td>\n",
       "      <td>-0.067138</td>\n",
       "      <td>0.288422</td>\n",
       "      <td>-0.103543</td>\n",
       "      <td>-0.275301</td>\n",
       "      <td>5</td>\n",
       "    </tr>\n",
       "    <tr>\n",
       "      <th>966</th>\n",
       "      <td>966</td>\n",
       "      <td>6239</td>\n",
       "      <td>positive</td>\n",
       "      <td>@SouthwestAir I'm really craving your pretzels...</td>\n",
       "      <td>1</td>\n",
       "      <td>6239</td>\n",
       "      <td>0</td>\n",
       "      <td>-0.466340</td>\n",
       "      <td>0.289625</td>\n",
       "      <td>-0.217530</td>\n",
       "      <td>...</td>\n",
       "      <td>-0.835734</td>\n",
       "      <td>-0.458101</td>\n",
       "      <td>-1.050726</td>\n",
       "      <td>-0.012579</td>\n",
       "      <td>0.600473</td>\n",
       "      <td>-0.229492</td>\n",
       "      <td>0.395023</td>\n",
       "      <td>-0.019480</td>\n",
       "      <td>0.537425</td>\n",
       "      <td>0</td>\n",
       "    </tr>\n",
       "    <tr>\n",
       "      <th>967</th>\n",
       "      <td>967</td>\n",
       "      <td>7046</td>\n",
       "      <td>positive</td>\n",
       "      <td>Power Moves RT @JetBlue: Our fleet's on fleek....</td>\n",
       "      <td>1</td>\n",
       "      <td>7046</td>\n",
       "      <td>0</td>\n",
       "      <td>0.144981</td>\n",
       "      <td>-0.324572</td>\n",
       "      <td>1.059081</td>\n",
       "      <td>...</td>\n",
       "      <td>-0.459383</td>\n",
       "      <td>-0.432453</td>\n",
       "      <td>-1.093191</td>\n",
       "      <td>-0.174370</td>\n",
       "      <td>0.032528</td>\n",
       "      <td>0.146126</td>\n",
       "      <td>0.184161</td>\n",
       "      <td>-0.432964</td>\n",
       "      <td>-0.284159</td>\n",
       "      <td>1</td>\n",
       "    </tr>\n",
       "  </tbody>\n",
       "</table>\n",
       "<p>968 rows × 776 columns</p>\n",
       "</div>"
      ],
      "text/plain": [
       "     Unnamed: 0.1  Unnamed: 0     label  \\\n",
       "0               0         813   neutral   \n",
       "1               1        7130   neutral   \n",
       "2               2        3380   neutral   \n",
       "3               3        3008   neutral   \n",
       "4               4        7030   neutral   \n",
       "..            ...         ...       ...   \n",
       "963           963        4377  positive   \n",
       "964           964        5512  positive   \n",
       "965           965          56  positive   \n",
       "966           966        6239  positive   \n",
       "967           967        7046  positive   \n",
       "\n",
       "                                                  text  category  original_id  \\\n",
       "0                                @united I hope so too         0          813   \n",
       "1    @jetblue who's running your tweeter using the ...         0         7130   \n",
       "2    @united still waiting for a response on whethe...         0         3380   \n",
       "3    @united Based on suggestions from other passen...         0         3008   \n",
       "4    “@JetBlue: Our fleet's on fleek. http://t.co/Q...         0         7030   \n",
       "..                                                 ...       ...          ...   \n",
       "963  @SouthwestAir @heavenlychc9 I'd at least enjoy...         1         4377   \n",
       "964  @SouthwestAir I'll have to drop by next time I...         1         5512   \n",
       "965  @VirginAmerica you know it. Need it on my spot...         1           56   \n",
       "966  @SouthwestAir I'm really craving your pretzels...         1         6239   \n",
       "967  Power Moves RT @JetBlue: Our fleet's on fleek....         1         7046   \n",
       "\n",
       "     predicted_label     emb_0     emb_1     emb_2  ...   emb_759   emb_760  \\\n",
       "0                  1  0.701212  0.149414  1.801739  ... -0.631561  0.724360   \n",
       "1                  2 -0.095302  0.519799 -0.860941  ...  0.545532 -0.988797   \n",
       "2                  2  0.404428 -0.281564  1.098605  ... -0.336490 -0.060362   \n",
       "3                  2  0.580564 -0.417264  0.539577  ... -1.197115 -0.562455   \n",
       "4                  2  0.150641  0.191832  0.901386  ... -0.263758  0.017206   \n",
       "..               ...       ...       ...       ...  ...       ...       ...   \n",
       "963                0 -0.288926 -0.469544  0.763421  ... -1.082415 -0.697840   \n",
       "964                0 -0.287779 -0.133505  1.637628  ... -0.204185 -0.278846   \n",
       "965                0 -0.120062  0.689700  0.500194  ... -0.235210 -0.653002   \n",
       "966                0 -0.466340  0.289625 -0.217530  ... -0.835734 -0.458101   \n",
       "967                0  0.144981 -0.324572  1.059081  ... -0.459383 -0.432453   \n",
       "\n",
       "      emb_761   emb_762   emb_763   emb_764   emb_765   emb_766   emb_767  \\\n",
       "0   -0.479683  0.342981 -0.128573 -0.765833 -0.322237 -0.484272 -0.027367   \n",
       "1   -0.470753  0.221976 -0.781311  0.437286  0.007654 -0.176711  0.090562   \n",
       "2   -0.929268  0.410162  0.116782 -0.160092 -0.028493 -0.795741  0.037037   \n",
       "3   -0.443025 -0.123202 -0.652523 -0.151871  0.264033 -0.452444 -0.366747   \n",
       "4   -0.703940 -0.521036  0.051719  0.339595  0.206907 -0.883897  0.368364   \n",
       "..        ...       ...       ...       ...       ...       ...       ...   \n",
       "963 -0.485712 -0.417425  0.451793 -0.545403 -0.404581 -0.650430  0.245911   \n",
       "964  0.153048 -0.024744  0.142459 -0.391037 -0.188013 -0.114064  0.296878   \n",
       "965 -1.018101 -0.308710 -0.254051 -0.067138  0.288422 -0.103543 -0.275301   \n",
       "966 -1.050726 -0.012579  0.600473 -0.229492  0.395023 -0.019480  0.537425   \n",
       "967 -1.093191 -0.174370  0.032528  0.146126  0.184161 -0.432964 -0.284159   \n",
       "\n",
       "     cluster  \n",
       "0          3  \n",
       "1          1  \n",
       "2          5  \n",
       "3          5  \n",
       "4          1  \n",
       "..       ...  \n",
       "963        0  \n",
       "964        0  \n",
       "965        5  \n",
       "966        0  \n",
       "967        1  \n",
       "\n",
       "[968 rows x 776 columns]"
      ]
     },
     "execution_count": 245,
     "metadata": {},
     "output_type": "execute_result"
    }
   ],
   "source": [
    "df"
   ]
  },
  {
   "cell_type": "code",
   "execution_count": 249,
   "id": "68dd8ed4",
   "metadata": {},
   "outputs": [],
   "source": [
    "arr_emb = df2.to_numpy()"
   ]
  },
  {
   "cell_type": "code",
   "execution_count": 250,
   "id": "65a88bf0",
   "metadata": {},
   "outputs": [],
   "source": [
    "import umap"
   ]
  },
  {
   "cell_type": "code",
   "execution_count": 251,
   "id": "61276f28",
   "metadata": {},
   "outputs": [
    {
     "data": {
      "text/plain": [
       "(968, 2)"
      ]
     },
     "execution_count": 251,
     "metadata": {},
     "output_type": "execute_result"
    }
   ],
   "source": [
    "mapper = umap.UMAP().fit(arr_emb)\n",
    "twod = mapper.transform(arr_emb)\n",
    "twod.shape"
   ]
  },
  {
   "cell_type": "code",
   "execution_count": 252,
   "id": "49ffe6dd",
   "metadata": {},
   "outputs": [],
   "source": [
    "df[\"x\"] = twod[:, 0]\n",
    "df[\"y\"] = twod[:, 1]"
   ]
  },
  {
   "cell_type": "code",
   "execution_count": 424,
   "id": "2ba57f41",
   "metadata": {
    "scrolled": false
   },
   "outputs": [
    {
     "data": {
      "application/vnd.plotly.v1+json": {
       "config": {
        "plotlyServerURL": "https://plot.ly"
       },
       "data": [
        {
         "customdata": [
          [
           "@AmericanAir having trouble Flight Booking Problems a seat on US84 11 March, operated by AA. Neither airline's website will allow seat selection?",
           "negative",
           4,
           0
          ],
          [
           "@USAirways I do to as I have an afternoon Conference in Las Vegas and I would rather plan ahead than run thru the airport and then attempt",
           "negative",
           4,
           0
          ],
          [
           "@AmericanAir for tomorrow some sites show flight 1642 from ewr Cancelled Flightled, is it?",
           "negative",
           4,
           0
          ],
          [
           "@USAirways I don't think I've ever had a us airways flight that went smoothly.",
           "negative",
           4,
           1
          ],
          [
           "@USAirways are the bags off Flight 1898 CLT to JFK? We landed last night just before midnight.",
           "negative",
           4,
           0
          ],
          [
           "@VirginAmerica you're the best!! Whenever I (begrudgingly) use any other airline I'm delayed and Late Flight :(",
           "negative",
           4,
           1
          ],
          [
           "@SouthwestAir I left my iPad on my flight 1831 from ERW to DEN. I opened claim 442998. It has so many memories on it. Plz help get it back.",
           "negative",
           4,
           0
          ],
          [
           "@JetBlue is JFK still closed? Tryna get out of Ft Lauderdale on flight 502, just want to get home to nyc!",
           "negative",
           4,
           0
          ],
          [
           "@AmericanAir  when do you anticipate decisions for Cancelled Flightlations at DFW tomorrow morning? Need to rearrange hotel reservations, etc. ASAP!",
           "negative",
           4,
           0
          ],
          [
           "@USAirways right, can you use a shuttle ticket from LGA to BOS for any shuttle flight? Probably gonna miss the 4pm.",
           "negative",
           4,
           0
          ],
          [
           "@VirginAmerica soooo are you guys going to leave the seatbelt light on all flight? You can barely call this turbulence :-)",
           "negative",
           4,
           0
          ],
          [
           "@united I can't tell/purchase through the website because they put us on a Lufthansa flight for the first leg.",
           "negative",
           4,
           0
          ],
          [
           "@united it will be on a different airline.",
           "negative",
           4,
           0
          ],
          [
           "@USAirways will you hold #475 today for connecting passengers coming from delayed flights?",
           "negative",
           4,
           0
          ],
          [
           "@AmericanAir Has AA Flight 296 from San Antonio to Dallas been Cancelled Flighted?",
           "negative",
           4,
           0
          ],
          [
           "@AmericanAir: my brother's flight into DFW was Cancelled Flightled yesterday. Are you flying from ONT to DFW today?",
           "negative",
           4,
           0
          ],
          [
           "@JetBlue's CEO battles to appease passengers and Wall Street - Waterbury Republican American http://t.co/Ur60Un86gy",
           "negative",
           4,
           0
          ],
          [
           "@JetBlue can you ask SLC checkin/bag drop if they found a dark blue/blackish fit bit flex? Would've lost it there around 445pm MT",
           "negative",
           4,
           0
          ],
          [
           "@VirginAmerica please provide status for flight 769.  I cant imagine it's on time as the Web indicates  dude to weather here and/or Dallas",
           "negative",
           4,
           0
          ],
          [
           "@united do you expect to Cancelled Flight flights out of @DENAirport tomorrow morning given the storm?",
           "negative",
           4,
           0
          ],
          [
           "@AmericanAir Trying desperately to get my boyfriend booked on the same US Airways flight as myself for the same price. Can you help?",
           "negative",
           4,
           0
          ],
          [
           "@united €202.88 is the difference between the booked flights, do you want screen shots?",
           "negative",
           4,
           0
          ],
          [
           "@JetBlue ok we got as far as Atlantic City due to JFK being closed. Can you get us to HPN or LGA?? Please?",
           "negative",
           4,
           0
          ],
          [
           "@USAirways we are on the 2pm flight FLL to PHL and then connection to MAN. However, with the delays we might miss it. Can we go earlier?",
           "negative",
           4,
           0
          ],
          [
           "@VirginAmerica hi! I just bked a cool birthday trip with you, but i can't add my elevate no. cause i entered my middle name during Flight Booking Problems 😢",
           "negative",
           4,
           0
          ],
          [
           "@USAirways it is the same passenger, just her maiden name ended up as last name through online Flight Booking Problems.  Yes, understand non transferable",
           "negative",
           4,
           0
          ],
          [
           "@JetBlue no, I haven't done that yet. Is that something I can do online? Thx!",
           "negative",
           4,
           0
          ],
          [
           "@JetBlue Thanks. So the delay was the result of scheduling issues more than weather reLate Flightd problems?",
           "negative",
           4,
           0
          ],
          [
           "@SouthwestAir Hi! Just got my TSA pre-check # &amp; put it in my acct. But it's not on my boarding pass for a flight this p.m.Can it be updated?",
           "negative",
           4,
           0
          ],
          [
           "@AmericanAir is flight 2934 dfw to gsp going to be Cancelled Flightled tomorrow?",
           "negative",
           4,
           0
          ],
          [
           "@united all 4 of us are on standby in Houston tomorrow for flights to Calgary. If you could get us on one or two of those that would help",
           "negative",
           4,
           0
          ],
          [
           "@JetBlue 👍. I think I'll come take a nap at the terminal.  ;)",
           "negative",
           4,
           0
          ],
          [
           "@USAirways checked in last night @ airport by supervisor w boarding pass for 1A - boarding today seat changed to 7F. How does that happen?",
           "negative",
           4,
           0
          ],
          [
           "@JetBlue's CEO battles to appease passengers and Wall Street - @TheVDT http://t.co/h6cE3mWCqj",
           "negative",
           4,
           0
          ],
          [
           "@SouthwestAir Flight 4968 (N8325D) departs @MCO enroute to @NO_Airport http://t.co/fd4SnvKIeM",
           "negative",
           4,
           0
          ]
         ],
         "hovertemplate": "x=%{x}<br>y=%{y}<br>text=%{customdata[0]}<br>label=%{customdata[1]}<br>cluster=%{marker.color}<br>predicted_label=%{customdata[3]}<extra></extra>",
         "legendgroup": "",
         "marker": {
          "color": [
           4,
           4,
           4,
           4,
           4,
           4,
           4,
           4,
           4,
           4,
           4,
           4,
           4,
           4,
           4,
           4,
           4,
           4,
           4,
           4,
           4,
           4,
           4,
           4,
           4,
           4,
           4,
           4,
           4,
           4,
           4,
           4,
           4,
           4,
           4
          ],
          "coloraxis": "coloraxis",
          "symbol": "circle"
         },
         "mode": "markers",
         "name": "",
         "orientation": "v",
         "showlegend": false,
         "type": "scatter",
         "x": [
          3.716054916381836,
          3.3950307369232178,
          3.8873291015625,
          2.0374748706817627,
          1.5332527160644531,
          2.78547739982605,
          3.7790558338165283,
          3.3054027557373047,
          3.6335294246673584,
          3.5601236820220947,
          3.098759889602661,
          1.8932660818099976,
          2.1700551509857178,
          2.2599499225616455,
          3.744424819946289,
          3.6541833877563477,
          2.518941879272461,
          3.100877046585083,
          1.8750661611557007,
          3.767169237136841,
          1.9871697425842285,
          1.7748780250549316,
          3.354363441467285,
          3.1845204830169678,
          2.86969256401062,
          3.316840648651123,
          2.164605140686035,
          2.5017006397247314,
          4.206557273864746,
          3.799165964126587,
          1.9946681261062622,
          3.084965229034424,
          4.22440767288208,
          2.4994959831237793,
          4.762698650360107
         ],
         "xaxis": "x",
         "y": [
          13.382505416870117,
          13.305779457092285,
          14.556337356567383,
          12.85886001586914,
          15.247845649719238,
          13.546692848205566,
          12.661884307861328,
          13.814452171325684,
          14.05078411102295,
          13.67440128326416,
          14.348825454711914,
          14.07545280456543,
          15.164674758911133,
          13.351785659790039,
          14.586455345153809,
          14.313234329223633,
          15.340557098388672,
          14.26109790802002,
          14.466911315917969,
          14.351484298706055,
          14.154972076416016,
          13.565768241882324,
          14.296138763427734,
          13.123663902282715,
          13.352071762084961,
          12.978219985961914,
          15.723917007446289,
          13.60278606414795,
          12.845076560974121,
          14.469277381896973,
          14.02558422088623,
          14.579886436462402,
          13.261131286621094,
          15.415571212768555,
          13.242094039916992
         ],
         "yaxis": "y"
        }
       ],
       "layout": {
        "coloraxis": {
         "colorbar": {
          "title": {
           "text": "cluster"
          }
         },
         "colorscale": [
          [
           0,
           "#0d0887"
          ],
          [
           0.1111111111111111,
           "#46039f"
          ],
          [
           0.2222222222222222,
           "#7201a8"
          ],
          [
           0.3333333333333333,
           "#9c179e"
          ],
          [
           0.4444444444444444,
           "#bd3786"
          ],
          [
           0.5555555555555556,
           "#d8576b"
          ],
          [
           0.6666666666666666,
           "#ed7953"
          ],
          [
           0.7777777777777778,
           "#fb9f3a"
          ],
          [
           0.8888888888888888,
           "#fdca26"
          ],
          [
           1,
           "#f0f921"
          ]
         ]
        },
        "legend": {
         "tracegroupgap": 0
        },
        "margin": {
         "t": 60
        },
        "template": {
         "data": {
          "bar": [
           {
            "error_x": {
             "color": "#2a3f5f"
            },
            "error_y": {
             "color": "#2a3f5f"
            },
            "marker": {
             "line": {
              "color": "#E5ECF6",
              "width": 0.5
             },
             "pattern": {
              "fillmode": "overlay",
              "size": 10,
              "solidity": 0.2
             }
            },
            "type": "bar"
           }
          ],
          "barpolar": [
           {
            "marker": {
             "line": {
              "color": "#E5ECF6",
              "width": 0.5
             },
             "pattern": {
              "fillmode": "overlay",
              "size": 10,
              "solidity": 0.2
             }
            },
            "type": "barpolar"
           }
          ],
          "carpet": [
           {
            "aaxis": {
             "endlinecolor": "#2a3f5f",
             "gridcolor": "white",
             "linecolor": "white",
             "minorgridcolor": "white",
             "startlinecolor": "#2a3f5f"
            },
            "baxis": {
             "endlinecolor": "#2a3f5f",
             "gridcolor": "white",
             "linecolor": "white",
             "minorgridcolor": "white",
             "startlinecolor": "#2a3f5f"
            },
            "type": "carpet"
           }
          ],
          "choropleth": [
           {
            "colorbar": {
             "outlinewidth": 0,
             "ticks": ""
            },
            "type": "choropleth"
           }
          ],
          "contour": [
           {
            "colorbar": {
             "outlinewidth": 0,
             "ticks": ""
            },
            "colorscale": [
             [
              0,
              "#0d0887"
             ],
             [
              0.1111111111111111,
              "#46039f"
             ],
             [
              0.2222222222222222,
              "#7201a8"
             ],
             [
              0.3333333333333333,
              "#9c179e"
             ],
             [
              0.4444444444444444,
              "#bd3786"
             ],
             [
              0.5555555555555556,
              "#d8576b"
             ],
             [
              0.6666666666666666,
              "#ed7953"
             ],
             [
              0.7777777777777778,
              "#fb9f3a"
             ],
             [
              0.8888888888888888,
              "#fdca26"
             ],
             [
              1,
              "#f0f921"
             ]
            ],
            "type": "contour"
           }
          ],
          "contourcarpet": [
           {
            "colorbar": {
             "outlinewidth": 0,
             "ticks": ""
            },
            "type": "contourcarpet"
           }
          ],
          "heatmap": [
           {
            "colorbar": {
             "outlinewidth": 0,
             "ticks": ""
            },
            "colorscale": [
             [
              0,
              "#0d0887"
             ],
             [
              0.1111111111111111,
              "#46039f"
             ],
             [
              0.2222222222222222,
              "#7201a8"
             ],
             [
              0.3333333333333333,
              "#9c179e"
             ],
             [
              0.4444444444444444,
              "#bd3786"
             ],
             [
              0.5555555555555556,
              "#d8576b"
             ],
             [
              0.6666666666666666,
              "#ed7953"
             ],
             [
              0.7777777777777778,
              "#fb9f3a"
             ],
             [
              0.8888888888888888,
              "#fdca26"
             ],
             [
              1,
              "#f0f921"
             ]
            ],
            "type": "heatmap"
           }
          ],
          "heatmapgl": [
           {
            "colorbar": {
             "outlinewidth": 0,
             "ticks": ""
            },
            "colorscale": [
             [
              0,
              "#0d0887"
             ],
             [
              0.1111111111111111,
              "#46039f"
             ],
             [
              0.2222222222222222,
              "#7201a8"
             ],
             [
              0.3333333333333333,
              "#9c179e"
             ],
             [
              0.4444444444444444,
              "#bd3786"
             ],
             [
              0.5555555555555556,
              "#d8576b"
             ],
             [
              0.6666666666666666,
              "#ed7953"
             ],
             [
              0.7777777777777778,
              "#fb9f3a"
             ],
             [
              0.8888888888888888,
              "#fdca26"
             ],
             [
              1,
              "#f0f921"
             ]
            ],
            "type": "heatmapgl"
           }
          ],
          "histogram": [
           {
            "marker": {
             "pattern": {
              "fillmode": "overlay",
              "size": 10,
              "solidity": 0.2
             }
            },
            "type": "histogram"
           }
          ],
          "histogram2d": [
           {
            "colorbar": {
             "outlinewidth": 0,
             "ticks": ""
            },
            "colorscale": [
             [
              0,
              "#0d0887"
             ],
             [
              0.1111111111111111,
              "#46039f"
             ],
             [
              0.2222222222222222,
              "#7201a8"
             ],
             [
              0.3333333333333333,
              "#9c179e"
             ],
             [
              0.4444444444444444,
              "#bd3786"
             ],
             [
              0.5555555555555556,
              "#d8576b"
             ],
             [
              0.6666666666666666,
              "#ed7953"
             ],
             [
              0.7777777777777778,
              "#fb9f3a"
             ],
             [
              0.8888888888888888,
              "#fdca26"
             ],
             [
              1,
              "#f0f921"
             ]
            ],
            "type": "histogram2d"
           }
          ],
          "histogram2dcontour": [
           {
            "colorbar": {
             "outlinewidth": 0,
             "ticks": ""
            },
            "colorscale": [
             [
              0,
              "#0d0887"
             ],
             [
              0.1111111111111111,
              "#46039f"
             ],
             [
              0.2222222222222222,
              "#7201a8"
             ],
             [
              0.3333333333333333,
              "#9c179e"
             ],
             [
              0.4444444444444444,
              "#bd3786"
             ],
             [
              0.5555555555555556,
              "#d8576b"
             ],
             [
              0.6666666666666666,
              "#ed7953"
             ],
             [
              0.7777777777777778,
              "#fb9f3a"
             ],
             [
              0.8888888888888888,
              "#fdca26"
             ],
             [
              1,
              "#f0f921"
             ]
            ],
            "type": "histogram2dcontour"
           }
          ],
          "mesh3d": [
           {
            "colorbar": {
             "outlinewidth": 0,
             "ticks": ""
            },
            "type": "mesh3d"
           }
          ],
          "parcoords": [
           {
            "line": {
             "colorbar": {
              "outlinewidth": 0,
              "ticks": ""
             }
            },
            "type": "parcoords"
           }
          ],
          "pie": [
           {
            "automargin": true,
            "type": "pie"
           }
          ],
          "scatter": [
           {
            "marker": {
             "colorbar": {
              "outlinewidth": 0,
              "ticks": ""
             }
            },
            "type": "scatter"
           }
          ],
          "scatter3d": [
           {
            "line": {
             "colorbar": {
              "outlinewidth": 0,
              "ticks": ""
             }
            },
            "marker": {
             "colorbar": {
              "outlinewidth": 0,
              "ticks": ""
             }
            },
            "type": "scatter3d"
           }
          ],
          "scattercarpet": [
           {
            "marker": {
             "colorbar": {
              "outlinewidth": 0,
              "ticks": ""
             }
            },
            "type": "scattercarpet"
           }
          ],
          "scattergeo": [
           {
            "marker": {
             "colorbar": {
              "outlinewidth": 0,
              "ticks": ""
             }
            },
            "type": "scattergeo"
           }
          ],
          "scattergl": [
           {
            "marker": {
             "colorbar": {
              "outlinewidth": 0,
              "ticks": ""
             }
            },
            "type": "scattergl"
           }
          ],
          "scattermapbox": [
           {
            "marker": {
             "colorbar": {
              "outlinewidth": 0,
              "ticks": ""
             }
            },
            "type": "scattermapbox"
           }
          ],
          "scatterpolar": [
           {
            "marker": {
             "colorbar": {
              "outlinewidth": 0,
              "ticks": ""
             }
            },
            "type": "scatterpolar"
           }
          ],
          "scatterpolargl": [
           {
            "marker": {
             "colorbar": {
              "outlinewidth": 0,
              "ticks": ""
             }
            },
            "type": "scatterpolargl"
           }
          ],
          "scatterternary": [
           {
            "marker": {
             "colorbar": {
              "outlinewidth": 0,
              "ticks": ""
             }
            },
            "type": "scatterternary"
           }
          ],
          "surface": [
           {
            "colorbar": {
             "outlinewidth": 0,
             "ticks": ""
            },
            "colorscale": [
             [
              0,
              "#0d0887"
             ],
             [
              0.1111111111111111,
              "#46039f"
             ],
             [
              0.2222222222222222,
              "#7201a8"
             ],
             [
              0.3333333333333333,
              "#9c179e"
             ],
             [
              0.4444444444444444,
              "#bd3786"
             ],
             [
              0.5555555555555556,
              "#d8576b"
             ],
             [
              0.6666666666666666,
              "#ed7953"
             ],
             [
              0.7777777777777778,
              "#fb9f3a"
             ],
             [
              0.8888888888888888,
              "#fdca26"
             ],
             [
              1,
              "#f0f921"
             ]
            ],
            "type": "surface"
           }
          ],
          "table": [
           {
            "cells": {
             "fill": {
              "color": "#EBF0F8"
             },
             "line": {
              "color": "white"
             }
            },
            "header": {
             "fill": {
              "color": "#C8D4E3"
             },
             "line": {
              "color": "white"
             }
            },
            "type": "table"
           }
          ]
         },
         "layout": {
          "annotationdefaults": {
           "arrowcolor": "#2a3f5f",
           "arrowhead": 0,
           "arrowwidth": 1
          },
          "autotypenumbers": "strict",
          "coloraxis": {
           "colorbar": {
            "outlinewidth": 0,
            "ticks": ""
           }
          },
          "colorscale": {
           "diverging": [
            [
             0,
             "#8e0152"
            ],
            [
             0.1,
             "#c51b7d"
            ],
            [
             0.2,
             "#de77ae"
            ],
            [
             0.3,
             "#f1b6da"
            ],
            [
             0.4,
             "#fde0ef"
            ],
            [
             0.5,
             "#f7f7f7"
            ],
            [
             0.6,
             "#e6f5d0"
            ],
            [
             0.7,
             "#b8e186"
            ],
            [
             0.8,
             "#7fbc41"
            ],
            [
             0.9,
             "#4d9221"
            ],
            [
             1,
             "#276419"
            ]
           ],
           "sequential": [
            [
             0,
             "#0d0887"
            ],
            [
             0.1111111111111111,
             "#46039f"
            ],
            [
             0.2222222222222222,
             "#7201a8"
            ],
            [
             0.3333333333333333,
             "#9c179e"
            ],
            [
             0.4444444444444444,
             "#bd3786"
            ],
            [
             0.5555555555555556,
             "#d8576b"
            ],
            [
             0.6666666666666666,
             "#ed7953"
            ],
            [
             0.7777777777777778,
             "#fb9f3a"
            ],
            [
             0.8888888888888888,
             "#fdca26"
            ],
            [
             1,
             "#f0f921"
            ]
           ],
           "sequentialminus": [
            [
             0,
             "#0d0887"
            ],
            [
             0.1111111111111111,
             "#46039f"
            ],
            [
             0.2222222222222222,
             "#7201a8"
            ],
            [
             0.3333333333333333,
             "#9c179e"
            ],
            [
             0.4444444444444444,
             "#bd3786"
            ],
            [
             0.5555555555555556,
             "#d8576b"
            ],
            [
             0.6666666666666666,
             "#ed7953"
            ],
            [
             0.7777777777777778,
             "#fb9f3a"
            ],
            [
             0.8888888888888888,
             "#fdca26"
            ],
            [
             1,
             "#f0f921"
            ]
           ]
          },
          "colorway": [
           "#636efa",
           "#EF553B",
           "#00cc96",
           "#ab63fa",
           "#FFA15A",
           "#19d3f3",
           "#FF6692",
           "#B6E880",
           "#FF97FF",
           "#FECB52"
          ],
          "font": {
           "color": "#2a3f5f"
          },
          "geo": {
           "bgcolor": "white",
           "lakecolor": "white",
           "landcolor": "#E5ECF6",
           "showlakes": true,
           "showland": true,
           "subunitcolor": "white"
          },
          "hoverlabel": {
           "align": "left"
          },
          "hovermode": "closest",
          "mapbox": {
           "style": "light"
          },
          "paper_bgcolor": "white",
          "plot_bgcolor": "#E5ECF6",
          "polar": {
           "angularaxis": {
            "gridcolor": "white",
            "linecolor": "white",
            "ticks": ""
           },
           "bgcolor": "#E5ECF6",
           "radialaxis": {
            "gridcolor": "white",
            "linecolor": "white",
            "ticks": ""
           }
          },
          "scene": {
           "xaxis": {
            "backgroundcolor": "#E5ECF6",
            "gridcolor": "white",
            "gridwidth": 2,
            "linecolor": "white",
            "showbackground": true,
            "ticks": "",
            "zerolinecolor": "white"
           },
           "yaxis": {
            "backgroundcolor": "#E5ECF6",
            "gridcolor": "white",
            "gridwidth": 2,
            "linecolor": "white",
            "showbackground": true,
            "ticks": "",
            "zerolinecolor": "white"
           },
           "zaxis": {
            "backgroundcolor": "#E5ECF6",
            "gridcolor": "white",
            "gridwidth": 2,
            "linecolor": "white",
            "showbackground": true,
            "ticks": "",
            "zerolinecolor": "white"
           }
          },
          "shapedefaults": {
           "line": {
            "color": "#2a3f5f"
           }
          },
          "ternary": {
           "aaxis": {
            "gridcolor": "white",
            "linecolor": "white",
            "ticks": ""
           },
           "baxis": {
            "gridcolor": "white",
            "linecolor": "white",
            "ticks": ""
           },
           "bgcolor": "#E5ECF6",
           "caxis": {
            "gridcolor": "white",
            "linecolor": "white",
            "ticks": ""
           }
          },
          "title": {
           "x": 0.05
          },
          "xaxis": {
           "automargin": true,
           "gridcolor": "white",
           "linecolor": "white",
           "ticks": "",
           "title": {
            "standoff": 15
           },
           "zerolinecolor": "white",
           "zerolinewidth": 2
          },
          "yaxis": {
           "automargin": true,
           "gridcolor": "white",
           "linecolor": "white",
           "ticks": "",
           "title": {
            "standoff": 15
           },
           "zerolinecolor": "white",
           "zerolinewidth": 2
          }
         }
        },
        "xaxis": {
         "anchor": "y",
         "domain": [
          0,
          1
         ],
         "title": {
          "text": "x"
         }
        },
        "yaxis": {
         "anchor": "x",
         "domain": [
          0,
          1
         ],
         "title": {
          "text": "y"
         }
        }
       }
      },
      "text/html": [
       "<div>                            <div id=\"6e48b9f3-a83d-44a1-a3f0-7ec3d6a7d3f9\" class=\"plotly-graph-div\" style=\"height:525px; width:100%;\"></div>            <script type=\"text/javascript\">                require([\"plotly\"], function(Plotly) {                    window.PLOTLYENV=window.PLOTLYENV || {};                                    if (document.getElementById(\"6e48b9f3-a83d-44a1-a3f0-7ec3d6a7d3f9\")) {                    Plotly.newPlot(                        \"6e48b9f3-a83d-44a1-a3f0-7ec3d6a7d3f9\",                        [{\"customdata\":[[\"@AmericanAir having trouble Flight Booking Problems a seat on US84 11 March, operated by AA. Neither airline's website will allow seat selection?\",\"negative\",4,0],[\"@USAirways I do to as I have an afternoon Conference in Las Vegas and I would rather plan ahead than run thru the airport and then attempt\",\"negative\",4,0],[\"@AmericanAir for tomorrow some sites show flight 1642 from ewr Cancelled Flightled, is it?\",\"negative\",4,0],[\"@USAirways I don't think I've ever had a us airways flight that went smoothly.\",\"negative\",4,1],[\"@USAirways are the bags off Flight 1898 CLT to JFK? We landed last night just before midnight.\",\"negative\",4,0],[\"@VirginAmerica you're the best!! Whenever I (begrudgingly) use any other airline I'm delayed and Late Flight :(\",\"negative\",4,1],[\"@SouthwestAir I left my iPad on my flight 1831 from ERW to DEN. I opened claim 442998. It has so many memories on it. Plz help get it back.\",\"negative\",4,0],[\"@JetBlue is JFK still closed? Tryna get out of Ft Lauderdale on flight 502, just want to get home to nyc!\",\"negative\",4,0],[\"@AmericanAir  when do you anticipate decisions for Cancelled Flightlations at DFW tomorrow morning? Need to rearrange hotel reservations, etc. ASAP!\",\"negative\",4,0],[\"@USAirways right, can you use a shuttle ticket from LGA to BOS for any shuttle flight? Probably gonna miss the 4pm.\",\"negative\",4,0],[\"@VirginAmerica soooo are you guys going to leave the seatbelt light on all flight? You can barely call this turbulence :-)\",\"negative\",4,0],[\"@united I can't tell/purchase through the website because they put us on a Lufthansa flight for the first leg.\",\"negative\",4,0],[\"@united it will be on a different airline.\",\"negative\",4,0],[\"@USAirways will you hold #475 today for connecting passengers coming from delayed flights?\",\"negative\",4,0],[\"@AmericanAir Has AA Flight 296 from San Antonio to Dallas been Cancelled Flighted?\",\"negative\",4,0],[\"@AmericanAir: my brother's flight into DFW was Cancelled Flightled yesterday. Are you flying from ONT to DFW today?\",\"negative\",4,0],[\"@JetBlue's CEO battles to appease passengers and Wall Street - Waterbury Republican American http://t.co/Ur60Un86gy\",\"negative\",4,0],[\"@JetBlue can you ask SLC checkin/bag drop if they found a dark blue/blackish fit bit flex? Would've lost it there around 445pm MT\",\"negative\",4,0],[\"@VirginAmerica please provide status for flight 769.  I cant imagine it's on time as the Web indicates  dude to weather here and/or Dallas\",\"negative\",4,0],[\"@united do you expect to Cancelled Flight flights out of @DENAirport tomorrow morning given the storm?\",\"negative\",4,0],[\"@AmericanAir Trying desperately to get my boyfriend booked on the same US Airways flight as myself for the same price. Can you help?\",\"negative\",4,0],[\"@united \\u20ac202.88 is the difference between the booked flights, do you want screen shots?\",\"negative\",4,0],[\"@JetBlue ok we got as far as Atlantic City due to JFK being closed. Can you get us to HPN or LGA?? Please?\",\"negative\",4,0],[\"@USAirways we are on the 2pm flight FLL to PHL and then connection to MAN. However, with the delays we might miss it. Can we go earlier?\",\"negative\",4,0],[\"@VirginAmerica hi! I just bked a cool birthday trip with you, but i can't add my elevate no. cause i entered my middle name during Flight Booking Problems \\ud83d\\ude22\",\"negative\",4,0],[\"@USAirways it is the same passenger, just her maiden name ended up as last name through online Flight Booking Problems.  Yes, understand non transferable\",\"negative\",4,0],[\"@JetBlue no, I haven't done that yet. Is that something I can do online? Thx!\",\"negative\",4,0],[\"@JetBlue Thanks. So the delay was the result of scheduling issues more than weather reLate Flightd problems?\",\"negative\",4,0],[\"@SouthwestAir Hi! Just got my TSA pre-check # &amp; put it in my acct. But it's not on my boarding pass for a flight this p.m.Can it be updated?\",\"negative\",4,0],[\"@AmericanAir is flight 2934 dfw to gsp going to be Cancelled Flightled tomorrow?\",\"negative\",4,0],[\"@united all 4 of us are on standby in Houston tomorrow for flights to Calgary. If you could get us on one or two of those that would help\",\"negative\",4,0],[\"@JetBlue \\ud83d\\udc4d. I think I'll come take a nap at the terminal.  ;)\",\"negative\",4,0],[\"@USAirways checked in last night @ airport by supervisor w boarding pass for 1A - boarding today seat changed to 7F. How does that happen?\",\"negative\",4,0],[\"@JetBlue's CEO battles to appease passengers and Wall Street - @TheVDT http://t.co/h6cE3mWCqj\",\"negative\",4,0],[\"@SouthwestAir Flight 4968 (N8325D) departs @MCO enroute to @NO_Airport http://t.co/fd4SnvKIeM\",\"negative\",4,0]],\"hovertemplate\":\"x=%{x}<br>y=%{y}<br>text=%{customdata[0]}<br>label=%{customdata[1]}<br>cluster=%{marker.color}<br>predicted_label=%{customdata[3]}<extra></extra>\",\"legendgroup\":\"\",\"marker\":{\"color\":[4,4,4,4,4,4,4,4,4,4,4,4,4,4,4,4,4,4,4,4,4,4,4,4,4,4,4,4,4,4,4,4,4,4,4],\"coloraxis\":\"coloraxis\",\"symbol\":\"circle\"},\"mode\":\"markers\",\"name\":\"\",\"orientation\":\"v\",\"showlegend\":false,\"x\":[3.716054916381836,3.3950307369232178,3.8873291015625,2.0374748706817627,1.5332527160644531,2.78547739982605,3.7790558338165283,3.3054027557373047,3.6335294246673584,3.5601236820220947,3.098759889602661,1.8932660818099976,2.1700551509857178,2.2599499225616455,3.744424819946289,3.6541833877563477,2.518941879272461,3.100877046585083,1.8750661611557007,3.767169237136841,1.9871697425842285,1.7748780250549316,3.354363441467285,3.1845204830169678,2.86969256401062,3.316840648651123,2.164605140686035,2.5017006397247314,4.206557273864746,3.799165964126587,1.9946681261062622,3.084965229034424,4.22440767288208,2.4994959831237793,4.762698650360107],\"xaxis\":\"x\",\"y\":[13.382505416870117,13.305779457092285,14.556337356567383,12.85886001586914,15.247845649719238,13.546692848205566,12.661884307861328,13.814452171325684,14.05078411102295,13.67440128326416,14.348825454711914,14.07545280456543,15.164674758911133,13.351785659790039,14.586455345153809,14.313234329223633,15.340557098388672,14.26109790802002,14.466911315917969,14.351484298706055,14.154972076416016,13.565768241882324,14.296138763427734,13.123663902282715,13.352071762084961,12.978219985961914,15.723917007446289,13.60278606414795,12.845076560974121,14.469277381896973,14.02558422088623,14.579886436462402,13.261131286621094,15.415571212768555,13.242094039916992],\"yaxis\":\"y\",\"type\":\"scatter\"}],                        {\"template\":{\"data\":{\"bar\":[{\"error_x\":{\"color\":\"#2a3f5f\"},\"error_y\":{\"color\":\"#2a3f5f\"},\"marker\":{\"line\":{\"color\":\"#E5ECF6\",\"width\":0.5},\"pattern\":{\"fillmode\":\"overlay\",\"size\":10,\"solidity\":0.2}},\"type\":\"bar\"}],\"barpolar\":[{\"marker\":{\"line\":{\"color\":\"#E5ECF6\",\"width\":0.5},\"pattern\":{\"fillmode\":\"overlay\",\"size\":10,\"solidity\":0.2}},\"type\":\"barpolar\"}],\"carpet\":[{\"aaxis\":{\"endlinecolor\":\"#2a3f5f\",\"gridcolor\":\"white\",\"linecolor\":\"white\",\"minorgridcolor\":\"white\",\"startlinecolor\":\"#2a3f5f\"},\"baxis\":{\"endlinecolor\":\"#2a3f5f\",\"gridcolor\":\"white\",\"linecolor\":\"white\",\"minorgridcolor\":\"white\",\"startlinecolor\":\"#2a3f5f\"},\"type\":\"carpet\"}],\"choropleth\":[{\"colorbar\":{\"outlinewidth\":0,\"ticks\":\"\"},\"type\":\"choropleth\"}],\"contour\":[{\"colorbar\":{\"outlinewidth\":0,\"ticks\":\"\"},\"colorscale\":[[0.0,\"#0d0887\"],[0.1111111111111111,\"#46039f\"],[0.2222222222222222,\"#7201a8\"],[0.3333333333333333,\"#9c179e\"],[0.4444444444444444,\"#bd3786\"],[0.5555555555555556,\"#d8576b\"],[0.6666666666666666,\"#ed7953\"],[0.7777777777777778,\"#fb9f3a\"],[0.8888888888888888,\"#fdca26\"],[1.0,\"#f0f921\"]],\"type\":\"contour\"}],\"contourcarpet\":[{\"colorbar\":{\"outlinewidth\":0,\"ticks\":\"\"},\"type\":\"contourcarpet\"}],\"heatmap\":[{\"colorbar\":{\"outlinewidth\":0,\"ticks\":\"\"},\"colorscale\":[[0.0,\"#0d0887\"],[0.1111111111111111,\"#46039f\"],[0.2222222222222222,\"#7201a8\"],[0.3333333333333333,\"#9c179e\"],[0.4444444444444444,\"#bd3786\"],[0.5555555555555556,\"#d8576b\"],[0.6666666666666666,\"#ed7953\"],[0.7777777777777778,\"#fb9f3a\"],[0.8888888888888888,\"#fdca26\"],[1.0,\"#f0f921\"]],\"type\":\"heatmap\"}],\"heatmapgl\":[{\"colorbar\":{\"outlinewidth\":0,\"ticks\":\"\"},\"colorscale\":[[0.0,\"#0d0887\"],[0.1111111111111111,\"#46039f\"],[0.2222222222222222,\"#7201a8\"],[0.3333333333333333,\"#9c179e\"],[0.4444444444444444,\"#bd3786\"],[0.5555555555555556,\"#d8576b\"],[0.6666666666666666,\"#ed7953\"],[0.7777777777777778,\"#fb9f3a\"],[0.8888888888888888,\"#fdca26\"],[1.0,\"#f0f921\"]],\"type\":\"heatmapgl\"}],\"histogram\":[{\"marker\":{\"pattern\":{\"fillmode\":\"overlay\",\"size\":10,\"solidity\":0.2}},\"type\":\"histogram\"}],\"histogram2d\":[{\"colorbar\":{\"outlinewidth\":0,\"ticks\":\"\"},\"colorscale\":[[0.0,\"#0d0887\"],[0.1111111111111111,\"#46039f\"],[0.2222222222222222,\"#7201a8\"],[0.3333333333333333,\"#9c179e\"],[0.4444444444444444,\"#bd3786\"],[0.5555555555555556,\"#d8576b\"],[0.6666666666666666,\"#ed7953\"],[0.7777777777777778,\"#fb9f3a\"],[0.8888888888888888,\"#fdca26\"],[1.0,\"#f0f921\"]],\"type\":\"histogram2d\"}],\"histogram2dcontour\":[{\"colorbar\":{\"outlinewidth\":0,\"ticks\":\"\"},\"colorscale\":[[0.0,\"#0d0887\"],[0.1111111111111111,\"#46039f\"],[0.2222222222222222,\"#7201a8\"],[0.3333333333333333,\"#9c179e\"],[0.4444444444444444,\"#bd3786\"],[0.5555555555555556,\"#d8576b\"],[0.6666666666666666,\"#ed7953\"],[0.7777777777777778,\"#fb9f3a\"],[0.8888888888888888,\"#fdca26\"],[1.0,\"#f0f921\"]],\"type\":\"histogram2dcontour\"}],\"mesh3d\":[{\"colorbar\":{\"outlinewidth\":0,\"ticks\":\"\"},\"type\":\"mesh3d\"}],\"parcoords\":[{\"line\":{\"colorbar\":{\"outlinewidth\":0,\"ticks\":\"\"}},\"type\":\"parcoords\"}],\"pie\":[{\"automargin\":true,\"type\":\"pie\"}],\"scatter\":[{\"marker\":{\"colorbar\":{\"outlinewidth\":0,\"ticks\":\"\"}},\"type\":\"scatter\"}],\"scatter3d\":[{\"line\":{\"colorbar\":{\"outlinewidth\":0,\"ticks\":\"\"}},\"marker\":{\"colorbar\":{\"outlinewidth\":0,\"ticks\":\"\"}},\"type\":\"scatter3d\"}],\"scattercarpet\":[{\"marker\":{\"colorbar\":{\"outlinewidth\":0,\"ticks\":\"\"}},\"type\":\"scattercarpet\"}],\"scattergeo\":[{\"marker\":{\"colorbar\":{\"outlinewidth\":0,\"ticks\":\"\"}},\"type\":\"scattergeo\"}],\"scattergl\":[{\"marker\":{\"colorbar\":{\"outlinewidth\":0,\"ticks\":\"\"}},\"type\":\"scattergl\"}],\"scattermapbox\":[{\"marker\":{\"colorbar\":{\"outlinewidth\":0,\"ticks\":\"\"}},\"type\":\"scattermapbox\"}],\"scatterpolar\":[{\"marker\":{\"colorbar\":{\"outlinewidth\":0,\"ticks\":\"\"}},\"type\":\"scatterpolar\"}],\"scatterpolargl\":[{\"marker\":{\"colorbar\":{\"outlinewidth\":0,\"ticks\":\"\"}},\"type\":\"scatterpolargl\"}],\"scatterternary\":[{\"marker\":{\"colorbar\":{\"outlinewidth\":0,\"ticks\":\"\"}},\"type\":\"scatterternary\"}],\"surface\":[{\"colorbar\":{\"outlinewidth\":0,\"ticks\":\"\"},\"colorscale\":[[0.0,\"#0d0887\"],[0.1111111111111111,\"#46039f\"],[0.2222222222222222,\"#7201a8\"],[0.3333333333333333,\"#9c179e\"],[0.4444444444444444,\"#bd3786\"],[0.5555555555555556,\"#d8576b\"],[0.6666666666666666,\"#ed7953\"],[0.7777777777777778,\"#fb9f3a\"],[0.8888888888888888,\"#fdca26\"],[1.0,\"#f0f921\"]],\"type\":\"surface\"}],\"table\":[{\"cells\":{\"fill\":{\"color\":\"#EBF0F8\"},\"line\":{\"color\":\"white\"}},\"header\":{\"fill\":{\"color\":\"#C8D4E3\"},\"line\":{\"color\":\"white\"}},\"type\":\"table\"}]},\"layout\":{\"annotationdefaults\":{\"arrowcolor\":\"#2a3f5f\",\"arrowhead\":0,\"arrowwidth\":1},\"autotypenumbers\":\"strict\",\"coloraxis\":{\"colorbar\":{\"outlinewidth\":0,\"ticks\":\"\"}},\"colorscale\":{\"diverging\":[[0,\"#8e0152\"],[0.1,\"#c51b7d\"],[0.2,\"#de77ae\"],[0.3,\"#f1b6da\"],[0.4,\"#fde0ef\"],[0.5,\"#f7f7f7\"],[0.6,\"#e6f5d0\"],[0.7,\"#b8e186\"],[0.8,\"#7fbc41\"],[0.9,\"#4d9221\"],[1,\"#276419\"]],\"sequential\":[[0.0,\"#0d0887\"],[0.1111111111111111,\"#46039f\"],[0.2222222222222222,\"#7201a8\"],[0.3333333333333333,\"#9c179e\"],[0.4444444444444444,\"#bd3786\"],[0.5555555555555556,\"#d8576b\"],[0.6666666666666666,\"#ed7953\"],[0.7777777777777778,\"#fb9f3a\"],[0.8888888888888888,\"#fdca26\"],[1.0,\"#f0f921\"]],\"sequentialminus\":[[0.0,\"#0d0887\"],[0.1111111111111111,\"#46039f\"],[0.2222222222222222,\"#7201a8\"],[0.3333333333333333,\"#9c179e\"],[0.4444444444444444,\"#bd3786\"],[0.5555555555555556,\"#d8576b\"],[0.6666666666666666,\"#ed7953\"],[0.7777777777777778,\"#fb9f3a\"],[0.8888888888888888,\"#fdca26\"],[1.0,\"#f0f921\"]]},\"colorway\":[\"#636efa\",\"#EF553B\",\"#00cc96\",\"#ab63fa\",\"#FFA15A\",\"#19d3f3\",\"#FF6692\",\"#B6E880\",\"#FF97FF\",\"#FECB52\"],\"font\":{\"color\":\"#2a3f5f\"},\"geo\":{\"bgcolor\":\"white\",\"lakecolor\":\"white\",\"landcolor\":\"#E5ECF6\",\"showlakes\":true,\"showland\":true,\"subunitcolor\":\"white\"},\"hoverlabel\":{\"align\":\"left\"},\"hovermode\":\"closest\",\"mapbox\":{\"style\":\"light\"},\"paper_bgcolor\":\"white\",\"plot_bgcolor\":\"#E5ECF6\",\"polar\":{\"angularaxis\":{\"gridcolor\":\"white\",\"linecolor\":\"white\",\"ticks\":\"\"},\"bgcolor\":\"#E5ECF6\",\"radialaxis\":{\"gridcolor\":\"white\",\"linecolor\":\"white\",\"ticks\":\"\"}},\"scene\":{\"xaxis\":{\"backgroundcolor\":\"#E5ECF6\",\"gridcolor\":\"white\",\"gridwidth\":2,\"linecolor\":\"white\",\"showbackground\":true,\"ticks\":\"\",\"zerolinecolor\":\"white\"},\"yaxis\":{\"backgroundcolor\":\"#E5ECF6\",\"gridcolor\":\"white\",\"gridwidth\":2,\"linecolor\":\"white\",\"showbackground\":true,\"ticks\":\"\",\"zerolinecolor\":\"white\"},\"zaxis\":{\"backgroundcolor\":\"#E5ECF6\",\"gridcolor\":\"white\",\"gridwidth\":2,\"linecolor\":\"white\",\"showbackground\":true,\"ticks\":\"\",\"zerolinecolor\":\"white\"}},\"shapedefaults\":{\"line\":{\"color\":\"#2a3f5f\"}},\"ternary\":{\"aaxis\":{\"gridcolor\":\"white\",\"linecolor\":\"white\",\"ticks\":\"\"},\"baxis\":{\"gridcolor\":\"white\",\"linecolor\":\"white\",\"ticks\":\"\"},\"bgcolor\":\"#E5ECF6\",\"caxis\":{\"gridcolor\":\"white\",\"linecolor\":\"white\",\"ticks\":\"\"}},\"title\":{\"x\":0.05},\"xaxis\":{\"automargin\":true,\"gridcolor\":\"white\",\"linecolor\":\"white\",\"ticks\":\"\",\"title\":{\"standoff\":15},\"zerolinecolor\":\"white\",\"zerolinewidth\":2},\"yaxis\":{\"automargin\":true,\"gridcolor\":\"white\",\"linecolor\":\"white\",\"ticks\":\"\",\"title\":{\"standoff\":15},\"zerolinecolor\":\"white\",\"zerolinewidth\":2}}},\"xaxis\":{\"anchor\":\"y\",\"domain\":[0.0,1.0],\"title\":{\"text\":\"x\"}},\"yaxis\":{\"anchor\":\"x\",\"domain\":[0.0,1.0],\"title\":{\"text\":\"y\"}},\"coloraxis\":{\"colorbar\":{\"title\":{\"text\":\"cluster\"}},\"colorscale\":[[0.0,\"#0d0887\"],[0.1111111111111111,\"#46039f\"],[0.2222222222222222,\"#7201a8\"],[0.3333333333333333,\"#9c179e\"],[0.4444444444444444,\"#bd3786\"],[0.5555555555555556,\"#d8576b\"],[0.6666666666666666,\"#ed7953\"],[0.7777777777777778,\"#fb9f3a\"],[0.8888888888888888,\"#fdca26\"],[1.0,\"#f0f921\"]]},\"legend\":{\"tracegroupgap\":0},\"margin\":{\"t\":60}},                        {\"responsive\": true}                    ).then(function(){\n",
       "                            \n",
       "var gd = document.getElementById('6e48b9f3-a83d-44a1-a3f0-7ec3d6a7d3f9');\n",
       "var x = new MutationObserver(function (mutations, observer) {{\n",
       "        var display = window.getComputedStyle(gd).display;\n",
       "        if (!display || display === 'none') {{\n",
       "            console.log([gd, 'removed!']);\n",
       "            Plotly.purge(gd);\n",
       "            observer.disconnect();\n",
       "        }}\n",
       "}});\n",
       "\n",
       "// Listen for the removal of the full notebook cells\n",
       "var notebookContainer = gd.closest('#notebook-container');\n",
       "if (notebookContainer) {{\n",
       "    x.observe(notebookContainer, {childList: true});\n",
       "}}\n",
       "\n",
       "// Listen for the clearing of the current output cell\n",
       "var outputEl = gd.closest('.output');\n",
       "if (outputEl) {{\n",
       "    x.observe(outputEl, {childList: true});\n",
       "}}\n",
       "\n",
       "                        })                };                });            </script>        </div>"
      ]
     },
     "metadata": {},
     "output_type": "display_data"
    }
   ],
   "source": [
    "import plotly.express as px\n",
    "\n",
    "fig = px.scatter(\n",
    "    df.loc[(df[\"label\"] == \"negative\") & (df[\"cluster\"] == 4)], x='x', y='y', color='cluster', hover_data=['x', 'y', 'text', 'label', 'cluster', 'predicted_label'])\n",
    "\n",
    "fig.show()"
   ]
  },
  {
   "cell_type": "code",
   "execution_count": 425,
   "id": "3a81e8fc",
   "metadata": {},
   "outputs": [],
   "source": [
    "cluster = 4\n",
    "label = \"negative\"\n"
   ]
  },
  {
   "cell_type": "code",
   "execution_count": 426,
   "id": "d3b01533",
   "metadata": {
    "scrolled": true
   },
   "outputs": [
    {
     "name": "stdout",
     "output_type": "stream",
     "text": [
      "@AmericanAir having trouble Flight Booking Problems a seat on US84 11 March, operated by AA. Neither airline's website will allow seat selection?\n",
      "\n",
      "@USAirways I do to as I have an afternoon Conference in Las Vegas and I would rather plan ahead than run thru the airport and then attempt\n",
      "\n",
      "@AmericanAir for tomorrow some sites show flight 1642 from ewr Cancelled Flightled, is it?\n",
      "\n",
      "@USAirways I don't think I've ever had a us airways flight that went smoothly.\n",
      "\n",
      "@USAirways are the bags off Flight 1898 CLT to JFK? We landed last night just before midnight.\n",
      "\n",
      "@VirginAmerica you're the best!! Whenever I (begrudgingly) use any other airline I'm delayed and Late Flight :(\n",
      "\n",
      "@SouthwestAir I left my iPad on my flight 1831 from ERW to DEN. I opened claim 442998. It has so many memories on it. Plz help get it back.\n",
      "\n",
      "@JetBlue is JFK still closed? Tryna get out of Ft Lauderdale on flight 502, just want to get home to nyc!\n",
      "\n",
      "@AmericanAir  when do you anticipate decisions for Cancelled Flightlations at DFW tomorrow morning? Need to rearrange hotel reservations, etc. ASAP!\n",
      "\n",
      "@USAirways right, can you use a shuttle ticket from LGA to BOS for any shuttle flight? Probably gonna miss the 4pm.\n",
      "\n",
      "@VirginAmerica soooo are you guys going to leave the seatbelt light on all flight? You can barely call this turbulence :-)\n",
      "\n",
      "@united I can't tell/purchase through the website because they put us on a Lufthansa flight for the first leg.\n",
      "\n",
      "@united it will be on a different airline.\n",
      "\n",
      "@USAirways will you hold #475 today for connecting passengers coming from delayed flights?\n",
      "\n",
      "@AmericanAir Has AA Flight 296 from San Antonio to Dallas been Cancelled Flighted?\n",
      "\n",
      "@AmericanAir: my brother's flight into DFW was Cancelled Flightled yesterday. Are you flying from ONT to DFW today?\n",
      "\n",
      "@JetBlue's CEO battles to appease passengers and Wall Street - Waterbury Republican American http://t.co/Ur60Un86gy\n",
      "\n",
      "@JetBlue can you ask SLC checkin/bag drop if they found a dark blue/blackish fit bit flex? Would've lost it there around 445pm MT\n",
      "\n",
      "@VirginAmerica please provide status for flight 769.  I cant imagine it's on time as the Web indicates  dude to weather here and/or Dallas\n",
      "\n",
      "@united do you expect to Cancelled Flight flights out of @DENAirport tomorrow morning given the storm?\n",
      "\n",
      "@AmericanAir Trying desperately to get my boyfriend booked on the same US Airways flight as myself for the same price. Can you help?\n",
      "\n",
      "@united €202.88 is the difference between the booked flights, do you want screen shots?\n",
      "\n",
      "@JetBlue ok we got as far as Atlantic City due to JFK being closed. Can you get us to HPN or LGA?? Please?\n",
      "\n",
      "@USAirways we are on the 2pm flight FLL to PHL and then connection to MAN. However, with the delays we might miss it. Can we go earlier?\n",
      "\n",
      "@VirginAmerica hi! I just bked a cool birthday trip with you, but i can't add my elevate no. cause i entered my middle name during Flight Booking Problems 😢\n",
      "\n",
      "@USAirways it is the same passenger, just her maiden name ended up as last name through online Flight Booking Problems.  Yes, understand non transferable\n",
      "\n",
      "@JetBlue no, I haven't done that yet. Is that something I can do online? Thx!\n",
      "\n",
      "@JetBlue Thanks. So the delay was the result of scheduling issues more than weather reLate Flightd problems?\n",
      "\n",
      "@SouthwestAir Hi! Just got my TSA pre-check # &amp; put it in my acct. But it's not on my boarding pass for a flight this p.m.Can it be updated?\n",
      "\n",
      "@AmericanAir is flight 2934 dfw to gsp going to be Cancelled Flightled tomorrow?\n",
      "\n",
      "@united all 4 of us are on standby in Houston tomorrow for flights to Calgary. If you could get us on one or two of those that would help\n",
      "\n",
      "@JetBlue 👍. I think I'll come take a nap at the terminal.  ;)\n",
      "\n",
      "@USAirways checked in last night @ airport by supervisor w boarding pass for 1A - boarding today seat changed to 7F. How does that happen?\n",
      "\n",
      "@JetBlue's CEO battles to appease passengers and Wall Street - @TheVDT http://t.co/h6cE3mWCqj\n",
      "\n",
      "@SouthwestAir Flight 4968 (N8325D) departs @MCO enroute to @NO_Airport http://t.co/fd4SnvKIeM\n",
      "\n"
     ]
    }
   ],
   "source": [
    "for i in df.loc[(df[\"label\"] == label) & (df[\"cluster\"] == cluster)][\"text\"].to_numpy():\n",
    "    print(i + '\\n')"
   ]
  },
  {
   "cell_type": "code",
   "execution_count": 404,
   "id": "95e97e44",
   "metadata": {},
   "outputs": [],
   "source": [
    "queries = [\"@Delta, take some notes from @JetBlue on how to treat customers right. #CustomerServiceGoals\",\n",
    "\"Just booked my next flight with @JetBlue and couldn't be more excited! #JetBlueLove\",\n",
    "\"I always have a great experience flying with @JetBlue. Thanks for making travel comfortable and easy!\",\n",
    "\"Flying with @JetBlue to my favorite city - can't wait to explore! #TravelGoals\",\n",
    "\"@JetBlue, you're killing the airline game with your on-point fleet and exceptional service. Keep it up! #AirlineGoals\",\n",
    "\"Every time I fly @JetBlue, I'm reminded of why I choose this airline. Amazing service, great prices, and comfortable flights!\",\n",
    "\"I may not have my tux, but I'm always ready for a flight with @JetBlue. #JetBlueLove\",\n",
    "\"Just when I thought I couldn't love @JetBlue any more, they offer a flight from my hometown to my favorite city! #Winning\",\n",
    "\"From Boston to Buffalo to the Caribbean, @JetBlue takes me wherever I need to go. #JetBlueLove\",\n",
    "\"@JetBlue, can you please offer service to my hometown? I need to share the love with my community!\",\n",
    "\"I love when my flights are on fleek, just like @JetBlue's fleet! #TravelGoals\",\n",
    "\"No need to stop the tweets, @JetBlue. Keep them coming! #JetBlueLove\",\n",
    "\"Excited to fly with @JetBlue again and experience their amazing customer service! #AirlineGoals\",\n",
    "\"Thanks to @JetBlue, I'm always ready for my next adventure. #JetBlueLove\",\n",
    "\"When it comes to air travel, @JetBlue is always my first choice. #AirlineGoals\",\n",
    "\"The only thing that could make my flight with @JetBlue better is if I get a chance to snap a selfie with the crew! #JetBlueLove\",\n",
    "\"Thanks, @JetBlue, for always making my travels comfortable and fun. #TravelGoals\",\n",
    "\"Just when I thought @JetBlue couldn't get any better, they surprise me with amazing on-board entertainment! #AirlineGoals\",\n",
    "\"Nothing but love for @JetBlue! Best airline around! #JetBlueLove\",\n",
    "\"I'm so ready to trade the cold for a sunny destination with @JetBlue. #TravelGoals\",\n",
    "\"Shoutout to @JetBlue for the best flight experience ever! #AirlineGoals\",\n",
    "\"Boarding with @JetBlue is always a breeze, thanks to their amazing agents! #JetBlueLove\",\n",
    "\"Thanks, @JetBlue, for always making me feel like a VIP. #TravelGoals\",\n",
    "\"I can always count on @JetBlue for an amazing flight experience. #AirlineGoals\",\n",
    "\"I'm always excited to see @JetBlue's planes pulling into the gate - it means I'm in for a great flight! #JetBlueLove\",\n",
    "\"When it comes to flying, @JetBlue is always the way to go. #TravelGoals\",\n",
    "\"I'm convinced that @JetBlue has the best customer service in the airline industry. #AirlineGoals\",\n",
    "\"I never have to worry about legroom when I fly with @JetBlue - even more space for me to relax! #JetBlueLove\",\n",
    "\"Thanks, @JetBlue, for making my travel dreams come true! #TravelGoals\",\n",
    "\"I'm always impressed by @JetBlue's innovative approach to air travel. #AirlineGoals\",\n",
    "\"Flying with @JetBlue feels like a luxury experience at an affordable price. #JetBlueLove\",\n",
    "\"Thanks to @JetBlue, I'm always ready to jet off to my next adventure. #TravelGoals\",]\n",
    "# neu 0[\n",
    "# \"@SouthwestAir the weather always seems to cause flight delays, it's so frustrating #flightdelays #travelwoes\",\n",
    "# \"@SouthwestAir thank you for your assistance, Lindsey. Do you have any updates on my flight? #stuckindenver\",\n",
    "# \"@SouthwestAir glad to hear everything is sorted out, thank you! #goodcustomerservice\",\n",
    "# \"@SouthwestAir I agree, more incentives for border town flyers would be great for everyone involved #customerretention #travelmore\",\n",
    "# \"@SouthwestAir missing a flight by a millisecond is a sad feeling, better luck next time #missedopportunities #flying\",\n",
    "# \"@SouthwestAir it can be confusing for first-time flyers, but boarding by row makes more sense. #traveltips #flying\",\n",
    "# \"@SouthwestAir any chance you could get my hubby home sooner? He's got a long layover in DFW #travelwoes #flights\",\n",
    "# \"@SouthwestAir thanks for the heads up on the wait times at PHX airport, I'll keep that in mind next time I fly #travelhacks #travel\",\n",
    "# \"@SouthwestAir glad to hear the flight took off on time! #goodnews #travel\",\n",
    "# \"@SouthwestAir please bring back the RDU to FLL route, it's always so packed! #travelneeds #flying\",\n",
    "# \"@SouthwestAir great travel tips, thanks for sharing! #traveltips #ebook\",\n",
    "# \"@SouthwestAir thanks for the reminder about my upcoming trip, even though I didn't need it #travelupdates #traveltweets\",\n",
    "# \"@SouthwestAir any updates on flights from BWI-SJD after Aug 7th? Can't seem to find any #travelwoes #flying\",\n",
    "# \"@SouthwestAir @love_dragonss Lauren, you're amazing!\",\n",
    "# \"@SouthwestAir just checking in to make sure everything's alright, there's been a threat on the plane #safetyconcerns #travel\",\n",
    "# \"@SouthwestAir boarding could be much smoother if you let the business class go first #boardingprocess #travelwoes\",\n",
    "# \"@SouthwestAir is there a way to upgrade to priority seating after purchasing the flight? #travelquestions #flying\",\n",
    "# \"@SouthwestAir going over 9000 feet in the air feels incredible! #travelling #flyinghigh\",\n",
    "# \"@SouthwestAir thanks for the reply, I appreciate it #goodcustomerservice #travelwoes\",\n",
    "# \"@SouthwestAir @ClinicPolly thank you for responding, even though I might have missed it #grateful #travelwoes\",\n",
    "# \"@SouthwestAir @destinationdragons is the dream! It would be a life-changing experience to see them perform #dreamscometrue #musiclove\",\n",
    "# \"@SouthwestAir everything's rebooked for tomorrow, fingers crossed for a smooth flight #travelupdates #traveltweets\",\n",
    "# \"@SouthwestAir please help these volunteers from RI high school get home! #goodcause #travelwoes\",\n",
    "# \"@SouthwestAir can you help me find a flight under $150 from Nashville to DC or Raleigh on March 15th? #travelrequests #flying\",\n",
    "# \"@SouthwestAir been on hold for almost 30 minutes, still no response #customerservicefail #travelwoes\",\n",
    "# \"@SouthwestAir @love_dragonss Lauren, you're the best!\",\n",
    "# \"@SouthwestAir always coming to the rescue, thanks for being so reliable! #travelwoes #customerservice\",\n",
    "# \"@SouthwestAir I can't enroll in the Atlanta companion promotion, can you help me out? #traveldeals #promotions\",\n",
    "# \"@SouthwestAir direct message me, I need help with a rebooking #travelupdates #traveltweets\"]\n",
    "#neu 3 [\"@united Glad to hear it!\", \"@USAirways Apology accepted!\", \"@united Happy to hear that everything got straightened out!\", \"@united Thank you for the prompt responses, much appreciated!\", \"@USAirways You're welcome!\", \"@united Sounds good, thanks for the update.\", \"@united Hope you make your connection!\", \"@united Looking forward to hearing from you.\", \"@united Thank you for submitting your feedback!\", \"@united Looking forward to seeing what you do to make up for it!\", \"@USAirways Get it together, guys!\", \"@united Hi there, thanks for the response!\", \"@united No problem, glad we could help!\", \"@united Thanks, keep us posted!\", \"@united Thanks for the clarification, appreciate it!\", \"@united Will do, thanks for the info!\", \"@USAirways Thank you as well!\", \"@united Hoping you have a comfortable flight!\", \"@united Definitely appreciate your help!\", \"@united Thank you for your response, much appreciated!\", \"@united Crossing my fingers for a response!\", \"@united Thanks for keeping us in the loop!\", \"@united Shoutout to @Delta for saving the day!\", \"@united Thanks for the update, much appreciated!\", \"@USAirways No problem, glad we could help!\", \"@USAirways Glad to hear you got your bags back!\", \"@USAirways It's all good, thanks for the help!\", \"@USAirways Same here, lol.\", \"@united Thank you, appreciate it!\", \"@united Thanks a bunch!\", \"@united Sounds like a frustrating situation, hope it gets resolved soon!\", \"@united Thank you, looking forward to your response!\", \"@united Awesome, thanks so much for your help!\"]"
   ]
  },
  {
   "cell_type": "code",
   "execution_count": 405,
   "id": "b78d620b",
   "metadata": {},
   "outputs": [],
   "source": [
    "from sentence_transformers import SentenceTransformer\n",
    "sbert_model = SentenceTransformer('stsb-bert-base')"
   ]
  },
  {
   "cell_type": "code",
   "execution_count": 406,
   "id": "509720ec",
   "metadata": {},
   "outputs": [],
   "source": [
    "query_vec = sbert_model.encode(queries)"
   ]
  },
  {
   "cell_type": "code",
   "execution_count": 407,
   "id": "014d3df4",
   "metadata": {},
   "outputs": [
    {
     "data": {
      "text/plain": [
       "array([[-0.31735054, -0.06192292,  0.68513393, ...,  0.46849802,\n",
       "        -0.7498029 ,  0.10763265],\n",
       "       [-0.3037662 , -0.2401653 ,  0.39343467, ..., -0.61425567,\n",
       "        -0.3385205 ,  0.10085715],\n",
       "       [-0.6493553 ,  0.20184685,  0.23286082, ...,  0.3165996 ,\n",
       "        -0.3656224 , -0.07425155],\n",
       "       ...,\n",
       "       [-0.32352802,  0.10114474,  0.35835433, ...,  0.01405708,\n",
       "        -0.2661058 , -0.60129255],\n",
       "       [-0.42486373, -0.09639287, -0.04111897, ..., -0.17147808,\n",
       "         0.01991454, -0.20275812],\n",
       "       [-0.4209722 , -0.45257902,  1.3405172 , ..., -0.7080294 ,\n",
       "        -0.99233395,  0.03415997]], dtype=float32)"
      ]
     },
     "execution_count": 407,
     "metadata": {},
     "output_type": "execute_result"
    }
   ],
   "source": [
    "query_vec"
   ]
  },
  {
   "cell_type": "code",
   "execution_count": 408,
   "id": "358afbd1",
   "metadata": {
    "scrolled": true
   },
   "outputs": [],
   "source": [
    "newtwos = mapper.transform(query_vec)"
   ]
  },
  {
   "cell_type": "code",
   "execution_count": 409,
   "id": "182bfc36",
   "metadata": {},
   "outputs": [
    {
     "data": {
      "text/plain": [
       "array([[ 1.4592757 , 13.396656  ],\n",
       "       [ 0.785355  , 15.458619  ],\n",
       "       [ 0.20249054, 14.084254  ],\n",
       "       [ 0.7741375 , 14.403414  ],\n",
       "       [ 2.677878  , 15.113489  ],\n",
       "       [ 0.57134813, 13.854948  ],\n",
       "       [ 1.4493403 , 16.26016   ],\n",
       "       [ 1.7092354 , 13.997145  ],\n",
       "       [ 1.3851854 , 16.02732   ],\n",
       "       [ 0.19239967, 14.015298  ],\n",
       "       [ 0.60102034, 14.791024  ],\n",
       "       [ 2.1650586 , 15.982483  ],\n",
       "       [ 0.21337382, 13.889885  ],\n",
       "       [ 0.57612413, 15.270318  ],\n",
       "       [ 0.77131   , 15.917017  ],\n",
       "       [ 0.69859034, 14.49887   ],\n",
       "       [ 0.21393698, 14.102901  ],\n",
       "       [ 1.7029054 , 14.482591  ],\n",
       "       [ 0.1853591 , 14.25293   ],\n",
       "       [ 1.1914401 , 14.035684  ],\n",
       "       [ 0.43869558, 14.851498  ],\n",
       "       [ 0.19478008, 14.176585  ],\n",
       "       [ 0.14883617, 14.059335  ],\n",
       "       [ 0.3972034 , 14.941033  ],\n",
       "       [ 0.6784175 , 14.353399  ],\n",
       "       [ 0.8632879 , 16.08528   ],\n",
       "       [ 0.32770398, 14.092314  ],\n",
       "       [ 0.9118636 , 13.446322  ],\n",
       "       [ 0.11388399, 14.17007   ],\n",
       "       [ 0.31535798, 14.708408  ],\n",
       "       [ 0.12376468, 14.308231  ],\n",
       "       [ 0.73121583, 15.835498  ]], dtype=float32)"
      ]
     },
     "execution_count": 409,
     "metadata": {},
     "output_type": "execute_result"
    }
   ],
   "source": [
    "newtwos"
   ]
  },
  {
   "cell_type": "code",
   "execution_count": 410,
   "id": "af79213f",
   "metadata": {},
   "outputs": [
    {
     "data": {
      "text/html": [
       "<div>\n",
       "<style scoped>\n",
       "    .dataframe tbody tr th:only-of-type {\n",
       "        vertical-align: middle;\n",
       "    }\n",
       "\n",
       "    .dataframe tbody tr th {\n",
       "        vertical-align: top;\n",
       "    }\n",
       "\n",
       "    .dataframe thead th {\n",
       "        text-align: right;\n",
       "    }\n",
       "</style>\n",
       "<table border=\"1\" class=\"dataframe\">\n",
       "  <thead>\n",
       "    <tr style=\"text-align: right;\">\n",
       "      <th></th>\n",
       "      <th>x</th>\n",
       "      <th>y</th>\n",
       "    </tr>\n",
       "  </thead>\n",
       "  <tbody>\n",
       "    <tr>\n",
       "      <th>330</th>\n",
       "      <td>2.090349</td>\n",
       "      <td>15.902088</td>\n",
       "    </tr>\n",
       "    <tr>\n",
       "      <th>335</th>\n",
       "      <td>1.559397</td>\n",
       "      <td>15.080293</td>\n",
       "    </tr>\n",
       "    <tr>\n",
       "      <th>337</th>\n",
       "      <td>2.169317</td>\n",
       "      <td>14.253313</td>\n",
       "    </tr>\n",
       "    <tr>\n",
       "      <th>340</th>\n",
       "      <td>1.745250</td>\n",
       "      <td>15.806063</td>\n",
       "    </tr>\n",
       "    <tr>\n",
       "      <th>343</th>\n",
       "      <td>2.710168</td>\n",
       "      <td>15.552733</td>\n",
       "    </tr>\n",
       "    <tr>\n",
       "      <th>344</th>\n",
       "      <td>1.332092</td>\n",
       "      <td>15.875604</td>\n",
       "    </tr>\n",
       "    <tr>\n",
       "      <th>352</th>\n",
       "      <td>1.449768</td>\n",
       "      <td>15.402312</td>\n",
       "    </tr>\n",
       "    <tr>\n",
       "      <th>372</th>\n",
       "      <td>1.850128</td>\n",
       "      <td>15.842518</td>\n",
       "    </tr>\n",
       "    <tr>\n",
       "      <th>374</th>\n",
       "      <td>1.767257</td>\n",
       "      <td>15.868396</td>\n",
       "    </tr>\n",
       "    <tr>\n",
       "      <th>380</th>\n",
       "      <td>1.370262</td>\n",
       "      <td>15.032060</td>\n",
       "    </tr>\n",
       "    <tr>\n",
       "      <th>384</th>\n",
       "      <td>1.596518</td>\n",
       "      <td>15.797247</td>\n",
       "    </tr>\n",
       "    <tr>\n",
       "      <th>387</th>\n",
       "      <td>1.961007</td>\n",
       "      <td>16.248903</td>\n",
       "    </tr>\n",
       "    <tr>\n",
       "      <th>406</th>\n",
       "      <td>1.822449</td>\n",
       "      <td>15.605033</td>\n",
       "    </tr>\n",
       "    <tr>\n",
       "      <th>407</th>\n",
       "      <td>1.806847</td>\n",
       "      <td>15.648548</td>\n",
       "    </tr>\n",
       "    <tr>\n",
       "      <th>409</th>\n",
       "      <td>1.385141</td>\n",
       "      <td>15.561915</td>\n",
       "    </tr>\n",
       "    <tr>\n",
       "      <th>889</th>\n",
       "      <td>1.868502</td>\n",
       "      <td>15.754686</td>\n",
       "    </tr>\n",
       "    <tr>\n",
       "      <th>902</th>\n",
       "      <td>1.439802</td>\n",
       "      <td>15.574723</td>\n",
       "    </tr>\n",
       "    <tr>\n",
       "      <th>905</th>\n",
       "      <td>1.640312</td>\n",
       "      <td>15.769271</td>\n",
       "    </tr>\n",
       "    <tr>\n",
       "      <th>921</th>\n",
       "      <td>1.279878</td>\n",
       "      <td>16.090759</td>\n",
       "    </tr>\n",
       "    <tr>\n",
       "      <th>924</th>\n",
       "      <td>0.946910</td>\n",
       "      <td>15.998153</td>\n",
       "    </tr>\n",
       "    <tr>\n",
       "      <th>926</th>\n",
       "      <td>1.767997</td>\n",
       "      <td>15.721656</td>\n",
       "    </tr>\n",
       "    <tr>\n",
       "      <th>931</th>\n",
       "      <td>1.351929</td>\n",
       "      <td>16.012304</td>\n",
       "    </tr>\n",
       "    <tr>\n",
       "      <th>941</th>\n",
       "      <td>1.746556</td>\n",
       "      <td>15.743912</td>\n",
       "    </tr>\n",
       "    <tr>\n",
       "      <th>942</th>\n",
       "      <td>1.434589</td>\n",
       "      <td>15.129538</td>\n",
       "    </tr>\n",
       "    <tr>\n",
       "      <th>948</th>\n",
       "      <td>2.482871</td>\n",
       "      <td>15.730660</td>\n",
       "    </tr>\n",
       "    <tr>\n",
       "      <th>949</th>\n",
       "      <td>1.464969</td>\n",
       "      <td>14.933798</td>\n",
       "    </tr>\n",
       "    <tr>\n",
       "      <th>953</th>\n",
       "      <td>1.540590</td>\n",
       "      <td>15.856948</td>\n",
       "    </tr>\n",
       "    <tr>\n",
       "      <th>955</th>\n",
       "      <td>2.471328</td>\n",
       "      <td>15.345863</td>\n",
       "    </tr>\n",
       "    <tr>\n",
       "      <th>957</th>\n",
       "      <td>1.638986</td>\n",
       "      <td>15.895409</td>\n",
       "    </tr>\n",
       "    <tr>\n",
       "      <th>960</th>\n",
       "      <td>2.093998</td>\n",
       "      <td>15.476445</td>\n",
       "    </tr>\n",
       "    <tr>\n",
       "      <th>961</th>\n",
       "      <td>1.721462</td>\n",
       "      <td>16.128103</td>\n",
       "    </tr>\n",
       "    <tr>\n",
       "      <th>967</th>\n",
       "      <td>1.938585</td>\n",
       "      <td>15.971493</td>\n",
       "    </tr>\n",
       "  </tbody>\n",
       "</table>\n",
       "</div>"
      ],
      "text/plain": [
       "            x          y\n",
       "330  2.090349  15.902088\n",
       "335  1.559397  15.080293\n",
       "337  2.169317  14.253313\n",
       "340  1.745250  15.806063\n",
       "343  2.710168  15.552733\n",
       "344  1.332092  15.875604\n",
       "352  1.449768  15.402312\n",
       "372  1.850128  15.842518\n",
       "374  1.767257  15.868396\n",
       "380  1.370262  15.032060\n",
       "384  1.596518  15.797247\n",
       "387  1.961007  16.248903\n",
       "406  1.822449  15.605033\n",
       "407  1.806847  15.648548\n",
       "409  1.385141  15.561915\n",
       "889  1.868502  15.754686\n",
       "902  1.439802  15.574723\n",
       "905  1.640312  15.769271\n",
       "921  1.279878  16.090759\n",
       "924  0.946910  15.998153\n",
       "926  1.767997  15.721656\n",
       "931  1.351929  16.012304\n",
       "941  1.746556  15.743912\n",
       "942  1.434589  15.129538\n",
       "948  2.482871  15.730660\n",
       "949  1.464969  14.933798\n",
       "953  1.540590  15.856948\n",
       "955  2.471328  15.345863\n",
       "957  1.638986  15.895409\n",
       "960  2.093998  15.476445\n",
       "961  1.721462  16.128103\n",
       "967  1.938585  15.971493"
      ]
     },
     "execution_count": 410,
     "metadata": {},
     "output_type": "execute_result"
    }
   ],
   "source": [
    "dfnew = df.loc[(df[\"label\"] == label) & (df[\"cluster\"] == cluster)][[\"x\", \"y\"]]\n",
    "dfnew"
   ]
  },
  {
   "cell_type": "code",
   "execution_count": 411,
   "id": "4d9aeeda",
   "metadata": {},
   "outputs": [
    {
     "data": {
      "text/html": [
       "<div>\n",
       "<style scoped>\n",
       "    .dataframe tbody tr th:only-of-type {\n",
       "        vertical-align: middle;\n",
       "    }\n",
       "\n",
       "    .dataframe tbody tr th {\n",
       "        vertical-align: top;\n",
       "    }\n",
       "\n",
       "    .dataframe thead th {\n",
       "        text-align: right;\n",
       "    }\n",
       "</style>\n",
       "<table border=\"1\" class=\"dataframe\">\n",
       "  <thead>\n",
       "    <tr style=\"text-align: right;\">\n",
       "      <th></th>\n",
       "      <th>x</th>\n",
       "      <th>y</th>\n",
       "      <th>type</th>\n",
       "    </tr>\n",
       "  </thead>\n",
       "  <tbody>\n",
       "    <tr>\n",
       "      <th>0</th>\n",
       "      <td>1.459276</td>\n",
       "      <td>13.396656</td>\n",
       "      <td>new</td>\n",
       "    </tr>\n",
       "    <tr>\n",
       "      <th>1</th>\n",
       "      <td>0.785355</td>\n",
       "      <td>15.458619</td>\n",
       "      <td>new</td>\n",
       "    </tr>\n",
       "    <tr>\n",
       "      <th>2</th>\n",
       "      <td>0.202491</td>\n",
       "      <td>14.084254</td>\n",
       "      <td>new</td>\n",
       "    </tr>\n",
       "    <tr>\n",
       "      <th>3</th>\n",
       "      <td>0.774137</td>\n",
       "      <td>14.403414</td>\n",
       "      <td>new</td>\n",
       "    </tr>\n",
       "    <tr>\n",
       "      <th>4</th>\n",
       "      <td>2.677878</td>\n",
       "      <td>15.113489</td>\n",
       "      <td>new</td>\n",
       "    </tr>\n",
       "    <tr>\n",
       "      <th>5</th>\n",
       "      <td>0.571348</td>\n",
       "      <td>13.854948</td>\n",
       "      <td>new</td>\n",
       "    </tr>\n",
       "    <tr>\n",
       "      <th>6</th>\n",
       "      <td>1.449340</td>\n",
       "      <td>16.260160</td>\n",
       "      <td>new</td>\n",
       "    </tr>\n",
       "    <tr>\n",
       "      <th>7</th>\n",
       "      <td>1.709235</td>\n",
       "      <td>13.997145</td>\n",
       "      <td>new</td>\n",
       "    </tr>\n",
       "    <tr>\n",
       "      <th>8</th>\n",
       "      <td>1.385185</td>\n",
       "      <td>16.027321</td>\n",
       "      <td>new</td>\n",
       "    </tr>\n",
       "    <tr>\n",
       "      <th>9</th>\n",
       "      <td>0.192400</td>\n",
       "      <td>14.015298</td>\n",
       "      <td>new</td>\n",
       "    </tr>\n",
       "    <tr>\n",
       "      <th>10</th>\n",
       "      <td>0.601020</td>\n",
       "      <td>14.791024</td>\n",
       "      <td>new</td>\n",
       "    </tr>\n",
       "    <tr>\n",
       "      <th>11</th>\n",
       "      <td>2.165059</td>\n",
       "      <td>15.982483</td>\n",
       "      <td>new</td>\n",
       "    </tr>\n",
       "    <tr>\n",
       "      <th>12</th>\n",
       "      <td>0.213374</td>\n",
       "      <td>13.889885</td>\n",
       "      <td>new</td>\n",
       "    </tr>\n",
       "    <tr>\n",
       "      <th>13</th>\n",
       "      <td>0.576124</td>\n",
       "      <td>15.270318</td>\n",
       "      <td>new</td>\n",
       "    </tr>\n",
       "    <tr>\n",
       "      <th>14</th>\n",
       "      <td>0.771310</td>\n",
       "      <td>15.917017</td>\n",
       "      <td>new</td>\n",
       "    </tr>\n",
       "    <tr>\n",
       "      <th>15</th>\n",
       "      <td>0.698590</td>\n",
       "      <td>14.498870</td>\n",
       "      <td>new</td>\n",
       "    </tr>\n",
       "    <tr>\n",
       "      <th>16</th>\n",
       "      <td>0.213937</td>\n",
       "      <td>14.102901</td>\n",
       "      <td>new</td>\n",
       "    </tr>\n",
       "    <tr>\n",
       "      <th>17</th>\n",
       "      <td>1.702905</td>\n",
       "      <td>14.482591</td>\n",
       "      <td>new</td>\n",
       "    </tr>\n",
       "    <tr>\n",
       "      <th>18</th>\n",
       "      <td>0.185359</td>\n",
       "      <td>14.252930</td>\n",
       "      <td>new</td>\n",
       "    </tr>\n",
       "    <tr>\n",
       "      <th>19</th>\n",
       "      <td>1.191440</td>\n",
       "      <td>14.035684</td>\n",
       "      <td>new</td>\n",
       "    </tr>\n",
       "    <tr>\n",
       "      <th>20</th>\n",
       "      <td>0.438696</td>\n",
       "      <td>14.851498</td>\n",
       "      <td>new</td>\n",
       "    </tr>\n",
       "    <tr>\n",
       "      <th>21</th>\n",
       "      <td>0.194780</td>\n",
       "      <td>14.176585</td>\n",
       "      <td>new</td>\n",
       "    </tr>\n",
       "    <tr>\n",
       "      <th>22</th>\n",
       "      <td>0.148836</td>\n",
       "      <td>14.059335</td>\n",
       "      <td>new</td>\n",
       "    </tr>\n",
       "    <tr>\n",
       "      <th>23</th>\n",
       "      <td>0.397203</td>\n",
       "      <td>14.941033</td>\n",
       "      <td>new</td>\n",
       "    </tr>\n",
       "    <tr>\n",
       "      <th>24</th>\n",
       "      <td>0.678418</td>\n",
       "      <td>14.353399</td>\n",
       "      <td>new</td>\n",
       "    </tr>\n",
       "    <tr>\n",
       "      <th>25</th>\n",
       "      <td>0.863288</td>\n",
       "      <td>16.085279</td>\n",
       "      <td>new</td>\n",
       "    </tr>\n",
       "    <tr>\n",
       "      <th>26</th>\n",
       "      <td>0.327704</td>\n",
       "      <td>14.092314</td>\n",
       "      <td>new</td>\n",
       "    </tr>\n",
       "    <tr>\n",
       "      <th>27</th>\n",
       "      <td>0.911864</td>\n",
       "      <td>13.446322</td>\n",
       "      <td>new</td>\n",
       "    </tr>\n",
       "    <tr>\n",
       "      <th>28</th>\n",
       "      <td>0.113884</td>\n",
       "      <td>14.170070</td>\n",
       "      <td>new</td>\n",
       "    </tr>\n",
       "    <tr>\n",
       "      <th>29</th>\n",
       "      <td>0.315358</td>\n",
       "      <td>14.708408</td>\n",
       "      <td>new</td>\n",
       "    </tr>\n",
       "    <tr>\n",
       "      <th>30</th>\n",
       "      <td>0.123765</td>\n",
       "      <td>14.308231</td>\n",
       "      <td>new</td>\n",
       "    </tr>\n",
       "    <tr>\n",
       "      <th>31</th>\n",
       "      <td>0.731216</td>\n",
       "      <td>15.835498</td>\n",
       "      <td>new</td>\n",
       "    </tr>\n",
       "  </tbody>\n",
       "</table>\n",
       "</div>"
      ],
      "text/plain": [
       "           x          y type\n",
       "0   1.459276  13.396656  new\n",
       "1   0.785355  15.458619  new\n",
       "2   0.202491  14.084254  new\n",
       "3   0.774137  14.403414  new\n",
       "4   2.677878  15.113489  new\n",
       "5   0.571348  13.854948  new\n",
       "6   1.449340  16.260160  new\n",
       "7   1.709235  13.997145  new\n",
       "8   1.385185  16.027321  new\n",
       "9   0.192400  14.015298  new\n",
       "10  0.601020  14.791024  new\n",
       "11  2.165059  15.982483  new\n",
       "12  0.213374  13.889885  new\n",
       "13  0.576124  15.270318  new\n",
       "14  0.771310  15.917017  new\n",
       "15  0.698590  14.498870  new\n",
       "16  0.213937  14.102901  new\n",
       "17  1.702905  14.482591  new\n",
       "18  0.185359  14.252930  new\n",
       "19  1.191440  14.035684  new\n",
       "20  0.438696  14.851498  new\n",
       "21  0.194780  14.176585  new\n",
       "22  0.148836  14.059335  new\n",
       "23  0.397203  14.941033  new\n",
       "24  0.678418  14.353399  new\n",
       "25  0.863288  16.085279  new\n",
       "26  0.327704  14.092314  new\n",
       "27  0.911864  13.446322  new\n",
       "28  0.113884  14.170070  new\n",
       "29  0.315358  14.708408  new\n",
       "30  0.123765  14.308231  new\n",
       "31  0.731216  15.835498  new"
      ]
     },
     "execution_count": 411,
     "metadata": {},
     "output_type": "execute_result"
    }
   ],
   "source": [
    "dfnew[\"type\"] = [\"og\"] * dfnew.shape[0]\n",
    "dfnewtwos = pd.DataFrame(newtwos, columns=[\"x\", \"y\"])\n",
    "dfnewtwos[\"type\"] = [\"new\"] * dfnewtwos.shape[0]\n",
    "dfnewtwos"
   ]
  },
  {
   "cell_type": "code",
   "execution_count": 412,
   "id": "19de05b0",
   "metadata": {
    "scrolled": false
   },
   "outputs": [
    {
     "data": {
      "application/vnd.plotly.v1+json": {
       "config": {
        "plotlyServerURL": "https://plot.ly"
       },
       "data": [
        {
         "hovertemplate": "type=og<br>x=%{x}<br>y=%{y}<extra></extra>",
         "legendgroup": "og",
         "marker": {
          "color": "#636efa",
          "symbol": "circle"
         },
         "mode": "markers",
         "name": "og",
         "orientation": "v",
         "showlegend": true,
         "type": "scatter",
         "x": [
          2.0903491973876953,
          1.5593973398208618,
          2.1693172454833984,
          1.7452497482299805,
          2.7101681232452393,
          1.3320918083190918,
          1.449767827987671,
          1.8501280546188354,
          1.7672566175460815,
          1.3702619075775146,
          1.5965179204940796,
          1.9610074758529663,
          1.8224490880966187,
          1.8068466186523438,
          1.3851410150527954,
          1.8685020208358765,
          1.4398024082183838,
          1.6403124332427979,
          1.27987802028656,
          0.9469099044799805,
          1.767997145652771,
          1.3519294261932373,
          1.746556043624878,
          1.4345886707305908,
          2.4828708171844482,
          1.464969277381897,
          1.5405900478363037,
          2.4713284969329834,
          1.6389858722686768,
          2.0939979553222656,
          1.721462368965149,
          1.9385854005813599
         ],
         "xaxis": "x",
         "y": [
          15.902088165283203,
          15.080292701721191,
          14.253313064575195,
          15.806062698364258,
          15.552733421325684,
          15.875603675842285,
          15.402312278747559,
          15.842517852783203,
          15.868395805358887,
          15.032059669494629,
          15.797246932983398,
          16.248903274536133,
          15.605032920837402,
          15.648548126220703,
          15.561915397644043,
          15.75468635559082,
          15.574723243713379,
          15.769270896911621,
          16.09075927734375,
          15.998152732849121,
          15.72165584564209,
          16.012304306030273,
          15.743911743164062,
          15.129537582397461,
          15.730660438537598,
          14.933797836303711,
          15.856947898864746,
          15.345863342285156,
          15.895408630371094,
          15.476445198059082,
          16.128103256225586,
          15.971492767333984
         ],
         "yaxis": "y"
        },
        {
         "hovertemplate": "type=new<br>x=%{x}<br>y=%{y}<extra></extra>",
         "legendgroup": "new",
         "marker": {
          "color": "#EF553B",
          "symbol": "circle"
         },
         "mode": "markers",
         "name": "new",
         "orientation": "v",
         "showlegend": true,
         "type": "scatter",
         "x": [
          1.459275722503662,
          0.7853549718856812,
          0.20249053835868835,
          0.7741374969482422,
          2.677877902984619,
          0.5713481307029724,
          1.4493403434753418,
          1.709235429763794,
          1.3851853609085083,
          0.19239966571331024,
          0.601020336151123,
          2.1650586128234863,
          0.2133738249540329,
          0.5761241316795349,
          0.7713099718093872,
          0.6985903382301331,
          0.21393698453903198,
          1.7029054164886475,
          0.18535910546779633,
          1.1914401054382324,
          0.4386955797672272,
          0.19478008151054382,
          0.1488361656665802,
          0.39720338582992554,
          0.6784175038337708,
          0.8632879257202148,
          0.32770398259162903,
          0.9118636250495911,
          0.11388398706912994,
          0.3153579831123352,
          0.12376467883586884,
          0.7312158346176147
         ],
         "xaxis": "x",
         "y": [
          13.396656036376953,
          15.458619117736816,
          14.084254264831543,
          14.403413772583008,
          15.113489151000977,
          13.854948043823242,
          16.260160446166992,
          13.99714469909668,
          16.027320861816406,
          14.015297889709473,
          14.791024208068848,
          15.98248291015625,
          13.889884948730469,
          15.270318031311035,
          15.917016983032227,
          14.498869895935059,
          14.102901458740234,
          14.482590675354004,
          14.2529296875,
          14.035683631896973,
          14.851497650146484,
          14.17658519744873,
          14.059334754943848,
          14.941033363342285,
          14.353399276733398,
          16.08527946472168,
          14.092313766479492,
          13.446322441101074,
          14.170069694519043,
          14.70840835571289,
          14.308231353759766,
          15.835497856140137
         ],
         "yaxis": "y"
        }
       ],
       "layout": {
        "legend": {
         "title": {
          "text": "type"
         },
         "tracegroupgap": 0
        },
        "margin": {
         "t": 60
        },
        "template": {
         "data": {
          "bar": [
           {
            "error_x": {
             "color": "#2a3f5f"
            },
            "error_y": {
             "color": "#2a3f5f"
            },
            "marker": {
             "line": {
              "color": "#E5ECF6",
              "width": 0.5
             },
             "pattern": {
              "fillmode": "overlay",
              "size": 10,
              "solidity": 0.2
             }
            },
            "type": "bar"
           }
          ],
          "barpolar": [
           {
            "marker": {
             "line": {
              "color": "#E5ECF6",
              "width": 0.5
             },
             "pattern": {
              "fillmode": "overlay",
              "size": 10,
              "solidity": 0.2
             }
            },
            "type": "barpolar"
           }
          ],
          "carpet": [
           {
            "aaxis": {
             "endlinecolor": "#2a3f5f",
             "gridcolor": "white",
             "linecolor": "white",
             "minorgridcolor": "white",
             "startlinecolor": "#2a3f5f"
            },
            "baxis": {
             "endlinecolor": "#2a3f5f",
             "gridcolor": "white",
             "linecolor": "white",
             "minorgridcolor": "white",
             "startlinecolor": "#2a3f5f"
            },
            "type": "carpet"
           }
          ],
          "choropleth": [
           {
            "colorbar": {
             "outlinewidth": 0,
             "ticks": ""
            },
            "type": "choropleth"
           }
          ],
          "contour": [
           {
            "colorbar": {
             "outlinewidth": 0,
             "ticks": ""
            },
            "colorscale": [
             [
              0,
              "#0d0887"
             ],
             [
              0.1111111111111111,
              "#46039f"
             ],
             [
              0.2222222222222222,
              "#7201a8"
             ],
             [
              0.3333333333333333,
              "#9c179e"
             ],
             [
              0.4444444444444444,
              "#bd3786"
             ],
             [
              0.5555555555555556,
              "#d8576b"
             ],
             [
              0.6666666666666666,
              "#ed7953"
             ],
             [
              0.7777777777777778,
              "#fb9f3a"
             ],
             [
              0.8888888888888888,
              "#fdca26"
             ],
             [
              1,
              "#f0f921"
             ]
            ],
            "type": "contour"
           }
          ],
          "contourcarpet": [
           {
            "colorbar": {
             "outlinewidth": 0,
             "ticks": ""
            },
            "type": "contourcarpet"
           }
          ],
          "heatmap": [
           {
            "colorbar": {
             "outlinewidth": 0,
             "ticks": ""
            },
            "colorscale": [
             [
              0,
              "#0d0887"
             ],
             [
              0.1111111111111111,
              "#46039f"
             ],
             [
              0.2222222222222222,
              "#7201a8"
             ],
             [
              0.3333333333333333,
              "#9c179e"
             ],
             [
              0.4444444444444444,
              "#bd3786"
             ],
             [
              0.5555555555555556,
              "#d8576b"
             ],
             [
              0.6666666666666666,
              "#ed7953"
             ],
             [
              0.7777777777777778,
              "#fb9f3a"
             ],
             [
              0.8888888888888888,
              "#fdca26"
             ],
             [
              1,
              "#f0f921"
             ]
            ],
            "type": "heatmap"
           }
          ],
          "heatmapgl": [
           {
            "colorbar": {
             "outlinewidth": 0,
             "ticks": ""
            },
            "colorscale": [
             [
              0,
              "#0d0887"
             ],
             [
              0.1111111111111111,
              "#46039f"
             ],
             [
              0.2222222222222222,
              "#7201a8"
             ],
             [
              0.3333333333333333,
              "#9c179e"
             ],
             [
              0.4444444444444444,
              "#bd3786"
             ],
             [
              0.5555555555555556,
              "#d8576b"
             ],
             [
              0.6666666666666666,
              "#ed7953"
             ],
             [
              0.7777777777777778,
              "#fb9f3a"
             ],
             [
              0.8888888888888888,
              "#fdca26"
             ],
             [
              1,
              "#f0f921"
             ]
            ],
            "type": "heatmapgl"
           }
          ],
          "histogram": [
           {
            "marker": {
             "pattern": {
              "fillmode": "overlay",
              "size": 10,
              "solidity": 0.2
             }
            },
            "type": "histogram"
           }
          ],
          "histogram2d": [
           {
            "colorbar": {
             "outlinewidth": 0,
             "ticks": ""
            },
            "colorscale": [
             [
              0,
              "#0d0887"
             ],
             [
              0.1111111111111111,
              "#46039f"
             ],
             [
              0.2222222222222222,
              "#7201a8"
             ],
             [
              0.3333333333333333,
              "#9c179e"
             ],
             [
              0.4444444444444444,
              "#bd3786"
             ],
             [
              0.5555555555555556,
              "#d8576b"
             ],
             [
              0.6666666666666666,
              "#ed7953"
             ],
             [
              0.7777777777777778,
              "#fb9f3a"
             ],
             [
              0.8888888888888888,
              "#fdca26"
             ],
             [
              1,
              "#f0f921"
             ]
            ],
            "type": "histogram2d"
           }
          ],
          "histogram2dcontour": [
           {
            "colorbar": {
             "outlinewidth": 0,
             "ticks": ""
            },
            "colorscale": [
             [
              0,
              "#0d0887"
             ],
             [
              0.1111111111111111,
              "#46039f"
             ],
             [
              0.2222222222222222,
              "#7201a8"
             ],
             [
              0.3333333333333333,
              "#9c179e"
             ],
             [
              0.4444444444444444,
              "#bd3786"
             ],
             [
              0.5555555555555556,
              "#d8576b"
             ],
             [
              0.6666666666666666,
              "#ed7953"
             ],
             [
              0.7777777777777778,
              "#fb9f3a"
             ],
             [
              0.8888888888888888,
              "#fdca26"
             ],
             [
              1,
              "#f0f921"
             ]
            ],
            "type": "histogram2dcontour"
           }
          ],
          "mesh3d": [
           {
            "colorbar": {
             "outlinewidth": 0,
             "ticks": ""
            },
            "type": "mesh3d"
           }
          ],
          "parcoords": [
           {
            "line": {
             "colorbar": {
              "outlinewidth": 0,
              "ticks": ""
             }
            },
            "type": "parcoords"
           }
          ],
          "pie": [
           {
            "automargin": true,
            "type": "pie"
           }
          ],
          "scatter": [
           {
            "marker": {
             "colorbar": {
              "outlinewidth": 0,
              "ticks": ""
             }
            },
            "type": "scatter"
           }
          ],
          "scatter3d": [
           {
            "line": {
             "colorbar": {
              "outlinewidth": 0,
              "ticks": ""
             }
            },
            "marker": {
             "colorbar": {
              "outlinewidth": 0,
              "ticks": ""
             }
            },
            "type": "scatter3d"
           }
          ],
          "scattercarpet": [
           {
            "marker": {
             "colorbar": {
              "outlinewidth": 0,
              "ticks": ""
             }
            },
            "type": "scattercarpet"
           }
          ],
          "scattergeo": [
           {
            "marker": {
             "colorbar": {
              "outlinewidth": 0,
              "ticks": ""
             }
            },
            "type": "scattergeo"
           }
          ],
          "scattergl": [
           {
            "marker": {
             "colorbar": {
              "outlinewidth": 0,
              "ticks": ""
             }
            },
            "type": "scattergl"
           }
          ],
          "scattermapbox": [
           {
            "marker": {
             "colorbar": {
              "outlinewidth": 0,
              "ticks": ""
             }
            },
            "type": "scattermapbox"
           }
          ],
          "scatterpolar": [
           {
            "marker": {
             "colorbar": {
              "outlinewidth": 0,
              "ticks": ""
             }
            },
            "type": "scatterpolar"
           }
          ],
          "scatterpolargl": [
           {
            "marker": {
             "colorbar": {
              "outlinewidth": 0,
              "ticks": ""
             }
            },
            "type": "scatterpolargl"
           }
          ],
          "scatterternary": [
           {
            "marker": {
             "colorbar": {
              "outlinewidth": 0,
              "ticks": ""
             }
            },
            "type": "scatterternary"
           }
          ],
          "surface": [
           {
            "colorbar": {
             "outlinewidth": 0,
             "ticks": ""
            },
            "colorscale": [
             [
              0,
              "#0d0887"
             ],
             [
              0.1111111111111111,
              "#46039f"
             ],
             [
              0.2222222222222222,
              "#7201a8"
             ],
             [
              0.3333333333333333,
              "#9c179e"
             ],
             [
              0.4444444444444444,
              "#bd3786"
             ],
             [
              0.5555555555555556,
              "#d8576b"
             ],
             [
              0.6666666666666666,
              "#ed7953"
             ],
             [
              0.7777777777777778,
              "#fb9f3a"
             ],
             [
              0.8888888888888888,
              "#fdca26"
             ],
             [
              1,
              "#f0f921"
             ]
            ],
            "type": "surface"
           }
          ],
          "table": [
           {
            "cells": {
             "fill": {
              "color": "#EBF0F8"
             },
             "line": {
              "color": "white"
             }
            },
            "header": {
             "fill": {
              "color": "#C8D4E3"
             },
             "line": {
              "color": "white"
             }
            },
            "type": "table"
           }
          ]
         },
         "layout": {
          "annotationdefaults": {
           "arrowcolor": "#2a3f5f",
           "arrowhead": 0,
           "arrowwidth": 1
          },
          "autotypenumbers": "strict",
          "coloraxis": {
           "colorbar": {
            "outlinewidth": 0,
            "ticks": ""
           }
          },
          "colorscale": {
           "diverging": [
            [
             0,
             "#8e0152"
            ],
            [
             0.1,
             "#c51b7d"
            ],
            [
             0.2,
             "#de77ae"
            ],
            [
             0.3,
             "#f1b6da"
            ],
            [
             0.4,
             "#fde0ef"
            ],
            [
             0.5,
             "#f7f7f7"
            ],
            [
             0.6,
             "#e6f5d0"
            ],
            [
             0.7,
             "#b8e186"
            ],
            [
             0.8,
             "#7fbc41"
            ],
            [
             0.9,
             "#4d9221"
            ],
            [
             1,
             "#276419"
            ]
           ],
           "sequential": [
            [
             0,
             "#0d0887"
            ],
            [
             0.1111111111111111,
             "#46039f"
            ],
            [
             0.2222222222222222,
             "#7201a8"
            ],
            [
             0.3333333333333333,
             "#9c179e"
            ],
            [
             0.4444444444444444,
             "#bd3786"
            ],
            [
             0.5555555555555556,
             "#d8576b"
            ],
            [
             0.6666666666666666,
             "#ed7953"
            ],
            [
             0.7777777777777778,
             "#fb9f3a"
            ],
            [
             0.8888888888888888,
             "#fdca26"
            ],
            [
             1,
             "#f0f921"
            ]
           ],
           "sequentialminus": [
            [
             0,
             "#0d0887"
            ],
            [
             0.1111111111111111,
             "#46039f"
            ],
            [
             0.2222222222222222,
             "#7201a8"
            ],
            [
             0.3333333333333333,
             "#9c179e"
            ],
            [
             0.4444444444444444,
             "#bd3786"
            ],
            [
             0.5555555555555556,
             "#d8576b"
            ],
            [
             0.6666666666666666,
             "#ed7953"
            ],
            [
             0.7777777777777778,
             "#fb9f3a"
            ],
            [
             0.8888888888888888,
             "#fdca26"
            ],
            [
             1,
             "#f0f921"
            ]
           ]
          },
          "colorway": [
           "#636efa",
           "#EF553B",
           "#00cc96",
           "#ab63fa",
           "#FFA15A",
           "#19d3f3",
           "#FF6692",
           "#B6E880",
           "#FF97FF",
           "#FECB52"
          ],
          "font": {
           "color": "#2a3f5f"
          },
          "geo": {
           "bgcolor": "white",
           "lakecolor": "white",
           "landcolor": "#E5ECF6",
           "showlakes": true,
           "showland": true,
           "subunitcolor": "white"
          },
          "hoverlabel": {
           "align": "left"
          },
          "hovermode": "closest",
          "mapbox": {
           "style": "light"
          },
          "paper_bgcolor": "white",
          "plot_bgcolor": "#E5ECF6",
          "polar": {
           "angularaxis": {
            "gridcolor": "white",
            "linecolor": "white",
            "ticks": ""
           },
           "bgcolor": "#E5ECF6",
           "radialaxis": {
            "gridcolor": "white",
            "linecolor": "white",
            "ticks": ""
           }
          },
          "scene": {
           "xaxis": {
            "backgroundcolor": "#E5ECF6",
            "gridcolor": "white",
            "gridwidth": 2,
            "linecolor": "white",
            "showbackground": true,
            "ticks": "",
            "zerolinecolor": "white"
           },
           "yaxis": {
            "backgroundcolor": "#E5ECF6",
            "gridcolor": "white",
            "gridwidth": 2,
            "linecolor": "white",
            "showbackground": true,
            "ticks": "",
            "zerolinecolor": "white"
           },
           "zaxis": {
            "backgroundcolor": "#E5ECF6",
            "gridcolor": "white",
            "gridwidth": 2,
            "linecolor": "white",
            "showbackground": true,
            "ticks": "",
            "zerolinecolor": "white"
           }
          },
          "shapedefaults": {
           "line": {
            "color": "#2a3f5f"
           }
          },
          "ternary": {
           "aaxis": {
            "gridcolor": "white",
            "linecolor": "white",
            "ticks": ""
           },
           "baxis": {
            "gridcolor": "white",
            "linecolor": "white",
            "ticks": ""
           },
           "bgcolor": "#E5ECF6",
           "caxis": {
            "gridcolor": "white",
            "linecolor": "white",
            "ticks": ""
           }
          },
          "title": {
           "x": 0.05
          },
          "xaxis": {
           "automargin": true,
           "gridcolor": "white",
           "linecolor": "white",
           "ticks": "",
           "title": {
            "standoff": 15
           },
           "zerolinecolor": "white",
           "zerolinewidth": 2
          },
          "yaxis": {
           "automargin": true,
           "gridcolor": "white",
           "linecolor": "white",
           "ticks": "",
           "title": {
            "standoff": 15
           },
           "zerolinecolor": "white",
           "zerolinewidth": 2
          }
         }
        },
        "xaxis": {
         "anchor": "y",
         "domain": [
          0,
          1
         ],
         "title": {
          "text": "x"
         }
        },
        "yaxis": {
         "anchor": "x",
         "domain": [
          0,
          1
         ],
         "title": {
          "text": "y"
         }
        }
       }
      },
      "text/html": [
       "<div>                            <div id=\"99a12c46-c039-457d-9e2b-8dc2e25c8a6b\" class=\"plotly-graph-div\" style=\"height:525px; width:100%;\"></div>            <script type=\"text/javascript\">                require([\"plotly\"], function(Plotly) {                    window.PLOTLYENV=window.PLOTLYENV || {};                                    if (document.getElementById(\"99a12c46-c039-457d-9e2b-8dc2e25c8a6b\")) {                    Plotly.newPlot(                        \"99a12c46-c039-457d-9e2b-8dc2e25c8a6b\",                        [{\"hovertemplate\":\"type=og<br>x=%{x}<br>y=%{y}<extra></extra>\",\"legendgroup\":\"og\",\"marker\":{\"color\":\"#636efa\",\"symbol\":\"circle\"},\"mode\":\"markers\",\"name\":\"og\",\"orientation\":\"v\",\"showlegend\":true,\"x\":[2.0903491973876953,1.5593973398208618,2.1693172454833984,1.7452497482299805,2.7101681232452393,1.3320918083190918,1.449767827987671,1.8501280546188354,1.7672566175460815,1.3702619075775146,1.5965179204940796,1.9610074758529663,1.8224490880966187,1.8068466186523438,1.3851410150527954,1.8685020208358765,1.4398024082183838,1.6403124332427979,1.27987802028656,0.9469099044799805,1.767997145652771,1.3519294261932373,1.746556043624878,1.4345886707305908,2.4828708171844482,1.464969277381897,1.5405900478363037,2.4713284969329834,1.6389858722686768,2.0939979553222656,1.721462368965149,1.9385854005813599],\"xaxis\":\"x\",\"y\":[15.902088165283203,15.080292701721191,14.253313064575195,15.806062698364258,15.552733421325684,15.875603675842285,15.402312278747559,15.842517852783203,15.868395805358887,15.032059669494629,15.797246932983398,16.248903274536133,15.605032920837402,15.648548126220703,15.561915397644043,15.75468635559082,15.574723243713379,15.769270896911621,16.09075927734375,15.998152732849121,15.72165584564209,16.012304306030273,15.743911743164062,15.129537582397461,15.730660438537598,14.933797836303711,15.856947898864746,15.345863342285156,15.895408630371094,15.476445198059082,16.128103256225586,15.971492767333984],\"yaxis\":\"y\",\"type\":\"scatter\"},{\"hovertemplate\":\"type=new<br>x=%{x}<br>y=%{y}<extra></extra>\",\"legendgroup\":\"new\",\"marker\":{\"color\":\"#EF553B\",\"symbol\":\"circle\"},\"mode\":\"markers\",\"name\":\"new\",\"orientation\":\"v\",\"showlegend\":true,\"x\":[1.459275722503662,0.7853549718856812,0.20249053835868835,0.7741374969482422,2.677877902984619,0.5713481307029724,1.4493403434753418,1.709235429763794,1.3851853609085083,0.19239966571331024,0.601020336151123,2.1650586128234863,0.2133738249540329,0.5761241316795349,0.7713099718093872,0.6985903382301331,0.21393698453903198,1.7029054164886475,0.18535910546779633,1.1914401054382324,0.4386955797672272,0.19478008151054382,0.1488361656665802,0.39720338582992554,0.6784175038337708,0.8632879257202148,0.32770398259162903,0.9118636250495911,0.11388398706912994,0.3153579831123352,0.12376467883586884,0.7312158346176147],\"xaxis\":\"x\",\"y\":[13.396656036376953,15.458619117736816,14.084254264831543,14.403413772583008,15.113489151000977,13.854948043823242,16.260160446166992,13.99714469909668,16.027320861816406,14.015297889709473,14.791024208068848,15.98248291015625,13.889884948730469,15.270318031311035,15.917016983032227,14.498869895935059,14.102901458740234,14.482590675354004,14.2529296875,14.035683631896973,14.851497650146484,14.17658519744873,14.059334754943848,14.941033363342285,14.353399276733398,16.08527946472168,14.092313766479492,13.446322441101074,14.170069694519043,14.70840835571289,14.308231353759766,15.835497856140137],\"yaxis\":\"y\",\"type\":\"scatter\"}],                        {\"template\":{\"data\":{\"bar\":[{\"error_x\":{\"color\":\"#2a3f5f\"},\"error_y\":{\"color\":\"#2a3f5f\"},\"marker\":{\"line\":{\"color\":\"#E5ECF6\",\"width\":0.5},\"pattern\":{\"fillmode\":\"overlay\",\"size\":10,\"solidity\":0.2}},\"type\":\"bar\"}],\"barpolar\":[{\"marker\":{\"line\":{\"color\":\"#E5ECF6\",\"width\":0.5},\"pattern\":{\"fillmode\":\"overlay\",\"size\":10,\"solidity\":0.2}},\"type\":\"barpolar\"}],\"carpet\":[{\"aaxis\":{\"endlinecolor\":\"#2a3f5f\",\"gridcolor\":\"white\",\"linecolor\":\"white\",\"minorgridcolor\":\"white\",\"startlinecolor\":\"#2a3f5f\"},\"baxis\":{\"endlinecolor\":\"#2a3f5f\",\"gridcolor\":\"white\",\"linecolor\":\"white\",\"minorgridcolor\":\"white\",\"startlinecolor\":\"#2a3f5f\"},\"type\":\"carpet\"}],\"choropleth\":[{\"colorbar\":{\"outlinewidth\":0,\"ticks\":\"\"},\"type\":\"choropleth\"}],\"contour\":[{\"colorbar\":{\"outlinewidth\":0,\"ticks\":\"\"},\"colorscale\":[[0.0,\"#0d0887\"],[0.1111111111111111,\"#46039f\"],[0.2222222222222222,\"#7201a8\"],[0.3333333333333333,\"#9c179e\"],[0.4444444444444444,\"#bd3786\"],[0.5555555555555556,\"#d8576b\"],[0.6666666666666666,\"#ed7953\"],[0.7777777777777778,\"#fb9f3a\"],[0.8888888888888888,\"#fdca26\"],[1.0,\"#f0f921\"]],\"type\":\"contour\"}],\"contourcarpet\":[{\"colorbar\":{\"outlinewidth\":0,\"ticks\":\"\"},\"type\":\"contourcarpet\"}],\"heatmap\":[{\"colorbar\":{\"outlinewidth\":0,\"ticks\":\"\"},\"colorscale\":[[0.0,\"#0d0887\"],[0.1111111111111111,\"#46039f\"],[0.2222222222222222,\"#7201a8\"],[0.3333333333333333,\"#9c179e\"],[0.4444444444444444,\"#bd3786\"],[0.5555555555555556,\"#d8576b\"],[0.6666666666666666,\"#ed7953\"],[0.7777777777777778,\"#fb9f3a\"],[0.8888888888888888,\"#fdca26\"],[1.0,\"#f0f921\"]],\"type\":\"heatmap\"}],\"heatmapgl\":[{\"colorbar\":{\"outlinewidth\":0,\"ticks\":\"\"},\"colorscale\":[[0.0,\"#0d0887\"],[0.1111111111111111,\"#46039f\"],[0.2222222222222222,\"#7201a8\"],[0.3333333333333333,\"#9c179e\"],[0.4444444444444444,\"#bd3786\"],[0.5555555555555556,\"#d8576b\"],[0.6666666666666666,\"#ed7953\"],[0.7777777777777778,\"#fb9f3a\"],[0.8888888888888888,\"#fdca26\"],[1.0,\"#f0f921\"]],\"type\":\"heatmapgl\"}],\"histogram\":[{\"marker\":{\"pattern\":{\"fillmode\":\"overlay\",\"size\":10,\"solidity\":0.2}},\"type\":\"histogram\"}],\"histogram2d\":[{\"colorbar\":{\"outlinewidth\":0,\"ticks\":\"\"},\"colorscale\":[[0.0,\"#0d0887\"],[0.1111111111111111,\"#46039f\"],[0.2222222222222222,\"#7201a8\"],[0.3333333333333333,\"#9c179e\"],[0.4444444444444444,\"#bd3786\"],[0.5555555555555556,\"#d8576b\"],[0.6666666666666666,\"#ed7953\"],[0.7777777777777778,\"#fb9f3a\"],[0.8888888888888888,\"#fdca26\"],[1.0,\"#f0f921\"]],\"type\":\"histogram2d\"}],\"histogram2dcontour\":[{\"colorbar\":{\"outlinewidth\":0,\"ticks\":\"\"},\"colorscale\":[[0.0,\"#0d0887\"],[0.1111111111111111,\"#46039f\"],[0.2222222222222222,\"#7201a8\"],[0.3333333333333333,\"#9c179e\"],[0.4444444444444444,\"#bd3786\"],[0.5555555555555556,\"#d8576b\"],[0.6666666666666666,\"#ed7953\"],[0.7777777777777778,\"#fb9f3a\"],[0.8888888888888888,\"#fdca26\"],[1.0,\"#f0f921\"]],\"type\":\"histogram2dcontour\"}],\"mesh3d\":[{\"colorbar\":{\"outlinewidth\":0,\"ticks\":\"\"},\"type\":\"mesh3d\"}],\"parcoords\":[{\"line\":{\"colorbar\":{\"outlinewidth\":0,\"ticks\":\"\"}},\"type\":\"parcoords\"}],\"pie\":[{\"automargin\":true,\"type\":\"pie\"}],\"scatter\":[{\"marker\":{\"colorbar\":{\"outlinewidth\":0,\"ticks\":\"\"}},\"type\":\"scatter\"}],\"scatter3d\":[{\"line\":{\"colorbar\":{\"outlinewidth\":0,\"ticks\":\"\"}},\"marker\":{\"colorbar\":{\"outlinewidth\":0,\"ticks\":\"\"}},\"type\":\"scatter3d\"}],\"scattercarpet\":[{\"marker\":{\"colorbar\":{\"outlinewidth\":0,\"ticks\":\"\"}},\"type\":\"scattercarpet\"}],\"scattergeo\":[{\"marker\":{\"colorbar\":{\"outlinewidth\":0,\"ticks\":\"\"}},\"type\":\"scattergeo\"}],\"scattergl\":[{\"marker\":{\"colorbar\":{\"outlinewidth\":0,\"ticks\":\"\"}},\"type\":\"scattergl\"}],\"scattermapbox\":[{\"marker\":{\"colorbar\":{\"outlinewidth\":0,\"ticks\":\"\"}},\"type\":\"scattermapbox\"}],\"scatterpolar\":[{\"marker\":{\"colorbar\":{\"outlinewidth\":0,\"ticks\":\"\"}},\"type\":\"scatterpolar\"}],\"scatterpolargl\":[{\"marker\":{\"colorbar\":{\"outlinewidth\":0,\"ticks\":\"\"}},\"type\":\"scatterpolargl\"}],\"scatterternary\":[{\"marker\":{\"colorbar\":{\"outlinewidth\":0,\"ticks\":\"\"}},\"type\":\"scatterternary\"}],\"surface\":[{\"colorbar\":{\"outlinewidth\":0,\"ticks\":\"\"},\"colorscale\":[[0.0,\"#0d0887\"],[0.1111111111111111,\"#46039f\"],[0.2222222222222222,\"#7201a8\"],[0.3333333333333333,\"#9c179e\"],[0.4444444444444444,\"#bd3786\"],[0.5555555555555556,\"#d8576b\"],[0.6666666666666666,\"#ed7953\"],[0.7777777777777778,\"#fb9f3a\"],[0.8888888888888888,\"#fdca26\"],[1.0,\"#f0f921\"]],\"type\":\"surface\"}],\"table\":[{\"cells\":{\"fill\":{\"color\":\"#EBF0F8\"},\"line\":{\"color\":\"white\"}},\"header\":{\"fill\":{\"color\":\"#C8D4E3\"},\"line\":{\"color\":\"white\"}},\"type\":\"table\"}]},\"layout\":{\"annotationdefaults\":{\"arrowcolor\":\"#2a3f5f\",\"arrowhead\":0,\"arrowwidth\":1},\"autotypenumbers\":\"strict\",\"coloraxis\":{\"colorbar\":{\"outlinewidth\":0,\"ticks\":\"\"}},\"colorscale\":{\"diverging\":[[0,\"#8e0152\"],[0.1,\"#c51b7d\"],[0.2,\"#de77ae\"],[0.3,\"#f1b6da\"],[0.4,\"#fde0ef\"],[0.5,\"#f7f7f7\"],[0.6,\"#e6f5d0\"],[0.7,\"#b8e186\"],[0.8,\"#7fbc41\"],[0.9,\"#4d9221\"],[1,\"#276419\"]],\"sequential\":[[0.0,\"#0d0887\"],[0.1111111111111111,\"#46039f\"],[0.2222222222222222,\"#7201a8\"],[0.3333333333333333,\"#9c179e\"],[0.4444444444444444,\"#bd3786\"],[0.5555555555555556,\"#d8576b\"],[0.6666666666666666,\"#ed7953\"],[0.7777777777777778,\"#fb9f3a\"],[0.8888888888888888,\"#fdca26\"],[1.0,\"#f0f921\"]],\"sequentialminus\":[[0.0,\"#0d0887\"],[0.1111111111111111,\"#46039f\"],[0.2222222222222222,\"#7201a8\"],[0.3333333333333333,\"#9c179e\"],[0.4444444444444444,\"#bd3786\"],[0.5555555555555556,\"#d8576b\"],[0.6666666666666666,\"#ed7953\"],[0.7777777777777778,\"#fb9f3a\"],[0.8888888888888888,\"#fdca26\"],[1.0,\"#f0f921\"]]},\"colorway\":[\"#636efa\",\"#EF553B\",\"#00cc96\",\"#ab63fa\",\"#FFA15A\",\"#19d3f3\",\"#FF6692\",\"#B6E880\",\"#FF97FF\",\"#FECB52\"],\"font\":{\"color\":\"#2a3f5f\"},\"geo\":{\"bgcolor\":\"white\",\"lakecolor\":\"white\",\"landcolor\":\"#E5ECF6\",\"showlakes\":true,\"showland\":true,\"subunitcolor\":\"white\"},\"hoverlabel\":{\"align\":\"left\"},\"hovermode\":\"closest\",\"mapbox\":{\"style\":\"light\"},\"paper_bgcolor\":\"white\",\"plot_bgcolor\":\"#E5ECF6\",\"polar\":{\"angularaxis\":{\"gridcolor\":\"white\",\"linecolor\":\"white\",\"ticks\":\"\"},\"bgcolor\":\"#E5ECF6\",\"radialaxis\":{\"gridcolor\":\"white\",\"linecolor\":\"white\",\"ticks\":\"\"}},\"scene\":{\"xaxis\":{\"backgroundcolor\":\"#E5ECF6\",\"gridcolor\":\"white\",\"gridwidth\":2,\"linecolor\":\"white\",\"showbackground\":true,\"ticks\":\"\",\"zerolinecolor\":\"white\"},\"yaxis\":{\"backgroundcolor\":\"#E5ECF6\",\"gridcolor\":\"white\",\"gridwidth\":2,\"linecolor\":\"white\",\"showbackground\":true,\"ticks\":\"\",\"zerolinecolor\":\"white\"},\"zaxis\":{\"backgroundcolor\":\"#E5ECF6\",\"gridcolor\":\"white\",\"gridwidth\":2,\"linecolor\":\"white\",\"showbackground\":true,\"ticks\":\"\",\"zerolinecolor\":\"white\"}},\"shapedefaults\":{\"line\":{\"color\":\"#2a3f5f\"}},\"ternary\":{\"aaxis\":{\"gridcolor\":\"white\",\"linecolor\":\"white\",\"ticks\":\"\"},\"baxis\":{\"gridcolor\":\"white\",\"linecolor\":\"white\",\"ticks\":\"\"},\"bgcolor\":\"#E5ECF6\",\"caxis\":{\"gridcolor\":\"white\",\"linecolor\":\"white\",\"ticks\":\"\"}},\"title\":{\"x\":0.05},\"xaxis\":{\"automargin\":true,\"gridcolor\":\"white\",\"linecolor\":\"white\",\"ticks\":\"\",\"title\":{\"standoff\":15},\"zerolinecolor\":\"white\",\"zerolinewidth\":2},\"yaxis\":{\"automargin\":true,\"gridcolor\":\"white\",\"linecolor\":\"white\",\"ticks\":\"\",\"title\":{\"standoff\":15},\"zerolinecolor\":\"white\",\"zerolinewidth\":2}}},\"xaxis\":{\"anchor\":\"y\",\"domain\":[0.0,1.0],\"title\":{\"text\":\"x\"}},\"yaxis\":{\"anchor\":\"x\",\"domain\":[0.0,1.0],\"title\":{\"text\":\"y\"}},\"legend\":{\"title\":{\"text\":\"type\"},\"tracegroupgap\":0},\"margin\":{\"t\":60}},                        {\"responsive\": true}                    ).then(function(){\n",
       "                            \n",
       "var gd = document.getElementById('99a12c46-c039-457d-9e2b-8dc2e25c8a6b');\n",
       "var x = new MutationObserver(function (mutations, observer) {{\n",
       "        var display = window.getComputedStyle(gd).display;\n",
       "        if (!display || display === 'none') {{\n",
       "            console.log([gd, 'removed!']);\n",
       "            Plotly.purge(gd);\n",
       "            observer.disconnect();\n",
       "        }}\n",
       "}});\n",
       "\n",
       "// Listen for the removal of the full notebook cells\n",
       "var notebookContainer = gd.closest('#notebook-container');\n",
       "if (notebookContainer) {{\n",
       "    x.observe(notebookContainer, {childList: true});\n",
       "}}\n",
       "\n",
       "// Listen for the clearing of the current output cell\n",
       "var outputEl = gd.closest('.output');\n",
       "if (outputEl) {{\n",
       "    x.observe(outputEl, {childList: true});\n",
       "}}\n",
       "\n",
       "                        })                };                });            </script>        </div>"
      ]
     },
     "metadata": {},
     "output_type": "display_data"
    }
   ],
   "source": [
    "fig = px.scatter(\n",
    "    pd.concat([dfnew, dfnewtwos]), color=\"type\", x='x', y='y')\n",
    "\n",
    "fig.show()"
   ]
  },
  {
   "cell_type": "code",
   "execution_count": 413,
   "id": "87f5e063",
   "metadata": {},
   "outputs": [
    {
     "name": "stderr",
     "output_type": "stream",
     "text": [
      "/var/folders/8t/119qytm92x1gj5w2__d4vj800000gn/T/ipykernel_78342/1963335029.py:1: FutureWarning:\n",
      "\n",
      "Dropping of nuisance columns in DataFrame reductions (with 'numeric_only=None') is deprecated; in a future version this will raise TypeError.  Select only valid columns before calling the reduction.\n",
      "\n"
     ]
    }
   ],
   "source": [
    "x_avg, y_avg = dfnew.mean(axis=0)\n",
    "refarr = np.array([x_avg, y_avg])"
   ]
  },
  {
   "cell_type": "code",
   "execution_count": 414,
   "id": "f7a86a9c",
   "metadata": {},
   "outputs": [],
   "source": [
    "distances = []\n",
    "\n",
    "for b in newtwos:\n",
    "    distances.append(np.linalg.norm(b - refarr))\n",
    "    \n",
    "distances = np.array(distances)"
   ]
  },
  {
   "cell_type": "code",
   "execution_count": 415,
   "id": "2f4444ba",
   "metadata": {},
   "outputs": [
    {
     "data": {
      "text/plain": [
       "['From Boston to Buffalo to the Caribbean, @JetBlue takes me wherever I need to go. #JetBlueLove',\n",
       " 'No need to stop the tweets, @JetBlue. Keep them coming! #JetBlueLove',\n",
       " \"I may not have my tux, but I'm always ready for a flight with @JetBlue. #JetBlueLove\",\n",
       " \"Just booked my next flight with @JetBlue and couldn't be more excited! #JetBlueLove\",\n",
       " 'When it comes to flying, @JetBlue is always the way to go. #TravelGoals',\n",
       " 'When it comes to air travel, @JetBlue is always my first choice. #AirlineGoals',\n",
       " \"Thanks to @JetBlue, I'm always ready to jet off to my next adventure. #TravelGoals\",\n",
       " \"@JetBlue, you're killing the airline game with your on-point fleet and exceptional service. Keep it up! #AirlineGoals\",\n",
       " \"Just when I thought @JetBlue couldn't get any better, they surprise me with amazing on-board entertainment! #AirlineGoals\",\n",
       " \"Thanks to @JetBlue, I'm always ready for my next adventure. #JetBlueLove\",\n",
       " \"I love when my flights are on fleek, just like @JetBlue's fleet! #TravelGoals\",\n",
       " 'I can always count on @JetBlue for an amazing flight experience. #AirlineGoals',\n",
       " 'Shoutout to @JetBlue for the best flight experience ever! #AirlineGoals',\n",
       " 'The only thing that could make my flight with @JetBlue better is if I get a chance to snap a selfie with the crew! #JetBlueLove',\n",
       " \"Flying with @JetBlue to my favorite city - can't wait to explore! #TravelGoals\",\n",
       " \"Just when I thought I couldn't love @JetBlue any more, they offer a flight from my hometown to my favorite city! #Winning\",\n",
       " \"I'm always excited to see @JetBlue's planes pulling into the gate - it means I'm in for a great flight! #JetBlueLove\",\n",
       " \"I'm so ready to trade the cold for a sunny destination with @JetBlue. #TravelGoals\",\n",
       " \"I'm always impressed by @JetBlue's innovative approach to air travel. #AirlineGoals\",\n",
       " 'Nothing but love for @JetBlue! Best airline around! #JetBlueLove',\n",
       " 'Flying with @JetBlue feels like a luxury experience at an affordable price. #JetBlueLove',\n",
       " \"I'm convinced that @JetBlue has the best customer service in the airline industry. #AirlineGoals\",\n",
       " 'Boarding with @JetBlue is always a breeze, thanks to their amazing agents! #JetBlueLove',\n",
       " \"Every time I fly @JetBlue, I'm reminded of why I choose this airline. Amazing service, great prices, and comfortable flights!\",\n",
       " 'Thanks, @JetBlue, for always making my travels comfortable and fun. #TravelGoals',\n",
       " 'I always have a great experience flying with @JetBlue. Thanks for making travel comfortable and easy!',\n",
       " 'Thanks, @JetBlue, for making my travel dreams come true! #TravelGoals',\n",
       " 'Thanks, @JetBlue, for always making me feel like a VIP. #TravelGoals']"
      ]
     },
     "execution_count": 415,
     "metadata": {},
     "output_type": "execute_result"
    }
   ],
   "source": [
    "sorted_x = np.argsort(distances)\n",
    "filtered = [queries[i] for i in sorted_x[:-math.ceil(sorted_x.shape[0]*0.1)]]\n",
    "filtered"
   ]
  },
  {
   "cell_type": "code",
   "execution_count": 416,
   "id": "a069e890",
   "metadata": {},
   "outputs": [
    {
     "data": {
      "text/html": [
       "<div>\n",
       "<style scoped>\n",
       "    .dataframe tbody tr th:only-of-type {\n",
       "        vertical-align: middle;\n",
       "    }\n",
       "\n",
       "    .dataframe tbody tr th {\n",
       "        vertical-align: top;\n",
       "    }\n",
       "\n",
       "    .dataframe thead th {\n",
       "        text-align: right;\n",
       "    }\n",
       "</style>\n",
       "<table border=\"1\" class=\"dataframe\">\n",
       "  <thead>\n",
       "    <tr style=\"text-align: right;\">\n",
       "      <th></th>\n",
       "      <th>text</th>\n",
       "      <th>label</th>\n",
       "    </tr>\n",
       "  </thead>\n",
       "  <tbody>\n",
       "    <tr>\n",
       "      <th>0</th>\n",
       "      <td>From Boston to Buffalo to the Caribbean, @JetB...</td>\n",
       "      <td>positive</td>\n",
       "    </tr>\n",
       "    <tr>\n",
       "      <th>1</th>\n",
       "      <td>No need to stop the tweets, @JetBlue. Keep the...</td>\n",
       "      <td>positive</td>\n",
       "    </tr>\n",
       "    <tr>\n",
       "      <th>2</th>\n",
       "      <td>I may not have my tux, but I'm always ready fo...</td>\n",
       "      <td>positive</td>\n",
       "    </tr>\n",
       "    <tr>\n",
       "      <th>3</th>\n",
       "      <td>Just booked my next flight with @JetBlue and c...</td>\n",
       "      <td>positive</td>\n",
       "    </tr>\n",
       "    <tr>\n",
       "      <th>4</th>\n",
       "      <td>When it comes to flying, @JetBlue is always th...</td>\n",
       "      <td>positive</td>\n",
       "    </tr>\n",
       "    <tr>\n",
       "      <th>5</th>\n",
       "      <td>When it comes to air travel, @JetBlue is alway...</td>\n",
       "      <td>positive</td>\n",
       "    </tr>\n",
       "    <tr>\n",
       "      <th>6</th>\n",
       "      <td>Thanks to @JetBlue, I'm always ready to jet of...</td>\n",
       "      <td>positive</td>\n",
       "    </tr>\n",
       "    <tr>\n",
       "      <th>7</th>\n",
       "      <td>@JetBlue, you're killing the airline game with...</td>\n",
       "      <td>positive</td>\n",
       "    </tr>\n",
       "    <tr>\n",
       "      <th>8</th>\n",
       "      <td>Just when I thought @JetBlue couldn't get any ...</td>\n",
       "      <td>positive</td>\n",
       "    </tr>\n",
       "    <tr>\n",
       "      <th>9</th>\n",
       "      <td>Thanks to @JetBlue, I'm always ready for my ne...</td>\n",
       "      <td>positive</td>\n",
       "    </tr>\n",
       "    <tr>\n",
       "      <th>10</th>\n",
       "      <td>I love when my flights are on fleek, just like...</td>\n",
       "      <td>positive</td>\n",
       "    </tr>\n",
       "    <tr>\n",
       "      <th>11</th>\n",
       "      <td>I can always count on @JetBlue for an amazing ...</td>\n",
       "      <td>positive</td>\n",
       "    </tr>\n",
       "    <tr>\n",
       "      <th>12</th>\n",
       "      <td>Shoutout to @JetBlue for the best flight exper...</td>\n",
       "      <td>positive</td>\n",
       "    </tr>\n",
       "    <tr>\n",
       "      <th>13</th>\n",
       "      <td>The only thing that could make my flight with ...</td>\n",
       "      <td>positive</td>\n",
       "    </tr>\n",
       "    <tr>\n",
       "      <th>14</th>\n",
       "      <td>Flying with @JetBlue to my favorite city - can...</td>\n",
       "      <td>positive</td>\n",
       "    </tr>\n",
       "    <tr>\n",
       "      <th>15</th>\n",
       "      <td>Just when I thought I couldn't love @JetBlue a...</td>\n",
       "      <td>positive</td>\n",
       "    </tr>\n",
       "    <tr>\n",
       "      <th>16</th>\n",
       "      <td>I'm always excited to see @JetBlue's planes pu...</td>\n",
       "      <td>positive</td>\n",
       "    </tr>\n",
       "    <tr>\n",
       "      <th>17</th>\n",
       "      <td>I'm so ready to trade the cold for a sunny des...</td>\n",
       "      <td>positive</td>\n",
       "    </tr>\n",
       "    <tr>\n",
       "      <th>18</th>\n",
       "      <td>I'm always impressed by @JetBlue's innovative ...</td>\n",
       "      <td>positive</td>\n",
       "    </tr>\n",
       "    <tr>\n",
       "      <th>19</th>\n",
       "      <td>Nothing but love for @JetBlue! Best airline ar...</td>\n",
       "      <td>positive</td>\n",
       "    </tr>\n",
       "    <tr>\n",
       "      <th>20</th>\n",
       "      <td>Flying with @JetBlue feels like a luxury exper...</td>\n",
       "      <td>positive</td>\n",
       "    </tr>\n",
       "    <tr>\n",
       "      <th>21</th>\n",
       "      <td>I'm convinced that @JetBlue has the best custo...</td>\n",
       "      <td>positive</td>\n",
       "    </tr>\n",
       "    <tr>\n",
       "      <th>22</th>\n",
       "      <td>Boarding with @JetBlue is always a breeze, tha...</td>\n",
       "      <td>positive</td>\n",
       "    </tr>\n",
       "    <tr>\n",
       "      <th>23</th>\n",
       "      <td>Every time I fly @JetBlue, I'm reminded of why...</td>\n",
       "      <td>positive</td>\n",
       "    </tr>\n",
       "    <tr>\n",
       "      <th>24</th>\n",
       "      <td>Thanks, @JetBlue, for always making my travels...</td>\n",
       "      <td>positive</td>\n",
       "    </tr>\n",
       "    <tr>\n",
       "      <th>25</th>\n",
       "      <td>I always have a great experience flying with @...</td>\n",
       "      <td>positive</td>\n",
       "    </tr>\n",
       "    <tr>\n",
       "      <th>26</th>\n",
       "      <td>Thanks, @JetBlue, for making my travel dreams ...</td>\n",
       "      <td>positive</td>\n",
       "    </tr>\n",
       "    <tr>\n",
       "      <th>27</th>\n",
       "      <td>Thanks, @JetBlue, for always making me feel li...</td>\n",
       "      <td>positive</td>\n",
       "    </tr>\n",
       "  </tbody>\n",
       "</table>\n",
       "</div>"
      ],
      "text/plain": [
       "                                                 text     label\n",
       "0   From Boston to Buffalo to the Caribbean, @JetB...  positive\n",
       "1   No need to stop the tweets, @JetBlue. Keep the...  positive\n",
       "2   I may not have my tux, but I'm always ready fo...  positive\n",
       "3   Just booked my next flight with @JetBlue and c...  positive\n",
       "4   When it comes to flying, @JetBlue is always th...  positive\n",
       "5   When it comes to air travel, @JetBlue is alway...  positive\n",
       "6   Thanks to @JetBlue, I'm always ready to jet of...  positive\n",
       "7   @JetBlue, you're killing the airline game with...  positive\n",
       "8   Just when I thought @JetBlue couldn't get any ...  positive\n",
       "9   Thanks to @JetBlue, I'm always ready for my ne...  positive\n",
       "10  I love when my flights are on fleek, just like...  positive\n",
       "11  I can always count on @JetBlue for an amazing ...  positive\n",
       "12  Shoutout to @JetBlue for the best flight exper...  positive\n",
       "13  The only thing that could make my flight with ...  positive\n",
       "14  Flying with @JetBlue to my favorite city - can...  positive\n",
       "15  Just when I thought I couldn't love @JetBlue a...  positive\n",
       "16  I'm always excited to see @JetBlue's planes pu...  positive\n",
       "17  I'm so ready to trade the cold for a sunny des...  positive\n",
       "18  I'm always impressed by @JetBlue's innovative ...  positive\n",
       "19  Nothing but love for @JetBlue! Best airline ar...  positive\n",
       "20  Flying with @JetBlue feels like a luxury exper...  positive\n",
       "21  I'm convinced that @JetBlue has the best custo...  positive\n",
       "22  Boarding with @JetBlue is always a breeze, tha...  positive\n",
       "23  Every time I fly @JetBlue, I'm reminded of why...  positive\n",
       "24  Thanks, @JetBlue, for always making my travels...  positive\n",
       "25  I always have a great experience flying with @...  positive\n",
       "26  Thanks, @JetBlue, for making my travel dreams ...  positive\n",
       "27  Thanks, @JetBlue, for always making me feel li...  positive"
      ]
     },
     "execution_count": 416,
     "metadata": {},
     "output_type": "execute_result"
    }
   ],
   "source": [
    "dataAppend = pd.DataFrame(filtered, columns=[\"text\"])\n",
    "dataAppend[\"label\"] = [label] * dataAppend.shape[0]\n",
    "dataAppend"
   ]
  },
  {
   "cell_type": "code",
   "execution_count": 417,
   "id": "6e7db8c2",
   "metadata": {},
   "outputs": [],
   "source": [
    "dataAppend.to_csv('newpoints.csv', mode=\"a\", index=False)"
   ]
  },
  {
   "cell_type": "code",
   "execution_count": 82,
   "id": "9560c35f",
   "metadata": {},
   "outputs": [
    {
     "data": {
      "text/html": [
       "<div>\n",
       "<style scoped>\n",
       "    .dataframe tbody tr th:only-of-type {\n",
       "        vertical-align: middle;\n",
       "    }\n",
       "\n",
       "    .dataframe tbody tr th {\n",
       "        vertical-align: top;\n",
       "    }\n",
       "\n",
       "    .dataframe thead th {\n",
       "        text-align: right;\n",
       "    }\n",
       "</style>\n",
       "<table border=\"1\" class=\"dataframe\">\n",
       "  <thead>\n",
       "    <tr style=\"text-align: right;\">\n",
       "      <th></th>\n",
       "      <th>Unnamed: 0.3</th>\n",
       "      <th>Unnamed: 0.2</th>\n",
       "      <th>Unnamed: 0.1</th>\n",
       "      <th>Unnamed: 0</th>\n",
       "      <th>label</th>\n",
       "      <th>text</th>\n",
       "      <th>category</th>\n",
       "      <th>original_id</th>\n",
       "      <th>predicted_label</th>\n",
       "      <th>emb_0</th>\n",
       "      <th>...</th>\n",
       "      <th>emb_761</th>\n",
       "      <th>emb_762</th>\n",
       "      <th>emb_763</th>\n",
       "      <th>emb_764</th>\n",
       "      <th>emb_765</th>\n",
       "      <th>emb_766</th>\n",
       "      <th>emb_767</th>\n",
       "      <th>cluster</th>\n",
       "      <th>x</th>\n",
       "      <th>y</th>\n",
       "    </tr>\n",
       "  </thead>\n",
       "  <tbody>\n",
       "    <tr>\n",
       "      <th>324</th>\n",
       "      <td>324</td>\n",
       "      <td>324</td>\n",
       "      <td>324</td>\n",
       "      <td>6840</td>\n",
       "      <td>positive</td>\n",
       "      <td>sooo earlier i said i couldnt fly with you fo...</td>\n",
       "      <td>1</td>\n",
       "      <td>6840</td>\n",
       "      <td>0</td>\n",
       "      <td>-0.155660</td>\n",
       "      <td>...</td>\n",
       "      <td>-1.191289</td>\n",
       "      <td>-0.302810</td>\n",
       "      <td>-0.148592</td>\n",
       "      <td>-0.177926</td>\n",
       "      <td>0.054763</td>\n",
       "      <td>-0.010817</td>\n",
       "      <td>0.627878</td>\n",
       "      <td>5</td>\n",
       "      <td>3.395363</td>\n",
       "      <td>15.495116</td>\n",
       "    </tr>\n",
       "    <tr>\n",
       "      <th>325</th>\n",
       "      <td>325</td>\n",
       "      <td>325</td>\n",
       "      <td>325</td>\n",
       "      <td>13384</td>\n",
       "      <td>positive</td>\n",
       "      <td>thanks hoping that by wed I can get back to DFW</td>\n",
       "      <td>1</td>\n",
       "      <td>13384</td>\n",
       "      <td>0</td>\n",
       "      <td>0.778993</td>\n",
       "      <td>...</td>\n",
       "      <td>0.128634</td>\n",
       "      <td>0.230073</td>\n",
       "      <td>0.081046</td>\n",
       "      <td>-0.708278</td>\n",
       "      <td>-0.784081</td>\n",
       "      <td>-0.363848</td>\n",
       "      <td>0.637311</td>\n",
       "      <td>0</td>\n",
       "      <td>0.110970</td>\n",
       "      <td>16.098774</td>\n",
       "    </tr>\n",
       "    <tr>\n",
       "      <th>326</th>\n",
       "      <td>326</td>\n",
       "      <td>326</td>\n",
       "      <td>326</td>\n",
       "      <td>2768</td>\n",
       "      <td>positive</td>\n",
       "      <td>all good man it isn't your fault that plane i...</td>\n",
       "      <td>1</td>\n",
       "      <td>2768</td>\n",
       "      <td>2</td>\n",
       "      <td>0.129607</td>\n",
       "      <td>...</td>\n",
       "      <td>-2.403039</td>\n",
       "      <td>-0.656652</td>\n",
       "      <td>0.019882</td>\n",
       "      <td>0.399017</td>\n",
       "      <td>0.637847</td>\n",
       "      <td>-0.436469</td>\n",
       "      <td>0.135851</td>\n",
       "      <td>1</td>\n",
       "      <td>1.643391</td>\n",
       "      <td>14.840198</td>\n",
       "    </tr>\n",
       "    <tr>\n",
       "      <th>327</th>\n",
       "      <td>327</td>\n",
       "      <td>327</td>\n",
       "      <td>327</td>\n",
       "      <td>7160</td>\n",
       "      <td>positive</td>\n",
       "      <td>LMAO “: Our fleet's on fleek. http://t.co/aIyC...</td>\n",
       "      <td>1</td>\n",
       "      <td>7160</td>\n",
       "      <td>0</td>\n",
       "      <td>-0.120038</td>\n",
       "      <td>...</td>\n",
       "      <td>-0.617315</td>\n",
       "      <td>-0.397056</td>\n",
       "      <td>0.393941</td>\n",
       "      <td>0.499522</td>\n",
       "      <td>0.374010</td>\n",
       "      <td>-0.553687</td>\n",
       "      <td>-0.062683</td>\n",
       "      <td>3</td>\n",
       "      <td>2.282380</td>\n",
       "      <td>17.267775</td>\n",
       "    </tr>\n",
       "    <tr>\n",
       "      <th>328</th>\n",
       "      <td>328</td>\n",
       "      <td>328</td>\n",
       "      <td>328</td>\n",
       "      <td>8954</td>\n",
       "      <td>positive</td>\n",
       "      <td>to offer service from Daytona Beach to New Yo...</td>\n",
       "      <td>1</td>\n",
       "      <td>8954</td>\n",
       "      <td>0</td>\n",
       "      <td>-0.025715</td>\n",
       "      <td>...</td>\n",
       "      <td>0.198055</td>\n",
       "      <td>0.143096</td>\n",
       "      <td>-0.214299</td>\n",
       "      <td>-0.349405</td>\n",
       "      <td>0.046533</td>\n",
       "      <td>-0.118862</td>\n",
       "      <td>-0.106325</td>\n",
       "      <td>3</td>\n",
       "      <td>1.898268</td>\n",
       "      <td>17.464727</td>\n",
       "    </tr>\n",
       "    <tr>\n",
       "      <th>...</th>\n",
       "      <td>...</td>\n",
       "      <td>...</td>\n",
       "      <td>...</td>\n",
       "      <td>...</td>\n",
       "      <td>...</td>\n",
       "      <td>...</td>\n",
       "      <td>...</td>\n",
       "      <td>...</td>\n",
       "      <td>...</td>\n",
       "      <td>...</td>\n",
       "      <td>...</td>\n",
       "      <td>...</td>\n",
       "      <td>...</td>\n",
       "      <td>...</td>\n",
       "      <td>...</td>\n",
       "      <td>...</td>\n",
       "      <td>...</td>\n",
       "      <td>...</td>\n",
       "      <td>...</td>\n",
       "      <td>...</td>\n",
       "      <td>...</td>\n",
       "    </tr>\n",
       "    <tr>\n",
       "      <th>407</th>\n",
       "      <td>407</td>\n",
       "      <td>407</td>\n",
       "      <td>407</td>\n",
       "      <td>6823</td>\n",
       "      <td>positive</td>\n",
       "      <td>A320 pulling into the gate as the sunrises he...</td>\n",
       "      <td>1</td>\n",
       "      <td>6823</td>\n",
       "      <td>0</td>\n",
       "      <td>-0.246986</td>\n",
       "      <td>...</td>\n",
       "      <td>0.477163</td>\n",
       "      <td>-0.203902</td>\n",
       "      <td>0.268203</td>\n",
       "      <td>-0.028085</td>\n",
       "      <td>0.418982</td>\n",
       "      <td>0.284505</td>\n",
       "      <td>-0.026405</td>\n",
       "      <td>3</td>\n",
       "      <td>2.176193</td>\n",
       "      <td>17.391640</td>\n",
       "    </tr>\n",
       "    <tr>\n",
       "      <th>408</th>\n",
       "      <td>408</td>\n",
       "      <td>408</td>\n",
       "      <td>408</td>\n",
       "      <td>378</td>\n",
       "      <td>positive</td>\n",
       "      <td>For my Grandma Ella's 80th, she would &amp;lt;3 a...</td>\n",
       "      <td>1</td>\n",
       "      <td>378</td>\n",
       "      <td>0</td>\n",
       "      <td>-0.409296</td>\n",
       "      <td>...</td>\n",
       "      <td>-0.453528</td>\n",
       "      <td>0.126615</td>\n",
       "      <td>0.290363</td>\n",
       "      <td>0.115345</td>\n",
       "      <td>0.756548</td>\n",
       "      <td>-0.186284</td>\n",
       "      <td>-0.172374</td>\n",
       "      <td>1</td>\n",
       "      <td>2.449598</td>\n",
       "      <td>14.766312</td>\n",
       "    </tr>\n",
       "    <tr>\n",
       "      <th>409</th>\n",
       "      <td>409</td>\n",
       "      <td>409</td>\n",
       "      <td>409</td>\n",
       "      <td>5527</td>\n",
       "      <td>positive</td>\n",
       "      <td>I will do just about anything tO GO TO THE VE...</td>\n",
       "      <td>1</td>\n",
       "      <td>5527</td>\n",
       "      <td>0</td>\n",
       "      <td>-0.383703</td>\n",
       "      <td>...</td>\n",
       "      <td>-0.793519</td>\n",
       "      <td>-0.261575</td>\n",
       "      <td>0.512884</td>\n",
       "      <td>-0.530931</td>\n",
       "      <td>-0.230358</td>\n",
       "      <td>0.056423</td>\n",
       "      <td>0.550610</td>\n",
       "      <td>2</td>\n",
       "      <td>3.782779</td>\n",
       "      <td>12.065850</td>\n",
       "    </tr>\n",
       "    <tr>\n",
       "      <th>410</th>\n",
       "      <td>410</td>\n",
       "      <td>410</td>\n",
       "      <td>410</td>\n",
       "      <td>7678</td>\n",
       "      <td>positive</td>\n",
       "      <td>is amazing. Had a short delay. They gave me $...</td>\n",
       "      <td>1</td>\n",
       "      <td>7678</td>\n",
       "      <td>2</td>\n",
       "      <td>-0.381238</td>\n",
       "      <td>...</td>\n",
       "      <td>-1.206835</td>\n",
       "      <td>-0.085316</td>\n",
       "      <td>0.287592</td>\n",
       "      <td>-0.492705</td>\n",
       "      <td>-0.153310</td>\n",
       "      <td>-0.246269</td>\n",
       "      <td>0.217216</td>\n",
       "      <td>1</td>\n",
       "      <td>2.755985</td>\n",
       "      <td>15.005701</td>\n",
       "    </tr>\n",
       "    <tr>\n",
       "      <th>411</th>\n",
       "      <td>411</td>\n",
       "      <td>411</td>\n",
       "      <td>411</td>\n",
       "      <td>589</td>\n",
       "      <td>positive</td>\n",
       "      <td>441, which also had 1 working WC in coach. Go...</td>\n",
       "      <td>1</td>\n",
       "      <td>589</td>\n",
       "      <td>2</td>\n",
       "      <td>-0.277235</td>\n",
       "      <td>...</td>\n",
       "      <td>-0.657052</td>\n",
       "      <td>-0.132889</td>\n",
       "      <td>0.062956</td>\n",
       "      <td>-0.121568</td>\n",
       "      <td>0.263083</td>\n",
       "      <td>-0.149534</td>\n",
       "      <td>0.197145</td>\n",
       "      <td>1</td>\n",
       "      <td>0.491514</td>\n",
       "      <td>14.919589</td>\n",
       "    </tr>\n",
       "  </tbody>\n",
       "</table>\n",
       "<p>88 rows × 780 columns</p>\n",
       "</div>"
      ],
      "text/plain": [
       "     Unnamed: 0.3  Unnamed: 0.2  Unnamed: 0.1  Unnamed: 0     label  \\\n",
       "324           324           324           324        6840  positive   \n",
       "325           325           325           325       13384  positive   \n",
       "326           326           326           326        2768  positive   \n",
       "327           327           327           327        7160  positive   \n",
       "328           328           328           328        8954  positive   \n",
       "..            ...           ...           ...         ...       ...   \n",
       "407           407           407           407        6823  positive   \n",
       "408           408           408           408         378  positive   \n",
       "409           409           409           409        5527  positive   \n",
       "410           410           410           410        7678  positive   \n",
       "411           411           411           411         589  positive   \n",
       "\n",
       "                                                  text  category  original_id  \\\n",
       "324   sooo earlier i said i couldnt fly with you fo...         1         6840   \n",
       "325    thanks hoping that by wed I can get back to DFW         1        13384   \n",
       "326   all good man it isn't your fault that plane i...         1         2768   \n",
       "327  LMAO “: Our fleet's on fleek. http://t.co/aIyC...         1         7160   \n",
       "328   to offer service from Daytona Beach to New Yo...         1         8954   \n",
       "..                                                 ...       ...          ...   \n",
       "407   A320 pulling into the gate as the sunrises he...         1         6823   \n",
       "408   For my Grandma Ella's 80th, she would &lt;3 a...         1          378   \n",
       "409   I will do just about anything tO GO TO THE VE...         1         5527   \n",
       "410   is amazing. Had a short delay. They gave me $...         1         7678   \n",
       "411   441, which also had 1 working WC in coach. Go...         1          589   \n",
       "\n",
       "     predicted_label     emb_0  ...   emb_761   emb_762   emb_763   emb_764  \\\n",
       "324                0 -0.155660  ... -1.191289 -0.302810 -0.148592 -0.177926   \n",
       "325                0  0.778993  ...  0.128634  0.230073  0.081046 -0.708278   \n",
       "326                2  0.129607  ... -2.403039 -0.656652  0.019882  0.399017   \n",
       "327                0 -0.120038  ... -0.617315 -0.397056  0.393941  0.499522   \n",
       "328                0 -0.025715  ...  0.198055  0.143096 -0.214299 -0.349405   \n",
       "..               ...       ...  ...       ...       ...       ...       ...   \n",
       "407                0 -0.246986  ...  0.477163 -0.203902  0.268203 -0.028085   \n",
       "408                0 -0.409296  ... -0.453528  0.126615  0.290363  0.115345   \n",
       "409                0 -0.383703  ... -0.793519 -0.261575  0.512884 -0.530931   \n",
       "410                2 -0.381238  ... -1.206835 -0.085316  0.287592 -0.492705   \n",
       "411                2 -0.277235  ... -0.657052 -0.132889  0.062956 -0.121568   \n",
       "\n",
       "      emb_765   emb_766   emb_767  cluster         x          y  \n",
       "324  0.054763 -0.010817  0.627878        5  3.395363  15.495116  \n",
       "325 -0.784081 -0.363848  0.637311        0  0.110970  16.098774  \n",
       "326  0.637847 -0.436469  0.135851        1  1.643391  14.840198  \n",
       "327  0.374010 -0.553687 -0.062683        3  2.282380  17.267775  \n",
       "328  0.046533 -0.118862 -0.106325        3  1.898268  17.464727  \n",
       "..        ...       ...       ...      ...       ...        ...  \n",
       "407  0.418982  0.284505 -0.026405        3  2.176193  17.391640  \n",
       "408  0.756548 -0.186284 -0.172374        1  2.449598  14.766312  \n",
       "409 -0.230358  0.056423  0.550610        2  3.782779  12.065850  \n",
       "410 -0.153310 -0.246269  0.217216        1  2.755985  15.005701  \n",
       "411  0.263083 -0.149534  0.197145        1  0.491514  14.919589  \n",
       "\n",
       "[88 rows x 780 columns]"
      ]
     },
     "execution_count": 82,
     "metadata": {},
     "output_type": "execute_result"
    }
   ],
   "source": [
    "df.loc[df['label'] == 'positive']"
   ]
  },
  {
   "cell_type": "code",
   "execution_count": null,
   "id": "ad6b58e2",
   "metadata": {},
   "outputs": [],
   "source": [
    "from sklearn.manifold import TSNE\n",
    "\n",
    "tsne = TSNE(n_components=2, verbose=2, random_state=42)\n",
    "genre_embedding = tsne.fit_transform(arr_emb)\n",
    "\n",
    "genre_embedding"
   ]
  },
  {
   "cell_type": "code",
   "execution_count": null,
   "id": "82a97574",
   "metadata": {},
   "outputs": [],
   "source": [
    "df3[\"x\"] = genre_embedding[:, 0]\n",
    "df3[\"y\"] = genre_embedding[:, 1]"
   ]
  },
  {
   "cell_type": "code",
   "execution_count": null,
   "id": "695a5b01",
   "metadata": {},
   "outputs": [],
   "source": [
    "df3"
   ]
  },
  {
   "cell_type": "code",
   "execution_count": null,
   "id": "7ca22f72",
   "metadata": {},
   "outputs": [],
   "source": []
  }
 ],
 "metadata": {
  "kernelspec": {
   "display_name": "Python 3 (ipykernel)",
   "language": "python",
   "name": "python3"
  },
  "language_info": {
   "codemirror_mode": {
    "name": "ipython",
    "version": 3
   },
   "file_extension": ".py",
   "mimetype": "text/x-python",
   "name": "python",
   "nbconvert_exporter": "python",
   "pygments_lexer": "ipython3",
   "version": "3.10.4"
  }
 },
 "nbformat": 4,
 "nbformat_minor": 5
}
