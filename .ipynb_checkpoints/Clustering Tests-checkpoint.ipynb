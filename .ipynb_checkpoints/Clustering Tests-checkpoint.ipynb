{
 "cells": [
  {
   "cell_type": "code",
   "execution_count": 122,
   "id": "9aaf5e8e",
   "metadata": {},
   "outputs": [],
   "source": [
    "import pandas as pd\n",
    "import numpy as np\n",
    "import datetime as dt\n",
    "import seaborn as sns\n",
    "import matplotlib.pyplot as plt\n",
    "from sklearn.preprocessing import StandardScaler\n",
    "from sklearn.cluster import KMeans\n",
    "from kneed import KneeLocator\n",
    "\n",
    "sns.set(rc={'figure.figsize':(15, 6)})"
   ]
  },
  {
   "cell_type": "code",
   "execution_count": 123,
   "id": "9b1b1b22",
   "metadata": {},
   "outputs": [],
   "source": [
    "def preprocess(df):\n",
    "    \"\"\"Preprocess data for KMeans clustering\"\"\"\n",
    "    \n",
    "    #df_log = np.log1p(df)\n",
    "    scaler = StandardScaler()\n",
    "    scaler.fit(df)\n",
    "    df_norm = scaler.transform(df)\n",
    "    \n",
    "    return df_norm"
   ]
  },
  {
   "cell_type": "code",
   "execution_count": 124,
   "id": "35f41f9c",
   "metadata": {},
   "outputs": [],
   "source": [
    "def elbow_plot(df):\n",
    "    \"\"\"Create elbow plot from normalized data\"\"\"\n",
    "    \n",
    "    df_norm = preprocess(df)\n",
    "    \n",
    "    sse = {}\n",
    "    \n",
    "    for k in range(1, 21):\n",
    "        kmeans = KMeans(n_clusters=k, random_state=1)\n",
    "        kmeans.fit(df_norm)\n",
    "        sse[k] = kmeans.inertia_\n",
    "    \n",
    "    plt.title('Elbow plot for K selection')\n",
    "    plt.xlabel('k')\n",
    "    plt.ylabel('SSE')\n",
    "    sns.pointplot(x=list(sse.keys()),\n",
    "                 y=list(sse.values()))\n",
    "    plt.show()"
   ]
  },
  {
   "cell_type": "code",
   "execution_count": 125,
   "id": "2f03d934",
   "metadata": {},
   "outputs": [],
   "source": [
    "def find_k(df, increment=0, decrement=0):\n",
    "    \"\"\"Find the optimum k clusters\"\"\"\n",
    "    \n",
    "    df_norm = preprocess(df)\n",
    "    sse = {}\n",
    "    \n",
    "    for k in range(1, 21):\n",
    "        kmeans = KMeans(n_clusters=k, random_state=1)\n",
    "        kmeans.fit(df_norm)\n",
    "        sse[k] = kmeans.inertia_\n",
    "    \n",
    "    kn = KneeLocator(x=list(sse.keys()), \n",
    "                 y=list(sse.values()), \n",
    "                 curve='convex', \n",
    "                 direction='decreasing')\n",
    "    k = kn.knee + increment - decrement\n",
    "    return k"
   ]
  },
  {
   "cell_type": "code",
   "execution_count": 126,
   "id": "7d6297fd",
   "metadata": {},
   "outputs": [],
   "source": [
    "def run_kmeans(df, increment=0, decrement=0):\n",
    "    \"\"\"Run KMeans clustering, including the preprocessing of the data\n",
    "    and the automatic selection of the optimum k. \n",
    "    \"\"\"\n",
    "    \n",
    "    df_norm = preprocess(df)\n",
    "    k = find_k(df, increment, decrement)\n",
    "    kmeans = KMeans(n_clusters=k, \n",
    "                    random_state=1)\n",
    "    kmeans.fit(df_norm)\n",
    "    return df.assign(cluster=kmeans.labels_)"
   ]
  },
  {
   "cell_type": "code",
   "execution_count": 238,
   "id": "874a0a6c",
   "metadata": {},
   "outputs": [],
   "source": [
    "df = pd.read_csv('missesTotal.csv')  "
   ]
  },
  {
   "cell_type": "code",
   "execution_count": 239,
   "id": "83655cd2",
   "metadata": {},
   "outputs": [
    {
     "data": {
      "text/html": [
       "<div>\n",
       "<style scoped>\n",
       "    .dataframe tbody tr th:only-of-type {\n",
       "        vertical-align: middle;\n",
       "    }\n",
       "\n",
       "    .dataframe tbody tr th {\n",
       "        vertical-align: top;\n",
       "    }\n",
       "\n",
       "    .dataframe thead th {\n",
       "        text-align: right;\n",
       "    }\n",
       "</style>\n",
       "<table border=\"1\" class=\"dataframe\">\n",
       "  <thead>\n",
       "    <tr style=\"text-align: right;\">\n",
       "      <th></th>\n",
       "      <th>Unnamed: 0.1</th>\n",
       "      <th>Unnamed: 0</th>\n",
       "      <th>label</th>\n",
       "      <th>text</th>\n",
       "      <th>category</th>\n",
       "      <th>original_id</th>\n",
       "      <th>predicted_label</th>\n",
       "      <th>emb_0</th>\n",
       "      <th>emb_1</th>\n",
       "      <th>emb_2</th>\n",
       "      <th>...</th>\n",
       "      <th>emb_758</th>\n",
       "      <th>emb_759</th>\n",
       "      <th>emb_760</th>\n",
       "      <th>emb_761</th>\n",
       "      <th>emb_762</th>\n",
       "      <th>emb_763</th>\n",
       "      <th>emb_764</th>\n",
       "      <th>emb_765</th>\n",
       "      <th>emb_766</th>\n",
       "      <th>emb_767</th>\n",
       "    </tr>\n",
       "  </thead>\n",
       "  <tbody>\n",
       "    <tr>\n",
       "      <th>0</th>\n",
       "      <td>0</td>\n",
       "      <td>813</td>\n",
       "      <td>neutral</td>\n",
       "      <td>@united I hope so too</td>\n",
       "      <td>0</td>\n",
       "      <td>813</td>\n",
       "      <td>1</td>\n",
       "      <td>0.701212</td>\n",
       "      <td>0.149414</td>\n",
       "      <td>1.801739</td>\n",
       "      <td>...</td>\n",
       "      <td>-0.641708</td>\n",
       "      <td>-0.631561</td>\n",
       "      <td>0.724360</td>\n",
       "      <td>-0.479683</td>\n",
       "      <td>0.342981</td>\n",
       "      <td>-0.128573</td>\n",
       "      <td>-0.765833</td>\n",
       "      <td>-0.322237</td>\n",
       "      <td>-0.484272</td>\n",
       "      <td>-0.027367</td>\n",
       "    </tr>\n",
       "    <tr>\n",
       "      <th>1</th>\n",
       "      <td>1</td>\n",
       "      <td>7130</td>\n",
       "      <td>neutral</td>\n",
       "      <td>@jetblue who's running your tweeter using the ...</td>\n",
       "      <td>0</td>\n",
       "      <td>7130</td>\n",
       "      <td>2</td>\n",
       "      <td>-0.095302</td>\n",
       "      <td>0.519799</td>\n",
       "      <td>-0.860941</td>\n",
       "      <td>...</td>\n",
       "      <td>-0.844507</td>\n",
       "      <td>0.545532</td>\n",
       "      <td>-0.988797</td>\n",
       "      <td>-0.470753</td>\n",
       "      <td>0.221976</td>\n",
       "      <td>-0.781311</td>\n",
       "      <td>0.437286</td>\n",
       "      <td>0.007654</td>\n",
       "      <td>-0.176711</td>\n",
       "      <td>0.090562</td>\n",
       "    </tr>\n",
       "    <tr>\n",
       "      <th>2</th>\n",
       "      <td>2</td>\n",
       "      <td>3380</td>\n",
       "      <td>neutral</td>\n",
       "      <td>@united still waiting for a response on whethe...</td>\n",
       "      <td>0</td>\n",
       "      <td>3380</td>\n",
       "      <td>2</td>\n",
       "      <td>0.404428</td>\n",
       "      <td>-0.281564</td>\n",
       "      <td>1.098605</td>\n",
       "      <td>...</td>\n",
       "      <td>0.027952</td>\n",
       "      <td>-0.336490</td>\n",
       "      <td>-0.060362</td>\n",
       "      <td>-0.929268</td>\n",
       "      <td>0.410162</td>\n",
       "      <td>0.116782</td>\n",
       "      <td>-0.160092</td>\n",
       "      <td>-0.028493</td>\n",
       "      <td>-0.795741</td>\n",
       "      <td>0.037037</td>\n",
       "    </tr>\n",
       "    <tr>\n",
       "      <th>3</th>\n",
       "      <td>3</td>\n",
       "      <td>3008</td>\n",
       "      <td>neutral</td>\n",
       "      <td>@united Based on suggestions from other passen...</td>\n",
       "      <td>0</td>\n",
       "      <td>3008</td>\n",
       "      <td>2</td>\n",
       "      <td>0.580564</td>\n",
       "      <td>-0.417264</td>\n",
       "      <td>0.539577</td>\n",
       "      <td>...</td>\n",
       "      <td>-0.246741</td>\n",
       "      <td>-1.197115</td>\n",
       "      <td>-0.562455</td>\n",
       "      <td>-0.443025</td>\n",
       "      <td>-0.123202</td>\n",
       "      <td>-0.652523</td>\n",
       "      <td>-0.151871</td>\n",
       "      <td>0.264033</td>\n",
       "      <td>-0.452444</td>\n",
       "      <td>-0.366747</td>\n",
       "    </tr>\n",
       "    <tr>\n",
       "      <th>4</th>\n",
       "      <td>4</td>\n",
       "      <td>7030</td>\n",
       "      <td>neutral</td>\n",
       "      <td>“@JetBlue: Our fleet's on fleek. http://t.co/Q...</td>\n",
       "      <td>0</td>\n",
       "      <td>7030</td>\n",
       "      <td>2</td>\n",
       "      <td>0.150641</td>\n",
       "      <td>0.191832</td>\n",
       "      <td>0.901386</td>\n",
       "      <td>...</td>\n",
       "      <td>-0.277474</td>\n",
       "      <td>-0.263758</td>\n",
       "      <td>0.017206</td>\n",
       "      <td>-0.703940</td>\n",
       "      <td>-0.521036</td>\n",
       "      <td>0.051719</td>\n",
       "      <td>0.339595</td>\n",
       "      <td>0.206907</td>\n",
       "      <td>-0.883897</td>\n",
       "      <td>0.368364</td>\n",
       "    </tr>\n",
       "    <tr>\n",
       "      <th>...</th>\n",
       "      <td>...</td>\n",
       "      <td>...</td>\n",
       "      <td>...</td>\n",
       "      <td>...</td>\n",
       "      <td>...</td>\n",
       "      <td>...</td>\n",
       "      <td>...</td>\n",
       "      <td>...</td>\n",
       "      <td>...</td>\n",
       "      <td>...</td>\n",
       "      <td>...</td>\n",
       "      <td>...</td>\n",
       "      <td>...</td>\n",
       "      <td>...</td>\n",
       "      <td>...</td>\n",
       "      <td>...</td>\n",
       "      <td>...</td>\n",
       "      <td>...</td>\n",
       "      <td>...</td>\n",
       "      <td>...</td>\n",
       "      <td>...</td>\n",
       "    </tr>\n",
       "    <tr>\n",
       "      <th>963</th>\n",
       "      <td>963</td>\n",
       "      <td>4377</td>\n",
       "      <td>positive</td>\n",
       "      <td>@SouthwestAir @heavenlychc9 I'd at least enjoy...</td>\n",
       "      <td>1</td>\n",
       "      <td>4377</td>\n",
       "      <td>0</td>\n",
       "      <td>-0.288926</td>\n",
       "      <td>-0.469544</td>\n",
       "      <td>0.763421</td>\n",
       "      <td>...</td>\n",
       "      <td>-0.027024</td>\n",
       "      <td>-1.082415</td>\n",
       "      <td>-0.697840</td>\n",
       "      <td>-0.485712</td>\n",
       "      <td>-0.417425</td>\n",
       "      <td>0.451793</td>\n",
       "      <td>-0.545403</td>\n",
       "      <td>-0.404581</td>\n",
       "      <td>-0.650430</td>\n",
       "      <td>0.245911</td>\n",
       "    </tr>\n",
       "    <tr>\n",
       "      <th>964</th>\n",
       "      <td>964</td>\n",
       "      <td>5512</td>\n",
       "      <td>positive</td>\n",
       "      <td>@SouthwestAir I'll have to drop by next time I...</td>\n",
       "      <td>1</td>\n",
       "      <td>5512</td>\n",
       "      <td>0</td>\n",
       "      <td>-0.287779</td>\n",
       "      <td>-0.133505</td>\n",
       "      <td>1.637628</td>\n",
       "      <td>...</td>\n",
       "      <td>-0.028515</td>\n",
       "      <td>-0.204185</td>\n",
       "      <td>-0.278846</td>\n",
       "      <td>0.153048</td>\n",
       "      <td>-0.024744</td>\n",
       "      <td>0.142459</td>\n",
       "      <td>-0.391037</td>\n",
       "      <td>-0.188013</td>\n",
       "      <td>-0.114064</td>\n",
       "      <td>0.296878</td>\n",
       "    </tr>\n",
       "    <tr>\n",
       "      <th>965</th>\n",
       "      <td>965</td>\n",
       "      <td>56</td>\n",
       "      <td>positive</td>\n",
       "      <td>@VirginAmerica you know it. Need it on my spot...</td>\n",
       "      <td>1</td>\n",
       "      <td>56</td>\n",
       "      <td>0</td>\n",
       "      <td>-0.120062</td>\n",
       "      <td>0.689700</td>\n",
       "      <td>0.500194</td>\n",
       "      <td>...</td>\n",
       "      <td>-0.449935</td>\n",
       "      <td>-0.235210</td>\n",
       "      <td>-0.653002</td>\n",
       "      <td>-1.018101</td>\n",
       "      <td>-0.308710</td>\n",
       "      <td>-0.254051</td>\n",
       "      <td>-0.067138</td>\n",
       "      <td>0.288422</td>\n",
       "      <td>-0.103543</td>\n",
       "      <td>-0.275301</td>\n",
       "    </tr>\n",
       "    <tr>\n",
       "      <th>966</th>\n",
       "      <td>966</td>\n",
       "      <td>6239</td>\n",
       "      <td>positive</td>\n",
       "      <td>@SouthwestAir I'm really craving your pretzels...</td>\n",
       "      <td>1</td>\n",
       "      <td>6239</td>\n",
       "      <td>0</td>\n",
       "      <td>-0.466340</td>\n",
       "      <td>0.289625</td>\n",
       "      <td>-0.217530</td>\n",
       "      <td>...</td>\n",
       "      <td>-0.224040</td>\n",
       "      <td>-0.835734</td>\n",
       "      <td>-0.458101</td>\n",
       "      <td>-1.050726</td>\n",
       "      <td>-0.012579</td>\n",
       "      <td>0.600473</td>\n",
       "      <td>-0.229492</td>\n",
       "      <td>0.395023</td>\n",
       "      <td>-0.019480</td>\n",
       "      <td>0.537425</td>\n",
       "    </tr>\n",
       "    <tr>\n",
       "      <th>967</th>\n",
       "      <td>967</td>\n",
       "      <td>7046</td>\n",
       "      <td>positive</td>\n",
       "      <td>Power Moves RT @JetBlue: Our fleet's on fleek....</td>\n",
       "      <td>1</td>\n",
       "      <td>7046</td>\n",
       "      <td>0</td>\n",
       "      <td>0.144981</td>\n",
       "      <td>-0.324572</td>\n",
       "      <td>1.059081</td>\n",
       "      <td>...</td>\n",
       "      <td>-0.364800</td>\n",
       "      <td>-0.459383</td>\n",
       "      <td>-0.432453</td>\n",
       "      <td>-1.093191</td>\n",
       "      <td>-0.174370</td>\n",
       "      <td>0.032528</td>\n",
       "      <td>0.146126</td>\n",
       "      <td>0.184161</td>\n",
       "      <td>-0.432964</td>\n",
       "      <td>-0.284159</td>\n",
       "    </tr>\n",
       "  </tbody>\n",
       "</table>\n",
       "<p>968 rows × 775 columns</p>\n",
       "</div>"
      ],
      "text/plain": [
       "     Unnamed: 0.1  Unnamed: 0     label  \\\n",
       "0               0         813   neutral   \n",
       "1               1        7130   neutral   \n",
       "2               2        3380   neutral   \n",
       "3               3        3008   neutral   \n",
       "4               4        7030   neutral   \n",
       "..            ...         ...       ...   \n",
       "963           963        4377  positive   \n",
       "964           964        5512  positive   \n",
       "965           965          56  positive   \n",
       "966           966        6239  positive   \n",
       "967           967        7046  positive   \n",
       "\n",
       "                                                  text  category  original_id  \\\n",
       "0                                @united I hope so too         0          813   \n",
       "1    @jetblue who's running your tweeter using the ...         0         7130   \n",
       "2    @united still waiting for a response on whethe...         0         3380   \n",
       "3    @united Based on suggestions from other passen...         0         3008   \n",
       "4    “@JetBlue: Our fleet's on fleek. http://t.co/Q...         0         7030   \n",
       "..                                                 ...       ...          ...   \n",
       "963  @SouthwestAir @heavenlychc9 I'd at least enjoy...         1         4377   \n",
       "964  @SouthwestAir I'll have to drop by next time I...         1         5512   \n",
       "965  @VirginAmerica you know it. Need it on my spot...         1           56   \n",
       "966  @SouthwestAir I'm really craving your pretzels...         1         6239   \n",
       "967  Power Moves RT @JetBlue: Our fleet's on fleek....         1         7046   \n",
       "\n",
       "     predicted_label     emb_0     emb_1     emb_2  ...   emb_758   emb_759  \\\n",
       "0                  1  0.701212  0.149414  1.801739  ... -0.641708 -0.631561   \n",
       "1                  2 -0.095302  0.519799 -0.860941  ... -0.844507  0.545532   \n",
       "2                  2  0.404428 -0.281564  1.098605  ...  0.027952 -0.336490   \n",
       "3                  2  0.580564 -0.417264  0.539577  ... -0.246741 -1.197115   \n",
       "4                  2  0.150641  0.191832  0.901386  ... -0.277474 -0.263758   \n",
       "..               ...       ...       ...       ...  ...       ...       ...   \n",
       "963                0 -0.288926 -0.469544  0.763421  ... -0.027024 -1.082415   \n",
       "964                0 -0.287779 -0.133505  1.637628  ... -0.028515 -0.204185   \n",
       "965                0 -0.120062  0.689700  0.500194  ... -0.449935 -0.235210   \n",
       "966                0 -0.466340  0.289625 -0.217530  ... -0.224040 -0.835734   \n",
       "967                0  0.144981 -0.324572  1.059081  ... -0.364800 -0.459383   \n",
       "\n",
       "      emb_760   emb_761   emb_762   emb_763   emb_764   emb_765   emb_766  \\\n",
       "0    0.724360 -0.479683  0.342981 -0.128573 -0.765833 -0.322237 -0.484272   \n",
       "1   -0.988797 -0.470753  0.221976 -0.781311  0.437286  0.007654 -0.176711   \n",
       "2   -0.060362 -0.929268  0.410162  0.116782 -0.160092 -0.028493 -0.795741   \n",
       "3   -0.562455 -0.443025 -0.123202 -0.652523 -0.151871  0.264033 -0.452444   \n",
       "4    0.017206 -0.703940 -0.521036  0.051719  0.339595  0.206907 -0.883897   \n",
       "..        ...       ...       ...       ...       ...       ...       ...   \n",
       "963 -0.697840 -0.485712 -0.417425  0.451793 -0.545403 -0.404581 -0.650430   \n",
       "964 -0.278846  0.153048 -0.024744  0.142459 -0.391037 -0.188013 -0.114064   \n",
       "965 -0.653002 -1.018101 -0.308710 -0.254051 -0.067138  0.288422 -0.103543   \n",
       "966 -0.458101 -1.050726 -0.012579  0.600473 -0.229492  0.395023 -0.019480   \n",
       "967 -0.432453 -1.093191 -0.174370  0.032528  0.146126  0.184161 -0.432964   \n",
       "\n",
       "      emb_767  \n",
       "0   -0.027367  \n",
       "1    0.090562  \n",
       "2    0.037037  \n",
       "3   -0.366747  \n",
       "4    0.368364  \n",
       "..        ...  \n",
       "963  0.245911  \n",
       "964  0.296878  \n",
       "965 -0.275301  \n",
       "966  0.537425  \n",
       "967 -0.284159  \n",
       "\n",
       "[968 rows x 775 columns]"
      ]
     },
     "execution_count": 239,
     "metadata": {},
     "output_type": "execute_result"
    }
   ],
   "source": [
    "df"
   ]
  },
  {
   "cell_type": "code",
   "execution_count": 240,
   "id": "07d5c394",
   "metadata": {
    "scrolled": true
   },
   "outputs": [],
   "source": [
    "df2 = df[[\"emb_\" + str(i) for i in range(768)]]"
   ]
  },
  {
   "cell_type": "code",
   "execution_count": 241,
   "id": "9fd4bc3b",
   "metadata": {},
   "outputs": [
    {
     "data": {
      "image/png": "[encoded data removed]",
      "text/plain": [
       "<Figure size 1080x432 with 1 Axes>"
      ]
     },
     "metadata": {},
     "output_type": "display_data"
    }
   ],
   "source": [
    "elbow_plot(df2)"
   ]
  },
  {
   "cell_type": "code",
   "execution_count": 242,
   "id": "7d87426c",
   "metadata": {},
   "outputs": [
    {
     "data": {
      "text/plain": [
       "7"
      ]
     },
     "execution_count": 242,
     "metadata": {},
     "output_type": "execute_result"
    }
   ],
   "source": [
    "find_k(df2)"
   ]
  },
  {
   "cell_type": "code",
   "execution_count": 243,
   "id": "3a54ddd9",
   "metadata": {},
   "outputs": [],
   "source": [
    "df3 = run_kmeans(df2)"
   ]
  },
  {
   "cell_type": "code",
   "execution_count": 244,
   "id": "26bebf50",
   "metadata": {
    "scrolled": true
   },
   "outputs": [],
   "source": [
    "df['cluster'] = df3[\"cluster\"].to_numpy()"
   ]
  },
  {
   "cell_type": "code",
   "execution_count": 245,
   "id": "91f2edb9",
   "metadata": {},
   "outputs": [
    {
     "data": {
      "text/html": [
       "<div>\n",
       "<style scoped>\n",
       "    .dataframe tbody tr th:only-of-type {\n",
       "        vertical-align: middle;\n",
       "    }\n",
       "\n",
       "    .dataframe tbody tr th {\n",
       "        vertical-align: top;\n",
       "    }\n",
       "\n",
       "    .dataframe thead th {\n",
       "        text-align: right;\n",
       "    }\n",
       "</style>\n",
       "<table border=\"1\" class=\"dataframe\">\n",
       "  <thead>\n",
       "    <tr style=\"text-align: right;\">\n",
       "      <th></th>\n",
       "      <th>Unnamed: 0.1</th>\n",
       "      <th>Unnamed: 0</th>\n",
       "      <th>label</th>\n",
       "      <th>text</th>\n",
       "      <th>category</th>\n",
       "      <th>original_id</th>\n",
       "      <th>predicted_label</th>\n",
       "      <th>emb_0</th>\n",
       "      <th>emb_1</th>\n",
       "      <th>emb_2</th>\n",
       "      <th>...</th>\n",
       "      <th>emb_759</th>\n",
       "      <th>emb_760</th>\n",
       "      <th>emb_761</th>\n",
       "      <th>emb_762</th>\n",
       "      <th>emb_763</th>\n",
       "      <th>emb_764</th>\n",
       "      <th>emb_765</th>\n",
       "      <th>emb_766</th>\n",
       "      <th>emb_767</th>\n",
       "      <th>cluster</th>\n",
       "    </tr>\n",
       "  </thead>\n",
       "  <tbody>\n",
       "    <tr>\n",
       "      <th>0</th>\n",
       "      <td>0</td>\n",
       "      <td>813</td>\n",
       "      <td>neutral</td>\n",
       "      <td>@united I hope so too</td>\n",
       "      <td>0</td>\n",
       "      <td>813</td>\n",
       "      <td>1</td>\n",
       "      <td>0.701212</td>\n",
       "      <td>0.149414</td>\n",
       "      <td>1.801739</td>\n",
       "      <td>...</td>\n",
       "      <td>-0.631561</td>\n",
       "      <td>0.724360</td>\n",
       "      <td>-0.479683</td>\n",
       "      <td>0.342981</td>\n",
       "      <td>-0.128573</td>\n",
       "      <td>-0.765833</td>\n",
       "      <td>-0.322237</td>\n",
       "      <td>-0.484272</td>\n",
       "      <td>-0.027367</td>\n",
       "      <td>3</td>\n",
       "    </tr>\n",
       "    <tr>\n",
       "      <th>1</th>\n",
       "      <td>1</td>\n",
       "      <td>7130</td>\n",
       "      <td>neutral</td>\n",
       "      <td>@jetblue who's running your tweeter using the ...</td>\n",
       "      <td>0</td>\n",
       "      <td>7130</td>\n",
       "      <td>2</td>\n",
       "      <td>-0.095302</td>\n",
       "      <td>0.519799</td>\n",
       "      <td>-0.860941</td>\n",
       "      <td>...</td>\n",
       "      <td>0.545532</td>\n",
       "      <td>-0.988797</td>\n",
       "      <td>-0.470753</td>\n",
       "      <td>0.221976</td>\n",
       "      <td>-0.781311</td>\n",
       "      <td>0.437286</td>\n",
       "      <td>0.007654</td>\n",
       "      <td>-0.176711</td>\n",
       "      <td>0.090562</td>\n",
       "      <td>1</td>\n",
       "    </tr>\n",
       "    <tr>\n",
       "      <th>2</th>\n",
       "      <td>2</td>\n",
       "      <td>3380</td>\n",
       "      <td>neutral</td>\n",
       "      <td>@united still waiting for a response on whethe...</td>\n",
       "      <td>0</td>\n",
       "      <td>3380</td>\n",
       "      <td>2</td>\n",
       "      <td>0.404428</td>\n",
       "      <td>-0.281564</td>\n",
       "      <td>1.098605</td>\n",
       "      <td>...</td>\n",
       "      <td>-0.336490</td>\n",
       "      <td>-0.060362</td>\n",
       "      <td>-0.929268</td>\n",
       "      <td>0.410162</td>\n",
       "      <td>0.116782</td>\n",
       "      <td>-0.160092</td>\n",
       "      <td>-0.028493</td>\n",
       "      <td>-0.795741</td>\n",
       "      <td>0.037037</td>\n",
       "      <td>5</td>\n",
       "    </tr>\n",
       "    <tr>\n",
       "      <th>3</th>\n",
       "      <td>3</td>\n",
       "      <td>3008</td>\n",
       "      <td>neutral</td>\n",
       "      <td>@united Based on suggestions from other passen...</td>\n",
       "      <td>0</td>\n",
       "      <td>3008</td>\n",
       "      <td>2</td>\n",
       "      <td>0.580564</td>\n",
       "      <td>-0.417264</td>\n",
       "      <td>0.539577</td>\n",
       "      <td>...</td>\n",
       "      <td>-1.197115</td>\n",
       "      <td>-0.562455</td>\n",
       "      <td>-0.443025</td>\n",
       "      <td>-0.123202</td>\n",
       "      <td>-0.652523</td>\n",
       "      <td>-0.151871</td>\n",
       "      <td>0.264033</td>\n",
       "      <td>-0.452444</td>\n",
       "      <td>-0.366747</td>\n",
       "      <td>5</td>\n",
       "    </tr>\n",
       "    <tr>\n",
       "      <th>4</th>\n",
       "      <td>4</td>\n",
       "      <td>7030</td>\n",
       "      <td>neutral</td>\n",
       "      <td>“@JetBlue: Our fleet's on fleek. http://t.co/Q...</td>\n",
       "      <td>0</td>\n",
       "      <td>7030</td>\n",
       "      <td>2</td>\n",
       "      <td>0.150641</td>\n",
       "      <td>0.191832</td>\n",
       "      <td>0.901386</td>\n",
       "      <td>...</td>\n",
       "      <td>-0.263758</td>\n",
       "      <td>0.017206</td>\n",
       "      <td>-0.703940</td>\n",
       "      <td>-0.521036</td>\n",
       "      <td>0.051719</td>\n",
       "      <td>0.339595</td>\n",
       "      <td>0.206907</td>\n",
       "      <td>-0.883897</td>\n",
       "      <td>0.368364</td>\n",
       "      <td>1</td>\n",
       "    </tr>\n",
       "    <tr>\n",
       "      <th>...</th>\n",
       "      <td>...</td>\n",
       "      <td>...</td>\n",
       "      <td>...</td>\n",
       "      <td>...</td>\n",
       "      <td>...</td>\n",
       "      <td>...</td>\n",
       "      <td>...</td>\n",
       "      <td>...</td>\n",
       "      <td>...</td>\n",
       "      <td>...</td>\n",
       "      <td>...</td>\n",
       "      <td>...</td>\n",
       "      <td>...</td>\n",
       "      <td>...</td>\n",
       "      <td>...</td>\n",
       "      <td>...</td>\n",
       "      <td>...</td>\n",
       "      <td>...</td>\n",
       "      <td>...</td>\n",
       "      <td>...</td>\n",
       "      <td>...</td>\n",
       "    </tr>\n",
       "    <tr>\n",
       "      <th>963</th>\n",
       "      <td>963</td>\n",
       "      <td>4377</td>\n",
       "      <td>positive</td>\n",
       "      <td>@SouthwestAir @heavenlychc9 I'd at least enjoy...</td>\n",
       "      <td>1</td>\n",
       "      <td>4377</td>\n",
       "      <td>0</td>\n",
       "      <td>-0.288926</td>\n",
       "      <td>-0.469544</td>\n",
       "      <td>0.763421</td>\n",
       "      <td>...</td>\n",
       "      <td>-1.082415</td>\n",
       "      <td>-0.697840</td>\n",
       "      <td>-0.485712</td>\n",
       "      <td>-0.417425</td>\n",
       "      <td>0.451793</td>\n",
       "      <td>-0.545403</td>\n",
       "      <td>-0.404581</td>\n",
       "      <td>-0.650430</td>\n",
       "      <td>0.245911</td>\n",
       "      <td>0</td>\n",
       "    </tr>\n",
       "    <tr>\n",
       "      <th>964</th>\n",
       "      <td>964</td>\n",
       "      <td>5512</td>\n",
       "      <td>positive</td>\n",
       "      <td>@SouthwestAir I'll have to drop by next time I...</td>\n",
       "      <td>1</td>\n",
       "      <td>5512</td>\n",
       "      <td>0</td>\n",
       "      <td>-0.287779</td>\n",
       "      <td>-0.133505</td>\n",
       "      <td>1.637628</td>\n",
       "      <td>...</td>\n",
       "      <td>-0.204185</td>\n",
       "      <td>-0.278846</td>\n",
       "      <td>0.153048</td>\n",
       "      <td>-0.024744</td>\n",
       "      <td>0.142459</td>\n",
       "      <td>-0.391037</td>\n",
       "      <td>-0.188013</td>\n",
       "      <td>-0.114064</td>\n",
       "      <td>0.296878</td>\n",
       "      <td>0</td>\n",
       "    </tr>\n",
       "    <tr>\n",
       "      <th>965</th>\n",
       "      <td>965</td>\n",
       "      <td>56</td>\n",
       "      <td>positive</td>\n",
       "      <td>@VirginAmerica you know it. Need it on my spot...</td>\n",
       "      <td>1</td>\n",
       "      <td>56</td>\n",
       "      <td>0</td>\n",
       "      <td>-0.120062</td>\n",
       "      <td>0.689700</td>\n",
       "      <td>0.500194</td>\n",
       "      <td>...</td>\n",
       "      <td>-0.235210</td>\n",
       "      <td>-0.653002</td>\n",
       "      <td>-1.018101</td>\n",
       "      <td>-0.308710</td>\n",
       "      <td>-0.254051</td>\n",
       "      <td>-0.067138</td>\n",
       "      <td>0.288422</td>\n",
       "      <td>-0.103543</td>\n",
       "      <td>-0.275301</td>\n",
       "      <td>5</td>\n",
       "    </tr>\n",
       "    <tr>\n",
       "      <th>966</th>\n",
       "      <td>966</td>\n",
       "      <td>6239</td>\n",
       "      <td>positive</td>\n",
       "      <td>@SouthwestAir I'm really craving your pretzels...</td>\n",
       "      <td>1</td>\n",
       "      <td>6239</td>\n",
       "      <td>0</td>\n",
       "      <td>-0.466340</td>\n",
       "      <td>0.289625</td>\n",
       "      <td>-0.217530</td>\n",
       "      <td>...</td>\n",
       "      <td>-0.835734</td>\n",
       "      <td>-0.458101</td>\n",
       "      <td>-1.050726</td>\n",
       "      <td>-0.012579</td>\n",
       "      <td>0.600473</td>\n",
       "      <td>-0.229492</td>\n",
       "      <td>0.395023</td>\n",
       "      <td>-0.019480</td>\n",
       "      <td>0.537425</td>\n",
       "      <td>0</td>\n",
       "    </tr>\n",
       "    <tr>\n",
       "      <th>967</th>\n",
       "      <td>967</td>\n",
       "      <td>7046</td>\n",
       "      <td>positive</td>\n",
       "      <td>Power Moves RT @JetBlue: Our fleet's on fleek....</td>\n",
       "      <td>1</td>\n",
       "      <td>7046</td>\n",
       "      <td>0</td>\n",
       "      <td>0.144981</td>\n",
       "      <td>-0.324572</td>\n",
       "      <td>1.059081</td>\n",
       "      <td>...</td>\n",
       "      <td>-0.459383</td>\n",
       "      <td>-0.432453</td>\n",
       "      <td>-1.093191</td>\n",
       "      <td>-0.174370</td>\n",
       "      <td>0.032528</td>\n",
       "      <td>0.146126</td>\n",
       "      <td>0.184161</td>\n",
       "      <td>-0.432964</td>\n",
       "      <td>-0.284159</td>\n",
       "      <td>1</td>\n",
       "    </tr>\n",
       "  </tbody>\n",
       "</table>\n",
       "<p>968 rows × 776 columns</p>\n",
       "</div>"
      ],
      "text/plain": [
       "     Unnamed: 0.1  Unnamed: 0     label  \\\n",
       "0               0         813   neutral   \n",
       "1               1        7130   neutral   \n",
       "2               2        3380   neutral   \n",
       "3               3        3008   neutral   \n",
       "4               4        7030   neutral   \n",
       "..            ...         ...       ...   \n",
       "963           963        4377  positive   \n",
       "964           964        5512  positive   \n",
       "965           965          56  positive   \n",
       "966           966        6239  positive   \n",
       "967           967        7046  positive   \n",
       "\n",
       "                                                  text  category  original_id  \\\n",
       "0                                @united I hope so too         0          813   \n",
       "1    @jetblue who's running your tweeter using the ...         0         7130   \n",
       "2    @united still waiting for a response on whethe...         0         3380   \n",
       "3    @united Based on suggestions from other passen...         0         3008   \n",
       "4    “@JetBlue: Our fleet's on fleek. http://t.co/Q...         0         7030   \n",
       "..                                                 ...       ...          ...   \n",
       "963  @SouthwestAir @heavenlychc9 I'd at least enjoy...         1         4377   \n",
       "964  @SouthwestAir I'll have to drop by next time I...         1         5512   \n",
       "965  @VirginAmerica you know it. Need it on my spot...         1           56   \n",
       "966  @SouthwestAir I'm really craving your pretzels...         1         6239   \n",
       "967  Power Moves RT @JetBlue: Our fleet's on fleek....         1         7046   \n",
       "\n",
       "     predicted_label     emb_0     emb_1     emb_2  ...   emb_759   emb_760  \\\n",
       "0                  1  0.701212  0.149414  1.801739  ... -0.631561  0.724360   \n",
       "1                  2 -0.095302  0.519799 -0.860941  ...  0.545532 -0.988797   \n",
       "2                  2  0.404428 -0.281564  1.098605  ... -0.336490 -0.060362   \n",
       "3                  2  0.580564 -0.417264  0.539577  ... -1.197115 -0.562455   \n",
       "4                  2  0.150641  0.191832  0.901386  ... -0.263758  0.017206   \n",
       "..               ...       ...       ...       ...  ...       ...       ...   \n",
       "963                0 -0.288926 -0.469544  0.763421  ... -1.082415 -0.697840   \n",
       "964                0 -0.287779 -0.133505  1.637628  ... -0.204185 -0.278846   \n",
       "965                0 -0.120062  0.689700  0.500194  ... -0.235210 -0.653002   \n",
       "966                0 -0.466340  0.289625 -0.217530  ... -0.835734 -0.458101   \n",
       "967                0  0.144981 -0.324572  1.059081  ... -0.459383 -0.432453   \n",
       "\n",
       "      emb_761   emb_762   emb_763   emb_764   emb_765   emb_766   emb_767  \\\n",
       "0   -0.479683  0.342981 -0.128573 -0.765833 -0.322237 -0.484272 -0.027367   \n",
       "1   -0.470753  0.221976 -0.781311  0.437286  0.007654 -0.176711  0.090562   \n",
       "2   -0.929268  0.410162  0.116782 -0.160092 -0.028493 -0.795741  0.037037   \n",
       "3   -0.443025 -0.123202 -0.652523 -0.151871  0.264033 -0.452444 -0.366747   \n",
       "4   -0.703940 -0.521036  0.051719  0.339595  0.206907 -0.883897  0.368364   \n",
       "..        ...       ...       ...       ...       ...       ...       ...   \n",
       "963 -0.485712 -0.417425  0.451793 -0.545403 -0.404581 -0.650430  0.245911   \n",
       "964  0.153048 -0.024744  0.142459 -0.391037 -0.188013 -0.114064  0.296878   \n",
       "965 -1.018101 -0.308710 -0.254051 -0.067138  0.288422 -0.103543 -0.275301   \n",
       "966 -1.050726 -0.012579  0.600473 -0.229492  0.395023 -0.019480  0.537425   \n",
       "967 -1.093191 -0.174370  0.032528  0.146126  0.184161 -0.432964 -0.284159   \n",
       "\n",
       "     cluster  \n",
       "0          3  \n",
       "1          1  \n",
       "2          5  \n",
       "3          5  \n",
       "4          1  \n",
       "..       ...  \n",
       "963        0  \n",
       "964        0  \n",
       "965        5  \n",
       "966        0  \n",
       "967        1  \n",
       "\n",
       "[968 rows x 776 columns]"
      ]
     },
     "execution_count": 245,
     "metadata": {},
     "output_type": "execute_result"
    }
   ],
   "source": [
    "df"
   ]
  },
  {
   "cell_type": "code",
   "execution_count": 249,
   "id": "68dd8ed4",
   "metadata": {},
   "outputs": [],
   "source": [
    "arr_emb = df2.to_numpy()"
   ]
  },
  {
   "cell_type": "code",
   "execution_count": 250,
   "id": "65a88bf0",
   "metadata": {},
   "outputs": [],
   "source": [
    "import umap"
   ]
  },
  {
   "cell_type": "code",
   "execution_count": 251,
   "id": "61276f28",
   "metadata": {},
   "outputs": [
    {
     "data": {
      "text/plain": [
       "(968, 2)"
      ]
     },
     "execution_count": 251,
     "metadata": {},
     "output_type": "execute_result"
    }
   ],
   "source": [
    "mapper = umap.UMAP().fit(arr_emb)\n",
    "twod = mapper.transform(arr_emb)\n",
    "twod.shape"
   ]
  },
  {
   "cell_type": "code",
   "execution_count": 252,
   "id": "49ffe6dd",
   "metadata": {},
   "outputs": [],
   "source": [
    "df[\"x\"] = twod[:, 0]\n",
    "df[\"y\"] = twod[:, 1]"
   ]
  },
  {
   "cell_type": "code",
   "execution_count": 253,
   "id": "2ba57f41",
   "metadata": {
    "scrolled": false
   },
   "outputs": [
    {
     "data": {
      "application/vnd.plotly.v1+json": {
       "config": {
        "plotlyServerURL": "https://plot.ly"
       },
       "data": [
        {
         "customdata": [
          [
           "@united I hope so too",
           "neutral",
           3,
           1
          ],
          [
           "@jetblue who's running your tweeter using the word fleek?",
           "neutral",
           1,
           2
          ],
          [
           "@united still waiting for a response on whether or not you allow use of a rear facing car seat on an ERJ145.",
           "neutral",
           5,
           2
          ],
          [
           "@united Based on suggestions from other passengers I have a rental car on standby for 11:30.  One way or another will be leaving then.",
           "neutral",
           5,
           2
          ],
          [
           "“@JetBlue: Our fleet's on fleek. http://t.co/Q16Xvwg0L6” .... I have to refrain what I want to say",
           "neutral",
           1,
           2
          ],
          [
           "@SouthwestAir damn weather messing up everything #serenitynow",
           "neutral",
           0,
           2
          ],
          [
           "@united in Bogota with no wallet is no fun. :-(",
           "neutral",
           5,
           2
          ],
          [
           "@JetBlue     Is it only $50 for my 2nd bag?  1st bag too full..",
           "neutral",
           4,
           2
          ],
          [
           "@SouthwestAir Thanks, Lindsey. Any idea when I'll get there?! Stuck in Denver and told to \"listen to the intercom better\".",
           "neutral",
           0,
           2
          ],
          [
           "@SouthwestAir k thanks :)",
           "neutral",
           0,
           1
          ],
          [
           "@JetBlue Marks 15th Year With 'Bluemanity' Plane Design - http://t.co/E5NaxBUe4s http://t.co/KlxivnbCYh",
           "neutral",
           1,
           1
          ],
          [
           "@USAirways I left my personal stuff on US4551 from PHL-BOS about an hour ago. Went baggage, was told plane left to call 800#",
           "neutral",
           4,
           2
          ],
          [
           "@SouthwestAir should offer cdn border towns incentive to fly since exchange rates are #hurt. #customerappreciation #gaincustomers #keepem2",
           "neutral",
           0,
           2
          ],
          [
           "@SouthwestAir microsecond too Late Flight so very very sad 😂😂😂😂😂😭😭😭😭😢😢😢😢",
           "neutral",
           0,
           2
          ],
          [
           "@JetBlue @pilyoc dont talk about my friend @JetBlue like that. #thefutureisweird",
           "neutral",
           1,
           2
          ],
          [
           "Please don't. RT “@JetBlue: Our fleet's on fleek. http://t.co/gdzadXzBYA”",
           "neutral",
           1,
           2
          ],
          [
           "@AmericanAir and @CVGairport get it together, perfect combination for delays and Cancelled Flightlations",
           "neutral",
           1,
           1
          ],
          [
           "@united since UA 1226 ORD-EWR is delayed pushing it into meal time does that mean it will be catered with meals in First?",
           "neutral",
           5,
           2
          ],
          [
           "@SouthwestAir I know that not everybody on flight can be 1st time flying. But in case it is people in front deplane 1st not from the back?!?",
           "neutral",
           0,
           2
          ],
          [
           "@JetBlue using A321 JFK-SEA for Summer 2015. It will be my first A321 flight ever! No Mint to Seattle, Core Config only.",
           "neutral",
           4,
           2
          ],
          [
           "@united...do you still have flat tire policy.  Shuttle broke down on way to ORD.  Will probably miss the 425pm to CLE...Help please!!",
           "neutral",
           4,
           2
          ],
          [
           "@SouthwestAir i cant look up my confirmation number at the moment on mobile. the email is no longer in my inbox",
           "neutral",
           4,
           2
          ],
          [
           "@USAirways thank you for the apology",
           "neutral",
           3,
           1
          ],
          [
           "@JetBlue I was returning from @FoodNetwork #SOBEWFF so I had limited carry on space in my tummy. Next flight I'll try that snack!",
           "neutral",
           4,
           2
          ],
          [
           "@JetBlue no, I am fine to fly! Haha, they come at random, with the hemophilia, but what if i need extra assistance",
           "neutral",
           1,
           2
          ],
          [
           "@USAirways please please please let my plane back to the gate so I can get off as I will miss connection due to CLT closing. 2034",
           "neutral",
           4,
           2
          ],
          [
           "@AmericanAir why is it from June 1 thru December 31 there are no bus/first milesaaver awards available from cun to nyc? #Explain #whyfly",
           "neutral",
           4,
           2
          ],
          [
           "@JetBlue Thank you.",
           "neutral",
           6,
           1
          ],
          [
           "@USAirways My hubby has a 5hr layover in DFW fm the cxl'd flt. Pls help get him home sooner if you can! Any room on S/by 2 BWI or PHL today?",
           "neutral",
           0,
           2
          ],
          [
           "@VirginAmerica a brilliant brisk am in Boston in cue for vx363 http://t.co/rMZNIVGmg6",
           "neutral",
           5,
           1
          ],
          [
           "@SouthwestAir how come on mobile I can't proceed w/o entering a postcode at purchase. I'm from Ireland and I don't have a postcode just.",
           "neutral",
           5,
           2
          ],
          [
           "@SouthwestAir yeah it happens. The PHX airport has extra long waits all spring long. Something locals know but tourist don't just FYI",
           "neutral",
           0,
           2
          ],
          [
           "@AmericanAir well you spelled my name wrong.",
           "neutral",
           2,
           2
          ],
          [
           "@JetBlue Hey! Check it out!! It's snowing in Boston. Who could have predicted such a thing?! http://t.co/ufyxXkIsa3",
           "neutral",
           1,
           1
          ],
          [
           "@SouthwestAir So there were 134 early-bird check-ins, because I was told there were no flythroughs? Good flight, otherwise ~",
           "neutral",
           4,
           2
          ],
          [
           "@JetBlue Im just saying change can be amazing, like Miami. 😉",
           "neutral",
           1,
           1
          ],
          [
           "@SouthwestAir only 1 guest needs to change a flight on a reservation of 2. How can I do it? I NEED this to happen. Say it can...Please help!",
           "neutral",
           4,
           2
          ],
          [
           "@AmericanAir why is it most first class passengers now request the sand which from coach ?",
           "neutral",
           5,
           2
          ],
          [
           "@SouthwestAir fortunately didn't have to. The flight took off on time.",
           "neutral",
           0,
           1
          ],
          [
           "@JetBlue no. come on.",
           "neutral",
           1,
           2
          ],
          [
           "@SouthwestAir I never got my flight confirmation. I've been on hold for an hour and I can't get info online. What am I to do?",
           "neutral",
           4,
           2
          ],
          [
           "@SouthwestAir Please bring back RDU to FLL direct route!  I noticed it is missing starting in Late Flight August!  The flights are always packed!",
           "neutral",
           0,
           2
          ],
          [
           "@AmericanAir \nThank you for responding...My laptop is in my bag and I need it for work. I am worried. The file code is UTEVGW.",
           "neutral",
           5,
           2
          ],
          [
           "@AmericanAir we then had to deplane, and change planes.",
           "neutral",
           1,
           2
          ],
          [
           "@USAirways @OBJ_3 even airlines are scheming to get a follow from OBJ LMAOOO 😂😂😂😂",
           "neutral",
           1,
           2
          ],
          [
           "@SouthwestAir better travel photos:\nMy Kindle e-book Easy Tips guide http://t.co/7dM2J8H97M:\nhttp://t.co/xeDeckGMW5 http://t.co/frGhglMkqF",
           "neutral",
           0,
           1
          ],
          [
           "@JetBlue A month ago I had a flight booked but then had to Cancelled Flight it... I'm now Flight Booking Problems a separate flight for a different occasion.",
           "neutral",
           4,
           2
          ],
          [
           "@SouthwestAir Thanks for reminding me about my upcoming trip to Florida but you really didn't need to... http://t.co/p6r5rt5Ow5",
           "neutral",
           0,
           2
          ],
          [
           "@United Airlines' CEO Jeff Smisek: Disloyal to Loyal Workers http://t.co/0cevY3P42b via @HuffPostBiz",
           "neutral",
           4,
           2
          ],
          [
           "@united ^JT is the ORD to PHL flight at 9:15 PM (CDT) delayed? DM I'm kinda hoping not to be stranded at ORD either.",
           "neutral",
           4,
           2
          ],
          [
           "@AmericanAir your message was delayed I just responded",
           "neutral",
           2,
           2
          ],
          [
           "@JetBlue I usually do-but I didn't make the Flight Booking Problems this time-that'll teach me! Yea I have that going for me at least haha",
           "neutral",
           6,
           1
          ],
          [
           "@united how much does it cost to check in an additional bag? Traveling from newark to glasgow. Thank you :)",
           "neutral",
           5,
           1
          ],
          [
           "@AmericanAir  Yes I do bit you don't follow me so I can't DM you",
           "neutral",
           5,
           2
          ],
          [
           "@JetBlue ...and when did your legal department start running your social media channels?",
           "neutral",
           1,
           2
          ],
          [
           "@SouthwestAir Thanks I get that. It looks like all BWI-SJD services stops after Aug 7. Is that the case? I cant find one date with flights.",
           "neutral",
           0,
           2
          ],
          [
           "@united Thanks. Got it straightend out last night.",
           "neutral",
           3,
           1
          ],
          [
           "@USAirways no problem...just funny have a nice day",
           "neutral",
           6,
           1
          ],
          [
           "@JetBlue Guess I'll wait another 24 hrs in hopes rate goes down &amp; is more reasonable. Fingers crossed. Cutting it close to my travel dates.",
           "neutral",
           4,
           2
          ],
          [
           "@united I filled out the form but I haven’t received any sort of email confirmation that it’s been received. Is that normal?",
           "neutral",
           5,
           2
          ],
          [
           "@united please help! Left my iPad Air 2 on my flight from NYC to Paris yesterday and can’t get in touch with anyone locally. What to do?",
           "neutral",
           4,
           2
          ],
          [
           "@AmericanAir I need some help. My record locator is bringing up TWO different flights in your system. One op by AA &amp; one from US Airways.",
           "neutral",
           2,
           2
          ],
          [
           "@VirginAmerica @ladygaga @carrieunderwood Julie Andrews first but Lady Gaga wow'd me last night. Carrie? Meh.",
           "neutral",
           5,
           1
          ],
          [
           "@SouthwestAir- ...was only less than 3500pts, but it helped. Had PartnerRewards incoming, but not fast enough to keep pts from expiring.",
           "neutral",
           6,
           2
          ],
          [
           "@united Lindsay and ??.  Darn.  Terrible memory on my part.  I know they are headed back to IAD and then PIT tonight.",
           "neutral",
           5,
           2
          ],
          [
           "@SouthwestAir @love_dragonss LAUREN IM SCREAKJMF",
           "neutral",
           0,
           1
          ],
          [
           "@united, Understandable. I did try Flight Booking Problems several times for 2 passengers &amp; got the messages I mentioned before. As for the agents price???",
           "neutral",
           5,
           2
          ],
          [
           "@SouthwestAir left behind iPad Air on flight 505 from Bradley to BWI, plane had already left by the time I realized. Can you possibly help?",
           "neutral",
           4,
           2
          ],
          [
           "@AmericanAir Thank you, but I'll be Cancelled Flighting my return flight, as I've already rebooked with another airline so I can get home today.",
           "neutral",
           4,
           2
          ],
          [
           "@united just kidding with you I'll send you my stuff now. Thanks",
           "neutral",
           5,
           2
          ],
          [
           "@SouthwestAir check the head of the plane, there has been dynamite placed onto it",
           "neutral",
           0,
           2
          ],
          [
           "@USAirways and @AmericanAir aren't as merged as the marketing departments would have us believe. Maybe @Delta or @united can get me home?",
           "neutral",
           5,
           2
          ],
          [
           "@united Thank you, ^JH, appreciate the prompt responses--me and other passengers will be doing so.",
           "neutral",
           3,
           1
          ],
          [
           "@united why de-ice before taxing? Maybe it #makestoomuchsense ? #shouldhaveflowndelta #unitedsucks @Delta @SouthwestAir @AmericanAir",
           "neutral",
           4,
           2
          ],
          [
           "@USAirways thank you.",
           "neutral",
           3,
           1
          ],
          [
           "@AmericanAir I've been trying to change frm AA 2401 to LAX at 6:50am MONDAY morning then AA 2586 from LAX to FAT to flight AA 1359?#helpAA",
           "neutral",
           4,
           2
          ],
          [
           "@JetBlue finally! Finally!",
           "neutral",
           1,
           1
          ],
          [
           "@SouthwestAir easy fix, let the business select actually board 1st, then board the pre-boards...",
           "neutral",
           0,
           2
          ],
          [
           "@SouthwestAir how do get priority seating after you already paid for the flight",
           "neutral",
           0,
           2
          ],
          [
           "@united Is there a direct number to call to request a refund?  Its telling me its not valid as I changed the ticket.  No number on site",
           "neutral",
           5,
           2
          ],
          [
           "@JetBlue saving my sanity. Leaving it behind for sunshine. #escape #FL #bliss #travel #InDenial #WhatFrozenPipes http://t.co/6TtzEJV3hY",
           "neutral",
           6,
           1
          ],
          [
           "@SouthwestAir So that's what happens when your power level goes over 9,000... feet in the air.",
           "neutral",
           0,
           2
          ],
          [
           "@AmericanAir well I'm flying @JetBlue instead - for free! Their credits actually work.",
           "neutral",
           6,
           1
          ],
          [
           "@USAirways tell reservations to rebook me from 5080 to 5129",
           "neutral",
           5,
           2
          ],
          [
           "@AmericanAir Amazing to watch @chasefoster (who travels with celebs all over the world) show the youth of America who *not* to fly with.",
           "neutral",
           4,
           1
          ],
          [
           "@JetBlue well mine sure aren't anything to write home about!",
           "neutral",
           4,
           2
          ],
          [
           "@SouthwestAir Thanks! Will do",
           "neutral",
           0,
           1
          ],
          [
           "@SouthwestAir @ClinicPolly \nThank you-- I may have already responded but was 8UXZJ2",
           "neutral",
           0,
           1
          ],
          [
           "@SouthwestAir #DestinationDragons iD is my favorite band and i met my 2bestfriends thanks to them! it would be life changing to see them!",
           "neutral",
           0,
           1
          ],
          [
           "@AmericanAir where do I look for cabin crew vacancies?",
           "neutral",
           2,
           2
          ],
          [
           "@JetBlue all up to date. Can't update via Google play.",
           "neutral",
           1,
           2
          ],
          [
           "@AmericanAir but my friend was told she was able to use her credit with the airline towards one of my flights, then was told she couldn't.",
           "neutral",
           4,
           2
          ],
          [
           "@united Okay, thank you both.",
           "neutral",
           3,
           1
          ],
          [
           "@united it can't be delivered. It has to be held there for me to cross the border to pick up. Please don't try to deliver.",
           "neutral",
           5,
           2
          ],
          [
           "@JetBlue Airline trouble this winter &amp; not getting good customer service? contact http://t.co/aQjn4HwNaC  we negotiate resolutions for You!",
           "neutral",
           4,
           2
          ],
          [
           "@united leisure. Military personnel for safety reason R highly recommended to not travel in uniform",
           "neutral",
           5,
           2
          ],
          [
           "@JetBlue so yesterday a flight I wanted to Chicago was on sale within my points range and today it isn't. Any way you guys can still honor",
           "neutral",
           4,
           2
          ],
          [
           "@USAirways skys r sunny air is cold I can't wait to get to #CLT",
           "neutral",
           6,
           1
          ],
          [
           "@SouthwestAir Already rebooked for tomorrow. Fingers crossed!",
           "neutral",
           0,
           2
          ],
          [
           "@JetBlue try harder. Take a winners attitude to your work.",
           "neutral",
           6,
           2
          ],
          [
           "@USAirways made it.. Never ran so fast in my life",
           "neutral",
           5,
           1
          ],
          [
           "@JetBlue Port-Au-Prince, Haiti for continued food distribution, medical supplies, &amp; orphan care!  #flyingitforward http://t.co/fn2QXybT9K",
           "neutral",
           1,
           1
          ],
          [
           "@JetBlue how can we get help with a hotel we booked with you and are having issues with.",
           "neutral",
           4,
           2
          ],
          [
           "@JetBlue the fact that #ChrisHasMadeUsBLUSH isn't trending is how you know I'm loyal ;)",
           "neutral",
           6,
           1
          ],
          [
           "@AmericanAir Still looking as we speak.",
           "neutral",
           2,
           2
          ],
          [
           "@united all set. Figured it out at the baggage office!",
           "neutral",
           1,
           1
          ],
          [
           "@SouthwestAir understand the weather, these kids need to get home! Nice kids doing volunteer work from a RI high school, please help",
           "neutral",
           0,
           1
          ],
          [
           "@AmericanAir - keeping AA up in the Air! My crew chief cousin Alex Espinosa in DFW! http://t.co/0HXLNvZknP",
           "neutral",
           2,
           1
          ],
          [
           "@united thanks. That means I have 30 minutes to make my international connection to HKG",
           "neutral",
           3,
           1
          ],
          [
           "@JetBlue Gerne :)",
           "neutral",
           1,
           1
          ],
          [
           "@united all day travel. #swag #ijustwanttosleep",
           "neutral",
           5,
           2
          ],
          [
           "@USAirways  I need to email customer service for help and a question, can you please provide the email address?",
           "neutral",
           5,
           2
          ],
          [
           "@SouthwestAir hey southwest! Help me find a flight from Nashville - Washington DC or Raleigh for under $150 on March 15 please!",
           "neutral",
           0,
           2
          ],
          [
           "@united My post was just more of disappointment.  I'm a frequent United flyer, it was a simple ??.  1 bad apple doesn't spoil the bunch.",
           "neutral",
           6,
           2
          ],
          [
           "@JetBlue should I check in my awesome bag on my flight or carry it on... Decisions...",
           "neutral",
           1,
           2
          ],
          [
           "@VirginAmerica Dear Virgin customer, while you're stranded in SF for 3 days &amp; $1000cost- we'll do the very least we can to accommodate you!",
           "neutral",
           5,
           2
          ],
          [
           "@JetBlue No, it's weird!! I picked other cities just to test, those worked...not the one I want. Works on phone though, so I'll use that.",
           "neutral",
           4,
           2
          ],
          [
           "@AmericanAir this receipt doesn't show the evoucher value nor does it mention having used an evoucher",
           "neutral",
           2,
           2
          ],
          [
           "@united can I get on a stand by list from ASE to ORD? I'm the only poor person in Aspen, that's why I'm asking for standby on twitter.",
           "neutral",
           5,
           2
          ],
          [
           "@SouthwestAir I have been on hold for over 28 minutes  please help http://t.co/Fx9BIJlxAt",
           "neutral",
           0,
           2
          ],
          [
           "@SouthwestAir @love_dragonss AHHHH YES LAUREN",
           "neutral",
           0,
           1
          ],
          [
           "@united @staralliance Very nice at LHR, congrats, but I'm sticking with AA/#BA. @AmericanAir @British_Airways",
           "neutral",
           6,
           1
          ],
          [
           "@AmericanAir we're all being told by emergency services to stay home for the next 24-48 hours.",
           "neutral",
           5,
           2
          ],
          [
           "“@united: @ItsAaronChriz Sorry to hear about your flight. Do you need help reFlight Booking Problems?”\n\n👎",
           "neutral",
           4,
           2
          ],
          [
           "@SouthwestAir to the rescue. Sundown in Chicago. Next stop San Antonio! http://t.co/rQBpmwETtq",
           "neutral",
           0,
           1
          ],
          [
           "@united Some 3rd party service known as EZEE flights. A man, who confirmed he was born in India, told me his name was Steve Wilson.",
           "neutral",
           5,
           2
          ],
          [
           "@AmericanAir I've tried...its @USAirways anyway",
           "neutral",
           2,
           2
          ],
          [
           ".@VirginAmerica If only you guys were starting those flights at the end of the month! Guess I’m still road tripping on Feb 27…",
           "neutral",
           4,
           2
          ],
          [
           "@united I have such a love hate relationship with you. Some days you're good, the others you are so terribly awful its saddening",
           "neutral",
           6,
           2
          ],
          [
           "@VirginAmerica Really missed a prime opportunity for Men Without Hats parody, there. https://t.co/mWpG7grEZP",
           "neutral",
           5,
           2
          ],
          [
           "“@JetBlue: Our fleet's on fleek. http://t.co/BBM6PAbORt” &lt;&lt;Now THAT is fuckin funny. 😂",
           "neutral",
           1,
           2
          ],
          [
           "@JetBlue this feels nice - what we've got going on here. Let's just swap me out with the fool in 5a and we can make it all better.",
           "neutral",
           6,
           1
          ],
          [
           "@AmericanAir We've sent you more info via DM.  I truly hope you resolve this very quickly. #media #filmcrew #cnn #nbc",
           "neutral",
           5,
           2
          ],
          [
           "YO! @InternJohnRadio @mrerickv  give @SouthwestAir their plane back.  They're mad &amp; threatening to take away my Companion Pass. #Luv",
           "neutral",
           4,
           2
          ],
          [
           "@SouthwestAir live in Atlanta but cant enroll in your Atlanta companion promotion. Error every time. Can you help? Also sent email. Thanks!",
           "neutral",
           0,
           2
          ],
          [
           "@JetBlue Just signed up for TrueBlue and booked a flight but keep getting an error when I try to link it to my TB account. What's the deal?",
           "neutral",
           4,
           2
          ],
          [
           "@JetBlue lol the fleet on fleek... i see yall ballin... new jets on deck..",
           "neutral",
           1,
           1
          ],
          [
           "@united you'll be hearing from me for sure.",
           "neutral",
           3,
           2
          ],
          [
           "@united Cancelled Flighting. bought a ticket for a friend but cant get the credit under my name",
           "neutral",
           4,
           2
          ],
          [
           "@united actually we did not consider she might have made a mistake. She did not complain beyond that she indicated it on her reservation.",
           "neutral",
           6,
           2
          ],
          [
           "@AmericanAir thanks!",
           "neutral",
           2,
           1
          ],
          [
           "@JetBlue my mom always said to never settle. If your chips ain't blue, you just won't do.",
           "neutral",
           4,
           2
          ],
          [
           "@united any chance flight 3745 is being delayed??  nervous about driving to DFW in this weather to drop off my brother",
           "neutral",
           4,
           2
          ],
          [
           "@united You please do not burn my dreams !!!  #burningman tickets sales today.",
           "neutral",
           5,
           2
          ],
          [
           "@united Hi guys. I submitted a request for ticket/hotel reimbursement for a delayed/over night stay coming back from the Dominican. Help?",
           "neutral",
           5,
           2
          ],
          [
           "@USAirways that is certainly not the impression she's under.",
           "neutral",
           5,
           2
          ],
          [
           "@AmericanAir basically u right now http://t.co/IN24Bpb7dw",
           "neutral",
           2,
           2
          ],
          [
           "@SouthwestAir Can someone rebook me? Please direct message me.",
           "neutral",
           0,
           2
          ],
          [
           "@AmericanAir the Late Flightst usair4603. Earlier 4591",
           "neutral",
           1,
           2
          ],
          [
           "@AmericanAir just downloaded the app for iPhone.  Notice drink coupon but nothing is displayed?  Getting ready to fly...",
           "neutral",
           4,
           2
          ],
          [
           "@JetBlue  I'm game if you're buying!!  ;)",
           "neutral",
           1,
           1
          ],
          [
           "@united fails again. @SouthwestAir saves the day.",
           "neutral",
           0,
           2
          ],
          [
           "@SouthwestAir 8FKQW is the conf #. Thanks for the reply",
           "neutral",
           0,
           1
          ],
          [
           "@SouthwestAir Is it a temporary site glitch or are you no longer offering flights from GRR to GEG after Feb? Can't find any online :(",
           "neutral",
           4,
           2
          ],
          [
           "@united flight to DFW from IAD Cancelled Flightled for mechanical can I get rental car to MDT-my origin",
           "neutral",
           4,
           2
          ],
          [
           "@SouthwestAir I've never met my favorite band and it would be sooo amazing to win destination dragons.",
           "neutral",
           0,
           1
          ],
          [
           "@JetBlue everyone is overreacting. Keep up your swag!",
           "neutral",
           1,
           2
          ],
          [
           "@united I sent in my feedback.  Thank you.",
           "neutral",
           3,
           1
          ],
          [
           "@VirginAmerica is helping me step up my @Tinder game! #TinderTips #tinderchamp http://t.co/jBmVVha63A",
           "neutral",
           5,
           1
          ],
          [
           "@AmericanAir no not yet. Waiting to be connected to an agent",
           "neutral",
           2,
           2
          ],
          [
           "@united booked award tix on ThaiAirways but I'm not seeing a conf# for them, just the United Flight Booking Problems#. Can you get get the Thai# for me?",
           "neutral",
           4,
           2
          ],
          [
           "@SouthwestAir Barzegar charges tourists 700 euros [!] a night for their stay in the tent village he runs. http://t.co/igSVzvrbbN",
           "neutral",
           0,
           2
          ],
          [
           "@SouthwestAir @love_dragonss LAUREN HoLY SHT",
           "neutral",
           0,
           1
          ],
          [
           "@USAirways it's vegas baby who doesn't have a good time in vegas lol",
           "neutral",
           4,
           2
          ],
          [
           "@JetBlue the you above all commercials? Like the legroom one",
           "neutral",
           1,
           1
          ],
          [
           "@USAirways we even offered to fly in to another airport and they said they couldn't do that. No explanation why they can't.",
           "neutral",
           4,
           2
          ],
          [
           "@JetBlue thanks anyways @SouthwestAir has my back! Awesome rate &amp; amazing customer service #nomoreaggravation",
           "neutral",
           0,
           1
          ],
          [
           "@united thank you!!!!! And next flight to Durango then driving to Farmington New Mexico for work! But hitting the slopes in Durango!",
           "neutral",
           6,
           1
          ],
          [
           "@SouthwestAir Any way you can help with entry to Vegas event? My Boyfriend &amp; I have been @Imaginedragons fans since 2009. They are awesome!",
           "neutral",
           0,
           1
          ],
          [
           "@SouthwestAir question all.  When will I receive my yearly bonus point accumulation? I think it's around now but not sure.  Thanks! :)",
           "neutral",
           0,
           1
          ],
          [
           "@JetBlue I hear you and safety is #1! I think we can get to JFK though now so let's help the pilots, passengers &amp; crew get there safely!",
           "neutral",
           6,
           1
          ],
          [
           "@SouthwestAir aren't you based in Chicago? Why are you doing a hunt in LA and not your home city????!! Please bring one home",
           "neutral",
           0,
           2
          ],
          [
           "@SouthwestAir #Vegas I was there 5 days ago. Miss the  Warm Weather",
           "neutral",
           0,
           2
          ],
          [
           "@SouthwestAir  flying Southwest for the first time to LGA with a layover in Atlanta!",
           "neutral",
           0,
           1
          ],
          [
           "@JetBlue deal!",
           "neutral",
           1,
           1
          ],
          [
           "@united I am going to a service desk now to see what the options are.",
           "neutral",
           5,
           2
          ],
          [
           "@SouthwestAir Thank you. The email about RR pts &amp; how to gain more wasn't clear so all of mine r gone. Anything u can do is appreciated.",
           "neutral",
           0,
           2
          ],
          [
           "@AmericanAir DM sent. Answer me please",
           "neutral",
           2,
           2
          ],
          [
           "@SouthwestAir companion pass please!",
           "neutral",
           0,
           1
          ],
          [
           "@AmericanAir online flight notification is down.",
           "neutral",
           4,
           2
          ],
          [
           "@southwestair TREMENDOUS job. Atlanta Airport saw SW celebrate Mardi Gras. Another reason I'm nuts for you guys! http://t.co/8WBzOrRn3C",
           "neutral",
           0,
           1
          ],
          [
           "@AmericanAir Please help AA 2258 Monday Cancelled Flightled.  Can you advise on reFlight Booking Problems / refund.  Have children and need to make plans now",
           "neutral",
           4,
           2
          ],
          [
           "@united this is for a check-in luggage. Employee told me not to include wheels in the dimensions.",
           "neutral",
           5,
           2
          ],
          [
           "@united Currently on standby to Lax then it is a 2 hour ride to Palm Springs. Long day starting at a snowy 3:30 am in philly.",
           "neutral",
           4,
           2
          ],
          [
           "@USAirways sorry, we are in Philly. Should've told you that.",
           "neutral",
           5,
           2
          ],
          [
           "@VirginAmerica Debbie Baldwin gave a #rockstar performance of the safety demo this evening on VX919 #LAS2SFO #BestCrew #SheRocks",
           "neutral",
           5,
           1
          ],
          [
           "Who did this?!?!“@JetBlue: Our fleet's on fleek. http://t.co/kHZrCCyp2A”",
           "neutral",
           1,
           2
          ],
          [
           "@AmericanAir I hear #Delta is offering 2,500 miles to frequent flyers if their bags doesn't come out within 20 minutes of landing thoughts?",
           "neutral",
           4,
           2
          ],
          [
           "@united it's done.  If you do something to make up for it I'll tweet that too.",
           "neutral",
           3,
           1
          ],
          [
           "@SouthwestAir Thank you!",
           "neutral",
           0,
           1
          ],
          [
           "@SouthwestAir I would love to go to the #DestinationDragons @ImagineDragons show tomorrow in Utah at @VelourLive! I've been trying so hard.",
           "neutral",
           0,
           1
          ],
          [
           "@USAirways sure did. I have carried this bag on numerous times on the same style plane. Planning accordingly apparently accounts for nothing",
           "neutral",
           6,
           2
          ],
          [
           "@JetBlue many thanks, as always your employees are professional and courteous. Whenever I have the option, you are my go-to airlines.",
           "neutral",
           6,
           1
          ],
          [
           "@SouthwestAir CEO Gary Kelly, \"You all are absolutely my heroes!\" #SouthwestRally #BWI #bestemployees #swaculture http://t.co/JTxyHQHfJJ",
           "neutral",
           0,
           1
          ],
          [
           "@USAirways Y'all need to get it together",
           "neutral",
           3,
           2
          ],
          [
           "@JetBlue I would go to Dallas to see my grand baby that I miss so much. I feel like a piece of my heart is there.",
           "neutral",
           6,
           1
          ],
          [
           "@SouthwestAir OMG OMG OMG !!! I JUST DID!!",
           "neutral",
           0,
           1
          ],
          [
           "@USAirways @GregWallace66 Yea, they will give you 5 cents on the dollar!",
           "neutral",
           5,
           2
          ],
          [
           "@AmericanAir Can I use an SWU on an Finnair codeshare of an American operated flight (JFK-MAN)?  Thanks in advance for the help!",
           "neutral",
           6,
           1
          ],
          [
           "@united Just got interrogated at the United Club Chicago. #UnitedAirlines #rude #PoorForm",
           "neutral",
           5,
           2
          ],
          [
           "@USAirways Thank you, although we're using our miles from our card and Flight Booking Problems companion tickets which can only be booked over the phone.",
           "neutral",
           6,
           2
          ],
          [
           "@JetBlue Think about it...boarding to a chill untz untz untz....like this http://t.co/lj2lARivE0...",
           "neutral",
           1,
           2
          ],
          [
           "@SouthwestAir I'm trying to get home to Nashville. I've been stuck in Dallas 2 days will my flight get out in the morning",
           "neutral",
           4,
           2
          ],
          [
           "@USAirways http://t.co/AXRYeIWzh0, vuelo24.es, vuelos24.es sell too cheap MAD-NYC with USAirways. Are they trusted webs or is it a scam?",
           "neutral",
           5,
           2
          ],
          [
           "@united 129 thousand fans of @JedediahBila are asking you to give her your utmost effort to get her a safe flight with her baggage soon!",
           "neutral",
           6,
           2
          ],
          [
           "@AmericanAir  hung up on now many times trying to cal 8004337300 crazy",
           "neutral",
           2,
           2
          ],
          [
           "@united your flights are really cheap what's the catch",
           "neutral",
           6,
           2
          ],
          [
           "@Jetblue I'm so sorry I cheated on you with @Delta @DeltaAssist. Please take me back. I wore protection.",
           "neutral",
           6,
           2
          ],
          [
           "@JetBlue I would like to communicate directly with a \"Customer Experience\" executive. Does Joanna Geraghty have an email address?",
           "negative",
           1,
           0
          ],
          [
           "@united Would be helpful if you could refresh boarding time info on boarding passes for delayed flights",
           "negative",
           5,
           0
          ],
          [
           "@JetBlue 117 days maybe.",
           "negative",
           1,
           0
          ],
          [
           "@AmericanAir work would be much better with my lesson plans and music for my classes today.",
           "negative",
           2,
           0
          ],
          [
           "@JetBlue I'll give u a chance but I don't think I'll fall for it #backtodelta",
           "negative",
           1,
           0
          ],
          [
           "@SouthwestAir would be great if I atleast was next to my husband who is flying in the same reservation",
           "negative",
           0,
           0
          ],
          [
           "@SouthwestAir same here. Would appreciate a follow so I can DM my info to figure out what I am supposed to do.",
           "negative",
           0,
           0
          ],
          [
           "@united Case ID 8544484",
           "negative",
           5,
           0
          ],
          [
           "@AmericanAir having trouble Flight Booking Problems a seat on US84 11 March, operated by AA. Neither airline's website will allow seat selection?",
           "negative",
           4,
           0
          ],
          [
           "@AmericanAir Thanks - I note some, but not all, flights are Cancelled Flightled - are only some aircraft/runways working out of DFW today/tomorrow?",
           "negative",
           1,
           0
          ],
          [
           "@SouthwestAir flight # 317",
           "negative",
           0,
           0
          ],
          [
           "@SouthwestAir discount for three delays?",
           "negative",
           0,
           0
          ],
          [
           "@united Your ERI-ORD express connections are hugely popular .. now if only we could have an ERI-EWR hop! :)",
           "negative",
           3,
           1
          ],
          [
           "@AmericanAir Hello, question, How many balloons do you think it will take to life up one of your planes?",
           "negative",
           1,
           0
          ],
          [
           "Well lets see.  You could pay for my Negroni with bitcoin. @JetBlue",
           "negative",
           1,
           0
          ],
          [
           "@AmericanAir flight was 2488 out of EWR STOP AT DALLAS THEN TO LA. I need to be in la tonight!",
           "negative",
           1,
           0
          ],
          [
           "@AmericanAir Hey AA, a suggestion: Note on your seat maps what seats have electronics box blocking legroom. AA215 http://t.co/hcNN0wXQQr",
           "negative",
           2,
           0
          ],
          [
           "@USAirways I love how just to give feedback to this link I have to fill out all my personal info on a form.  You guys are the best :)",
           "negative",
           6,
           1
          ],
          [
           "@JetBlue @philpete wonder if that's the pilot tweeting you back? Is it legal to tweet and fly? What if the plane in front stops suddenly?",
           "negative",
           1,
           0
          ],
          [
           "@united I'm asking if you can simplify the communications- thx",
           "negative",
           3,
           0
          ],
          [
           "@united Donna and Juan still the best in the United Club_ too bad UAL does not get it",
           "negative",
           6,
           1
          ],
          [
           "@SouthwestAir hooking us up and getting us to Tampa after our flight was Cancelled Flightled this morning #grateful #businesstrip",
           "negative",
           0,
           1
          ],
          [
           "@SouthwestAir can i have my bags back   ding!!",
           "negative",
           0,
           0
          ],
          [
           "@USAirways I do to as I have an afternoon Conference in Las Vegas and I would rather plan ahead than run thru the airport and then attempt",
           "negative",
           4,
           0
          ],
          [
           "@JetBlue does transferring trueblue points within family pooling members cost $? This is after having set up contribution-to-pool already.",
           "negative",
           1,
           0
          ],
          [
           "@SouthwestAir my rating for Southwest -9 on s scale of 1 to 10",
           "negative",
           0,
           0
          ],
          [
           "@united Anyone there? Did you read my DM?",
           "negative",
           3,
           0
          ],
          [
           "@united I think DM would be better",
           "negative",
           3,
           0
          ],
          [
           "@AmericanAir for tomorrow some sites show flight 1642 from ewr Cancelled Flightled, is it?",
           "negative",
           4,
           0
          ],
          [
           "@AmericanAir how do I see your report team?",
           "negative",
           2,
           0
          ],
          [
           "@JetBlue Good perspective. If only this safety concern had been expressed at some point before I arrived at the airport. #communicationiskey",
           "negative",
           6,
           1
          ],
          [
           "@SouthwestAir I'm in line at the airport right now. Will you cover hotel fair or am I to sleep in the airport?",
           "negative",
           0,
           0
          ],
          [
           "@USAirways transferred 4x pleeeeeeeease help!",
           "negative",
           5,
           0
          ],
          [
           "@SouthwestAir y airline I fly with, but haven't seen anything like this yet!",
           "negative",
           0,
           0
          ],
          [
           "@united my plane sounds like  a DJ  scratching is this normal? If so, will this eventually be a new entertainment fee.",
           "negative",
           6,
           0
          ],
          [
           "@SouthwestAir wifi stays connected about the lifetime of a higgs boson",
           "negative",
           0,
           0
          ],
          [
           "@AmericanAir on Feb. 15th your rep gave me the record locator and told me I'd be receiving an email with the itinerary and confirmation.",
           "negative",
           2,
           0
          ],
          [
           "@united thank you for the reply. I emailed your customer care department about my experience.",
           "negative",
           3,
           1
          ],
          [
           "@AmericanAir well done, you have taken the fun out of air travel @PHLAirport",
           "negative",
           6,
           1
          ],
          [
           "@united let me assure you my travel time is 4h2m not 5h2m #timezones #accuratetraveltimes #3rdtimethishashappened http://t.co/e0C9bI09cf",
           "negative",
           5,
           0
          ],
          [
           "@USAirways I don't think I've ever had a us airways flight that went smoothly.",
           "negative",
           4,
           1
          ],
          [
           "@united Thank you. Yes, I was hoping to speak with someone directly, but appreciate the link nonetheless. :)",
           "negative",
           3,
           1
          ],
          [
           "@JetBlue flight was two days ago. Flight 1918 from POS.",
           "negative",
           1,
           0
          ],
          [
           "@JetBlue  hmmm it says im following you. We just got de-iced, but still haning around for the runway to clear..",
           "negative",
           1,
           0
          ],
          [
           "“@united: @RobCNYC See information on our boarding process: http://t.co/gBIw9ugFNm ^KP”. I get group 1&amp;2. Just no reason on 3/5.",
           "negative",
           5,
           0
          ],
          [
           "@JetBlue after boarding flight 0510, the captain informs that he could exceed the16 hrs regulation and turned the plane around. Incredible!",
           "negative",
           1,
           1
          ],
          [
           "@united what if business as usual meant dropping the bully mentality and fostering inspiration for a greater business #EmployeeRelations",
           "negative",
           6,
           0
          ],
          [
           "@united when I read it say ' in some cases' can you please define this for me, when for example would it not be the case?",
           "negative",
           5,
           0
          ],
          [
           "@JetBlue \nApparently not.",
           "negative",
           1,
           0
          ],
          [
           "@USAirways Already tried. How about Conf # via DM",
           "negative",
           5,
           0
          ],
          [
           "@USAirways booked an award ticket recently, now same ticket is less miles. how do I contact you without using the online form or phone?",
           "negative",
           5,
           0
          ],
          [
           "@USAirways comin in clutch and sending me to Charlotte then home, I h8 u @AmericanAir, except for Wayne u a real g #ThankJesus #ThankMe",
           "negative",
           5,
           1
          ],
          [
           "@USAirways are the bags off Flight 1898 CLT to JFK? We landed last night just before midnight.",
           "negative",
           4,
           0
          ],
          [
           "@JetBlue where is the \"award winning service\"?",
           "negative",
           1,
           0
          ],
          [
           "@JetBlue just called that number and left message. Are you at to pass along message to team too?",
           "negative",
           1,
           0
          ],
          [
           "@usairways  US1799 CLT-&gt;SFO in first no desert, no snack basket. Incoming was on time ? What’s up?",
           "negative",
           5,
           0
          ],
          [
           "@USAirways your saving grace was our flight attendant Dallas who was amazing. wish he would transfer to Delta where I would see him again",
           "negative",
           6,
           1
          ],
          [
           "@VirginAmerica you're the best!! Whenever I (begrudgingly) use any other airline I'm delayed and Late Flight :(",
           "negative",
           4,
           1
          ],
          [
           "@united … But friendly efficient air attendants in coach #UA992 http://t.co/49pV3KcHNR",
           "negative",
           6,
           1
          ],
          [
           "@JetBlue where exactly can I leave a note",
           "negative",
           1,
           0
          ],
          [
           "@SouthwestAir it'd be nice if I could get an answer, even a simple \"no\" would do; I just want to know. :)",
           "negative",
           0,
           0
          ],
          [
           "Sir. RT @JetBlue: Our fleet's on fleek. http://t.co/F5IXyw8XyB",
           "negative",
           1,
           0
          ],
          [
           "@SouthwestAir is main supporter of play where Jesus is portrayed as homosexual partner of Judas and who performs a “gay wedding” #boycott",
           "negative",
           5,
           0
          ],
          [
           "@SouthwestAir I left my iPad on my flight 1831 from ERW to DEN. I opened claim 442998. It has so many memories on it. Plz help get it back.",
           "negative",
           4,
           0
          ],
          [
           "@united yes, after landing at 930pm last night. Spoke to 10 baggage claim customer service reps. Finally spoke to one amazing ticket agent.",
           "negative",
           6,
           1
          ],
          [
           "See what you started now @nytimes RT @JetBlue: Our fleet's on fleek. http://t.co/atd2Sm8HF4",
           "negative",
           1,
           0
          ],
          [
           "@JetBlue is JFK still closed? Tryna get out of Ft Lauderdale on flight 502, just want to get home to nyc!",
           "negative",
           4,
           0
          ],
          [
           "@USairways E190 lands without nose gear in Houston - @Flightglobal http://t.co/Yf9NhMwyFF",
           "negative",
           1,
           0
          ],
          [
           "@USAirways How do I get through?",
           "negative",
           5,
           0
          ],
          [
           "@SouthwestAir  Glad to see you know how to keep the money in your own pockets. 'Thanks' for the voucher in return for lost bag.",
           "negative",
           6,
           1
          ],
          [
           "@united I would like your baggage damage number as well! Another great thing from your 'trained' staff! Whats the number please.. Claim time",
           "negative",
           6,
           1
          ],
          [
           "@AmericanAir first the pilot, then the catering...",
           "negative",
           1,
           0
          ],
          [
           "@AmericanAir Weather was not involved.",
           "negative",
           2,
           0
          ],
          [
           "@SouthwestAir When will your phone agents be able to give the correct departure times for CUN? When can we checkin online for international?",
           "negative",
           0,
           0
          ],
          [
           "@AmericanAir  when do you anticipate decisions for Cancelled Flightlations at DFW tomorrow morning? Need to rearrange hotel reservations, etc. ASAP!",
           "negative",
           4,
           0
          ],
          [
           "Jet BOOOO 🍅🍅🍅🍅 RT @JetBlue: Our fleet's on fleek. http://t.co/0WbJAWx7xD",
           "negative",
           1,
           0
          ],
          [
           "@USAirways lol thanks to you we had to switch to American http://t.co/Sl6BDRXfN8",
           "negative",
           5,
           1
          ],
          [
           "@SouthwestAir you do a great job of achieving that at most cities, just not at BWI.",
           "negative",
           0,
           1
          ],
          [
           "@USAirways @united really know how to leave someone stranded after a funeral. Props to you guys. Really making this the perfect Monday.",
           "negative",
           6,
           1
          ],
          [
           "@united GRK13575M is the file reference",
           "negative",
           5,
           0
          ],
          [
           "@JetBlue walked from the gate to the just ask desk by gate 1 http://t.co/p6ucbVlv5E",
           "negative",
           1,
           0
          ],
          [
           "@USAirways not too impressed with your airlines but I would feel a lot better flying with if you upgraded me up to first class tomorrow",
           "negative",
           6,
           1
          ],
          [
           "Stop the madness \"@JetBlue: Our fleet's on fleek. http://t.co/Q5a7jtkI5K”",
           "negative",
           1,
           0
          ],
          [
           "@united thank you for leaving my bag in houston! despite what your system says, i was definitely on the flight!",
           "negative",
           6,
           1
          ],
          [
           "@USAirways right, can you use a shuttle ticket from LGA to BOS for any shuttle flight? Probably gonna miss the 4pm.",
           "negative",
           4,
           0
          ],
          [
           "@JetBlue It's not ideal, but it's okay. Better Late Flight than never! :)",
           "negative",
           6,
           1
          ],
          [
           "@united feck guys. Stop Cancelled Flightling flights from EWR to RIC the weather is fine I both locations!!!",
           "negative",
           6,
           1
          ],
          [
           "@SouthwestAir how it feels on flight 4251 http://t.co/JM8gQ1KGrF",
           "negative",
           0,
           0
          ],
          [
           "@united is probably the least satisfactory airline I've ever been on. Never fails to disappoint.",
           "negative",
           6,
           1
          ],
          [
           "@VirginAmerica soooo are you guys going to leave the seatbelt light on all flight? You can barely call this turbulence :-)",
           "negative",
           4,
           0
          ],
          [
           "@SouthwestAir thx but I'll be expecting a credit for this leg.",
           "negative",
           0,
           0
          ],
          [
           "@united I can't tell/purchase through the website because they put us on a Lufthansa flight for the first leg.",
           "negative",
           4,
           0
          ],
          [
           "@united The bright side would be keeping the promise that was made to me. Hope you're having a good night. Thanks.",
           "negative",
           3,
           1
          ],
          [
           "@united #Newarkliberty Airport need to indicate different gate#'s for terminals A&amp;C. #Flyingainteasy",
           "negative",
           1,
           0
          ],
          [
           "@SouthwestAir Hello remaining credits on your account will be refunded back to your credit card, when you choose a lower price flight?",
           "negative",
           0,
           0
          ],
          [
           "@United the internet is a great thing.  I am emailing executives in your company, maybe they will respond to me in a timely manner.",
           "negative",
           6,
           1
          ],
          [
           "@JetBlue your gif game is strong.",
           "negative",
           1,
           1
          ],
          [
           "@JetBlue ticket issued whilst delivering your customers.",
           "negative",
           1,
           0
          ],
          [
           "@USAirways No thank you. @AmericanAir was responsive &amp; I found alternate travel home.",
           "negative",
           2,
           1
          ],
          [
           "@usairways Ok thank you…I call from Spain to US for seating assistance!",
           "negative",
           6,
           1
          ],
          [
           "@JetBlue thank you! Hopefully it's soon! We are supposed to leave at 11:23",
           "negative",
           1,
           1
          ],
          [
           "@USAirways do families no longer get early boarding with young kids?  American, your new parent, gives it to us...",
           "negative",
           5,
           0
          ],
          [
           "@united Can you transfer my bags too?",
           "negative",
           5,
           0
          ],
          [
           "@SouthwestAir @LeeAnnHealey I was all, yeah sale fares! I got places to fly! Oh damn, right, I live where SWA doesn't fly. #why",
           "negative",
           0,
           0
          ],
          [
           "@VirginAmerica When will VX use all 6 LGA slots instead of 4 today? Adding AUS makes this less likely :(",
           "negative",
           5,
           0
          ],
          [
           "@SouthwestAir could I get a phone call from a customer service rep to get the issue resolved?",
           "negative",
           0,
           0
          ],
          [
           "@united We're hoping to hear from you actually.",
           "negative",
           3,
           0
          ],
          [
           "@united this is in ur Hemispheres magazine. I'm open to what will u do to make the \"flight more pleasant.\" http://t.co/VrQDpqEPFW",
           "negative",
           1,
           0
          ],
          [
           "@united it will be on a different airline.",
           "negative",
           4,
           0
          ],
          [
           "@united send someone to the customer service counter in person. DIA concourse B across from gate B36a.",
           "negative",
           5,
           0
          ],
          [
           "@SouthwestAir do these scavenger hunt  locations have anything in common because I'm playing detective trying to figure out the one for ATL.",
           "negative",
           0,
           0
          ],
          [
           "@VirginAmerica I requested a mileage challenge for status several weeks ago online but haven't heard back. How do I get help with this?",
           "negative",
           5,
           0
          ],
          [
           "@USAirways Just to follow up here is my experience: http://t.co/WJIiGZtiwg",
           "negative",
           5,
           0
          ],
          [
           "@SouthwestAir I would die if I got tickets to #DestinationDragons and you would be invited to my funeral",
           "negative",
           0,
           0
          ],
          [
           "@AmericanAir The wine served in USAirways flights are watered down somehow right out of the bottles.",
           "negative",
           6,
           1
          ],
          [
           "@usairways if you could change your name to @southwestair and do what they do...that'd be awesome. Also this plane smells like onion rings.",
           "negative",
           0,
           1
          ],
          [
           "@united thanks for updating me about the 1+ hour delay the exact second I got to ATL. 🙅🙅🙅",
           "positive",
           5,
           2
          ],
          [
           "@united all goods, I'll call tomorrow, thanks.",
           "positive",
           3,
           0
          ],
          [
           "@JetBlue it's been a while since I've angry tweeted an airline. Apparently you read my mind before I could bitch. Thank you for the credit.",
           "positive",
           6,
           2
          ],
          [
           "@SouthwestAir Luvin me some flights today!! Don't change!!  And please add Paypal as payment option!!!",
           "positive",
           0,
           0
          ],
          [
           "@united private jet would have been cool! Do does not work. I'll try again",
           "positive",
           4,
           2
          ],
          [
           "@VirginAmerica For my Grandma Ella's 80th, she would &lt;3 a bday greeting from your flight crew! She was a stewardess for Eastern Airlines.",
           "positive",
           4,
           0
          ],
          [
           "@JetBlue if I had my tux, it'd be a date! #UMosaicMeCrazy http://t.co/hap4gboSTU",
           "positive",
           1,
           0
          ],
          [
           "@virginamerica Well, I didn't…but NOW I DO! :-D",
           "positive",
           5,
           0
          ],
          [
           "@united On the plane but thanks! Maybe don't let so many people check in by themselves - teeming with morons.",
           "positive",
           6,
           2
          ],
          [
           "@USAirways - Huge props to Parizad at checkin in Sacramento for her help on Friday to get 3 of us home when other airlines were delayed",
           "positive",
           4,
           2
          ],
          [
           "@united thank you. Been trying for two days to set this up.",
           "positive",
           3,
           2
          ],
          [
           "@united :take note of this great example of @JetBlue actually making good for an extremely inconvenient situation. http://t.co/t3Gnk2N7LD",
           "positive",
           1,
           2
          ],
          [
           "@AmericanAir Thanks gang! Mind if I ask, do you handle all of your Social Media in house?",
           "positive",
           2,
           0
          ],
          [
           "@JetBlue heading to Buffalo... trading the cold in Boston for colder in Buffalo... Maybe the Caribbean next time?",
           "positive",
           1,
           0
          ],
          [
           "@united stay warm - I will be passing through Chicago next week",
           "positive",
           2,
           0
          ],
          [
           "@JetBlue Thanks for taking me back home today despite Pandora's best efforts to Cancelled Flight the flight. #jetblue #backhome #noplacelikehome",
           "positive",
           4,
           2
          ],
          [
           "Why “@JetBlue: Our fleet's on fleek. http://t.co/a7NvbJ8ipx”",
           "positive",
           1,
           0
          ],
          [
           "@united But thanks for asking",
           "positive",
           3,
           0
          ],
          [
           "@SouthwestAir save mile to visit family in 2015 and this will impact how many times I can see my mother.  I planned and you change the rules",
           "positive",
           4,
           2
          ],
          [
           "Stop. Please. RT @JetBlue: Our fleet's on fleek. http://t.co/EUl6sDURbU",
           "positive",
           1,
           2
          ],
          [
           "@JetBlue to offer service from Daytona Beach to New York - Albany Business Review http://t.co/dUhBJ41jHx",
           "positive",
           1,
           0
          ],
          [
           "@AmericanAir  thanks hoping that by wed I can get back to DFW",
           "positive",
           2,
           0
          ],
          [
           "@AmericanAir I was happy to purchase the upgrade. If only it was avail on my next flight.",
           "positive",
           6,
           2
          ],
          [
           "@AmericanAir would also like say kind move on adding the points !",
           "positive",
           2,
           0
          ],
          [
           "@united Club in Denver is dope 👌",
           "positive",
           3,
           0
          ],
          [
           "@USAirways #tbt every day.",
           "positive",
           5,
           2
          ],
          [
           "@united be  \"Chicago's hometown airline\" care about your neighbors #SaveTheDiagonals #FlyQuiet #ORDNoise",
           "positive",
           6,
           0
          ],
          [
           "@JetBlue things happen it's ok just wish I was on the beach and not in the airport",
           "positive",
           6,
           0
          ],
          [
           "@JetBlue totally would have.... but the outside view was even more camera ready haha #EvenMoreSpace #EvenMoreView http://t.co/dXuX6DBfd3",
           "positive",
           1,
           2
          ],
          [
           "@SouthwestAir thanks do yall expect to be operational tomorrow out of Nashville?",
           "positive",
           0,
           0
          ],
          [
           "@united yes, Thx! At 10:35 (landed at 9:20).",
           "positive",
           3,
           0
          ],
          [
           "@JetBlue flight to Orlando is unable to serve hot bevies.... So they've made movies and alcohol complimentary. That works",
           "positive",
           6,
           2
          ],
          [
           "@SouthwestAir me &amp; @sammi_jon3s are best friends because of @Imaginedragons. Any chance we could get tickets to #DestinationDragons ?",
           "positive",
           0,
           0
          ],
          [
           "@united thanks for not getting my BusinessFirst priority tagged bag onto my connecting flight at EWR despite a 2+ hour layover. Nice job",
           "positive",
           6,
           2
          ],
          [
           "@VirginAmerica I luv ur people and product! 1 thing is y do u charge for herbal tea but not black tea? I'm not a caffeine drinker",
           "positive",
           5,
           0
          ],
          [
           "@USAirways @AmericanAir Can you bring guinea pigs in small pet carrier onboard your flights?",
           "positive",
           5,
           0
          ],
          [
           "@AmericanAir thanks for the recommendation. We've been sitting here for 45 minutes, last update was 35 min ago.",
           "positive",
           2,
           2
          ],
          [
           "@USAirways TYVM USAir, Happy Night@ &lt;3",
           "positive",
           5,
           0
          ],
          [
           "@USAirways customer service at its finest",
           "positive",
           6,
           2
          ],
          [
           "@united Sure did! Only waited about 15min. Yay!",
           "positive",
           5,
           2
          ],
          [
           "@JetBlue sooo earlier i said i couldnt fly with you for my school trip but now i can! 😏",
           "positive",
           4,
           0
          ],
          [
           "@united kudos for not Cancelled Flightling flights from DFW this morning.   United usually first to panic...",
           "positive",
           4,
           2
          ],
          [
           "@SouthwestAir beyond ready",
           "positive",
           0,
           0
          ],
          [
           "@united Thanks for explanation. It seems like an odd incentive structure, tho, because it dramatically diminishes the value of the certs.",
           "positive",
           6,
           2
          ],
          [
           "@united After an hour+ wait, my issue is resolved. I did contact customer service to comment on the wait time. Thanks for contacting me.",
           "positive",
           6,
           2
          ],
          [
           "@AmericanAir @USAirways Statement wasn't sent yesterday like Jeanine said. After I even called last night as well. Again, excellent service",
           "positive",
           5,
           2
          ],
          [
           "@USAirways we haven't departed yet so let's not get too high hopes.  But everything has been on schedule so far",
           "positive",
           5,
           2
          ],
          [
           "@united thx off the response, finally got through the 45 min wait and talked to someone.",
           "positive",
           5,
           2
          ],
          [
           "What can I say other than when it comes to my #BrandLoveAffair w/ @jetblue ur my #soulandinspiration https://t.co/IGkoGyWksr #umosaicmecrazy",
           "positive",
           1,
           0
          ],
          [
           "@united that would help! or how about integrate it into the App so I can just \"activate\" it and surf...",
           "positive",
           3,
           0
          ],
          [
           "“@JetBlue: Our fleet's on fleek. http://t.co/3kVkd8yRxa” + lol wow",
           "positive",
           1,
           0
          ],
          [
           "@USAirways sitting on a plane in Philadelphia for over 20 minutes waiting just to get off the plane. Great service!",
           "positive",
           4,
           2
          ],
          [
           "@united will do. Just need to get CVG.... and my bag too. Thanks",
           "positive",
           3,
           0
          ],
          [
           "@USAirways thanks.  If you have another method also that would be nice.  Appears to be a design flaw",
           "positive",
           6,
           0
          ],
          [
           "@SouthwestAir can i get tiks for #DestinationDragons omg id love to! Plz 😱❤️im dying",
           "positive",
           0,
           0
          ],
          [
           "@JetBlue is amazing. Had a short delay. They gave me $150 credit! It was literally pretty much my fault I missed the flight.",
           "positive",
           6,
           2
          ],
          [
           "@united landing in anchorage, then on our way to fairbanks! http://t.co/FjkvQMbmaS",
           "positive",
           1,
           0
          ],
          [
           "@united all good man it isn't your fault that plane is having maintenance issues",
           "positive",
           6,
           2
          ],
          [
           "@united Resolved. Over hour of work on  ground &amp; somehow the system reset itself during takeoff. I appreciate the quick response/service.",
           "positive",
           6,
           2
          ],
          [
           "@united this is why I fly @SouthwestAir ... Never have any issues",
           "positive",
           0,
           2
          ],
          [
           "LMAO “@JetBlue: Our fleet's on fleek. http://t.co/aIyC9WV5oq”",
           "positive",
           1,
           0
          ],
          [
           "@VirginAmerica just promoting the product is all, had a problem with southwest and recommend noneother than the best! http://t.co/tFaNXBh1Cf",
           "positive",
           0,
           2
          ],
          [
           "@united The DEN b44 agent (9:30am) was amazing. The MPAgent at check in? She sucks. @seanMFmadden @PeterStraubMMA @jmercadoMMA @TonySimsMMA",
           "positive",
           5,
           2
          ],
          [
           "@JetBlue my email is my twitter handle followed by gmail ☺👍👍",
           "positive",
           1,
           0
          ],
          [
           "@United, will you fill it? Yes they will. Thanks! #BringYourOwn, @kleankanteen http://t.co/daaa0rqBXW",
           "positive",
           3,
           0
          ],
          [
           "@SouthwestAir so excited about our last minute trip to @Disneyland (and she doesn't know yet!) http://t.co/nKAFbjyARi",
           "positive",
           0,
           0
          ],
          [
           "@USairways Since I am a loyal USAir customer I am sure that they will make this up to me-right now I want to get home &amp; back to work.",
           "positive",
           6,
           2
          ],
          [
           "@AmericanAir oh it's nothing my issue was already resolved and I am in the air",
           "positive",
           2,
           2
          ],
          [
           "@AmericanAir ...have you seen Blue? Go look it up :)",
           "positive",
           2,
           0
          ],
          [
           "@JetBlue Thanks. Still booked our trip 3/13-17 LB to SLC to see grand kids.  Just very frustrating. Tried app, web, etc. Still love u guys!",
           "positive",
           6,
           2
          ],
          [
           "@SouthwestAir I will do just about anything tO GO TO THE VEGAS SHOW PLEASE MAN",
           "positive",
           0,
           0
          ],
          [
           "@AmericanAir None of the #LAX flights into #DFW have been Cancelled Flightled. Those landing before and after ours are fine. Completely arbitrary.",
           "positive",
           6,
           2
          ],
          [
           "@united so is that two seats avail so far for us.",
           "positive",
           3,
           2
          ],
          [
           "@AmericanAir shoutout to the agent on duty now @ Gate B1 #ABQ / outstanding customer service w delayed FLT 336 http://t.co/OoEJ4d4JoP",
           "positive",
           5,
           2
          ],
          [
           "@united 441, which also had 1 working WC in coach. Good thing this bird landed ahead of schedule. I have to use the WC stat.",
           "positive",
           6,
           2
          ],
          [
           "@USAirways we will...sunday! Just a few days away",
           "positive",
           5,
           0
          ],
          [
           "@VirginAmerica you will match my #AmericanAirlines status? Cool!",
           "positive",
           2,
           0
          ],
          [
           "@USAirways thx 4 replying. After trying 2 get thru many times, &amp; v-mail or people hanging up on, us we talked 2 tech...cont'd",
           "positive",
           5,
           2
          ],
          [
           "@USAirways over the phone. I called the 6170 number and she picked up almost immediately.",
           "positive",
           5,
           0
          ],
          [
           "@USAirways - Janet &amp; my DEN-PHL  flight Cancelled Flightled Saturday, USAIR rescheduled automatically &amp; notified us by email at no additional cost.",
           "positive",
           4,
           2
          ],
          [
           "@united That made me so mad, but then I called the bag number, and that person was helpful and told me where the bag really was. (2/2)",
           "positive",
           5,
           2
          ],
          [
           "@AmericanAir @RobertDwyer AA doesnt charge any fees to change award tickets as long as the origin, destination &amp; award type remains the same",
           "positive",
           2,
           0
          ],
          [
           "@JetBlue keep going back and forth with being able to board and then not. But great agents in savannah!",
           "positive",
           1,
           2
          ],
          [
           "@JetBlue TA off site at #thelodge. Should be a fun day. @YeniettElswood @AndrewBiga @CodyCleverly @HeidiMacey @motherpollock",
           "positive",
           1,
           2
          ],
          [
           "@SouthwestAir Oh no worries NL, no disappointments here. Better to have NO lounges than like #Delta who has them but does disappoint!",
           "positive",
           6,
           2
          ],
          [
           "@JetBlue A320 pulling into the gate as the sunrises here at @BostonLogan this morning #jetbluesofly #jetblue #airbus http://t.co/JGdu5us8Dz",
           "positive",
           1,
           0
          ],
          [
           "@SouthwestAir Can a pair of tickets waiting for me after my sports practice? I live here and definitely know where that is! @Imaginedragons",
           "positive",
           0,
           0
          ],
          [
           "@united I will. Thanks.",
           "positive",
           3,
           0
          ],
          [
           "@USAirways But good luck getting there! Not cool.",
           "neutral",
           6,
           2
          ],
          [
           "@USAirways ah, and I was only given one shuttle voucher, so if I do ever get back to the airport you'll be getting the bill",
           "neutral",
           4,
           2
          ],
          [
           "@USAirways thanks! Any idea when it will be resolved? I'd like to purchase my ticket!",
           "neutral",
           5,
           1
          ],
          [
           "@united it sucks not having the money to book a flight to see the love of my life. 2600 miles away.",
           "neutral",
           4,
           2
          ],
          [
           "@united any last minute flight deals for your cute little #frequentflyer ??? :)))) my Friday flight was Cancelled Flightled!!",
           "neutral",
           4,
           1
          ],
          [
           "@USAirways I'm referring to email like this.  Just tell people when they GET the upgrade. Otherwise, we know already. http://t.co/N8UvCLMADA",
           "neutral",
           5,
           2
          ],
          [
           "@JetBlue thanks bae",
           "neutral",
           1,
           1
          ],
          [
           "@united hi -- @united was. Thank you!",
           "neutral",
           3,
           1
          ],
          [
           "@SouthwestAir still haven't been able to get through, thanks for responding",
           "neutral",
           0,
           2
          ],
          [
           "@JetBlue Thanks.",
           "neutral",
           1,
           1
          ],
          [
           "@United just played the Most bizarre \"safety\" video I've ever seen... http://t.co/Hlm2Oks6xl",
           "neutral",
           5,
           1
          ],
          [
           "@SouthwestAir just did, thank you",
           "neutral",
           0,
           1
          ],
          [
           "@SouthwestAir heard you are saving 30k a year on fuel not carrying around those skymall's #ripskymall",
           "neutral",
           0,
           2
          ],
          [
           "@JetBlue you just tight that you're #59 on the world's best airlines list &amp; @VirginAtlantic is ranked higher! @VirginAtlantic here I come!",
           "neutral",
           1,
           1
          ],
          [
           "@USAirways but i bougth mc caren to jfk with same agency and delta airways . Delta refund money but usairways doesnt accept to refund",
           "neutral",
           4,
           2
          ],
          [
           "@united No, not received any e-mails in either Inbox or junk/spam",
           "neutral",
           5,
           2
          ],
          [
           "@JetBlue really caring??",
           "neutral",
           1,
           1
          ],
          [
           "@SouthwestAir You guys must have been swamped, even took our corporate travel a long time to get in, but everything worked out in the end.",
           "neutral",
           6,
           1
          ],
          [
           "@VirginAmerica BIG Love/gratitude.mpower w/ http://t.co/1AGR9knCpf weRin #OSCARS2105 VIPswagbags@ #AvalonHollywood http://t.co/ybMbGs0dHn",
           "neutral",
           6,
           1
          ],
          [
           "@united Thanks. UA1121, DEN, 40 min on tarmac.",
           "neutral",
           1,
           2
          ],
          [
           "@AmericanAir the dinner and called me \"hon\". Not the service I would expect from 1st class.  #disappointed",
           "neutral",
           2,
           2
          ],
          [
           "@united I did. they told us the wrong carousel number.",
           "neutral",
           5,
           2
          ],
          [
           "@AmericanAir Thanks for doing that but now it's telling me to go to the airport and check in with an agent-what's up? http://t.co/PfseNJk5Pw",
           "neutral",
           4,
           2
          ],
          [
           "@AmericanAir Why did  AA973 return to JFK? Thanks :)",
           "neutral",
           2,
           1
          ],
          [
           "@AmericanAir my flight to DFW from LIT on my way to PDX tomorrow was Cancelled Flighted. Can you help me?",
           "neutral",
           4,
           2
          ],
          [
           "@jetblue that's cause we're TrueBlue! It's ur #love that keeps liftin' me #higherandhigher https://t.co/xGfS6tJTMo http://t.co/ixM3t5mIZc",
           "neutral",
           1,
           1
          ],
          [
           "@AmericanAir I can't get ahold of aadvantage reservations.  I need to ticket a reservation that Cancelled Flights soon.  can you help?",
           "neutral",
           4,
           2
          ],
          [
           "@JetBlue I sure hope you guys get me to DC to speak tomorrow! &amp; @JohnNosta &amp; @United: I'm winning here with @JetBlue",
           "neutral",
           6,
           1
          ],
          [
           "@united on the plane. I was thoughtful enough to ask for it and got it; there are prob others that also deserved it",
           "neutral",
           6,
           1
          ],
          [
           "@AmericanAir I don't think you should help him at all based on his behavior. The voucher and cot seem like enough lol 😃",
           "neutral",
           5,
           1
          ],
          [
           "@united thanks",
           "neutral",
           3,
           1
          ],
          [
           "@united I take it as a compliment that I was mistaken several times as a member of your staff on my flight... time to remove my scarf :)",
           "neutral",
           6,
           1
          ],
          [
           "@united got it, look forward to hearing from you soon",
           "neutral",
           3,
           1
          ],
          [
           "@JetBlue That's pretty nice. Are flight credits automatically given after the flight? I also wish there were a lounge I could sleep in.",
           "neutral",
           6,
           1
          ],
          [
           "@SouthwestAir once again on Glassdoor's Best Places To Work snagging # 15 overall #notsurprising #LUVthem",
           "neutral",
           0,
           2
          ],
          [
           "@united they had snacks available, just no fresh food...not sure what happened, but I'm sure we will grab a bite before our SFO connection",
           "neutral",
           5,
           2
          ],
          [
           "@United why not charge for 2nd carryon instead of checked bag? Less jockeying for overhead space, happier passengers, more ontime departures",
           "neutral",
           6,
           2
          ],
          [
           "@united I'm aware, I fly a lot :) Just sad I had to change my shoes (boots), ha! #HappyFlight",
           "neutral",
           6,
           1
          ],
          [
           "@united I looked on the email chain and there is not one",
           "neutral",
           5,
           2
          ],
          [
           "@united that's what I thought! Thanks for the clarification!",
           "neutral",
           3,
           1
          ],
          [
           "See you in ATL! “@SouthwestAir: Congrats to our #DestinationDragons winners! Ready, Atlanta? http://t.co/AY1GIdcfa4 http://t.co/yC7V2s0iOd”",
           "neutral",
           0,
           1
          ],
          [
           "@JetBlue thanks! I only loose 'em at airports...1st time we found it. I think @fitbit needs to make flexes that stay on when carrying bags!",
           "neutral",
           6,
           1
          ],
          [
           "@JetBlue sure thing!",
           "neutral",
           1,
           1
          ],
          [
           "@SouthwestAir I understand. Wonderful \"Miriam\" in customer service who was able to reroute me... Got any rental car discounts?",
           "neutral",
           0,
           1
          ],
          [
           "@USAirways Don't want to clog your already-crowded line with a special meal request. Can someone DM me to sort out? #vegetarianproblems :)",
           "neutral",
           5,
           2
          ],
          [
           "@AmericanAir And gold status too.",
           "neutral",
           2,
           1
          ],
          [
           "@AmericanAir Considering it was past midnight, I hung up and called again to receive another service call.",
           "neutral",
           2,
           2
          ],
          [
           ".@JetBlue That's what I planned on but Boston traffic due to recent weather was insane! If I had been expedited I would have made it.",
           "neutral",
           4,
           2
          ],
          [
           "@SouthwestAir thank you for the response. How can I got about getting the points onto my rewards account?",
           "neutral",
           0,
           1
          ],
          [
           "@SouthwestAir @Imaginedragons please help me and my best friend get tickets to #DestinationDragons we have so much to thank them for....",
           "neutral",
           0,
           1
          ],
          [
           "@USAirways never received such horrible service or treated so poorly as Richard P. today. No excuse for attitude &amp; ripping up our tickets!",
           "neutral",
           5,
           2
          ],
          [
           "@SouthwestAir seems like you could make more money by opening up seats on a more desirable flight.",
           "neutral",
           0,
           2
          ],
          [
           "@JetBlue I know where you guys jet! LOL, but if you love me so much, help a brother out :) Hot weather, great nightlife, 2-3 hour flight",
           "neutral",
           6,
           1
          ],
          [
           "@united please update what is going to happen to passengers now that flt ua14 has been Cancelled Flightled",
           "neutral",
           4,
           2
          ],
          [
           "@AmericanAir no. Prebook flight for wife's 40th bday in NO. I recently have had surgery and can't travel. Won't let another go in my place",
           "neutral",
           4,
           2
          ],
          [
           "@AmericanAir at LAX &amp; just got off the phone w/reservations. Every flight that'd get me to BOS before 11 am tmrw is apparently unavailable 😐",
           "neutral",
           4,
           2
          ],
          [
           "@USAirways No, this is a systemic problem. Mail comes from 153.69.214.203 but USAirways SPF record disallows it. DM me for more detail",
           "neutral",
           5,
           2
          ],
          [
           "@VirginAmerica momma I made it! 😁😁😁",
           "neutral",
           5,
           1
          ],
          [
           "@SouthwestAir Today is going to be the day, I can feel it!  Thank y'all for your support throughout! We're coming home Nashville! #Octavia",
           "neutral",
           0,
           1
          ],
          [
           "@USAirways &amp; @AmericanAir: 1 flight Cancelled Flightled yesterday and now a delay today has robbed my daughter of 2 days with her grandparents. Thanks",
           "neutral",
           4,
           2
          ],
          [
           "@JetBlue of course I am!!✈️",
           "neutral",
           1,
           1
          ],
          [
           "@AmericanAir  They said it works 80-90% of the time, DFW security entrance C26. Before/after pre-check, whereas I paid for the service.",
           "neutral",
           5,
           2
          ],
          [
           "@united Will do! Thanks!",
           "neutral",
           3,
           1
          ],
          [
           "@JetBlue that selfie was extreme.",
           "neutral",
           1,
           2
          ],
          [
           "@SouthwestAir thanks!!",
           "neutral",
           0,
           1
          ],
          [
           "@VirginAmerica has getaway deals through May, from $59 one-way. Lots of cool cities http://t.co/QDlJHslOI5 #CheapFlights #FareCompare",
           "neutral",
           6,
           1
          ],
          [
           "@AmericanAir my flight got Cancelled Flightled from GRK to DFW, then to LEX for tomorrow and I need it rebooked.",
           "neutral",
           4,
           2
          ],
          [
           "@AmericanAir u r horrible.went online to Cancelled Flight flight-no button-4that.Called CS &amp;wait time 40 mins&amp;put in my #.800#called&amp;it hungupNOHELP",
           "neutral",
           4,
           2
          ],
          [
           "@united What happens on 9:11 a.m. of 9/11 2spooky 4me m8 such spook much scare",
           "neutral",
           5,
           2
          ],
          [
           "@JetBlue I'm looking every day just watching for a deal. I have specific dates so fare finder doesn't help me",
           "neutral",
           4,
           2
          ],
          [
           "@SouthwestAir Thanks I just sent a DM with this info.",
           "neutral",
           0,
           1
          ],
          [
           "@USAirways \"Airport snow removal method #22...\"\nKeep up the good work folks, this is where Cessna's become 747's! http://t.co/0JJT4X3YxG",
           "neutral",
           1,
           1
          ],
          [
           "@SouthwestAir why must the 4:45pm nonstop BOS-BNA flight stop running after August 7???",
           "neutral",
           4,
           2
          ],
          [
           "@united Our vacation's going to be ruined w/ 3 days of rain. : ( The change fee for 2 of us is nearly cost of original flight. Can you help?",
           "neutral",
           4,
           2
          ],
          [
           "@SouthwestAir I was under the impression when there is an 8 hour delay in your flight because of equipment failure, compensation is offered?",
           "neutral",
           0,
           2
          ],
          [
           "@USAirways is there any way that you could hold flight 628 in CLT my husband is stuck in the security check line. flight scheduled for 1PM",
           "neutral",
           4,
           2
          ],
          [
           "@SouthwestAir booked our flights this morning. Can't wait to move about the country.",
           "neutral",
           0,
           1
          ],
          [
           "@SouthwestAir 20 passengers on this plane. I should've just grabbed my baggage and gave it its own seat.",
           "neutral",
           4,
           2
          ],
          [
           "@SouthwestAir PLEASE HELP! I would die to see the Vegas show! It would be amazing to hear their songs for real!",
           "neutral",
           0,
           1
          ],
          [
           "@JetBlue I understand delays.  We are all looking at a tv monitor at ur gate and it says current conditions are snow, hence delay.",
           "neutral",
           4,
           2
          ],
          [
           "@united why are there no early morning flights from HNL to anywhere in the continental US? Example- Monday 4/20. Need flight to PHL",
           "neutral",
           4,
           2
          ],
          [
           "@SouthwestAir get me on flight 4146 to denver and I'll be more than happy !!!!!",
           "neutral",
           0,
           2
          ],
          [
           "@united @retailbagholder hahaha. At least they gave u a refund.",
           "neutral",
           5,
           1
          ],
          [
           "@SouthwestAir  Tried to DM you, it won't let me as it says you are not following me.",
           "neutral",
           4,
           2
          ],
          [
           "@USAirways call Gate D9 in CLT and get me on this flight",
           "neutral",
           1,
           2
          ],
          [
           "@AmericanAir Thanks so much!",
           "neutral",
           2,
           1
          ],
          [
           "@JetBlue Tomorrow wouldn’t have been soon enough! Thank you for the info!",
           "neutral",
           6,
           1
          ],
          [
           "@united Lisa J is amazing the guy not so much.",
           "neutral",
           6,
           1
          ],
          [
           "@JetBlue with 3 kids and 11 days 340 + doesn't work and it's months in advance",
           "neutral",
           4,
           2
          ],
          [
           "@JetBlue my credit card company accidentally marked my jet blue tickets as fraud, then corrected their mistake and reposted the money.",
           "neutral",
           6,
           2
          ],
          [
           "Why we can't have nice things. RT @JetBlue: Our fleet's on fleek. http://t.co/HP9RPPCvHx",
           "neutral",
           1,
           2
          ],
          [
           "@USAirways really!??",
           "neutral",
           5,
           2
          ],
          [
           "@AmericanAir You don't have those abilities anywhere! Not at the ticket counter, at cust service, or online. That's why we're done here.",
           "neutral",
           2,
           2
          ],
          [
           "@AmericanAir Thank you for responding so quickly to my tweets I do appreciate that.",
           "neutral",
           6,
           1
          ],
          [
           "@AmericanAir you wont allow calls? My husband has a ticket but it looks like all the seats are taken? I cant even call.",
           "neutral",
           4,
           2
          ],
          [
           "@USAirways a $75 change is ok most of the time but if there r open seats on earlier flt and no chkd bag, why not let someone fly standby?",
           "neutral",
           4,
           2
          ],
          [
           "@USAirways You need to contact me ASAP. #Furious",
           "neutral",
           5,
           2
          ],
          [
           "@united FAIL set to song. http://t.co/Axpn28xiQB \"United Breaks Guitars\" &lt; LMAO!",
           "neutral",
           5,
           2
          ],
          [
           "@USAirways res went under her maiden name...married 50...no docs with maiden name.  Hence, problem.",
           "neutral",
           5,
           2
          ],
          [
           "@USAirways US 728 stated their issues as: kept plane on ground to allow connecting passengers from other flight to board. Fine. Understand.",
           "neutral",
           4,
           2
          ],
          [
           "Nice RT @VirginAmerica: Vibe with the moodlight from takeoff to touchdown. #MoodlitMonday #ScienceBehindTheExperience http://t.co/Y7O0uNxTQP",
           "neutral",
           1,
           1
          ],
          [
           "@united do u serve peanuts/nuts on yr flights yr policies r confusing contradictory advice Pls help #Anaphylaxis,will u ask those 2 refrain?",
           "neutral",
           5,
           2
          ],
          [
           "@USAirways doesn't take into account the $450 it cost 2 rent a car 2 drive home",
           "neutral",
           5,
           2
          ],
          [
           "@AmericanAir thanks for the info Is there a number I can call to speak to a person? It's going to take an hour to type it out",
           "neutral",
           2,
           1
          ],
          [
           "@JetBlue yes, but it hurt my feelings to walk by MINT. A fella can dream. #happy4them",
           "neutral",
           6,
           1
          ],
          [
           "@AmericanAir u r horrible.went online to Cancelled Flight flight-no button-4that.Called CS &amp;wait time 40 mins&amp;put in my #.800#called&amp;it hungupNOHELP",
           "neutral",
           4,
           2
          ],
          [
           "@AmericanAir please confirm 2917 from CID-DFW at 11:30 departure will be/is Cancelled Flighted. Don't want to make the hour drive!",
           "neutral",
           4,
           2
          ],
          [
           "@AmericanAir yes. No one is answering and I'm on a train",
           "neutral",
           4,
           2
          ],
          [
           "@united you friend's flt from ase to Denver is Cancelled Flightled for tomorrow.  Can you help with rebook?",
           "neutral",
           4,
           2
          ],
          [
           "@AmericanAir thank you",
           "neutral",
           2,
           1
          ],
          [
           "@AmericanAir the motor that usually starts the engine is broke and @CVGairport ground crew failed to do it on time, per pilot #maintenance",
           "neutral",
           4,
           2
          ],
          [
           "@AmericanAir Thank you, you too!",
           "neutral",
           2,
           1
          ],
          [
           "@USAirways I'm shutting my data off for the flight. I want some response by the time I land.  You have 2 hours.",
           "neutral",
           4,
           2
          ],
          [
           "@USAirways thank you",
           "neutral",
           3,
           1
          ],
          [
           "@SouthwestAir will do. Thank you.",
           "neutral",
           0,
           1
          ],
          [
           "@united sitting in the middle for the first time .. Hope it works out well",
           "neutral",
           3,
           1
          ],
          [
           "@united Twitter isn't letting me DM you..",
           "neutral",
           5,
           2
          ],
          [
           "@united Definitely will!",
           "neutral",
           3,
           1
          ],
          [
           "@united I submitted a status match last week and have not heard back. Im a delta customer looking to switch to United. Please assist.",
           "neutral",
           5,
           2
          ],
          [
           "@SouthwestAir it's a new day and a new chance for you to do the right thing it's never too Late Flight to be honest.",
           "neutral",
           0,
           1
          ],
          [
           "@SouthwestAir Thanks! I know the routes you currently have from Newark. I was just wondering if there was any new ones on the horizon",
           "neutral",
           0,
           1
          ],
          [
           "@SouthwestAir my father was kind enough to offer to pay for a hotel, but I can't use this coupon if he pays from FL. no help?",
           "neutral",
           0,
           2
          ],
          [
           "@SouthwestAir Airline trouble &amp; not getting satisfactory customer service? contact http://t.co/aQjn4HwNaC  we negotiate resolutions for You!",
           "neutral",
           4,
           2
          ],
          [
           "@united Death in the family cannot make flight tomorrow. Phone rep quoted $440 per person fee, which is almost the cost of ticket. Help?",
           "neutral",
           4,
           2
          ],
          [
           "@JetBlue @zakkohane pretty sure he's saying Ricoh had great service down at BOS ;) #happytohelp",
           "neutral",
           6,
           1
          ],
          [
           "@SouthwestAir I was not the one traveling. I was asking for my sister who was waiting on my nephew in Midland...flight eventually landed",
           "neutral",
           4,
           2
          ],
          [
           ".@AmericanAir just disappointed with the Flight Booking Problems process and add’l fees to sit together on a more crowded flight. Not impressed so far :-/.",
           "neutral",
           4,
           2
          ],
          [
           "@united I want a hotel room and a whiskey.",
           "neutral",
           2,
           2
          ],
          [
           "@USAirways Only for one flight, though. The 2nd leg my kids are sitting scattered about the aircraft.",
           "neutral",
           4,
           2
          ],
          [
           "@JetBlue thanks for the help",
           "neutral",
           6,
           1
          ],
          [
           "@AmericanAir #epicfail on connections in #Chicago today, extremely disappointed w/ unaccommodating customer service, rethinking loyalty 😐",
           "neutral",
           4,
           2
          ],
          [
           "@SouthwestAir Don't worry, you will! :-)",
           "neutral",
           0,
           1
          ],
          [
           "@USAirways agree! Richard P. Literally ripped up our tixs in our faces and made rude, inappropriate comments to us and our family. Awful!",
           "neutral",
           5,
           2
          ],
          [
           "@united Hi, booked a flight yesterday and received an email w/ confirmation number but today I got this error \"no active flight segments\"",
           "neutral",
           4,
           2
          ],
          [
           "@AmericanAir Group Cancelled Flights close to a thousand #flights Monday http://t.co/v1RADYKEP2",
           "neutral",
           4,
           2
          ],
          [
           "@SouthwestAir yes please",
           "neutral",
           0,
           1
          ],
          [
           "@AmericanAir Of course you are because that's your companies job! You guys failed at it in the first place. Upgrade me and then we'll talk.",
           "neutral",
           6,
           1
          ],
          [
           "@AmericanAir @jaynegelman How,about more@Blacklist too!!",
           "neutral",
           2,
           2
          ],
          [
           "@SouthwestAir unfortunately no, it's my lack of status that's the big problem. My company policy forces me to buy the cheapest tickets",
           "neutral",
           6,
           2
          ],
          [
           "@JetBlue I clear that folder regularly and JetBlue is white listed so it never got to me.",
           "neutral",
           4,
           2
          ],
          [
           "@JetBlue I can't. I don't have acces to a phone rn. My iPhone broke. :/ would rather change it now then Late Flightr.",
           "neutral",
           4,
           2
          ],
          [
           "@AmericanAir @USAirways Yes, obviously! It just stinks that 4pm is the one option when she was supposed to fly at 7AM YESTERDAY.",
           "neutral",
           4,
           2
          ],
          [
           "@united Thank you for your response!",
           "neutral",
           3,
           1
          ],
          [
           "@united I send you an urgent message via eservice@united.com.  BG0KWM   Narayanan. Please respond ASAP. Also, NO local United Tel # @ KUL",
           "neutral",
           5,
           2
          ],
          [
           "@JetBlue I'd go to Australia to enjoy the land down under! Always been on my bucket list! #FlyingItForward",
           "neutral",
           1,
           1
          ],
          [
           "@united I'll be impressed if I actually get a response! 😜",
           "neutral",
           3,
           1
          ],
          [
           "@JetBlue That's right! :) Game, set, match.",
           "neutral",
           1,
           1
          ],
          [
           "@AmericanAir how does one book a ticket online and put it on hold?  Does that require that I pay for the ticket?",
           "neutral",
           4,
           2
          ],
          [
           "@JetBlue that's ok! It just sure seemed like it when JetBlue tweeted us back and asked us to send selfies of us watching.. Haha",
           "neutral",
           1,
           1
          ],
          [
           "@united thank you. We are signed up for notifications. We shall watch and wait! ❄️❄️",
           "neutral",
           3,
           1
          ],
          [
           "@united S/O to @Delta for coming in clutch and finally taking me home 🙌🙌",
           "neutral",
           3,
           1
          ],
          [
           "“@JetBlue: @KyleComer_ JetBlue reLate Flightd this time? ;)” no... But why won't school be Cancelled Flighted? it's very cold out",
           "neutral",
           4,
           2
          ],
          [
           "@united - who can eat at an airport for $7? #areyounew? #incompetent #no800number #feeltheheat",
           "neutral",
           4,
           2
          ],
          [
           "@united Cancelled Flighted our flight, didn't rebook us on added flight, now have to drive from a Denver to KC....thanks!",
           "neutral",
           4,
           1
          ],
          [
           ".@AmericanAir just disappointed with the Flight Booking Problems process and add’l fees to sit together on a more crowded flight. Not impressed so far :-/.",
           "neutral",
           4,
           2
          ],
          [
           "@USAirways oh they saw it and said nothing.",
           "neutral",
           5,
           2
          ],
          [
           "@southwestair,  kudos to your rep \"Patricia\" at gate B11 this Sunday morning at #Chicago #Midway #MDW,… http://t.co/MmCWkqp2gy",
           "neutral",
           0,
           1
          ],
          [
           "@AmericanAir More or less - after a night in a party hotel - no sleep and a 5:30 am rebook- on our way back to PHL http://t.co/4G0K0z2rei",
           "neutral",
           2,
           2
          ],
          [
           "@JetBlue thank you! Headed from LBC to OAK !",
           "neutral",
           1,
           1
          ],
          [
           "@united Why have airlines always told us they can't open a cabin door once it has been closed?  This plane has done it 3 times tonight.",
           "neutral",
           4,
           2
          ],
          [
           "@united WHy is my KTN not showing on my boarding?  Why is TSA pre-check not applying to my boarding pass?",
           "neutral",
           5,
           2
          ],
          [
           "@AmericanAir #oaaret is our flight Cancelled Flightled?",
           "neutral",
           4,
           2
          ],
          [
           "@AmericanAir Thank you for the response.  When I book I've tried my AA number and my US Airways number and each time it doesn't pick it up",
           "neutral",
           5,
           1
          ],
          [
           "@USAirways unfortunately not. I think I watched it take off from the bus. Rebooked for a Late Flightr flight now #planestrainsandautomobiles",
           "neutral",
           4,
           2
          ],
          [
           "@AmericanAir oh, yeah. I guess those are two different things. 3 am does weird things to my brain. Thanks again! xox",
           "neutral",
           2,
           1
          ],
          [
           "@united sprinted from C concourse to E and just made it. Coughed up a lung in the process but am now in CLT! Tnx!",
           "neutral",
           5,
           1
          ],
          [
           "@VirginAmerica Nice to see you expanding in Texas but don't forget about us here in #SanDiego. I would love to see more flights out of here!",
           "neutral",
           6,
           1
          ],
          [
           "@united Okay thank you",
           "neutral",
           3,
           1
          ],
          [
           "@AmericanAir you set a schedule try and keep it !!! #AAALWAYSLate Flight",
           "neutral",
           1,
           2
          ],
          [
           "@JetBlue yup! He said there would be flight change fee. But the plane should be here in 45 minutes apparently.",
           "neutral",
           1,
           2
          ],
          [
           "@USAirways great operation you guys are running. More mechanical issues, and now taping piece of plane together LOL http://t.co/I5V9wfbtuE",
           "neutral",
           1,
           1
          ],
          [
           "@USAirways I didn't make a reservation yet. It's about changing name on my dividend miles account",
           "neutral",
           5,
           2
          ],
          [
           "@JetBlue Ok great thanks! I had a great flight, FYI. I'm excited to fly again. I just was frustrated I was not able to check in.",
           "neutral",
           6,
           1
          ],
          [
           "@USAirways Ok Thanks",
           "neutral",
           3,
           1
          ],
          [
           "@AmericanAir 48 hours and still no bag. Could have flown to Costa Rica and back by now. I had gifts for my family in my bags.",
           "neutral",
           4,
           2
          ],
          [
           "@SouthwestAir my flight at BWI is delayed and I will miss my flight in Denver, is there a way to find out if they will hold the plane?",
           "neutral",
           4,
           2
          ],
          [
           "@JetBlue \"Do what you love and you'll never work a day in your life.\" 😊",
           "neutral",
           4,
           1
          ],
          [
           "@united @CheerTymeDad Gee that's like almost caring about ppl more than $$.  Think I'm more int in having a trusted adult w/ daughter .",
           "neutral",
           5,
           2
          ],
          [
           "@united Surprised to go from 1K last year to nothing this year. What happened to the \"soft landing\" policy of no more than 1 level?",
           "neutral",
           5,
           2
          ],
          [
           "@JetBlue that's what we've been told however how would this work if you're going overseas? Bottom line is passengers feel as if there's (1)",
           "neutral",
           4,
           2
          ],
          [
           "@AmericanAir just hoping/praying for a safe flight. They've had to stop and de-ice our plane yet again😞",
           "neutral",
           4,
           2
          ],
          [
           "@AmericanAir you should be contacting her for a refund - dm me and I will provide phone number",
           "neutral",
           2,
           2
          ],
          [
           "@JetBlue Well, I try! See you soon!! @JayVig",
           "neutral",
           1,
           1
          ],
          [
           "@JetBlue I can't call right now. My baby just fell asleep.",
           "neutral",
           4,
           2
          ],
          [
           ".Thnx for the response @united bot. It seems this 'improvement' could be easily attained. Is your 1st Class service really only worth $50?",
           "neutral",
           6,
           1
          ],
          [
           "@JetBlue Thanks! I just sent a few DMs.",
           "neutral",
           6,
           1
          ],
          [
           "@AmericanAir On flt 1627 from DFW to FAT on 2/23 and it was 86'd. Can you rebook me on the 1359 flight tonight? Can't get through on phone.",
           "neutral",
           4,
           2
          ],
          [
           "@AmericanAir thanks. Bummer. Poor planning on my part. I assume the card in Passbook won't work either?",
           "neutral",
           5,
           2
          ],
          [
           "@united - Group 2 line gets longer every week. Almost no one left for Groups 3-5 anymore. Time to make Explorer Card Group 3?",
           "neutral",
           5,
           2
          ],
          [
           "@AmericanAir Sorry, what equipment? Have the passengers been allowed to return to the plane?",
           "neutral",
           4,
           2
          ],
          [
           "@united it's cool. I didn't need to go to work today. Or get home to make sure my house is ok in the -30 wind chill.",
           "neutral",
           6,
           1
          ],
          [
           "@AmericanAir my flight got Cancelled Flightled from GRK to DFW, then to LEX for tomorrow and I need it rebooked.",
           "neutral",
           4,
           2
          ],
          [
           "But I don't see AA @united",
           "neutral",
           5,
           2
          ],
          [
           "@JetBlue @weepysweetmonty i heard youre planning on letting people fly in the overhead compartments. why would you do that?",
           "neutral",
           1,
           2
          ],
          [
           "@USAirways No worries I was able to read @stephenrodrick entire book while holding. #TheMagicalStranger",
           "neutral",
           5,
           1
          ],
          [
           "@united @paigeworthy : page United values your tweet b/c it's so rare that they receive tweets complimenting their service...most are fake.",
           "neutral",
           6,
           2
          ],
          [
           "@USAirways but it's not their fault, because their policy says they at least got us to our destination. Really?",
           "neutral",
           6,
           2
          ],
          [
           "@VirginAmerica is saving my sanity right now: http://t.co/ELtBOLjUl9",
           "neutral",
           6,
           1
          ],
          [
           "@USAirways my TSA precheck isn't showing up on my boarding pass for my flight tomorrow...help!? #USAirways #TSAPreCheck",
           "neutral",
           4,
           2
          ],
          [
           "@JetBlue excited for my first flight w/ you today! It's delayed though- can you give me the 411? Flight number 989 from Boston to DC",
           "neutral",
           4,
           1
          ],
          [
           "@JetBlue check DM please :)",
           "neutral",
           1,
           1
          ],
          [
           "@SouthwestAir will do! #heart #flying",
           "neutral",
           0,
           1
          ],
          [
           "@USAirways please change direct flights from RIC to JFK instead of LGA. Pleeeeease! LGA is the pits.",
           "neutral",
           1,
           2
          ],
          [
           "@USAirways Fortunately you have staff like Lynn S. and DeeDee who actually understand customer service and simply being NICE.",
           "neutral",
           6,
           1
          ],
          [
           "@SouthwestAir @TheEllenShow @Imaginedragons this job interferes w/Ellen Show &amp; concerts! will alway treasure my @LiveAtFirefly experience!",
           "neutral",
           0,
           2
          ],
          [
           "@JetBlue hope so! looks nice and warm in San Juan 🌴",
           "neutral",
           6,
           1
          ],
          [
           "@USAirways we got our bags today. Thanks!",
           "neutral",
           3,
           1
          ],
          [
           "@united need help. Never got tickets. Conf #ggqzqd",
           "neutral",
           5,
           2
          ],
          [
           "@VirginAmerica Flight 0736 DAL to DCA 2/24 2:10pm. Tried to check in could not. Status please.",
           "neutral",
           5,
           2
          ],
          [
           "@SouthwestAir Finally got me home #BNASnow",
           "neutral",
           0,
           1
          ],
          [
           "@AmericanAir it looks like a mistake",
           "neutral",
           2,
           2
          ],
          [
           "@AmericanAir i need someone to help me out",
           "neutral",
           2,
           2
          ],
          [
           "@JetBlue Indeed. I don't know what's going on in Pittsburgh that weekend, but, it's drawing a crowd via JetBlue!",
           "neutral",
           1,
           1
          ],
          [
           "@SouthwestAir continues to prove to be the best airlines 💪",
           "neutral",
           0,
           1
          ],
          [
           "@AmericanAir I know you are getting pummeled tonight @dfwairport we were one of the lucky out of @slcairport just one more @AUStinAirport",
           "neutral",
           6,
           1
          ],
          [
           "@SouthwestAir @FortuneMagazine Congratulations!",
           "neutral",
           0,
           1
          ],
          [
           "“@SouthwestAir: Congrats to these fans who are seeing #DestinationDragons in L.A.! SLC, you're next! http://t.co/YcCITaeP3S” Thanks again SW",
           "neutral",
           0,
           1
          ],
          [
           "@USAirways Eh, it happens. I think I'll survive. 😉 Thanks!",
           "neutral",
           3,
           1
          ],
          [
           "@SouthwestAir Looking forward to out Power of Inclusion event with very special guests! We will begin promptly at 11:30 a.m. #SWADiversity",
           "neutral",
           0,
           1
          ],
          [
           "“@VirginAmerica:You've met your match.Got status on another airline? Upgrade : http://t.co/H952rDKTqy” @asarco_ES_ar ? 🙉",
           "neutral",
           1,
           1
          ],
          [
           "@SouthwestAir got an email confirmation of wifi purchase on a recent flight. Trouble is, I've never flown with you. Ever. #concerned #scam?",
           "neutral",
           4,
           2
          ],
          [
           "@united thanks again for your concern. I will contact customer care upon our return from Australia.",
           "neutral",
           6,
           1
          ],
          [
           "@AmericanAir I had booked online but unable to Cancelled Flight online. But finally got thru.",
           "neutral",
           4,
           2
          ],
          [
           "@united we finally just arrive to Bogota, good but long flight!!",
           "neutral",
           1,
           1
          ],
          [
           "@United should find a way to distinguish boarding of premier members and credit card holders. Group 2 is too big!",
           "neutral",
           5,
           2
          ],
          [
           "@united yes I've boarded this way many times &amp; have never had to show my pass on the Tarmac multiple times. Path was railed off. Only 1 way",
           "neutral",
           1,
           2
          ],
          [
           "@JetBlue here we go again, 2nd round trip to CA in a week #TrueBlue",
           "neutral",
           1,
           1
          ],
          [
           "@USAirways me too. Me too.",
           "neutral",
           3,
           1
          ],
          [
           "@AmericanAir Oh trust me. I am in love. It is so beautiful!",
           "neutral",
           2,
           1
          ],
          [
           "@usairways sadly they've tried that and airport agents…no flights so they're stranded at PHL. No chance of a hotel for them?",
           "neutral",
           4,
           2
          ],
          [
           "@USAirways still just sitting here. nobody has said anything. What's up?",
           "neutral",
           5,
           2
          ],
          [
           "@SouthwestAir How can we get refund instead of credit for flight that you Cancelled Flightled? We couldn't switch to a flight tomorrow.",
           "neutral",
           4,
           2
          ],
          [
           "@JetBlue such a bummer.  But I understand it's a business deal. Thanks for answering me!  Much less sad now.",
           "neutral",
           6,
           1
          ],
          [
           "@JetBlue #AfterAll indeed! https://t.co/swWhYhEn76 #LoveSongFriday #Cheesy #80sweresomuchfun #BrandLoveAffair",
           "neutral",
           1,
           1
          ],
          [
           "@united looking back - never heard from anyone - I had to call and frankly got standard SOP - still think about it today",
           "neutral",
           5,
           2
          ],
          [
           "@AmericanAir tell me you can get me to ABI earlier than 8 pm tomorrow",
           "neutral",
           2,
           2
          ],
          [
           "@united thank you !",
           "neutral",
           3,
           1
          ],
          [
           "@united Thank you.",
           "neutral",
           3,
           1
          ],
          [
           "@SouthwestAir If there are any Imagine Dragons tickets left for tomorrow at \n@VelourLive here in Utah I would love to go I am available! :)",
           "neutral",
           0,
           1
          ],
          [
           "@JetBlue @EllaHenderson Ah! Wish I was there! Good luck!",
           "neutral",
           1,
           1
          ],
          [
           "@JetBlue  Not blaming Jet Blue.  This wasn't weather. Can't have planes in the air and runways a mess. That's a disaster waiting to happen.",
           "neutral",
           4,
           2
          ],
          [
           "@united I understand why the pilot would get on the plane but why 1st class?  There were 5 empty coach seats near me?  I'm a Premier 1K?",
           "neutral",
           6,
           2
          ],
          [
           "@JetBlue Thanks for the FB. message telling me I will have to wait between 1-3 days.  I'm waiting.",
           "neutral",
           4,
           1
          ],
          [
           "@SouthwestAir flt 3260 out of mht. Have fun with my kids and grandkids 10 of them!!  Jack says hi! http://t.co/BHOOiyT6ZQ",
           "neutral",
           0,
           1
          ],
          [
           "@united ah, that would explain why crew didn't seem particularly distressed when we pointed it out. It was a little startling at first.",
           "neutral",
           6,
           2
          ],
          [
           "@united unfortunately still on the Tarmac at @fly2ohare and definitely missing my ride from @flypdx #GonnaBeALongNight",
           "neutral",
           4,
           2
          ],
          [
           "@AmericanAir Thank you",
           "neutral",
           2,
           1
          ],
          [
           "@AmericanAir Am on web site requesting refund for Cancelled Flightled flight. It requires numerical document number. Where get it?",
           "neutral",
           4,
           2
          ],
          [
           "@JetBlue real shit my nigga north don't play around!",
           "neutral",
           4,
           2
          ],
          [
           "@united I understand, but it's tough when there is no way to get to the airport w/o serious risk of an accident. It's a steep price.",
           "neutral",
           4,
           2
          ],
          [
           "@JetBlue nope. Currently sitting at my gate.",
           "neutral",
           1,
           2
          ],
          [
           "Thx! Stand by! “@united: @rajuchinthala I know it's frustrating and I do appreciate your patience while we try to get you on your way. ^JH”",
           "neutral",
           5,
           1
          ],
          [
           "@united Airline trouble this winter &amp; not getting good customer service? contact http://t.co/aQjn4HwNaC  we negotiate resolutions for You!",
           "neutral",
           4,
           2
          ],
          [
           "@VirginAmerica @ladygaga @carrieunderwood All were entertaining",
           "neutral",
           5,
           1
          ],
          [
           "@united I tried.   We were hung up on, twice. After speaking with someone, then put on hold for 45 minutes.  No resolution.",
           "neutral",
           5,
           2
          ],
          [
           "@VirginAmerica You should still develop an app - then you will be my favorite airline.",
           "neutral",
           6,
           1
          ],
          [
           "@SouthwestAir my bag was Late Flight-checked and put on a different flight from OAK-&gt;MSY. Having troubles tracking it down. Any help?",
           "neutral",
           4,
           2
          ],
          [
           "@AmericanAir @Clarkey_19 we done it with 1 truck... No biggie 😄",
           "neutral",
           5,
           1
          ],
          [
           "@AmericanAir I'm going to speak with customer service at the airport tomorrow morning and see what my options are. I need a flight tomorrow",
           "neutral",
           4,
           2
          ],
          [
           "@united but the gate agent and club staff got me priority standby for next so might only be minor disaster...#travelingwithsmallkids",
           "neutral",
           5,
           2
          ],
          [
           "@AmericanAir know that I could use that for a flight into Canada.  By they time they figured it out, it was too Late Flight to check our bags",
           "neutral",
           4,
           2
          ],
          [
           "@united it just goes round &amp; round, it's be going on for weeks,",
           "neutral",
           3,
           2
          ],
          [
           "@united will do. Thank you!",
           "neutral",
           3,
           1
          ],
          [
           "@AmericanAir I'd like to apologize to the gate agent for flight AA76, I was not aware that zone 1 was after the nine other precious gems.",
           "neutral",
           4,
           2
          ],
          [
           "@SouthwestAir Thanks!!! :)  It is good to air on the side of caution",
           "neutral",
           0,
           1
          ],
          [
           "@USAirways thank you, but it says the website is down",
           "neutral",
           6,
           2
          ],
          [
           "@SouthwestAir the flight isn't that empty.... Is this rude or not? http://t.co/4RL0p5JChB",
           "neutral",
           0,
           2
          ],
          [
           "@AmericanAir  2 hours to be answered on a call?",
           "neutral",
           2,
           2
          ],
          [
           "@AmericanAir Yes, thanks I found those, didn't see the gray tab at first :)",
           "neutral",
           2,
           1
          ],
          [
           "@USAirways  my flight was #3729...but I left my phone on the plane or the shuttle :(",
           "neutral",
           4,
           2
          ],
          [
           "@AmericanAir We did talk with Delta for about hour over phone, and I got a number from Delta that they asked to give to AA, which I did.",
           "neutral",
           2,
           2
          ],
          [
           "@united lets see of we can do this today! Hoping for an on-time dept #dullestostatecollege #runningonthreehoursofsleep #delayedovernight",
           "neutral",
           5,
           2
          ],
          [
           "@AmericanAir can I get a free ticket to Hawaii for being fabulous",
           "neutral",
           6,
           1
          ],
          [
           "Lol great answer.. “@AmericanAir: @JayFranceschi Our agents are checking in passengers as quickly as possible. We appreciate your patience.”",
           "neutral",
           6,
           1
          ],
          [
           "@united Great, thank you!! I'll send it now.",
           "neutral",
           3,
           1
          ],
          [
           "@united returned from vacation + went to luggage services. Golf bag was presented in clear wrap that could've been used in the first place.",
           "neutral",
           5,
           2
          ],
          [
           "@VirginAmerica way to take advantage of #MayweatherPacquiao :)",
           "neutral",
           5,
           1
          ],
          [
           "@USAirways Expedia reserved a ticket for me and 2 more for a USAW flight but only issued 1. They are not responsive.Thoughts?",
           "neutral",
           4,
           2
          ],
          [
           "@JetBlue Thank you for opening the conversation.  I hope you can make it right.",
           "neutral",
           6,
           1
          ],
          [
           "@AmericanAir I am trying to switch my flight to AA 1359 I am currently on AA 2401 at 6:50am MONDAY morn then AA 2586! Help Me!!",
           "neutral",
           4,
           2
          ],
          [
           "@SouthwestAir I DMed you :)",
           "neutral",
           0,
           1
          ],
          [
           "@VirginAmerica @ladygaga @carrieunderwood all are great , but I have to go with #CarrieUnderwood 😍👌",
           "neutral",
           5,
           1
          ],
          [
           "@AmericanAir You guys are the talk of the Americans down here in Ecuador! Read this! https://t.co/5ON3KlzVMT",
           "neutral",
           5,
           2
          ],
          [
           "@USAirways and now you can't even accommodate us by letting us fly in to another airport?! Horrible service for your fault!!!",
           "neutral",
           4,
           2
          ],
          [
           "@USAirways got through on the phone. usair Cancelled Flightled her return flights because she missed a flight on her way out. they took care of it",
           "neutral",
           4,
           2
          ],
          [
           "@USAirways  2 calls &amp; wasted 3 hrs on hold to change my coming divided awards weather reLate Flightd flight. Y'all disconnected me 2x. Please help.",
           "neutral",
           4,
           2
          ],
          [
           "@AmericanAir got a callback at 1 am, took care of it. thanks.",
           "neutral",
           2,
           1
          ],
          [
           "@USAirways just told by supervisor that they won't guarantee the empty seats to standby passengers with flights Cancelled Flightled so can sell them",
           "neutral",
           4,
           2
          ],
          [
           "@united Also, a United phone representative just asked me for my web password. Is that normal?",
           "neutral",
           5,
           2
          ],
          [
           "@united booked EWR-FLL in first for two on 3-8. Let's see how you compare to the garbage @AmericanAir first class has become",
           "neutral",
           5,
           2
          ],
          [
           "@united AND WE GOT ZERO VOUCHERS FOR HOTEL OR CAB. I expect some SERIOUS mileage credits.",
           "neutral",
           5,
           2
          ],
          [
           "@SouthwestAir An Oscar-worthy entrance into LA. http://t.co/10tmtHVFDC",
           "neutral",
           0,
           1
          ],
          [
           "@SouthwestAir Thank you.",
           "neutral",
           0,
           1
          ],
          [
           "@JetBlue Domestic.  To be clear -- I do not have to sit in (your lovely) terminal, just need to be there 1 hour prior to boarding?  Thanks!",
           "neutral",
           6,
           1
          ],
          [
           "@VirginAmerica I have 2d and 3d embossed badges and patches superior to the ones you are currently using. \nhttp://t.co/3fq3XElbOn",
           "negative",
           5,
           0
          ],
          [
           "@united Just let the employees know that good service and a kind attitude towards customers is vital in this kind of business. Thanks",
           "negative",
           6,
           1
          ],
          [
           "@SouthwestAir no, thanks. I think we have it straight!",
           "negative",
           0,
           0
          ],
          [
           "@AmericanAir I DM'd you. Anything you can do?",
           "negative",
           2,
           0
          ],
          [
           "@JetBlue I'm also a mosaic customer and fly jet blue ALOT....",
           "negative",
           1,
           0
          ],
          [
           "@united they have access to the dial that makes it faster do they?",
           "negative",
           3,
           0
          ],
          [
           "@USAirways I will. Is it down or is just me?",
           "negative",
           5,
           0
          ],
          [
           "@AmericanAir AA45 ... JFK to LAS.",
           "negative",
           2,
           0
          ],
          [
           "@United Can you increase the legroom? : How airlines compare http://t.co/diUfep8n2q via @CNNMoney",
           "negative",
           1,
           0
          ],
          [
           "@SouthwestAir thank you. I was given this same reply 2 years ago. Can you direct me to an area I can learn more about the improvements?",
           "negative",
           0,
           0
          ],
          [
           "@united just curious, when are you going to to finally learn #customerservice ?",
           "negative",
           5,
           0
          ],
          [
           "We didn't need this. RT @JetBlue: Our fleet's on fleek. http://t.co/cpZB285o71",
           "negative",
           1,
           0
          ],
          [
           "RT @JetBlue: Our fleet's on fleek. http://t.co/NfjAuW16vZ&lt;--....😕",
           "negative",
           1,
           0
          ],
          [
           "@united e-ticket # 0162389030167, refund request # 16866853, case id # 8465981",
           "negative",
           5,
           0
          ],
          [
           "@SouthwestAir Am I flying on Spirit air?",
           "negative",
           0,
           0
          ],
          [
           "@SouthwestAir @TaylorLumsden Taylor.  U gotta love SWA responsiveness at the@very least huh?",
           "negative",
           0,
           0
          ],
          [
           "@united I do I was on UA 495 LAX TO DEN - we are scheduled to land LAX @ 7:38 am - please rebook to Denver - best flight",
           "negative",
           1,
           0
          ],
          [
           "@SouthwestAir Hoping you answer the phone today?",
           "negative",
           0,
           0
          ],
          [
           "@united i sure will",
           "negative",
           3,
           0
          ],
          [
           "@AmericanAir Yes I am. 2495/1170. RNO departure at 1229 on 2/25 w/connection at DFW to LGA. I can do the 1120am to LAX and then to JFK",
           "negative",
           1,
           0
          ],
          [
           "@AmericanAir @SentieriMelinda Any updates? It shouldn't take hours for assistance. I love @SouthwestAir",
           "negative",
           0,
           0
          ],
          [
           "@JetBlue Oh no! I thought it did. :(",
           "negative",
           1,
           0
          ],
          [
           "@united thanks for the link, now finally arrived in Brussels, 9 h after schedule...",
           "negative",
           3,
           0
          ],
          [
           "@SouthwestAir just sent it",
           "negative",
           0,
           0
          ],
          [
           "@AmericanAir that's quite an impressive list of fees!",
           "negative",
           2,
           1
          ],
          [
           "@USAirways will you hold #475 today for connecting passengers coming from delayed flights?",
           "negative",
           4,
           0
          ],
          [
           "@united Monday evening.",
           "negative",
           3,
           0
          ],
          [
           "@united a rapid trip plane ticket from Idaho to California that doesn't have problems would be wonderful",
           "negative",
           6,
           0
          ],
          [
           "@united a report was filed with the airport police on 11th and 12th February-I have the police case number if required",
           "negative",
           5,
           0
          ],
          [
           "@JetBlue I just DM'd you!",
           "negative",
           1,
           0
          ],
          [
           "@united nexus confirmed that at any crossing via air, car or boat she can travel with only Nexus.",
           "negative",
           5,
           0
          ],
          [
           "@AmericanAir Has AA Flight 296 from San Antonio to Dallas been Cancelled Flighted?",
           "negative",
           4,
           0
          ],
          [
           "@VirginAmerica question: is it not possible to book a seat for an infant under 2? It's not giving me the option but we want a seat for him.",
           "negative",
           5,
           0
          ],
          [
           "@AmericanAir do you have the phone number of a supervisor i can speak to regarding my travels today",
           "negative",
           2,
           0
          ],
          [
           "@AmericanAir: my brother's flight into DFW was Cancelled Flightled yesterday. Are you flying from ONT to DFW today?",
           "negative",
           4,
           0
          ],
          [
           "@united unless it's on you guys, im good.",
           "negative",
           3,
           0
          ],
          [
           "@SouthwestAir thanks for taking such good care of my luggage... http://t.co/PIvxean3jY",
           "negative",
           6,
           1
          ],
          [
           "@JetBlue 290 to Boston",
           "negative",
           1,
           0
          ],
          [
           "@united or did you mean 24-26?",
           "negative",
           3,
           0
          ],
          [
           "@USAirways  but have to return car to clt can I skip my flgjt back tonight from gso to clt and pick up at clt to fll I was told yes",
           "negative",
           5,
           0
          ],
          [
           ".@united Let us know when you find everyone's luggage. Thanks. #UnitedAirlines",
           "negative",
           6,
           0
          ],
          [
           "@SouthwestAir Roger wilco.",
           "negative",
           0,
           0
          ],
          [
           "@united Ok thank you, do you provide complimentary hotel accommodations since I'll have to stay overnight?",
           "negative",
           6,
           0
          ],
          [
           "@united Can you please follow for a Dm on a missing bag?",
           "negative",
           5,
           0
          ],
          [
           "@JetBlue Thanks for the THIRD gate change http://t.co/UfBdr5AxeO",
           "negative",
           1,
           1
          ],
          [
           "@united Did somebody say flight upgrade?",
           "negative",
           1,
           0
          ],
          [
           "@AmericanAir @maxfitgirl29 next time fly Southwest...",
           "negative",
           0,
           0
          ],
          [
           "@united Such as deodorant, shampoo, toothpaste. Seems like that would be limited to 70oz, correct?",
           "negative",
           5,
           0
          ],
          [
           "@united thank you for 7 hrs at terminal D in Dulles airport http://t.co/IG2dgctt2M",
           "negative",
           6,
           1
          ],
          [
           "@SouthwestAir here's a first..both pilot and first officer in galley during flight...",
           "negative",
           0,
           0
          ],
          [
           "@JetBlue's CEO battles to appease passengers and Wall Street - Waterbury Republican American http://t.co/Ur60Un86gy",
           "negative",
           4,
           0
          ],
          [
           "@SouthwestAir Engadget Theverge Wired reddit",
           "negative",
           0,
           0
          ],
          [
           "@united Dmed you. Thank you",
           "negative",
           3,
           1
          ],
          [
           "@JetBlue can you ask SLC checkin/bag drop if they found a dark blue/blackish fit bit flex? Would've lost it there around 445pm MT",
           "negative",
           4,
           0
          ],
          [
           "@VirginAmerica please provide status for flight 769.  I cant imagine it's on time as the Web indicates  dude to weather here and/or Dallas",
           "negative",
           4,
           0
          ],
          [
           "nope. RT @JetBlue: Our fleet's on fleek. http://t.co/9SHhTvIOTI",
           "negative",
           1,
           0
          ],
          [
           "@united well perhaps you could highlight where that is stated.  We travel between Canada &amp; USA on United with only Nexus",
           "negative",
           5,
           0
          ],
          [
           "@AmericanAir I'll try to have a great week once I receive it 😩😭💔",
           "negative",
           2,
           1
          ],
          [
           "@USAirways is the real MVP for holding up the flight connecting Philly to Tampa.",
           "negative",
           6,
           1
          ],
          [
           "“@JetBlue: Our fleet's on fleek. http://t.co/vw2v8GVnGq” 😐😑",
           "negative",
           1,
           0
          ],
          [
           "@SouthwestAir thank you : 8UXZJ2\nPaid for early bird and sat in back",
           "negative",
           0,
           1
          ],
          [
           "@AmericanAir Thanks, she did her best. Staying the night in Dallas, new trial to Detroit via Atlanta tomorrow, assuming no Cancelled Flightlations.",
           "negative",
           6,
           1
          ],
          [
           "@usairways I just learned that although there is travel policy and they waive the change fee-you will still be charged a $25 reservation fee",
           "negative",
           5,
           0
          ],
          [
           "“@united: @mllovelace The baggage fee is waived for Premier members. Please see http://t.co/u6Duw27mDE. ^JP” what's the point of membership?",
           "negative",
           5,
           0
          ],
          [
           "@SouthwestAir I just sent it over",
           "negative",
           0,
           0
          ],
          [
           "@JetBlue @Cinnabon the two of you should team up to serve cinnabons on the flights!!!! #BonsInTheSky",
           "negative",
           5,
           0
          ],
          [
           "@SouthwestAir prove it",
           "negative",
           0,
           0
          ],
          [
           "@SouthwestAir Sure was,  with @Delta  looks like I'll make my birthday celebration after all.",
           "negative",
           0,
           0
          ],
          [
           "@AmericanAir all right, but can you give me an email to write to ?",
           "negative",
           2,
           0
          ],
          [
           "@united please send help ASAP to @KathrynSotelo on flight 5957 to Chicago seat 9c #Airlines http://t.co/9sKrLyrZ1O",
           "negative",
           1,
           0
          ],
          [
           "@JetBlue I put it my \"to\" and \"from\" airports, click update and it tells me to put in my \"to\" and \"from\" airports.",
           "negative",
           1,
           0
          ],
          [
           "@united Classic",
           "negative",
           3,
           0
          ],
          [
           "@SouthwestAir No I have not.",
           "negative",
           0,
           0
          ],
          [
           "@JetBlue whose performing at T5",
           "negative",
           1,
           0
          ],
          [
           "@JetBlue I can probably find some of them. Are the ticket #s on there?",
           "negative",
           1,
           0
          ],
          [
           "@united since I have an international connection at 9am, I'm hoping for the same thing!",
           "negative",
           3,
           0
          ],
          [
           "@united do you expect to Cancelled Flight flights out of @DENAirport tomorrow morning given the storm?",
           "negative",
           4,
           0
          ],
          [
           "@united an update on flight 5979 would be great!",
           "negative",
           1,
           0
          ],
          [
           "@SouthwestAir @dultch97 that's horse radish 😤🐴",
           "negative",
           0,
           0
          ],
          [
           "@AmericanAir Best planes in the business. NOT? AA5411 today. http://t.co/I7Vdi9WqSF",
           "negative",
           1,
           0
          ],
          [
           "@AmericanAir Trying desperately to get my boyfriend booked on the same US Airways flight as myself for the same price. Can you help?",
           "negative",
           4,
           0
          ],
          [
           "@united €202.88 is the difference between the booked flights, do you want screen shots?",
           "negative",
           4,
           0
          ],
          [
           "@united on plane to Newark now. I was checked in as Rebecca Levi. My bag is under her name too.",
           "negative",
           5,
           0
          ],
          [
           "@AmericanAir I dmed",
           "negative",
           2,
           0
          ],
          [
           "@SouthwestAir My flight was 952, leaving las vegas at 5:40pm, arriving at CHI-MID at 11:00 pm.",
           "negative",
           0,
           0
          ],
          [
           "@united, any options to cos tonight? Doesn't look like #UA5525 will make it in time for #UA6259. Should I reserve a hotel room?",
           "negative",
           5,
           0
          ],
          [
           "@SouthwestAir thanks! I expected a wait... Just not that long. :)",
           "negative",
           0,
           1
          ],
          [
           "@JetBlue ok we got as far as Atlantic City due to JFK being closed. Can you get us to HPN or LGA?? Please?",
           "negative",
           4,
           0
          ],
          [
           "@AmericanAir @lpalumbo what weather sun is out",
           "negative",
           2,
           0
          ],
          [
           "“@AmericanAir: @RussellsWriting Russ, please contact Reservations at 800-433-7300 for reFlight Booking Problems options.” Good luck with that!",
           "negative",
           2,
           0
          ],
          [
           "@JetBlue should i continue?",
           "negative",
           1,
           0
          ],
          [
           "@AmericanAir @lpalumbo what weather sun is out",
           "negative",
           2,
           0
          ],
          [
           "@united ok, I have that, pretty sure I had it before too but will wait and see what happens....",
           "negative",
           5,
           0
          ],
          [
           "@USAirways we are on the 2pm flight FLL to PHL and then connection to MAN. However, with the delays we might miss it. Can we go earlier?",
           "negative",
           4,
           0
          ],
          [
           "@SouthwestAir Nashville airport has runways open. It appears southwest is only airline Cancelled Flighting flights. Is this likely to change?",
           "negative",
           0,
           0
          ],
          [
           "@SouthwestAir How about auto check in for CP holders? Come on.",
           "negative",
           0,
           0
          ],
          [
           "@VirginAmerica Umm so no reason as to why this is? Is there someone different I should contact (or contact me) to get a definitive answer?",
           "negative",
           5,
           0
          ],
          [
           "“@USAirways: @AnnetteNaif We appreciate the #shoutout for Roberto. DM confirmation code so we can forward ur kind words.” Confirmation code?",
           "negative",
           5,
           0
          ],
          [
           "@VirginAmerica hi! I just bked a cool birthday trip with you, but i can't add my elevate no. cause i entered my middle name during Flight Booking Problems 😢",
           "negative",
           4,
           0
          ],
          [
           "@united I would like to know what is the easiest way to get a refund.",
           "negative",
           3,
           0
          ],
          [
           "@united do you guys have any working planes?",
           "negative",
           1,
           0
          ],
          [
           "@united I have sent a message with a bag tag. Have you looked?",
           "negative",
           5,
           0
          ],
          [
           "@SouthwestAir @challemann flying to LGA in the dead of winter? #jvstatus EWR &amp; JFK is always the intelligent option.",
           "negative",
           1,
           0
          ],
          [
           "@USAirways it is the same passenger, just her maiden name ended up as last name through online Flight Booking Problems.  Yes, understand non transferable",
           "negative",
           4,
           0
          ],
          [
           "@SouthwestAir Just landed in PHL. Row 9 window cover on N366SW could use some LUV. http://t.co/WQZZtIemX0",
           "negative",
           0,
           0
          ],
          [
           "@united customer service 👎",
           "negative",
           3,
           1
          ],
          [
           "@USAirways  thanks! Now I just need to locate where my luggage is!",
           "negative",
           5,
           1
          ],
          [
           "can you not? RT @JetBlue Our fleet's on fleek. http://t.co/413GiAL0yl",
           "negative",
           1,
           0
          ],
          [
           "@AmericanAir thanks for the response. I know it's not your fault... But Im in ORD in T5 and hungry if you want to stop by ✈️✌️",
           "negative",
           6,
           1
          ],
          [
           "@JetBlue get flight 16 into the air",
           "negative",
           1,
           0
          ],
          [
           "@SouthwestAir Finally got through after 3 hours and all set. Thanks.",
           "negative",
           0,
           1
          ],
          [
           "@JetBlue please get service started at @triflight and offer good routes lile florida upstate ny vegas etc",
           "negative",
           1,
           0
          ],
          [
           "@usairways Row 16, flight 634 today if you're looking for specifics! I can run to Home Depot for the WD40 you if you need.",
           "negative",
           5,
           0
          ],
          [
           "@USAirways Thanks for showing interest...3880 to Greenville, SC.",
           "negative",
           3,
           0
          ],
          [
           "@SouthwestAir have you considered adding the \"we'll call you back when we have someone free\" feature to your support line?",
           "negative",
           0,
           0
          ],
          [
           "@JetBlue no, I haven't done that yet. Is that something I can do online? Thx!",
           "negative",
           4,
           0
          ],
          [
           "@SouthwestAir when will you be accepting reservations past August 7?",
           "negative",
           0,
           0
          ],
          [
           "Includes @KCIAirport “@SouthwestAir: Inclement weather may impact scheduled service in. ReFlight Booking Problems options available: http://t.co/KeyrpFlHil”",
           "negative",
           0,
           0
          ],
          [
           "@JetBlue it's sunny and gorgeous in ny actually. What's the real reason?",
           "negative",
           6,
           0
          ],
          [
           "@united yes I have",
           "negative",
           3,
           0
          ],
          [
           "@AmericanAir continues to win: I've never missed a flight before, but a nice little quiet gate change made it possible. Sheesh.",
           "negative",
           6,
           1
          ],
          [
           "@united any solutions?",
           "negative",
           3,
           0
          ],
          [
           "@AmericanAir can I get home before 12 or no?",
           "negative",
           2,
           0
          ],
          [
           "@JetBlue can you tweet #closepwcs to get the word out?😢",
           "negative",
           1,
           0
          ],
          [
           ".@JetBlue Navigating through 2 rebooks due to flu &amp; ice to visit my Mother.  Your CS reps have been so very helpful, patient and friendly.",
           "negative",
           6,
           1
          ],
          [
           "@USAirways We did. @AmericanAir said to open one with you, too.",
           "negative",
           2,
           0
          ],
          [
           "@AmericanAir is that something the crew on the current leg can request of the gate team on the next leg?",
           "negative",
           2,
           0
          ],
          [
           "@united Awesome flight crew on UA1589, re the plane,  the  Jurassic period called and they want their dinosaur/plane back!",
           "negative",
           1,
           1
          ],
          [
           "@SouthwestAir how often are airplane seats/tray tables cleaned and sanitized? rather have air purifier and clean seats than #wifi 😷😱",
           "negative",
           6,
           0
          ],
          [
           "@JetBlue they booked me for tomorrow. It's $250 higher. My 1st reservation is PGFRYZ. Get me on standby list 4 tonight would help.",
           "negative",
           1,
           0
          ],
          [
           "@JetBlue Thanks. So the delay was the result of scheduling issues more than weather reLate Flightd problems?",
           "negative",
           4,
           0
          ],
          [
           "@SouthwestAir I have a voucher w swa that expires 4/10. An extension would be a lot of luv",
           "negative",
           0,
           0
          ],
          [
           "@united so what's the solution?",
           "negative",
           3,
           0
          ],
          [
           "@AmericanAir can you?",
           "negative",
           2,
           0
          ],
          [
           "@USAirways Can you advise on what's happening with departure delays from CLT?",
           "negative",
           5,
           0
          ],
          [
           "@AmericanAir @kanne822 @SouthwestAir is better than AA.",
           "negative",
           0,
           1
          ],
          [
           "@united thanks for that advice, so helpful. Can't believe you guys actually charge people to \"fly\" united",
           "negative",
           6,
           1
          ],
          [
           "@united is to airlines as @comcast @XFINITY is to cable/internet",
           "negative",
           1,
           0
          ],
          [
           "@SouthwestAir Hi! Just got my TSA pre-check # &amp; put it in my acct. But it's not on my boarding pass for a flight this p.m.Can it be updated?",
           "negative",
           4,
           0
          ],
          [
           "@AmericanAir is flight 2934 dfw to gsp going to be Cancelled Flightled tomorrow?",
           "negative",
           4,
           0
          ],
          [
           "@united and that it would be sent on the next flight to Hayden/steamboat (HDN) from Denver. So I'm hoping its on there",
           "negative",
           1,
           0
          ],
          [
           "@united all 4 of us are on standby in Houston tomorrow for flights to Calgary. If you could get us on one or two of those that would help",
           "negative",
           4,
           0
          ],
          [
           "@AmericanAir yeah, buy me a @Delta plane ticket from San Diego to Detroit so I can fly one of their planes home tomorrow",
           "negative",
           1,
           0
          ],
          [
           "@americanair I finally got someone on the phone so no worries!",
           "negative",
           2,
           1
          ],
          [
           "@united we can't all be american airlines I suppose... http://t.co/0EWj7oKlji",
           "negative",
           1,
           0
          ],
          [
           "@SouthwestAir oh, ok!  all good!  looking forward to escaping the cold for a bit!  thanks!",
           "negative",
           0,
           1
          ],
          [
           "@united So what does someone with severe anxiety do when the one person who can help him isn't next to him?",
           "negative",
           5,
           0
          ],
          [
           "@SouthwestAir want to pick up a customer from @SpiritAirlines sign me up 🙌😏",
           "negative",
           0,
           0
          ],
          [
           "@AmericanAir We all did! Skipper's walk-around too :(",
           "negative",
           2,
           0
          ],
          [
           "@united thanks for reaching out. The seat was hard, not enough cushion. OK for short flight. BTW, UA6465 flight and crew were great!",
           "negative",
           6,
           1
          ],
          [
           "@VirginAmerica is the website down?",
           "negative",
           5,
           0
          ],
          [
           "@JetBlue 👍. I think I'll come take a nap at the terminal.  ;)",
           "negative",
           4,
           0
          ],
          [
           "@USAirways checked in last night @ airport by supervisor w boarding pass for 1A - boarding today seat changed to 7F. How does that happen?",
           "negative",
           4,
           0
          ],
          [
           "@united Do you have a further update on the suitcase today please.",
           "negative",
           5,
           0
          ],
          [
           "@USAirways @AskPayPal completed. If that's the case then why does it still say \"in progress\" on Paypal's website. I reserved on the 13th.",
           "negative",
           5,
           0
          ],
          [
           "@SouthwestAir when will airfare be available through December of this year? I have 2 major trips coming up and I'm anxious to book them!",
           "negative",
           0,
           0
          ],
          [
           "@AmericanAir Will it be this year, do you think?",
           "negative",
           2,
           0
          ],
          [
           "@SouthwestAir Is my friend lucky enough to see #DestinationDragons live on his birthday? He's been a fan for years @thirty_lives",
           "negative",
           0,
           0
          ],
          [
           "@united It is all good -- your 1K team has been nothing short of amazing with everything.",
           "negative",
           3,
           1
          ],
          [
           "@USAirways I hope so, too. Thank you for your help. She traveled halfway across the globe and just wants her suitcase.",
           "negative",
           6,
           1
          ],
          [
           "@AmericanAir right on cue with the delays👌",
           "negative",
           2,
           0
          ],
          [
           "@VirginAmerica I was really looking forward to my flight. can you let me know when it will be rescheduled? #diehardvirgin",
           "negative",
           1,
           0
          ],
          [
           "@JetBlue's CEO battles to appease passengers and Wall Street - @TheVDT http://t.co/h6cE3mWCqj",
           "negative",
           4,
           0
          ],
          [
           "@USAirways there is a travel advis for nyc and phil PA  -winter weather- but U.S. Air hasn't posted one yet. Can I still change flt wo pen?",
           "negative",
           5,
           0
          ],
          [
           "@SouthwestAir Flight 4968 (N8325D) departs @MCO enroute to @NO_Airport http://t.co/fd4SnvKIeM",
           "negative",
           4,
           0
          ],
          [
           "@USAirways some flexibility on your part would be nice. This is why I love @SouthwestAir. They're flexible &amp; not trying to take all my $.",
           "negative",
           0,
           1
          ],
          [
           "Haha! @JetBlue: Our fleet's on fleek. http://t.co/KmaNLdQbh4”",
           "negative",
           1,
           0
          ],
          [
           "@JetBlue where is it coming from? I thought Tampa?",
           "negative",
           1,
           0
          ],
          [
           "@USAirways let's say it's directly correLate Flightd to the chance of a replacement case. I know which would cost the airline less!",
           "negative",
           6,
           0
          ],
          [
           "@united What a really GREAT &amp; FLATTERING story about you! You should be very proud :) http://t.co/oKtUkjY92O (via @ParachuteGuy)",
           "negative",
           6,
           1
          ],
          [
           ":( RT @JetBlue: Our fleet's on fleek. http://t.co/ncguZDgDaQ",
           "negative",
           1,
           0
          ],
          [
           "@AmericanAir Would love to DM you, but my Twitter app says you're not following me and I can't.",
           "negative",
           5,
           0
          ],
          [
           "@united I knew I should've flew @VirginAmerica lol",
           "negative",
           1,
           0
          ],
          [
           "@united have you read your own same day travel change policy?",
           "negative",
           5,
           0
          ],
          [
           "@SouthwestAir I sent you my conf number yesterday.",
           "negative",
           0,
           0
          ],
          [
           "@JetBlue Jan 5? That's not summer http://t.co/TpzhjX7Hbt",
           "negative",
           1,
           0
          ],
          [
           "@AmericanAir I tried that. They won't book us with another airline. I wish I had flown with you! We are now stuck in FL til Weds.",
           "positive",
           4,
           2
          ],
          [
           "@SouthwestAir YES please....How do we get that companion pass?",
           "positive",
           0,
           0
          ],
          [
           "@SouthwestAir Yes, please.",
           "positive",
           0,
           0
          ],
          [
           "@AmericanAir Hmm. Looks like you looked at my tweet from last month, not this one. Was able to get U.K. agent to help me, thanks.",
           "positive",
           2,
           0
          ],
          [
           "@SouthwestAir Make the world a better place: Visit an elderly relative.",
           "positive",
           0,
           0
          ],
          [
           "@VirginAmerica How about some free drinks on the flight back for the free promo?",
           "positive",
           6,
           0
          ],
          [
           "@VirginAmerica Like http://t.co/VPqEm31XUQ",
           "positive",
           5,
           0
          ],
          [
           "@JetBlue where's my selfie?",
           "positive",
           1,
           2
          ],
          [
           "@USAirways still not in the air for deicing of plane. I'll miss connect but customer service was helpful.I'm hoping to catch the next flight",
           "positive",
           6,
           2
          ],
          [
           "@AmericanAir Yep, was in one of my other camera memory card :D",
           "positive",
           2,
           0
          ],
          [
           "@JetBlue that is great. But once it gets to Buffalo will it be able to leave and get to JFK? Or there's issues still at Buffalo airport?",
           "positive",
           4,
           0
          ],
          [
           "“@united: Looking for a reason to travel? #quote http://t.co/GGuIg3t28z”",
           "positive",
           5,
           0
          ],
          [
           "@SouthwestAir just sent another 4 drink coupons....I think I have over 30 coupons now. free drinks anyone?",
           "positive",
           0,
           0
          ],
          [
           "@AmericanAir thx, just sent the DM",
           "positive",
           2,
           0
          ],
          [
           "@SouthwestAir I would love to go to the Atlanta show ♥️",
           "positive",
           0,
           0
          ],
          [
           "@USAirways Frustrating days!No flights home, changed airlines. Thank you PHL USAirway employees &amp; @united for help getting me back to IAH.",
           "positive",
           6,
           2
          ],
          [
           "@SouthwestAir I got a flight at 11:55am on Thursday but looking for something tomorrow, anything available?",
           "positive",
           4,
           0
          ],
          [
           "Is expiring the @united offer to buy or transfer #United #MileagePlus miles with discount? Many offers during a year http://t.co/6tz6imqZlG",
           "positive",
           5,
           0
          ],
          [
           "@United Wanted to compliment ur phone agent Jeanette for reFlight Booking Problems RDU to SEA thru SFO after connecting flight thru EWR was Cancelled Flightled.",
           "positive",
           6,
           2
          ],
          [
           "@SouthwestAir just got mine..now where to go??",
           "positive",
           0,
           0
          ],
          [
           "@JetBlue haha. TY. Do you know what time that lane opens at Logan?",
           "positive",
           1,
           0
          ],
          [
           "@AmericanAir I wish I could remember all of their names!",
           "positive",
           2,
           0
          ],
          [
           "@USAirways right on. Up. Up &amp; away ✈️🌞",
           "positive",
           5,
           0
          ],
          [
           "“@JetBlue: Our fleet's on fleek. http://t.co/JMnkJ6Bmc2” Jet Blizzue in the hizouse.",
           "positive",
           1,
           0
          ],
          [
           "@JetBlue @vincenzolandino @CBarrows You take to me places @united simply can't...like non-stop to St. Lucia.",
           "positive",
           4,
           2
          ],
          [
           "@AmericanAir Just followed you.",
           "positive",
           2,
           0
          ],
          [
           "@VirginAmerica come back to #PHL already. We need you to take us out of this horrible cold. #pleasecomeback http://t.co/gLXFwP6nQH",
           "positive",
           5,
           0
          ],
          [
           "@united Hmmm...seems like this could be something to be changed to be more #flyerfriendly.",
           "positive",
           5,
           0
          ],
          [
           "@SouthwestAir rules.",
           "positive",
           0,
           0
          ],
          [
           "@AmericanAir we are off to Kax premium.  Hoping this flight is better food, TV now I know how to work it and service. Tnx",
           "positive",
           4,
           0
          ],
          [
           "@united he has no priority and Iove it",
           "positive",
           3,
           0
          ],
          [
           "@united maybe on my return trip 👍",
           "positive",
           3,
           0
          ],
          [
           "@united They finally gave in a let him on. After they threatened to send him back to Vegas on coach. Thnx.",
           "positive",
           5,
           2
          ],
          [
           "@AmericanAir Believe me, I understand. Flight #2955. Was originally booked for Sunday. Flight was Cancelled Flighted and rescheduled for today.",
           "positive",
           4,
           2
          ],
          [
           "@USAirways how about a drink voucher for the next flight?? #winkwink",
           "positive",
           6,
           0
          ],
          [
           "@united nope. Even better there were 4 seats. And due to W&amp;B first to raise hands got to move up. I wasn't fast enough.",
           "positive",
           5,
           2
          ],
          [
           "@united will the kudos to capt. Herman be relayed to his chief pilot or should I be emailing someone?",
           "positive",
           5,
           0
          ],
          [
           "@USAirways but don't worry! They found a hotel, it's only 45min away. I got there around 11:30pm, no problem.",
           "positive",
           6,
           0
          ],
          [
           "@united no worries Your customer service gets a bad wrap but just spoke w agent who saved me huge amounts of time &amp; apologized for yesterday",
           "positive",
           6,
           2
          ],
          [
           "@JetBlue @NinaDavuluri 😃cool",
           "positive",
           1,
           0
          ],
          [
           "@USAirways Wow unbelievable how you treat your customers at Puerto Rico airport! 👍",
           "positive",
           6,
           2
          ],
          [
           "@AmericanAir I might look into that. My wife travels much more than I do. Could we both use the membership?",
           "positive",
           2,
           0
          ],
          [
           "@JetBlue Please come to Indianapolis!",
           "positive",
           1,
           0
          ],
          [
           "@SouthwestAir thanks for the reply, something is off with the phones becuz after 2 dropped calls at 2 hours on hold, I got through on 1 ring",
           "positive",
           0,
           2
          ],
          [
           "Yall tried it. \"@JetBlue: Our fleet's on fleek. http://t.co/62GoDFaKNB”",
           "positive",
           1,
           0
          ],
          [
           "@AmericanAir @dfwairport Guys, let it go. http://t.co/vOxcghciJi",
           "positive",
           2,
           0
          ],
          [
           "@SouthwestAir I want one!",
           "positive",
           0,
           0
          ],
          [
           "@JetBlue it was booked through work but added upgrade on seat. Need the upgrade receipt.",
           "positive",
           4,
           0
          ],
          [
           "@SouthwestAir @intuit @jhamilton2007 4 moms, 4 careers, 1 day trip to LA. #intuitlife #leanin http://t.co/2qJbCv5jzq\" #southwestairlines",
           "positive",
           0,
           0
          ],
          [
           "@JetBlue lolol @s_myc88",
           "positive",
           1,
           0
          ],
          [
           "@united you have a guy named Otis at ORD that knows what #customerservice is. he was able to get my bag to me. I upgraded just to be sure",
           "positive",
           5,
           0
          ],
          [
           "@SouthwestAir my birthday is during #DestinationDragons and im a huge fan- anyway I can get tickets?",
           "positive",
           0,
           0
          ],
          [
           "@united that's fine. I'll take them.",
           "positive",
           3,
           0
          ],
          [
           "@united not just refunded, but for those of us who are on vacation to get a free room night to make up for making us sleep in DIA",
           "positive",
           6,
           0
          ],
          [
           "@AmericanAir yes, it says it should be deliver within 6 hours after pick up line.",
           "positive",
           2,
           2
          ],
          [
           "@united can Cancelled Flight my flight anytime if this is where they keep me for the night.. http://t.co/avRTOWTyzk",
           "positive",
           4,
           2
          ],
          [
           "@VirginAmerica , am I dreaming? Did you really just open up a route between Dallas and Austin?! And does this mean Houston might be next?",
           "positive",
           5,
           0
          ],
          [
           "@JetBlue Then en route to the airport the rebooked ticket was refunded.",
           "positive",
           6,
           0
          ],
          [
           "@AmericanAir $90 dollar RT ticket to Chicago? Yes, Please!",
           "positive",
           2,
           0
          ],
          [
           "“@JetBlue: Our fleet's on fleek. http://t.co/vOUUFRN4jS” YASSS JetBlue ! Tell them !",
           "positive",
           1,
           0
          ],
          [
           "@JetBlue no, but we're on the flight leaving from Boston to Seattle right now. :) flight 597",
           "positive",
           1,
           0
          ],
          [
           "@JetBlue yes thankfully! Catering just got here and now they are loading, but very frustrated. I was supposed to be there by 10-10:30",
           "positive",
           4,
           2
          ],
          [
           "@united thnx",
           "positive",
           3,
           0
          ],
          [
           "@JetBlue you don't remember our date Monday night back to NYC? #heartbroken",
           "positive",
           4,
           2
          ],
          [
           "@JetBlue Not trying to make you look bad, on your website it says: \"Due to weather in the Charleston, NC\" Its actually in SC, not NC",
           "positive",
           6,
           0
          ],
          [
           "@JetBlue what are the chances of actually flying out of Charleston today?? Cold, rainy weather in the south of all places...",
           "positive",
           4,
           0
          ],
          [
           "Don't show these to Larry Fedora. RT @JetBlue: Our fleet's on fleek. http://t.co/qqlzk2jkzR",
           "positive",
           1,
           0
          ],
          [
           "@USAirways look out for flying rocks this time! It's a bird it's a plane! Nah never mind it's just a rock...",
           "positive",
           1,
           0
          ],
          [
           "@SouthwestAir - We left iPad in a seat pocket.  Filed lost item report. Received it exactly 1 week Late Flightr.  Is that a record?  #unbelievable",
           "positive",
           4,
           2
          ],
          [
           "@united thnx",
           "positive",
           3,
           0
          ],
          [
           "@SouthwestAir ..just booked trip to Cancun...❤️ no baggage fees..but need to have more flight time options",
           "positive",
           0,
           0
          ],
          [
           "@JetBlue Airways Reveals 'Bluemanity' Livery - TravelPulse http://t.co/fTTfyFMvCO",
           "positive",
           1,
           0
          ],
          [
           "@AmericanAir thanks for forcing me to check -in my carry - on luggage. That is exactly why I spent extra money on \"travel size\" toiletries",
           "positive",
           6,
           2
          ],
          [
           "@JetBlue's CEO battles to appease passengers and Wall Street - http://t.co/uy28D1UEgX http://t.co/vJFV7KSGcQ",
           "positive",
           1,
           0
          ],
          [
           "@SouthwestAir El Paso deals....May❤❤❤😍🌏",
           "positive",
           0,
           0
          ],
          [
           "Lmfaooo “@JetBlue: Our fleet's on fleek. http://t.co/1G9RnmYUQe”",
           "positive",
           1,
           0
          ],
          [
           "@USAirways after missing my flight and reFlight Booking Problems 2x, I just walked onto another flight and my phone was still on the seat!!",
           "positive",
           4,
           2
          ],
          [
           "@USAirways I just think it's weird to have mileage as 666",
           "positive",
           5,
           0
          ],
          [
           "@JetBlue who is he I must send a note!!! Too good for words!",
           "positive",
           1,
           0
          ],
          [
           "@JetBlue Beatriz and Susan. Gate 4 MCO.",
           "positive",
           1,
           0
          ],
          [
           "@SouthwestAir shhhh i don't want something else to steal our deal😉",
           "positive",
           0,
           0
          ],
          [
           "@SouthwestAir @heavenlychc9 I'd at least enjoy a free cocktail...or two.",
           "positive",
           0,
           0
          ],
          [
           "@SouthwestAir I'll have to drop by next time I visit!",
           "positive",
           0,
           0
          ],
          [
           "@VirginAmerica you know it. Need it on my spotify stat #guiltypleasures",
           "positive",
           5,
           0
          ],
          [
           "@SouthwestAir I'm really craving your pretzels, please send me some.",
           "positive",
           0,
           0
          ],
          [
           "Power Moves RT @JetBlue: Our fleet's on fleek. http://t.co/t9s68korSN",
           "positive",
           1,
           0
          ]
         ],
         "hovertemplate": "x=%{x}<br>y=%{y}<br>text=%{customdata[0]}<br>label=%{customdata[1]}<br>cluster=%{marker.color}<br>predicted_label=%{customdata[3]}<extra></extra>",
         "legendgroup": "",
         "marker": {
          "color": [
           3,
           1,
           5,
           5,
           1,
           0,
           5,
           4,
           0,
           0,
           1,
           4,
           0,
           0,
           1,
           1,
           1,
           5,
           0,
           4,
           4,
           4,
           3,
           4,
           1,
           4,
           4,
           6,
           0,
           5,
           5,
           0,
           2,
           1,
           4,
           1,
           4,
           5,
           0,
           1,
           4,
           0,
           5,
           1,
           1,
           0,
           4,
           0,
           4,
           4,
           2,
           6,
           5,
           5,
           1,
           0,
           3,
           6,
           4,
           5,
           4,
           2,
           5,
           6,
           5,
           0,
           5,
           4,
           4,
           5,
           0,
           5,
           3,
           4,
           3,
           4,
           1,
           0,
           0,
           5,
           6,
           0,
           6,
           5,
           4,
           4,
           0,
           0,
           0,
           2,
           1,
           4,
           3,
           5,
           4,
           5,
           4,
           6,
           0,
           6,
           5,
           1,
           4,
           6,
           2,
           1,
           0,
           2,
           3,
           1,
           5,
           5,
           0,
           6,
           1,
           5,
           4,
           2,
           5,
           0,
           0,
           6,
           5,
           4,
           0,
           5,
           2,
           4,
           6,
           5,
           1,
           6,
           5,
           4,
           0,
           4,
           1,
           3,
           4,
           6,
           2,
           4,
           4,
           5,
           5,
           5,
           2,
           0,
           1,
           4,
           1,
           0,
           0,
           4,
           4,
           0,
           1,
           3,
           5,
           2,
           4,
           0,
           0,
           4,
           1,
           4,
           0,
           6,
           0,
           0,
           6,
           0,
           0,
           0,
           1,
           5,
           0,
           2,
           0,
           4,
           0,
           4,
           5,
           4,
           5,
           5,
           1,
           4,
           3,
           0,
           0,
           6,
           6,
           0,
           3,
           6,
           0,
           5,
           6,
           5,
           6,
           1,
           4,
           5,
           6,
           2,
           6,
           6,
           1,
           5,
           1,
           2,
           1,
           0,
           0,
           5,
           4,
           1,
           0,
           0,
           3,
           1,
           1,
           1,
           2,
           6,
           1,
           3,
           6,
           0,
           0,
           4,
           1,
           0,
           3,
           3,
           4,
           2,
           6,
           0,
           5,
           0,
           6,
           0,
           2,
           3,
           6,
           5,
           4,
           3,
           1,
           1,
           5,
           1,
           6,
           5,
           1,
           5,
           5,
           5,
           4,
           1,
           1,
           5,
           6,
           4,
           6,
           1,
           0,
           1,
           5,
           4,
           6,
           1,
           4,
           1,
           5,
           6,
           6,
           1,
           2,
           0,
           4,
           1,
           5,
           0,
           6,
           5,
           1,
           6,
           1,
           6,
           4,
           6,
           6,
           0,
           6,
           4,
           0,
           4,
           3,
           1,
           0,
           6,
           1,
           1,
           2,
           6,
           1,
           5,
           5,
           0,
           5,
           0,
           3,
           1,
           4,
           5,
           0,
           5,
           5,
           0,
           6,
           0,
           5,
           3,
           6,
           0,
           4,
           4,
           1,
           5,
           6,
           4,
           3,
           1,
           2,
           1,
           2,
           4,
           1,
           3,
           4,
           1,
           1,
           2,
           6,
           2,
           3,
           5,
           6,
           6,
           1,
           0,
           3,
           6,
           0,
           6,
           5,
           5,
           2,
           5,
           6,
           5,
           4,
           4,
           0,
           6,
           6,
           5,
           5,
           5,
           1,
           3,
           1,
           4,
           3,
           6,
           0,
           6,
           1,
           6,
           6,
           0,
           1,
           0,
           5,
           1,
           3,
           0,
           6,
           2,
           2,
           6,
           0,
           6,
           3,
           5,
           6,
           5,
           2,
           5,
           5,
           4,
           5,
           2,
           1,
           1,
           6,
           1,
           0,
           3,
           6,
           4,
           5,
           4,
           4,
           5,
           1,
           3,
           0,
           1,
           5,
           0,
           0,
           1,
           4,
           5,
           1,
           6,
           6,
           1,
           2,
           5,
           4,
           2,
           4,
           1,
           4,
           6,
           6,
           5,
           3,
           6,
           3,
           6,
           0,
           5,
           6,
           6,
           5,
           3,
           0,
           6,
           1,
           0,
           5,
           2,
           2,
           4,
           0,
           0,
           5,
           0,
           6,
           4,
           4,
           4,
           5,
           5,
           0,
           4,
           1,
           5,
           3,
           1,
           0,
           6,
           4,
           4,
           5,
           4,
           0,
           1,
           4,
           4,
           0,
           4,
           0,
           4,
           0,
           4,
           4,
           0,
           5,
           4,
           1,
           2,
           6,
           6,
           4,
           6,
           1,
           5,
           2,
           6,
           4,
           4,
           5,
           5,
           5,
           4,
           1,
           5,
           5,
           2,
           6,
           4,
           4,
           4,
           4,
           2,
           4,
           2,
           4,
           3,
           0,
           3,
           5,
           3,
           5,
           0,
           0,
           0,
           4,
           4,
           6,
           4,
           4,
           2,
           4,
           6,
           4,
           0,
           5,
           4,
           4,
           0,
           6,
           2,
           6,
           4,
           4,
           4,
           3,
           5,
           1,
           3,
           1,
           4,
           1,
           3,
           3,
           4,
           4,
           4,
           4,
           5,
           0,
           2,
           1,
           4,
           5,
           4,
           5,
           4,
           2,
           5,
           6,
           3,
           1,
           1,
           1,
           5,
           6,
           3,
           4,
           4,
           4,
           5,
           5,
           4,
           4,
           2,
           1,
           4,
           6,
           6,
           4,
           5,
           5,
           4,
           6,
           4,
           5,
           1,
           5,
           6,
           6,
           6,
           4,
           4,
           1,
           0,
           1,
           6,
           0,
           6,
           3,
           5,
           5,
           0,
           2,
           2,
           1,
           0,
           6,
           0,
           0,
           3,
           0,
           1,
           4,
           6,
           4,
           1,
           5,
           1,
           1,
           3,
           2,
           4,
           5,
           4,
           6,
           1,
           5,
           2,
           3,
           3,
           0,
           1,
           4,
           6,
           4,
           0,
           6,
           4,
           2,
           4,
           4,
           4,
           1,
           5,
           4,
           5,
           5,
           6,
           4,
           5,
           4,
           5,
           4,
           3,
           3,
           4,
           0,
           6,
           0,
           2,
           2,
           4,
           2,
           5,
           6,
           6,
           3,
           5,
           5,
           4,
           6,
           4,
           0,
           5,
           5,
           4,
           4,
           4,
           2,
           4,
           5,
           5,
           5,
           0,
           0,
           6,
           5,
           6,
           0,
           2,
           1,
           3,
           5,
           2,
           1,
           0,
           5,
           1,
           1,
           5,
           0,
           0,
           1,
           0,
           3,
           1,
           0,
           1,
           3,
           0,
           2,
           4,
           3,
           6,
           5,
           1,
           5,
           4,
           5,
           2,
           4,
           3,
           6,
           1,
           3,
           5,
           6,
           0,
           6,
           5,
           1,
           1,
           0,
           5,
           6,
           0,
           4,
           0,
           3,
           4,
           4,
           1,
           5,
           2,
           6,
           1,
           0,
           6,
           5,
           5,
           0,
           5,
           0,
           0,
           2,
           1,
           1,
           3,
           0,
           1,
           1,
           3,
           4,
           1,
           0,
           1,
           4,
           4,
           5,
           2,
           0,
           5,
           0,
           4,
           2,
           2,
           1,
           2,
           5,
           4,
           0,
           0,
           5,
           5,
           4,
           3,
           1,
           5,
           1,
           4,
           0,
           3,
           5,
           1,
           6,
           1,
           0,
           1,
           5,
           3,
           0,
           4,
           0,
           0,
           6,
           3,
           6,
           3,
           2,
           1,
           6,
           2,
           2,
           1,
           6,
           1,
           4,
           0,
           3,
           2,
           5,
           0,
           6,
           1,
           4,
           4,
           1,
           4,
           1,
           2,
           1,
           0,
           5,
           0,
           2,
           6,
           5,
           4,
           4,
           5,
           5,
           0,
           2,
           0,
           3,
           6,
           2,
           1,
           4,
           5,
           4,
           0,
           1,
           1,
           6,
           6,
           1,
           5,
           1,
           5,
           0,
           1,
           4,
           0,
           0,
           2,
           0,
           6,
           5,
           1,
           6,
           2,
           4,
           5,
           0,
           2,
           0,
           6,
           4,
           5,
           6,
           0,
           1,
           2,
           5,
           1,
           4,
           2,
           5,
           5,
           0,
           4,
           3,
           3,
           5,
           4,
           6,
           5,
           5,
           6,
           6,
           1,
           6,
           2,
           1,
           0,
           1,
           2,
           0,
           4,
           0,
           1,
           5,
           0,
           3,
           6,
           2,
           4,
           5,
           6,
           2,
           1,
           1,
           4,
           3,
           4,
           6,
           4,
           1,
           1,
           4,
           3,
           0,
           1,
           6,
           1,
           0,
           1,
           4,
           5,
           1,
           1,
           0,
           0,
           0,
           5,
           0,
           1
          ],
          "coloraxis": "coloraxis",
          "symbol": "circle"
         },
         "mode": "markers",
         "name": "",
         "orientation": "v",
         "showlegend": false,
         "type": "scatter",
         "x": [
          0.5875425934791565,
          1.895021677017212,
          2.796940565109253,
          3.194814682006836,
          2.4200961589813232,
          5.547643184661865,
          2.443209648132324,
          3.913114547729492,
          5.915879249572754,
          6.8820576667785645,
          1.385367512702942,
          3.0098440647125244,
          5.465642929077148,
          5.547206878662109,
          2.665576696395874,
          2.497969150543213,
          1.049879550933838,
          2.836749315261841,
          5.303199291229248,
          3.0669353008270264,
          2.875366687774658,
          4.22611665725708,
          -0.1404012143611908,
          2.8145411014556885,
          1.9967782497406006,
          3.439063549041748,
          3.2348458766937256,
          0.15347667038440704,
          3.924790620803833,
          1.8756158351898193,
          4.263679027557373,
          5.385173320770264,
          0.882805585861206,
          1.987200379371643,
          4.529458999633789,
          0.9660813808441162,
          4.5687360763549805,
          2.1570026874542236,
          5.606516361236572,
          1.0714309215545654,
          4.277820587158203,
          5.258463382720947,
          0.7424226403236389,
          3.465705394744873,
          1.899127721786499,
          5.92242431640625,
          3.3857474327087402,
          5.847520351409912,
          2.6047892570495605,
          2.700852632522583,
          0.44404906034469604,
          0.926761269569397,
          0.8489450216293335,
          2.6801795959472656,
          2.065687894821167,
          5.1887006759643555,
          0.29493409395217896,
          1.3108012676239014,
          3.04526948928833,
          2.924607753753662,
          3.311727523803711,
          0.3752357065677643,
          2.5503697395324707,
          5.742350101470947,
          2.2566378116607666,
          5.981027603149414,
          2.2252001762390137,
          3.7492051124572754,
          3.4566705226898193,
          0.7419883012771606,
          6.263225078582764,
          0.8050841689109802,
          0.15819203853607178,
          2.8874270915985107,
          -0.0875304564833641,
          2.3495540618896484,
          0.6477813124656677,
          4.984859466552734,
          4.800148963928223,
          3.005408525466919,
          1.1450613737106323,
          7.039069175720215,
          0.430216521024704,
          2.6626691818237305,
          2.252627372741699,
          2.892725944519043,
          6.964035987854004,
          5.864742279052734,
          5.614218235015869,
          0.2706540524959564,
          3.1342151165008545,
          3.065607786178589,
          0.15861274302005768,
          2.7868831157684326,
          2.7884154319763184,
          2.526813507080078,
          1.6641433238983154,
          1.357985496520996,
          6.219184398651123,
          0.9875482320785522,
          2.27278995513916,
          1.586271047592163,
          2.5760438442230225,
          1.7894788980484009,
          0.15075045824050903,
          0.3439689576625824,
          6.300892353057861,
          0.5531817674636841,
          3.30302357673645,
          1.0632662773132324,
          2.2492151260375977,
          2.238757371902466,
          4.959228992462158,
          1.7283364534378052,
          2.0497822761535645,
          3.0938382148742676,
          2.8383195400238037,
          1.471626877784729,
          2.7170681953430176,
          5.9582414627075195,
          6.048397064208984,
          0.6521186828613281,
          1.026863694190979,
          2.398108720779419,
          6.6046013832092285,
          0.9824106097221375,
          0.09801512956619263,
          1.6284862756729126,
          2.2172627449035645,
          2.3620362281799316,
          1.5367424488067627,
          0.6015228629112244,
          2.130725383758545,
          2.713606357574463,
          5.816690444946289,
          2.99784255027771,
          1.395974040031433,
          0.7031090259552002,
          3.3751633167266846,
          0.3484073579311371,
          -0.626616358757019,
          3.1772189140319824,
          3.7438032627105713,
          2.632039785385132,
          1.4238790273666382,
          2.3710689544677734,
          -0.11438462138175964,
          6.671271324157715,
          1.4106581211090088,
          3.1889729499816895,
          1.0173848867416382,
          6.023696422576904,
          6.852487087249756,
          4.340325832366943,
          3.488112211227417,
          5.4723801612854,
          1.9314223527908325,
          0.18785406649112701,
          1.9133555889129639,
          0.3609151244163513,
          2.622370958328247,
          5.526749610900879,
          6.010063648223877,
          3.389937162399292,
          1.5441629886627197,
          3.019094944000244,
          5.773279666900635,
          1.2260738611221313,
          5.54977560043335,
          6.465194225311279,
          0.6613762974739075,
          6.512246608734131,
          5.168576717376709,
          5.861128807067871,
          0.8983741402626038,
          2.0943992137908936,
          5.955145359039307,
          0.012726761400699615,
          6.957052230834961,
          3.5632288455963135,
          5.729259014129639,
          3.5695292949676514,
          1.1622289419174194,
          1.8158434629440308,
          1.2688744068145752,
          3.535877227783203,
          1.795541524887085,
          4.649103164672852,
          0.708104133605957,
          6.924371242523193,
          5.507726669311523,
          2.1070497035980225,
          0.387667179107666,
          5.6912455558776855,
          1.8277820348739624,
          1.3042092323303223,
          7.037560939788818,
          4.1936469078063965,
          0.7319985628128052,
          2.234987497329712,
          2.838257312774658,
          1.4847280979156494,
          4.517388343811035,
          1.9408961534500122,
          0.7054927349090576,
          0.07030587643384933,
          0.3828672170639038,
          2.023303270339966,
          1.9563982486724854,
          2.4751980304718018,
          1.6085739135742188,
          -0.0016548612620681524,
          2.2370316982269287,
          5.727909088134766,
          6.632213115692139,
          1.5364409685134888,
          3.716054916381836,
          1.5074061155319214,
          6.774263858795166,
          6.813514709472656,
          0.7350977063179016,
          2.277773857116699,
          1.502384901046753,
          1.8145710229873657,
          0.1658068150281906,
          0.3527071475982666,
          2.506711006164551,
          0.9072253108024597,
          1.9226340055465698,
          5.406731128692627,
          6.479638576507568,
          3.3950307369232178,
          1.5336854457855225,
          6.9763569831848145,
          1.533138632774353,
          0.7689510583877563,
          3.8873291015625,
          0.048579052090644836,
          2.231160879135132,
          5.250466346740723,
          1.9860882759094238,
          5.294571399688721,
          1.293294906616211,
          6.6817851066589355,
          0.21978841722011566,
          0.38643118739128113,
          0.3948736786842346,
          1.990556001663208,
          2.0374748706817627,
          0.43012720346450806,
          1.4090806245803833,
          2.206163167953491,
          2.450007438659668,
          0.9677978157997131,
          0.4591224193572998,
          1.5639992952346802,
          2.9312195777893066,
          1.9638383388519287,
          3.140639305114746,
          1.4097033739089966,
          1.5332527160644531,
          0.33983170986175537,
          2.017301082611084,
          3.091501474380493,
          1.223862648010254,
          2.78547739982605,
          0.6332709193229675,
          2.033351182937622,
          6.167578220367432,
          1.973749041557312,
          5.426407814025879,
          3.7790558338165283,
          0.41105109453201294,
          1.4397965669631958,
          3.3054027557373047,
          3.1643147468566895,
          1.8217107057571411,
          6.270367622375488,
          0.4000896215438843,
          0.9739386439323425,
          1.3134005069732666,
          6.2512640953063965,
          3.6335294246673584,
          2.0074703693389893,
          1.1460586786270142,
          6.118714809417725,
          1.6971549987792969,
          1.4818475246429443,
          1.3215428590774536,
          1.2511177062988281,
          2.2177884578704834,
          1.623284101486206,
          3.5601236820220947,
          0.9280466437339783,
          1.1381418704986572,
          5.943974018096924,
          1.8307318687438965,
          3.098759889602661,
          6.890118598937988,
          1.8932660818099976,
          0.10081338882446289,
          2.002614974975586,
          4.565857887268066,
          0.3727354407310486,
          0.6557971239089966,
          1.7749065160751343,
          0.7661721110343933,
          5.300650119781494,
          1.48872709274292,
          3.357789993286133,
          0.9413094520568848,
          5.301402568817139,
          3.2621593475341797,
          6.445834159851074,
          0.5700989961624146,
          1.073441743850708,
          2.1700551509857178,
          1.7698216438293457,
          6.331902503967285,
          2.9382007122039795,
          1.7920961380004883,
          5.5457234382629395,
          2.414302110671997,
          5.687137603759766,
          3.116619110107422,
          0.584121823310852,
          1.54396390914917,
          4.845207691192627,
          2.741589307785034,
          2.1357550621032715,
          2.0903491973876953,
          2.069056272506714,
          2.2075369358062744,
          2.503636121749878,
          3.300442695617676,
          1.5593973398208618,
          0.7481628060340881,
          2.1693172454833984,
          1.2881686687469482,
          2.1195144653320312,
          1.7452497482299805,
          0.08730833977460861,
          4.59841775894165,
          2.7101681232452393,
          1.3320918083190918,
          -0.03185930848121643,
          0.8778067231178284,
          -0.08214488625526428,
          1.0593693256378174,
          2.1532750129699707,
          1.1708012819290161,
          1.2309819459915161,
          1.449767827987671,
          6.4030351638793945,
          2.91051983833313,
          2.566943883895874,
          5.651352882385254,
          1.8878272771835327,
          2.904872179031372,
          2.0394937992095947,
          3.369077205657959,
          1.4755595922470093,
          -0.07672728598117828,
          2.9909627437591553,
          2.0526721477508545,
          2.495276689529419,
          6.901350021362305,
          1.6875367164611816,
          0.6208610534667969,
          0.7152424454689026,
          2.3832762241363525,
          3.048375129699707,
          1.8501280546188354,
          0.6817575097084045,
          1.7672566175460815,
          4.700087547302246,
          0.8058814406394958,
          1.5806350708007812,
          5.981476306915283,
          2.4281139373779297,
          1.3702619075775146,
          0.6185616254806519,
          0.43822982907295227,
          6.5017924308776855,
          1.5965179204940796,
          5.472866058349609,
          2.2604408264160156,
          1.9610074758529663,
          1.0590194463729858,
          5.492576599121094,
          1.4059816598892212,
          0.7752546668052673,
          -0.33836761116981506,
          1.7419703006744385,
          5.407410144805908,
          1.2938178777694702,
          0.6799303889274597,
          2.2144179344177246,
          1.7945990562438965,
          2.1605284214019775,
          -0.27306726574897766,
          2.4682109355926514,
          1.4737681150436401,
          2.6058645248413086,
          0.7958893775939941,
          0.7016218304634094,
          1.8224490880966187,
          1.8068466186523438,
          5.953316688537598,
          1.3851410150527954,
          5.404452323913574,
          0.47326362133026123,
          1.4778622388839722,
          3.217108726501465,
          3.059711456298828,
          2.4684126377105713,
          3.579392671585083,
          2.262049436569214,
          0.18233095109462738,
          0.14370666444301605,
          5.980820655822754,
          0.16665442287921906,
          2.639333724975586,
          6.91062068939209,
          5.160323143005371,
          1.2058885097503662,
          4.010711669921875,
          3.05163836479187,
          0.504791796207428,
          5.555475234985352,
          1.6636238098144531,
          0.21560655534267426,
          1.129915714263916,
          1.9498991966247559,
          1.3156280517578125,
          0.5895096659660339,
          3.79144287109375,
          0.8067019581794739,
          3.194892644882202,
          1.092609167098999,
          0.6019067168235779,
          2.191194772720337,
          0.18241743743419647,
          1.928833246231079,
          0.5656266808509827,
          1.6484394073486328,
          5.381227970123291,
          2.735034227371216,
          1.0922727584838867,
          1.967898964881897,
          3.0096375942230225,
          0.36527368426322937,
          5.927667617797852,
          1.9469784498214722,
          0.6526471376419067,
          6.094321250915527,
          2.73214054107666,
          -0.457531601190567,
          0.5865820646286011,
          2.1699166297912598,
          6.462579727172852,
          5.769876480102539,
          2.1757450103759766,
          5.9372968673706055,
          1.793438196182251,
          3.454846143722534,
          3.349494695663452,
          3.8173701763153076,
          2.5120534896850586,
          1.9541854858398438,
          6.397209167480469,
          3.6114914417266846,
          0.7451062798500061,
          1.4508626461029053,
          0.3140608072280884,
          0.8283743858337402,
          6.927688121795654,
          1.429744005203247,
          3.651834011077881,
          3.3612382411956787,
          2.342449188232422,
          2.847717046737671,
          6.690845966339111,
          1.5081875324249268,
          4.786600589752197,
          3.578075647354126,
          5.138413906097412,
          3.7708189487457275,
          5.405806064605713,
          4.725109577178955,
          5.416732311248779,
          2.770658254623413,
          2.9686574935913086,
          5.767977237701416,
          1.1527974605560303,
          3.2037441730499268,
          1.1065157651901245,
          -0.6364979147911072,
          0.8638116717338562,
          1.6122829914093018,
          3.8790297508239746,
          2.3797607421875,
          2.6254820823669434,
          1.8134194612503052,
          1.454854965209961,
          -0.22408954799175262,
          3.0531225204467773,
          4.145637512207031,
          2.150028705596924,
          3.5349013805389404,
          3.915782928466797,
          1.857444167137146,
          0.9496394395828247,
          2.7194483280181885,
          3.7947943210601807,
          0.23296965658664703,
          1.7531371116638184,
          3.394644021987915,
          3.8579788208007812,
          1.66021728515625,
          3.6060049533843994,
          -0.6361912488937378,
          3.434497117996216,
          -0.5883487462997437,
          3.504652738571167,
          -0.0927577093243599,
          6.934028148651123,
          0.4120745062828064,
          2.8446192741394043,
          0.8445475101470947,
          3.001223564147949,
          6.060568332672119,
          6.508644104003906,
          5.512208461761475,
          4.892675399780273,
          3.3611154556274414,
          0.5409339070320129,
          4.23887300491333,
          2.6382954120635986,
          1.204944133758545,
          3.3594553470611572,
          0.21975508332252502,
          2.2425451278686523,
          7.010528564453125,
          2.230128288269043,
          3.239215850830078,
          3.717738389968872,
          6.9895429611206055,
          1.381656289100647,
          -0.023389209061861038,
          5.422738075256348,
          2.1536898612976074,
          3.251430034637451,
          4.04626989364624,
          0.05895629897713661,
          2.462905168533325,
          1.2664988040924072,
          0.5301506519317627,
          0.8464823961257935,
          3.1459717750549316,
          2.0375406742095947,
          0.5942529439926147,
          6.298649787902832,
          3.102102041244507,
          2.7429826259613037,
          3.4676144123077393,
          2.5481817722320557,
          2.3758060932159424,
          6.450072765350342,
          1.3162357807159424,
          0.19534233212471008,
          3.24223256111145,
          3.2486562728881836,
          3.7621426582336426,
          0.6899960041046143,
          3.2234816551208496,
          0.994598925113678,
          1.5689246654510498,
          1.2493265867233276,
          0.13841208815574646,
          0.3963980972766876,
          4.559200763702393,
          0.9493621587753296,
          2.9691667556762695,
          1.9026521444320679,
          -0.09809228032827377,
          3.0854787826538086,
          4.135856628417969,
          3.1212451457977295,
          1.617566704750061,
          3.4149997234344482,
          1.8745783567428589,
          2.9611825942993164,
          0.1651761829853058,
          1.3814762830734253,
          3.235405206680298,
          3.8901593685150146,
          0.5226700901985168,
          1.6514674425125122,
          1.3745601177215576,
          3.148191452026367,
          1.87598717212677,
          1.310761570930481,
          3.629354476928711,
          1.4272501468658447,
          2.2380635738372803,
          1.9033713340759277,
          1.757164716720581,
          0.13258199393749237,
          1.8297489881515503,
          3.6488752365112305,
          2.0510594844818115,
          1.166955590248108,
          6.468593597412109,
          2.1093006134033203,
          0.0373225174844265,
          5.572678565979004,
          0.3587656319141388,
          0.5865010619163513,
          2.6075971126556396,
          3.041548252105713,
          6.54831600189209,
          1.1756484508514404,
          -0.2224283665418625,
          1.9685086011886597,
          6.129120826721191,
          0.785512387752533,
          6.936600208282471,
          5.831778049468994,
          0.01874520629644394,
          5.507763385772705,
          1.38553786277771,
          3.9788830280303955,
          0.5593701601028442,
          0.8266830444335938,
          1.4545865058898926,
          1.28461754322052,
          1.3909741640090942,
          5.677012920379639,
          1.7762552499771118,
          -0.6198703050613403,
          3.27681827545166,
          2.512274742126465,
          4.006324291229248,
          0.5185891389846802,
          1.307126522064209,
          2.499312162399292,
          -0.2284199595451355,
          0.1806483268737793,
          0.2038489282131195,
          5.428437232971191,
          0.8496402502059937,
          2.303429365158081,
          1.816239595413208,
          1.7322858572006226,
          5.623788356781006,
          0.35718661546707153,
          3.0608937740325928,
          -0.6458316445350647,
          3.8143727779388428,
          2.8087997436523438,
          2.5586585998535156,
          3.07053542137146,
          2.407526731491089,
          2.832890272140503,
          2.27762508392334,
          2.9023118019104004,
          1.5288203954696655,
          3.9189321994781494,
          2.1749393939971924,
          1.608749270439148,
          2.3570306301116943,
          2.367175340652466,
          2.176940441131592,
          0.2632276713848114,
          2.1164791584014893,
          7.013398170471191,
          1.5977624654769897,
          5.538290023803711,
          0.23169830441474915,
          0.5924783945083618,
          3.2606513500213623,
          0.37361785769462585,
          2.453042984008789,
          0.42931148409843445,
          0.4510234296321869,
          0.5141212940216064,
          1.0108221769332886,
          1.9680472612380981,
          2.8366446495056152,
          0.3100360929965973,
          2.230159044265747,
          6.845739364624023,
          2.338850259780884,
          0.8290992975234985,
          2.822300910949707,
          2.701366662979126,
          3.447826862335205,
          0.7254601120948792,
          2.734679698944092,
          2.9733784198760986,
          1.3080424070358276,
          2.178246259689331,
          6.648758411407471,
          7.0055036544799805,
          1.1614248752593994,
          1.9173442125320435,
          0.1591072529554367,
          6.882277488708496,
          -0.26951947808265686,
          1.2155492305755615,
          0.6841445565223694,
          1.8526467084884644,
          0.4855000078678131,
          1.6685194969177246,
          6.645319938659668,
          2.234086513519287,
          2.4023594856262207,
          1.9397636651992798,
          1.431930422782898,
          6.784537315368652,
          6.50527286529541,
          1.3189488649368286,
          6.409073829650879,
          0.7424721717834473,
          1.9007768630981445,
          6.440354347229004,
          2.1292014122009277,
          0.6209412813186646,
          6.862365245819092,
          -0.25204411149024963,
          2.2599499225616455,
          1.1992195844650269,
          5.222424507141113,
          0.27850425243377686,
          0.7850415110588074,
          1.5524269342422485,
          3.744424819946289,
          3.154191493988037,
          0.17133677005767822,
          3.6541833877563477,
          0.8874915242195129,
          6.251323699951172,
          1.2949944734573364,
          1.1361668109893799,
          3.4371137619018555,
          0.841363251209259,
          7.026149272918701,
          1.2631118297576904,
          1.0204318761825562,
          0.7206400036811829,
          1.1853777170181274,
          6.100097179412842,
          5.258234024047852,
          0.883912980556488,
          5.304583549499512,
          2.518941879272461,
          6.780554294586182,
          0.13153955340385437,
          3.100877046585083,
          1.8750661611557007,
          2.5325725078582764,
          1.5016225576400757,
          -0.21203823387622833,
          0.8413906693458557,
          1.7821913957595825,
          5.846214294433594,
          1.3157405853271484,
          3.1718640327453613,
          1.329648733139038,
          6.8988356590271,
          1.8596906661987305,
          6.9513349533081055,
          5.96529483795166,
          0.2298179417848587,
          1.2383867502212524,
          1.214996337890625,
          1.2289927005767822,
          7.028417110443115,
          1.5520665645599365,
          1.0336211919784546,
          0.9067594408988953,
          3.767169237136841,
          0.9692721962928772,
          6.855121612548828,
          1.317393183708191,
          1.9871697425842285,
          1.7748780250549316,
          1.7490649223327637,
          -0.1913994401693344,
          5.010889053344727,
          1.218673586845398,
          6.178468227386475,
          3.354363441467285,
          -0.3398107588291168,
          0.5503728985786438,
          2.133601188659668,
          -0.29971376061439514,
          2.0457944869995117,
          3.1845204830169678,
          5.14410400390625,
          6.353740692138672,
          2.353724479675293,
          4.945944309234619,
          2.86969256401062,
          0.9146474599838257,
          1.0243545770645142,
          1.0172532796859741,
          1.226712703704834,
          3.316840648651123,
          6.248487949371338,
          1.1460943222045898,
          0.7870522737503052,
          2.0841176509857178,
          2.4862565994262695,
          1.6619166135787964,
          6.51537561416626,
          1.2130218744277954,
          1.819068431854248,
          -0.10865803807973862,
          6.457802772521973,
          2.164605140686035,
          6.151440143585205,
          5.411749839782715,
          0.5379706025123596,
          0.9152754545211792,
          1.0378047227859497,
          1.0758953094482422,
          -0.35771822929382324,
          1.8886970281600952,
          1.846934199333191,
          1.5106003284454346,
          0.17619194090366364,
          1.4322890043258667,
          4.724701881408691,
          1.971148133277893,
          2.5017006397247314,
          5.931642532348633,
          1.1191421747207642,
          -0.3433336913585663,
          2.416452169418335,
          6.468936443328857,
          0.45982688665390015,
          1.7827178239822388,
          4.206557273864746,
          3.799165964126587,
          1.333702564239502,
          1.9946681261062622,
          1.7926616668701172,
          0.8395946025848389,
          2.0896923542022705,
          6.98328971862793,
          2.3655552864074707,
          6.422147274017334,
          -0.06556855142116547,
          0.5833294987678528,
          2.1555404663085938,
          3.084965229034424,
          4.22440767288208,
          1.0015232563018799,
          2.972033977508545,
          5.246307373046875,
          -0.350861519575119,
          5.6049909591674805,
          0.26374900341033936,
          0.7287461757659912,
          -0.23513004183769226,
          1.4512704610824585,
          2.4994959831237793,
          3.2295334339141846,
          4.762698650360107,
          6.517027854919434,
          1.6099555492401123,
          1.2897230386734009,
          1.2114953994750977,
          0.541466474533081,
          2.0162229537963867,
          2.711618423461914,
          1.651564359664917,
          1.486667275428772,
          6.867782115936279,
          1.5780619382858276,
          3.010309934616089,
          6.88888692855835,
          7.008138179779053,
          0.6648776531219482,
          6.809930801391602,
          2.6480472087860107,
          2.1331124305725098,
          1.8685020208358765,
          1.895122766494751,
          0.06082458049058914,
          2.097003698348999,
          1.5216866731643677,
          4.950421333312988,
          0.05909932404756546,
          6.126920223236084,
          1.8382498025894165,
          4.752536296844482,
          1.489380121231079,
          2.5459136962890625,
          6.88906192779541,
          1.4398024082183838,
          -0.022772500291466713,
          1.958364725112915,
          1.6403124332427979,
          2.4209978580474854,
          -0.03540823981165886,
          2.2974116802215576,
          1.5135908126831055,
          6.864555835723877,
          2.6498537063598633,
          0.8982197642326355,
          0.9509926438331604,
          3.219900131225586,
          3.7879080772399902,
          2.705359935760498,
          2.127493381500244,
          1.224207878112793,
          3.3424975872039795,
          1.7434595823287964,
          1.27987802028656,
          1.6800553798675537,
          1.0501208305358887,
          0.9469099044799805,
          3.8006558418273926,
          1.767997145652771,
          0.8257806897163391,
          6.9856719970703125,
          1.8586595058441162,
          5.966436862945557,
          1.3519294261932373,
          0.9943292737007141,
          5.549630165100098,
          0.7170483469963074,
          1.2956798076629639,
          -0.08800268173217773,
          3.3800814151763916,
          2.3097803592681885,
          3.8868870735168457,
          6.450270652770996,
          1.746556043624878,
          1.4345886707305908,
          2.5480525493621826,
          1.1418627500534058,
          3.5571682453155518,
          4.4567437171936035,
          4.486876010894775,
          2.4828708171844482,
          1.464969277381897,
          3.648338794708252,
          1.1868301630020142,
          4.908865451812744,
          1.5405900478363037,
          0.7146555185317993,
          2.4713284969329834,
          6.981444358825684,
          1.6389858722686768,
          3.2200186252593994,
          1.9982243776321411,
          2.0939979553222656,
          1.721462368965149,
          6.224156379699707,
          6.508027076721191,
          5.614789962768555,
          2.111579656600952,
          5.893789768218994,
          1.9385854005813599
         ],
         "xaxis": "x",
         "y": [
          8.812499046325684,
          16.144014358520508,
          10.834549903869629,
          11.002141952514648,
          15.734236717224121,
          12.81447982788086,
          12.11271858215332,
          12.215534210205078,
          11.12958812713623,
          10.944823265075684,
          16.066015243530273,
          12.497035026550293,
          12.41443157196045,
          12.797205924987793,
          15.123350143432617,
          15.747236251831055,
          13.6668062210083,
          12.503170013427734,
          12.468042373657227,
          13.24559211730957,
          13.713805198669434,
          12.874157905578613,
          9.539173126220703,
          12.519015312194824,
          13.9298095703125,
          13.853720664978027,
          12.931615829467773,
          14.468597412109375,
          11.914257049560547,
          11.151590347290039,
          12.831721305847168,
          11.776215553283691,
          11.675501823425293,
          14.186403274536133,
          12.779991149902344,
          15.574514389038086,
          12.300288200378418,
          12.612839698791504,
          11.9821195602417,
          16.020540237426758,
          13.228200912475586,
          12.158282279968262,
          10.839447021484375,
          14.258003234863281,
          15.63361644744873,
          11.108745574951172,
          13.732759475708008,
          10.780141830444336,
          15.187527656555176,
          13.208345413208008,
          11.890559196472168,
          13.611167907714844,
          10.722795486450195,
          11.850707054138184,
          16.348417282104492,
          12.897906303405762,
          9.028437614440918,
          11.5271577835083,
          13.92226791381836,
          11.315200805664062,
          12.818220138549805,
          12.585066795349121,
          11.185400009155273,
          10.988268852233887,
          12.063892364501953,
          12.208636283874512,
          13.154245376586914,
          12.782365798950195,
          13.912004470825195,
          9.724601745605469,
          12.12680721282959,
          11.930768966674805,
          9.556929588317871,
          14.133896827697754,
          9.537566184997559,
          14.415763854980469,
          15.70616340637207,
          12.043859481811523,
          12.376485824584961,
          11.956625938415527,
          13.311378479003906,
          12.331303596496582,
          14.20439624786377,
          11.10573673248291,
          15.007707595825195,
          15.185977935791016,
          11.084860801696777,
          11.120218276977539,
          11.330742835998535,
          12.393880844116211,
          12.888505935668945,
          13.694563865661621,
          8.999799728393555,
          11.828089714050293,
          13.730542182922363,
          11.73890209197998,
          14.053296089172363,
          14.106176376342773,
          12.024619102478027,
          14.212542533874512,
          10.119059562683105,
          15.117058753967285,
          13.474579811096191,
          12.865140914916992,
          11.751441955566406,
          13.042314529418945,
          11.228647232055664,
          12.813157081604004,
          10.535873413085938,
          16.055604934692383,
          9.879642486572266,
          10.488982200622559,
          12.70461654663086,
          12.247859001159668,
          13.224569320678711,
          13.293705940246582,
          12.958064079284668,
          12.143478393554688,
          11.838982582092285,
          12.606143951416016,
          12.100259780883789,
          12.770284652709961,
          12.111795425415039,
          13.45136547088623,
          12.222646713256836,
          13.185050964355469,
          11.457974433898926,
          14.534093856811523,
          12.238283157348633,
          11.769636154174805,
          15.351902961730957,
          14.542208671569824,
          10.714444160461426,
          14.32724380493164,
          10.95595932006836,
          13.019660949707031,
          15.836925506591797,
          9.010605812072754,
          13.601191520690918,
          10.05453872680664,
          10.590835571289062,
          13.608563423156738,
          13.50666618347168,
          15.52375316619873,
          12.756567001342773,
          11.547011375427246,
          11.584697723388672,
          11.465365409851074,
          15.790812492370605,
          12.808772087097168,
          15.973384857177734,
          11.620388984680176,
          11.013718605041504,
          13.207490921020508,
          12.12936019897461,
          11.307559967041016,
          15.413521766662598,
          9.082684516906738,
          10.947867393493652,
          12.290301322937012,
          13.249515533447266,
          11.632494926452637,
          12.175716400146484,
          13.42845344543457,
          15.631959915161133,
          13.6980562210083,
          11.685542106628418,
          14.444657325744629,
          11.3732271194458,
          11.256535530090332,
          13.66508960723877,
          12.135933876037598,
          12.36699104309082,
          11.571377754211426,
          15.95425796508789,
          10.328038215637207,
          10.917282104492188,
          11.800058364868164,
          12.112921714782715,
          14.614697456359863,
          11.626302719116211,
          13.162158012390137,
          10.902145385742188,
          13.875916481018066,
          11.198809623718262,
          11.565902709960938,
          15.96203899383545,
          12.372786521911621,
          9.107912063598633,
          11.041523933410645,
          11.423501968383789,
          12.936546325683594,
          13.57323169708252,
          11.47049617767334,
          10.046069145202637,
          13.921223640441895,
          11.869215965270996,
          11.949238777160645,
          13.455538749694824,
          12.105749130249023,
          12.496685028076172,
          15.911946296691895,
          13.170266151428223,
          11.698057174682617,
          13.395498275756836,
          11.942939758300781,
          13.990120887756348,
          12.951848030090332,
          16.32089614868164,
          13.230589866638184,
          14.673532485961914,
          12.307860374450684,
          14.06197452545166,
          11.801301002502441,
          11.746040344238281,
          9.72980785369873,
          13.382505416870117,
          13.951513290405273,
          12.120097160339355,
          12.211604118347168,
          9.75171947479248,
          14.852296829223633,
          16.05827522277832,
          14.433156967163086,
          11.843029975891113,
          10.29831314086914,
          14.646349906921387,
          9.320930480957031,
          11.785860061645508,
          11.970623970031738,
          11.282964706420898,
          13.305779457092285,
          12.376935005187988,
          12.227749824523926,
          9.689576148986816,
          9.074492454528809,
          14.556337356567383,
          12.180374145507812,
          13.833052635192871,
          11.970990180969238,
          10.419063568115234,
          12.462069511413574,
          13.637816429138184,
          11.913305282592773,
          12.333279609680176,
          9.918660163879395,
          14.442920684814453,
          10.576239585876465,
          12.85886001586914,
          9.352505683898926,
          15.58533763885498,
          13.809896469116211,
          10.989185333251953,
          15.07573413848877,
          10.391192436218262,
          9.811014175415039,
          15.188369750976562,
          10.127799987792969,
          12.127635955810547,
          11.191433906555176,
          15.247845649719238,
          14.638986587524414,
          15.175193786621094,
          12.46927547454834,
          13.98647403717041,
          13.546692848205566,
          13.669848442077637,
          15.539121627807617,
          10.81454849243164,
          15.97768497467041,
          11.094895362854004,
          12.661884307861328,
          13.25708293914795,
          15.771370887756348,
          13.814452171325684,
          14.946425437927246,
          10.050840377807617,
          10.882868766784668,
          13.196544647216797,
          13.122542381286621,
          12.165210723876953,
          11.937664031982422,
          14.05078411102295,
          16.002531051635742,
          11.291251182556152,
          10.840574264526367,
          12.942266464233398,
          9.707456588745117,
          15.739896774291992,
          13.624101638793945,
          15.705076217651367,
          13.17061710357666,
          13.67440128326416,
          13.797121047973633,
          13.76705551147461,
          12.40101432800293,
          12.455801010131836,
          14.348825454711914,
          11.695741653442383,
          14.07545280456543,
          9.174091339111328,
          15.205747604370117,
          12.6871337890625,
          10.019952774047852,
          15.192020416259766,
          13.542791366577148,
          11.678274154663086,
          11.02774429321289,
          14.550390243530273,
          12.694001197814941,
          10.624102592468262,
          12.05438232421875,
          12.428754806518555,
          11.376968383789062,
          9.008798599243164,
          14.694023132324219,
          15.164674758911133,
          10.473872184753418,
          11.965460777282715,
          11.566697120666504,
          10.060286521911621,
          11.755210876464844,
          12.606927871704102,
          11.933621406555176,
          10.782419204711914,
          9.360465049743652,
          12.995701789855957,
          12.32310962677002,
          13.878349304199219,
          13.373725891113281,
          15.902088165283203,
          11.18171215057373,
          13.648093223571777,
          13.394493103027344,
          10.737110137939453,
          15.080292701721191,
          11.853557586669922,
          14.253313064575195,
          14.515725135803223,
          13.302946090698242,
          15.806062698364258,
          8.914618492126465,
          12.122776985168457,
          15.552733421325684,
          15.875603675842285,
          11.65165901184082,
          13.625075340270996,
          11.916775703430176,
          9.549777030944824,
          9.926807403564453,
          14.401338577270508,
          13.831584930419922,
          15.402312278747559,
          12.230697631835938,
          10.170568466186523,
          12.636738777160645,
          11.188192367553711,
          13.0304536819458,
          12.058856964111328,
          14.797300338745117,
          10.765884399414062,
          11.203386306762695,
          9.716781616210938,
          10.93432903289795,
          13.900654792785645,
          13.45698070526123,
          12.084806442260742,
          11.68113899230957,
          9.940092086791992,
          11.887274742126465,
          10.230700492858887,
          10.713566780090332,
          15.842517852783203,
          9.716346740722656,
          15.868395805358887,
          12.386677742004395,
          10.562503814697266,
          11.601944923400879,
          11.704970359802246,
          13.41003704071045,
          15.032059669494629,
          13.801944732666016,
          13.28127670288086,
          11.563183784484863,
          15.797246932983398,
          10.895137786865234,
          12.006443977355957,
          16.248903274536133,
          9.163878440856934,
          11.436990737915039,
          13.128962516784668,
          12.334185600280762,
          11.504493713378906,
          14.231634140014648,
          11.441661834716797,
          13.304133415222168,
          9.524754524230957,
          11.843160629272461,
          15.335299491882324,
          9.81434440612793,
          11.391244888305664,
          10.506447792053223,
          10.423379898071289,
          13.058206558227539,
          10.654668807983398,
          12.190023422241211,
          15.605032920837402,
          15.648548126220703,
          10.734025955200195,
          15.561915397644043,
          11.703336715698242,
          8.888463020324707,
          11.57435417175293,
          12.436134338378906,
          11.843758583068848,
          13.720719337463379,
          14.163886070251465,
          10.447747230529785,
          14.461891174316406,
          8.99786376953125,
          10.735095977783203,
          14.504924774169922,
          11.680021286010742,
          11.075122833251953,
          12.22755241394043,
          15.217788696289062,
          12.953851699829102,
          11.540942192077637,
          14.792198181152344,
          11.899556159973145,
          11.131278991699219,
          14.467899322509766,
          11.858915328979492,
          10.637520790100098,
          12.939586639404297,
          12.784799575805664,
          14.353923797607422,
          14.775543212890625,
          13.53768253326416,
          14.274162292480469,
          13.753800392150879,
          11.905893325805664,
          8.880166053771973,
          13.114028930664062,
          8.964167594909668,
          13.685165405273438,
          11.04743480682373,
          12.552752494812012,
          10.926090240478516,
          13.614372253417969,
          11.53468132019043,
          8.988122940063477,
          11.534933090209961,
          13.077268600463867,
          15.637934684753418,
          11.066119194030762,
          12.424168586730957,
          11.210769653320312,
          12.195847511291504,
          14.016512870788574,
          11.134523391723633,
          11.286642074584961,
          12.264388084411621,
          11.710856437683105,
          14.245311737060547,
          13.958200454711914,
          14.302136421203613,
          14.12535285949707,
          11.813188552856445,
          11.117715835571289,
          11.27884578704834,
          13.137528419494629,
          15.787593841552734,
          12.79382038116455,
          8.915045738220215,
          15.343317985534668,
          11.146390914916992,
          15.187196731567383,
          14.02092170715332,
          14.777099609375,
          11.966043472290039,
          12.98691177368164,
          11.575453758239746,
          13.929281234741211,
          13.216835021972656,
          13.327902793884277,
          12.815691947937012,
          12.702506065368652,
          12.07681941986084,
          12.389239311218262,
          11.335726737976074,
          13.729262351989746,
          13.168434143066406,
          11.688519477844238,
          10.422656059265137,
          11.742058753967285,
          15.090397834777832,
          10.548014640808105,
          13.875785827636719,
          11.926262855529785,
          13.719359397888184,
          12.969696044921875,
          15.555267333984375,
          9.936631202697754,
          12.316244125366211,
          10.404184341430664,
          13.46088695526123,
          12.578051567077637,
          10.224896430969238,
          14.847652435302734,
          12.941341400146484,
          13.550108909606934,
          14.932641983032227,
          13.228093147277832,
          12.185159683227539,
          12.160616874694824,
          12.959541320800781,
          14.752913475036621,
          14.167019844055176,
          12.729409217834473,
          13.87345027923584,
          10.544265747070312,
          14.34787654876709,
          10.489649772644043,
          13.340256690979004,
          9.596643447875977,
          11.040725708007812,
          8.978008270263672,
          11.689867973327637,
          8.842788696289062,
          11.38895034790039,
          11.667962074279785,
          11.203916549682617,
          10.80872917175293,
          13.027527809143066,
          14.349411964416504,
          14.30932331085205,
          13.167637825012207,
          13.654458999633789,
          12.547981262207031,
          12.868792533874512,
          14.250582695007324,
          12.11384105682373,
          11.57895278930664,
          12.258200645446777,
          12.574687004089355,
          14.556445121765137,
          12.039475440979004,
          12.850255012512207,
          11.62809944152832,
          10.763185501098633,
          12.929327964782715,
          13.901848793029785,
          13.772063255310059,
          9.09582233428955,
          10.89739990234375,
          14.737804412841797,
          9.17995548248291,
          15.90558910369873,
          12.391350746154785,
          15.073012351989746,
          9.628911018371582,
          11.359962463378906,
          14.21021842956543,
          13.810166358947754,
          14.019710540771484,
          13.586580276489258,
          11.48193645477295,
          12.135391235351562,
          12.429191589355469,
          14.468862533569336,
          13.473610877990723,
          12.319344520568848,
          14.529919624328613,
          11.902667999267578,
          13.045991897583008,
          11.500185012817383,
          15.581944465637207,
          14.27802848815918,
          8.969146728515625,
          12.652467727661133,
          12.364531517028809,
          14.041172981262207,
          11.44958209991455,
          13.713963508605957,
          9.571892738342285,
          12.747893333435059,
          13.345871925354004,
          14.492579460144043,
          11.167922019958496,
          12.416643142700195,
          13.512633323669434,
          14.114232063293457,
          11.844317436218262,
          14.558619499206543,
          14.492116928100586,
          12.08436107635498,
          15.089764595031738,
          13.926446914672852,
          11.714739799499512,
          12.550577163696289,
          13.660643577575684,
          13.326257705688477,
          13.927841186523438,
          9.314183235168457,
          14.922974586486816,
          10.038359642028809,
          11.840144157409668,
          9.993435859680176,
          11.199458122253418,
          12.801230430603027,
          13.95262622833252,
          15.928747177124023,
          11.844210624694824,
          15.13789176940918,
          9.851678848266602,
          11.51320743560791,
          14.283294677734375,
          10.598967552185059,
          15.6034517288208,
          12.20092487335205,
          11.481785774230957,
          11.679398536682129,
          11.827729225158691,
          14.886107444763184,
          11.512981414794922,
          14.44456958770752,
          11.144553184509277,
          11.294092178344727,
          9.552533149719238,
          11.513382911682129,
          14.435613632202148,
          12.544363975524902,
          10.052289009094238,
          12.357325553894043,
          15.14292049407959,
          11.085199356079102,
          13.162306785583496,
          12.547736167907715,
          9.97693920135498,
          10.661417007446289,
          13.417816162109375,
          11.566287994384766,
          13.374234199523926,
          13.5750150680542,
          15.492149353027344,
          10.6543607711792,
          11.85632610321045,
          8.94162368774414,
          8.910024642944336,
          11.390039443969727,
          13.932021141052246,
          13.736347198486328,
          13.557762145996094,
          14.66989803314209,
          11.496529579162598,
          10.176257133483887,
          15.045056343078613,
          10.56485652923584,
          13.608847618103027,
          15.292850494384766,
          13.931645393371582,
          15.040493965148926,
          10.932648658752441,
          13.742757797241211,
          11.1087064743042,
          10.738543510437012,
          14.139737129211426,
          13.179941177368164,
          12.426497459411621,
          13.665915489196777,
          11.609956741333008,
          13.881888389587402,
          9.747425079345703,
          8.91281795501709,
          13.019126892089844,
          10.961976051330566,
          11.580078125,
          12.43408489227295,
          12.171135902404785,
          11.726095199584961,
          12.767731666564941,
          12.157343864440918,
          10.774138450622559,
          14.272725105285645,
          13.293838500976562,
          9.314061164855957,
          10.824446678161621,
          11.116595268249512,
          12.912598609924316,
          13.93624496459961,
          14.525164604187012,
          12.074467658996582,
          11.14171028137207,
          12.74085521697998,
          13.737398147583008,
          13.04715347290039,
          13.36257553100586,
          10.237196922302246,
          13.250317573547363,
          11.464034080505371,
          12.590323448181152,
          12.337198257446289,
          12.206823348999023,
          11.007168769836426,
          13.667742729187012,
          11.07678508758545,
          9.91589069366455,
          11.3889799118042,
          11.560647010803223,
          15.484479904174805,
          9.292384147644043,
          10.03205394744873,
          12.991249084472656,
          14.392333984375,
          11.223207473754883,
          10.353631019592285,
          15.90566349029541,
          15.90600299835205,
          10.233053207397461,
          12.055450439453125,
          10.889492988586426,
          14.67038631439209,
          11.398417472839355,
          8.847031593322754,
          14.658430099487305,
          10.871771812438965,
          15.595990180969238,
          9.363702774047852,
          11.765941619873047,
          11.51230239868164,
          13.351785659790039,
          8.988348007202148,
          11.664083480834961,
          12.836271286010742,
          15.678215980529785,
          11.778281211853027,
          14.586455345153809,
          12.806218147277832,
          12.247395515441895,
          14.313234329223633,
          9.459105491638184,
          10.98048210144043,
          15.659367561340332,
          9.015219688415527,
          11.851658821105957,
          10.884976387023926,
          12.049029350280762,
          12.666792869567871,
          10.570910453796387,
          15.281142234802246,
          14.4033842086792,
          12.47347640991211,
          11.546778678894043,
          14.574909210205078,
          12.09611701965332,
          15.340557098388672,
          11.979727745056152,
          8.985037803649902,
          14.26109790802002,
          14.466911315917969,
          15.692489624023438,
          11.786892890930176,
          11.73857307434082,
          14.16813850402832,
          15.946775436401367,
          11.400555610656738,
          13.896380424499512,
          12.007781982421875,
          10.949527740478516,
          11.827486991882324,
          15.312274932861328,
          12.038911819458008,
          11.473973274230957,
          11.980849266052246,
          14.732354164123535,
          15.667922973632812,
          9.128995895385742,
          11.968018531799316,
          16.169254302978516,
          14.76620101928711,
          14.285053253173828,
          14.351484298706055,
          14.62209415435791,
          11.966118812561035,
          14.671085357666016,
          14.154972076416016,
          13.565768241882324,
          13.577826499938965,
          11.489030838012695,
          12.424163818359375,
          12.585174560546875,
          10.910056114196777,
          14.296138763427734,
          11.531512260437012,
          12.172826766967773,
          15.790767669677734,
          11.5684175491333,
          10.011842727661133,
          13.123663902282715,
          12.71810531616211,
          11.651006698608398,
          11.39151382446289,
          10.925525665283203,
          13.352071762084961,
          9.423782348632812,
          14.198013305664062,
          10.576764106750488,
          14.51977825164795,
          12.978219985961914,
          12.156356811523438,
          9.110801696777344,
          10.766000747680664,
          15.86573600769043,
          12.307549476623535,
          15.723725318908691,
          11.619215965270996,
          15.65511417388916,
          15.390274047851562,
          9.528794288635254,
          11.374213218688965,
          15.723917007446289,
          12.364459991455078,
          12.836895942687988,
          14.24930191040039,
          8.899833679199219,
          13.544748306274414,
          8.989974021911621,
          11.700181007385254,
          15.864114761352539,
          13.282312393188477,
          10.358333587646484,
          12.226433753967285,
          14.406286239624023,
          12.415987014770508,
          14.109844207763672,
          13.60278606414795,
          12.141862869262695,
          9.059943199157715,
          11.401755332946777,
          13.217145919799805,
          10.8555269241333,
          13.888677597045898,
          14.603838920593262,
          12.845076560974121,
          14.469277381896973,
          14.499075889587402,
          14.02558422088623,
          14.395610809326172,
          10.414023399353027,
          15.280434608459473,
          10.997732162475586,
          12.268832206726074,
          11.477060317993164,
          11.52089786529541,
          13.817383766174316,
          11.435357093811035,
          14.579886436462402,
          13.261131286621094,
          10.705870628356934,
          11.348705291748047,
          11.753561973571777,
          11.533720016479492,
          11.290837287902832,
          9.261930465698242,
          10.763958930969238,
          11.51890754699707,
          14.422879219055176,
          15.415571212768555,
          12.928866386413574,
          13.242094039916992,
          10.92768669128418,
          15.878575325012207,
          15.856637954711914,
          14.216790199279785,
          14.266996383666992,
          15.91720962524414,
          11.893180847167969,
          15.199200630187988,
          10.27574348449707,
          11.758650779724121,
          16.201393127441406,
          14.00524616241455,
          11.997517585754395,
          11.982622146606445,
          11.836725234985352,
          11.113466262817383,
          12.773346900939941,
          11.246418952941895,
          15.75468635559082,
          13.610664367675781,
          11.620397567749023,
          14.13258171081543,
          10.103302955627441,
          11.88115406036377,
          11.599931716918945,
          11.580741882324219,
          13.21142578125,
          13.065611839294434,
          10.731588363647461,
          12.80864143371582,
          11.920878410339355,
          15.574723243713379,
          11.823321342468262,
          9.95910358428955,
          15.769270896911621,
          15.689998626708984,
          11.438741683959961,
          11.166946411132812,
          10.00045394897461,
          12.085256576538086,
          12.414609909057617,
          9.028419494628906,
          8.934098243713379,
          13.901033401489258,
          14.181269645690918,
          12.76150894165039,
          10.536784172058105,
          13.383033752441406,
          10.791260719299316,
          12.594246864318848,
          16.09075927734375,
          13.492507934570312,
          12.36618709564209,
          15.998152732849121,
          10.95825481414795,
          15.72165584564209,
          11.936144828796387,
          12.015432357788086,
          13.587265968322754,
          12.227349281311035,
          16.012304306030273,
          10.707901954650879,
          11.493688583374023,
          8.93130111694336,
          12.65231990814209,
          11.783424377441406,
          14.222352981567383,
          14.44216251373291,
          13.447039604187012,
          12.385622024536133,
          15.743911743164062,
          15.129537582397461,
          13.184477806091309,
          9.023924827575684,
          13.448102951049805,
          13.553747177124023,
          13.538846969604492,
          15.730660438537598,
          14.933797836303711,
          12.685254096984863,
          9.093160629272461,
          12.28328800201416,
          15.856947898864746,
          10.845486640930176,
          15.345863342285156,
          12.018304824829102,
          15.895408630371094,
          12.726276397705078,
          11.832911491394043,
          15.476445198059082,
          16.128103256225586,
          10.844371795654297,
          10.849287986755371,
          12.739030838012695,
          11.172903060913086,
          11.112502098083496,
          15.971492767333984
         ],
         "yaxis": "y"
        }
       ],
       "layout": {
        "coloraxis": {
         "colorbar": {
          "title": {
           "text": "cluster"
          }
         },
         "colorscale": [
          [
           0,
           "#0d0887"
          ],
          [
           0.1111111111111111,
           "#46039f"
          ],
          [
           0.2222222222222222,
           "#7201a8"
          ],
          [
           0.3333333333333333,
           "#9c179e"
          ],
          [
           0.4444444444444444,
           "#bd3786"
          ],
          [
           0.5555555555555556,
           "#d8576b"
          ],
          [
           0.6666666666666666,
           "#ed7953"
          ],
          [
           0.7777777777777778,
           "#fb9f3a"
          ],
          [
           0.8888888888888888,
           "#fdca26"
          ],
          [
           1,
           "#f0f921"
          ]
         ]
        },
        "legend": {
         "tracegroupgap": 0
        },
        "margin": {
         "t": 60
        },
        "template": {
         "data": {
          "bar": [
           {
            "error_x": {
             "color": "#2a3f5f"
            },
            "error_y": {
             "color": "#2a3f5f"
            },
            "marker": {
             "line": {
              "color": "#E5ECF6",
              "width": 0.5
             },
             "pattern": {
              "fillmode": "overlay",
              "size": 10,
              "solidity": 0.2
             }
            },
            "type": "bar"
           }
          ],
          "barpolar": [
           {
            "marker": {
             "line": {
              "color": "#E5ECF6",
              "width": 0.5
             },
             "pattern": {
              "fillmode": "overlay",
              "size": 10,
              "solidity": 0.2
             }
            },
            "type": "barpolar"
           }
          ],
          "carpet": [
           {
            "aaxis": {
             "endlinecolor": "#2a3f5f",
             "gridcolor": "white",
             "linecolor": "white",
             "minorgridcolor": "white",
             "startlinecolor": "#2a3f5f"
            },
            "baxis": {
             "endlinecolor": "#2a3f5f",
             "gridcolor": "white",
             "linecolor": "white",
             "minorgridcolor": "white",
             "startlinecolor": "#2a3f5f"
            },
            "type": "carpet"
           }
          ],
          "choropleth": [
           {
            "colorbar": {
             "outlinewidth": 0,
             "ticks": ""
            },
            "type": "choropleth"
           }
          ],
          "contour": [
           {
            "colorbar": {
             "outlinewidth": 0,
             "ticks": ""
            },
            "colorscale": [
             [
              0,
              "#0d0887"
             ],
             [
              0.1111111111111111,
              "#46039f"
             ],
             [
              0.2222222222222222,
              "#7201a8"
             ],
             [
              0.3333333333333333,
              "#9c179e"
             ],
             [
              0.4444444444444444,
              "#bd3786"
             ],
             [
              0.5555555555555556,
              "#d8576b"
             ],
             [
              0.6666666666666666,
              "#ed7953"
             ],
             [
              0.7777777777777778,
              "#fb9f3a"
             ],
             [
              0.8888888888888888,
              "#fdca26"
             ],
             [
              1,
              "#f0f921"
             ]
            ],
            "type": "contour"
           }
          ],
          "contourcarpet": [
           {
            "colorbar": {
             "outlinewidth": 0,
             "ticks": ""
            },
            "type": "contourcarpet"
           }
          ],
          "heatmap": [
           {
            "colorbar": {
             "outlinewidth": 0,
             "ticks": ""
            },
            "colorscale": [
             [
              0,
              "#0d0887"
             ],
             [
              0.1111111111111111,
              "#46039f"
             ],
             [
              0.2222222222222222,
              "#7201a8"
             ],
             [
              0.3333333333333333,
              "#9c179e"
             ],
             [
              0.4444444444444444,
              "#bd3786"
             ],
             [
              0.5555555555555556,
              "#d8576b"
             ],
             [
              0.6666666666666666,
              "#ed7953"
             ],
             [
              0.7777777777777778,
              "#fb9f3a"
             ],
             [
              0.8888888888888888,
              "#fdca26"
             ],
             [
              1,
              "#f0f921"
             ]
            ],
            "type": "heatmap"
           }
          ],
          "heatmapgl": [
           {
            "colorbar": {
             "outlinewidth": 0,
             "ticks": ""
            },
            "colorscale": [
             [
              0,
              "#0d0887"
             ],
             [
              0.1111111111111111,
              "#46039f"
             ],
             [
              0.2222222222222222,
              "#7201a8"
             ],
             [
              0.3333333333333333,
              "#9c179e"
             ],
             [
              0.4444444444444444,
              "#bd3786"
             ],
             [
              0.5555555555555556,
              "#d8576b"
             ],
             [
              0.6666666666666666,
              "#ed7953"
             ],
             [
              0.7777777777777778,
              "#fb9f3a"
             ],
             [
              0.8888888888888888,
              "#fdca26"
             ],
             [
              1,
              "#f0f921"
             ]
            ],
            "type": "heatmapgl"
           }
          ],
          "histogram": [
           {
            "marker": {
             "pattern": {
              "fillmode": "overlay",
              "size": 10,
              "solidity": 0.2
             }
            },
            "type": "histogram"
           }
          ],
          "histogram2d": [
           {
            "colorbar": {
             "outlinewidth": 0,
             "ticks": ""
            },
            "colorscale": [
             [
              0,
              "#0d0887"
             ],
             [
              0.1111111111111111,
              "#46039f"
             ],
             [
              0.2222222222222222,
              "#7201a8"
             ],
             [
              0.3333333333333333,
              "#9c179e"
             ],
             [
              0.4444444444444444,
              "#bd3786"
             ],
             [
              0.5555555555555556,
              "#d8576b"
             ],
             [
              0.6666666666666666,
              "#ed7953"
             ],
             [
              0.7777777777777778,
              "#fb9f3a"
             ],
             [
              0.8888888888888888,
              "#fdca26"
             ],
             [
              1,
              "#f0f921"
             ]
            ],
            "type": "histogram2d"
           }
          ],
          "histogram2dcontour": [
           {
            "colorbar": {
             "outlinewidth": 0,
             "ticks": ""
            },
            "colorscale": [
             [
              0,
              "#0d0887"
             ],
             [
              0.1111111111111111,
              "#46039f"
             ],
             [
              0.2222222222222222,
              "#7201a8"
             ],
             [
              0.3333333333333333,
              "#9c179e"
             ],
             [
              0.4444444444444444,
              "#bd3786"
             ],
             [
              0.5555555555555556,
              "#d8576b"
             ],
             [
              0.6666666666666666,
              "#ed7953"
             ],
             [
              0.7777777777777778,
              "#fb9f3a"
             ],
             [
              0.8888888888888888,
              "#fdca26"
             ],
             [
              1,
              "#f0f921"
             ]
            ],
            "type": "histogram2dcontour"
           }
          ],
          "mesh3d": [
           {
            "colorbar": {
             "outlinewidth": 0,
             "ticks": ""
            },
            "type": "mesh3d"
           }
          ],
          "parcoords": [
           {
            "line": {
             "colorbar": {
              "outlinewidth": 0,
              "ticks": ""
             }
            },
            "type": "parcoords"
           }
          ],
          "pie": [
           {
            "automargin": true,
            "type": "pie"
           }
          ],
          "scatter": [
           {
            "marker": {
             "colorbar": {
              "outlinewidth": 0,
              "ticks": ""
             }
            },
            "type": "scatter"
           }
          ],
          "scatter3d": [
           {
            "line": {
             "colorbar": {
              "outlinewidth": 0,
              "ticks": ""
             }
            },
            "marker": {
             "colorbar": {
              "outlinewidth": 0,
              "ticks": ""
             }
            },
            "type": "scatter3d"
           }
          ],
          "scattercarpet": [
           {
            "marker": {
             "colorbar": {
              "outlinewidth": 0,
              "ticks": ""
             }
            },
            "type": "scattercarpet"
           }
          ],
          "scattergeo": [
           {
            "marker": {
             "colorbar": {
              "outlinewidth": 0,
              "ticks": ""
             }
            },
            "type": "scattergeo"
           }
          ],
          "scattergl": [
           {
            "marker": {
             "colorbar": {
              "outlinewidth": 0,
              "ticks": ""
             }
            },
            "type": "scattergl"
           }
          ],
          "scattermapbox": [
           {
            "marker": {
             "colorbar": {
              "outlinewidth": 0,
              "ticks": ""
             }
            },
            "type": "scattermapbox"
           }
          ],
          "scatterpolar": [
           {
            "marker": {
             "colorbar": {
              "outlinewidth": 0,
              "ticks": ""
             }
            },
            "type": "scatterpolar"
           }
          ],
          "scatterpolargl": [
           {
            "marker": {
             "colorbar": {
              "outlinewidth": 0,
              "ticks": ""
             }
            },
            "type": "scatterpolargl"
           }
          ],
          "scatterternary": [
           {
            "marker": {
             "colorbar": {
              "outlinewidth": 0,
              "ticks": ""
             }
            },
            "type": "scatterternary"
           }
          ],
          "surface": [
           {
            "colorbar": {
             "outlinewidth": 0,
             "ticks": ""
            },
            "colorscale": [
             [
              0,
              "#0d0887"
             ],
             [
              0.1111111111111111,
              "#46039f"
             ],
             [
              0.2222222222222222,
              "#7201a8"
             ],
             [
              0.3333333333333333,
              "#9c179e"
             ],
             [
              0.4444444444444444,
              "#bd3786"
             ],
             [
              0.5555555555555556,
              "#d8576b"
             ],
             [
              0.6666666666666666,
              "#ed7953"
             ],
             [
              0.7777777777777778,
              "#fb9f3a"
             ],
             [
              0.8888888888888888,
              "#fdca26"
             ],
             [
              1,
              "#f0f921"
             ]
            ],
            "type": "surface"
           }
          ],
          "table": [
           {
            "cells": {
             "fill": {
              "color": "#EBF0F8"
             },
             "line": {
              "color": "white"
             }
            },
            "header": {
             "fill": {
              "color": "#C8D4E3"
             },
             "line": {
              "color": "white"
             }
            },
            "type": "table"
           }
          ]
         },
         "layout": {
          "annotationdefaults": {
           "arrowcolor": "#2a3f5f",
           "arrowhead": 0,
           "arrowwidth": 1
          },
          "autotypenumbers": "strict",
          "coloraxis": {
           "colorbar": {
            "outlinewidth": 0,
            "ticks": ""
           }
          },
          "colorscale": {
           "diverging": [
            [
             0,
             "#8e0152"
            ],
            [
             0.1,
             "#c51b7d"
            ],
            [
             0.2,
             "#de77ae"
            ],
            [
             0.3,
             "#f1b6da"
            ],
            [
             0.4,
             "#fde0ef"
            ],
            [
             0.5,
             "#f7f7f7"
            ],
            [
             0.6,
             "#e6f5d0"
            ],
            [
             0.7,
             "#b8e186"
            ],
            [
             0.8,
             "#7fbc41"
            ],
            [
             0.9,
             "#4d9221"
            ],
            [
             1,
             "#276419"
            ]
           ],
           "sequential": [
            [
             0,
             "#0d0887"
            ],
            [
             0.1111111111111111,
             "#46039f"
            ],
            [
             0.2222222222222222,
             "#7201a8"
            ],
            [
             0.3333333333333333,
             "#9c179e"
            ],
            [
             0.4444444444444444,
             "#bd3786"
            ],
            [
             0.5555555555555556,
             "#d8576b"
            ],
            [
             0.6666666666666666,
             "#ed7953"
            ],
            [
             0.7777777777777778,
             "#fb9f3a"
            ],
            [
             0.8888888888888888,
             "#fdca26"
            ],
            [
             1,
             "#f0f921"
            ]
           ],
           "sequentialminus": [
            [
             0,
             "#0d0887"
            ],
            [
             0.1111111111111111,
             "#46039f"
            ],
            [
             0.2222222222222222,
             "#7201a8"
            ],
            [
             0.3333333333333333,
             "#9c179e"
            ],
            [
             0.4444444444444444,
             "#bd3786"
            ],
            [
             0.5555555555555556,
             "#d8576b"
            ],
            [
             0.6666666666666666,
             "#ed7953"
            ],
            [
             0.7777777777777778,
             "#fb9f3a"
            ],
            [
             0.8888888888888888,
             "#fdca26"
            ],
            [
             1,
             "#f0f921"
            ]
           ]
          },
          "colorway": [
           "#636efa",
           "#EF553B",
           "#00cc96",
           "#ab63fa",
           "#FFA15A",
           "#19d3f3",
           "#FF6692",
           "#B6E880",
           "#FF97FF",
           "#FECB52"
          ],
          "font": {
           "color": "#2a3f5f"
          },
          "geo": {
           "bgcolor": "white",
           "lakecolor": "white",
           "landcolor": "#E5ECF6",
           "showlakes": true,
           "showland": true,
           "subunitcolor": "white"
          },
          "hoverlabel": {
           "align": "left"
          },
          "hovermode": "closest",
          "mapbox": {
           "style": "light"
          },
          "paper_bgcolor": "white",
          "plot_bgcolor": "#E5ECF6",
          "polar": {
           "angularaxis": {
            "gridcolor": "white",
            "linecolor": "white",
            "ticks": ""
           },
           "bgcolor": "#E5ECF6",
           "radialaxis": {
            "gridcolor": "white",
            "linecolor": "white",
            "ticks": ""
           }
          },
          "scene": {
           "xaxis": {
            "backgroundcolor": "#E5ECF6",
            "gridcolor": "white",
            "gridwidth": 2,
            "linecolor": "white",
            "showbackground": true,
            "ticks": "",
            "zerolinecolor": "white"
           },
           "yaxis": {
            "backgroundcolor": "#E5ECF6",
            "gridcolor": "white",
            "gridwidth": 2,
            "linecolor": "white",
            "showbackground": true,
            "ticks": "",
            "zerolinecolor": "white"
           },
           "zaxis": {
            "backgroundcolor": "#E5ECF6",
            "gridcolor": "white",
            "gridwidth": 2,
            "linecolor": "white",
            "showbackground": true,
            "ticks": "",
            "zerolinecolor": "white"
           }
          },
          "shapedefaults": {
           "line": {
            "color": "#2a3f5f"
           }
          },
          "ternary": {
           "aaxis": {
            "gridcolor": "white",
            "linecolor": "white",
            "ticks": ""
           },
           "baxis": {
            "gridcolor": "white",
            "linecolor": "white",
            "ticks": ""
           },
           "bgcolor": "#E5ECF6",
           "caxis": {
            "gridcolor": "white",
            "linecolor": "white",
            "ticks": ""
           }
          },
          "title": {
           "x": 0.05
          },
          "xaxis": {
           "automargin": true,
           "gridcolor": "white",
           "linecolor": "white",
           "ticks": "",
           "title": {
            "standoff": 15
           },
           "zerolinecolor": "white",
           "zerolinewidth": 2
          },
          "yaxis": {
           "automargin": true,
           "gridcolor": "white",
           "linecolor": "white",
           "ticks": "",
           "title": {
            "standoff": 15
           },
           "zerolinecolor": "white",
           "zerolinewidth": 2
          }
         }
        },
        "xaxis": {
         "anchor": "y",
         "domain": [
          0,
          1
         ],
         "title": {
          "text": "x"
         }
        },
        "yaxis": {
         "anchor": "x",
         "domain": [
          0,
          1
         ],
         "title": {
          "text": "y"
         }
        }
       }
      },
      "text/html": [
       "<div>                            <div id=\"e1a91c6d-9945-48c0-93eb-21504414f2c9\" class=\"plotly-graph-div\" style=\"height:525px; width:100%;\"></div>            <script type=\"text/javascript\">                require([\"plotly\"], function(Plotly) {                    window.PLOTLYENV=window.PLOTLYENV || {};                                    if (document.getElementById(\"e1a91c6d-9945-48c0-93eb-21504414f2c9\")) {                    Plotly.newPlot(                        \"e1a91c6d-9945-48c0-93eb-21504414f2c9\",                        [{\"customdata\":[[\"@united I hope so too\",\"neutral\",3,1],[\"@jetblue who's running your tweeter using the word fleek?\",\"neutral\",1,2],[\"@united still waiting for a response on whether or not you allow use of a rear facing car seat on an ERJ145.\",\"neutral\",5,2],[\"@united Based on suggestions from other passengers I have a rental car on standby for 11:30.  One way or another will be leaving then.\",\"neutral\",5,2],[\"\\u201c@JetBlue: Our fleet's on fleek. http://t.co/Q16Xvwg0L6\\u201d .... I have to refrain what I want to say\",\"neutral\",1,2],[\"@SouthwestAir damn weather messing up everything #serenitynow\",\"neutral\",0,2],[\"@united in Bogota with no wallet is no fun. :-(\",\"neutral\",5,2],[\"@JetBlue     Is it only $50 for my 2nd bag?  1st bag too full..\",\"neutral\",4,2],[\"@SouthwestAir Thanks, Lindsey. Any idea when I'll get there?! Stuck in Denver and told to \\\"listen to the intercom better\\\".\",\"neutral\",0,2],[\"@SouthwestAir k thanks :)\",\"neutral\",0,1],[\"@JetBlue Marks 15th Year With 'Bluemanity' Plane Design - http://t.co/E5NaxBUe4s http://t.co/KlxivnbCYh\",\"neutral\",1,1],[\"@USAirways I left my personal stuff on US4551 from PHL-BOS about an hour ago. Went baggage, was told plane left to call 800#\",\"neutral\",4,2],[\"@SouthwestAir should offer cdn border towns incentive to fly since exchange rates are #hurt. #customerappreciation #gaincustomers #keepem2\",\"neutral\",0,2],[\"@SouthwestAir microsecond too Late Flight so very very sad \\ud83d\\ude02\\ud83d\\ude02\\ud83d\\ude02\\ud83d\\ude02\\ud83d\\ude02\\ud83d\\ude2d\\ud83d\\ude2d\\ud83d\\ude2d\\ud83d\\ude2d\\ud83d\\ude22\\ud83d\\ude22\\ud83d\\ude22\\ud83d\\ude22\",\"neutral\",0,2],[\"@JetBlue @pilyoc dont talk about my friend @JetBlue like that. #thefutureisweird\",\"neutral\",1,2],[\"Please don't. RT \\u201c@JetBlue: Our fleet's on fleek. http://t.co/gdzadXzBYA\\u201d\",\"neutral\",1,2],[\"@AmericanAir and @CVGairport get it together, perfect combination for delays and Cancelled Flightlations\",\"neutral\",1,1],[\"@united since UA 1226 ORD-EWR is delayed pushing it into meal time does that mean it will be catered with meals in First?\",\"neutral\",5,2],[\"@SouthwestAir I know that not everybody on flight can be 1st time flying. But in case it is people in front deplane 1st not from the back?!?\",\"neutral\",0,2],[\"@JetBlue using A321 JFK-SEA for Summer 2015. It will be my first A321 flight ever! No Mint to Seattle, Core Config only.\",\"neutral\",4,2],[\"@united...do you still have flat tire policy.  Shuttle broke down on way to ORD.  Will probably miss the 425pm to CLE...Help please!!\",\"neutral\",4,2],[\"@SouthwestAir i cant look up my confirmation number at the moment on mobile. the email is no longer in my inbox\",\"neutral\",4,2],[\"@USAirways thank you for the apology\",\"neutral\",3,1],[\"@JetBlue I was returning from @FoodNetwork #SOBEWFF so I had limited carry on space in my tummy. Next flight I'll try that snack!\",\"neutral\",4,2],[\"@JetBlue no, I am fine to fly! Haha, they come at random, with the hemophilia, but what if i need extra assistance\",\"neutral\",1,2],[\"@USAirways please please please let my plane back to the gate so I can get off as I will miss connection due to CLT closing. 2034\",\"neutral\",4,2],[\"@AmericanAir why is it from June 1 thru December 31 there are no bus/first milesaaver awards available from cun to nyc? #Explain #whyfly\",\"neutral\",4,2],[\"@JetBlue Thank you.\",\"neutral\",6,1],[\"@USAirways My hubby has a 5hr layover in DFW fm the cxl'd flt. Pls help get him home sooner if you can! Any room on S/by 2 BWI or PHL today?\",\"neutral\",0,2],[\"@VirginAmerica a brilliant brisk am in Boston in cue for vx363 http://t.co/rMZNIVGmg6\",\"neutral\",5,1],[\"@SouthwestAir how come on mobile I can't proceed w/o entering a postcode at purchase. I'm from Ireland and I don't have a postcode just.\",\"neutral\",5,2],[\"@SouthwestAir yeah it happens. The PHX airport has extra long waits all spring long. Something locals know but tourist don't just FYI\",\"neutral\",0,2],[\"@AmericanAir well you spelled my name wrong.\",\"neutral\",2,2],[\"@JetBlue Hey! Check it out!! It's snowing in Boston. Who could have predicted such a thing?! http://t.co/ufyxXkIsa3\",\"neutral\",1,1],[\"@SouthwestAir So there were 134 early-bird check-ins, because I was told there were no flythroughs? Good flight, otherwise ~\",\"neutral\",4,2],[\"@JetBlue Im just saying change can be amazing, like Miami. \\ud83d\\ude09\",\"neutral\",1,1],[\"@SouthwestAir only 1 guest needs to change a flight on a reservation of 2. How can I do it? I NEED this to happen. Say it can...Please help!\",\"neutral\",4,2],[\"@AmericanAir why is it most first class passengers now request the sand which from coach ?\",\"neutral\",5,2],[\"@SouthwestAir fortunately didn't have to. The flight took off on time.\",\"neutral\",0,1],[\"@JetBlue no. come on.\",\"neutral\",1,2],[\"@SouthwestAir I never got my flight confirmation. I've been on hold for an hour and I can't get info online. What am I to do?\",\"neutral\",4,2],[\"@SouthwestAir Please bring back RDU to FLL direct route!  I noticed it is missing starting in Late Flight August!  The flights are always packed!\",\"neutral\",0,2],[\"@AmericanAir \\nThank you for responding...My laptop is in my bag and I need it for work. I am worried. The file code is UTEVGW.\",\"neutral\",5,2],[\"@AmericanAir we then had to deplane, and change planes.\",\"neutral\",1,2],[\"@USAirways @OBJ_3 even airlines are scheming to get a follow from OBJ LMAOOO \\ud83d\\ude02\\ud83d\\ude02\\ud83d\\ude02\\ud83d\\ude02\",\"neutral\",1,2],[\"@SouthwestAir better travel photos:\\nMy Kindle e-book Easy Tips guide http://t.co/7dM2J8H97M:\\nhttp://t.co/xeDeckGMW5 http://t.co/frGhglMkqF\",\"neutral\",0,1],[\"@JetBlue A month ago I had a flight booked but then had to Cancelled Flight it... I'm now Flight Booking Problems a separate flight for a different occasion.\",\"neutral\",4,2],[\"@SouthwestAir Thanks for reminding me about my upcoming trip to Florida but you really didn't need to... http://t.co/p6r5rt5Ow5\",\"neutral\",0,2],[\"@United Airlines' CEO Jeff Smisek: Disloyal to Loyal Workers http://t.co/0cevY3P42b via @HuffPostBiz\",\"neutral\",4,2],[\"@united ^JT is the ORD to PHL flight at 9:15 PM (CDT) delayed? DM I'm kinda hoping not to be stranded at ORD either.\",\"neutral\",4,2],[\"@AmericanAir your message was delayed I just responded\",\"neutral\",2,2],[\"@JetBlue I usually do-but I didn't make the Flight Booking Problems this time-that'll teach me! Yea I have that going for me at least haha\",\"neutral\",6,1],[\"@united how much does it cost to check in an additional bag? Traveling from newark to glasgow. Thank you :)\",\"neutral\",5,1],[\"@AmericanAir  Yes I do bit you don't follow me so I can't DM you\",\"neutral\",5,2],[\"@JetBlue ...and when did your legal department start running your social media channels?\",\"neutral\",1,2],[\"@SouthwestAir Thanks I get that. It looks like all BWI-SJD services stops after Aug 7. Is that the case? I cant find one date with flights.\",\"neutral\",0,2],[\"@united Thanks. Got it straightend out last night.\",\"neutral\",3,1],[\"@USAirways no problem...just funny have a nice day\",\"neutral\",6,1],[\"@JetBlue Guess I'll wait another 24 hrs in hopes rate goes down &amp; is more reasonable. Fingers crossed. Cutting it close to my travel dates.\",\"neutral\",4,2],[\"@united I filled out the form but I haven\\u2019t received any sort of email confirmation that it\\u2019s been received. Is that normal?\",\"neutral\",5,2],[\"@united please help! Left my iPad Air 2 on my flight from NYC to Paris yesterday and can\\u2019t get in touch with anyone locally. What to do?\",\"neutral\",4,2],[\"@AmericanAir I need some help. My record locator is bringing up TWO different flights in your system. One op by AA &amp; one from US Airways.\",\"neutral\",2,2],[\"@VirginAmerica @ladygaga @carrieunderwood Julie Andrews first but Lady Gaga wow'd me last night. Carrie? Meh.\",\"neutral\",5,1],[\"@SouthwestAir- ...was only less than 3500pts, but it helped. Had PartnerRewards incoming, but not fast enough to keep pts from expiring.\",\"neutral\",6,2],[\"@united Lindsay and ??.  Darn.  Terrible memory on my part.  I know they are headed back to IAD and then PIT tonight.\",\"neutral\",5,2],[\"@SouthwestAir @love_dragonss LAUREN IM SCREAKJMF\",\"neutral\",0,1],[\"@united, Understandable. I did try Flight Booking Problems several times for 2 passengers &amp; got the messages I mentioned before. As for the agents price???\",\"neutral\",5,2],[\"@SouthwestAir left behind iPad Air on flight 505 from Bradley to BWI, plane had already left by the time I realized. Can you possibly help?\",\"neutral\",4,2],[\"@AmericanAir Thank you, but I'll be Cancelled Flighting my return flight, as I've already rebooked with another airline so I can get home today.\",\"neutral\",4,2],[\"@united just kidding with you I'll send you my stuff now. Thanks\",\"neutral\",5,2],[\"@SouthwestAir check the head of the plane, there has been dynamite placed onto it\",\"neutral\",0,2],[\"@USAirways and @AmericanAir aren't as merged as the marketing departments would have us believe. Maybe @Delta or @united can get me home?\",\"neutral\",5,2],[\"@united Thank you, ^JH, appreciate the prompt responses--me and other passengers will be doing so.\",\"neutral\",3,1],[\"@united why de-ice before taxing? Maybe it #makestoomuchsense ? #shouldhaveflowndelta #unitedsucks @Delta @SouthwestAir @AmericanAir\",\"neutral\",4,2],[\"@USAirways thank you.\",\"neutral\",3,1],[\"@AmericanAir I've been trying to change frm AA 2401 to LAX at 6:50am MONDAY morning then AA 2586 from LAX to FAT to flight AA 1359?#helpAA\",\"neutral\",4,2],[\"@JetBlue finally! Finally!\",\"neutral\",1,1],[\"@SouthwestAir easy fix, let the business select actually board 1st, then board the pre-boards...\",\"neutral\",0,2],[\"@SouthwestAir how do get priority seating after you already paid for the flight\",\"neutral\",0,2],[\"@united Is there a direct number to call to request a refund?  Its telling me its not valid as I changed the ticket.  No number on site\",\"neutral\",5,2],[\"@JetBlue saving my sanity. Leaving it behind for sunshine. #escape #FL #bliss #travel #InDenial #WhatFrozenPipes http://t.co/6TtzEJV3hY\",\"neutral\",6,1],[\"@SouthwestAir So that's what happens when your power level goes over 9,000... feet in the air.\",\"neutral\",0,2],[\"@AmericanAir well I'm flying @JetBlue instead - for free! Their credits actually work.\",\"neutral\",6,1],[\"@USAirways tell reservations to rebook me from 5080 to 5129\",\"neutral\",5,2],[\"@AmericanAir Amazing to watch @chasefoster (who travels with celebs all over the world) show the youth of America who *not* to fly with.\",\"neutral\",4,1],[\"@JetBlue well mine sure aren't anything to write home about!\",\"neutral\",4,2],[\"@SouthwestAir Thanks! Will do\",\"neutral\",0,1],[\"@SouthwestAir @ClinicPolly \\nThank you-- I may have already responded but was 8UXZJ2\",\"neutral\",0,1],[\"@SouthwestAir #DestinationDragons iD is my favorite band and i met my 2bestfriends thanks to them! it would be life changing to see them!\",\"neutral\",0,1],[\"@AmericanAir where do I look for cabin crew vacancies?\",\"neutral\",2,2],[\"@JetBlue all up to date. Can't update via Google play.\",\"neutral\",1,2],[\"@AmericanAir but my friend was told she was able to use her credit with the airline towards one of my flights, then was told she couldn't.\",\"neutral\",4,2],[\"@united Okay, thank you both.\",\"neutral\",3,1],[\"@united it can't be delivered. It has to be held there for me to cross the border to pick up. Please don't try to deliver.\",\"neutral\",5,2],[\"@JetBlue Airline trouble this winter &amp; not getting good customer service? contact http://t.co/aQjn4HwNaC  we negotiate resolutions for You!\",\"neutral\",4,2],[\"@united leisure. Military personnel for safety reason R highly recommended to not travel in uniform\",\"neutral\",5,2],[\"@JetBlue so yesterday a flight I wanted to Chicago was on sale within my points range and today it isn't. Any way you guys can still honor\",\"neutral\",4,2],[\"@USAirways skys r sunny air is cold I can't wait to get to #CLT\",\"neutral\",6,1],[\"@SouthwestAir Already rebooked for tomorrow. Fingers crossed!\",\"neutral\",0,2],[\"@JetBlue try harder. Take a winners attitude to your work.\",\"neutral\",6,2],[\"@USAirways made it.. Never ran so fast in my life\",\"neutral\",5,1],[\"@JetBlue Port-Au-Prince, Haiti for continued food distribution, medical supplies, &amp; orphan care!  #flyingitforward http://t.co/fn2QXybT9K\",\"neutral\",1,1],[\"@JetBlue how can we get help with a hotel we booked with you and are having issues with.\",\"neutral\",4,2],[\"@JetBlue the fact that #ChrisHasMadeUsBLUSH isn't trending is how you know I'm loyal ;)\",\"neutral\",6,1],[\"@AmericanAir Still looking as we speak.\",\"neutral\",2,2],[\"@united all set. Figured it out at the baggage office!\",\"neutral\",1,1],[\"@SouthwestAir understand the weather, these kids need to get home! Nice kids doing volunteer work from a RI high school, please help\",\"neutral\",0,1],[\"@AmericanAir - keeping AA up in the Air! My crew chief cousin Alex Espinosa in DFW! http://t.co/0HXLNvZknP\",\"neutral\",2,1],[\"@united thanks. That means I have 30 minutes to make my international connection to HKG\",\"neutral\",3,1],[\"@JetBlue Gerne :)\",\"neutral\",1,1],[\"@united all day travel. #swag #ijustwanttosleep\",\"neutral\",5,2],[\"@USAirways  I need to email customer service for help and a question, can you please provide the email address?\",\"neutral\",5,2],[\"@SouthwestAir hey southwest! Help me find a flight from Nashville - Washington DC or Raleigh for under $150 on March 15 please!\",\"neutral\",0,2],[\"@united My post was just more of disappointment.  I'm a frequent United flyer, it was a simple ??.  1 bad apple doesn't spoil the bunch.\",\"neutral\",6,2],[\"@JetBlue should I check in my awesome bag on my flight or carry it on... Decisions...\",\"neutral\",1,2],[\"@VirginAmerica Dear Virgin customer, while you're stranded in SF for 3 days &amp; $1000cost- we'll do the very least we can to accommodate you!\",\"neutral\",5,2],[\"@JetBlue No, it's weird!! I picked other cities just to test, those worked...not the one I want. Works on phone though, so I'll use that.\",\"neutral\",4,2],[\"@AmericanAir this receipt doesn't show the evoucher value nor does it mention having used an evoucher\",\"neutral\",2,2],[\"@united can I get on a stand by list from ASE to ORD? I'm the only poor person in Aspen, that's why I'm asking for standby on twitter.\",\"neutral\",5,2],[\"@SouthwestAir I have been on hold for over 28 minutes  please help http://t.co/Fx9BIJlxAt\",\"neutral\",0,2],[\"@SouthwestAir @love_dragonss AHHHH YES LAUREN\",\"neutral\",0,1],[\"@united @staralliance Very nice at LHR, congrats, but I'm sticking with AA/#BA. @AmericanAir @British_Airways\",\"neutral\",6,1],[\"@AmericanAir we're all being told by emergency services to stay home for the next 24-48 hours.\",\"neutral\",5,2],[\"\\u201c@united: @ItsAaronChriz Sorry to hear about your flight. Do you need help reFlight Booking Problems?\\u201d\\n\\n\\ud83d\\udc4e\",\"neutral\",4,2],[\"@SouthwestAir to the rescue. Sundown in Chicago. Next stop San Antonio! http://t.co/rQBpmwETtq\",\"neutral\",0,1],[\"@united Some 3rd party service known as EZEE flights. A man, who confirmed he was born in India, told me his name was Steve Wilson.\",\"neutral\",5,2],[\"@AmericanAir I've tried...its @USAirways anyway\",\"neutral\",2,2],[\".@VirginAmerica If only you guys were starting those flights at the end of the month! Guess I\\u2019m still road tripping on Feb 27\\u2026\",\"neutral\",4,2],[\"@united I have such a love hate relationship with you. Some days you're good, the others you are so terribly awful its saddening\",\"neutral\",6,2],[\"@VirginAmerica Really missed a prime opportunity for Men Without Hats parody, there. https://t.co/mWpG7grEZP\",\"neutral\",5,2],[\"\\u201c@JetBlue: Our fleet's on fleek. http://t.co/BBM6PAbORt\\u201d &lt;&lt;Now THAT is fuckin funny. \\ud83d\\ude02\",\"neutral\",1,2],[\"@JetBlue this feels nice - what we've got going on here. Let's just swap me out with the fool in 5a and we can make it all better.\",\"neutral\",6,1],[\"@AmericanAir We've sent you more info via DM.  I truly hope you resolve this very quickly. #media #filmcrew #cnn #nbc\",\"neutral\",5,2],[\"YO! @InternJohnRadio @mrerickv  give @SouthwestAir their plane back.  They're mad &amp; threatening to take away my Companion Pass. #Luv\",\"neutral\",4,2],[\"@SouthwestAir live in Atlanta but cant enroll in your Atlanta companion promotion. Error every time. Can you help? Also sent email. Thanks!\",\"neutral\",0,2],[\"@JetBlue Just signed up for TrueBlue and booked a flight but keep getting an error when I try to link it to my TB account. What's the deal?\",\"neutral\",4,2],[\"@JetBlue lol the fleet on fleek... i see yall ballin... new jets on deck..\",\"neutral\",1,1],[\"@united you'll be hearing from me for sure.\",\"neutral\",3,2],[\"@united Cancelled Flighting. bought a ticket for a friend but cant get the credit under my name\",\"neutral\",4,2],[\"@united actually we did not consider she might have made a mistake. She did not complain beyond that she indicated it on her reservation.\",\"neutral\",6,2],[\"@AmericanAir thanks!\",\"neutral\",2,1],[\"@JetBlue my mom always said to never settle. If your chips ain't blue, you just won't do.\",\"neutral\",4,2],[\"@united any chance flight 3745 is being delayed??  nervous about driving to DFW in this weather to drop off my brother\",\"neutral\",4,2],[\"@united You please do not burn my dreams !!!  #burningman tickets sales today.\",\"neutral\",5,2],[\"@united Hi guys. I submitted a request for ticket/hotel reimbursement for a delayed/over night stay coming back from the Dominican. Help?\",\"neutral\",5,2],[\"@USAirways that is certainly not the impression she's under.\",\"neutral\",5,2],[\"@AmericanAir basically u right now http://t.co/IN24Bpb7dw\",\"neutral\",2,2],[\"@SouthwestAir Can someone rebook me? Please direct message me.\",\"neutral\",0,2],[\"@AmericanAir the Late Flightst usair4603. Earlier 4591\",\"neutral\",1,2],[\"@AmericanAir just downloaded the app for iPhone.  Notice drink coupon but nothing is displayed?  Getting ready to fly...\",\"neutral\",4,2],[\"@JetBlue  I'm game if you're buying!!  ;)\",\"neutral\",1,1],[\"@united fails again. @SouthwestAir saves the day.\",\"neutral\",0,2],[\"@SouthwestAir 8FKQW is the conf #. Thanks for the reply\",\"neutral\",0,1],[\"@SouthwestAir Is it a temporary site glitch or are you no longer offering flights from GRR to GEG after Feb? Can't find any online :(\",\"neutral\",4,2],[\"@united flight to DFW from IAD Cancelled Flightled for mechanical can I get rental car to MDT-my origin\",\"neutral\",4,2],[\"@SouthwestAir I've never met my favorite band and it would be sooo amazing to win destination dragons.\",\"neutral\",0,1],[\"@JetBlue everyone is overreacting. Keep up your swag!\",\"neutral\",1,2],[\"@united I sent in my feedback.  Thank you.\",\"neutral\",3,1],[\"@VirginAmerica is helping me step up my @Tinder game! #TinderTips #tinderchamp http://t.co/jBmVVha63A\",\"neutral\",5,1],[\"@AmericanAir no not yet. Waiting to be connected to an agent\",\"neutral\",2,2],[\"@united booked award tix on ThaiAirways but I'm not seeing a conf# for them, just the United Flight Booking Problems#. Can you get get the Thai# for me?\",\"neutral\",4,2],[\"@SouthwestAir Barzegar charges tourists 700 euros [!] a night for their stay in the tent village he runs. http://t.co/igSVzvrbbN\",\"neutral\",0,2],[\"@SouthwestAir @love_dragonss LAUREN HoLY SHT\",\"neutral\",0,1],[\"@USAirways it's vegas baby who doesn't have a good time in vegas lol\",\"neutral\",4,2],[\"@JetBlue the you above all commercials? Like the legroom one\",\"neutral\",1,1],[\"@USAirways we even offered to fly in to another airport and they said they couldn't do that. No explanation why they can't.\",\"neutral\",4,2],[\"@JetBlue thanks anyways @SouthwestAir has my back! Awesome rate &amp; amazing customer service #nomoreaggravation\",\"neutral\",0,1],[\"@united thank you!!!!! And next flight to Durango then driving to Farmington New Mexico for work! But hitting the slopes in Durango!\",\"neutral\",6,1],[\"@SouthwestAir Any way you can help with entry to Vegas event? My Boyfriend &amp; I have been @Imaginedragons fans since 2009. They are awesome!\",\"neutral\",0,1],[\"@SouthwestAir question all.  When will I receive my yearly bonus point accumulation? I think it's around now but not sure.  Thanks! :)\",\"neutral\",0,1],[\"@JetBlue I hear you and safety is #1! I think we can get to JFK though now so let's help the pilots, passengers &amp; crew get there safely!\",\"neutral\",6,1],[\"@SouthwestAir aren't you based in Chicago? Why are you doing a hunt in LA and not your home city????!! Please bring one home\",\"neutral\",0,2],[\"@SouthwestAir #Vegas I was there 5 days ago. Miss the  Warm Weather\",\"neutral\",0,2],[\"@SouthwestAir  flying Southwest for the first time to LGA with a layover in Atlanta!\",\"neutral\",0,1],[\"@JetBlue deal!\",\"neutral\",1,1],[\"@united I am going to a service desk now to see what the options are.\",\"neutral\",5,2],[\"@SouthwestAir Thank you. The email about RR pts &amp; how to gain more wasn't clear so all of mine r gone. Anything u can do is appreciated.\",\"neutral\",0,2],[\"@AmericanAir DM sent. Answer me please\",\"neutral\",2,2],[\"@SouthwestAir companion pass please!\",\"neutral\",0,1],[\"@AmericanAir online flight notification is down.\",\"neutral\",4,2],[\"@southwestair TREMENDOUS job. Atlanta Airport saw SW celebrate Mardi Gras. Another reason I'm nuts for you guys! http://t.co/8WBzOrRn3C\",\"neutral\",0,1],[\"@AmericanAir Please help AA 2258 Monday Cancelled Flightled.  Can you advise on reFlight Booking Problems / refund.  Have children and need to make plans now\",\"neutral\",4,2],[\"@united this is for a check-in luggage. Employee told me not to include wheels in the dimensions.\",\"neutral\",5,2],[\"@united Currently on standby to Lax then it is a 2 hour ride to Palm Springs. Long day starting at a snowy 3:30 am in philly.\",\"neutral\",4,2],[\"@USAirways sorry, we are in Philly. Should've told you that.\",\"neutral\",5,2],[\"@VirginAmerica Debbie Baldwin gave a #rockstar performance of the safety demo this evening on VX919 #LAS2SFO #BestCrew #SheRocks\",\"neutral\",5,1],[\"Who did this?!?!\\u201c@JetBlue: Our fleet's on fleek. http://t.co/kHZrCCyp2A\\u201d\",\"neutral\",1,2],[\"@AmericanAir I hear #Delta is offering 2,500 miles to frequent flyers if their bags doesn't come out within 20 minutes of landing thoughts?\",\"neutral\",4,2],[\"@united it's done.  If you do something to make up for it I'll tweet that too.\",\"neutral\",3,1],[\"@SouthwestAir Thank you!\",\"neutral\",0,1],[\"@SouthwestAir I would love to go to the #DestinationDragons @ImagineDragons show tomorrow in Utah at @VelourLive! I've been trying so hard.\",\"neutral\",0,1],[\"@USAirways sure did. I have carried this bag on numerous times on the same style plane. Planning accordingly apparently accounts for nothing\",\"neutral\",6,2],[\"@JetBlue many thanks, as always your employees are professional and courteous. Whenever I have the option, you are my go-to airlines.\",\"neutral\",6,1],[\"@SouthwestAir CEO Gary Kelly, \\\"You all are absolutely my heroes!\\\" #SouthwestRally #BWI #bestemployees #swaculture http://t.co/JTxyHQHfJJ\",\"neutral\",0,1],[\"@USAirways Y'all need to get it together\",\"neutral\",3,2],[\"@JetBlue I would go to Dallas to see my grand baby that I miss so much. I feel like a piece of my heart is there.\",\"neutral\",6,1],[\"@SouthwestAir OMG OMG OMG !!! I JUST DID!!\",\"neutral\",0,1],[\"@USAirways @GregWallace66 Yea, they will give you 5 cents on the dollar!\",\"neutral\",5,2],[\"@AmericanAir Can I use an SWU on an Finnair codeshare of an American operated flight (JFK-MAN)?  Thanks in advance for the help!\",\"neutral\",6,1],[\"@united Just got interrogated at the United Club Chicago. #UnitedAirlines #rude #PoorForm\",\"neutral\",5,2],[\"@USAirways Thank you, although we're using our miles from our card and Flight Booking Problems companion tickets which can only be booked over the phone.\",\"neutral\",6,2],[\"@JetBlue Think about it...boarding to a chill untz untz untz....like this http://t.co/lj2lARivE0...\",\"neutral\",1,2],[\"@SouthwestAir I'm trying to get home to Nashville. I've been stuck in Dallas 2 days will my flight get out in the morning\",\"neutral\",4,2],[\"@USAirways http://t.co/AXRYeIWzh0, vuelo24.es, vuelos24.es sell too cheap MAD-NYC with USAirways. Are they trusted webs or is it a scam?\",\"neutral\",5,2],[\"@united 129 thousand fans of @JedediahBila are asking you to give her your utmost effort to get her a safe flight with her baggage soon!\",\"neutral\",6,2],[\"@AmericanAir  hung up on now many times trying to cal 8004337300 crazy\",\"neutral\",2,2],[\"@united your flights are really cheap what's the catch\",\"neutral\",6,2],[\"@Jetblue I'm so sorry I cheated on you with @Delta @DeltaAssist. Please take me back. I wore protection.\",\"neutral\",6,2],[\"@JetBlue I would like to communicate directly with a \\\"Customer Experience\\\" executive. Does Joanna Geraghty have an email address?\",\"negative\",1,0],[\"@united Would be helpful if you could refresh boarding time info on boarding passes for delayed flights\",\"negative\",5,0],[\"@JetBlue 117 days maybe.\",\"negative\",1,0],[\"@AmericanAir work would be much better with my lesson plans and music for my classes today.\",\"negative\",2,0],[\"@JetBlue I'll give u a chance but I don't think I'll fall for it #backtodelta\",\"negative\",1,0],[\"@SouthwestAir would be great if I atleast was next to my husband who is flying in the same reservation\",\"negative\",0,0],[\"@SouthwestAir same here. Would appreciate a follow so I can DM my info to figure out what I am supposed to do.\",\"negative\",0,0],[\"@united Case ID 8544484\",\"negative\",5,0],[\"@AmericanAir having trouble Flight Booking Problems a seat on US84 11 March, operated by AA. Neither airline's website will allow seat selection?\",\"negative\",4,0],[\"@AmericanAir Thanks - I note some, but not all, flights are Cancelled Flightled - are only some aircraft/runways working out of DFW today/tomorrow?\",\"negative\",1,0],[\"@SouthwestAir flight # 317\",\"negative\",0,0],[\"@SouthwestAir discount for three delays?\",\"negative\",0,0],[\"@united Your ERI-ORD express connections are hugely popular .. now if only we could have an ERI-EWR hop! :)\",\"negative\",3,1],[\"@AmericanAir Hello, question, How many balloons do you think it will take to life up one of your planes?\",\"negative\",1,0],[\"Well lets see.  You could pay for my Negroni with bitcoin. @JetBlue\",\"negative\",1,0],[\"@AmericanAir flight was 2488 out of EWR STOP AT DALLAS THEN TO LA. I need to be in la tonight!\",\"negative\",1,0],[\"@AmericanAir Hey AA, a suggestion: Note on your seat maps what seats have electronics box blocking legroom. AA215 http://t.co/hcNN0wXQQr\",\"negative\",2,0],[\"@USAirways I love how just to give feedback to this link I have to fill out all my personal info on a form.  You guys are the best :)\",\"negative\",6,1],[\"@JetBlue @philpete wonder if that's the pilot tweeting you back? Is it legal to tweet and fly? What if the plane in front stops suddenly?\",\"negative\",1,0],[\"@united I'm asking if you can simplify the communications- thx\",\"negative\",3,0],[\"@united Donna and Juan still the best in the United Club_ too bad UAL does not get it\",\"negative\",6,1],[\"@SouthwestAir hooking us up and getting us to Tampa after our flight was Cancelled Flightled this morning #grateful #businesstrip\",\"negative\",0,1],[\"@SouthwestAir can i have my bags back   ding!!\",\"negative\",0,0],[\"@USAirways I do to as I have an afternoon Conference in Las Vegas and I would rather plan ahead than run thru the airport and then attempt\",\"negative\",4,0],[\"@JetBlue does transferring trueblue points within family pooling members cost $? This is after having set up contribution-to-pool already.\",\"negative\",1,0],[\"@SouthwestAir my rating for Southwest -9 on s scale of 1 to 10\",\"negative\",0,0],[\"@united Anyone there? Did you read my DM?\",\"negative\",3,0],[\"@united I think DM would be better\",\"negative\",3,0],[\"@AmericanAir for tomorrow some sites show flight 1642 from ewr Cancelled Flightled, is it?\",\"negative\",4,0],[\"@AmericanAir how do I see your report team?\",\"negative\",2,0],[\"@JetBlue Good perspective. If only this safety concern had been expressed at some point before I arrived at the airport. #communicationiskey\",\"negative\",6,1],[\"@SouthwestAir I'm in line at the airport right now. Will you cover hotel fair or am I to sleep in the airport?\",\"negative\",0,0],[\"@USAirways transferred 4x pleeeeeeeease help!\",\"negative\",5,0],[\"@SouthwestAir y airline I fly with, but haven't seen anything like this yet!\",\"negative\",0,0],[\"@united my plane sounds like  a DJ  scratching is this normal? If so, will this eventually be a new entertainment fee.\",\"negative\",6,0],[\"@SouthwestAir wifi stays connected about the lifetime of a higgs boson\",\"negative\",0,0],[\"@AmericanAir on Feb. 15th your rep gave me the record locator and told me I'd be receiving an email with the itinerary and confirmation.\",\"negative\",2,0],[\"@united thank you for the reply. I emailed your customer care department about my experience.\",\"negative\",3,1],[\"@AmericanAir well done, you have taken the fun out of air travel @PHLAirport\",\"negative\",6,1],[\"@united let me assure you my travel time is 4h2m not 5h2m #timezones #accuratetraveltimes #3rdtimethishashappened http://t.co/e0C9bI09cf\",\"negative\",5,0],[\"@USAirways I don't think I've ever had a us airways flight that went smoothly.\",\"negative\",4,1],[\"@united Thank you. Yes, I was hoping to speak with someone directly, but appreciate the link nonetheless. :)\",\"negative\",3,1],[\"@JetBlue flight was two days ago. Flight 1918 from POS.\",\"negative\",1,0],[\"@JetBlue  hmmm it says im following you. We just got de-iced, but still haning around for the runway to clear..\",\"negative\",1,0],[\"\\u201c@united: @RobCNYC See information on our boarding process: http://t.co/gBIw9ugFNm ^KP\\u201d. I get group 1&amp;2. Just no reason on 3/5.\",\"negative\",5,0],[\"@JetBlue after boarding flight 0510, the captain informs that he could exceed the16 hrs regulation and turned the plane around. Incredible!\",\"negative\",1,1],[\"@united what if business as usual meant dropping the bully mentality and fostering inspiration for a greater business #EmployeeRelations\",\"negative\",6,0],[\"@united when I read it say ' in some cases' can you please define this for me, when for example would it not be the case?\",\"negative\",5,0],[\"@JetBlue \\nApparently not.\",\"negative\",1,0],[\"@USAirways Already tried. How about Conf # via DM\",\"negative\",5,0],[\"@USAirways booked an award ticket recently, now same ticket is less miles. how do I contact you without using the online form or phone?\",\"negative\",5,0],[\"@USAirways comin in clutch and sending me to Charlotte then home, I h8 u @AmericanAir, except for Wayne u a real g #ThankJesus #ThankMe\",\"negative\",5,1],[\"@USAirways are the bags off Flight 1898 CLT to JFK? We landed last night just before midnight.\",\"negative\",4,0],[\"@JetBlue where is the \\\"award winning service\\\"?\",\"negative\",1,0],[\"@JetBlue just called that number and left message. Are you at to pass along message to team too?\",\"negative\",1,0],[\"@usairways  US1799 CLT-&gt;SFO in first no desert, no snack basket. Incoming was on time ? What\\u2019s up?\",\"negative\",5,0],[\"@USAirways your saving grace was our flight attendant Dallas who was amazing. wish he would transfer to Delta where I would see him again\",\"negative\",6,1],[\"@VirginAmerica you're the best!! Whenever I (begrudgingly) use any other airline I'm delayed and Late Flight :(\",\"negative\",4,1],[\"@united \\u2026 But friendly efficient air attendants in coach #UA992 http://t.co/49pV3KcHNR\",\"negative\",6,1],[\"@JetBlue where exactly can I leave a note\",\"negative\",1,0],[\"@SouthwestAir it'd be nice if I could get an answer, even a simple \\\"no\\\" would do; I just want to know. :)\",\"negative\",0,0],[\"Sir. RT @JetBlue: Our fleet's on fleek. http://t.co/F5IXyw8XyB\",\"negative\",1,0],[\"@SouthwestAir is main supporter of play where Jesus is portrayed as homosexual partner of Judas and who performs a \\u201cgay wedding\\u201d #boycott\",\"negative\",5,0],[\"@SouthwestAir I left my iPad on my flight 1831 from ERW to DEN. I opened claim 442998. It has so many memories on it. Plz help get it back.\",\"negative\",4,0],[\"@united yes, after landing at 930pm last night. Spoke to 10 baggage claim customer service reps. Finally spoke to one amazing ticket agent.\",\"negative\",6,1],[\"See what you started now @nytimes RT @JetBlue: Our fleet's on fleek. http://t.co/atd2Sm8HF4\",\"negative\",1,0],[\"@JetBlue is JFK still closed? Tryna get out of Ft Lauderdale on flight 502, just want to get home to nyc!\",\"negative\",4,0],[\"@USairways E190 lands without nose gear in Houston - @Flightglobal http://t.co/Yf9NhMwyFF\",\"negative\",1,0],[\"@USAirways How do I get through?\",\"negative\",5,0],[\"@SouthwestAir  Glad to see you know how to keep the money in your own pockets. 'Thanks' for the voucher in return for lost bag.\",\"negative\",6,1],[\"@united I would like your baggage damage number as well! Another great thing from your 'trained' staff! Whats the number please.. Claim time\",\"negative\",6,1],[\"@AmericanAir first the pilot, then the catering...\",\"negative\",1,0],[\"@AmericanAir Weather was not involved.\",\"negative\",2,0],[\"@SouthwestAir When will your phone agents be able to give the correct departure times for CUN? When can we checkin online for international?\",\"negative\",0,0],[\"@AmericanAir  when do you anticipate decisions for Cancelled Flightlations at DFW tomorrow morning? Need to rearrange hotel reservations, etc. ASAP!\",\"negative\",4,0],[\"Jet BOOOO \\ud83c\\udf45\\ud83c\\udf45\\ud83c\\udf45\\ud83c\\udf45 RT @JetBlue: Our fleet's on fleek. http://t.co/0WbJAWx7xD\",\"negative\",1,0],[\"@USAirways lol thanks to you we had to switch to American http://t.co/Sl6BDRXfN8\",\"negative\",5,1],[\"@SouthwestAir you do a great job of achieving that at most cities, just not at BWI.\",\"negative\",0,1],[\"@USAirways @united really know how to leave someone stranded after a funeral. Props to you guys. Really making this the perfect Monday.\",\"negative\",6,1],[\"@united GRK13575M is the file reference\",\"negative\",5,0],[\"@JetBlue walked from the gate to the just ask desk by gate 1 http://t.co/p6ucbVlv5E\",\"negative\",1,0],[\"@USAirways not too impressed with your airlines but I would feel a lot better flying with if you upgraded me up to first class tomorrow\",\"negative\",6,1],[\"Stop the madness \\\"@JetBlue: Our fleet's on fleek. http://t.co/Q5a7jtkI5K\\u201d\",\"negative\",1,0],[\"@united thank you for leaving my bag in houston! despite what your system says, i was definitely on the flight!\",\"negative\",6,1],[\"@USAirways right, can you use a shuttle ticket from LGA to BOS for any shuttle flight? Probably gonna miss the 4pm.\",\"negative\",4,0],[\"@JetBlue It's not ideal, but it's okay. Better Late Flight than never! :)\",\"negative\",6,1],[\"@united feck guys. Stop Cancelled Flightling flights from EWR to RIC the weather is fine I both locations!!!\",\"negative\",6,1],[\"@SouthwestAir how it feels on flight 4251 http://t.co/JM8gQ1KGrF\",\"negative\",0,0],[\"@united is probably the least satisfactory airline I've ever been on. Never fails to disappoint.\",\"negative\",6,1],[\"@VirginAmerica soooo are you guys going to leave the seatbelt light on all flight? You can barely call this turbulence :-)\",\"negative\",4,0],[\"@SouthwestAir thx but I'll be expecting a credit for this leg.\",\"negative\",0,0],[\"@united I can't tell/purchase through the website because they put us on a Lufthansa flight for the first leg.\",\"negative\",4,0],[\"@united The bright side would be keeping the promise that was made to me. Hope you're having a good night. Thanks.\",\"negative\",3,1],[\"@united #Newarkliberty Airport need to indicate different gate#'s for terminals A&amp;C. #Flyingainteasy\",\"negative\",1,0],[\"@SouthwestAir Hello remaining credits on your account will be refunded back to your credit card, when you choose a lower price flight?\",\"negative\",0,0],[\"@United the internet is a great thing.  I am emailing executives in your company, maybe they will respond to me in a timely manner.\",\"negative\",6,1],[\"@JetBlue your gif game is strong.\",\"negative\",1,1],[\"@JetBlue ticket issued whilst delivering your customers.\",\"negative\",1,0],[\"@USAirways No thank you. @AmericanAir was responsive &amp; I found alternate travel home.\",\"negative\",2,1],[\"@usairways Ok thank you\\u2026I call from Spain to US for seating assistance!\",\"negative\",6,1],[\"@JetBlue thank you! Hopefully it's soon! We are supposed to leave at 11:23\",\"negative\",1,1],[\"@USAirways do families no longer get early boarding with young kids?  American, your new parent, gives it to us...\",\"negative\",5,0],[\"@united Can you transfer my bags too?\",\"negative\",5,0],[\"@SouthwestAir @LeeAnnHealey I was all, yeah sale fares! I got places to fly! Oh damn, right, I live where SWA doesn't fly. #why\",\"negative\",0,0],[\"@VirginAmerica When will VX use all 6 LGA slots instead of 4 today? Adding AUS makes this less likely :(\",\"negative\",5,0],[\"@SouthwestAir could I get a phone call from a customer service rep to get the issue resolved?\",\"negative\",0,0],[\"@united We're hoping to hear from you actually.\",\"negative\",3,0],[\"@united this is in ur Hemispheres magazine. I'm open to what will u do to make the \\\"flight more pleasant.\\\" http://t.co/VrQDpqEPFW\",\"negative\",1,0],[\"@united it will be on a different airline.\",\"negative\",4,0],[\"@united send someone to the customer service counter in person. DIA concourse B across from gate B36a.\",\"negative\",5,0],[\"@SouthwestAir do these scavenger hunt  locations have anything in common because I'm playing detective trying to figure out the one for ATL.\",\"negative\",0,0],[\"@VirginAmerica I requested a mileage challenge for status several weeks ago online but haven't heard back. How do I get help with this?\",\"negative\",5,0],[\"@USAirways Just to follow up here is my experience: http://t.co/WJIiGZtiwg\",\"negative\",5,0],[\"@SouthwestAir I would die if I got tickets to #DestinationDragons and you would be invited to my funeral\",\"negative\",0,0],[\"@AmericanAir The wine served in USAirways flights are watered down somehow right out of the bottles.\",\"negative\",6,1],[\"@usairways if you could change your name to @southwestair and do what they do...that'd be awesome. Also this plane smells like onion rings.\",\"negative\",0,1],[\"@united thanks for updating me about the 1+ hour delay the exact second I got to ATL. \\ud83d\\ude45\\ud83d\\ude45\\ud83d\\ude45\",\"positive\",5,2],[\"@united all goods, I'll call tomorrow, thanks.\",\"positive\",3,0],[\"@JetBlue it's been a while since I've angry tweeted an airline. Apparently you read my mind before I could bitch. Thank you for the credit.\",\"positive\",6,2],[\"@SouthwestAir Luvin me some flights today!! Don't change!!  And please add Paypal as payment option!!!\",\"positive\",0,0],[\"@united private jet would have been cool! Do does not work. I'll try again\",\"positive\",4,2],[\"@VirginAmerica For my Grandma Ella's 80th, she would &lt;3 a bday greeting from your flight crew! She was a stewardess for Eastern Airlines.\",\"positive\",4,0],[\"@JetBlue if I had my tux, it'd be a date! #UMosaicMeCrazy http://t.co/hap4gboSTU\",\"positive\",1,0],[\"@virginamerica Well, I didn't\\u2026but NOW I DO! :-D\",\"positive\",5,0],[\"@united On the plane but thanks! Maybe don't let so many people check in by themselves - teeming with morons.\",\"positive\",6,2],[\"@USAirways - Huge props to Parizad at checkin in Sacramento for her help on Friday to get 3 of us home when other airlines were delayed\",\"positive\",4,2],[\"@united thank you. Been trying for two days to set this up.\",\"positive\",3,2],[\"@united :take note of this great example of @JetBlue actually making good for an extremely inconvenient situation. http://t.co/t3Gnk2N7LD\",\"positive\",1,2],[\"@AmericanAir Thanks gang! Mind if I ask, do you handle all of your Social Media in house?\",\"positive\",2,0],[\"@JetBlue heading to Buffalo... trading the cold in Boston for colder in Buffalo... Maybe the Caribbean next time?\",\"positive\",1,0],[\"@united stay warm - I will be passing through Chicago next week\",\"positive\",2,0],[\"@JetBlue Thanks for taking me back home today despite Pandora's best efforts to Cancelled Flight the flight. #jetblue #backhome #noplacelikehome\",\"positive\",4,2],[\"Why \\u201c@JetBlue: Our fleet's on fleek. http://t.co/a7NvbJ8ipx\\u201d\",\"positive\",1,0],[\"@united But thanks for asking\",\"positive\",3,0],[\"@SouthwestAir save mile to visit family in 2015 and this will impact how many times I can see my mother.  I planned and you change the rules\",\"positive\",4,2],[\"Stop. Please. RT @JetBlue: Our fleet's on fleek. http://t.co/EUl6sDURbU\",\"positive\",1,2],[\"@JetBlue to offer service from Daytona Beach to New York - Albany Business Review http://t.co/dUhBJ41jHx\",\"positive\",1,0],[\"@AmericanAir  thanks hoping that by wed I can get back to DFW\",\"positive\",2,0],[\"@AmericanAir I was happy to purchase the upgrade. If only it was avail on my next flight.\",\"positive\",6,2],[\"@AmericanAir would also like say kind move on adding the points !\",\"positive\",2,0],[\"@united Club in Denver is dope \\ud83d\\udc4c\",\"positive\",3,0],[\"@USAirways #tbt every day.\",\"positive\",5,2],[\"@united be  \\\"Chicago's hometown airline\\\" care about your neighbors #SaveTheDiagonals #FlyQuiet #ORDNoise\",\"positive\",6,0],[\"@JetBlue things happen it's ok just wish I was on the beach and not in the airport\",\"positive\",6,0],[\"@JetBlue totally would have.... but the outside view was even more camera ready haha #EvenMoreSpace #EvenMoreView http://t.co/dXuX6DBfd3\",\"positive\",1,2],[\"@SouthwestAir thanks do yall expect to be operational tomorrow out of Nashville?\",\"positive\",0,0],[\"@united yes, Thx! At 10:35 (landed at 9:20).\",\"positive\",3,0],[\"@JetBlue flight to Orlando is unable to serve hot bevies.... So they've made movies and alcohol complimentary. That works\",\"positive\",6,2],[\"@SouthwestAir me &amp; @sammi_jon3s are best friends because of @Imaginedragons. Any chance we could get tickets to #DestinationDragons ?\",\"positive\",0,0],[\"@united thanks for not getting my BusinessFirst priority tagged bag onto my connecting flight at EWR despite a 2+ hour layover. Nice job\",\"positive\",6,2],[\"@VirginAmerica I luv ur people and product! 1 thing is y do u charge for herbal tea but not black tea? I'm not a caffeine drinker\",\"positive\",5,0],[\"@USAirways @AmericanAir Can you bring guinea pigs in small pet carrier onboard your flights?\",\"positive\",5,0],[\"@AmericanAir thanks for the recommendation. We've been sitting here for 45 minutes, last update was 35 min ago.\",\"positive\",2,2],[\"@USAirways TYVM USAir, Happy Night@ &lt;3\",\"positive\",5,0],[\"@USAirways customer service at its finest\",\"positive\",6,2],[\"@united Sure did! Only waited about 15min. Yay!\",\"positive\",5,2],[\"@JetBlue sooo earlier i said i couldnt fly with you for my school trip but now i can! \\ud83d\\ude0f\",\"positive\",4,0],[\"@united kudos for not Cancelled Flightling flights from DFW this morning.   United usually first to panic...\",\"positive\",4,2],[\"@SouthwestAir beyond ready\",\"positive\",0,0],[\"@united Thanks for explanation. It seems like an odd incentive structure, tho, because it dramatically diminishes the value of the certs.\",\"positive\",6,2],[\"@united After an hour+ wait, my issue is resolved. I did contact customer service to comment on the wait time. Thanks for contacting me.\",\"positive\",6,2],[\"@AmericanAir @USAirways Statement wasn't sent yesterday like Jeanine said. After I even called last night as well. Again, excellent service\",\"positive\",5,2],[\"@USAirways we haven't departed yet so let's not get too high hopes.  But everything has been on schedule so far\",\"positive\",5,2],[\"@united thx off the response, finally got through the 45 min wait and talked to someone.\",\"positive\",5,2],[\"What can I say other than when it comes to my #BrandLoveAffair w/ @jetblue ur my #soulandinspiration https://t.co/IGkoGyWksr #umosaicmecrazy\",\"positive\",1,0],[\"@united that would help! or how about integrate it into the App so I can just \\\"activate\\\" it and surf...\",\"positive\",3,0],[\"\\u201c@JetBlue: Our fleet's on fleek. http://t.co/3kVkd8yRxa\\u201d + lol wow\",\"positive\",1,0],[\"@USAirways sitting on a plane in Philadelphia for over 20 minutes waiting just to get off the plane. Great service!\",\"positive\",4,2],[\"@united will do. Just need to get CVG.... and my bag too. Thanks\",\"positive\",3,0],[\"@USAirways thanks.  If you have another method also that would be nice.  Appears to be a design flaw\",\"positive\",6,0],[\"@SouthwestAir can i get tiks for #DestinationDragons omg id love to! Plz \\ud83d\\ude31\\u2764\\ufe0fim dying\",\"positive\",0,0],[\"@JetBlue is amazing. Had a short delay. They gave me $150 credit! It was literally pretty much my fault I missed the flight.\",\"positive\",6,2],[\"@united landing in anchorage, then on our way to fairbanks! http://t.co/FjkvQMbmaS\",\"positive\",1,0],[\"@united all good man it isn't your fault that plane is having maintenance issues\",\"positive\",6,2],[\"@united Resolved. Over hour of work on  ground &amp; somehow the system reset itself during takeoff. I appreciate the quick response/service.\",\"positive\",6,2],[\"@united this is why I fly @SouthwestAir ... Never have any issues\",\"positive\",0,2],[\"LMAO \\u201c@JetBlue: Our fleet's on fleek. http://t.co/aIyC9WV5oq\\u201d\",\"positive\",1,0],[\"@VirginAmerica just promoting the product is all, had a problem with southwest and recommend noneother than the best! http://t.co/tFaNXBh1Cf\",\"positive\",0,2],[\"@united The DEN b44 agent (9:30am) was amazing. The MPAgent at check in? She sucks. @seanMFmadden @PeterStraubMMA @jmercadoMMA @TonySimsMMA\",\"positive\",5,2],[\"@JetBlue my email is my twitter handle followed by gmail \\u263a\\ud83d\\udc4d\\ud83d\\udc4d\",\"positive\",1,0],[\"@United, will you fill it? Yes they will. Thanks! #BringYourOwn, @kleankanteen http://t.co/daaa0rqBXW\",\"positive\",3,0],[\"@SouthwestAir so excited about our last minute trip to @Disneyland (and she doesn't know yet!) http://t.co/nKAFbjyARi\",\"positive\",0,0],[\"@USairways Since I am a loyal USAir customer I am sure that they will make this up to me-right now I want to get home &amp; back to work.\",\"positive\",6,2],[\"@AmericanAir oh it's nothing my issue was already resolved and I am in the air\",\"positive\",2,2],[\"@AmericanAir ...have you seen Blue? Go look it up :)\",\"positive\",2,0],[\"@JetBlue Thanks. Still booked our trip 3/13-17 LB to SLC to see grand kids.  Just very frustrating. Tried app, web, etc. Still love u guys!\",\"positive\",6,2],[\"@SouthwestAir I will do just about anything tO GO TO THE VEGAS SHOW PLEASE MAN\",\"positive\",0,0],[\"@AmericanAir None of the #LAX flights into #DFW have been Cancelled Flightled. Those landing before and after ours are fine. Completely arbitrary.\",\"positive\",6,2],[\"@united so is that two seats avail so far for us.\",\"positive\",3,2],[\"@AmericanAir shoutout to the agent on duty now @ Gate B1 #ABQ / outstanding customer service w delayed FLT 336 http://t.co/OoEJ4d4JoP\",\"positive\",5,2],[\"@united 441, which also had 1 working WC in coach. Good thing this bird landed ahead of schedule. I have to use the WC stat.\",\"positive\",6,2],[\"@USAirways we will...sunday! Just a few days away\",\"positive\",5,0],[\"@VirginAmerica you will match my #AmericanAirlines status? Cool!\",\"positive\",2,0],[\"@USAirways thx 4 replying. After trying 2 get thru many times, &amp; v-mail or people hanging up on, us we talked 2 tech...cont'd\",\"positive\",5,2],[\"@USAirways over the phone. I called the 6170 number and she picked up almost immediately.\",\"positive\",5,0],[\"@USAirways - Janet &amp; my DEN-PHL  flight Cancelled Flightled Saturday, USAIR rescheduled automatically &amp; notified us by email at no additional cost.\",\"positive\",4,2],[\"@united That made me so mad, but then I called the bag number, and that person was helpful and told me where the bag really was. (2/2)\",\"positive\",5,2],[\"@AmericanAir @RobertDwyer AA doesnt charge any fees to change award tickets as long as the origin, destination &amp; award type remains the same\",\"positive\",2,0],[\"@JetBlue keep going back and forth with being able to board and then not. But great agents in savannah!\",\"positive\",1,2],[\"@JetBlue TA off site at #thelodge. Should be a fun day. @YeniettElswood @AndrewBiga @CodyCleverly @HeidiMacey @motherpollock\",\"positive\",1,2],[\"@SouthwestAir Oh no worries NL, no disappointments here. Better to have NO lounges than like #Delta who has them but does disappoint!\",\"positive\",6,2],[\"@JetBlue A320 pulling into the gate as the sunrises here at @BostonLogan this morning #jetbluesofly #jetblue #airbus http://t.co/JGdu5us8Dz\",\"positive\",1,0],[\"@SouthwestAir Can a pair of tickets waiting for me after my sports practice? I live here and definitely know where that is! @Imaginedragons\",\"positive\",0,0],[\"@united I will. Thanks.\",\"positive\",3,0],[\"@USAirways But good luck getting there! Not cool.\",\"neutral\",6,2],[\"@USAirways ah, and I was only given one shuttle voucher, so if I do ever get back to the airport you'll be getting the bill\",\"neutral\",4,2],[\"@USAirways thanks! Any idea when it will be resolved? I'd like to purchase my ticket!\",\"neutral\",5,1],[\"@united it sucks not having the money to book a flight to see the love of my life. 2600 miles away.\",\"neutral\",4,2],[\"@united any last minute flight deals for your cute little #frequentflyer ??? :)))) my Friday flight was Cancelled Flightled!!\",\"neutral\",4,1],[\"@USAirways I'm referring to email like this.  Just tell people when they GET the upgrade. Otherwise, we know already. http://t.co/N8UvCLMADA\",\"neutral\",5,2],[\"@JetBlue thanks bae\",\"neutral\",1,1],[\"@united hi -- @united was. Thank you!\",\"neutral\",3,1],[\"@SouthwestAir still haven't been able to get through, thanks for responding\",\"neutral\",0,2],[\"@JetBlue Thanks.\",\"neutral\",1,1],[\"@United just played the Most bizarre \\\"safety\\\" video I've ever seen... http://t.co/Hlm2Oks6xl\",\"neutral\",5,1],[\"@SouthwestAir just did, thank you\",\"neutral\",0,1],[\"@SouthwestAir heard you are saving 30k a year on fuel not carrying around those skymall's #ripskymall\",\"neutral\",0,2],[\"@JetBlue you just tight that you're #59 on the world's best airlines list &amp; @VirginAtlantic is ranked higher! @VirginAtlantic here I come!\",\"neutral\",1,1],[\"@USAirways but i bougth mc caren to jfk with same agency and delta airways . Delta refund money but usairways doesnt accept to refund\",\"neutral\",4,2],[\"@united No, not received any e-mails in either Inbox or junk/spam\",\"neutral\",5,2],[\"@JetBlue really caring??\",\"neutral\",1,1],[\"@SouthwestAir You guys must have been swamped, even took our corporate travel a long time to get in, but everything worked out in the end.\",\"neutral\",6,1],[\"@VirginAmerica BIG Love/gratitude.mpower w/ http://t.co/1AGR9knCpf weRin #OSCARS2105 VIPswagbags@ #AvalonHollywood http://t.co/ybMbGs0dHn\",\"neutral\",6,1],[\"@united Thanks. UA1121, DEN, 40 min on tarmac.\",\"neutral\",1,2],[\"@AmericanAir the dinner and called me \\\"hon\\\". Not the service I would expect from 1st class.  #disappointed\",\"neutral\",2,2],[\"@united I did. they told us the wrong carousel number.\",\"neutral\",5,2],[\"@AmericanAir Thanks for doing that but now it's telling me to go to the airport and check in with an agent-what's up? http://t.co/PfseNJk5Pw\",\"neutral\",4,2],[\"@AmericanAir Why did  AA973 return to JFK? Thanks :)\",\"neutral\",2,1],[\"@AmericanAir my flight to DFW from LIT on my way to PDX tomorrow was Cancelled Flighted. Can you help me?\",\"neutral\",4,2],[\"@jetblue that's cause we're TrueBlue! It's ur #love that keeps liftin' me #higherandhigher https://t.co/xGfS6tJTMo http://t.co/ixM3t5mIZc\",\"neutral\",1,1],[\"@AmericanAir I can't get ahold of aadvantage reservations.  I need to ticket a reservation that Cancelled Flights soon.  can you help?\",\"neutral\",4,2],[\"@JetBlue I sure hope you guys get me to DC to speak tomorrow! &amp; @JohnNosta &amp; @United: I'm winning here with @JetBlue\",\"neutral\",6,1],[\"@united on the plane. I was thoughtful enough to ask for it and got it; there are prob others that also deserved it\",\"neutral\",6,1],[\"@AmericanAir I don't think you should help him at all based on his behavior. The voucher and cot seem like enough lol \\ud83d\\ude03\",\"neutral\",5,1],[\"@united thanks\",\"neutral\",3,1],[\"@united I take it as a compliment that I was mistaken several times as a member of your staff on my flight... time to remove my scarf :)\",\"neutral\",6,1],[\"@united got it, look forward to hearing from you soon\",\"neutral\",3,1],[\"@JetBlue That's pretty nice. Are flight credits automatically given after the flight? I also wish there were a lounge I could sleep in.\",\"neutral\",6,1],[\"@SouthwestAir once again on Glassdoor's Best Places To Work snagging # 15 overall #notsurprising #LUVthem\",\"neutral\",0,2],[\"@united they had snacks available, just no fresh food...not sure what happened, but I'm sure we will grab a bite before our SFO connection\",\"neutral\",5,2],[\"@United why not charge for 2nd carryon instead of checked bag? Less jockeying for overhead space, happier passengers, more ontime departures\",\"neutral\",6,2],[\"@united I'm aware, I fly a lot :) Just sad I had to change my shoes (boots), ha! #HappyFlight\",\"neutral\",6,1],[\"@united I looked on the email chain and there is not one\",\"neutral\",5,2],[\"@united that's what I thought! Thanks for the clarification!\",\"neutral\",3,1],[\"See you in ATL! \\u201c@SouthwestAir: Congrats to our #DestinationDragons winners! Ready, Atlanta? http://t.co/AY1GIdcfa4 http://t.co/yC7V2s0iOd\\u201d\",\"neutral\",0,1],[\"@JetBlue thanks! I only loose 'em at airports...1st time we found it. I think @fitbit needs to make flexes that stay on when carrying bags!\",\"neutral\",6,1],[\"@JetBlue sure thing!\",\"neutral\",1,1],[\"@SouthwestAir I understand. Wonderful \\\"Miriam\\\" in customer service who was able to reroute me... Got any rental car discounts?\",\"neutral\",0,1],[\"@USAirways Don't want to clog your already-crowded line with a special meal request. Can someone DM me to sort out? #vegetarianproblems :)\",\"neutral\",5,2],[\"@AmericanAir And gold status too.\",\"neutral\",2,1],[\"@AmericanAir Considering it was past midnight, I hung up and called again to receive another service call.\",\"neutral\",2,2],[\".@JetBlue That's what I planned on but Boston traffic due to recent weather was insane! If I had been expedited I would have made it.\",\"neutral\",4,2],[\"@SouthwestAir thank you for the response. How can I got about getting the points onto my rewards account?\",\"neutral\",0,1],[\"@SouthwestAir @Imaginedragons please help me and my best friend get tickets to #DestinationDragons we have so much to thank them for....\",\"neutral\",0,1],[\"@USAirways never received such horrible service or treated so poorly as Richard P. today. No excuse for attitude &amp; ripping up our tickets!\",\"neutral\",5,2],[\"@SouthwestAir seems like you could make more money by opening up seats on a more desirable flight.\",\"neutral\",0,2],[\"@JetBlue I know where you guys jet! LOL, but if you love me so much, help a brother out :) Hot weather, great nightlife, 2-3 hour flight\",\"neutral\",6,1],[\"@united please update what is going to happen to passengers now that flt ua14 has been Cancelled Flightled\",\"neutral\",4,2],[\"@AmericanAir no. Prebook flight for wife's 40th bday in NO. I recently have had surgery and can't travel. Won't let another go in my place\",\"neutral\",4,2],[\"@AmericanAir at LAX &amp; just got off the phone w/reservations. Every flight that'd get me to BOS before 11 am tmrw is apparently unavailable \\ud83d\\ude10\",\"neutral\",4,2],[\"@USAirways No, this is a systemic problem. Mail comes from 153.69.214.203 but USAirways SPF record disallows it. DM me for more detail\",\"neutral\",5,2],[\"@VirginAmerica momma I made it! \\ud83d\\ude01\\ud83d\\ude01\\ud83d\\ude01\",\"neutral\",5,1],[\"@SouthwestAir Today is going to be the day, I can feel it!  Thank y'all for your support throughout! We're coming home Nashville! #Octavia\",\"neutral\",0,1],[\"@USAirways &amp; @AmericanAir: 1 flight Cancelled Flightled yesterday and now a delay today has robbed my daughter of 2 days with her grandparents. Thanks\",\"neutral\",4,2],[\"@JetBlue of course I am!!\\u2708\\ufe0f\",\"neutral\",1,1],[\"@AmericanAir  They said it works 80-90% of the time, DFW security entrance C26. Before/after pre-check, whereas I paid for the service.\",\"neutral\",5,2],[\"@united Will do! Thanks!\",\"neutral\",3,1],[\"@JetBlue that selfie was extreme.\",\"neutral\",1,2],[\"@SouthwestAir thanks!!\",\"neutral\",0,1],[\"@VirginAmerica has getaway deals through May, from $59 one-way. Lots of cool cities http://t.co/QDlJHslOI5 #CheapFlights #FareCompare\",\"neutral\",6,1],[\"@AmericanAir my flight got Cancelled Flightled from GRK to DFW, then to LEX for tomorrow and I need it rebooked.\",\"neutral\",4,2],[\"@AmericanAir u r horrible.went online to Cancelled Flight flight-no button-4that.Called CS &amp;wait time 40 mins&amp;put in my #.800#called&amp;it hungupNOHELP\",\"neutral\",4,2],[\"@united What happens on 9:11 a.m. of 9/11 2spooky 4me m8 such spook much scare\",\"neutral\",5,2],[\"@JetBlue I'm looking every day just watching for a deal. I have specific dates so fare finder doesn't help me\",\"neutral\",4,2],[\"@SouthwestAir Thanks I just sent a DM with this info.\",\"neutral\",0,1],[\"@USAirways \\\"Airport snow removal method #22...\\\"\\nKeep up the good work folks, this is where Cessna's become 747's! http://t.co/0JJT4X3YxG\",\"neutral\",1,1],[\"@SouthwestAir why must the 4:45pm nonstop BOS-BNA flight stop running after August 7???\",\"neutral\",4,2],[\"@united Our vacation's going to be ruined w/ 3 days of rain. : ( The change fee for 2 of us is nearly cost of original flight. Can you help?\",\"neutral\",4,2],[\"@SouthwestAir I was under the impression when there is an 8 hour delay in your flight because of equipment failure, compensation is offered?\",\"neutral\",0,2],[\"@USAirways is there any way that you could hold flight 628 in CLT my husband is stuck in the security check line. flight scheduled for 1PM\",\"neutral\",4,2],[\"@SouthwestAir booked our flights this morning. Can't wait to move about the country.\",\"neutral\",0,1],[\"@SouthwestAir 20 passengers on this plane. I should've just grabbed my baggage and gave it its own seat.\",\"neutral\",4,2],[\"@SouthwestAir PLEASE HELP! I would die to see the Vegas show! It would be amazing to hear their songs for real!\",\"neutral\",0,1],[\"@JetBlue I understand delays.  We are all looking at a tv monitor at ur gate and it says current conditions are snow, hence delay.\",\"neutral\",4,2],[\"@united why are there no early morning flights from HNL to anywhere in the continental US? Example- Monday 4/20. Need flight to PHL\",\"neutral\",4,2],[\"@SouthwestAir get me on flight 4146 to denver and I'll be more than happy !!!!!\",\"neutral\",0,2],[\"@united @retailbagholder hahaha. At least they gave u a refund.\",\"neutral\",5,1],[\"@SouthwestAir  Tried to DM you, it won't let me as it says you are not following me.\",\"neutral\",4,2],[\"@USAirways call Gate D9 in CLT and get me on this flight\",\"neutral\",1,2],[\"@AmericanAir Thanks so much!\",\"neutral\",2,1],[\"@JetBlue Tomorrow wouldn\\u2019t have been soon enough! Thank you for the info!\",\"neutral\",6,1],[\"@united Lisa J is amazing the guy not so much.\",\"neutral\",6,1],[\"@JetBlue with 3 kids and 11 days 340 + doesn't work and it's months in advance\",\"neutral\",4,2],[\"@JetBlue my credit card company accidentally marked my jet blue tickets as fraud, then corrected their mistake and reposted the money.\",\"neutral\",6,2],[\"Why we can't have nice things. RT @JetBlue: Our fleet's on fleek. http://t.co/HP9RPPCvHx\",\"neutral\",1,2],[\"@USAirways really!??\",\"neutral\",5,2],[\"@AmericanAir You don't have those abilities anywhere! Not at the ticket counter, at cust service, or online. That's why we're done here.\",\"neutral\",2,2],[\"@AmericanAir Thank you for responding so quickly to my tweets I do appreciate that.\",\"neutral\",6,1],[\"@AmericanAir you wont allow calls? My husband has a ticket but it looks like all the seats are taken? I cant even call.\",\"neutral\",4,2],[\"@USAirways a $75 change is ok most of the time but if there r open seats on earlier flt and no chkd bag, why not let someone fly standby?\",\"neutral\",4,2],[\"@USAirways You need to contact me ASAP. #Furious\",\"neutral\",5,2],[\"@united FAIL set to song. http://t.co/Axpn28xiQB \\\"United Breaks Guitars\\\" &lt; LMAO!\",\"neutral\",5,2],[\"@USAirways res went under her maiden name...married 50...no docs with maiden name.  Hence, problem.\",\"neutral\",5,2],[\"@USAirways US 728 stated their issues as: kept plane on ground to allow connecting passengers from other flight to board. Fine. Understand.\",\"neutral\",4,2],[\"Nice RT @VirginAmerica: Vibe with the moodlight from takeoff to touchdown. #MoodlitMonday #ScienceBehindTheExperience http://t.co/Y7O0uNxTQP\",\"neutral\",1,1],[\"@united do u serve peanuts/nuts on yr flights yr policies r confusing contradictory advice Pls help #Anaphylaxis,will u ask those 2 refrain?\",\"neutral\",5,2],[\"@USAirways doesn't take into account the $450 it cost 2 rent a car 2 drive home\",\"neutral\",5,2],[\"@AmericanAir thanks for the info Is there a number I can call to speak to a person? It's going to take an hour to type it out\",\"neutral\",2,1],[\"@JetBlue yes, but it hurt my feelings to walk by MINT. A fella can dream. #happy4them\",\"neutral\",6,1],[\"@AmericanAir u r horrible.went online to Cancelled Flight flight-no button-4that.Called CS &amp;wait time 40 mins&amp;put in my #.800#called&amp;it hungupNOHELP\",\"neutral\",4,2],[\"@AmericanAir please confirm 2917 from CID-DFW at 11:30 departure will be/is Cancelled Flighted. Don't want to make the hour drive!\",\"neutral\",4,2],[\"@AmericanAir yes. No one is answering and I'm on a train\",\"neutral\",4,2],[\"@united you friend's flt from ase to Denver is Cancelled Flightled for tomorrow.  Can you help with rebook?\",\"neutral\",4,2],[\"@AmericanAir thank you\",\"neutral\",2,1],[\"@AmericanAir the motor that usually starts the engine is broke and @CVGairport ground crew failed to do it on time, per pilot #maintenance\",\"neutral\",4,2],[\"@AmericanAir Thank you, you too!\",\"neutral\",2,1],[\"@USAirways I'm shutting my data off for the flight. I want some response by the time I land.  You have 2 hours.\",\"neutral\",4,2],[\"@USAirways thank you\",\"neutral\",3,1],[\"@SouthwestAir will do. Thank you.\",\"neutral\",0,1],[\"@united sitting in the middle for the first time .. Hope it works out well\",\"neutral\",3,1],[\"@united Twitter isn't letting me DM you..\",\"neutral\",5,2],[\"@united Definitely will!\",\"neutral\",3,1],[\"@united I submitted a status match last week and have not heard back. Im a delta customer looking to switch to United. Please assist.\",\"neutral\",5,2],[\"@SouthwestAir it's a new day and a new chance for you to do the right thing it's never too Late Flight to be honest.\",\"neutral\",0,1],[\"@SouthwestAir Thanks! I know the routes you currently have from Newark. I was just wondering if there was any new ones on the horizon\",\"neutral\",0,1],[\"@SouthwestAir my father was kind enough to offer to pay for a hotel, but I can't use this coupon if he pays from FL. no help?\",\"neutral\",0,2],[\"@SouthwestAir Airline trouble &amp; not getting satisfactory customer service? contact http://t.co/aQjn4HwNaC  we negotiate resolutions for You!\",\"neutral\",4,2],[\"@united Death in the family cannot make flight tomorrow. Phone rep quoted $440 per person fee, which is almost the cost of ticket. Help?\",\"neutral\",4,2],[\"@JetBlue @zakkohane pretty sure he's saying Ricoh had great service down at BOS ;) #happytohelp\",\"neutral\",6,1],[\"@SouthwestAir I was not the one traveling. I was asking for my sister who was waiting on my nephew in Midland...flight eventually landed\",\"neutral\",4,2],[\".@AmericanAir just disappointed with the Flight Booking Problems process and add\\u2019l fees to sit together on a more crowded flight. Not impressed so far :-/.\",\"neutral\",4,2],[\"@united I want a hotel room and a whiskey.\",\"neutral\",2,2],[\"@USAirways Only for one flight, though. The 2nd leg my kids are sitting scattered about the aircraft.\",\"neutral\",4,2],[\"@JetBlue thanks for the help\",\"neutral\",6,1],[\"@AmericanAir #epicfail on connections in #Chicago today, extremely disappointed w/ unaccommodating customer service, rethinking loyalty \\ud83d\\ude10\",\"neutral\",4,2],[\"@SouthwestAir Don't worry, you will! :-)\",\"neutral\",0,1],[\"@USAirways agree! Richard P. Literally ripped up our tixs in our faces and made rude, inappropriate comments to us and our family. Awful!\",\"neutral\",5,2],[\"@united Hi, booked a flight yesterday and received an email w/ confirmation number but today I got this error \\\"no active flight segments\\\"\",\"neutral\",4,2],[\"@AmericanAir Group Cancelled Flights close to a thousand #flights Monday http://t.co/v1RADYKEP2\",\"neutral\",4,2],[\"@SouthwestAir yes please\",\"neutral\",0,1],[\"@AmericanAir Of course you are because that's your companies job! You guys failed at it in the first place. Upgrade me and then we'll talk.\",\"neutral\",6,1],[\"@AmericanAir @jaynegelman How,about more@Blacklist too!!\",\"neutral\",2,2],[\"@SouthwestAir unfortunately no, it's my lack of status that's the big problem. My company policy forces me to buy the cheapest tickets\",\"neutral\",6,2],[\"@JetBlue I clear that folder regularly and JetBlue is white listed so it never got to me.\",\"neutral\",4,2],[\"@JetBlue I can't. I don't have acces to a phone rn. My iPhone broke. :/ would rather change it now then Late Flightr.\",\"neutral\",4,2],[\"@AmericanAir @USAirways Yes, obviously! It just stinks that 4pm is the one option when she was supposed to fly at 7AM YESTERDAY.\",\"neutral\",4,2],[\"@united Thank you for your response!\",\"neutral\",3,1],[\"@united I send you an urgent message via eservice@united.com.  BG0KWM   Narayanan. Please respond ASAP. Also, NO local United Tel # @ KUL\",\"neutral\",5,2],[\"@JetBlue I'd go to Australia to enjoy the land down under! Always been on my bucket list! #FlyingItForward\",\"neutral\",1,1],[\"@united I'll be impressed if I actually get a response! \\ud83d\\ude1c\",\"neutral\",3,1],[\"@JetBlue That's right! :) Game, set, match.\",\"neutral\",1,1],[\"@AmericanAir how does one book a ticket online and put it on hold?  Does that require that I pay for the ticket?\",\"neutral\",4,2],[\"@JetBlue that's ok! It just sure seemed like it when JetBlue tweeted us back and asked us to send selfies of us watching.. Haha\",\"neutral\",1,1],[\"@united thank you. We are signed up for notifications. We shall watch and wait! \\u2744\\ufe0f\\u2744\\ufe0f\",\"neutral\",3,1],[\"@united S/O to @Delta for coming in clutch and finally taking me home \\ud83d\\ude4c\\ud83d\\ude4c\",\"neutral\",3,1],[\"\\u201c@JetBlue: @KyleComer_ JetBlue reLate Flightd this time? ;)\\u201d no... But why won't school be Cancelled Flighted? it's very cold out\",\"neutral\",4,2],[\"@united - who can eat at an airport for $7? #areyounew? #incompetent #no800number #feeltheheat\",\"neutral\",4,2],[\"@united Cancelled Flighted our flight, didn't rebook us on added flight, now have to drive from a Denver to KC....thanks!\",\"neutral\",4,1],[\".@AmericanAir just disappointed with the Flight Booking Problems process and add\\u2019l fees to sit together on a more crowded flight. Not impressed so far :-/.\",\"neutral\",4,2],[\"@USAirways oh they saw it and said nothing.\",\"neutral\",5,2],[\"@southwestair,  kudos to your rep \\\"Patricia\\\" at gate B11 this Sunday morning at #Chicago #Midway #MDW,\\u2026 http://t.co/MmCWkqp2gy\",\"neutral\",0,1],[\"@AmericanAir More or less - after a night in a party hotel - no sleep and a 5:30 am rebook- on our way back to PHL http://t.co/4G0K0z2rei\",\"neutral\",2,2],[\"@JetBlue thank you! Headed from LBC to OAK !\",\"neutral\",1,1],[\"@united Why have airlines always told us they can't open a cabin door once it has been closed?  This plane has done it 3 times tonight.\",\"neutral\",4,2],[\"@united WHy is my KTN not showing on my boarding?  Why is TSA pre-check not applying to my boarding pass?\",\"neutral\",5,2],[\"@AmericanAir #oaaret is our flight Cancelled Flightled?\",\"neutral\",4,2],[\"@AmericanAir Thank you for the response.  When I book I've tried my AA number and my US Airways number and each time it doesn't pick it up\",\"neutral\",5,1],[\"@USAirways unfortunately not. I think I watched it take off from the bus. Rebooked for a Late Flightr flight now #planestrainsandautomobiles\",\"neutral\",4,2],[\"@AmericanAir oh, yeah. I guess those are two different things. 3 am does weird things to my brain. Thanks again! xox\",\"neutral\",2,1],[\"@united sprinted from C concourse to E and just made it. Coughed up a lung in the process but am now in CLT! Tnx!\",\"neutral\",5,1],[\"@VirginAmerica Nice to see you expanding in Texas but don't forget about us here in #SanDiego. I would love to see more flights out of here!\",\"neutral\",6,1],[\"@united Okay thank you\",\"neutral\",3,1],[\"@AmericanAir you set a schedule try and keep it !!! #AAALWAYSLate Flight\",\"neutral\",1,2],[\"@JetBlue yup! He said there would be flight change fee. But the plane should be here in 45 minutes apparently.\",\"neutral\",1,2],[\"@USAirways great operation you guys are running. More mechanical issues, and now taping piece of plane together LOL http://t.co/I5V9wfbtuE\",\"neutral\",1,1],[\"@USAirways I didn't make a reservation yet. It's about changing name on my dividend miles account\",\"neutral\",5,2],[\"@JetBlue Ok great thanks! I had a great flight, FYI. I'm excited to fly again. I just was frustrated I was not able to check in.\",\"neutral\",6,1],[\"@USAirways Ok Thanks\",\"neutral\",3,1],[\"@AmericanAir 48 hours and still no bag. Could have flown to Costa Rica and back by now. I had gifts for my family in my bags.\",\"neutral\",4,2],[\"@SouthwestAir my flight at BWI is delayed and I will miss my flight in Denver, is there a way to find out if they will hold the plane?\",\"neutral\",4,2],[\"@JetBlue \\\"Do what you love and you'll never work a day in your life.\\\" \\ud83d\\ude0a\",\"neutral\",4,1],[\"@united @CheerTymeDad Gee that's like almost caring about ppl more than $$.  Think I'm more int in having a trusted adult w/ daughter .\",\"neutral\",5,2],[\"@united Surprised to go from 1K last year to nothing this year. What happened to the \\\"soft landing\\\" policy of no more than 1 level?\",\"neutral\",5,2],[\"@JetBlue that's what we've been told however how would this work if you're going overseas? Bottom line is passengers feel as if there's (1)\",\"neutral\",4,2],[\"@AmericanAir just hoping/praying for a safe flight. They've had to stop and de-ice our plane yet again\\ud83d\\ude1e\",\"neutral\",4,2],[\"@AmericanAir you should be contacting her for a refund - dm me and I will provide phone number\",\"neutral\",2,2],[\"@JetBlue Well, I try! See you soon!! @JayVig\",\"neutral\",1,1],[\"@JetBlue I can't call right now. My baby just fell asleep.\",\"neutral\",4,2],[\".Thnx for the response @united bot. It seems this 'improvement' could be easily attained. Is your 1st Class service really only worth $50?\",\"neutral\",6,1],[\"@JetBlue Thanks! I just sent a few DMs.\",\"neutral\",6,1],[\"@AmericanAir On flt 1627 from DFW to FAT on 2/23 and it was 86'd. Can you rebook me on the 1359 flight tonight? Can't get through on phone.\",\"neutral\",4,2],[\"@AmericanAir thanks. Bummer. Poor planning on my part. I assume the card in Passbook won't work either?\",\"neutral\",5,2],[\"@united - Group 2 line gets longer every week. Almost no one left for Groups 3-5 anymore. Time to make Explorer Card Group 3?\",\"neutral\",5,2],[\"@AmericanAir Sorry, what equipment? Have the passengers been allowed to return to the plane?\",\"neutral\",4,2],[\"@united it's cool. I didn't need to go to work today. Or get home to make sure my house is ok in the -30 wind chill.\",\"neutral\",6,1],[\"@AmericanAir my flight got Cancelled Flightled from GRK to DFW, then to LEX for tomorrow and I need it rebooked.\",\"neutral\",4,2],[\"But I don't see AA @united\",\"neutral\",5,2],[\"@JetBlue @weepysweetmonty i heard youre planning on letting people fly in the overhead compartments. why would you do that?\",\"neutral\",1,2],[\"@USAirways No worries I was able to read @stephenrodrick entire book while holding. #TheMagicalStranger\",\"neutral\",5,1],[\"@united @paigeworthy : page United values your tweet b/c it's so rare that they receive tweets complimenting their service...most are fake.\",\"neutral\",6,2],[\"@USAirways but it's not their fault, because their policy says they at least got us to our destination. Really?\",\"neutral\",6,2],[\"@VirginAmerica is saving my sanity right now: http://t.co/ELtBOLjUl9\",\"neutral\",6,1],[\"@USAirways my TSA precheck isn't showing up on my boarding pass for my flight tomorrow...help!? #USAirways #TSAPreCheck\",\"neutral\",4,2],[\"@JetBlue excited for my first flight w/ you today! It's delayed though- can you give me the 411? Flight number 989 from Boston to DC\",\"neutral\",4,1],[\"@JetBlue check DM please :)\",\"neutral\",1,1],[\"@SouthwestAir will do! #heart #flying\",\"neutral\",0,1],[\"@USAirways please change direct flights from RIC to JFK instead of LGA. Pleeeeease! LGA is the pits.\",\"neutral\",1,2],[\"@USAirways Fortunately you have staff like Lynn S. and DeeDee who actually understand customer service and simply being NICE.\",\"neutral\",6,1],[\"@SouthwestAir @TheEllenShow @Imaginedragons this job interferes w/Ellen Show &amp; concerts! will alway treasure my @LiveAtFirefly experience!\",\"neutral\",0,2],[\"@JetBlue hope so! looks nice and warm in San Juan \\ud83c\\udf34\",\"neutral\",6,1],[\"@USAirways we got our bags today. Thanks!\",\"neutral\",3,1],[\"@united need help. Never got tickets. Conf #ggqzqd\",\"neutral\",5,2],[\"@VirginAmerica Flight 0736 DAL to DCA 2/24 2:10pm. Tried to check in could not. Status please.\",\"neutral\",5,2],[\"@SouthwestAir Finally got me home #BNASnow\",\"neutral\",0,1],[\"@AmericanAir it looks like a mistake\",\"neutral\",2,2],[\"@AmericanAir i need someone to help me out\",\"neutral\",2,2],[\"@JetBlue Indeed. I don't know what's going on in Pittsburgh that weekend, but, it's drawing a crowd via JetBlue!\",\"neutral\",1,1],[\"@SouthwestAir continues to prove to be the best airlines \\ud83d\\udcaa\",\"neutral\",0,1],[\"@AmericanAir I know you are getting pummeled tonight @dfwairport we were one of the lucky out of @slcairport just one more @AUStinAirport\",\"neutral\",6,1],[\"@SouthwestAir @FortuneMagazine Congratulations!\",\"neutral\",0,1],[\"\\u201c@SouthwestAir: Congrats to these fans who are seeing #DestinationDragons in L.A.! SLC, you're next! http://t.co/YcCITaeP3S\\u201d Thanks again SW\",\"neutral\",0,1],[\"@USAirways Eh, it happens. I think I'll survive. \\ud83d\\ude09 Thanks!\",\"neutral\",3,1],[\"@SouthwestAir Looking forward to out Power of Inclusion event with very special guests! We will begin promptly at 11:30 a.m. #SWADiversity\",\"neutral\",0,1],[\"\\u201c@VirginAmerica:You've met your match.Got status on another airline? Upgrade : http://t.co/H952rDKTqy\\u201d @asarco_ES_ar ? \\ud83d\\ude49\",\"neutral\",1,1],[\"@SouthwestAir got an email confirmation of wifi purchase on a recent flight. Trouble is, I've never flown with you. Ever. #concerned #scam?\",\"neutral\",4,2],[\"@united thanks again for your concern. I will contact customer care upon our return from Australia.\",\"neutral\",6,1],[\"@AmericanAir I had booked online but unable to Cancelled Flight online. But finally got thru.\",\"neutral\",4,2],[\"@united we finally just arrive to Bogota, good but long flight!!\",\"neutral\",1,1],[\"@United should find a way to distinguish boarding of premier members and credit card holders. Group 2 is too big!\",\"neutral\",5,2],[\"@united yes I've boarded this way many times &amp; have never had to show my pass on the Tarmac multiple times. Path was railed off. Only 1 way\",\"neutral\",1,2],[\"@JetBlue here we go again, 2nd round trip to CA in a week #TrueBlue\",\"neutral\",1,1],[\"@USAirways me too. Me too.\",\"neutral\",3,1],[\"@AmericanAir Oh trust me. I am in love. It is so beautiful!\",\"neutral\",2,1],[\"@usairways sadly they've tried that and airport agents\\u2026no flights so they're stranded at PHL. No chance of a hotel for them?\",\"neutral\",4,2],[\"@USAirways still just sitting here. nobody has said anything. What's up?\",\"neutral\",5,2],[\"@SouthwestAir How can we get refund instead of credit for flight that you Cancelled Flightled? We couldn't switch to a flight tomorrow.\",\"neutral\",4,2],[\"@JetBlue such a bummer.  But I understand it's a business deal. Thanks for answering me!  Much less sad now.\",\"neutral\",6,1],[\"@JetBlue #AfterAll indeed! https://t.co/swWhYhEn76 #LoveSongFriday #Cheesy #80sweresomuchfun #BrandLoveAffair\",\"neutral\",1,1],[\"@united looking back - never heard from anyone - I had to call and frankly got standard SOP - still think about it today\",\"neutral\",5,2],[\"@AmericanAir tell me you can get me to ABI earlier than 8 pm tomorrow\",\"neutral\",2,2],[\"@united thank you !\",\"neutral\",3,1],[\"@united Thank you.\",\"neutral\",3,1],[\"@SouthwestAir If there are any Imagine Dragons tickets left for tomorrow at \\n@VelourLive here in Utah I would love to go I am available! :)\",\"neutral\",0,1],[\"@JetBlue @EllaHenderson Ah! Wish I was there! Good luck!\",\"neutral\",1,1],[\"@JetBlue  Not blaming Jet Blue.  This wasn't weather. Can't have planes in the air and runways a mess. That's a disaster waiting to happen.\",\"neutral\",4,2],[\"@united I understand why the pilot would get on the plane but why 1st class?  There were 5 empty coach seats near me?  I'm a Premier 1K?\",\"neutral\",6,2],[\"@JetBlue Thanks for the FB. message telling me I will have to wait between 1-3 days.  I'm waiting.\",\"neutral\",4,1],[\"@SouthwestAir flt 3260 out of mht. Have fun with my kids and grandkids 10 of them!!  Jack says hi! http://t.co/BHOOiyT6ZQ\",\"neutral\",0,1],[\"@united ah, that would explain why crew didn't seem particularly distressed when we pointed it out. It was a little startling at first.\",\"neutral\",6,2],[\"@united unfortunately still on the Tarmac at @fly2ohare and definitely missing my ride from @flypdx #GonnaBeALongNight\",\"neutral\",4,2],[\"@AmericanAir Thank you\",\"neutral\",2,1],[\"@AmericanAir Am on web site requesting refund for Cancelled Flightled flight. It requires numerical document number. Where get it?\",\"neutral\",4,2],[\"@JetBlue real shit my nigga north don't play around!\",\"neutral\",4,2],[\"@united I understand, but it's tough when there is no way to get to the airport w/o serious risk of an accident. It's a steep price.\",\"neutral\",4,2],[\"@JetBlue nope. Currently sitting at my gate.\",\"neutral\",1,2],[\"Thx! Stand by! \\u201c@united: @rajuchinthala I know it's frustrating and I do appreciate your patience while we try to get you on your way. ^JH\\u201d\",\"neutral\",5,1],[\"@united Airline trouble this winter &amp; not getting good customer service? contact http://t.co/aQjn4HwNaC  we negotiate resolutions for You!\",\"neutral\",4,2],[\"@VirginAmerica @ladygaga @carrieunderwood All were entertaining\",\"neutral\",5,1],[\"@united I tried.   We were hung up on, twice. After speaking with someone, then put on hold for 45 minutes.  No resolution.\",\"neutral\",5,2],[\"@VirginAmerica You should still develop an app - then you will be my favorite airline.\",\"neutral\",6,1],[\"@SouthwestAir my bag was Late Flight-checked and put on a different flight from OAK-&gt;MSY. Having troubles tracking it down. Any help?\",\"neutral\",4,2],[\"@AmericanAir @Clarkey_19 we done it with 1 truck... No biggie \\ud83d\\ude04\",\"neutral\",5,1],[\"@AmericanAir I'm going to speak with customer service at the airport tomorrow morning and see what my options are. I need a flight tomorrow\",\"neutral\",4,2],[\"@united but the gate agent and club staff got me priority standby for next so might only be minor disaster...#travelingwithsmallkids\",\"neutral\",5,2],[\"@AmericanAir know that I could use that for a flight into Canada.  By they time they figured it out, it was too Late Flight to check our bags\",\"neutral\",4,2],[\"@united it just goes round &amp; round, it's be going on for weeks,\",\"neutral\",3,2],[\"@united will do. Thank you!\",\"neutral\",3,1],[\"@AmericanAir I'd like to apologize to the gate agent for flight AA76, I was not aware that zone 1 was after the nine other precious gems.\",\"neutral\",4,2],[\"@SouthwestAir Thanks!!! :)  It is good to air on the side of caution\",\"neutral\",0,1],[\"@USAirways thank you, but it says the website is down\",\"neutral\",6,2],[\"@SouthwestAir the flight isn't that empty.... Is this rude or not? http://t.co/4RL0p5JChB\",\"neutral\",0,2],[\"@AmericanAir  2 hours to be answered on a call?\",\"neutral\",2,2],[\"@AmericanAir Yes, thanks I found those, didn't see the gray tab at first :)\",\"neutral\",2,1],[\"@USAirways  my flight was #3729...but I left my phone on the plane or the shuttle :(\",\"neutral\",4,2],[\"@AmericanAir We did talk with Delta for about hour over phone, and I got a number from Delta that they asked to give to AA, which I did.\",\"neutral\",2,2],[\"@united lets see of we can do this today! Hoping for an on-time dept #dullestostatecollege #runningonthreehoursofsleep #delayedovernight\",\"neutral\",5,2],[\"@AmericanAir can I get a free ticket to Hawaii for being fabulous\",\"neutral\",6,1],[\"Lol great answer.. \\u201c@AmericanAir: @JayFranceschi Our agents are checking in passengers as quickly as possible. We appreciate your patience.\\u201d\",\"neutral\",6,1],[\"@united Great, thank you!! I'll send it now.\",\"neutral\",3,1],[\"@united returned from vacation + went to luggage services. Golf bag was presented in clear wrap that could've been used in the first place.\",\"neutral\",5,2],[\"@VirginAmerica way to take advantage of #MayweatherPacquiao :)\",\"neutral\",5,1],[\"@USAirways Expedia reserved a ticket for me and 2 more for a USAW flight but only issued 1. They are not responsive.Thoughts?\",\"neutral\",4,2],[\"@JetBlue Thank you for opening the conversation.  I hope you can make it right.\",\"neutral\",6,1],[\"@AmericanAir I am trying to switch my flight to AA 1359 I am currently on AA 2401 at 6:50am MONDAY morn then AA 2586! Help Me!!\",\"neutral\",4,2],[\"@SouthwestAir I DMed you :)\",\"neutral\",0,1],[\"@VirginAmerica @ladygaga @carrieunderwood all are great , but I have to go with #CarrieUnderwood \\ud83d\\ude0d\\ud83d\\udc4c\",\"neutral\",5,1],[\"@AmericanAir You guys are the talk of the Americans down here in Ecuador! Read this! https://t.co/5ON3KlzVMT\",\"neutral\",5,2],[\"@USAirways and now you can't even accommodate us by letting us fly in to another airport?! Horrible service for your fault!!!\",\"neutral\",4,2],[\"@USAirways got through on the phone. usair Cancelled Flightled her return flights because she missed a flight on her way out. they took care of it\",\"neutral\",4,2],[\"@USAirways  2 calls &amp; wasted 3 hrs on hold to change my coming divided awards weather reLate Flightd flight. Y'all disconnected me 2x. Please help.\",\"neutral\",4,2],[\"@AmericanAir got a callback at 1 am, took care of it. thanks.\",\"neutral\",2,1],[\"@USAirways just told by supervisor that they won't guarantee the empty seats to standby passengers with flights Cancelled Flightled so can sell them\",\"neutral\",4,2],[\"@united Also, a United phone representative just asked me for my web password. Is that normal?\",\"neutral\",5,2],[\"@united booked EWR-FLL in first for two on 3-8. Let's see how you compare to the garbage @AmericanAir first class has become\",\"neutral\",5,2],[\"@united AND WE GOT ZERO VOUCHERS FOR HOTEL OR CAB. I expect some SERIOUS mileage credits.\",\"neutral\",5,2],[\"@SouthwestAir An Oscar-worthy entrance into LA. http://t.co/10tmtHVFDC\",\"neutral\",0,1],[\"@SouthwestAir Thank you.\",\"neutral\",0,1],[\"@JetBlue Domestic.  To be clear -- I do not have to sit in (your lovely) terminal, just need to be there 1 hour prior to boarding?  Thanks!\",\"neutral\",6,1],[\"@VirginAmerica I have 2d and 3d embossed badges and patches superior to the ones you are currently using. \\nhttp://t.co/3fq3XElbOn\",\"negative\",5,0],[\"@united Just let the employees know that good service and a kind attitude towards customers is vital in this kind of business. Thanks\",\"negative\",6,1],[\"@SouthwestAir no, thanks. I think we have it straight!\",\"negative\",0,0],[\"@AmericanAir I DM'd you. Anything you can do?\",\"negative\",2,0],[\"@JetBlue I'm also a mosaic customer and fly jet blue ALOT....\",\"negative\",1,0],[\"@united they have access to the dial that makes it faster do they?\",\"negative\",3,0],[\"@USAirways I will. Is it down or is just me?\",\"negative\",5,0],[\"@AmericanAir AA45 ... JFK to LAS.\",\"negative\",2,0],[\"@United Can you increase the legroom? : How airlines compare http://t.co/diUfep8n2q via @CNNMoney\",\"negative\",1,0],[\"@SouthwestAir thank you. I was given this same reply 2 years ago. Can you direct me to an area I can learn more about the improvements?\",\"negative\",0,0],[\"@united just curious, when are you going to to finally learn #customerservice ?\",\"negative\",5,0],[\"We didn't need this. RT @JetBlue: Our fleet's on fleek. http://t.co/cpZB285o71\",\"negative\",1,0],[\"RT @JetBlue: Our fleet's on fleek. http://t.co/NfjAuW16vZ&lt;--....\\ud83d\\ude15\",\"negative\",1,0],[\"@united e-ticket # 0162389030167, refund request # 16866853, case id # 8465981\",\"negative\",5,0],[\"@SouthwestAir Am I flying on Spirit air?\",\"negative\",0,0],[\"@SouthwestAir @TaylorLumsden Taylor.  U gotta love SWA responsiveness at the@very least huh?\",\"negative\",0,0],[\"@united I do I was on UA 495 LAX TO DEN - we are scheduled to land LAX @ 7:38 am - please rebook to Denver - best flight\",\"negative\",1,0],[\"@SouthwestAir Hoping you answer the phone today?\",\"negative\",0,0],[\"@united i sure will\",\"negative\",3,0],[\"@AmericanAir Yes I am. 2495/1170. RNO departure at 1229 on 2/25 w/connection at DFW to LGA. I can do the 1120am to LAX and then to JFK\",\"negative\",1,0],[\"@AmericanAir @SentieriMelinda Any updates? It shouldn't take hours for assistance. I love @SouthwestAir\",\"negative\",0,0],[\"@JetBlue Oh no! I thought it did. :(\",\"negative\",1,0],[\"@united thanks for the link, now finally arrived in Brussels, 9 h after schedule...\",\"negative\",3,0],[\"@SouthwestAir just sent it\",\"negative\",0,0],[\"@AmericanAir that's quite an impressive list of fees!\",\"negative\",2,1],[\"@USAirways will you hold #475 today for connecting passengers coming from delayed flights?\",\"negative\",4,0],[\"@united Monday evening.\",\"negative\",3,0],[\"@united a rapid trip plane ticket from Idaho to California that doesn't have problems would be wonderful\",\"negative\",6,0],[\"@united a report was filed with the airport police on 11th and 12th February-I have the police case number if required\",\"negative\",5,0],[\"@JetBlue I just DM'd you!\",\"negative\",1,0],[\"@united nexus confirmed that at any crossing via air, car or boat she can travel with only Nexus.\",\"negative\",5,0],[\"@AmericanAir Has AA Flight 296 from San Antonio to Dallas been Cancelled Flighted?\",\"negative\",4,0],[\"@VirginAmerica question: is it not possible to book a seat for an infant under 2? It's not giving me the option but we want a seat for him.\",\"negative\",5,0],[\"@AmericanAir do you have the phone number of a supervisor i can speak to regarding my travels today\",\"negative\",2,0],[\"@AmericanAir: my brother's flight into DFW was Cancelled Flightled yesterday. Are you flying from ONT to DFW today?\",\"negative\",4,0],[\"@united unless it's on you guys, im good.\",\"negative\",3,0],[\"@SouthwestAir thanks for taking such good care of my luggage... http://t.co/PIvxean3jY\",\"negative\",6,1],[\"@JetBlue 290 to Boston\",\"negative\",1,0],[\"@united or did you mean 24-26?\",\"negative\",3,0],[\"@USAirways  but have to return car to clt can I skip my flgjt back tonight from gso to clt and pick up at clt to fll I was told yes\",\"negative\",5,0],[\".@united Let us know when you find everyone's luggage. Thanks. #UnitedAirlines\",\"negative\",6,0],[\"@SouthwestAir Roger wilco.\",\"negative\",0,0],[\"@united Ok thank you, do you provide complimentary hotel accommodations since I'll have to stay overnight?\",\"negative\",6,0],[\"@united Can you please follow for a Dm on a missing bag?\",\"negative\",5,0],[\"@JetBlue Thanks for the THIRD gate change http://t.co/UfBdr5AxeO\",\"negative\",1,1],[\"@united Did somebody say flight upgrade?\",\"negative\",1,0],[\"@AmericanAir @maxfitgirl29 next time fly Southwest...\",\"negative\",0,0],[\"@united Such as deodorant, shampoo, toothpaste. Seems like that would be limited to 70oz, correct?\",\"negative\",5,0],[\"@united thank you for 7 hrs at terminal D in Dulles airport http://t.co/IG2dgctt2M\",\"negative\",6,1],[\"@SouthwestAir here's a first..both pilot and first officer in galley during flight...\",\"negative\",0,0],[\"@JetBlue's CEO battles to appease passengers and Wall Street - Waterbury Republican American http://t.co/Ur60Un86gy\",\"negative\",4,0],[\"@SouthwestAir Engadget Theverge Wired reddit\",\"negative\",0,0],[\"@united Dmed you. Thank you\",\"negative\",3,1],[\"@JetBlue can you ask SLC checkin/bag drop if they found a dark blue/blackish fit bit flex? Would've lost it there around 445pm MT\",\"negative\",4,0],[\"@VirginAmerica please provide status for flight 769.  I cant imagine it's on time as the Web indicates  dude to weather here and/or Dallas\",\"negative\",4,0],[\"nope. RT @JetBlue: Our fleet's on fleek. http://t.co/9SHhTvIOTI\",\"negative\",1,0],[\"@united well perhaps you could highlight where that is stated.  We travel between Canada &amp; USA on United with only Nexus\",\"negative\",5,0],[\"@AmericanAir I'll try to have a great week once I receive it \\ud83d\\ude29\\ud83d\\ude2d\\ud83d\\udc94\",\"negative\",2,1],[\"@USAirways is the real MVP for holding up the flight connecting Philly to Tampa.\",\"negative\",6,1],[\"\\u201c@JetBlue: Our fleet's on fleek. http://t.co/vw2v8GVnGq\\u201d \\ud83d\\ude10\\ud83d\\ude11\",\"negative\",1,0],[\"@SouthwestAir thank you : 8UXZJ2\\nPaid for early bird and sat in back\",\"negative\",0,1],[\"@AmericanAir Thanks, she did her best. Staying the night in Dallas, new trial to Detroit via Atlanta tomorrow, assuming no Cancelled Flightlations.\",\"negative\",6,1],[\"@usairways I just learned that although there is travel policy and they waive the change fee-you will still be charged a $25 reservation fee\",\"negative\",5,0],[\"\\u201c@united: @mllovelace The baggage fee is waived for Premier members. Please see http://t.co/u6Duw27mDE. ^JP\\u201d what's the point of membership?\",\"negative\",5,0],[\"@SouthwestAir I just sent it over\",\"negative\",0,0],[\"@JetBlue @Cinnabon the two of you should team up to serve cinnabons on the flights!!!! #BonsInTheSky\",\"negative\",5,0],[\"@SouthwestAir prove it\",\"negative\",0,0],[\"@SouthwestAir Sure was,  with @Delta  looks like I'll make my birthday celebration after all.\",\"negative\",0,0],[\"@AmericanAir all right, but can you give me an email to write to ?\",\"negative\",2,0],[\"@united please send help ASAP to @KathrynSotelo on flight 5957 to Chicago seat 9c #Airlines http://t.co/9sKrLyrZ1O\",\"negative\",1,0],[\"@JetBlue I put it my \\\"to\\\" and \\\"from\\\" airports, click update and it tells me to put in my \\\"to\\\" and \\\"from\\\" airports.\",\"negative\",1,0],[\"@united Classic\",\"negative\",3,0],[\"@SouthwestAir No I have not.\",\"negative\",0,0],[\"@JetBlue whose performing at T5\",\"negative\",1,0],[\"@JetBlue I can probably find some of them. Are the ticket #s on there?\",\"negative\",1,0],[\"@united since I have an international connection at 9am, I'm hoping for the same thing!\",\"negative\",3,0],[\"@united do you expect to Cancelled Flight flights out of @DENAirport tomorrow morning given the storm?\",\"negative\",4,0],[\"@united an update on flight 5979 would be great!\",\"negative\",1,0],[\"@SouthwestAir @dultch97 that's horse radish \\ud83d\\ude24\\ud83d\\udc34\",\"negative\",0,0],[\"@AmericanAir Best planes in the business. NOT? AA5411 today. http://t.co/I7Vdi9WqSF\",\"negative\",1,0],[\"@AmericanAir Trying desperately to get my boyfriend booked on the same US Airways flight as myself for the same price. Can you help?\",\"negative\",4,0],[\"@united \\u20ac202.88 is the difference between the booked flights, do you want screen shots?\",\"negative\",4,0],[\"@united on plane to Newark now. I was checked in as Rebecca Levi. My bag is under her name too.\",\"negative\",5,0],[\"@AmericanAir I dmed\",\"negative\",2,0],[\"@SouthwestAir My flight was 952, leaving las vegas at 5:40pm, arriving at CHI-MID at 11:00 pm.\",\"negative\",0,0],[\"@united, any options to cos tonight? Doesn't look like #UA5525 will make it in time for #UA6259. Should I reserve a hotel room?\",\"negative\",5,0],[\"@SouthwestAir thanks! I expected a wait... Just not that long. :)\",\"negative\",0,1],[\"@JetBlue ok we got as far as Atlantic City due to JFK being closed. Can you get us to HPN or LGA?? Please?\",\"negative\",4,0],[\"@AmericanAir @lpalumbo what weather sun is out\",\"negative\",2,0],[\"\\u201c@AmericanAir: @RussellsWriting Russ, please contact Reservations at 800-433-7300 for reFlight Booking Problems options.\\u201d Good luck with that!\",\"negative\",2,0],[\"@JetBlue should i continue?\",\"negative\",1,0],[\"@AmericanAir @lpalumbo what weather sun is out\",\"negative\",2,0],[\"@united ok, I have that, pretty sure I had it before too but will wait and see what happens....\",\"negative\",5,0],[\"@USAirways we are on the 2pm flight FLL to PHL and then connection to MAN. However, with the delays we might miss it. Can we go earlier?\",\"negative\",4,0],[\"@SouthwestAir Nashville airport has runways open. It appears southwest is only airline Cancelled Flighting flights. Is this likely to change?\",\"negative\",0,0],[\"@SouthwestAir How about auto check in for CP holders? Come on.\",\"negative\",0,0],[\"@VirginAmerica Umm so no reason as to why this is? Is there someone different I should contact (or contact me) to get a definitive answer?\",\"negative\",5,0],[\"\\u201c@USAirways: @AnnetteNaif We appreciate the #shoutout for Roberto. DM confirmation code so we can forward ur kind words.\\u201d Confirmation code?\",\"negative\",5,0],[\"@VirginAmerica hi! I just bked a cool birthday trip with you, but i can't add my elevate no. cause i entered my middle name during Flight Booking Problems \\ud83d\\ude22\",\"negative\",4,0],[\"@united I would like to know what is the easiest way to get a refund.\",\"negative\",3,0],[\"@united do you guys have any working planes?\",\"negative\",1,0],[\"@united I have sent a message with a bag tag. Have you looked?\",\"negative\",5,0],[\"@SouthwestAir @challemann flying to LGA in the dead of winter? #jvstatus EWR &amp; JFK is always the intelligent option.\",\"negative\",1,0],[\"@USAirways it is the same passenger, just her maiden name ended up as last name through online Flight Booking Problems.  Yes, understand non transferable\",\"negative\",4,0],[\"@SouthwestAir Just landed in PHL. Row 9 window cover on N366SW could use some LUV. http://t.co/WQZZtIemX0\",\"negative\",0,0],[\"@united customer service \\ud83d\\udc4e\",\"negative\",3,1],[\"@USAirways  thanks! Now I just need to locate where my luggage is!\",\"negative\",5,1],[\"can you not? RT @JetBlue Our fleet's on fleek. http://t.co/413GiAL0yl\",\"negative\",1,0],[\"@AmericanAir thanks for the response. I know it's not your fault... But Im in ORD in T5 and hungry if you want to stop by \\u2708\\ufe0f\\u270c\\ufe0f\",\"negative\",6,1],[\"@JetBlue get flight 16 into the air\",\"negative\",1,0],[\"@SouthwestAir Finally got through after 3 hours and all set. Thanks.\",\"negative\",0,1],[\"@JetBlue please get service started at @triflight and offer good routes lile florida upstate ny vegas etc\",\"negative\",1,0],[\"@usairways Row 16, flight 634 today if you're looking for specifics! I can run to Home Depot for the WD40 you if you need.\",\"negative\",5,0],[\"@USAirways Thanks for showing interest...3880 to Greenville, SC.\",\"negative\",3,0],[\"@SouthwestAir have you considered adding the \\\"we'll call you back when we have someone free\\\" feature to your support line?\",\"negative\",0,0],[\"@JetBlue no, I haven't done that yet. Is that something I can do online? Thx!\",\"negative\",4,0],[\"@SouthwestAir when will you be accepting reservations past August 7?\",\"negative\",0,0],[\"Includes @KCIAirport \\u201c@SouthwestAir: Inclement weather may impact scheduled service in. ReFlight Booking Problems options available: http://t.co/KeyrpFlHil\\u201d\",\"negative\",0,0],[\"@JetBlue it's sunny and gorgeous in ny actually. What's the real reason?\",\"negative\",6,0],[\"@united yes I have\",\"negative\",3,0],[\"@AmericanAir continues to win: I've never missed a flight before, but a nice little quiet gate change made it possible. Sheesh.\",\"negative\",6,1],[\"@united any solutions?\",\"negative\",3,0],[\"@AmericanAir can I get home before 12 or no?\",\"negative\",2,0],[\"@JetBlue can you tweet #closepwcs to get the word out?\\ud83d\\ude22\",\"negative\",1,0],[\".@JetBlue Navigating through 2 rebooks due to flu &amp; ice to visit my Mother.  Your CS reps have been so very helpful, patient and friendly.\",\"negative\",6,1],[\"@USAirways We did. @AmericanAir said to open one with you, too.\",\"negative\",2,0],[\"@AmericanAir is that something the crew on the current leg can request of the gate team on the next leg?\",\"negative\",2,0],[\"@united Awesome flight crew on UA1589, re the plane,  the  Jurassic period called and they want their dinosaur/plane back!\",\"negative\",1,1],[\"@SouthwestAir how often are airplane seats/tray tables cleaned and sanitized? rather have air purifier and clean seats than #wifi \\ud83d\\ude37\\ud83d\\ude31\",\"negative\",6,0],[\"@JetBlue they booked me for tomorrow. It's $250 higher. My 1st reservation is PGFRYZ. Get me on standby list 4 tonight would help.\",\"negative\",1,0],[\"@JetBlue Thanks. So the delay was the result of scheduling issues more than weather reLate Flightd problems?\",\"negative\",4,0],[\"@SouthwestAir I have a voucher w swa that expires 4/10. An extension would be a lot of luv\",\"negative\",0,0],[\"@united so what's the solution?\",\"negative\",3,0],[\"@AmericanAir can you?\",\"negative\",2,0],[\"@USAirways Can you advise on what's happening with departure delays from CLT?\",\"negative\",5,0],[\"@AmericanAir @kanne822 @SouthwestAir is better than AA.\",\"negative\",0,1],[\"@united thanks for that advice, so helpful. Can't believe you guys actually charge people to \\\"fly\\\" united\",\"negative\",6,1],[\"@united is to airlines as @comcast @XFINITY is to cable/internet\",\"negative\",1,0],[\"@SouthwestAir Hi! Just got my TSA pre-check # &amp; put it in my acct. But it's not on my boarding pass for a flight this p.m.Can it be updated?\",\"negative\",4,0],[\"@AmericanAir is flight 2934 dfw to gsp going to be Cancelled Flightled tomorrow?\",\"negative\",4,0],[\"@united and that it would be sent on the next flight to Hayden/steamboat (HDN) from Denver. So I'm hoping its on there\",\"negative\",1,0],[\"@united all 4 of us are on standby in Houston tomorrow for flights to Calgary. If you could get us on one or two of those that would help\",\"negative\",4,0],[\"@AmericanAir yeah, buy me a @Delta plane ticket from San Diego to Detroit so I can fly one of their planes home tomorrow\",\"negative\",1,0],[\"@americanair I finally got someone on the phone so no worries!\",\"negative\",2,1],[\"@united we can't all be american airlines I suppose... http://t.co/0EWj7oKlji\",\"negative\",1,0],[\"@SouthwestAir oh, ok!  all good!  looking forward to escaping the cold for a bit!  thanks!\",\"negative\",0,1],[\"@united So what does someone with severe anxiety do when the one person who can help him isn't next to him?\",\"negative\",5,0],[\"@SouthwestAir want to pick up a customer from @SpiritAirlines sign me up \\ud83d\\ude4c\\ud83d\\ude0f\",\"negative\",0,0],[\"@AmericanAir We all did! Skipper's walk-around too :(\",\"negative\",2,0],[\"@united thanks for reaching out. The seat was hard, not enough cushion. OK for short flight. BTW, UA6465 flight and crew were great!\",\"negative\",6,1],[\"@VirginAmerica is the website down?\",\"negative\",5,0],[\"@JetBlue \\ud83d\\udc4d. I think I'll come take a nap at the terminal.  ;)\",\"negative\",4,0],[\"@USAirways checked in last night @ airport by supervisor w boarding pass for 1A - boarding today seat changed to 7F. How does that happen?\",\"negative\",4,0],[\"@united Do you have a further update on the suitcase today please.\",\"negative\",5,0],[\"@USAirways @AskPayPal completed. If that's the case then why does it still say \\\"in progress\\\" on Paypal's website. I reserved on the 13th.\",\"negative\",5,0],[\"@SouthwestAir when will airfare be available through December of this year? I have 2 major trips coming up and I'm anxious to book them!\",\"negative\",0,0],[\"@AmericanAir Will it be this year, do you think?\",\"negative\",2,0],[\"@SouthwestAir Is my friend lucky enough to see #DestinationDragons live on his birthday? He's been a fan for years @thirty_lives\",\"negative\",0,0],[\"@united It is all good -- your 1K team has been nothing short of amazing with everything.\",\"negative\",3,1],[\"@USAirways I hope so, too. Thank you for your help. She traveled halfway across the globe and just wants her suitcase.\",\"negative\",6,1],[\"@AmericanAir right on cue with the delays\\ud83d\\udc4c\",\"negative\",2,0],[\"@VirginAmerica I was really looking forward to my flight. can you let me know when it will be rescheduled? #diehardvirgin\",\"negative\",1,0],[\"@JetBlue's CEO battles to appease passengers and Wall Street - @TheVDT http://t.co/h6cE3mWCqj\",\"negative\",4,0],[\"@USAirways there is a travel advis for nyc and phil PA  -winter weather- but U.S. Air hasn't posted one yet. Can I still change flt wo pen?\",\"negative\",5,0],[\"@SouthwestAir Flight 4968 (N8325D) departs @MCO enroute to @NO_Airport http://t.co/fd4SnvKIeM\",\"negative\",4,0],[\"@USAirways some flexibility on your part would be nice. This is why I love @SouthwestAir. They're flexible &amp; not trying to take all my $.\",\"negative\",0,1],[\"Haha! @JetBlue: Our fleet's on fleek. http://t.co/KmaNLdQbh4\\u201d\",\"negative\",1,0],[\"@JetBlue where is it coming from? I thought Tampa?\",\"negative\",1,0],[\"@USAirways let's say it's directly correLate Flightd to the chance of a replacement case. I know which would cost the airline less!\",\"negative\",6,0],[\"@united What a really GREAT &amp; FLATTERING story about you! You should be very proud :) http://t.co/oKtUkjY92O (via @ParachuteGuy)\",\"negative\",6,1],[\":( RT @JetBlue: Our fleet's on fleek. http://t.co/ncguZDgDaQ\",\"negative\",1,0],[\"@AmericanAir Would love to DM you, but my Twitter app says you're not following me and I can't.\",\"negative\",5,0],[\"@united I knew I should've flew @VirginAmerica lol\",\"negative\",1,0],[\"@united have you read your own same day travel change policy?\",\"negative\",5,0],[\"@SouthwestAir I sent you my conf number yesterday.\",\"negative\",0,0],[\"@JetBlue Jan 5? That's not summer http://t.co/TpzhjX7Hbt\",\"negative\",1,0],[\"@AmericanAir I tried that. They won't book us with another airline. I wish I had flown with you! We are now stuck in FL til Weds.\",\"positive\",4,2],[\"@SouthwestAir YES please....How do we get that companion pass?\",\"positive\",0,0],[\"@SouthwestAir Yes, please.\",\"positive\",0,0],[\"@AmericanAir Hmm. Looks like you looked at my tweet from last month, not this one. Was able to get U.K. agent to help me, thanks.\",\"positive\",2,0],[\"@SouthwestAir Make the world a better place: Visit an elderly relative.\",\"positive\",0,0],[\"@VirginAmerica How about some free drinks on the flight back for the free promo?\",\"positive\",6,0],[\"@VirginAmerica Like http://t.co/VPqEm31XUQ\",\"positive\",5,0],[\"@JetBlue where's my selfie?\",\"positive\",1,2],[\"@USAirways still not in the air for deicing of plane. I'll miss connect but customer service was helpful.I'm hoping to catch the next flight\",\"positive\",6,2],[\"@AmericanAir Yep, was in one of my other camera memory card :D\",\"positive\",2,0],[\"@JetBlue that is great. But once it gets to Buffalo will it be able to leave and get to JFK? Or there's issues still at Buffalo airport?\",\"positive\",4,0],[\"\\u201c@united: Looking for a reason to travel? #quote http://t.co/GGuIg3t28z\\u201d\",\"positive\",5,0],[\"@SouthwestAir just sent another 4 drink coupons....I think I have over 30 coupons now. free drinks anyone?\",\"positive\",0,0],[\"@AmericanAir thx, just sent the DM\",\"positive\",2,0],[\"@SouthwestAir I would love to go to the Atlanta show \\u2665\\ufe0f\",\"positive\",0,0],[\"@USAirways Frustrating days!No flights home, changed airlines. Thank you PHL USAirway employees &amp; @united for help getting me back to IAH.\",\"positive\",6,2],[\"@SouthwestAir I got a flight at 11:55am on Thursday but looking for something tomorrow, anything available?\",\"positive\",4,0],[\"Is expiring the @united offer to buy or transfer #United #MileagePlus miles with discount? Many offers during a year http://t.co/6tz6imqZlG\",\"positive\",5,0],[\"@United Wanted to compliment ur phone agent Jeanette for reFlight Booking Problems RDU to SEA thru SFO after connecting flight thru EWR was Cancelled Flightled.\",\"positive\",6,2],[\"@SouthwestAir just got mine..now where to go??\",\"positive\",0,0],[\"@JetBlue haha. TY. Do you know what time that lane opens at Logan?\",\"positive\",1,0],[\"@AmericanAir I wish I could remember all of their names!\",\"positive\",2,0],[\"@USAirways right on. Up. Up &amp; away \\u2708\\ufe0f\\ud83c\\udf1e\",\"positive\",5,0],[\"\\u201c@JetBlue: Our fleet's on fleek. http://t.co/JMnkJ6Bmc2\\u201d Jet Blizzue in the hizouse.\",\"positive\",1,0],[\"@JetBlue @vincenzolandino @CBarrows You take to me places @united simply can't...like non-stop to St. Lucia.\",\"positive\",4,2],[\"@AmericanAir Just followed you.\",\"positive\",2,0],[\"@VirginAmerica come back to #PHL already. We need you to take us out of this horrible cold. #pleasecomeback http://t.co/gLXFwP6nQH\",\"positive\",5,0],[\"@united Hmmm...seems like this could be something to be changed to be more #flyerfriendly.\",\"positive\",5,0],[\"@SouthwestAir rules.\",\"positive\",0,0],[\"@AmericanAir we are off to Kax premium.  Hoping this flight is better food, TV now I know how to work it and service. Tnx\",\"positive\",4,0],[\"@united he has no priority and Iove it\",\"positive\",3,0],[\"@united maybe on my return trip \\ud83d\\udc4d\",\"positive\",3,0],[\"@united They finally gave in a let him on. After they threatened to send him back to Vegas on coach. Thnx.\",\"positive\",5,2],[\"@AmericanAir Believe me, I understand. Flight #2955. Was originally booked for Sunday. Flight was Cancelled Flighted and rescheduled for today.\",\"positive\",4,2],[\"@USAirways how about a drink voucher for the next flight?? #winkwink\",\"positive\",6,0],[\"@united nope. Even better there were 4 seats. And due to W&amp;B first to raise hands got to move up. I wasn't fast enough.\",\"positive\",5,2],[\"@united will the kudos to capt. Herman be relayed to his chief pilot or should I be emailing someone?\",\"positive\",5,0],[\"@USAirways but don't worry! They found a hotel, it's only 45min away. I got there around 11:30pm, no problem.\",\"positive\",6,0],[\"@united no worries Your customer service gets a bad wrap but just spoke w agent who saved me huge amounts of time &amp; apologized for yesterday\",\"positive\",6,2],[\"@JetBlue @NinaDavuluri \\ud83d\\ude03cool\",\"positive\",1,0],[\"@USAirways Wow unbelievable how you treat your customers at Puerto Rico airport! \\ud83d\\udc4d\",\"positive\",6,2],[\"@AmericanAir I might look into that. My wife travels much more than I do. Could we both use the membership?\",\"positive\",2,0],[\"@JetBlue Please come to Indianapolis!\",\"positive\",1,0],[\"@SouthwestAir thanks for the reply, something is off with the phones becuz after 2 dropped calls at 2 hours on hold, I got through on 1 ring\",\"positive\",0,2],[\"Yall tried it. \\\"@JetBlue: Our fleet's on fleek. http://t.co/62GoDFaKNB\\u201d\",\"positive\",1,0],[\"@AmericanAir @dfwairport Guys, let it go. http://t.co/vOxcghciJi\",\"positive\",2,0],[\"@SouthwestAir I want one!\",\"positive\",0,0],[\"@JetBlue it was booked through work but added upgrade on seat. Need the upgrade receipt.\",\"positive\",4,0],[\"@SouthwestAir @intuit @jhamilton2007 4 moms, 4 careers, 1 day trip to LA. #intuitlife #leanin http://t.co/2qJbCv5jzq\\\" #southwestairlines\",\"positive\",0,0],[\"@JetBlue lolol @s_myc88\",\"positive\",1,0],[\"@united you have a guy named Otis at ORD that knows what #customerservice is. he was able to get my bag to me. I upgraded just to be sure\",\"positive\",5,0],[\"@SouthwestAir my birthday is during #DestinationDragons and im a huge fan- anyway I can get tickets?\",\"positive\",0,0],[\"@united that's fine. I'll take them.\",\"positive\",3,0],[\"@united not just refunded, but for those of us who are on vacation to get a free room night to make up for making us sleep in DIA\",\"positive\",6,0],[\"@AmericanAir yes, it says it should be deliver within 6 hours after pick up line.\",\"positive\",2,2],[\"@united can Cancelled Flight my flight anytime if this is where they keep me for the night.. http://t.co/avRTOWTyzk\",\"positive\",4,2],[\"@VirginAmerica , am I dreaming? Did you really just open up a route between Dallas and Austin?! And does this mean Houston might be next?\",\"positive\",5,0],[\"@JetBlue Then en route to the airport the rebooked ticket was refunded.\",\"positive\",6,0],[\"@AmericanAir $90 dollar RT ticket to Chicago? Yes, Please!\",\"positive\",2,0],[\"\\u201c@JetBlue: Our fleet's on fleek. http://t.co/vOUUFRN4jS\\u201d YASSS JetBlue ! Tell them !\",\"positive\",1,0],[\"@JetBlue no, but we're on the flight leaving from Boston to Seattle right now. :) flight 597\",\"positive\",1,0],[\"@JetBlue yes thankfully! Catering just got here and now they are loading, but very frustrated. I was supposed to be there by 10-10:30\",\"positive\",4,2],[\"@united thnx\",\"positive\",3,0],[\"@JetBlue you don't remember our date Monday night back to NYC? #heartbroken\",\"positive\",4,2],[\"@JetBlue Not trying to make you look bad, on your website it says: \\\"Due to weather in the Charleston, NC\\\" Its actually in SC, not NC\",\"positive\",6,0],[\"@JetBlue what are the chances of actually flying out of Charleston today?? Cold, rainy weather in the south of all places...\",\"positive\",4,0],[\"Don't show these to Larry Fedora. RT @JetBlue: Our fleet's on fleek. http://t.co/qqlzk2jkzR\",\"positive\",1,0],[\"@USAirways look out for flying rocks this time! It's a bird it's a plane! Nah never mind it's just a rock...\",\"positive\",1,0],[\"@SouthwestAir - We left iPad in a seat pocket.  Filed lost item report. Received it exactly 1 week Late Flightr.  Is that a record?  #unbelievable\",\"positive\",4,2],[\"@united thnx\",\"positive\",3,0],[\"@SouthwestAir ..just booked trip to Cancun...\\u2764\\ufe0f no baggage fees..but need to have more flight time options\",\"positive\",0,0],[\"@JetBlue Airways Reveals 'Bluemanity' Livery - TravelPulse http://t.co/fTTfyFMvCO\",\"positive\",1,0],[\"@AmericanAir thanks for forcing me to check -in my carry - on luggage. That is exactly why I spent extra money on \\\"travel size\\\" toiletries\",\"positive\",6,2],[\"@JetBlue's CEO battles to appease passengers and Wall Street - http://t.co/uy28D1UEgX http://t.co/vJFV7KSGcQ\",\"positive\",1,0],[\"@SouthwestAir El Paso deals....May\\u2764\\u2764\\u2764\\ud83d\\ude0d\\ud83c\\udf0f\",\"positive\",0,0],[\"Lmfaooo \\u201c@JetBlue: Our fleet's on fleek. http://t.co/1G9RnmYUQe\\u201d\",\"positive\",1,0],[\"@USAirways after missing my flight and reFlight Booking Problems 2x, I just walked onto another flight and my phone was still on the seat!!\",\"positive\",4,2],[\"@USAirways I just think it's weird to have mileage as 666\",\"positive\",5,0],[\"@JetBlue who is he I must send a note!!! Too good for words!\",\"positive\",1,0],[\"@JetBlue Beatriz and Susan. Gate 4 MCO.\",\"positive\",1,0],[\"@SouthwestAir shhhh i don't want something else to steal our deal\\ud83d\\ude09\",\"positive\",0,0],[\"@SouthwestAir @heavenlychc9 I'd at least enjoy a free cocktail...or two.\",\"positive\",0,0],[\"@SouthwestAir I'll have to drop by next time I visit!\",\"positive\",0,0],[\"@VirginAmerica you know it. Need it on my spotify stat #guiltypleasures\",\"positive\",5,0],[\"@SouthwestAir I'm really craving your pretzels, please send me some.\",\"positive\",0,0],[\"Power Moves RT @JetBlue: Our fleet's on fleek. http://t.co/t9s68korSN\",\"positive\",1,0]],\"hovertemplate\":\"x=%{x}<br>y=%{y}<br>text=%{customdata[0]}<br>label=%{customdata[1]}<br>cluster=%{marker.color}<br>predicted_label=%{customdata[3]}<extra></extra>\",\"legendgroup\":\"\",\"marker\":{\"color\":[3,1,5,5,1,0,5,4,0,0,1,4,0,0,1,1,1,5,0,4,4,4,3,4,1,4,4,6,0,5,5,0,2,1,4,1,4,5,0,1,4,0,5,1,1,0,4,0,4,4,2,6,5,5,1,0,3,6,4,5,4,2,5,6,5,0,5,4,4,5,0,5,3,4,3,4,1,0,0,5,6,0,6,5,4,4,0,0,0,2,1,4,3,5,4,5,4,6,0,6,5,1,4,6,2,1,0,2,3,1,5,5,0,6,1,5,4,2,5,0,0,6,5,4,0,5,2,4,6,5,1,6,5,4,0,4,1,3,4,6,2,4,4,5,5,5,2,0,1,4,1,0,0,4,4,0,1,3,5,2,4,0,0,4,1,4,0,6,0,0,6,0,0,0,1,5,0,2,0,4,0,4,5,4,5,5,1,4,3,0,0,6,6,0,3,6,0,5,6,5,6,1,4,5,6,2,6,6,1,5,1,2,1,0,0,5,4,1,0,0,3,1,1,1,2,6,1,3,6,0,0,4,1,0,3,3,4,2,6,0,5,0,6,0,2,3,6,5,4,3,1,1,5,1,6,5,1,5,5,5,4,1,1,5,6,4,6,1,0,1,5,4,6,1,4,1,5,6,6,1,2,0,4,1,5,0,6,5,1,6,1,6,4,6,6,0,6,4,0,4,3,1,0,6,1,1,2,6,1,5,5,0,5,0,3,1,4,5,0,5,5,0,6,0,5,3,6,0,4,4,1,5,6,4,3,1,2,1,2,4,1,3,4,1,1,2,6,2,3,5,6,6,1,0,3,6,0,6,5,5,2,5,6,5,4,4,0,6,6,5,5,5,1,3,1,4,3,6,0,6,1,6,6,0,1,0,5,1,3,0,6,2,2,6,0,6,3,5,6,5,2,5,5,4,5,2,1,1,6,1,0,3,6,4,5,4,4,5,1,3,0,1,5,0,0,1,4,5,1,6,6,1,2,5,4,2,4,1,4,6,6,5,3,6,3,6,0,5,6,6,5,3,0,6,1,0,5,2,2,4,0,0,5,0,6,4,4,4,5,5,0,4,1,5,3,1,0,6,4,4,5,4,0,1,4,4,0,4,0,4,0,4,4,0,5,4,1,2,6,6,4,6,1,5,2,6,4,4,5,5,5,4,1,5,5,2,6,4,4,4,4,2,4,2,4,3,0,3,5,3,5,0,0,0,4,4,6,4,4,2,4,6,4,0,5,4,4,0,6,2,6,4,4,4,3,5,1,3,1,4,1,3,3,4,4,4,4,5,0,2,1,4,5,4,5,4,2,5,6,3,1,1,1,5,6,3,4,4,4,5,5,4,4,2,1,4,6,6,4,5,5,4,6,4,5,1,5,6,6,6,4,4,1,0,1,6,0,6,3,5,5,0,2,2,1,0,6,0,0,3,0,1,4,6,4,1,5,1,1,3,2,4,5,4,6,1,5,2,3,3,0,1,4,6,4,0,6,4,2,4,4,4,1,5,4,5,5,6,4,5,4,5,4,3,3,4,0,6,0,2,2,4,2,5,6,6,3,5,5,4,6,4,0,5,5,4,4,4,2,4,5,5,5,0,0,6,5,6,0,2,1,3,5,2,1,0,5,1,1,5,0,0,1,0,3,1,0,1,3,0,2,4,3,6,5,1,5,4,5,2,4,3,6,1,3,5,6,0,6,5,1,1,0,5,6,0,4,0,3,4,4,1,5,2,6,1,0,6,5,5,0,5,0,0,2,1,1,3,0,1,1,3,4,1,0,1,4,4,5,2,0,5,0,4,2,2,1,2,5,4,0,0,5,5,4,3,1,5,1,4,0,3,5,1,6,1,0,1,5,3,0,4,0,0,6,3,6,3,2,1,6,2,2,1,6,1,4,0,3,2,5,0,6,1,4,4,1,4,1,2,1,0,5,0,2,6,5,4,4,5,5,0,2,0,3,6,2,1,4,5,4,0,1,1,6,6,1,5,1,5,0,1,4,0,0,2,0,6,5,1,6,2,4,5,0,2,0,6,4,5,6,0,1,2,5,1,4,2,5,5,0,4,3,3,5,4,6,5,5,6,6,1,6,2,1,0,1,2,0,4,0,1,5,0,3,6,2,4,5,6,2,1,1,4,3,4,6,4,1,1,4,3,0,1,6,1,0,1,4,5,1,1,0,0,0,5,0,1],\"coloraxis\":\"coloraxis\",\"symbol\":\"circle\"},\"mode\":\"markers\",\"name\":\"\",\"orientation\":\"v\",\"showlegend\":false,\"x\":[0.5875425934791565,1.895021677017212,2.796940565109253,3.194814682006836,2.4200961589813232,5.547643184661865,2.443209648132324,3.913114547729492,5.915879249572754,6.8820576667785645,1.385367512702942,3.0098440647125244,5.465642929077148,5.547206878662109,2.665576696395874,2.497969150543213,1.049879550933838,2.836749315261841,5.303199291229248,3.0669353008270264,2.875366687774658,4.22611665725708,-0.1404012143611908,2.8145411014556885,1.9967782497406006,3.439063549041748,3.2348458766937256,0.15347667038440704,3.924790620803833,1.8756158351898193,4.263679027557373,5.385173320770264,0.882805585861206,1.987200379371643,4.529458999633789,0.9660813808441162,4.5687360763549805,2.1570026874542236,5.606516361236572,1.0714309215545654,4.277820587158203,5.258463382720947,0.7424226403236389,3.465705394744873,1.899127721786499,5.92242431640625,3.3857474327087402,5.847520351409912,2.6047892570495605,2.700852632522583,0.44404906034469604,0.926761269569397,0.8489450216293335,2.6801795959472656,2.065687894821167,5.1887006759643555,0.29493409395217896,1.3108012676239014,3.04526948928833,2.924607753753662,3.311727523803711,0.3752357065677643,2.5503697395324707,5.742350101470947,2.2566378116607666,5.981027603149414,2.2252001762390137,3.7492051124572754,3.4566705226898193,0.7419883012771606,6.263225078582764,0.8050841689109802,0.15819203853607178,2.8874270915985107,-0.0875304564833641,2.3495540618896484,0.6477813124656677,4.984859466552734,4.800148963928223,3.005408525466919,1.1450613737106323,7.039069175720215,0.430216521024704,2.6626691818237305,2.252627372741699,2.892725944519043,6.964035987854004,5.864742279052734,5.614218235015869,0.2706540524959564,3.1342151165008545,3.065607786178589,0.15861274302005768,2.7868831157684326,2.7884154319763184,2.526813507080078,1.6641433238983154,1.357985496520996,6.219184398651123,0.9875482320785522,2.27278995513916,1.586271047592163,2.5760438442230225,1.7894788980484009,0.15075045824050903,0.3439689576625824,6.300892353057861,0.5531817674636841,3.30302357673645,1.0632662773132324,2.2492151260375977,2.238757371902466,4.959228992462158,1.7283364534378052,2.0497822761535645,3.0938382148742676,2.8383195400238037,1.471626877784729,2.7170681953430176,5.9582414627075195,6.048397064208984,0.6521186828613281,1.026863694190979,2.398108720779419,6.6046013832092285,0.9824106097221375,0.09801512956619263,1.6284862756729126,2.2172627449035645,2.3620362281799316,1.5367424488067627,0.6015228629112244,2.130725383758545,2.713606357574463,5.816690444946289,2.99784255027771,1.395974040031433,0.7031090259552002,3.3751633167266846,0.3484073579311371,-0.626616358757019,3.1772189140319824,3.7438032627105713,2.632039785385132,1.4238790273666382,2.3710689544677734,-0.11438462138175964,6.671271324157715,1.4106581211090088,3.1889729499816895,1.0173848867416382,6.023696422576904,6.852487087249756,4.340325832366943,3.488112211227417,5.4723801612854,1.9314223527908325,0.18785406649112701,1.9133555889129639,0.3609151244163513,2.622370958328247,5.526749610900879,6.010063648223877,3.389937162399292,1.5441629886627197,3.019094944000244,5.773279666900635,1.2260738611221313,5.54977560043335,6.465194225311279,0.6613762974739075,6.512246608734131,5.168576717376709,5.861128807067871,0.8983741402626038,2.0943992137908936,5.955145359039307,0.012726761400699615,6.957052230834961,3.5632288455963135,5.729259014129639,3.5695292949676514,1.1622289419174194,1.8158434629440308,1.2688744068145752,3.535877227783203,1.795541524887085,4.649103164672852,0.708104133605957,6.924371242523193,5.507726669311523,2.1070497035980225,0.387667179107666,5.6912455558776855,1.8277820348739624,1.3042092323303223,7.037560939788818,4.1936469078063965,0.7319985628128052,2.234987497329712,2.838257312774658,1.4847280979156494,4.517388343811035,1.9408961534500122,0.7054927349090576,0.07030587643384933,0.3828672170639038,2.023303270339966,1.9563982486724854,2.4751980304718018,1.6085739135742188,-0.0016548612620681524,2.2370316982269287,5.727909088134766,6.632213115692139,1.5364409685134888,3.716054916381836,1.5074061155319214,6.774263858795166,6.813514709472656,0.7350977063179016,2.277773857116699,1.502384901046753,1.8145710229873657,0.1658068150281906,0.3527071475982666,2.506711006164551,0.9072253108024597,1.9226340055465698,5.406731128692627,6.479638576507568,3.3950307369232178,1.5336854457855225,6.9763569831848145,1.533138632774353,0.7689510583877563,3.8873291015625,0.048579052090644836,2.231160879135132,5.250466346740723,1.9860882759094238,5.294571399688721,1.293294906616211,6.6817851066589355,0.21978841722011566,0.38643118739128113,0.3948736786842346,1.990556001663208,2.0374748706817627,0.43012720346450806,1.4090806245803833,2.206163167953491,2.450007438659668,0.9677978157997131,0.4591224193572998,1.5639992952346802,2.9312195777893066,1.9638383388519287,3.140639305114746,1.4097033739089966,1.5332527160644531,0.33983170986175537,2.017301082611084,3.091501474380493,1.223862648010254,2.78547739982605,0.6332709193229675,2.033351182937622,6.167578220367432,1.973749041557312,5.426407814025879,3.7790558338165283,0.41105109453201294,1.4397965669631958,3.3054027557373047,3.1643147468566895,1.8217107057571411,6.270367622375488,0.4000896215438843,0.9739386439323425,1.3134005069732666,6.2512640953063965,3.6335294246673584,2.0074703693389893,1.1460586786270142,6.118714809417725,1.6971549987792969,1.4818475246429443,1.3215428590774536,1.2511177062988281,2.2177884578704834,1.623284101486206,3.5601236820220947,0.9280466437339783,1.1381418704986572,5.943974018096924,1.8307318687438965,3.098759889602661,6.890118598937988,1.8932660818099976,0.10081338882446289,2.002614974975586,4.565857887268066,0.3727354407310486,0.6557971239089966,1.7749065160751343,0.7661721110343933,5.300650119781494,1.48872709274292,3.357789993286133,0.9413094520568848,5.301402568817139,3.2621593475341797,6.445834159851074,0.5700989961624146,1.073441743850708,2.1700551509857178,1.7698216438293457,6.331902503967285,2.9382007122039795,1.7920961380004883,5.5457234382629395,2.414302110671997,5.687137603759766,3.116619110107422,0.584121823310852,1.54396390914917,4.845207691192627,2.741589307785034,2.1357550621032715,2.0903491973876953,2.069056272506714,2.2075369358062744,2.503636121749878,3.300442695617676,1.5593973398208618,0.7481628060340881,2.1693172454833984,1.2881686687469482,2.1195144653320312,1.7452497482299805,0.08730833977460861,4.59841775894165,2.7101681232452393,1.3320918083190918,-0.03185930848121643,0.8778067231178284,-0.08214488625526428,1.0593693256378174,2.1532750129699707,1.1708012819290161,1.2309819459915161,1.449767827987671,6.4030351638793945,2.91051983833313,2.566943883895874,5.651352882385254,1.8878272771835327,2.904872179031372,2.0394937992095947,3.369077205657959,1.4755595922470093,-0.07672728598117828,2.9909627437591553,2.0526721477508545,2.495276689529419,6.901350021362305,1.6875367164611816,0.6208610534667969,0.7152424454689026,2.3832762241363525,3.048375129699707,1.8501280546188354,0.6817575097084045,1.7672566175460815,4.700087547302246,0.8058814406394958,1.5806350708007812,5.981476306915283,2.4281139373779297,1.3702619075775146,0.6185616254806519,0.43822982907295227,6.5017924308776855,1.5965179204940796,5.472866058349609,2.2604408264160156,1.9610074758529663,1.0590194463729858,5.492576599121094,1.4059816598892212,0.7752546668052673,-0.33836761116981506,1.7419703006744385,5.407410144805908,1.2938178777694702,0.6799303889274597,2.2144179344177246,1.7945990562438965,2.1605284214019775,-0.27306726574897766,2.4682109355926514,1.4737681150436401,2.6058645248413086,0.7958893775939941,0.7016218304634094,1.8224490880966187,1.8068466186523438,5.953316688537598,1.3851410150527954,5.404452323913574,0.47326362133026123,1.4778622388839722,3.217108726501465,3.059711456298828,2.4684126377105713,3.579392671585083,2.262049436569214,0.18233095109462738,0.14370666444301605,5.980820655822754,0.16665442287921906,2.639333724975586,6.91062068939209,5.160323143005371,1.2058885097503662,4.010711669921875,3.05163836479187,0.504791796207428,5.555475234985352,1.6636238098144531,0.21560655534267426,1.129915714263916,1.9498991966247559,1.3156280517578125,0.5895096659660339,3.79144287109375,0.8067019581794739,3.194892644882202,1.092609167098999,0.6019067168235779,2.191194772720337,0.18241743743419647,1.928833246231079,0.5656266808509827,1.6484394073486328,5.381227970123291,2.735034227371216,1.0922727584838867,1.967898964881897,3.0096375942230225,0.36527368426322937,5.927667617797852,1.9469784498214722,0.6526471376419067,6.094321250915527,2.73214054107666,-0.457531601190567,0.5865820646286011,2.1699166297912598,6.462579727172852,5.769876480102539,2.1757450103759766,5.9372968673706055,1.793438196182251,3.454846143722534,3.349494695663452,3.8173701763153076,2.5120534896850586,1.9541854858398438,6.397209167480469,3.6114914417266846,0.7451062798500061,1.4508626461029053,0.3140608072280884,0.8283743858337402,6.927688121795654,1.429744005203247,3.651834011077881,3.3612382411956787,2.342449188232422,2.847717046737671,6.690845966339111,1.5081875324249268,4.786600589752197,3.578075647354126,5.138413906097412,3.7708189487457275,5.405806064605713,4.725109577178955,5.416732311248779,2.770658254623413,2.9686574935913086,5.767977237701416,1.1527974605560303,3.2037441730499268,1.1065157651901245,-0.6364979147911072,0.8638116717338562,1.6122829914093018,3.8790297508239746,2.3797607421875,2.6254820823669434,1.8134194612503052,1.454854965209961,-0.22408954799175262,3.0531225204467773,4.145637512207031,2.150028705596924,3.5349013805389404,3.915782928466797,1.857444167137146,0.9496394395828247,2.7194483280181885,3.7947943210601807,0.23296965658664703,1.7531371116638184,3.394644021987915,3.8579788208007812,1.66021728515625,3.6060049533843994,-0.6361912488937378,3.434497117996216,-0.5883487462997437,3.504652738571167,-0.0927577093243599,6.934028148651123,0.4120745062828064,2.8446192741394043,0.8445475101470947,3.001223564147949,6.060568332672119,6.508644104003906,5.512208461761475,4.892675399780273,3.3611154556274414,0.5409339070320129,4.23887300491333,2.6382954120635986,1.204944133758545,3.3594553470611572,0.21975508332252502,2.2425451278686523,7.010528564453125,2.230128288269043,3.239215850830078,3.717738389968872,6.9895429611206055,1.381656289100647,-0.023389209061861038,5.422738075256348,2.1536898612976074,3.251430034637451,4.04626989364624,0.05895629897713661,2.462905168533325,1.2664988040924072,0.5301506519317627,0.8464823961257935,3.1459717750549316,2.0375406742095947,0.5942529439926147,6.298649787902832,3.102102041244507,2.7429826259613037,3.4676144123077393,2.5481817722320557,2.3758060932159424,6.450072765350342,1.3162357807159424,0.19534233212471008,3.24223256111145,3.2486562728881836,3.7621426582336426,0.6899960041046143,3.2234816551208496,0.994598925113678,1.5689246654510498,1.2493265867233276,0.13841208815574646,0.3963980972766876,4.559200763702393,0.9493621587753296,2.9691667556762695,1.9026521444320679,-0.09809228032827377,3.0854787826538086,4.135856628417969,3.1212451457977295,1.617566704750061,3.4149997234344482,1.8745783567428589,2.9611825942993164,0.1651761829853058,1.3814762830734253,3.235405206680298,3.8901593685150146,0.5226700901985168,1.6514674425125122,1.3745601177215576,3.148191452026367,1.87598717212677,1.310761570930481,3.629354476928711,1.4272501468658447,2.2380635738372803,1.9033713340759277,1.757164716720581,0.13258199393749237,1.8297489881515503,3.6488752365112305,2.0510594844818115,1.166955590248108,6.468593597412109,2.1093006134033203,0.0373225174844265,5.572678565979004,0.3587656319141388,0.5865010619163513,2.6075971126556396,3.041548252105713,6.54831600189209,1.1756484508514404,-0.2224283665418625,1.9685086011886597,6.129120826721191,0.785512387752533,6.936600208282471,5.831778049468994,0.01874520629644394,5.507763385772705,1.38553786277771,3.9788830280303955,0.5593701601028442,0.8266830444335938,1.4545865058898926,1.28461754322052,1.3909741640090942,5.677012920379639,1.7762552499771118,-0.6198703050613403,3.27681827545166,2.512274742126465,4.006324291229248,0.5185891389846802,1.307126522064209,2.499312162399292,-0.2284199595451355,0.1806483268737793,0.2038489282131195,5.428437232971191,0.8496402502059937,2.303429365158081,1.816239595413208,1.7322858572006226,5.623788356781006,0.35718661546707153,3.0608937740325928,-0.6458316445350647,3.8143727779388428,2.8087997436523438,2.5586585998535156,3.07053542137146,2.407526731491089,2.832890272140503,2.27762508392334,2.9023118019104004,1.5288203954696655,3.9189321994781494,2.1749393939971924,1.608749270439148,2.3570306301116943,2.367175340652466,2.176940441131592,0.2632276713848114,2.1164791584014893,7.013398170471191,1.5977624654769897,5.538290023803711,0.23169830441474915,0.5924783945083618,3.2606513500213623,0.37361785769462585,2.453042984008789,0.42931148409843445,0.4510234296321869,0.5141212940216064,1.0108221769332886,1.9680472612380981,2.8366446495056152,0.3100360929965973,2.230159044265747,6.845739364624023,2.338850259780884,0.8290992975234985,2.822300910949707,2.701366662979126,3.447826862335205,0.7254601120948792,2.734679698944092,2.9733784198760986,1.3080424070358276,2.178246259689331,6.648758411407471,7.0055036544799805,1.1614248752593994,1.9173442125320435,0.1591072529554367,6.882277488708496,-0.26951947808265686,1.2155492305755615,0.6841445565223694,1.8526467084884644,0.4855000078678131,1.6685194969177246,6.645319938659668,2.234086513519287,2.4023594856262207,1.9397636651992798,1.431930422782898,6.784537315368652,6.50527286529541,1.3189488649368286,6.409073829650879,0.7424721717834473,1.9007768630981445,6.440354347229004,2.1292014122009277,0.6209412813186646,6.862365245819092,-0.25204411149024963,2.2599499225616455,1.1992195844650269,5.222424507141113,0.27850425243377686,0.7850415110588074,1.5524269342422485,3.744424819946289,3.154191493988037,0.17133677005767822,3.6541833877563477,0.8874915242195129,6.251323699951172,1.2949944734573364,1.1361668109893799,3.4371137619018555,0.841363251209259,7.026149272918701,1.2631118297576904,1.0204318761825562,0.7206400036811829,1.1853777170181274,6.100097179412842,5.258234024047852,0.883912980556488,5.304583549499512,2.518941879272461,6.780554294586182,0.13153955340385437,3.100877046585083,1.8750661611557007,2.5325725078582764,1.5016225576400757,-0.21203823387622833,0.8413906693458557,1.7821913957595825,5.846214294433594,1.3157405853271484,3.1718640327453613,1.329648733139038,6.8988356590271,1.8596906661987305,6.9513349533081055,5.96529483795166,0.2298179417848587,1.2383867502212524,1.214996337890625,1.2289927005767822,7.028417110443115,1.5520665645599365,1.0336211919784546,0.9067594408988953,3.767169237136841,0.9692721962928772,6.855121612548828,1.317393183708191,1.9871697425842285,1.7748780250549316,1.7490649223327637,-0.1913994401693344,5.010889053344727,1.218673586845398,6.178468227386475,3.354363441467285,-0.3398107588291168,0.5503728985786438,2.133601188659668,-0.29971376061439514,2.0457944869995117,3.1845204830169678,5.14410400390625,6.353740692138672,2.353724479675293,4.945944309234619,2.86969256401062,0.9146474599838257,1.0243545770645142,1.0172532796859741,1.226712703704834,3.316840648651123,6.248487949371338,1.1460943222045898,0.7870522737503052,2.0841176509857178,2.4862565994262695,1.6619166135787964,6.51537561416626,1.2130218744277954,1.819068431854248,-0.10865803807973862,6.457802772521973,2.164605140686035,6.151440143585205,5.411749839782715,0.5379706025123596,0.9152754545211792,1.0378047227859497,1.0758953094482422,-0.35771822929382324,1.8886970281600952,1.846934199333191,1.5106003284454346,0.17619194090366364,1.4322890043258667,4.724701881408691,1.971148133277893,2.5017006397247314,5.931642532348633,1.1191421747207642,-0.3433336913585663,2.416452169418335,6.468936443328857,0.45982688665390015,1.7827178239822388,4.206557273864746,3.799165964126587,1.333702564239502,1.9946681261062622,1.7926616668701172,0.8395946025848389,2.0896923542022705,6.98328971862793,2.3655552864074707,6.422147274017334,-0.06556855142116547,0.5833294987678528,2.1555404663085938,3.084965229034424,4.22440767288208,1.0015232563018799,2.972033977508545,5.246307373046875,-0.350861519575119,5.6049909591674805,0.26374900341033936,0.7287461757659912,-0.23513004183769226,1.4512704610824585,2.4994959831237793,3.2295334339141846,4.762698650360107,6.517027854919434,1.6099555492401123,1.2897230386734009,1.2114953994750977,0.541466474533081,2.0162229537963867,2.711618423461914,1.651564359664917,1.486667275428772,6.867782115936279,1.5780619382858276,3.010309934616089,6.88888692855835,7.008138179779053,0.6648776531219482,6.809930801391602,2.6480472087860107,2.1331124305725098,1.8685020208358765,1.895122766494751,0.06082458049058914,2.097003698348999,1.5216866731643677,4.950421333312988,0.05909932404756546,6.126920223236084,1.8382498025894165,4.752536296844482,1.489380121231079,2.5459136962890625,6.88906192779541,1.4398024082183838,-0.022772500291466713,1.958364725112915,1.6403124332427979,2.4209978580474854,-0.03540823981165886,2.2974116802215576,1.5135908126831055,6.864555835723877,2.6498537063598633,0.8982197642326355,0.9509926438331604,3.219900131225586,3.7879080772399902,2.705359935760498,2.127493381500244,1.224207878112793,3.3424975872039795,1.7434595823287964,1.27987802028656,1.6800553798675537,1.0501208305358887,0.9469099044799805,3.8006558418273926,1.767997145652771,0.8257806897163391,6.9856719970703125,1.8586595058441162,5.966436862945557,1.3519294261932373,0.9943292737007141,5.549630165100098,0.7170483469963074,1.2956798076629639,-0.08800268173217773,3.3800814151763916,2.3097803592681885,3.8868870735168457,6.450270652770996,1.746556043624878,1.4345886707305908,2.5480525493621826,1.1418627500534058,3.5571682453155518,4.4567437171936035,4.486876010894775,2.4828708171844482,1.464969277381897,3.648338794708252,1.1868301630020142,4.908865451812744,1.5405900478363037,0.7146555185317993,2.4713284969329834,6.981444358825684,1.6389858722686768,3.2200186252593994,1.9982243776321411,2.0939979553222656,1.721462368965149,6.224156379699707,6.508027076721191,5.614789962768555,2.111579656600952,5.893789768218994,1.9385854005813599],\"xaxis\":\"x\",\"y\":[8.812499046325684,16.144014358520508,10.834549903869629,11.002141952514648,15.734236717224121,12.81447982788086,12.11271858215332,12.215534210205078,11.12958812713623,10.944823265075684,16.066015243530273,12.497035026550293,12.41443157196045,12.797205924987793,15.123350143432617,15.747236251831055,13.6668062210083,12.503170013427734,12.468042373657227,13.24559211730957,13.713805198669434,12.874157905578613,9.539173126220703,12.519015312194824,13.9298095703125,13.853720664978027,12.931615829467773,14.468597412109375,11.914257049560547,11.151590347290039,12.831721305847168,11.776215553283691,11.675501823425293,14.186403274536133,12.779991149902344,15.574514389038086,12.300288200378418,12.612839698791504,11.9821195602417,16.020540237426758,13.228200912475586,12.158282279968262,10.839447021484375,14.258003234863281,15.63361644744873,11.108745574951172,13.732759475708008,10.780141830444336,15.187527656555176,13.208345413208008,11.890559196472168,13.611167907714844,10.722795486450195,11.850707054138184,16.348417282104492,12.897906303405762,9.028437614440918,11.5271577835083,13.92226791381836,11.315200805664062,12.818220138549805,12.585066795349121,11.185400009155273,10.988268852233887,12.063892364501953,12.208636283874512,13.154245376586914,12.782365798950195,13.912004470825195,9.724601745605469,12.12680721282959,11.930768966674805,9.556929588317871,14.133896827697754,9.537566184997559,14.415763854980469,15.70616340637207,12.043859481811523,12.376485824584961,11.956625938415527,13.311378479003906,12.331303596496582,14.20439624786377,11.10573673248291,15.007707595825195,15.185977935791016,11.084860801696777,11.120218276977539,11.330742835998535,12.393880844116211,12.888505935668945,13.694563865661621,8.999799728393555,11.828089714050293,13.730542182922363,11.73890209197998,14.053296089172363,14.106176376342773,12.024619102478027,14.212542533874512,10.119059562683105,15.117058753967285,13.474579811096191,12.865140914916992,11.751441955566406,13.042314529418945,11.228647232055664,12.813157081604004,10.535873413085938,16.055604934692383,9.879642486572266,10.488982200622559,12.70461654663086,12.247859001159668,13.224569320678711,13.293705940246582,12.958064079284668,12.143478393554688,11.838982582092285,12.606143951416016,12.100259780883789,12.770284652709961,12.111795425415039,13.45136547088623,12.222646713256836,13.185050964355469,11.457974433898926,14.534093856811523,12.238283157348633,11.769636154174805,15.351902961730957,14.542208671569824,10.714444160461426,14.32724380493164,10.95595932006836,13.019660949707031,15.836925506591797,9.010605812072754,13.601191520690918,10.05453872680664,10.590835571289062,13.608563423156738,13.50666618347168,15.52375316619873,12.756567001342773,11.547011375427246,11.584697723388672,11.465365409851074,15.790812492370605,12.808772087097168,15.973384857177734,11.620388984680176,11.013718605041504,13.207490921020508,12.12936019897461,11.307559967041016,15.413521766662598,9.082684516906738,10.947867393493652,12.290301322937012,13.249515533447266,11.632494926452637,12.175716400146484,13.42845344543457,15.631959915161133,13.6980562210083,11.685542106628418,14.444657325744629,11.3732271194458,11.256535530090332,13.66508960723877,12.135933876037598,12.36699104309082,11.571377754211426,15.95425796508789,10.328038215637207,10.917282104492188,11.800058364868164,12.112921714782715,14.614697456359863,11.626302719116211,13.162158012390137,10.902145385742188,13.875916481018066,11.198809623718262,11.565902709960938,15.96203899383545,12.372786521911621,9.107912063598633,11.041523933410645,11.423501968383789,12.936546325683594,13.57323169708252,11.47049617767334,10.046069145202637,13.921223640441895,11.869215965270996,11.949238777160645,13.455538749694824,12.105749130249023,12.496685028076172,15.911946296691895,13.170266151428223,11.698057174682617,13.395498275756836,11.942939758300781,13.990120887756348,12.951848030090332,16.32089614868164,13.230589866638184,14.673532485961914,12.307860374450684,14.06197452545166,11.801301002502441,11.746040344238281,9.72980785369873,13.382505416870117,13.951513290405273,12.120097160339355,12.211604118347168,9.75171947479248,14.852296829223633,16.05827522277832,14.433156967163086,11.843029975891113,10.29831314086914,14.646349906921387,9.320930480957031,11.785860061645508,11.970623970031738,11.282964706420898,13.305779457092285,12.376935005187988,12.227749824523926,9.689576148986816,9.074492454528809,14.556337356567383,12.180374145507812,13.833052635192871,11.970990180969238,10.419063568115234,12.462069511413574,13.637816429138184,11.913305282592773,12.333279609680176,9.918660163879395,14.442920684814453,10.576239585876465,12.85886001586914,9.352505683898926,15.58533763885498,13.809896469116211,10.989185333251953,15.07573413848877,10.391192436218262,9.811014175415039,15.188369750976562,10.127799987792969,12.127635955810547,11.191433906555176,15.247845649719238,14.638986587524414,15.175193786621094,12.46927547454834,13.98647403717041,13.546692848205566,13.669848442077637,15.539121627807617,10.81454849243164,15.97768497467041,11.094895362854004,12.661884307861328,13.25708293914795,15.771370887756348,13.814452171325684,14.946425437927246,10.050840377807617,10.882868766784668,13.196544647216797,13.122542381286621,12.165210723876953,11.937664031982422,14.05078411102295,16.002531051635742,11.291251182556152,10.840574264526367,12.942266464233398,9.707456588745117,15.739896774291992,13.624101638793945,15.705076217651367,13.17061710357666,13.67440128326416,13.797121047973633,13.76705551147461,12.40101432800293,12.455801010131836,14.348825454711914,11.695741653442383,14.07545280456543,9.174091339111328,15.205747604370117,12.6871337890625,10.019952774047852,15.192020416259766,13.542791366577148,11.678274154663086,11.02774429321289,14.550390243530273,12.694001197814941,10.624102592468262,12.05438232421875,12.428754806518555,11.376968383789062,9.008798599243164,14.694023132324219,15.164674758911133,10.473872184753418,11.965460777282715,11.566697120666504,10.060286521911621,11.755210876464844,12.606927871704102,11.933621406555176,10.782419204711914,9.360465049743652,12.995701789855957,12.32310962677002,13.878349304199219,13.373725891113281,15.902088165283203,11.18171215057373,13.648093223571777,13.394493103027344,10.737110137939453,15.080292701721191,11.853557586669922,14.253313064575195,14.515725135803223,13.302946090698242,15.806062698364258,8.914618492126465,12.122776985168457,15.552733421325684,15.875603675842285,11.65165901184082,13.625075340270996,11.916775703430176,9.549777030944824,9.926807403564453,14.401338577270508,13.831584930419922,15.402312278747559,12.230697631835938,10.170568466186523,12.636738777160645,11.188192367553711,13.0304536819458,12.058856964111328,14.797300338745117,10.765884399414062,11.203386306762695,9.716781616210938,10.93432903289795,13.900654792785645,13.45698070526123,12.084806442260742,11.68113899230957,9.940092086791992,11.887274742126465,10.230700492858887,10.713566780090332,15.842517852783203,9.716346740722656,15.868395805358887,12.386677742004395,10.562503814697266,11.601944923400879,11.704970359802246,13.41003704071045,15.032059669494629,13.801944732666016,13.28127670288086,11.563183784484863,15.797246932983398,10.895137786865234,12.006443977355957,16.248903274536133,9.163878440856934,11.436990737915039,13.128962516784668,12.334185600280762,11.504493713378906,14.231634140014648,11.441661834716797,13.304133415222168,9.524754524230957,11.843160629272461,15.335299491882324,9.81434440612793,11.391244888305664,10.506447792053223,10.423379898071289,13.058206558227539,10.654668807983398,12.190023422241211,15.605032920837402,15.648548126220703,10.734025955200195,15.561915397644043,11.703336715698242,8.888463020324707,11.57435417175293,12.436134338378906,11.843758583068848,13.720719337463379,14.163886070251465,10.447747230529785,14.461891174316406,8.99786376953125,10.735095977783203,14.504924774169922,11.680021286010742,11.075122833251953,12.22755241394043,15.217788696289062,12.953851699829102,11.540942192077637,14.792198181152344,11.899556159973145,11.131278991699219,14.467899322509766,11.858915328979492,10.637520790100098,12.939586639404297,12.784799575805664,14.353923797607422,14.775543212890625,13.53768253326416,14.274162292480469,13.753800392150879,11.905893325805664,8.880166053771973,13.114028930664062,8.964167594909668,13.685165405273438,11.04743480682373,12.552752494812012,10.926090240478516,13.614372253417969,11.53468132019043,8.988122940063477,11.534933090209961,13.077268600463867,15.637934684753418,11.066119194030762,12.424168586730957,11.210769653320312,12.195847511291504,14.016512870788574,11.134523391723633,11.286642074584961,12.264388084411621,11.710856437683105,14.245311737060547,13.958200454711914,14.302136421203613,14.12535285949707,11.813188552856445,11.117715835571289,11.27884578704834,13.137528419494629,15.787593841552734,12.79382038116455,8.915045738220215,15.343317985534668,11.146390914916992,15.187196731567383,14.02092170715332,14.777099609375,11.966043472290039,12.98691177368164,11.575453758239746,13.929281234741211,13.216835021972656,13.327902793884277,12.815691947937012,12.702506065368652,12.07681941986084,12.389239311218262,11.335726737976074,13.729262351989746,13.168434143066406,11.688519477844238,10.422656059265137,11.742058753967285,15.090397834777832,10.548014640808105,13.875785827636719,11.926262855529785,13.719359397888184,12.969696044921875,15.555267333984375,9.936631202697754,12.316244125366211,10.404184341430664,13.46088695526123,12.578051567077637,10.224896430969238,14.847652435302734,12.941341400146484,13.550108909606934,14.932641983032227,13.228093147277832,12.185159683227539,12.160616874694824,12.959541320800781,14.752913475036621,14.167019844055176,12.729409217834473,13.87345027923584,10.544265747070312,14.34787654876709,10.489649772644043,13.340256690979004,9.596643447875977,11.040725708007812,8.978008270263672,11.689867973327637,8.842788696289062,11.38895034790039,11.667962074279785,11.203916549682617,10.80872917175293,13.027527809143066,14.349411964416504,14.30932331085205,13.167637825012207,13.654458999633789,12.547981262207031,12.868792533874512,14.250582695007324,12.11384105682373,11.57895278930664,12.258200645446777,12.574687004089355,14.556445121765137,12.039475440979004,12.850255012512207,11.62809944152832,10.763185501098633,12.929327964782715,13.901848793029785,13.772063255310059,9.09582233428955,10.89739990234375,14.737804412841797,9.17995548248291,15.90558910369873,12.391350746154785,15.073012351989746,9.628911018371582,11.359962463378906,14.21021842956543,13.810166358947754,14.019710540771484,13.586580276489258,11.48193645477295,12.135391235351562,12.429191589355469,14.468862533569336,13.473610877990723,12.319344520568848,14.529919624328613,11.902667999267578,13.045991897583008,11.500185012817383,15.581944465637207,14.27802848815918,8.969146728515625,12.652467727661133,12.364531517028809,14.041172981262207,11.44958209991455,13.713963508605957,9.571892738342285,12.747893333435059,13.345871925354004,14.492579460144043,11.167922019958496,12.416643142700195,13.512633323669434,14.114232063293457,11.844317436218262,14.558619499206543,14.492116928100586,12.08436107635498,15.089764595031738,13.926446914672852,11.714739799499512,12.550577163696289,13.660643577575684,13.326257705688477,13.927841186523438,9.314183235168457,14.922974586486816,10.038359642028809,11.840144157409668,9.993435859680176,11.199458122253418,12.801230430603027,13.95262622833252,15.928747177124023,11.844210624694824,15.13789176940918,9.851678848266602,11.51320743560791,14.283294677734375,10.598967552185059,15.6034517288208,12.20092487335205,11.481785774230957,11.679398536682129,11.827729225158691,14.886107444763184,11.512981414794922,14.44456958770752,11.144553184509277,11.294092178344727,9.552533149719238,11.513382911682129,14.435613632202148,12.544363975524902,10.052289009094238,12.357325553894043,15.14292049407959,11.085199356079102,13.162306785583496,12.547736167907715,9.97693920135498,10.661417007446289,13.417816162109375,11.566287994384766,13.374234199523926,13.5750150680542,15.492149353027344,10.6543607711792,11.85632610321045,8.94162368774414,8.910024642944336,11.390039443969727,13.932021141052246,13.736347198486328,13.557762145996094,14.66989803314209,11.496529579162598,10.176257133483887,15.045056343078613,10.56485652923584,13.608847618103027,15.292850494384766,13.931645393371582,15.040493965148926,10.932648658752441,13.742757797241211,11.1087064743042,10.738543510437012,14.139737129211426,13.179941177368164,12.426497459411621,13.665915489196777,11.609956741333008,13.881888389587402,9.747425079345703,8.91281795501709,13.019126892089844,10.961976051330566,11.580078125,12.43408489227295,12.171135902404785,11.726095199584961,12.767731666564941,12.157343864440918,10.774138450622559,14.272725105285645,13.293838500976562,9.314061164855957,10.824446678161621,11.116595268249512,12.912598609924316,13.93624496459961,14.525164604187012,12.074467658996582,11.14171028137207,12.74085521697998,13.737398147583008,13.04715347290039,13.36257553100586,10.237196922302246,13.250317573547363,11.464034080505371,12.590323448181152,12.337198257446289,12.206823348999023,11.007168769836426,13.667742729187012,11.07678508758545,9.91589069366455,11.3889799118042,11.560647010803223,15.484479904174805,9.292384147644043,10.03205394744873,12.991249084472656,14.392333984375,11.223207473754883,10.353631019592285,15.90566349029541,15.90600299835205,10.233053207397461,12.055450439453125,10.889492988586426,14.67038631439209,11.398417472839355,8.847031593322754,14.658430099487305,10.871771812438965,15.595990180969238,9.363702774047852,11.765941619873047,11.51230239868164,13.351785659790039,8.988348007202148,11.664083480834961,12.836271286010742,15.678215980529785,11.778281211853027,14.586455345153809,12.806218147277832,12.247395515441895,14.313234329223633,9.459105491638184,10.98048210144043,15.659367561340332,9.015219688415527,11.851658821105957,10.884976387023926,12.049029350280762,12.666792869567871,10.570910453796387,15.281142234802246,14.4033842086792,12.47347640991211,11.546778678894043,14.574909210205078,12.09611701965332,15.340557098388672,11.979727745056152,8.985037803649902,14.26109790802002,14.466911315917969,15.692489624023438,11.786892890930176,11.73857307434082,14.16813850402832,15.946775436401367,11.400555610656738,13.896380424499512,12.007781982421875,10.949527740478516,11.827486991882324,15.312274932861328,12.038911819458008,11.473973274230957,11.980849266052246,14.732354164123535,15.667922973632812,9.128995895385742,11.968018531799316,16.169254302978516,14.76620101928711,14.285053253173828,14.351484298706055,14.62209415435791,11.966118812561035,14.671085357666016,14.154972076416016,13.565768241882324,13.577826499938965,11.489030838012695,12.424163818359375,12.585174560546875,10.910056114196777,14.296138763427734,11.531512260437012,12.172826766967773,15.790767669677734,11.5684175491333,10.011842727661133,13.123663902282715,12.71810531616211,11.651006698608398,11.39151382446289,10.925525665283203,13.352071762084961,9.423782348632812,14.198013305664062,10.576764106750488,14.51977825164795,12.978219985961914,12.156356811523438,9.110801696777344,10.766000747680664,15.86573600769043,12.307549476623535,15.723725318908691,11.619215965270996,15.65511417388916,15.390274047851562,9.528794288635254,11.374213218688965,15.723917007446289,12.364459991455078,12.836895942687988,14.24930191040039,8.899833679199219,13.544748306274414,8.989974021911621,11.700181007385254,15.864114761352539,13.282312393188477,10.358333587646484,12.226433753967285,14.406286239624023,12.415987014770508,14.109844207763672,13.60278606414795,12.141862869262695,9.059943199157715,11.401755332946777,13.217145919799805,10.8555269241333,13.888677597045898,14.603838920593262,12.845076560974121,14.469277381896973,14.499075889587402,14.02558422088623,14.395610809326172,10.414023399353027,15.280434608459473,10.997732162475586,12.268832206726074,11.477060317993164,11.52089786529541,13.817383766174316,11.435357093811035,14.579886436462402,13.261131286621094,10.705870628356934,11.348705291748047,11.753561973571777,11.533720016479492,11.290837287902832,9.261930465698242,10.763958930969238,11.51890754699707,14.422879219055176,15.415571212768555,12.928866386413574,13.242094039916992,10.92768669128418,15.878575325012207,15.856637954711914,14.216790199279785,14.266996383666992,15.91720962524414,11.893180847167969,15.199200630187988,10.27574348449707,11.758650779724121,16.201393127441406,14.00524616241455,11.997517585754395,11.982622146606445,11.836725234985352,11.113466262817383,12.773346900939941,11.246418952941895,15.75468635559082,13.610664367675781,11.620397567749023,14.13258171081543,10.103302955627441,11.88115406036377,11.599931716918945,11.580741882324219,13.21142578125,13.065611839294434,10.731588363647461,12.80864143371582,11.920878410339355,15.574723243713379,11.823321342468262,9.95910358428955,15.769270896911621,15.689998626708984,11.438741683959961,11.166946411132812,10.00045394897461,12.085256576538086,12.414609909057617,9.028419494628906,8.934098243713379,13.901033401489258,14.181269645690918,12.76150894165039,10.536784172058105,13.383033752441406,10.791260719299316,12.594246864318848,16.09075927734375,13.492507934570312,12.36618709564209,15.998152732849121,10.95825481414795,15.72165584564209,11.936144828796387,12.015432357788086,13.587265968322754,12.227349281311035,16.012304306030273,10.707901954650879,11.493688583374023,8.93130111694336,12.65231990814209,11.783424377441406,14.222352981567383,14.44216251373291,13.447039604187012,12.385622024536133,15.743911743164062,15.129537582397461,13.184477806091309,9.023924827575684,13.448102951049805,13.553747177124023,13.538846969604492,15.730660438537598,14.933797836303711,12.685254096984863,9.093160629272461,12.28328800201416,15.856947898864746,10.845486640930176,15.345863342285156,12.018304824829102,15.895408630371094,12.726276397705078,11.832911491394043,15.476445198059082,16.128103256225586,10.844371795654297,10.849287986755371,12.739030838012695,11.172903060913086,11.112502098083496,15.971492767333984],\"yaxis\":\"y\",\"type\":\"scatter\"}],                        {\"template\":{\"data\":{\"bar\":[{\"error_x\":{\"color\":\"#2a3f5f\"},\"error_y\":{\"color\":\"#2a3f5f\"},\"marker\":{\"line\":{\"color\":\"#E5ECF6\",\"width\":0.5},\"pattern\":{\"fillmode\":\"overlay\",\"size\":10,\"solidity\":0.2}},\"type\":\"bar\"}],\"barpolar\":[{\"marker\":{\"line\":{\"color\":\"#E5ECF6\",\"width\":0.5},\"pattern\":{\"fillmode\":\"overlay\",\"size\":10,\"solidity\":0.2}},\"type\":\"barpolar\"}],\"carpet\":[{\"aaxis\":{\"endlinecolor\":\"#2a3f5f\",\"gridcolor\":\"white\",\"linecolor\":\"white\",\"minorgridcolor\":\"white\",\"startlinecolor\":\"#2a3f5f\"},\"baxis\":{\"endlinecolor\":\"#2a3f5f\",\"gridcolor\":\"white\",\"linecolor\":\"white\",\"minorgridcolor\":\"white\",\"startlinecolor\":\"#2a3f5f\"},\"type\":\"carpet\"}],\"choropleth\":[{\"colorbar\":{\"outlinewidth\":0,\"ticks\":\"\"},\"type\":\"choropleth\"}],\"contour\":[{\"colorbar\":{\"outlinewidth\":0,\"ticks\":\"\"},\"colorscale\":[[0.0,\"#0d0887\"],[0.1111111111111111,\"#46039f\"],[0.2222222222222222,\"#7201a8\"],[0.3333333333333333,\"#9c179e\"],[0.4444444444444444,\"#bd3786\"],[0.5555555555555556,\"#d8576b\"],[0.6666666666666666,\"#ed7953\"],[0.7777777777777778,\"#fb9f3a\"],[0.8888888888888888,\"#fdca26\"],[1.0,\"#f0f921\"]],\"type\":\"contour\"}],\"contourcarpet\":[{\"colorbar\":{\"outlinewidth\":0,\"ticks\":\"\"},\"type\":\"contourcarpet\"}],\"heatmap\":[{\"colorbar\":{\"outlinewidth\":0,\"ticks\":\"\"},\"colorscale\":[[0.0,\"#0d0887\"],[0.1111111111111111,\"#46039f\"],[0.2222222222222222,\"#7201a8\"],[0.3333333333333333,\"#9c179e\"],[0.4444444444444444,\"#bd3786\"],[0.5555555555555556,\"#d8576b\"],[0.6666666666666666,\"#ed7953\"],[0.7777777777777778,\"#fb9f3a\"],[0.8888888888888888,\"#fdca26\"],[1.0,\"#f0f921\"]],\"type\":\"heatmap\"}],\"heatmapgl\":[{\"colorbar\":{\"outlinewidth\":0,\"ticks\":\"\"},\"colorscale\":[[0.0,\"#0d0887\"],[0.1111111111111111,\"#46039f\"],[0.2222222222222222,\"#7201a8\"],[0.3333333333333333,\"#9c179e\"],[0.4444444444444444,\"#bd3786\"],[0.5555555555555556,\"#d8576b\"],[0.6666666666666666,\"#ed7953\"],[0.7777777777777778,\"#fb9f3a\"],[0.8888888888888888,\"#fdca26\"],[1.0,\"#f0f921\"]],\"type\":\"heatmapgl\"}],\"histogram\":[{\"marker\":{\"pattern\":{\"fillmode\":\"overlay\",\"size\":10,\"solidity\":0.2}},\"type\":\"histogram\"}],\"histogram2d\":[{\"colorbar\":{\"outlinewidth\":0,\"ticks\":\"\"},\"colorscale\":[[0.0,\"#0d0887\"],[0.1111111111111111,\"#46039f\"],[0.2222222222222222,\"#7201a8\"],[0.3333333333333333,\"#9c179e\"],[0.4444444444444444,\"#bd3786\"],[0.5555555555555556,\"#d8576b\"],[0.6666666666666666,\"#ed7953\"],[0.7777777777777778,\"#fb9f3a\"],[0.8888888888888888,\"#fdca26\"],[1.0,\"#f0f921\"]],\"type\":\"histogram2d\"}],\"histogram2dcontour\":[{\"colorbar\":{\"outlinewidth\":0,\"ticks\":\"\"},\"colorscale\":[[0.0,\"#0d0887\"],[0.1111111111111111,\"#46039f\"],[0.2222222222222222,\"#7201a8\"],[0.3333333333333333,\"#9c179e\"],[0.4444444444444444,\"#bd3786\"],[0.5555555555555556,\"#d8576b\"],[0.6666666666666666,\"#ed7953\"],[0.7777777777777778,\"#fb9f3a\"],[0.8888888888888888,\"#fdca26\"],[1.0,\"#f0f921\"]],\"type\":\"histogram2dcontour\"}],\"mesh3d\":[{\"colorbar\":{\"outlinewidth\":0,\"ticks\":\"\"},\"type\":\"mesh3d\"}],\"parcoords\":[{\"line\":{\"colorbar\":{\"outlinewidth\":0,\"ticks\":\"\"}},\"type\":\"parcoords\"}],\"pie\":[{\"automargin\":true,\"type\":\"pie\"}],\"scatter\":[{\"marker\":{\"colorbar\":{\"outlinewidth\":0,\"ticks\":\"\"}},\"type\":\"scatter\"}],\"scatter3d\":[{\"line\":{\"colorbar\":{\"outlinewidth\":0,\"ticks\":\"\"}},\"marker\":{\"colorbar\":{\"outlinewidth\":0,\"ticks\":\"\"}},\"type\":\"scatter3d\"}],\"scattercarpet\":[{\"marker\":{\"colorbar\":{\"outlinewidth\":0,\"ticks\":\"\"}},\"type\":\"scattercarpet\"}],\"scattergeo\":[{\"marker\":{\"colorbar\":{\"outlinewidth\":0,\"ticks\":\"\"}},\"type\":\"scattergeo\"}],\"scattergl\":[{\"marker\":{\"colorbar\":{\"outlinewidth\":0,\"ticks\":\"\"}},\"type\":\"scattergl\"}],\"scattermapbox\":[{\"marker\":{\"colorbar\":{\"outlinewidth\":0,\"ticks\":\"\"}},\"type\":\"scattermapbox\"}],\"scatterpolar\":[{\"marker\":{\"colorbar\":{\"outlinewidth\":0,\"ticks\":\"\"}},\"type\":\"scatterpolar\"}],\"scatterpolargl\":[{\"marker\":{\"colorbar\":{\"outlinewidth\":0,\"ticks\":\"\"}},\"type\":\"scatterpolargl\"}],\"scatterternary\":[{\"marker\":{\"colorbar\":{\"outlinewidth\":0,\"ticks\":\"\"}},\"type\":\"scatterternary\"}],\"surface\":[{\"colorbar\":{\"outlinewidth\":0,\"ticks\":\"\"},\"colorscale\":[[0.0,\"#0d0887\"],[0.1111111111111111,\"#46039f\"],[0.2222222222222222,\"#7201a8\"],[0.3333333333333333,\"#9c179e\"],[0.4444444444444444,\"#bd3786\"],[0.5555555555555556,\"#d8576b\"],[0.6666666666666666,\"#ed7953\"],[0.7777777777777778,\"#fb9f3a\"],[0.8888888888888888,\"#fdca26\"],[1.0,\"#f0f921\"]],\"type\":\"surface\"}],\"table\":[{\"cells\":{\"fill\":{\"color\":\"#EBF0F8\"},\"line\":{\"color\":\"white\"}},\"header\":{\"fill\":{\"color\":\"#C8D4E3\"},\"line\":{\"color\":\"white\"}},\"type\":\"table\"}]},\"layout\":{\"annotationdefaults\":{\"arrowcolor\":\"#2a3f5f\",\"arrowhead\":0,\"arrowwidth\":1},\"autotypenumbers\":\"strict\",\"coloraxis\":{\"colorbar\":{\"outlinewidth\":0,\"ticks\":\"\"}},\"colorscale\":{\"diverging\":[[0,\"#8e0152\"],[0.1,\"#c51b7d\"],[0.2,\"#de77ae\"],[0.3,\"#f1b6da\"],[0.4,\"#fde0ef\"],[0.5,\"#f7f7f7\"],[0.6,\"#e6f5d0\"],[0.7,\"#b8e186\"],[0.8,\"#7fbc41\"],[0.9,\"#4d9221\"],[1,\"#276419\"]],\"sequential\":[[0.0,\"#0d0887\"],[0.1111111111111111,\"#46039f\"],[0.2222222222222222,\"#7201a8\"],[0.3333333333333333,\"#9c179e\"],[0.4444444444444444,\"#bd3786\"],[0.5555555555555556,\"#d8576b\"],[0.6666666666666666,\"#ed7953\"],[0.7777777777777778,\"#fb9f3a\"],[0.8888888888888888,\"#fdca26\"],[1.0,\"#f0f921\"]],\"sequentialminus\":[[0.0,\"#0d0887\"],[0.1111111111111111,\"#46039f\"],[0.2222222222222222,\"#7201a8\"],[0.3333333333333333,\"#9c179e\"],[0.4444444444444444,\"#bd3786\"],[0.5555555555555556,\"#d8576b\"],[0.6666666666666666,\"#ed7953\"],[0.7777777777777778,\"#fb9f3a\"],[0.8888888888888888,\"#fdca26\"],[1.0,\"#f0f921\"]]},\"colorway\":[\"#636efa\",\"#EF553B\",\"#00cc96\",\"#ab63fa\",\"#FFA15A\",\"#19d3f3\",\"#FF6692\",\"#B6E880\",\"#FF97FF\",\"#FECB52\"],\"font\":{\"color\":\"#2a3f5f\"},\"geo\":{\"bgcolor\":\"white\",\"lakecolor\":\"white\",\"landcolor\":\"#E5ECF6\",\"showlakes\":true,\"showland\":true,\"subunitcolor\":\"white\"},\"hoverlabel\":{\"align\":\"left\"},\"hovermode\":\"closest\",\"mapbox\":{\"style\":\"light\"},\"paper_bgcolor\":\"white\",\"plot_bgcolor\":\"#E5ECF6\",\"polar\":{\"angularaxis\":{\"gridcolor\":\"white\",\"linecolor\":\"white\",\"ticks\":\"\"},\"bgcolor\":\"#E5ECF6\",\"radialaxis\":{\"gridcolor\":\"white\",\"linecolor\":\"white\",\"ticks\":\"\"}},\"scene\":{\"xaxis\":{\"backgroundcolor\":\"#E5ECF6\",\"gridcolor\":\"white\",\"gridwidth\":2,\"linecolor\":\"white\",\"showbackground\":true,\"ticks\":\"\",\"zerolinecolor\":\"white\"},\"yaxis\":{\"backgroundcolor\":\"#E5ECF6\",\"gridcolor\":\"white\",\"gridwidth\":2,\"linecolor\":\"white\",\"showbackground\":true,\"ticks\":\"\",\"zerolinecolor\":\"white\"},\"zaxis\":{\"backgroundcolor\":\"#E5ECF6\",\"gridcolor\":\"white\",\"gridwidth\":2,\"linecolor\":\"white\",\"showbackground\":true,\"ticks\":\"\",\"zerolinecolor\":\"white\"}},\"shapedefaults\":{\"line\":{\"color\":\"#2a3f5f\"}},\"ternary\":{\"aaxis\":{\"gridcolor\":\"white\",\"linecolor\":\"white\",\"ticks\":\"\"},\"baxis\":{\"gridcolor\":\"white\",\"linecolor\":\"white\",\"ticks\":\"\"},\"bgcolor\":\"#E5ECF6\",\"caxis\":{\"gridcolor\":\"white\",\"linecolor\":\"white\",\"ticks\":\"\"}},\"title\":{\"x\":0.05},\"xaxis\":{\"automargin\":true,\"gridcolor\":\"white\",\"linecolor\":\"white\",\"ticks\":\"\",\"title\":{\"standoff\":15},\"zerolinecolor\":\"white\",\"zerolinewidth\":2},\"yaxis\":{\"automargin\":true,\"gridcolor\":\"white\",\"linecolor\":\"white\",\"ticks\":\"\",\"title\":{\"standoff\":15},\"zerolinecolor\":\"white\",\"zerolinewidth\":2}}},\"xaxis\":{\"anchor\":\"y\",\"domain\":[0.0,1.0],\"title\":{\"text\":\"x\"}},\"yaxis\":{\"anchor\":\"x\",\"domain\":[0.0,1.0],\"title\":{\"text\":\"y\"}},\"coloraxis\":{\"colorbar\":{\"title\":{\"text\":\"cluster\"}},\"colorscale\":[[0.0,\"#0d0887\"],[0.1111111111111111,\"#46039f\"],[0.2222222222222222,\"#7201a8\"],[0.3333333333333333,\"#9c179e\"],[0.4444444444444444,\"#bd3786\"],[0.5555555555555556,\"#d8576b\"],[0.6666666666666666,\"#ed7953\"],[0.7777777777777778,\"#fb9f3a\"],[0.8888888888888888,\"#fdca26\"],[1.0,\"#f0f921\"]]},\"legend\":{\"tracegroupgap\":0},\"margin\":{\"t\":60}},                        {\"responsive\": true}                    ).then(function(){\n",
       "                            \n",
       "var gd = document.getElementById('e1a91c6d-9945-48c0-93eb-21504414f2c9');\n",
       "var x = new MutationObserver(function (mutations, observer) {{\n",
       "        var display = window.getComputedStyle(gd).display;\n",
       "        if (!display || display === 'none') {{\n",
       "            console.log([gd, 'removed!']);\n",
       "            Plotly.purge(gd);\n",
       "            observer.disconnect();\n",
       "        }}\n",
       "}});\n",
       "\n",
       "// Listen for the removal of the full notebook cells\n",
       "var notebookContainer = gd.closest('#notebook-container');\n",
       "if (notebookContainer) {{\n",
       "    x.observe(notebookContainer, {childList: true});\n",
       "}}\n",
       "\n",
       "// Listen for the clearing of the current output cell\n",
       "var outputEl = gd.closest('.output');\n",
       "if (outputEl) {{\n",
       "    x.observe(outputEl, {childList: true});\n",
       "}}\n",
       "\n",
       "                        })                };                });            </script>        </div>"
      ]
     },
     "metadata": {},
     "output_type": "display_data"
    }
   ],
   "source": [
    "import plotly.express as px\n",
    "\n",
    "fig = px.scatter(\n",
    "    df, x='x', y='y', color='cluster', hover_data=['x', 'y', 'text', 'label', 'cluster', 'predicted_label'])\n",
    "\n",
    "fig.show()"
   ]
  },
  {
   "cell_type": "code",
   "execution_count": 254,
   "id": "d3b01533",
   "metadata": {
    "scrolled": true
   },
   "outputs": [
    {
     "name": "stdout",
     "output_type": "stream",
     "text": [
      "@united I hope so too\n",
      "\n",
      "@USAirways thank you for the apology\n",
      "\n",
      "@united Thanks. Got it straightend out last night.\n",
      "\n",
      "@united Thank you, ^JH, appreciate the prompt responses--me and other passengers will be doing so.\n",
      "\n",
      "@USAirways thank you.\n",
      "\n",
      "@united Okay, thank you both.\n",
      "\n",
      "@united thanks. That means I have 30 minutes to make my international connection to HKG\n",
      "\n",
      "@united you'll be hearing from me for sure.\n",
      "\n",
      "@united I sent in my feedback.  Thank you.\n",
      "\n",
      "@united it's done.  If you do something to make up for it I'll tweet that too.\n",
      "\n",
      "@USAirways Y'all need to get it together\n",
      "\n",
      "@united hi -- @united was. Thank you!\n",
      "\n",
      "@united thanks\n",
      "\n",
      "@united got it, look forward to hearing from you soon\n",
      "\n",
      "@united that's what I thought! Thanks for the clarification!\n",
      "\n",
      "@united Will do! Thanks!\n",
      "\n",
      "@USAirways thank you\n",
      "\n",
      "@united sitting in the middle for the first time .. Hope it works out well\n",
      "\n",
      "@united Definitely will!\n",
      "\n",
      "@united Thank you for your response!\n",
      "\n",
      "@united I'll be impressed if I actually get a response! 😜\n",
      "\n",
      "@united thank you. We are signed up for notifications. We shall watch and wait! ❄️❄️\n",
      "\n",
      "@united S/O to @Delta for coming in clutch and finally taking me home 🙌🙌\n",
      "\n",
      "@united Okay thank you\n",
      "\n",
      "@USAirways Ok Thanks\n",
      "\n",
      "@USAirways we got our bags today. Thanks!\n",
      "\n",
      "@USAirways Eh, it happens. I think I'll survive. 😉 Thanks!\n",
      "\n",
      "@USAirways me too. Me too.\n",
      "\n",
      "@united thank you !\n",
      "\n",
      "@united Thank you.\n",
      "\n",
      "@united it just goes round &amp; round, it's be going on for weeks,\n",
      "\n",
      "@united will do. Thank you!\n",
      "\n",
      "@united Great, thank you!! I'll send it now.\n",
      "\n"
     ]
    }
   ],
   "source": [
    "for i in df.loc[(df[\"label\"] == \"neutral\") & (df[\"cluster\"] == 3)][\"text\"].to_numpy():\n",
    "    print(i + '\\n')"
   ]
  },
  {
   "cell_type": "code",
   "execution_count": 261,
   "id": "8c0bed31",
   "metadata": {},
   "outputs": [],
   "source": [
    "queries = [\"@united Glad to hear it!\", \"@USAirways Apology accepted!\", \"@united Happy to hear that everything got straightened out!\", \"@united Thank you for the prompt responses, much appreciated!\", \"@USAirways You're welcome!\", \"@united Sounds good, thanks for the update.\", \"@united Hope you make your connection!\", \"@united Looking forward to hearing from you.\", \"@united Thank you for submitting your feedback!\", \"@united Looking forward to seeing what you do to make up for it!\", \"@USAirways Get it together, guys!\", \"@united Hi there, thanks for the response!\", \"@united No problem, glad we could help!\", \"@united Thanks, keep us posted!\", \"@united Thanks for the clarification, appreciate it!\", \"@united Will do, thanks for the info!\", \"@USAirways Thank you as well!\", \"@united Hoping you have a comfortable flight!\", \"@united Definitely appreciate your help!\", \"@united Thank you for your response, much appreciated!\", \"@united Crossing my fingers for a response!\", \"@united Thanks for keeping us in the loop!\", \"@united Shoutout to @Delta for saving the day!\", \"@united Thanks for the update, much appreciated!\", \"@USAirways No problem, glad we could help!\", \"@USAirways Glad to hear you got your bags back!\", \"@USAirways It's all good, thanks for the help!\", \"@USAirways Same here, lol.\", \"@united Thank you, appreciate it!\", \"@united Thanks a bunch!\", \"@united Sounds like a frustrating situation, hope it gets resolved soon!\", \"@united Thank you, looking forward to your response!\", \"@united Awesome, thanks so much for your help!\"]"
   ]
  },
  {
   "cell_type": "code",
   "execution_count": 230,
   "id": "0748ae92",
   "metadata": {},
   "outputs": [],
   "source": [
    "from sentence_transformers import SentenceTransformer\n",
    "sbert_model = SentenceTransformer('stsb-bert-base')"
   ]
  },
  {
   "cell_type": "code",
   "execution_count": 262,
   "id": "a2e44ecb",
   "metadata": {},
   "outputs": [],
   "source": [
    "query_vec = sbert_model.encode(queries)"
   ]
  },
  {
   "cell_type": "code",
   "execution_count": 263,
   "id": "09ce3ea7",
   "metadata": {},
   "outputs": [
    {
     "data": {
      "text/plain": [
       "array([[ 0.44175893,  0.30014628,  1.5387958 , ...,  0.74888855,\n",
       "        -0.05347643,  0.02572564],\n",
       "       [-0.54151773,  0.72170174,  0.94822717, ...,  0.66185427,\n",
       "         0.05471979,  0.07131195],\n",
       "       [ 0.2969306 , -0.6216169 ,  1.1630762 , ...,  0.20308727,\n",
       "        -0.08394965, -0.0434161 ],\n",
       "       ...,\n",
       "       [-0.40406147, -0.72339135,  1.698595  , ..., -0.85310113,\n",
       "        -1.0823201 ,  0.2505586 ],\n",
       "       [ 0.386872  ,  0.0961652 ,  1.6331828 , ...,  0.59556806,\n",
       "        -0.7727465 , -0.00685942],\n",
       "       [ 0.25517753,  0.5664329 ,  1.1161169 , ...,  0.1078286 ,\n",
       "        -0.3904413 ,  0.24972162]], dtype=float32)"
      ]
     },
     "execution_count": 263,
     "metadata": {},
     "output_type": "execute_result"
    }
   ],
   "source": [
    "query_vec"
   ]
  },
  {
   "cell_type": "code",
   "execution_count": 264,
   "id": "12d0c67c",
   "metadata": {
    "scrolled": true
   },
   "outputs": [],
   "source": [
    "newtwos = mapper.transform(query_vec)"
   ]
  },
  {
   "cell_type": "code",
   "execution_count": 265,
   "id": "6ffeadeb",
   "metadata": {},
   "outputs": [
    {
     "data": {
      "text/plain": [
       "array([[-1.38185499e-02,  8.73439121e+00],\n",
       "       [-2.99338162e-01,  9.66792583e+00],\n",
       "       [ 3.00690066e-02,  8.89675713e+00],\n",
       "       [ 2.61459857e-01,  8.98866177e+00],\n",
       "       [-1.40815482e-01,  9.31278992e+00],\n",
       "       [ 1.42688021e-01,  8.86186218e+00],\n",
       "       [ 5.14547527e-01,  8.84188557e+00],\n",
       "       [ 3.24487597e-01,  9.01133347e+00],\n",
       "       [ 5.29709421e-02,  9.00070667e+00],\n",
       "       [ 6.81298316e-01,  8.88523388e+00],\n",
       "       [ 8.78433049e-01,  8.79589748e+00],\n",
       "       [ 1.23309851e-01,  8.87493229e+00],\n",
       "       [ 5.07822745e-02,  8.85738373e+00],\n",
       "       [ 1.47951439e-01,  8.79493427e+00],\n",
       "       [ 2.34832568e-03,  9.02089119e+00],\n",
       "       [ 1.78041041e-01,  8.80474758e+00],\n",
       "       [-2.03368366e-01,  9.37172985e+00],\n",
       "       [ 3.25887471e-01,  1.41077166e+01],\n",
       "       [ 8.55428055e-02,  8.86066341e+00],\n",
       "       [ 2.54942104e-02,  8.88321590e+00],\n",
       "       [ 1.62152970e+00,  1.01586571e+01],\n",
       "       [ 6.88097179e-02,  8.99402714e+00],\n",
       "       [ 7.13400990e-02,  8.83230591e+00],\n",
       "       [ 1.86473746e-02,  8.97723389e+00],\n",
       "       [-9.36930627e-02,  9.28915882e+00],\n",
       "       [-3.57365645e-02,  9.54744816e+00],\n",
       "       [-1.76148534e-01,  9.31602573e+00],\n",
       "       [ 1.45884061e+00,  9.90012074e+00],\n",
       "       [ 1.42917797e-01,  8.88314819e+00],\n",
       "       [ 1.16694674e-01,  8.82428837e+00],\n",
       "       [ 2.33559084e+00,  1.06472397e+01],\n",
       "       [ 1.73862383e-01,  8.91113567e+00],\n",
       "       [ 1.59588214e-02,  8.80570030e+00]], dtype=float32)"
      ]
     },
     "execution_count": 265,
     "metadata": {},
     "output_type": "execute_result"
    }
   ],
   "source": [
    "newtwos"
   ]
  },
  {
   "cell_type": "code",
   "execution_count": 260,
   "id": "d5da10a0",
   "metadata": {},
   "outputs": [
    {
     "data": {
      "text/html": [
       "<div>\n",
       "<style scoped>\n",
       "    .dataframe tbody tr th:only-of-type {\n",
       "        vertical-align: middle;\n",
       "    }\n",
       "\n",
       "    .dataframe tbody tr th {\n",
       "        vertical-align: top;\n",
       "    }\n",
       "\n",
       "    .dataframe thead th {\n",
       "        text-align: right;\n",
       "    }\n",
       "</style>\n",
       "<table border=\"1\" class=\"dataframe\">\n",
       "  <thead>\n",
       "    <tr style=\"text-align: right;\">\n",
       "      <th></th>\n",
       "      <th>x</th>\n",
       "      <th>y</th>\n",
       "    </tr>\n",
       "  </thead>\n",
       "  <tbody>\n",
       "    <tr>\n",
       "      <th>0</th>\n",
       "      <td>0.587543</td>\n",
       "      <td>8.812499</td>\n",
       "    </tr>\n",
       "    <tr>\n",
       "      <th>22</th>\n",
       "      <td>-0.140401</td>\n",
       "      <td>9.539173</td>\n",
       "    </tr>\n",
       "    <tr>\n",
       "      <th>56</th>\n",
       "      <td>0.294934</td>\n",
       "      <td>9.028438</td>\n",
       "    </tr>\n",
       "    <tr>\n",
       "      <th>72</th>\n",
       "      <td>0.158192</td>\n",
       "      <td>9.556930</td>\n",
       "    </tr>\n",
       "    <tr>\n",
       "      <th>74</th>\n",
       "      <td>-0.087530</td>\n",
       "      <td>9.537566</td>\n",
       "    </tr>\n",
       "    <tr>\n",
       "      <th>92</th>\n",
       "      <td>0.158613</td>\n",
       "      <td>8.999800</td>\n",
       "    </tr>\n",
       "    <tr>\n",
       "      <th>108</th>\n",
       "      <td>3.303024</td>\n",
       "      <td>10.535873</td>\n",
       "    </tr>\n",
       "    <tr>\n",
       "      <th>137</th>\n",
       "      <td>0.703109</td>\n",
       "      <td>9.010606</td>\n",
       "    </tr>\n",
       "    <tr>\n",
       "      <th>157</th>\n",
       "      <td>0.187854</td>\n",
       "      <td>9.082685</td>\n",
       "    </tr>\n",
       "    <tr>\n",
       "      <th>188</th>\n",
       "      <td>0.708104</td>\n",
       "      <td>9.107912</td>\n",
       "    </tr>\n",
       "    <tr>\n",
       "      <th>194</th>\n",
       "      <td>1.827782</td>\n",
       "      <td>10.046069</td>\n",
       "    </tr>\n",
       "    <tr>\n",
       "      <th>419</th>\n",
       "      <td>0.143707</td>\n",
       "      <td>8.997864</td>\n",
       "    </tr>\n",
       "    <tr>\n",
       "      <th>442</th>\n",
       "      <td>0.182417</td>\n",
       "      <td>8.880166</td>\n",
       "    </tr>\n",
       "    <tr>\n",
       "      <th>444</th>\n",
       "      <td>0.565627</td>\n",
       "      <td>8.964168</td>\n",
       "    </tr>\n",
       "    <tr>\n",
       "      <th>451</th>\n",
       "      <td>0.365274</td>\n",
       "      <td>8.988123</td>\n",
       "    </tr>\n",
       "    <tr>\n",
       "      <th>474</th>\n",
       "      <td>0.314061</td>\n",
       "      <td>8.915046</td>\n",
       "    </tr>\n",
       "    <tr>\n",
       "      <th>525</th>\n",
       "      <td>-0.092758</td>\n",
       "      <td>9.596643</td>\n",
       "    </tr>\n",
       "    <tr>\n",
       "      <th>527</th>\n",
       "      <td>0.412075</td>\n",
       "      <td>8.978008</td>\n",
       "    </tr>\n",
       "    <tr>\n",
       "      <th>529</th>\n",
       "      <td>0.844548</td>\n",
       "      <td>8.842789</td>\n",
       "    </tr>\n",
       "    <tr>\n",
       "      <th>554</th>\n",
       "      <td>0.058956</td>\n",
       "      <td>9.095822</td>\n",
       "    </tr>\n",
       "    <tr>\n",
       "      <th>557</th>\n",
       "      <td>0.530151</td>\n",
       "      <td>9.179955</td>\n",
       "    </tr>\n",
       "    <tr>\n",
       "      <th>561</th>\n",
       "      <td>0.594253</td>\n",
       "      <td>9.628911</td>\n",
       "    </tr>\n",
       "    <tr>\n",
       "      <th>562</th>\n",
       "      <td>6.298650</td>\n",
       "      <td>11.359962</td>\n",
       "    </tr>\n",
       "    <tr>\n",
       "      <th>579</th>\n",
       "      <td>0.138412</td>\n",
       "      <td>8.969147</td>\n",
       "    </tr>\n",
       "    <tr>\n",
       "      <th>585</th>\n",
       "      <td>-0.098092</td>\n",
       "      <td>9.571893</td>\n",
       "    </tr>\n",
       "    <tr>\n",
       "      <th>618</th>\n",
       "      <td>0.586501</td>\n",
       "      <td>10.598968</td>\n",
       "    </tr>\n",
       "    <tr>\n",
       "      <th>629</th>\n",
       "      <td>0.018745</td>\n",
       "      <td>9.552533</td>\n",
       "    </tr>\n",
       "    <tr>\n",
       "      <th>639</th>\n",
       "      <td>1.776255</td>\n",
       "      <td>9.976939</td>\n",
       "    </tr>\n",
       "    <tr>\n",
       "      <th>648</th>\n",
       "      <td>0.180648</td>\n",
       "      <td>8.941624</td>\n",
       "    </tr>\n",
       "    <tr>\n",
       "      <th>649</th>\n",
       "      <td>0.203849</td>\n",
       "      <td>8.910025</td>\n",
       "    </tr>\n",
       "    <tr>\n",
       "      <th>673</th>\n",
       "      <td>2.176940</td>\n",
       "      <td>9.747425</td>\n",
       "    </tr>\n",
       "    <tr>\n",
       "      <th>674</th>\n",
       "      <td>0.263228</td>\n",
       "      <td>8.912818</td>\n",
       "    </tr>\n",
       "    <tr>\n",
       "      <th>686</th>\n",
       "      <td>0.514121</td>\n",
       "      <td>9.314061</td>\n",
       "    </tr>\n",
       "  </tbody>\n",
       "</table>\n",
       "</div>"
      ],
      "text/plain": [
       "            x          y\n",
       "0    0.587543   8.812499\n",
       "22  -0.140401   9.539173\n",
       "56   0.294934   9.028438\n",
       "72   0.158192   9.556930\n",
       "74  -0.087530   9.537566\n",
       "92   0.158613   8.999800\n",
       "108  3.303024  10.535873\n",
       "137  0.703109   9.010606\n",
       "157  0.187854   9.082685\n",
       "188  0.708104   9.107912\n",
       "194  1.827782  10.046069\n",
       "419  0.143707   8.997864\n",
       "442  0.182417   8.880166\n",
       "444  0.565627   8.964168\n",
       "451  0.365274   8.988123\n",
       "474  0.314061   8.915046\n",
       "525 -0.092758   9.596643\n",
       "527  0.412075   8.978008\n",
       "529  0.844548   8.842789\n",
       "554  0.058956   9.095822\n",
       "557  0.530151   9.179955\n",
       "561  0.594253   9.628911\n",
       "562  6.298650  11.359962\n",
       "579  0.138412   8.969147\n",
       "585 -0.098092   9.571893\n",
       "618  0.586501  10.598968\n",
       "629  0.018745   9.552533\n",
       "639  1.776255   9.976939\n",
       "648  0.180648   8.941624\n",
       "649  0.203849   8.910025\n",
       "673  2.176940   9.747425\n",
       "674  0.263228   8.912818\n",
       "686  0.514121   9.314061"
      ]
     },
     "execution_count": 260,
     "metadata": {},
     "output_type": "execute_result"
    }
   ],
   "source": [
    "dfnew = df.loc[(df[\"label\"] == \"neutral\") & (df[\"cluster\"] == 3)][[\"x\", \"y\"]]\n",
    "dfnew"
   ]
  },
  {
   "cell_type": "code",
   "execution_count": 82,
   "id": "9560c35f",
   "metadata": {},
   "outputs": [
    {
     "data": {
      "text/html": [
       "<div>\n",
       "<style scoped>\n",
       "    .dataframe tbody tr th:only-of-type {\n",
       "        vertical-align: middle;\n",
       "    }\n",
       "\n",
       "    .dataframe tbody tr th {\n",
       "        vertical-align: top;\n",
       "    }\n",
       "\n",
       "    .dataframe thead th {\n",
       "        text-align: right;\n",
       "    }\n",
       "</style>\n",
       "<table border=\"1\" class=\"dataframe\">\n",
       "  <thead>\n",
       "    <tr style=\"text-align: right;\">\n",
       "      <th></th>\n",
       "      <th>Unnamed: 0.3</th>\n",
       "      <th>Unnamed: 0.2</th>\n",
       "      <th>Unnamed: 0.1</th>\n",
       "      <th>Unnamed: 0</th>\n",
       "      <th>label</th>\n",
       "      <th>text</th>\n",
       "      <th>category</th>\n",
       "      <th>original_id</th>\n",
       "      <th>predicted_label</th>\n",
       "      <th>emb_0</th>\n",
       "      <th>...</th>\n",
       "      <th>emb_761</th>\n",
       "      <th>emb_762</th>\n",
       "      <th>emb_763</th>\n",
       "      <th>emb_764</th>\n",
       "      <th>emb_765</th>\n",
       "      <th>emb_766</th>\n",
       "      <th>emb_767</th>\n",
       "      <th>cluster</th>\n",
       "      <th>x</th>\n",
       "      <th>y</th>\n",
       "    </tr>\n",
       "  </thead>\n",
       "  <tbody>\n",
       "    <tr>\n",
       "      <th>324</th>\n",
       "      <td>324</td>\n",
       "      <td>324</td>\n",
       "      <td>324</td>\n",
       "      <td>6840</td>\n",
       "      <td>positive</td>\n",
       "      <td>sooo earlier i said i couldnt fly with you fo...</td>\n",
       "      <td>1</td>\n",
       "      <td>6840</td>\n",
       "      <td>0</td>\n",
       "      <td>-0.155660</td>\n",
       "      <td>...</td>\n",
       "      <td>-1.191289</td>\n",
       "      <td>-0.302810</td>\n",
       "      <td>-0.148592</td>\n",
       "      <td>-0.177926</td>\n",
       "      <td>0.054763</td>\n",
       "      <td>-0.010817</td>\n",
       "      <td>0.627878</td>\n",
       "      <td>5</td>\n",
       "      <td>3.395363</td>\n",
       "      <td>15.495116</td>\n",
       "    </tr>\n",
       "    <tr>\n",
       "      <th>325</th>\n",
       "      <td>325</td>\n",
       "      <td>325</td>\n",
       "      <td>325</td>\n",
       "      <td>13384</td>\n",
       "      <td>positive</td>\n",
       "      <td>thanks hoping that by wed I can get back to DFW</td>\n",
       "      <td>1</td>\n",
       "      <td>13384</td>\n",
       "      <td>0</td>\n",
       "      <td>0.778993</td>\n",
       "      <td>...</td>\n",
       "      <td>0.128634</td>\n",
       "      <td>0.230073</td>\n",
       "      <td>0.081046</td>\n",
       "      <td>-0.708278</td>\n",
       "      <td>-0.784081</td>\n",
       "      <td>-0.363848</td>\n",
       "      <td>0.637311</td>\n",
       "      <td>0</td>\n",
       "      <td>0.110970</td>\n",
       "      <td>16.098774</td>\n",
       "    </tr>\n",
       "    <tr>\n",
       "      <th>326</th>\n",
       "      <td>326</td>\n",
       "      <td>326</td>\n",
       "      <td>326</td>\n",
       "      <td>2768</td>\n",
       "      <td>positive</td>\n",
       "      <td>all good man it isn't your fault that plane i...</td>\n",
       "      <td>1</td>\n",
       "      <td>2768</td>\n",
       "      <td>2</td>\n",
       "      <td>0.129607</td>\n",
       "      <td>...</td>\n",
       "      <td>-2.403039</td>\n",
       "      <td>-0.656652</td>\n",
       "      <td>0.019882</td>\n",
       "      <td>0.399017</td>\n",
       "      <td>0.637847</td>\n",
       "      <td>-0.436469</td>\n",
       "      <td>0.135851</td>\n",
       "      <td>1</td>\n",
       "      <td>1.643391</td>\n",
       "      <td>14.840198</td>\n",
       "    </tr>\n",
       "    <tr>\n",
       "      <th>327</th>\n",
       "      <td>327</td>\n",
       "      <td>327</td>\n",
       "      <td>327</td>\n",
       "      <td>7160</td>\n",
       "      <td>positive</td>\n",
       "      <td>LMAO “: Our fleet's on fleek. http://t.co/aIyC...</td>\n",
       "      <td>1</td>\n",
       "      <td>7160</td>\n",
       "      <td>0</td>\n",
       "      <td>-0.120038</td>\n",
       "      <td>...</td>\n",
       "      <td>-0.617315</td>\n",
       "      <td>-0.397056</td>\n",
       "      <td>0.393941</td>\n",
       "      <td>0.499522</td>\n",
       "      <td>0.374010</td>\n",
       "      <td>-0.553687</td>\n",
       "      <td>-0.062683</td>\n",
       "      <td>3</td>\n",
       "      <td>2.282380</td>\n",
       "      <td>17.267775</td>\n",
       "    </tr>\n",
       "    <tr>\n",
       "      <th>328</th>\n",
       "      <td>328</td>\n",
       "      <td>328</td>\n",
       "      <td>328</td>\n",
       "      <td>8954</td>\n",
       "      <td>positive</td>\n",
       "      <td>to offer service from Daytona Beach to New Yo...</td>\n",
       "      <td>1</td>\n",
       "      <td>8954</td>\n",
       "      <td>0</td>\n",
       "      <td>-0.025715</td>\n",
       "      <td>...</td>\n",
       "      <td>0.198055</td>\n",
       "      <td>0.143096</td>\n",
       "      <td>-0.214299</td>\n",
       "      <td>-0.349405</td>\n",
       "      <td>0.046533</td>\n",
       "      <td>-0.118862</td>\n",
       "      <td>-0.106325</td>\n",
       "      <td>3</td>\n",
       "      <td>1.898268</td>\n",
       "      <td>17.464727</td>\n",
       "    </tr>\n",
       "    <tr>\n",
       "      <th>...</th>\n",
       "      <td>...</td>\n",
       "      <td>...</td>\n",
       "      <td>...</td>\n",
       "      <td>...</td>\n",
       "      <td>...</td>\n",
       "      <td>...</td>\n",
       "      <td>...</td>\n",
       "      <td>...</td>\n",
       "      <td>...</td>\n",
       "      <td>...</td>\n",
       "      <td>...</td>\n",
       "      <td>...</td>\n",
       "      <td>...</td>\n",
       "      <td>...</td>\n",
       "      <td>...</td>\n",
       "      <td>...</td>\n",
       "      <td>...</td>\n",
       "      <td>...</td>\n",
       "      <td>...</td>\n",
       "      <td>...</td>\n",
       "      <td>...</td>\n",
       "    </tr>\n",
       "    <tr>\n",
       "      <th>407</th>\n",
       "      <td>407</td>\n",
       "      <td>407</td>\n",
       "      <td>407</td>\n",
       "      <td>6823</td>\n",
       "      <td>positive</td>\n",
       "      <td>A320 pulling into the gate as the sunrises he...</td>\n",
       "      <td>1</td>\n",
       "      <td>6823</td>\n",
       "      <td>0</td>\n",
       "      <td>-0.246986</td>\n",
       "      <td>...</td>\n",
       "      <td>0.477163</td>\n",
       "      <td>-0.203902</td>\n",
       "      <td>0.268203</td>\n",
       "      <td>-0.028085</td>\n",
       "      <td>0.418982</td>\n",
       "      <td>0.284505</td>\n",
       "      <td>-0.026405</td>\n",
       "      <td>3</td>\n",
       "      <td>2.176193</td>\n",
       "      <td>17.391640</td>\n",
       "    </tr>\n",
       "    <tr>\n",
       "      <th>408</th>\n",
       "      <td>408</td>\n",
       "      <td>408</td>\n",
       "      <td>408</td>\n",
       "      <td>378</td>\n",
       "      <td>positive</td>\n",
       "      <td>For my Grandma Ella's 80th, she would &amp;lt;3 a...</td>\n",
       "      <td>1</td>\n",
       "      <td>378</td>\n",
       "      <td>0</td>\n",
       "      <td>-0.409296</td>\n",
       "      <td>...</td>\n",
       "      <td>-0.453528</td>\n",
       "      <td>0.126615</td>\n",
       "      <td>0.290363</td>\n",
       "      <td>0.115345</td>\n",
       "      <td>0.756548</td>\n",
       "      <td>-0.186284</td>\n",
       "      <td>-0.172374</td>\n",
       "      <td>1</td>\n",
       "      <td>2.449598</td>\n",
       "      <td>14.766312</td>\n",
       "    </tr>\n",
       "    <tr>\n",
       "      <th>409</th>\n",
       "      <td>409</td>\n",
       "      <td>409</td>\n",
       "      <td>409</td>\n",
       "      <td>5527</td>\n",
       "      <td>positive</td>\n",
       "      <td>I will do just about anything tO GO TO THE VE...</td>\n",
       "      <td>1</td>\n",
       "      <td>5527</td>\n",
       "      <td>0</td>\n",
       "      <td>-0.383703</td>\n",
       "      <td>...</td>\n",
       "      <td>-0.793519</td>\n",
       "      <td>-0.261575</td>\n",
       "      <td>0.512884</td>\n",
       "      <td>-0.530931</td>\n",
       "      <td>-0.230358</td>\n",
       "      <td>0.056423</td>\n",
       "      <td>0.550610</td>\n",
       "      <td>2</td>\n",
       "      <td>3.782779</td>\n",
       "      <td>12.065850</td>\n",
       "    </tr>\n",
       "    <tr>\n",
       "      <th>410</th>\n",
       "      <td>410</td>\n",
       "      <td>410</td>\n",
       "      <td>410</td>\n",
       "      <td>7678</td>\n",
       "      <td>positive</td>\n",
       "      <td>is amazing. Had a short delay. They gave me $...</td>\n",
       "      <td>1</td>\n",
       "      <td>7678</td>\n",
       "      <td>2</td>\n",
       "      <td>-0.381238</td>\n",
       "      <td>...</td>\n",
       "      <td>-1.206835</td>\n",
       "      <td>-0.085316</td>\n",
       "      <td>0.287592</td>\n",
       "      <td>-0.492705</td>\n",
       "      <td>-0.153310</td>\n",
       "      <td>-0.246269</td>\n",
       "      <td>0.217216</td>\n",
       "      <td>1</td>\n",
       "      <td>2.755985</td>\n",
       "      <td>15.005701</td>\n",
       "    </tr>\n",
       "    <tr>\n",
       "      <th>411</th>\n",
       "      <td>411</td>\n",
       "      <td>411</td>\n",
       "      <td>411</td>\n",
       "      <td>589</td>\n",
       "      <td>positive</td>\n",
       "      <td>441, which also had 1 working WC in coach. Go...</td>\n",
       "      <td>1</td>\n",
       "      <td>589</td>\n",
       "      <td>2</td>\n",
       "      <td>-0.277235</td>\n",
       "      <td>...</td>\n",
       "      <td>-0.657052</td>\n",
       "      <td>-0.132889</td>\n",
       "      <td>0.062956</td>\n",
       "      <td>-0.121568</td>\n",
       "      <td>0.263083</td>\n",
       "      <td>-0.149534</td>\n",
       "      <td>0.197145</td>\n",
       "      <td>1</td>\n",
       "      <td>0.491514</td>\n",
       "      <td>14.919589</td>\n",
       "    </tr>\n",
       "  </tbody>\n",
       "</table>\n",
       "<p>88 rows × 780 columns</p>\n",
       "</div>"
      ],
      "text/plain": [
       "     Unnamed: 0.3  Unnamed: 0.2  Unnamed: 0.1  Unnamed: 0     label  \\\n",
       "324           324           324           324        6840  positive   \n",
       "325           325           325           325       13384  positive   \n",
       "326           326           326           326        2768  positive   \n",
       "327           327           327           327        7160  positive   \n",
       "328           328           328           328        8954  positive   \n",
       "..            ...           ...           ...         ...       ...   \n",
       "407           407           407           407        6823  positive   \n",
       "408           408           408           408         378  positive   \n",
       "409           409           409           409        5527  positive   \n",
       "410           410           410           410        7678  positive   \n",
       "411           411           411           411         589  positive   \n",
       "\n",
       "                                                  text  category  original_id  \\\n",
       "324   sooo earlier i said i couldnt fly with you fo...         1         6840   \n",
       "325    thanks hoping that by wed I can get back to DFW         1        13384   \n",
       "326   all good man it isn't your fault that plane i...         1         2768   \n",
       "327  LMAO “: Our fleet's on fleek. http://t.co/aIyC...         1         7160   \n",
       "328   to offer service from Daytona Beach to New Yo...         1         8954   \n",
       "..                                                 ...       ...          ...   \n",
       "407   A320 pulling into the gate as the sunrises he...         1         6823   \n",
       "408   For my Grandma Ella's 80th, she would &lt;3 a...         1          378   \n",
       "409   I will do just about anything tO GO TO THE VE...         1         5527   \n",
       "410   is amazing. Had a short delay. They gave me $...         1         7678   \n",
       "411   441, which also had 1 working WC in coach. Go...         1          589   \n",
       "\n",
       "     predicted_label     emb_0  ...   emb_761   emb_762   emb_763   emb_764  \\\n",
       "324                0 -0.155660  ... -1.191289 -0.302810 -0.148592 -0.177926   \n",
       "325                0  0.778993  ...  0.128634  0.230073  0.081046 -0.708278   \n",
       "326                2  0.129607  ... -2.403039 -0.656652  0.019882  0.399017   \n",
       "327                0 -0.120038  ... -0.617315 -0.397056  0.393941  0.499522   \n",
       "328                0 -0.025715  ...  0.198055  0.143096 -0.214299 -0.349405   \n",
       "..               ...       ...  ...       ...       ...       ...       ...   \n",
       "407                0 -0.246986  ...  0.477163 -0.203902  0.268203 -0.028085   \n",
       "408                0 -0.409296  ... -0.453528  0.126615  0.290363  0.115345   \n",
       "409                0 -0.383703  ... -0.793519 -0.261575  0.512884 -0.530931   \n",
       "410                2 -0.381238  ... -1.206835 -0.085316  0.287592 -0.492705   \n",
       "411                2 -0.277235  ... -0.657052 -0.132889  0.062956 -0.121568   \n",
       "\n",
       "      emb_765   emb_766   emb_767  cluster         x          y  \n",
       "324  0.054763 -0.010817  0.627878        5  3.395363  15.495116  \n",
       "325 -0.784081 -0.363848  0.637311        0  0.110970  16.098774  \n",
       "326  0.637847 -0.436469  0.135851        1  1.643391  14.840198  \n",
       "327  0.374010 -0.553687 -0.062683        3  2.282380  17.267775  \n",
       "328  0.046533 -0.118862 -0.106325        3  1.898268  17.464727  \n",
       "..        ...       ...       ...      ...       ...        ...  \n",
       "407  0.418982  0.284505 -0.026405        3  2.176193  17.391640  \n",
       "408  0.756548 -0.186284 -0.172374        1  2.449598  14.766312  \n",
       "409 -0.230358  0.056423  0.550610        2  3.782779  12.065850  \n",
       "410 -0.153310 -0.246269  0.217216        1  2.755985  15.005701  \n",
       "411  0.263083 -0.149534  0.197145        1  0.491514  14.919589  \n",
       "\n",
       "[88 rows x 780 columns]"
      ]
     },
     "execution_count": 82,
     "metadata": {},
     "output_type": "execute_result"
    }
   ],
   "source": [
    "df.loc[df['label'] == 'positive']"
   ]
  },
  {
   "cell_type": "code",
   "execution_count": null,
   "id": "ad6b58e2",
   "metadata": {},
   "outputs": [],
   "source": [
    "from sklearn.manifold import TSNE\n",
    "\n",
    "tsne = TSNE(n_components=2, verbose=2, random_state=42)\n",
    "genre_embedding = tsne.fit_transform(arr_emb)\n",
    "\n",
    "genre_embedding"
   ]
  },
  {
   "cell_type": "code",
   "execution_count": null,
   "id": "82a97574",
   "metadata": {},
   "outputs": [],
   "source": [
    "df3[\"x\"] = genre_embedding[:, 0]\n",
    "df3[\"y\"] = genre_embedding[:, 1]"
   ]
  },
  {
   "cell_type": "code",
   "execution_count": null,
   "id": "695a5b01",
   "metadata": {},
   "outputs": [],
   "source": [
    "df3"
   ]
  },
  {
   "cell_type": "code",
   "execution_count": null,
   "id": "7ca22f72",
   "metadata": {},
   "outputs": [],
   "source": []
  }
 ],
 "metadata": {
  "kernelspec": {
   "display_name": "Python 3 (ipykernel)",
   "language": "python",
   "name": "python3"
  },
  "language_info": {
   "codemirror_mode": {
    "name": "ipython",
    "version": 3
   },
   "file_extension": ".py",
   "mimetype": "text/x-python",
   "name": "python",
   "nbconvert_exporter": "python",
   "pygments_lexer": "ipython3",
   "version": "3.10.4"
  }
 },
 "nbformat": 4,
 "nbformat_minor": 5
}
