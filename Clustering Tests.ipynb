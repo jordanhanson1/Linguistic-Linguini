{
 "cells": [
  {
   "cell_type": "code",
   "execution_count": 363,
   "id": "9aaf5e8e",
   "metadata": {},
   "outputs": [],
   "source": [
    "import pandas as pd\n",
    "import numpy as np\n",
    "import datetime as dt\n",
    "import seaborn as sns\n",
    "import matplotlib.pyplot as plt\n",
    "from sklearn.preprocessing import StandardScaler\n",
    "from sklearn.cluster import KMeans\n",
    "from kneed import KneeLocator\n",
    "import math\n",
    "\n",
    "sns.set(rc={'figure.figsize':(15, 6)})"
   ]
  },
  {
   "cell_type": "code",
   "execution_count": 123,
   "id": "9b1b1b22",
   "metadata": {},
   "outputs": [],
   "source": [
    "def preprocess(df):\n",
    "    \"\"\"Preprocess data for KMeans clustering\"\"\"\n",
    "    \n",
    "    #df_log = np.log1p(df)\n",
    "    scaler = StandardScaler()\n",
    "    scaler.fit(df)\n",
    "    df_norm = scaler.transform(df)\n",
    "    \n",
    "    return df_norm"
   ]
  },
  {
   "cell_type": "code",
   "execution_count": 124,
   "id": "35f41f9c",
   "metadata": {},
   "outputs": [],
   "source": [
    "def elbow_plot(df):\n",
    "    \"\"\"Create elbow plot from normalized data\"\"\"\n",
    "    \n",
    "    df_norm = preprocess(df)\n",
    "    \n",
    "    sse = {}\n",
    "    \n",
    "    for k in range(1, 21):\n",
    "        kmeans = KMeans(n_clusters=k, random_state=1)\n",
    "        kmeans.fit(df_norm)\n",
    "        sse[k] = kmeans.inertia_\n",
    "    \n",
    "    plt.title('Elbow plot for K selection')\n",
    "    plt.xlabel('k')\n",
    "    plt.ylabel('SSE')\n",
    "    sns.pointplot(x=list(sse.keys()),\n",
    "                 y=list(sse.values()))\n",
    "    plt.show()"
   ]
  },
  {
   "cell_type": "code",
   "execution_count": 125,
   "id": "2f03d934",
   "metadata": {},
   "outputs": [],
   "source": [
    "def find_k(df, increment=0, decrement=0):\n",
    "    \"\"\"Find the optimum k clusters\"\"\"\n",
    "    \n",
    "    df_norm = preprocess(df)\n",
    "    sse = {}\n",
    "    \n",
    "    for k in range(1, 21):\n",
    "        kmeans = KMeans(n_clusters=k, random_state=1)\n",
    "        kmeans.fit(df_norm)\n",
    "        sse[k] = kmeans.inertia_\n",
    "    \n",
    "    kn = KneeLocator(x=list(sse.keys()), \n",
    "                 y=list(sse.values()), \n",
    "                 curve='convex', \n",
    "                 direction='decreasing')\n",
    "    k = kn.knee + increment - decrement\n",
    "    return k"
   ]
  },
  {
   "cell_type": "code",
   "execution_count": 533,
   "id": "7d6297fd",
   "metadata": {},
   "outputs": [],
   "source": [
    "def run_kmeans(df, increment=0, decrement=0):\n",
    "    \"\"\"Run KMeans clustering, including the preprocessing of the data\n",
    "    and the automatic selection of the optimum k. \n",
    "    \"\"\"\n",
    "    \n",
    "    df_norm = preprocess(df)\n",
    "    k = find_k(df, increment, decrement)\n",
    "    kmeans = KMeans(n_clusters=k, \n",
    "                    random_state=1)\n",
    "    kmeans.fit(df_norm)\n",
    "    return df.assign(cluster=kmeans.labels_)\n",
    "\n",
    "def run_kmeans2(df, k, increment=0, decrement=0):\n",
    "    \"\"\"Run KMeans clustering, including the preprocessing of the data\n",
    "    and the automatic selection of the optimum k. \n",
    "    \"\"\"\n",
    "    \n",
    "    df_norm = preprocess(df)\n",
    "    kmeans = KMeans(n_clusters=k, \n",
    "                    random_state=1)\n",
    "    kmeans.fit(df_norm)\n",
    "    return df.assign(cluster=kmeans.labels_)"
   ]
  },
  {
   "cell_type": "code",
   "execution_count": 238,
   "id": "874a0a6c",
   "metadata": {},
   "outputs": [],
   "source": [
    "df = pd.read_csv('missesTotal.csv')  "
   ]
  },
  {
   "cell_type": "code",
   "execution_count": 239,
   "id": "83655cd2",
   "metadata": {},
   "outputs": [
    {
     "data": {
      "text/html": [
       "<div>\n",
       "<style scoped>\n",
       "    .dataframe tbody tr th:only-of-type {\n",
       "        vertical-align: middle;\n",
       "    }\n",
       "\n",
       "    .dataframe tbody tr th {\n",
       "        vertical-align: top;\n",
       "    }\n",
       "\n",
       "    .dataframe thead th {\n",
       "        text-align: right;\n",
       "    }\n",
       "</style>\n",
       "<table border=\"1\" class=\"dataframe\">\n",
       "  <thead>\n",
       "    <tr style=\"text-align: right;\">\n",
       "      <th></th>\n",
       "      <th>Unnamed: 0.1</th>\n",
       "      <th>Unnamed: 0</th>\n",
       "      <th>label</th>\n",
       "      <th>text</th>\n",
       "      <th>category</th>\n",
       "      <th>original_id</th>\n",
       "      <th>predicted_label</th>\n",
       "      <th>emb_0</th>\n",
       "      <th>emb_1</th>\n",
       "      <th>emb_2</th>\n",
       "      <th>...</th>\n",
       "      <th>emb_758</th>\n",
       "      <th>emb_759</th>\n",
       "      <th>emb_760</th>\n",
       "      <th>emb_761</th>\n",
       "      <th>emb_762</th>\n",
       "      <th>emb_763</th>\n",
       "      <th>emb_764</th>\n",
       "      <th>emb_765</th>\n",
       "      <th>emb_766</th>\n",
       "      <th>emb_767</th>\n",
       "    </tr>\n",
       "  </thead>\n",
       "  <tbody>\n",
       "    <tr>\n",
       "      <th>0</th>\n",
       "      <td>0</td>\n",
       "      <td>813</td>\n",
       "      <td>neutral</td>\n",
       "      <td>@united I hope so too</td>\n",
       "      <td>0</td>\n",
       "      <td>813</td>\n",
       "      <td>1</td>\n",
       "      <td>0.701212</td>\n",
       "      <td>0.149414</td>\n",
       "      <td>1.801739</td>\n",
       "      <td>...</td>\n",
       "      <td>-0.641708</td>\n",
       "      <td>-0.631561</td>\n",
       "      <td>0.724360</td>\n",
       "      <td>-0.479683</td>\n",
       "      <td>0.342981</td>\n",
       "      <td>-0.128573</td>\n",
       "      <td>-0.765833</td>\n",
       "      <td>-0.322237</td>\n",
       "      <td>-0.484272</td>\n",
       "      <td>-0.027367</td>\n",
       "    </tr>\n",
       "    <tr>\n",
       "      <th>1</th>\n",
       "      <td>1</td>\n",
       "      <td>7130</td>\n",
       "      <td>neutral</td>\n",
       "      <td>@jetblue who's running your tweeter using the ...</td>\n",
       "      <td>0</td>\n",
       "      <td>7130</td>\n",
       "      <td>2</td>\n",
       "      <td>-0.095302</td>\n",
       "      <td>0.519799</td>\n",
       "      <td>-0.860941</td>\n",
       "      <td>...</td>\n",
       "      <td>-0.844507</td>\n",
       "      <td>0.545532</td>\n",
       "      <td>-0.988797</td>\n",
       "      <td>-0.470753</td>\n",
       "      <td>0.221976</td>\n",
       "      <td>-0.781311</td>\n",
       "      <td>0.437286</td>\n",
       "      <td>0.007654</td>\n",
       "      <td>-0.176711</td>\n",
       "      <td>0.090562</td>\n",
       "    </tr>\n",
       "    <tr>\n",
       "      <th>2</th>\n",
       "      <td>2</td>\n",
       "      <td>3380</td>\n",
       "      <td>neutral</td>\n",
       "      <td>@united still waiting for a response on whethe...</td>\n",
       "      <td>0</td>\n",
       "      <td>3380</td>\n",
       "      <td>2</td>\n",
       "      <td>0.404428</td>\n",
       "      <td>-0.281564</td>\n",
       "      <td>1.098605</td>\n",
       "      <td>...</td>\n",
       "      <td>0.027952</td>\n",
       "      <td>-0.336490</td>\n",
       "      <td>-0.060362</td>\n",
       "      <td>-0.929268</td>\n",
       "      <td>0.410162</td>\n",
       "      <td>0.116782</td>\n",
       "      <td>-0.160092</td>\n",
       "      <td>-0.028493</td>\n",
       "      <td>-0.795741</td>\n",
       "      <td>0.037037</td>\n",
       "    </tr>\n",
       "    <tr>\n",
       "      <th>3</th>\n",
       "      <td>3</td>\n",
       "      <td>3008</td>\n",
       "      <td>neutral</td>\n",
       "      <td>@united Based on suggestions from other passen...</td>\n",
       "      <td>0</td>\n",
       "      <td>3008</td>\n",
       "      <td>2</td>\n",
       "      <td>0.580564</td>\n",
       "      <td>-0.417264</td>\n",
       "      <td>0.539577</td>\n",
       "      <td>...</td>\n",
       "      <td>-0.246741</td>\n",
       "      <td>-1.197115</td>\n",
       "      <td>-0.562455</td>\n",
       "      <td>-0.443025</td>\n",
       "      <td>-0.123202</td>\n",
       "      <td>-0.652523</td>\n",
       "      <td>-0.151871</td>\n",
       "      <td>0.264033</td>\n",
       "      <td>-0.452444</td>\n",
       "      <td>-0.366747</td>\n",
       "    </tr>\n",
       "    <tr>\n",
       "      <th>4</th>\n",
       "      <td>4</td>\n",
       "      <td>7030</td>\n",
       "      <td>neutral</td>\n",
       "      <td>“@JetBlue: Our fleet's on fleek. http://t.co/Q...</td>\n",
       "      <td>0</td>\n",
       "      <td>7030</td>\n",
       "      <td>2</td>\n",
       "      <td>0.150641</td>\n",
       "      <td>0.191832</td>\n",
       "      <td>0.901386</td>\n",
       "      <td>...</td>\n",
       "      <td>-0.277474</td>\n",
       "      <td>-0.263758</td>\n",
       "      <td>0.017206</td>\n",
       "      <td>-0.703940</td>\n",
       "      <td>-0.521036</td>\n",
       "      <td>0.051719</td>\n",
       "      <td>0.339595</td>\n",
       "      <td>0.206907</td>\n",
       "      <td>-0.883897</td>\n",
       "      <td>0.368364</td>\n",
       "    </tr>\n",
       "    <tr>\n",
       "      <th>...</th>\n",
       "      <td>...</td>\n",
       "      <td>...</td>\n",
       "      <td>...</td>\n",
       "      <td>...</td>\n",
       "      <td>...</td>\n",
       "      <td>...</td>\n",
       "      <td>...</td>\n",
       "      <td>...</td>\n",
       "      <td>...</td>\n",
       "      <td>...</td>\n",
       "      <td>...</td>\n",
       "      <td>...</td>\n",
       "      <td>...</td>\n",
       "      <td>...</td>\n",
       "      <td>...</td>\n",
       "      <td>...</td>\n",
       "      <td>...</td>\n",
       "      <td>...</td>\n",
       "      <td>...</td>\n",
       "      <td>...</td>\n",
       "      <td>...</td>\n",
       "    </tr>\n",
       "    <tr>\n",
       "      <th>963</th>\n",
       "      <td>963</td>\n",
       "      <td>4377</td>\n",
       "      <td>positive</td>\n",
       "      <td>@SouthwestAir @heavenlychc9 I'd at least enjoy...</td>\n",
       "      <td>1</td>\n",
       "      <td>4377</td>\n",
       "      <td>0</td>\n",
       "      <td>-0.288926</td>\n",
       "      <td>-0.469544</td>\n",
       "      <td>0.763421</td>\n",
       "      <td>...</td>\n",
       "      <td>-0.027024</td>\n",
       "      <td>-1.082415</td>\n",
       "      <td>-0.697840</td>\n",
       "      <td>-0.485712</td>\n",
       "      <td>-0.417425</td>\n",
       "      <td>0.451793</td>\n",
       "      <td>-0.545403</td>\n",
       "      <td>-0.404581</td>\n",
       "      <td>-0.650430</td>\n",
       "      <td>0.245911</td>\n",
       "    </tr>\n",
       "    <tr>\n",
       "      <th>964</th>\n",
       "      <td>964</td>\n",
       "      <td>5512</td>\n",
       "      <td>positive</td>\n",
       "      <td>@SouthwestAir I'll have to drop by next time I...</td>\n",
       "      <td>1</td>\n",
       "      <td>5512</td>\n",
       "      <td>0</td>\n",
       "      <td>-0.287779</td>\n",
       "      <td>-0.133505</td>\n",
       "      <td>1.637628</td>\n",
       "      <td>...</td>\n",
       "      <td>-0.028515</td>\n",
       "      <td>-0.204185</td>\n",
       "      <td>-0.278846</td>\n",
       "      <td>0.153048</td>\n",
       "      <td>-0.024744</td>\n",
       "      <td>0.142459</td>\n",
       "      <td>-0.391037</td>\n",
       "      <td>-0.188013</td>\n",
       "      <td>-0.114064</td>\n",
       "      <td>0.296878</td>\n",
       "    </tr>\n",
       "    <tr>\n",
       "      <th>965</th>\n",
       "      <td>965</td>\n",
       "      <td>56</td>\n",
       "      <td>positive</td>\n",
       "      <td>@VirginAmerica you know it. Need it on my spot...</td>\n",
       "      <td>1</td>\n",
       "      <td>56</td>\n",
       "      <td>0</td>\n",
       "      <td>-0.120062</td>\n",
       "      <td>0.689700</td>\n",
       "      <td>0.500194</td>\n",
       "      <td>...</td>\n",
       "      <td>-0.449935</td>\n",
       "      <td>-0.235210</td>\n",
       "      <td>-0.653002</td>\n",
       "      <td>-1.018101</td>\n",
       "      <td>-0.308710</td>\n",
       "      <td>-0.254051</td>\n",
       "      <td>-0.067138</td>\n",
       "      <td>0.288422</td>\n",
       "      <td>-0.103543</td>\n",
       "      <td>-0.275301</td>\n",
       "    </tr>\n",
       "    <tr>\n",
       "      <th>966</th>\n",
       "      <td>966</td>\n",
       "      <td>6239</td>\n",
       "      <td>positive</td>\n",
       "      <td>@SouthwestAir I'm really craving your pretzels...</td>\n",
       "      <td>1</td>\n",
       "      <td>6239</td>\n",
       "      <td>0</td>\n",
       "      <td>-0.466340</td>\n",
       "      <td>0.289625</td>\n",
       "      <td>-0.217530</td>\n",
       "      <td>...</td>\n",
       "      <td>-0.224040</td>\n",
       "      <td>-0.835734</td>\n",
       "      <td>-0.458101</td>\n",
       "      <td>-1.050726</td>\n",
       "      <td>-0.012579</td>\n",
       "      <td>0.600473</td>\n",
       "      <td>-0.229492</td>\n",
       "      <td>0.395023</td>\n",
       "      <td>-0.019480</td>\n",
       "      <td>0.537425</td>\n",
       "    </tr>\n",
       "    <tr>\n",
       "      <th>967</th>\n",
       "      <td>967</td>\n",
       "      <td>7046</td>\n",
       "      <td>positive</td>\n",
       "      <td>Power Moves RT @JetBlue: Our fleet's on fleek....</td>\n",
       "      <td>1</td>\n",
       "      <td>7046</td>\n",
       "      <td>0</td>\n",
       "      <td>0.144981</td>\n",
       "      <td>-0.324572</td>\n",
       "      <td>1.059081</td>\n",
       "      <td>...</td>\n",
       "      <td>-0.364800</td>\n",
       "      <td>-0.459383</td>\n",
       "      <td>-0.432453</td>\n",
       "      <td>-1.093191</td>\n",
       "      <td>-0.174370</td>\n",
       "      <td>0.032528</td>\n",
       "      <td>0.146126</td>\n",
       "      <td>0.184161</td>\n",
       "      <td>-0.432964</td>\n",
       "      <td>-0.284159</td>\n",
       "    </tr>\n",
       "  </tbody>\n",
       "</table>\n",
       "<p>968 rows × 775 columns</p>\n",
       "</div>"
      ],
      "text/plain": [
       "     Unnamed: 0.1  Unnamed: 0     label  \\\n",
       "0               0         813   neutral   \n",
       "1               1        7130   neutral   \n",
       "2               2        3380   neutral   \n",
       "3               3        3008   neutral   \n",
       "4               4        7030   neutral   \n",
       "..            ...         ...       ...   \n",
       "963           963        4377  positive   \n",
       "964           964        5512  positive   \n",
       "965           965          56  positive   \n",
       "966           966        6239  positive   \n",
       "967           967        7046  positive   \n",
       "\n",
       "                                                  text  category  original_id  \\\n",
       "0                                @united I hope so too         0          813   \n",
       "1    @jetblue who's running your tweeter using the ...         0         7130   \n",
       "2    @united still waiting for a response on whethe...         0         3380   \n",
       "3    @united Based on suggestions from other passen...         0         3008   \n",
       "4    “@JetBlue: Our fleet's on fleek. http://t.co/Q...         0         7030   \n",
       "..                                                 ...       ...          ...   \n",
       "963  @SouthwestAir @heavenlychc9 I'd at least enjoy...         1         4377   \n",
       "964  @SouthwestAir I'll have to drop by next time I...         1         5512   \n",
       "965  @VirginAmerica you know it. Need it on my spot...         1           56   \n",
       "966  @SouthwestAir I'm really craving your pretzels...         1         6239   \n",
       "967  Power Moves RT @JetBlue: Our fleet's on fleek....         1         7046   \n",
       "\n",
       "     predicted_label     emb_0     emb_1     emb_2  ...   emb_758   emb_759  \\\n",
       "0                  1  0.701212  0.149414  1.801739  ... -0.641708 -0.631561   \n",
       "1                  2 -0.095302  0.519799 -0.860941  ... -0.844507  0.545532   \n",
       "2                  2  0.404428 -0.281564  1.098605  ...  0.027952 -0.336490   \n",
       "3                  2  0.580564 -0.417264  0.539577  ... -0.246741 -1.197115   \n",
       "4                  2  0.150641  0.191832  0.901386  ... -0.277474 -0.263758   \n",
       "..               ...       ...       ...       ...  ...       ...       ...   \n",
       "963                0 -0.288926 -0.469544  0.763421  ... -0.027024 -1.082415   \n",
       "964                0 -0.287779 -0.133505  1.637628  ... -0.028515 -0.204185   \n",
       "965                0 -0.120062  0.689700  0.500194  ... -0.449935 -0.235210   \n",
       "966                0 -0.466340  0.289625 -0.217530  ... -0.224040 -0.835734   \n",
       "967                0  0.144981 -0.324572  1.059081  ... -0.364800 -0.459383   \n",
       "\n",
       "      emb_760   emb_761   emb_762   emb_763   emb_764   emb_765   emb_766  \\\n",
       "0    0.724360 -0.479683  0.342981 -0.128573 -0.765833 -0.322237 -0.484272   \n",
       "1   -0.988797 -0.470753  0.221976 -0.781311  0.437286  0.007654 -0.176711   \n",
       "2   -0.060362 -0.929268  0.410162  0.116782 -0.160092 -0.028493 -0.795741   \n",
       "3   -0.562455 -0.443025 -0.123202 -0.652523 -0.151871  0.264033 -0.452444   \n",
       "4    0.017206 -0.703940 -0.521036  0.051719  0.339595  0.206907 -0.883897   \n",
       "..        ...       ...       ...       ...       ...       ...       ...   \n",
       "963 -0.697840 -0.485712 -0.417425  0.451793 -0.545403 -0.404581 -0.650430   \n",
       "964 -0.278846  0.153048 -0.024744  0.142459 -0.391037 -0.188013 -0.114064   \n",
       "965 -0.653002 -1.018101 -0.308710 -0.254051 -0.067138  0.288422 -0.103543   \n",
       "966 -0.458101 -1.050726 -0.012579  0.600473 -0.229492  0.395023 -0.019480   \n",
       "967 -0.432453 -1.093191 -0.174370  0.032528  0.146126  0.184161 -0.432964   \n",
       "\n",
       "      emb_767  \n",
       "0   -0.027367  \n",
       "1    0.090562  \n",
       "2    0.037037  \n",
       "3   -0.366747  \n",
       "4    0.368364  \n",
       "..        ...  \n",
       "963  0.245911  \n",
       "964  0.296878  \n",
       "965 -0.275301  \n",
       "966  0.537425  \n",
       "967 -0.284159  \n",
       "\n",
       "[968 rows x 775 columns]"
      ]
     },
     "execution_count": 239,
     "metadata": {},
     "output_type": "execute_result"
    }
   ],
   "source": [
    "df"
   ]
  },
  {
   "cell_type": "code",
   "execution_count": 240,
   "id": "07d5c394",
   "metadata": {
    "scrolled": true
   },
   "outputs": [],
   "source": [
    "df2 = df[[\"emb_\" + str(i) for i in range(768)]]"
   ]
  },
  {
   "cell_type": "code",
   "execution_count": 241,
   "id": "9fd4bc3b",
   "metadata": {},
   "outputs": [
    {
     "data": {
      "image/png": "[encoded data removed]",
      "text/plain": [
       "<Figure size 1080x432 with 1 Axes>"
      ]
     },
     "metadata": {},
     "output_type": "display_data"
    }
   ],
   "source": [
    "elbow_plot(df2)"
   ]
  },
  {
   "cell_type": "code",
   "execution_count": 242,
   "id": "7d87426c",
   "metadata": {},
   "outputs": [
    {
     "data": {
      "text/plain": [
       "7"
      ]
     },
     "execution_count": 242,
     "metadata": {},
     "output_type": "execute_result"
    }
   ],
   "source": [
    "find_k(df2)"
   ]
  },
  {
   "cell_type": "code",
   "execution_count": 243,
   "id": "3a54ddd9",
   "metadata": {},
   "outputs": [],
   "source": [
    "df3 = run_kmeans(df2)"
   ]
  },
  {
   "cell_type": "code",
   "execution_count": 244,
   "id": "26bebf50",
   "metadata": {
    "scrolled": true
   },
   "outputs": [],
   "source": [
    "df['cluster'] = df3[\"cluster\"].to_numpy()"
   ]
  },
  {
   "cell_type": "code",
   "execution_count": 538,
   "id": "a29f3c92",
   "metadata": {},
   "outputs": [],
   "source": [
    "df3_v2 = run_kmeans2(df2, 10)\n",
    "df['cluster_2'] = df3_v2[\"cluster\"].to_numpy()"
   ]
  },
  {
   "cell_type": "code",
   "execution_count": 535,
   "id": "91f2edb9",
   "metadata": {},
   "outputs": [
    {
     "data": {
      "text/html": [
       "<div>\n",
       "<style scoped>\n",
       "    .dataframe tbody tr th:only-of-type {\n",
       "        vertical-align: middle;\n",
       "    }\n",
       "\n",
       "    .dataframe tbody tr th {\n",
       "        vertical-align: top;\n",
       "    }\n",
       "\n",
       "    .dataframe thead th {\n",
       "        text-align: right;\n",
       "    }\n",
       "</style>\n",
       "<table border=\"1\" class=\"dataframe\">\n",
       "  <thead>\n",
       "    <tr style=\"text-align: right;\">\n",
       "      <th></th>\n",
       "      <th>Unnamed: 0.1</th>\n",
       "      <th>Unnamed: 0</th>\n",
       "      <th>label</th>\n",
       "      <th>text</th>\n",
       "      <th>category</th>\n",
       "      <th>original_id</th>\n",
       "      <th>predicted_label</th>\n",
       "      <th>emb_0</th>\n",
       "      <th>emb_1</th>\n",
       "      <th>emb_2</th>\n",
       "      <th>...</th>\n",
       "      <th>emb_762</th>\n",
       "      <th>emb_763</th>\n",
       "      <th>emb_764</th>\n",
       "      <th>emb_765</th>\n",
       "      <th>emb_766</th>\n",
       "      <th>emb_767</th>\n",
       "      <th>cluster</th>\n",
       "      <th>x</th>\n",
       "      <th>y</th>\n",
       "      <th>cluster_2</th>\n",
       "    </tr>\n",
       "  </thead>\n",
       "  <tbody>\n",
       "    <tr>\n",
       "      <th>0</th>\n",
       "      <td>0</td>\n",
       "      <td>813</td>\n",
       "      <td>neutral</td>\n",
       "      <td>@united I hope so too</td>\n",
       "      <td>0</td>\n",
       "      <td>813</td>\n",
       "      <td>1</td>\n",
       "      <td>0.701212</td>\n",
       "      <td>0.149414</td>\n",
       "      <td>1.801739</td>\n",
       "      <td>...</td>\n",
       "      <td>0.342981</td>\n",
       "      <td>-0.128573</td>\n",
       "      <td>-0.765833</td>\n",
       "      <td>-0.322237</td>\n",
       "      <td>-0.484272</td>\n",
       "      <td>-0.027367</td>\n",
       "      <td>3</td>\n",
       "      <td>0.587543</td>\n",
       "      <td>8.812499</td>\n",
       "      <td>17</td>\n",
       "    </tr>\n",
       "    <tr>\n",
       "      <th>1</th>\n",
       "      <td>1</td>\n",
       "      <td>7130</td>\n",
       "      <td>neutral</td>\n",
       "      <td>@jetblue who's running your tweeter using the ...</td>\n",
       "      <td>0</td>\n",
       "      <td>7130</td>\n",
       "      <td>2</td>\n",
       "      <td>-0.095302</td>\n",
       "      <td>0.519799</td>\n",
       "      <td>-0.860941</td>\n",
       "      <td>...</td>\n",
       "      <td>0.221976</td>\n",
       "      <td>-0.781311</td>\n",
       "      <td>0.437286</td>\n",
       "      <td>0.007654</td>\n",
       "      <td>-0.176711</td>\n",
       "      <td>0.090562</td>\n",
       "      <td>1</td>\n",
       "      <td>1.895022</td>\n",
       "      <td>16.144014</td>\n",
       "      <td>12</td>\n",
       "    </tr>\n",
       "    <tr>\n",
       "      <th>2</th>\n",
       "      <td>2</td>\n",
       "      <td>3380</td>\n",
       "      <td>neutral</td>\n",
       "      <td>@united still waiting for a response on whethe...</td>\n",
       "      <td>0</td>\n",
       "      <td>3380</td>\n",
       "      <td>2</td>\n",
       "      <td>0.404428</td>\n",
       "      <td>-0.281564</td>\n",
       "      <td>1.098605</td>\n",
       "      <td>...</td>\n",
       "      <td>0.410162</td>\n",
       "      <td>0.116782</td>\n",
       "      <td>-0.160092</td>\n",
       "      <td>-0.028493</td>\n",
       "      <td>-0.795741</td>\n",
       "      <td>0.037037</td>\n",
       "      <td>5</td>\n",
       "      <td>2.796941</td>\n",
       "      <td>10.834550</td>\n",
       "      <td>11</td>\n",
       "    </tr>\n",
       "    <tr>\n",
       "      <th>3</th>\n",
       "      <td>3</td>\n",
       "      <td>3008</td>\n",
       "      <td>neutral</td>\n",
       "      <td>@united Based on suggestions from other passen...</td>\n",
       "      <td>0</td>\n",
       "      <td>3008</td>\n",
       "      <td>2</td>\n",
       "      <td>0.580564</td>\n",
       "      <td>-0.417264</td>\n",
       "      <td>0.539577</td>\n",
       "      <td>...</td>\n",
       "      <td>-0.123202</td>\n",
       "      <td>-0.652523</td>\n",
       "      <td>-0.151871</td>\n",
       "      <td>0.264033</td>\n",
       "      <td>-0.452444</td>\n",
       "      <td>-0.366747</td>\n",
       "      <td>5</td>\n",
       "      <td>3.194815</td>\n",
       "      <td>11.002142</td>\n",
       "      <td>10</td>\n",
       "    </tr>\n",
       "    <tr>\n",
       "      <th>4</th>\n",
       "      <td>4</td>\n",
       "      <td>7030</td>\n",
       "      <td>neutral</td>\n",
       "      <td>“@JetBlue: Our fleet's on fleek. http://t.co/Q...</td>\n",
       "      <td>0</td>\n",
       "      <td>7030</td>\n",
       "      <td>2</td>\n",
       "      <td>0.150641</td>\n",
       "      <td>0.191832</td>\n",
       "      <td>0.901386</td>\n",
       "      <td>...</td>\n",
       "      <td>-0.521036</td>\n",
       "      <td>0.051719</td>\n",
       "      <td>0.339595</td>\n",
       "      <td>0.206907</td>\n",
       "      <td>-0.883897</td>\n",
       "      <td>0.368364</td>\n",
       "      <td>1</td>\n",
       "      <td>2.420096</td>\n",
       "      <td>15.734237</td>\n",
       "      <td>12</td>\n",
       "    </tr>\n",
       "    <tr>\n",
       "      <th>...</th>\n",
       "      <td>...</td>\n",
       "      <td>...</td>\n",
       "      <td>...</td>\n",
       "      <td>...</td>\n",
       "      <td>...</td>\n",
       "      <td>...</td>\n",
       "      <td>...</td>\n",
       "      <td>...</td>\n",
       "      <td>...</td>\n",
       "      <td>...</td>\n",
       "      <td>...</td>\n",
       "      <td>...</td>\n",
       "      <td>...</td>\n",
       "      <td>...</td>\n",
       "      <td>...</td>\n",
       "      <td>...</td>\n",
       "      <td>...</td>\n",
       "      <td>...</td>\n",
       "      <td>...</td>\n",
       "      <td>...</td>\n",
       "      <td>...</td>\n",
       "    </tr>\n",
       "    <tr>\n",
       "      <th>963</th>\n",
       "      <td>963</td>\n",
       "      <td>4377</td>\n",
       "      <td>positive</td>\n",
       "      <td>@SouthwestAir @heavenlychc9 I'd at least enjoy...</td>\n",
       "      <td>1</td>\n",
       "      <td>4377</td>\n",
       "      <td>0</td>\n",
       "      <td>-0.288926</td>\n",
       "      <td>-0.469544</td>\n",
       "      <td>0.763421</td>\n",
       "      <td>...</td>\n",
       "      <td>-0.417425</td>\n",
       "      <td>0.451793</td>\n",
       "      <td>-0.545403</td>\n",
       "      <td>-0.404581</td>\n",
       "      <td>-0.650430</td>\n",
       "      <td>0.245911</td>\n",
       "      <td>0</td>\n",
       "      <td>6.508027</td>\n",
       "      <td>10.849288</td>\n",
       "      <td>13</td>\n",
       "    </tr>\n",
       "    <tr>\n",
       "      <th>964</th>\n",
       "      <td>964</td>\n",
       "      <td>5512</td>\n",
       "      <td>positive</td>\n",
       "      <td>@SouthwestAir I'll have to drop by next time I...</td>\n",
       "      <td>1</td>\n",
       "      <td>5512</td>\n",
       "      <td>0</td>\n",
       "      <td>-0.287779</td>\n",
       "      <td>-0.133505</td>\n",
       "      <td>1.637628</td>\n",
       "      <td>...</td>\n",
       "      <td>-0.024744</td>\n",
       "      <td>0.142459</td>\n",
       "      <td>-0.391037</td>\n",
       "      <td>-0.188013</td>\n",
       "      <td>-0.114064</td>\n",
       "      <td>0.296878</td>\n",
       "      <td>0</td>\n",
       "      <td>5.614790</td>\n",
       "      <td>12.739031</td>\n",
       "      <td>9</td>\n",
       "    </tr>\n",
       "    <tr>\n",
       "      <th>965</th>\n",
       "      <td>965</td>\n",
       "      <td>56</td>\n",
       "      <td>positive</td>\n",
       "      <td>@VirginAmerica you know it. Need it on my spot...</td>\n",
       "      <td>1</td>\n",
       "      <td>56</td>\n",
       "      <td>0</td>\n",
       "      <td>-0.120062</td>\n",
       "      <td>0.689700</td>\n",
       "      <td>0.500194</td>\n",
       "      <td>...</td>\n",
       "      <td>-0.308710</td>\n",
       "      <td>-0.254051</td>\n",
       "      <td>-0.067138</td>\n",
       "      <td>0.288422</td>\n",
       "      <td>-0.103543</td>\n",
       "      <td>-0.275301</td>\n",
       "      <td>5</td>\n",
       "      <td>2.111580</td>\n",
       "      <td>11.172903</td>\n",
       "      <td>21</td>\n",
       "    </tr>\n",
       "    <tr>\n",
       "      <th>966</th>\n",
       "      <td>966</td>\n",
       "      <td>6239</td>\n",
       "      <td>positive</td>\n",
       "      <td>@SouthwestAir I'm really craving your pretzels...</td>\n",
       "      <td>1</td>\n",
       "      <td>6239</td>\n",
       "      <td>0</td>\n",
       "      <td>-0.466340</td>\n",
       "      <td>0.289625</td>\n",
       "      <td>-0.217530</td>\n",
       "      <td>...</td>\n",
       "      <td>-0.012579</td>\n",
       "      <td>0.600473</td>\n",
       "      <td>-0.229492</td>\n",
       "      <td>0.395023</td>\n",
       "      <td>-0.019480</td>\n",
       "      <td>0.537425</td>\n",
       "      <td>0</td>\n",
       "      <td>5.893790</td>\n",
       "      <td>11.112502</td>\n",
       "      <td>13</td>\n",
       "    </tr>\n",
       "    <tr>\n",
       "      <th>967</th>\n",
       "      <td>967</td>\n",
       "      <td>7046</td>\n",
       "      <td>positive</td>\n",
       "      <td>Power Moves RT @JetBlue: Our fleet's on fleek....</td>\n",
       "      <td>1</td>\n",
       "      <td>7046</td>\n",
       "      <td>0</td>\n",
       "      <td>0.144981</td>\n",
       "      <td>-0.324572</td>\n",
       "      <td>1.059081</td>\n",
       "      <td>...</td>\n",
       "      <td>-0.174370</td>\n",
       "      <td>0.032528</td>\n",
       "      <td>0.146126</td>\n",
       "      <td>0.184161</td>\n",
       "      <td>-0.432964</td>\n",
       "      <td>-0.284159</td>\n",
       "      <td>1</td>\n",
       "      <td>1.938585</td>\n",
       "      <td>15.971493</td>\n",
       "      <td>12</td>\n",
       "    </tr>\n",
       "  </tbody>\n",
       "</table>\n",
       "<p>968 rows × 779 columns</p>\n",
       "</div>"
      ],
      "text/plain": [
       "     Unnamed: 0.1  Unnamed: 0     label  \\\n",
       "0               0         813   neutral   \n",
       "1               1        7130   neutral   \n",
       "2               2        3380   neutral   \n",
       "3               3        3008   neutral   \n",
       "4               4        7030   neutral   \n",
       "..            ...         ...       ...   \n",
       "963           963        4377  positive   \n",
       "964           964        5512  positive   \n",
       "965           965          56  positive   \n",
       "966           966        6239  positive   \n",
       "967           967        7046  positive   \n",
       "\n",
       "                                                  text  category  original_id  \\\n",
       "0                                @united I hope so too         0          813   \n",
       "1    @jetblue who's running your tweeter using the ...         0         7130   \n",
       "2    @united still waiting for a response on whethe...         0         3380   \n",
       "3    @united Based on suggestions from other passen...         0         3008   \n",
       "4    “@JetBlue: Our fleet's on fleek. http://t.co/Q...         0         7030   \n",
       "..                                                 ...       ...          ...   \n",
       "963  @SouthwestAir @heavenlychc9 I'd at least enjoy...         1         4377   \n",
       "964  @SouthwestAir I'll have to drop by next time I...         1         5512   \n",
       "965  @VirginAmerica you know it. Need it on my spot...         1           56   \n",
       "966  @SouthwestAir I'm really craving your pretzels...         1         6239   \n",
       "967  Power Moves RT @JetBlue: Our fleet's on fleek....         1         7046   \n",
       "\n",
       "     predicted_label     emb_0     emb_1     emb_2  ...   emb_762   emb_763  \\\n",
       "0                  1  0.701212  0.149414  1.801739  ...  0.342981 -0.128573   \n",
       "1                  2 -0.095302  0.519799 -0.860941  ...  0.221976 -0.781311   \n",
       "2                  2  0.404428 -0.281564  1.098605  ...  0.410162  0.116782   \n",
       "3                  2  0.580564 -0.417264  0.539577  ... -0.123202 -0.652523   \n",
       "4                  2  0.150641  0.191832  0.901386  ... -0.521036  0.051719   \n",
       "..               ...       ...       ...       ...  ...       ...       ...   \n",
       "963                0 -0.288926 -0.469544  0.763421  ... -0.417425  0.451793   \n",
       "964                0 -0.287779 -0.133505  1.637628  ... -0.024744  0.142459   \n",
       "965                0 -0.120062  0.689700  0.500194  ... -0.308710 -0.254051   \n",
       "966                0 -0.466340  0.289625 -0.217530  ... -0.012579  0.600473   \n",
       "967                0  0.144981 -0.324572  1.059081  ... -0.174370  0.032528   \n",
       "\n",
       "      emb_764   emb_765   emb_766   emb_767  cluster         x          y  \\\n",
       "0   -0.765833 -0.322237 -0.484272 -0.027367        3  0.587543   8.812499   \n",
       "1    0.437286  0.007654 -0.176711  0.090562        1  1.895022  16.144014   \n",
       "2   -0.160092 -0.028493 -0.795741  0.037037        5  2.796941  10.834550   \n",
       "3   -0.151871  0.264033 -0.452444 -0.366747        5  3.194815  11.002142   \n",
       "4    0.339595  0.206907 -0.883897  0.368364        1  2.420096  15.734237   \n",
       "..        ...       ...       ...       ...      ...       ...        ...   \n",
       "963 -0.545403 -0.404581 -0.650430  0.245911        0  6.508027  10.849288   \n",
       "964 -0.391037 -0.188013 -0.114064  0.296878        0  5.614790  12.739031   \n",
       "965 -0.067138  0.288422 -0.103543 -0.275301        5  2.111580  11.172903   \n",
       "966 -0.229492  0.395023 -0.019480  0.537425        0  5.893790  11.112502   \n",
       "967  0.146126  0.184161 -0.432964 -0.284159        1  1.938585  15.971493   \n",
       "\n",
       "     cluster_2  \n",
       "0           17  \n",
       "1           12  \n",
       "2           11  \n",
       "3           10  \n",
       "4           12  \n",
       "..         ...  \n",
       "963         13  \n",
       "964          9  \n",
       "965         21  \n",
       "966         13  \n",
       "967         12  \n",
       "\n",
       "[968 rows x 779 columns]"
      ]
     },
     "execution_count": 535,
     "metadata": {},
     "output_type": "execute_result"
    }
   ],
   "source": [
    "df"
   ]
  },
  {
   "cell_type": "code",
   "execution_count": 249,
   "id": "68dd8ed4",
   "metadata": {},
   "outputs": [],
   "source": [
    "arr_emb = df2.to_numpy()"
   ]
  },
  {
   "cell_type": "code",
   "execution_count": 250,
   "id": "65a88bf0",
   "metadata": {},
   "outputs": [],
   "source": [
    "import umap"
   ]
  },
  {
   "cell_type": "code",
   "execution_count": 251,
   "id": "61276f28",
   "metadata": {},
   "outputs": [
    {
     "data": {
      "text/plain": [
       "(968, 2)"
      ]
     },
     "execution_count": 251,
     "metadata": {},
     "output_type": "execute_result"
    }
   ],
   "source": [
    "mapper = umap.UMAP().fit(arr_emb)\n",
    "twod = mapper.transform(arr_emb)\n",
    "twod.shape"
   ]
  },
  {
   "cell_type": "code",
   "execution_count": 252,
   "id": "49ffe6dd",
   "metadata": {},
   "outputs": [],
   "source": [
    "df[\"x\"] = twod[:, 0]\n",
    "df[\"y\"] = twod[:, 1]"
   ]
  },
  {
   "cell_type": "code",
   "execution_count": 548,
   "id": "2ba57f41",
   "metadata": {
    "scrolled": false
   },
   "outputs": [
    {
     "data": {
      "application/vnd.plotly.v1+json": {
       "config": {
        "plotlyServerURL": "https://plot.ly"
       },
       "data": [
        {
         "customdata": [
          [
           "@united thanks for updating me about the 1+ hour delay the exact second I got to ATL. 🙅🙅🙅",
           "positive",
           5,
           6,
           2
          ],
          [
           "@united all goods, I'll call tomorrow, thanks.",
           "positive",
           3,
           6,
           0
          ],
          [
           "@virginamerica Well, I didn't…but NOW I DO! :-D",
           "positive",
           5,
           6,
           0
          ],
          [
           "@united thank you. Been trying for two days to set this up.",
           "positive",
           3,
           6,
           2
          ],
          [
           "@united stay warm - I will be passing through Chicago next week",
           "positive",
           2,
           6,
           0
          ],
          [
           "@united Club in Denver is dope 👌",
           "positive",
           3,
           6,
           0
          ],
          [
           "@USAirways #tbt every day.",
           "positive",
           5,
           6,
           2
          ],
          [
           "@united yes, Thx! At 10:35 (landed at 9:20).",
           "positive",
           3,
           6,
           0
          ],
          [
           "@USAirways TYVM USAir, Happy Night@ &lt;3",
           "positive",
           5,
           6,
           0
          ],
          [
           "@united Sure did! Only waited about 15min. Yay!",
           "positive",
           5,
           6,
           2
          ],
          [
           "@united After an hour+ wait, my issue is resolved. I did contact customer service to comment on the wait time. Thanks for contacting me.",
           "positive",
           6,
           6,
           2
          ],
          [
           "@USAirways we haven't departed yet so let's not get too high hopes.  But everything has been on schedule so far",
           "positive",
           5,
           6,
           2
          ],
          [
           "@united thx off the response, finally got through the 45 min wait and talked to someone.",
           "positive",
           5,
           6,
           2
          ],
          [
           "@united that would help! or how about integrate it into the App so I can just \"activate\" it and surf...",
           "positive",
           3,
           6,
           0
          ],
          [
           "@united will do. Just need to get CVG.... and my bag too. Thanks",
           "positive",
           3,
           6,
           0
          ],
          [
           "@United, will you fill it? Yes they will. Thanks! #BringYourOwn, @kleankanteen http://t.co/daaa0rqBXW",
           "positive",
           3,
           6,
           0
          ],
          [
           "@united so is that two seats avail so far for us.",
           "positive",
           3,
           6,
           2
          ],
          [
           "@USAirways we will...sunday! Just a few days away",
           "positive",
           5,
           6,
           0
          ],
          [
           "@USAirways thx 4 replying. After trying 2 get thru many times, &amp; v-mail or people hanging up on, us we talked 2 tech...cont'd",
           "positive",
           5,
           6,
           2
          ],
          [
           "@USAirways over the phone. I called the 6170 number and she picked up almost immediately.",
           "positive",
           5,
           6,
           0
          ],
          [
           "@united That made me so mad, but then I called the bag number, and that person was helpful and told me where the bag really was. (2/2)",
           "positive",
           5,
           6,
           2
          ],
          [
           "“@united: Looking for a reason to travel? #quote http://t.co/GGuIg3t28z”",
           "positive",
           5,
           6,
           0
          ],
          [
           "Is expiring the @united offer to buy or transfer #United #MileagePlus miles with discount? Many offers during a year http://t.co/6tz6imqZlG",
           "positive",
           5,
           6,
           0
          ],
          [
           "@USAirways right on. Up. Up &amp; away ✈️🌞",
           "positive",
           5,
           6,
           0
          ],
          [
           "@united Hmmm...seems like this could be something to be changed to be more #flyerfriendly.",
           "positive",
           5,
           6,
           0
          ],
          [
           "@united he has no priority and Iove it",
           "positive",
           3,
           6,
           0
          ],
          [
           "@united maybe on my return trip 👍",
           "positive",
           3,
           6,
           0
          ],
          [
           "@united nope. Even better there were 4 seats. And due to W&amp;B first to raise hands got to move up. I wasn't fast enough.",
           "positive",
           5,
           6,
           2
          ],
          [
           "@USAirways but don't worry! They found a hotel, it's only 45min away. I got there around 11:30pm, no problem.",
           "positive",
           6,
           6,
           0
          ],
          [
           "@united you have a guy named Otis at ORD that knows what #customerservice is. he was able to get my bag to me. I upgraded just to be sure",
           "positive",
           5,
           6,
           0
          ],
          [
           "@united that's fine. I'll take them.",
           "positive",
           3,
           6,
           0
          ],
          [
           "@united thnx",
           "positive",
           3,
           6,
           0
          ],
          [
           "@united thnx",
           "positive",
           3,
           6,
           0
          ]
         ],
         "hovertemplate": "x=%{x}<br>y=%{y}<br>text=%{customdata[0]}<br>label=%{customdata[1]}<br>cluster=%{customdata[2]}<br>cluster_2=%{marker.color}<br>predicted_label=%{customdata[4]}<extra></extra>",
         "legendgroup": "",
         "marker": {
          "color": [
           6,
           6,
           6,
           6,
           6,
           6,
           6,
           6,
           6,
           6,
           6,
           6,
           6,
           6,
           6,
           6,
           6,
           6,
           6,
           6,
           6,
           6,
           6,
           6,
           6,
           6,
           6,
           6,
           6,
           6,
           6,
           6,
           6
          ],
          "coloraxis": "coloraxis",
          "symbol": "circle"
         },
         "mode": "markers",
         "name": "",
         "orientation": "v",
         "showlegend": false,
         "type": "scatter",
         "x": [
          3.116619110107422,
          0.584121823310852,
          2.069056272506714,
          3.300442695617676,
          1.2881686687469482,
          1.0593693256378174,
          2.1532750129699707,
          2.91051983833313,
          1.4755595922470093,
          2.9909627437591553,
          0.6208610534667969,
          2.3832762241363525,
          3.048375129699707,
          0.6817575097084045,
          0.8058814406394958,
          1.0590194463729858,
          0.6799303889274597,
          2.1605284214019775,
          2.4682109355926514,
          1.4737681150436401,
          0.7958893775939941,
          1.5216866731643677,
          1.489380121231079,
          1.958364725112915,
          1.5135908126831055,
          0.8982197642326355,
          0.9509926438331604,
          2.127493381500244,
          3.3424975872039795,
          0.9943292737007141,
          0.7170483469963074,
          1.1418627500534058,
          1.1868301630020142
         ],
         "xaxis": "x",
         "y": [
          10.782419204711914,
          9.360465049743652,
          11.18171215057373,
          10.737110137939453,
          14.515725135803223,
          9.549777030944824,
          9.926807403564453,
          10.170568466186523,
          11.203386306762695,
          10.93432903289795,
          9.940092086791992,
          10.230700492858887,
          10.713566780090332,
          9.716346740722656,
          10.562503814697266,
          9.163878440856934,
          9.524754524230957,
          9.81434440612793,
          10.506447792053223,
          10.423379898071289,
          10.654668807983398,
          10.103302955627441,
          10.731588363647461,
          9.95910358428955,
          10.00045394897461,
          9.028419494628906,
          8.934098243713379,
          10.536784172058105,
          10.791260719299316,
          10.707901954650879,
          8.93130111694336,
          9.023924827575684,
          9.093160629272461
         ],
         "yaxis": "y"
        }
       ],
       "layout": {
        "coloraxis": {
         "colorbar": {
          "title": {
           "text": "cluster_2"
          }
         },
         "colorscale": [
          [
           0,
           "#0d0887"
          ],
          [
           0.1111111111111111,
           "#46039f"
          ],
          [
           0.2222222222222222,
           "#7201a8"
          ],
          [
           0.3333333333333333,
           "#9c179e"
          ],
          [
           0.4444444444444444,
           "#bd3786"
          ],
          [
           0.5555555555555556,
           "#d8576b"
          ],
          [
           0.6666666666666666,
           "#ed7953"
          ],
          [
           0.7777777777777778,
           "#fb9f3a"
          ],
          [
           0.8888888888888888,
           "#fdca26"
          ],
          [
           1,
           "#f0f921"
          ]
         ]
        },
        "legend": {
         "tracegroupgap": 0
        },
        "margin": {
         "t": 60
        },
        "template": {
         "data": {
          "bar": [
           {
            "error_x": {
             "color": "#2a3f5f"
            },
            "error_y": {
             "color": "#2a3f5f"
            },
            "marker": {
             "line": {
              "color": "#E5ECF6",
              "width": 0.5
             },
             "pattern": {
              "fillmode": "overlay",
              "size": 10,
              "solidity": 0.2
             }
            },
            "type": "bar"
           }
          ],
          "barpolar": [
           {
            "marker": {
             "line": {
              "color": "#E5ECF6",
              "width": 0.5
             },
             "pattern": {
              "fillmode": "overlay",
              "size": 10,
              "solidity": 0.2
             }
            },
            "type": "barpolar"
           }
          ],
          "carpet": [
           {
            "aaxis": {
             "endlinecolor": "#2a3f5f",
             "gridcolor": "white",
             "linecolor": "white",
             "minorgridcolor": "white",
             "startlinecolor": "#2a3f5f"
            },
            "baxis": {
             "endlinecolor": "#2a3f5f",
             "gridcolor": "white",
             "linecolor": "white",
             "minorgridcolor": "white",
             "startlinecolor": "#2a3f5f"
            },
            "type": "carpet"
           }
          ],
          "choropleth": [
           {
            "colorbar": {
             "outlinewidth": 0,
             "ticks": ""
            },
            "type": "choropleth"
           }
          ],
          "contour": [
           {
            "colorbar": {
             "outlinewidth": 0,
             "ticks": ""
            },
            "colorscale": [
             [
              0,
              "#0d0887"
             ],
             [
              0.1111111111111111,
              "#46039f"
             ],
             [
              0.2222222222222222,
              "#7201a8"
             ],
             [
              0.3333333333333333,
              "#9c179e"
             ],
             [
              0.4444444444444444,
              "#bd3786"
             ],
             [
              0.5555555555555556,
              "#d8576b"
             ],
             [
              0.6666666666666666,
              "#ed7953"
             ],
             [
              0.7777777777777778,
              "#fb9f3a"
             ],
             [
              0.8888888888888888,
              "#fdca26"
             ],
             [
              1,
              "#f0f921"
             ]
            ],
            "type": "contour"
           }
          ],
          "contourcarpet": [
           {
            "colorbar": {
             "outlinewidth": 0,
             "ticks": ""
            },
            "type": "contourcarpet"
           }
          ],
          "heatmap": [
           {
            "colorbar": {
             "outlinewidth": 0,
             "ticks": ""
            },
            "colorscale": [
             [
              0,
              "#0d0887"
             ],
             [
              0.1111111111111111,
              "#46039f"
             ],
             [
              0.2222222222222222,
              "#7201a8"
             ],
             [
              0.3333333333333333,
              "#9c179e"
             ],
             [
              0.4444444444444444,
              "#bd3786"
             ],
             [
              0.5555555555555556,
              "#d8576b"
             ],
             [
              0.6666666666666666,
              "#ed7953"
             ],
             [
              0.7777777777777778,
              "#fb9f3a"
             ],
             [
              0.8888888888888888,
              "#fdca26"
             ],
             [
              1,
              "#f0f921"
             ]
            ],
            "type": "heatmap"
           }
          ],
          "heatmapgl": [
           {
            "colorbar": {
             "outlinewidth": 0,
             "ticks": ""
            },
            "colorscale": [
             [
              0,
              "#0d0887"
             ],
             [
              0.1111111111111111,
              "#46039f"
             ],
             [
              0.2222222222222222,
              "#7201a8"
             ],
             [
              0.3333333333333333,
              "#9c179e"
             ],
             [
              0.4444444444444444,
              "#bd3786"
             ],
             [
              0.5555555555555556,
              "#d8576b"
             ],
             [
              0.6666666666666666,
              "#ed7953"
             ],
             [
              0.7777777777777778,
              "#fb9f3a"
             ],
             [
              0.8888888888888888,
              "#fdca26"
             ],
             [
              1,
              "#f0f921"
             ]
            ],
            "type": "heatmapgl"
           }
          ],
          "histogram": [
           {
            "marker": {
             "pattern": {
              "fillmode": "overlay",
              "size": 10,
              "solidity": 0.2
             }
            },
            "type": "histogram"
           }
          ],
          "histogram2d": [
           {
            "colorbar": {
             "outlinewidth": 0,
             "ticks": ""
            },
            "colorscale": [
             [
              0,
              "#0d0887"
             ],
             [
              0.1111111111111111,
              "#46039f"
             ],
             [
              0.2222222222222222,
              "#7201a8"
             ],
             [
              0.3333333333333333,
              "#9c179e"
             ],
             [
              0.4444444444444444,
              "#bd3786"
             ],
             [
              0.5555555555555556,
              "#d8576b"
             ],
             [
              0.6666666666666666,
              "#ed7953"
             ],
             [
              0.7777777777777778,
              "#fb9f3a"
             ],
             [
              0.8888888888888888,
              "#fdca26"
             ],
             [
              1,
              "#f0f921"
             ]
            ],
            "type": "histogram2d"
           }
          ],
          "histogram2dcontour": [
           {
            "colorbar": {
             "outlinewidth": 0,
             "ticks": ""
            },
            "colorscale": [
             [
              0,
              "#0d0887"
             ],
             [
              0.1111111111111111,
              "#46039f"
             ],
             [
              0.2222222222222222,
              "#7201a8"
             ],
             [
              0.3333333333333333,
              "#9c179e"
             ],
             [
              0.4444444444444444,
              "#bd3786"
             ],
             [
              0.5555555555555556,
              "#d8576b"
             ],
             [
              0.6666666666666666,
              "#ed7953"
             ],
             [
              0.7777777777777778,
              "#fb9f3a"
             ],
             [
              0.8888888888888888,
              "#fdca26"
             ],
             [
              1,
              "#f0f921"
             ]
            ],
            "type": "histogram2dcontour"
           }
          ],
          "mesh3d": [
           {
            "colorbar": {
             "outlinewidth": 0,
             "ticks": ""
            },
            "type": "mesh3d"
           }
          ],
          "parcoords": [
           {
            "line": {
             "colorbar": {
              "outlinewidth": 0,
              "ticks": ""
             }
            },
            "type": "parcoords"
           }
          ],
          "pie": [
           {
            "automargin": true,
            "type": "pie"
           }
          ],
          "scatter": [
           {
            "marker": {
             "colorbar": {
              "outlinewidth": 0,
              "ticks": ""
             }
            },
            "type": "scatter"
           }
          ],
          "scatter3d": [
           {
            "line": {
             "colorbar": {
              "outlinewidth": 0,
              "ticks": ""
             }
            },
            "marker": {
             "colorbar": {
              "outlinewidth": 0,
              "ticks": ""
             }
            },
            "type": "scatter3d"
           }
          ],
          "scattercarpet": [
           {
            "marker": {
             "colorbar": {
              "outlinewidth": 0,
              "ticks": ""
             }
            },
            "type": "scattercarpet"
           }
          ],
          "scattergeo": [
           {
            "marker": {
             "colorbar": {
              "outlinewidth": 0,
              "ticks": ""
             }
            },
            "type": "scattergeo"
           }
          ],
          "scattergl": [
           {
            "marker": {
             "colorbar": {
              "outlinewidth": 0,
              "ticks": ""
             }
            },
            "type": "scattergl"
           }
          ],
          "scattermapbox": [
           {
            "marker": {
             "colorbar": {
              "outlinewidth": 0,
              "ticks": ""
             }
            },
            "type": "scattermapbox"
           }
          ],
          "scatterpolar": [
           {
            "marker": {
             "colorbar": {
              "outlinewidth": 0,
              "ticks": ""
             }
            },
            "type": "scatterpolar"
           }
          ],
          "scatterpolargl": [
           {
            "marker": {
             "colorbar": {
              "outlinewidth": 0,
              "ticks": ""
             }
            },
            "type": "scatterpolargl"
           }
          ],
          "scatterternary": [
           {
            "marker": {
             "colorbar": {
              "outlinewidth": 0,
              "ticks": ""
             }
            },
            "type": "scatterternary"
           }
          ],
          "surface": [
           {
            "colorbar": {
             "outlinewidth": 0,
             "ticks": ""
            },
            "colorscale": [
             [
              0,
              "#0d0887"
             ],
             [
              0.1111111111111111,
              "#46039f"
             ],
             [
              0.2222222222222222,
              "#7201a8"
             ],
             [
              0.3333333333333333,
              "#9c179e"
             ],
             [
              0.4444444444444444,
              "#bd3786"
             ],
             [
              0.5555555555555556,
              "#d8576b"
             ],
             [
              0.6666666666666666,
              "#ed7953"
             ],
             [
              0.7777777777777778,
              "#fb9f3a"
             ],
             [
              0.8888888888888888,
              "#fdca26"
             ],
             [
              1,
              "#f0f921"
             ]
            ],
            "type": "surface"
           }
          ],
          "table": [
           {
            "cells": {
             "fill": {
              "color": "#EBF0F8"
             },
             "line": {
              "color": "white"
             }
            },
            "header": {
             "fill": {
              "color": "#C8D4E3"
             },
             "line": {
              "color": "white"
             }
            },
            "type": "table"
           }
          ]
         },
         "layout": {
          "annotationdefaults": {
           "arrowcolor": "#2a3f5f",
           "arrowhead": 0,
           "arrowwidth": 1
          },
          "autotypenumbers": "strict",
          "coloraxis": {
           "colorbar": {
            "outlinewidth": 0,
            "ticks": ""
           }
          },
          "colorscale": {
           "diverging": [
            [
             0,
             "#8e0152"
            ],
            [
             0.1,
             "#c51b7d"
            ],
            [
             0.2,
             "#de77ae"
            ],
            [
             0.3,
             "#f1b6da"
            ],
            [
             0.4,
             "#fde0ef"
            ],
            [
             0.5,
             "#f7f7f7"
            ],
            [
             0.6,
             "#e6f5d0"
            ],
            [
             0.7,
             "#b8e186"
            ],
            [
             0.8,
             "#7fbc41"
            ],
            [
             0.9,
             "#4d9221"
            ],
            [
             1,
             "#276419"
            ]
           ],
           "sequential": [
            [
             0,
             "#0d0887"
            ],
            [
             0.1111111111111111,
             "#46039f"
            ],
            [
             0.2222222222222222,
             "#7201a8"
            ],
            [
             0.3333333333333333,
             "#9c179e"
            ],
            [
             0.4444444444444444,
             "#bd3786"
            ],
            [
             0.5555555555555556,
             "#d8576b"
            ],
            [
             0.6666666666666666,
             "#ed7953"
            ],
            [
             0.7777777777777778,
             "#fb9f3a"
            ],
            [
             0.8888888888888888,
             "#fdca26"
            ],
            [
             1,
             "#f0f921"
            ]
           ],
           "sequentialminus": [
            [
             0,
             "#0d0887"
            ],
            [
             0.1111111111111111,
             "#46039f"
            ],
            [
             0.2222222222222222,
             "#7201a8"
            ],
            [
             0.3333333333333333,
             "#9c179e"
            ],
            [
             0.4444444444444444,
             "#bd3786"
            ],
            [
             0.5555555555555556,
             "#d8576b"
            ],
            [
             0.6666666666666666,
             "#ed7953"
            ],
            [
             0.7777777777777778,
             "#fb9f3a"
            ],
            [
             0.8888888888888888,
             "#fdca26"
            ],
            [
             1,
             "#f0f921"
            ]
           ]
          },
          "colorway": [
           "#636efa",
           "#EF553B",
           "#00cc96",
           "#ab63fa",
           "#FFA15A",
           "#19d3f3",
           "#FF6692",
           "#B6E880",
           "#FF97FF",
           "#FECB52"
          ],
          "font": {
           "color": "#2a3f5f"
          },
          "geo": {
           "bgcolor": "white",
           "lakecolor": "white",
           "landcolor": "#E5ECF6",
           "showlakes": true,
           "showland": true,
           "subunitcolor": "white"
          },
          "hoverlabel": {
           "align": "left"
          },
          "hovermode": "closest",
          "mapbox": {
           "style": "light"
          },
          "paper_bgcolor": "white",
          "plot_bgcolor": "#E5ECF6",
          "polar": {
           "angularaxis": {
            "gridcolor": "white",
            "linecolor": "white",
            "ticks": ""
           },
           "bgcolor": "#E5ECF6",
           "radialaxis": {
            "gridcolor": "white",
            "linecolor": "white",
            "ticks": ""
           }
          },
          "scene": {
           "xaxis": {
            "backgroundcolor": "#E5ECF6",
            "gridcolor": "white",
            "gridwidth": 2,
            "linecolor": "white",
            "showbackground": true,
            "ticks": "",
            "zerolinecolor": "white"
           },
           "yaxis": {
            "backgroundcolor": "#E5ECF6",
            "gridcolor": "white",
            "gridwidth": 2,
            "linecolor": "white",
            "showbackground": true,
            "ticks": "",
            "zerolinecolor": "white"
           },
           "zaxis": {
            "backgroundcolor": "#E5ECF6",
            "gridcolor": "white",
            "gridwidth": 2,
            "linecolor": "white",
            "showbackground": true,
            "ticks": "",
            "zerolinecolor": "white"
           }
          },
          "shapedefaults": {
           "line": {
            "color": "#2a3f5f"
           }
          },
          "ternary": {
           "aaxis": {
            "gridcolor": "white",
            "linecolor": "white",
            "ticks": ""
           },
           "baxis": {
            "gridcolor": "white",
            "linecolor": "white",
            "ticks": ""
           },
           "bgcolor": "#E5ECF6",
           "caxis": {
            "gridcolor": "white",
            "linecolor": "white",
            "ticks": ""
           }
          },
          "title": {
           "x": 0.05
          },
          "xaxis": {
           "automargin": true,
           "gridcolor": "white",
           "linecolor": "white",
           "ticks": "",
           "title": {
            "standoff": 15
           },
           "zerolinecolor": "white",
           "zerolinewidth": 2
          },
          "yaxis": {
           "automargin": true,
           "gridcolor": "white",
           "linecolor": "white",
           "ticks": "",
           "title": {
            "standoff": 15
           },
           "zerolinecolor": "white",
           "zerolinewidth": 2
          }
         }
        },
        "xaxis": {
         "anchor": "y",
         "domain": [
          0,
          1
         ],
         "title": {
          "text": "x"
         }
        },
        "yaxis": {
         "anchor": "x",
         "domain": [
          0,
          1
         ],
         "title": {
          "text": "y"
         }
        }
       }
      },
      "text/html": [
       "<div>                            <div id=\"9cfff61b-59bf-46e3-9360-8a855f87b775\" class=\"plotly-graph-div\" style=\"height:525px; width:100%;\"></div>            <script type=\"text/javascript\">                require([\"plotly\"], function(Plotly) {                    window.PLOTLYENV=window.PLOTLYENV || {};                                    if (document.getElementById(\"9cfff61b-59bf-46e3-9360-8a855f87b775\")) {                    Plotly.newPlot(                        \"9cfff61b-59bf-46e3-9360-8a855f87b775\",                        [{\"customdata\":[[\"@united thanks for updating me about the 1+ hour delay the exact second I got to ATL. \\ud83d\\ude45\\ud83d\\ude45\\ud83d\\ude45\",\"positive\",5,6,2],[\"@united all goods, I'll call tomorrow, thanks.\",\"positive\",3,6,0],[\"@virginamerica Well, I didn't\\u2026but NOW I DO! :-D\",\"positive\",5,6,0],[\"@united thank you. Been trying for two days to set this up.\",\"positive\",3,6,2],[\"@united stay warm - I will be passing through Chicago next week\",\"positive\",2,6,0],[\"@united Club in Denver is dope \\ud83d\\udc4c\",\"positive\",3,6,0],[\"@USAirways #tbt every day.\",\"positive\",5,6,2],[\"@united yes, Thx! At 10:35 (landed at 9:20).\",\"positive\",3,6,0],[\"@USAirways TYVM USAir, Happy Night@ &lt;3\",\"positive\",5,6,0],[\"@united Sure did! Only waited about 15min. Yay!\",\"positive\",5,6,2],[\"@united After an hour+ wait, my issue is resolved. I did contact customer service to comment on the wait time. Thanks for contacting me.\",\"positive\",6,6,2],[\"@USAirways we haven't departed yet so let's not get too high hopes.  But everything has been on schedule so far\",\"positive\",5,6,2],[\"@united thx off the response, finally got through the 45 min wait and talked to someone.\",\"positive\",5,6,2],[\"@united that would help! or how about integrate it into the App so I can just \\\"activate\\\" it and surf...\",\"positive\",3,6,0],[\"@united will do. Just need to get CVG.... and my bag too. Thanks\",\"positive\",3,6,0],[\"@United, will you fill it? Yes they will. Thanks! #BringYourOwn, @kleankanteen http://t.co/daaa0rqBXW\",\"positive\",3,6,0],[\"@united so is that two seats avail so far for us.\",\"positive\",3,6,2],[\"@USAirways we will...sunday! Just a few days away\",\"positive\",5,6,0],[\"@USAirways thx 4 replying. After trying 2 get thru many times, &amp; v-mail or people hanging up on, us we talked 2 tech...cont'd\",\"positive\",5,6,2],[\"@USAirways over the phone. I called the 6170 number and she picked up almost immediately.\",\"positive\",5,6,0],[\"@united That made me so mad, but then I called the bag number, and that person was helpful and told me where the bag really was. (2/2)\",\"positive\",5,6,2],[\"\\u201c@united: Looking for a reason to travel? #quote http://t.co/GGuIg3t28z\\u201d\",\"positive\",5,6,0],[\"Is expiring the @united offer to buy or transfer #United #MileagePlus miles with discount? Many offers during a year http://t.co/6tz6imqZlG\",\"positive\",5,6,0],[\"@USAirways right on. Up. Up &amp; away \\u2708\\ufe0f\\ud83c\\udf1e\",\"positive\",5,6,0],[\"@united Hmmm...seems like this could be something to be changed to be more #flyerfriendly.\",\"positive\",5,6,0],[\"@united he has no priority and Iove it\",\"positive\",3,6,0],[\"@united maybe on my return trip \\ud83d\\udc4d\",\"positive\",3,6,0],[\"@united nope. Even better there were 4 seats. And due to W&amp;B first to raise hands got to move up. I wasn't fast enough.\",\"positive\",5,6,2],[\"@USAirways but don't worry! They found a hotel, it's only 45min away. I got there around 11:30pm, no problem.\",\"positive\",6,6,0],[\"@united you have a guy named Otis at ORD that knows what #customerservice is. he was able to get my bag to me. I upgraded just to be sure\",\"positive\",5,6,0],[\"@united that's fine. I'll take them.\",\"positive\",3,6,0],[\"@united thnx\",\"positive\",3,6,0],[\"@united thnx\",\"positive\",3,6,0]],\"hovertemplate\":\"x=%{x}<br>y=%{y}<br>text=%{customdata[0]}<br>label=%{customdata[1]}<br>cluster=%{customdata[2]}<br>cluster_2=%{marker.color}<br>predicted_label=%{customdata[4]}<extra></extra>\",\"legendgroup\":\"\",\"marker\":{\"color\":[6,6,6,6,6,6,6,6,6,6,6,6,6,6,6,6,6,6,6,6,6,6,6,6,6,6,6,6,6,6,6,6,6],\"coloraxis\":\"coloraxis\",\"symbol\":\"circle\"},\"mode\":\"markers\",\"name\":\"\",\"orientation\":\"v\",\"showlegend\":false,\"x\":[3.116619110107422,0.584121823310852,2.069056272506714,3.300442695617676,1.2881686687469482,1.0593693256378174,2.1532750129699707,2.91051983833313,1.4755595922470093,2.9909627437591553,0.6208610534667969,2.3832762241363525,3.048375129699707,0.6817575097084045,0.8058814406394958,1.0590194463729858,0.6799303889274597,2.1605284214019775,2.4682109355926514,1.4737681150436401,0.7958893775939941,1.5216866731643677,1.489380121231079,1.958364725112915,1.5135908126831055,0.8982197642326355,0.9509926438331604,2.127493381500244,3.3424975872039795,0.9943292737007141,0.7170483469963074,1.1418627500534058,1.1868301630020142],\"xaxis\":\"x\",\"y\":[10.782419204711914,9.360465049743652,11.18171215057373,10.737110137939453,14.515725135803223,9.549777030944824,9.926807403564453,10.170568466186523,11.203386306762695,10.93432903289795,9.940092086791992,10.230700492858887,10.713566780090332,9.716346740722656,10.562503814697266,9.163878440856934,9.524754524230957,9.81434440612793,10.506447792053223,10.423379898071289,10.654668807983398,10.103302955627441,10.731588363647461,9.95910358428955,10.00045394897461,9.028419494628906,8.934098243713379,10.536784172058105,10.791260719299316,10.707901954650879,8.93130111694336,9.023924827575684,9.093160629272461],\"yaxis\":\"y\",\"type\":\"scatter\"}],                        {\"template\":{\"data\":{\"bar\":[{\"error_x\":{\"color\":\"#2a3f5f\"},\"error_y\":{\"color\":\"#2a3f5f\"},\"marker\":{\"line\":{\"color\":\"#E5ECF6\",\"width\":0.5},\"pattern\":{\"fillmode\":\"overlay\",\"size\":10,\"solidity\":0.2}},\"type\":\"bar\"}],\"barpolar\":[{\"marker\":{\"line\":{\"color\":\"#E5ECF6\",\"width\":0.5},\"pattern\":{\"fillmode\":\"overlay\",\"size\":10,\"solidity\":0.2}},\"type\":\"barpolar\"}],\"carpet\":[{\"aaxis\":{\"endlinecolor\":\"#2a3f5f\",\"gridcolor\":\"white\",\"linecolor\":\"white\",\"minorgridcolor\":\"white\",\"startlinecolor\":\"#2a3f5f\"},\"baxis\":{\"endlinecolor\":\"#2a3f5f\",\"gridcolor\":\"white\",\"linecolor\":\"white\",\"minorgridcolor\":\"white\",\"startlinecolor\":\"#2a3f5f\"},\"type\":\"carpet\"}],\"choropleth\":[{\"colorbar\":{\"outlinewidth\":0,\"ticks\":\"\"},\"type\":\"choropleth\"}],\"contour\":[{\"colorbar\":{\"outlinewidth\":0,\"ticks\":\"\"},\"colorscale\":[[0.0,\"#0d0887\"],[0.1111111111111111,\"#46039f\"],[0.2222222222222222,\"#7201a8\"],[0.3333333333333333,\"#9c179e\"],[0.4444444444444444,\"#bd3786\"],[0.5555555555555556,\"#d8576b\"],[0.6666666666666666,\"#ed7953\"],[0.7777777777777778,\"#fb9f3a\"],[0.8888888888888888,\"#fdca26\"],[1.0,\"#f0f921\"]],\"type\":\"contour\"}],\"contourcarpet\":[{\"colorbar\":{\"outlinewidth\":0,\"ticks\":\"\"},\"type\":\"contourcarpet\"}],\"heatmap\":[{\"colorbar\":{\"outlinewidth\":0,\"ticks\":\"\"},\"colorscale\":[[0.0,\"#0d0887\"],[0.1111111111111111,\"#46039f\"],[0.2222222222222222,\"#7201a8\"],[0.3333333333333333,\"#9c179e\"],[0.4444444444444444,\"#bd3786\"],[0.5555555555555556,\"#d8576b\"],[0.6666666666666666,\"#ed7953\"],[0.7777777777777778,\"#fb9f3a\"],[0.8888888888888888,\"#fdca26\"],[1.0,\"#f0f921\"]],\"type\":\"heatmap\"}],\"heatmapgl\":[{\"colorbar\":{\"outlinewidth\":0,\"ticks\":\"\"},\"colorscale\":[[0.0,\"#0d0887\"],[0.1111111111111111,\"#46039f\"],[0.2222222222222222,\"#7201a8\"],[0.3333333333333333,\"#9c179e\"],[0.4444444444444444,\"#bd3786\"],[0.5555555555555556,\"#d8576b\"],[0.6666666666666666,\"#ed7953\"],[0.7777777777777778,\"#fb9f3a\"],[0.8888888888888888,\"#fdca26\"],[1.0,\"#f0f921\"]],\"type\":\"heatmapgl\"}],\"histogram\":[{\"marker\":{\"pattern\":{\"fillmode\":\"overlay\",\"size\":10,\"solidity\":0.2}},\"type\":\"histogram\"}],\"histogram2d\":[{\"colorbar\":{\"outlinewidth\":0,\"ticks\":\"\"},\"colorscale\":[[0.0,\"#0d0887\"],[0.1111111111111111,\"#46039f\"],[0.2222222222222222,\"#7201a8\"],[0.3333333333333333,\"#9c179e\"],[0.4444444444444444,\"#bd3786\"],[0.5555555555555556,\"#d8576b\"],[0.6666666666666666,\"#ed7953\"],[0.7777777777777778,\"#fb9f3a\"],[0.8888888888888888,\"#fdca26\"],[1.0,\"#f0f921\"]],\"type\":\"histogram2d\"}],\"histogram2dcontour\":[{\"colorbar\":{\"outlinewidth\":0,\"ticks\":\"\"},\"colorscale\":[[0.0,\"#0d0887\"],[0.1111111111111111,\"#46039f\"],[0.2222222222222222,\"#7201a8\"],[0.3333333333333333,\"#9c179e\"],[0.4444444444444444,\"#bd3786\"],[0.5555555555555556,\"#d8576b\"],[0.6666666666666666,\"#ed7953\"],[0.7777777777777778,\"#fb9f3a\"],[0.8888888888888888,\"#fdca26\"],[1.0,\"#f0f921\"]],\"type\":\"histogram2dcontour\"}],\"mesh3d\":[{\"colorbar\":{\"outlinewidth\":0,\"ticks\":\"\"},\"type\":\"mesh3d\"}],\"parcoords\":[{\"line\":{\"colorbar\":{\"outlinewidth\":0,\"ticks\":\"\"}},\"type\":\"parcoords\"}],\"pie\":[{\"automargin\":true,\"type\":\"pie\"}],\"scatter\":[{\"marker\":{\"colorbar\":{\"outlinewidth\":0,\"ticks\":\"\"}},\"type\":\"scatter\"}],\"scatter3d\":[{\"line\":{\"colorbar\":{\"outlinewidth\":0,\"ticks\":\"\"}},\"marker\":{\"colorbar\":{\"outlinewidth\":0,\"ticks\":\"\"}},\"type\":\"scatter3d\"}],\"scattercarpet\":[{\"marker\":{\"colorbar\":{\"outlinewidth\":0,\"ticks\":\"\"}},\"type\":\"scattercarpet\"}],\"scattergeo\":[{\"marker\":{\"colorbar\":{\"outlinewidth\":0,\"ticks\":\"\"}},\"type\":\"scattergeo\"}],\"scattergl\":[{\"marker\":{\"colorbar\":{\"outlinewidth\":0,\"ticks\":\"\"}},\"type\":\"scattergl\"}],\"scattermapbox\":[{\"marker\":{\"colorbar\":{\"outlinewidth\":0,\"ticks\":\"\"}},\"type\":\"scattermapbox\"}],\"scatterpolar\":[{\"marker\":{\"colorbar\":{\"outlinewidth\":0,\"ticks\":\"\"}},\"type\":\"scatterpolar\"}],\"scatterpolargl\":[{\"marker\":{\"colorbar\":{\"outlinewidth\":0,\"ticks\":\"\"}},\"type\":\"scatterpolargl\"}],\"scatterternary\":[{\"marker\":{\"colorbar\":{\"outlinewidth\":0,\"ticks\":\"\"}},\"type\":\"scatterternary\"}],\"surface\":[{\"colorbar\":{\"outlinewidth\":0,\"ticks\":\"\"},\"colorscale\":[[0.0,\"#0d0887\"],[0.1111111111111111,\"#46039f\"],[0.2222222222222222,\"#7201a8\"],[0.3333333333333333,\"#9c179e\"],[0.4444444444444444,\"#bd3786\"],[0.5555555555555556,\"#d8576b\"],[0.6666666666666666,\"#ed7953\"],[0.7777777777777778,\"#fb9f3a\"],[0.8888888888888888,\"#fdca26\"],[1.0,\"#f0f921\"]],\"type\":\"surface\"}],\"table\":[{\"cells\":{\"fill\":{\"color\":\"#EBF0F8\"},\"line\":{\"color\":\"white\"}},\"header\":{\"fill\":{\"color\":\"#C8D4E3\"},\"line\":{\"color\":\"white\"}},\"type\":\"table\"}]},\"layout\":{\"annotationdefaults\":{\"arrowcolor\":\"#2a3f5f\",\"arrowhead\":0,\"arrowwidth\":1},\"autotypenumbers\":\"strict\",\"coloraxis\":{\"colorbar\":{\"outlinewidth\":0,\"ticks\":\"\"}},\"colorscale\":{\"diverging\":[[0,\"#8e0152\"],[0.1,\"#c51b7d\"],[0.2,\"#de77ae\"],[0.3,\"#f1b6da\"],[0.4,\"#fde0ef\"],[0.5,\"#f7f7f7\"],[0.6,\"#e6f5d0\"],[0.7,\"#b8e186\"],[0.8,\"#7fbc41\"],[0.9,\"#4d9221\"],[1,\"#276419\"]],\"sequential\":[[0.0,\"#0d0887\"],[0.1111111111111111,\"#46039f\"],[0.2222222222222222,\"#7201a8\"],[0.3333333333333333,\"#9c179e\"],[0.4444444444444444,\"#bd3786\"],[0.5555555555555556,\"#d8576b\"],[0.6666666666666666,\"#ed7953\"],[0.7777777777777778,\"#fb9f3a\"],[0.8888888888888888,\"#fdca26\"],[1.0,\"#f0f921\"]],\"sequentialminus\":[[0.0,\"#0d0887\"],[0.1111111111111111,\"#46039f\"],[0.2222222222222222,\"#7201a8\"],[0.3333333333333333,\"#9c179e\"],[0.4444444444444444,\"#bd3786\"],[0.5555555555555556,\"#d8576b\"],[0.6666666666666666,\"#ed7953\"],[0.7777777777777778,\"#fb9f3a\"],[0.8888888888888888,\"#fdca26\"],[1.0,\"#f0f921\"]]},\"colorway\":[\"#636efa\",\"#EF553B\",\"#00cc96\",\"#ab63fa\",\"#FFA15A\",\"#19d3f3\",\"#FF6692\",\"#B6E880\",\"#FF97FF\",\"#FECB52\"],\"font\":{\"color\":\"#2a3f5f\"},\"geo\":{\"bgcolor\":\"white\",\"lakecolor\":\"white\",\"landcolor\":\"#E5ECF6\",\"showlakes\":true,\"showland\":true,\"subunitcolor\":\"white\"},\"hoverlabel\":{\"align\":\"left\"},\"hovermode\":\"closest\",\"mapbox\":{\"style\":\"light\"},\"paper_bgcolor\":\"white\",\"plot_bgcolor\":\"#E5ECF6\",\"polar\":{\"angularaxis\":{\"gridcolor\":\"white\",\"linecolor\":\"white\",\"ticks\":\"\"},\"bgcolor\":\"#E5ECF6\",\"radialaxis\":{\"gridcolor\":\"white\",\"linecolor\":\"white\",\"ticks\":\"\"}},\"scene\":{\"xaxis\":{\"backgroundcolor\":\"#E5ECF6\",\"gridcolor\":\"white\",\"gridwidth\":2,\"linecolor\":\"white\",\"showbackground\":true,\"ticks\":\"\",\"zerolinecolor\":\"white\"},\"yaxis\":{\"backgroundcolor\":\"#E5ECF6\",\"gridcolor\":\"white\",\"gridwidth\":2,\"linecolor\":\"white\",\"showbackground\":true,\"ticks\":\"\",\"zerolinecolor\":\"white\"},\"zaxis\":{\"backgroundcolor\":\"#E5ECF6\",\"gridcolor\":\"white\",\"gridwidth\":2,\"linecolor\":\"white\",\"showbackground\":true,\"ticks\":\"\",\"zerolinecolor\":\"white\"}},\"shapedefaults\":{\"line\":{\"color\":\"#2a3f5f\"}},\"ternary\":{\"aaxis\":{\"gridcolor\":\"white\",\"linecolor\":\"white\",\"ticks\":\"\"},\"baxis\":{\"gridcolor\":\"white\",\"linecolor\":\"white\",\"ticks\":\"\"},\"bgcolor\":\"#E5ECF6\",\"caxis\":{\"gridcolor\":\"white\",\"linecolor\":\"white\",\"ticks\":\"\"}},\"title\":{\"x\":0.05},\"xaxis\":{\"automargin\":true,\"gridcolor\":\"white\",\"linecolor\":\"white\",\"ticks\":\"\",\"title\":{\"standoff\":15},\"zerolinecolor\":\"white\",\"zerolinewidth\":2},\"yaxis\":{\"automargin\":true,\"gridcolor\":\"white\",\"linecolor\":\"white\",\"ticks\":\"\",\"title\":{\"standoff\":15},\"zerolinecolor\":\"white\",\"zerolinewidth\":2}}},\"xaxis\":{\"anchor\":\"y\",\"domain\":[0.0,1.0],\"title\":{\"text\":\"x\"}},\"yaxis\":{\"anchor\":\"x\",\"domain\":[0.0,1.0],\"title\":{\"text\":\"y\"}},\"coloraxis\":{\"colorbar\":{\"title\":{\"text\":\"cluster_2\"}},\"colorscale\":[[0.0,\"#0d0887\"],[0.1111111111111111,\"#46039f\"],[0.2222222222222222,\"#7201a8\"],[0.3333333333333333,\"#9c179e\"],[0.4444444444444444,\"#bd3786\"],[0.5555555555555556,\"#d8576b\"],[0.6666666666666666,\"#ed7953\"],[0.7777777777777778,\"#fb9f3a\"],[0.8888888888888888,\"#fdca26\"],[1.0,\"#f0f921\"]]},\"legend\":{\"tracegroupgap\":0},\"margin\":{\"t\":60}},                        {\"responsive\": true}                    ).then(function(){\n",
       "                            \n",
       "var gd = document.getElementById('9cfff61b-59bf-46e3-9360-8a855f87b775');\n",
       "var x = new MutationObserver(function (mutations, observer) {{\n",
       "        var display = window.getComputedStyle(gd).display;\n",
       "        if (!display || display === 'none') {{\n",
       "            console.log([gd, 'removed!']);\n",
       "            Plotly.purge(gd);\n",
       "            observer.disconnect();\n",
       "        }}\n",
       "}});\n",
       "\n",
       "// Listen for the removal of the full notebook cells\n",
       "var notebookContainer = gd.closest('#notebook-container');\n",
       "if (notebookContainer) {{\n",
       "    x.observe(notebookContainer, {childList: true});\n",
       "}}\n",
       "\n",
       "// Listen for the clearing of the current output cell\n",
       "var outputEl = gd.closest('.output');\n",
       "if (outputEl) {{\n",
       "    x.observe(outputEl, {childList: true});\n",
       "}}\n",
       "\n",
       "                        })                };                });            </script>        </div>"
      ]
     },
     "metadata": {},
     "output_type": "display_data"
    }
   ],
   "source": [
    "import plotly.express as px\n",
    "\n",
    "fig = px.scatter(\n",
    "    df.loc[(df[\"label\"] == \"positive\") & (df[\"cluster_2\"] == 6)], x='x', y='y', color='cluster_2', hover_data=['x', 'y', 'text', 'label', 'cluster', 'cluster_2', 'predicted_label'])\n",
    "\n",
    "fig.show()"
   ]
  },
  {
   "cell_type": "code",
   "execution_count": 529,
   "id": "64cdc4c0",
   "metadata": {},
   "outputs": [],
   "source": [
    "cluster = 2\n",
    "label = \"neutral\"\n"
   ]
  },
  {
   "cell_type": "code",
   "execution_count": 530,
   "id": "d3b01533",
   "metadata": {
    "scrolled": true
   },
   "outputs": [
    {
     "name": "stdout",
     "output_type": "stream",
     "text": [
      "@AmericanAir well you spelled my name wrong.\n",
      "\n",
      "@AmericanAir your message was delayed I just responded\n",
      "\n",
      "@AmericanAir I need some help. My record locator is bringing up TWO different flights in your system. One op by AA &amp; one from US Airways.\n",
      "\n",
      "@AmericanAir where do I look for cabin crew vacancies?\n",
      "\n",
      "@AmericanAir Still looking as we speak.\n",
      "\n",
      "@AmericanAir - keeping AA up in the Air! My crew chief cousin Alex Espinosa in DFW! http://t.co/0HXLNvZknP\n",
      "\n",
      "@AmericanAir this receipt doesn't show the evoucher value nor does it mention having used an evoucher\n",
      "\n",
      "@AmericanAir I've tried...its @USAirways anyway\n",
      "\n",
      "@AmericanAir thanks!\n",
      "\n",
      "@AmericanAir basically u right now http://t.co/IN24Bpb7dw\n",
      "\n",
      "@AmericanAir no not yet. Waiting to be connected to an agent\n",
      "\n",
      "@AmericanAir DM sent. Answer me please\n",
      "\n",
      "@AmericanAir  hung up on now many times trying to cal 8004337300 crazy\n",
      "\n",
      "@AmericanAir the dinner and called me \"hon\". Not the service I would expect from 1st class.  #disappointed\n",
      "\n",
      "@AmericanAir Why did  AA973 return to JFK? Thanks :)\n",
      "\n",
      "@AmericanAir And gold status too.\n",
      "\n",
      "@AmericanAir Considering it was past midnight, I hung up and called again to receive another service call.\n",
      "\n",
      "@AmericanAir Thanks so much!\n",
      "\n",
      "@AmericanAir You don't have those abilities anywhere! Not at the ticket counter, at cust service, or online. That's why we're done here.\n",
      "\n",
      "@AmericanAir thanks for the info Is there a number I can call to speak to a person? It's going to take an hour to type it out\n",
      "\n",
      "@AmericanAir thank you\n",
      "\n",
      "@AmericanAir Thank you, you too!\n",
      "\n",
      "@united I want a hotel room and a whiskey.\n",
      "\n",
      "@AmericanAir @jaynegelman How,about more@Blacklist too!!\n",
      "\n",
      "@AmericanAir More or less - after a night in a party hotel - no sleep and a 5:30 am rebook- on our way back to PHL http://t.co/4G0K0z2rei\n",
      "\n",
      "@AmericanAir oh, yeah. I guess those are two different things. 3 am does weird things to my brain. Thanks again! xox\n",
      "\n",
      "@AmericanAir you should be contacting her for a refund - dm me and I will provide phone number\n",
      "\n",
      "@AmericanAir it looks like a mistake\n",
      "\n",
      "@AmericanAir i need someone to help me out\n",
      "\n",
      "@AmericanAir Oh trust me. I am in love. It is so beautiful!\n",
      "\n",
      "@AmericanAir tell me you can get me to ABI earlier than 8 pm tomorrow\n",
      "\n",
      "@AmericanAir Thank you\n",
      "\n",
      "@AmericanAir  2 hours to be answered on a call?\n",
      "\n",
      "@AmericanAir Yes, thanks I found those, didn't see the gray tab at first :)\n",
      "\n",
      "@AmericanAir We did talk with Delta for about hour over phone, and I got a number from Delta that they asked to give to AA, which I did.\n",
      "\n",
      "@AmericanAir got a callback at 1 am, took care of it. thanks.\n",
      "\n"
     ]
    }
   ],
   "source": [
    "for i in df.loc[(df[\"label\"] == label) & (df[\"cluster\"] == cluster)][\"text\"].to_numpy():\n",
    "    print(i + '\\n')"
   ]
  },
  {
   "cell_type": "code",
   "execution_count": 508,
   "id": "eb8b6c73",
   "metadata": {},
   "outputs": [],
   "source": [
    "queries = \n",
    "# neg 6 [\"@Delta I love how you manage to be the only airline that can consistently ruin my day with delayed flights and lost baggage #sarcasm\",\n",
    "# \"@AmericanAir If only your customer service was as good as your prices...\",\n",
    "# \"@united thanks for the 2-hour delay, the rude staff, and the overpriced snacks. You're really outdoing yourself\",\n",
    "# \"@SouthwestAir how is it that your planes never seem to have enough legroom? You're supposed to be the friendly airline, not the cramped one\",\n",
    "# \"@JetBlue thanks for the delayed flight and the poor communication with your customers. You guys really know how to make travel a hassle\",\n",
    "# \"@USAirways If you want to make sure your customers never come back, just keep up the terrible service and rude staff #neveragain\",\n",
    "# \"@Delta thanks for making me late to my important meeting, losing my luggage, and being completely unhelpful. Your incompetence knows no bounds\",\n",
    "# \"@united thanks for the broken seats, the terrible food, and the unapologetic staff. You're really nailing it\",\n",
    "# \"@AmericanAir if your goal is to make your customers regret choosing your airline, you're doing a great job\",\n",
    "# \"@JetBlue thanks for the cramped seats and the broken entertainment system. You're definitely not living up to the hype\",\n",
    "# \"@SouthwestAir how is it possible to lose someone's luggage on a direct flight? Your incompetence is astounding\",\n",
    "# \"@Delta if your idea of customer service is to ignore your customers and treat them like dirt, you're doing a great job\",\n",
    "# \"@united thanks for the Cancelled Flightled flight and the complete lack of communication with your customers. You guys are the worst\",\n",
    "# \"@USAirways I've never had such a terrible experience with an airline before. Your staff is rude, your planes are dirty, and your service is terrible\",\n",
    "# \"@AmericanAir thanks for making me feel like a second-class citizen because I couldn't afford a first-class ticket. Your elitism is truly appalling\",\n",
    "# \"@JetBlue if you want to make sure your customers never choose your airline again, just keep up the delayed flights and the terrible service\",\n",
    "# \"@SouthwestAir how is it possible to have such terrible customer service? Your staff is unhelpful, your planes are dirty, and your policies are unfair\",\n",
    "# \"@Delta thanks for making me miss my connecting flight, losing my luggage, and completely ruining my vacation. You guys are the worst\",\n",
    "# \"@united if you want to make sure your customers never choose your airline again, just keep up the terrible service and the Cancelled Flightlations\",\n",
    "# \"@USAirways thanks for the delayed flight, the lost luggage, and the rude staff. You guys are truly the worst airline out there\",\n",
    "# \"@AmericanAir how is it possible to have such terrible customer service? Your staff is unhelpful, your policies are unfair, and your planes are outdated\",\n",
    "# \"@JetBlue thanks for the cramped seats, the terrible food, and the broken entertainment system. You're definitely not living up to your reputation\",\n",
    "# \"@SouthwestAir if you want to make sure your customers never choose your airline again, just keep up the Cancelled Flightled flights and the terrible service\",\n",
    "# \"@Delta thanks for the rude staff, the overpriced tickets, and the broken seats. You're definitely not living up to your reputation\",\n",
    "# \"@united thanks for the lost luggage, the Cancelled Flightled flights, and the terrible service. You guys are truly the worst\",\n",
    "# \"@USAirways how is it possible to have such terrible customer service? Your staff is unhelpful, your planes are dirty, and your policies are unfair\",\n",
    "# \"@AmericanAir thanks for the terrible food, the cramped seats, and the rude staff. You're definitely not living up to your reputation\"]\n",
    "# neu 6[\"@JetBlue Thanks for the quick response, but I'll need more information before I can make a decision on booking my flight.\",\n",
    "# \"@JetBlue I appreciate the offer, but I'll have to decline. Maybe next time!\",\n",
    "# \"@USAirways Thanks for getting back to me, have a good day!\",\n",
    "# \"@SouthwestAir I'm glad I was able to use my points before they expired. Thanks for the help!\",\n",
    "# \"@JetBlue I'm looking forward to my trip to Florida. Thanks for helping me escape the cold!\",\n",
    "# \"@AmericanAir I'm sorry to hear that, but I'm sure @JetBlue will take care of me.\",\n",
    "# \"@USAirways Have a safe flight!\",\n",
    "# \"@JetBlue I'll do my best to stay positive. Thanks for the encouragement!\",\n",
    "# \"@JetBlue I'm glad to hear that you have loyal customers. Keep up the good work!\",\n",
    "# \"@united Sorry to hear about your bad experience. I hope your next flight is better!\",\n",
    "# \"@united @staralliance Congrats on the achievement, but I'm sticking with @AmericanAir and @British_Airways for now.\",\n",
    "# \"@united Your service can be hit or miss sometimes, but I appreciate your efforts to improve.\",\n",
    "# \"@JetBlue I'm glad you're making things right. Thanks for your help!\",\n",
    "# \"@united It's understandable that mistakes happen. I'm sure you'll do better next time.\",\n",
    "# \"@united Have a safe trip to New Mexico!\",\n",
    "# \"@JetBlue Safety is definitely the most important thing. Thanks for keeping us safe!\",\n",
    "# \"@USAirways I'm sorry to hear that. Hopefully, things will be better next time.\",\n",
    "# \"@JetBlue Your employees are always helpful and friendly. Thanks for the great service!\",\n",
    "# \"@JetBlue I hope you can reunite with your grandchild soon!\",\n",
    "# \"@AmericanAir I'm not sure, can you help me out?\",\n",
    "# \"@USAirways Thanks for the info. I appreciate it!\",\n",
    "# \"@united I hope @JedediahBila has a safe and smooth flight!\",\n",
    "# \"@united I don't think there's a catch. Sometimes, you just get lucky!\",\n",
    "# \"@Jetblue I'm glad everything worked out. Thanks for your help!\",\n",
    "# \"@VirginAmerica Congrats on the swag bag! That's awesome!\",\n",
    "# \"@JetBlue Good luck with your speech tomorrow!\",\n",
    "# \"@united It's always good to ask for what you need. I hope you enjoyed your flight!\",\n",
    "# \"@united That's funny! I'm sure you looked great with the scarf though.\",\n",
    "# \"@JetBlue Flight credits are automatically given after the flight. A lounge would be nice though!\",\n",
    "# \"@United That's a good idea! Maybe they'll consider it in the future.\"]\n",
    "# neu 5[\"@Delta Hey there! Can you tell me what the process is for requesting a vegetarian meal on my flight?\",\n",
    "# \"@Delta Just wondering if I can add extra baggage for my flight without having to pay an arm and a leg!\",\n",
    "# \"@Delta What is your policy for flight cancellations due to bad weather? Will I receive a refund?\",\n",
    "# \"@Delta I've been trying to reach your customer service line for hours with no luck. Can someone please assist me?\",\n",
    "# \"@SouthwestAir Hi there! What are my options for getting a refund on my flight?\",\n",
    "# \"@SouthwestAir Can I change my flight date without incurring additional fees?\",\n",
    "# \"@SouthwestAir My flight was cancelled and I was automatically rebooked on a different one, but it doesn't work with my schedule. What can I do?\",\n",
    "# \"@JetBlue I have a connecting flight with a very tight layover. What are the chances of making it to my next flight on time?\",\n",
    "# \"@JetBlue Can I bring my own snacks on the flight?\",\n",
    "# \"@JetBlue I accidentally booked my flight for the wrong date. Can I change it without a penalty?\",\n",
    "# \"@AmericanAir Hi there! How much does it cost to check in an extra bag?\",\n",
    "# \"@AmericanAir What is the maximum weight for a carry-on bag?\",\n",
    "# \"@AmericanAir Is there a way to get priority boarding without paying for it?\",\n",
    "# \"@FlyFrontier What is the policy for bringing pets on the flight?\",\n",
    "# \"@FlyFrontier Can I change my flight date without any fees?\",\n",
    "# \"@FlyFrontier I missed my flight due to traffic. Can I be rebooked on the next one without extra charges?\",\n",
    "# \"@AlaskaAir Hi there! Can I upgrade to first class at the gate?\",\n",
    "# \"@AlaskaAir What is the policy for lost baggage?\",\n",
    "# \"@AlaskaAir My flight is delayed and I'll miss my connecting flight. What are my options?\",\n",
    "# \"@SpiritAirlines I received a notification that my flight was cancelled. What should I do now?\",\n",
    "# \"@SpiritAirlines Can I bring my own alcohol on the flight?\",\n",
    "# \"@SpiritAirlines I was charged extra fees on my flight. Can I dispute the charges?\",\n",
    "# \"@HawaiianAir Hi there! Can I get a refund on my flight if I need to cancel due to a family emergency?\",\n",
    "# \"@HawaiianAir Is there a way to get a discount for a group booking?\",\n",
    "# \"@HawaiianAir I have a medical condition that requires extra legroom. Can I get a seat with more space?\",\n",
    "# \"@united Hey! Can I change my flight date without incurring extra fees?\",\n",
    "# \"@united What is your policy for lost and found items on the plane?\",\n",
    "# \"@united I received a notification that my flight was delayed. Will I receive any compensation for the inconvenience?\",\n",
    "# \"@FlyAirNZ Hi there! Can I select my seat on the flight without paying extra fees?\",\n",
    "# \"@FlyAirNZ What is the policy for flight cancellations due to natural disasters?\",\n",
    "# \"@FlyAirNZ Can I change my flight date without incurring extra charges?\",\n",
    "# \"@Qantas Hi there! Can I bring my own headphones to use on the flight?\",\n",
    "# \"@Qantas What is the policy for flight cancellations due to medical emergencies?\",\n",
    "# \"@Qantas I accidentally booked my flight for the wrong time. Can I change it without a penalty?\",\n",
    "# \"@British_Airways Hi there! Can I get a refund on my flight if I need to cancel due to illness?\",\n",
    "# \"@British_Airways What is your policy for lost baggage?\",\n",
    "# \"@British_Airways Is there a way to get a discount on my flight for being a student?\",\n",
    "# \"@AirFranceFR Hi! Can I change my flight date without incurring extra fees?\",\n",
    "# \"@AirFranceFR What is the policy for bringing pets on the flight?\",\n",
    "# \"@AirFranceFR I missed my flight due to traffic.\"]\n",
    "# neg 4[\"@DeltaAssist, my flight has been delayed for over 3 hours with no explanation. This is unacceptable.\",\n",
    "# \"@SouthwestAir, why is it that every time I fly with you guys, my flight gets delayed or Cancelled Flightled? It's getting old.\",\n",
    "# \"I don't know why people bother flying with @AmericanAir. Their flights are always delayed or Cancelled Flightled.\",\n",
    "# \"@united, why can't you get your act together and actually run your flights on time for once?\",\n",
    "# \"I'm so sick of @JetBlue's constant delays and Cancelled Flightlations. Get it together!\",\n",
    "# \"@DeltaAssist, my flight was Cancelled Flightled for no reason and I wasn't given any help finding a new one. Terrible customer service.\",\n",
    "# \"@SouthwestAir, why do you even bother having a schedule if you're never going to stick to it?\",\n",
    "# \"Every time I fly with @AmericanAir, it's a disaster. Delayed flights, lost luggage, terrible customer service.\",\n",
    "# \"@united, thanks for delaying my flight by 5 hours and then not even giving me an apology.\",\n",
    "# \"I'm never flying with @JetBlue again. They can't seem to run a single flight on time.\",\n",
    "# \"@DeltaAssist, how can you justify delaying a flight for 7 hours without any explanation or compensation?\",\n",
    "# \"@SouthwestAir, why is it that you can't seem to get a single flight off the ground on time?\",\n",
    "# \"Just once, I wish @AmericanAir could actually get a flight to depart on time.\",\n",
    "# \"@united, how can you justify charging such high prices when you can't even run a flight on time?\",\n",
    "# \"I can't believe I have to fly with @JetBlue again. Every time I do, I regret it.\",\n",
    "# \"@DeltaAssist, thanks for making me miss my connecting flight and then not helping me find a new one. Terrible customer service.\",\n",
    "# \"@SouthwestAir, it's hard to believe that an airline can be this consistently bad at running flights on time.\",\n",
    "# \"@AmericanAir, your flights are always delayed or Cancelled Flightled. How do you stay in business?\",\n",
    "# \"@united, do you even care about your customers? Delayed flights, lost luggage, terrible customer service.\",\n",
    "# \"I used to think @JetBlue was a decent airline, but now I know better. Constant delays and Cancelled Flightlations.\",\n",
    "# \"@DeltaAssist, how do you justify leaving passengers stranded in an airport for 12 hours with no explanation or compensation?\",\n",
    "# \"@SouthwestAir, your flights are consistently late or Cancelled Flightled. How can you get away with this?\",\n",
    "# \"I don't know why anyone would fly with @AmericanAir. Their flights are always a disaster.\",\n",
    "# \"@united, thanks for making my travel day a nightmare with your delayed flights and terrible customer service.\",\n",
    "# \"@JetBlue, it's amazing how consistently terrible you are at running flights on time. Do better!\",\n",
    "# \"@DeltaAssist, I can't believe how terrible your customer service is. No help finding a new flight after mine was Cancelled Flightled.\",\n",
    "# \"@SouthwestAir, do you even have a schedule? Every flight I've taken with you has been delayed or Cancelled Flightled.\",\n",
    "# \"Flying with @AmericanAir is a nightmare. Delays, Cancelled Flightlations, lost luggage, terrible customer service. Avoid at all costs.\",\n",
    "# \"@united, why can't you seem to run a single flight on time? It's ridiculous.\",\n",
    "# \"I'm never flying with @JetBlue again. They can't seem to get a single flight off the ground on time.\",\n",
    "# \"@DeltaAssist, how can you justify leaving passengers stranded on the tarmac for hours without any explanation or compensation?\"]\n",
    "# pos 1[\"@Delta, take some notes from @JetBlue on how to treat customers right. #CustomerServiceGoals\",\n",
    "# \"Just booked my next flight with @JetBlue and couldn't be more excited! #JetBlueLove\",\n",
    "# \"I always have a great experience flying with @JetBlue. Thanks for making travel comfortable and easy!\",\n",
    "# \"Flying with @JetBlue to my favorite city - can't wait to explore! #TravelGoals\",\n",
    "# \"@JetBlue, you're killing the airline game with your on-point fleet and exceptional service. Keep it up! #AirlineGoals\",\n",
    "# \"Every time I fly @JetBlue, I'm reminded of why I choose this airline. Amazing service, great prices, and comfortable flights!\",\n",
    "# \"I may not have my tux, but I'm always ready for a flight with @JetBlue. #JetBlueLove\",\n",
    "# \"Just when I thought I couldn't love @JetBlue any more, they offer a flight from my hometown to my favorite city! #Winning\",\n",
    "# \"From Boston to Buffalo to the Caribbean, @JetBlue takes me wherever I need to go. #JetBlueLove\",\n",
    "# \"@JetBlue, can you please offer service to my hometown? I need to share the love with my community!\",\n",
    "# \"I love when my flights are on fleek, just like @JetBlue's fleet! #TravelGoals\",\n",
    "# \"No need to stop the tweets, @JetBlue. Keep them coming! #JetBlueLove\",\n",
    "# \"Excited to fly with @JetBlue again and experience their amazing customer service! #AirlineGoals\",\n",
    "# \"Thanks to @JetBlue, I'm always ready for my next adventure. #JetBlueLove\",\n",
    "# \"When it comes to air travel, @JetBlue is always my first choice. #AirlineGoals\",\n",
    "# \"The only thing that could make my flight with @JetBlue better is if I get a chance to snap a selfie with the crew! #JetBlueLove\",\n",
    "# \"Thanks, @JetBlue, for always making my travels comfortable and fun. #TravelGoals\",\n",
    "# \"Just when I thought @JetBlue couldn't get any better, they surprise me with amazing on-board entertainment! #AirlineGoals\",\n",
    "# \"Nothing but love for @JetBlue! Best airline around! #JetBlueLove\",\n",
    "# \"I'm so ready to trade the cold for a sunny destination with @JetBlue. #TravelGoals\",\n",
    "# \"Shoutout to @JetBlue for the best flight experience ever! #AirlineGoals\",\n",
    "# \"Boarding with @JetBlue is always a breeze, thanks to their amazing agents! #JetBlueLove\",\n",
    "# \"Thanks, @JetBlue, for always making me feel like a VIP. #TravelGoals\",\n",
    "# \"I can always count on @JetBlue for an amazing flight experience. #AirlineGoals\",\n",
    "# \"I'm always excited to see @JetBlue's planes pulling into the gate - it means I'm in for a great flight! #JetBlueLove\",\n",
    "# \"When it comes to flying, @JetBlue is always the way to go. #TravelGoals\",\n",
    "# \"I'm convinced that @JetBlue has the best customer service in the airline industry. #AirlineGoals\",\n",
    "# \"I never have to worry about legroom when I fly with @JetBlue - even more space for me to relax! #JetBlueLove\",\n",
    "# \"Thanks, @JetBlue, for making my travel dreams come true! #TravelGoals\",\n",
    "# \"I'm always impressed by @JetBlue's innovative approach to air travel. #AirlineGoals\",\n",
    "# \"Flying with @JetBlue feels like a luxury experience at an affordable price. #JetBlueLove\",\n",
    "# \"Thanks to @JetBlue, I'm always ready to jet off to my next adventure. #TravelGoals\",]\n",
    "# neu 0[\n",
    "# \"@SouthwestAir the weather always seems to cause flight delays, it's so frustrating #flightdelays #travelwoes\",\n",
    "# \"@SouthwestAir thank you for your assistance, Lindsey. Do you have any updates on my flight? #stuckindenver\",\n",
    "# \"@SouthwestAir glad to hear everything is sorted out, thank you! #goodcustomerservice\",\n",
    "# \"@SouthwestAir I agree, more incentives for border town flyers would be great for everyone involved #customerretention #travelmore\",\n",
    "# \"@SouthwestAir missing a flight by a millisecond is a sad feeling, better luck next time #missedopportunities #flying\",\n",
    "# \"@SouthwestAir it can be confusing for first-time flyers, but boarding by row makes more sense. #traveltips #flying\",\n",
    "# \"@SouthwestAir any chance you could get my hubby home sooner? He's got a long layover in DFW #travelwoes #flights\",\n",
    "# \"@SouthwestAir thanks for the heads up on the wait times at PHX airport, I'll keep that in mind next time I fly #travelhacks #travel\",\n",
    "# \"@SouthwestAir glad to hear the flight took off on time! #goodnews #travel\",\n",
    "# \"@SouthwestAir please bring back the RDU to FLL route, it's always so packed! #travelneeds #flying\",\n",
    "# \"@SouthwestAir great travel tips, thanks for sharing! #traveltips #ebook\",\n",
    "# \"@SouthwestAir thanks for the reminder about my upcoming trip, even though I didn't need it #travelupdates #traveltweets\",\n",
    "# \"@SouthwestAir any updates on flights from BWI-SJD after Aug 7th? Can't seem to find any #travelwoes #flying\",\n",
    "# \"@SouthwestAir @love_dragonss Lauren, you're amazing!\",\n",
    "# \"@SouthwestAir just checking in to make sure everything's alright, there's been a threat on the plane #safetyconcerns #travel\",\n",
    "# \"@SouthwestAir boarding could be much smoother if you let the business class go first #boardingprocess #travelwoes\",\n",
    "# \"@SouthwestAir is there a way to upgrade to priority seating after purchasing the flight? #travelquestions #flying\",\n",
    "# \"@SouthwestAir going over 9000 feet in the air feels incredible! #travelling #flyinghigh\",\n",
    "# \"@SouthwestAir thanks for the reply, I appreciate it #goodcustomerservice #travelwoes\",\n",
    "# \"@SouthwestAir @ClinicPolly thank you for responding, even though I might have missed it #grateful #travelwoes\",\n",
    "# \"@SouthwestAir @destinationdragons is the dream! It would be a life-changing experience to see them perform #dreamscometrue #musiclove\",\n",
    "# \"@SouthwestAir everything's rebooked for tomorrow, fingers crossed for a smooth flight #travelupdates #traveltweets\",\n",
    "# \"@SouthwestAir please help these volunteers from RI high school get home! #goodcause #travelwoes\",\n",
    "# \"@SouthwestAir can you help me find a flight under $150 from Nashville to DC or Raleigh on March 15th? #travelrequests #flying\",\n",
    "# \"@SouthwestAir been on hold for almost 30 minutes, still no response #customerservicefail #travelwoes\",\n",
    "# \"@SouthwestAir @love_dragonss Lauren, you're the best!\",\n",
    "# \"@SouthwestAir always coming to the rescue, thanks for being so reliable! #travelwoes #customerservice\",\n",
    "# \"@SouthwestAir I can't enroll in the Atlanta companion promotion, can you help me out? #traveldeals #promotions\",\n",
    "# \"@SouthwestAir direct message me, I need help with a rebooking #travelupdates #traveltweets\"]\n",
    "#neu 3 [\"@united Glad to hear it!\", \"@USAirways Apology accepted!\", \"@united Happy to hear that everything got straightened out!\", \"@united Thank you for the prompt responses, much appreciated!\", \"@USAirways You're welcome!\", \"@united Sounds good, thanks for the update.\", \"@united Hope you make your connection!\", \"@united Looking forward to hearing from you.\", \"@united Thank you for submitting your feedback!\", \"@united Looking forward to seeing what you do to make up for it!\", \"@USAirways Get it together, guys!\", \"@united Hi there, thanks for the response!\", \"@united No problem, glad we could help!\", \"@united Thanks, keep us posted!\", \"@united Thanks for the clarification, appreciate it!\", \"@united Will do, thanks for the info!\", \"@USAirways Thank you as well!\", \"@united Hoping you have a comfortable flight!\", \"@united Definitely appreciate your help!\", \"@united Thank you for your response, much appreciated!\", \"@united Crossing my fingers for a response!\", \"@united Thanks for keeping us in the loop!\", \"@united Shoutout to @Delta for saving the day!\", \"@united Thanks for the update, much appreciated!\", \"@USAirways No problem, glad we could help!\", \"@USAirways Glad to hear you got your bags back!\", \"@USAirways It's all good, thanks for the help!\", \"@USAirways Same here, lol.\", \"@united Thank you, appreciate it!\", \"@united Thanks a bunch!\", \"@united Sounds like a frustrating situation, hope it gets resolved soon!\", \"@united Thank you, looking forward to your response!\", \"@united Awesome, thanks so much for your help!\"]"
   ]
  },
  {
   "cell_type": "code",
   "execution_count": 405,
   "id": "74946143",
   "metadata": {},
   "outputs": [],
   "source": [
    "from sentence_transformers import SentenceTransformer\n",
    "sbert_model = SentenceTransformer('stsb-bert-base')"
   ]
  },
  {
   "cell_type": "code",
   "execution_count": 509,
   "id": "f62b1235",
   "metadata": {},
   "outputs": [],
   "source": [
    "query_vec = sbert_model.encode(queries)"
   ]
  },
  {
   "cell_type": "code",
   "execution_count": 510,
   "id": "92e10fff",
   "metadata": {},
   "outputs": [
    {
     "data": {
      "text/plain": [
       "array([[-0.1340823 ,  0.64115953,  0.35497966, ..., -0.07074625,\n",
       "        -0.13565387,  0.40131626],\n",
       "       [-0.39933464, -0.18714248,  0.2322079 , ..., -0.02286128,\n",
       "        -0.3718642 ,  0.50397104],\n",
       "       [-0.62801445,  0.20979801, -0.06203831, ...,  0.34582865,\n",
       "         0.34046566,  0.07431531],\n",
       "       ...,\n",
       "       [-0.53060865,  0.70575684,  0.7623632 , ...,  0.04017802,\n",
       "         0.12167248,  0.3794131 ],\n",
       "       [ 0.00378873,  0.91005766,  0.03675476, ..., -0.02567829,\n",
       "        -0.04547088,  0.7261306 ],\n",
       "       [-0.19366989,  0.17762153,  0.26932094, ...,  0.10970149,\n",
       "         0.67852986,  0.15915127]], dtype=float32)"
      ]
     },
     "execution_count": 510,
     "metadata": {},
     "output_type": "execute_result"
    }
   ],
   "source": [
    "query_vec"
   ]
  },
  {
   "cell_type": "code",
   "execution_count": 511,
   "id": "594423d2",
   "metadata": {
    "scrolled": true
   },
   "outputs": [],
   "source": [
    "newtwos = mapper.transform(query_vec)"
   ]
  },
  {
   "cell_type": "code",
   "execution_count": 512,
   "id": "02606496",
   "metadata": {},
   "outputs": [
    {
     "data": {
      "text/plain": [
       "array([[ 1.3031363 , 13.434372  ],\n",
       "       [ 0.35795218, 11.915037  ],\n",
       "       [ 4.0287185 , 10.976549  ],\n",
       "       [ 4.9676332 , 12.643261  ],\n",
       "       [ 1.8481952 , 13.223188  ],\n",
       "       [ 2.389202  , 11.603295  ],\n",
       "       [ 1.890759  , 12.780089  ],\n",
       "       [ 1.85195   , 12.430385  ],\n",
       "       [ 0.554823  , 13.84474   ],\n",
       "       [ 1.700592  , 13.111139  ],\n",
       "       [ 4.6631474 , 13.370612  ],\n",
       "       [ 1.810126  , 12.375124  ],\n",
       "       [ 2.1408176 , 13.120538  ],\n",
       "       [ 2.6111872 , 13.836464  ],\n",
       "       [ 1.788894  , 13.04427   ],\n",
       "       [ 2.5342605 , 13.802541  ],\n",
       "       [ 4.6679296 , 13.720098  ],\n",
       "       [ 2.912195  , 13.540622  ],\n",
       "       [ 2.214382  , 13.4079275 ],\n",
       "       [ 2.2049248 , 13.003815  ],\n",
       "       [ 2.6707065 , 14.053264  ],\n",
       "       [ 2.606078  , 14.133679  ],\n",
       "       [ 2.4587886 , 13.009239  ],\n",
       "       [ 2.024696  , 12.287256  ],\n",
       "       [ 2.1197126 , 12.934503  ],\n",
       "       [ 2.4536948 , 14.175407  ],\n",
       "       [ 2.0680375 , 12.093207  ]], dtype=float32)"
      ]
     },
     "execution_count": 512,
     "metadata": {},
     "output_type": "execute_result"
    }
   ],
   "source": [
    "newtwos"
   ]
  },
  {
   "cell_type": "code",
   "execution_count": 513,
   "id": "3d4bc9cf",
   "metadata": {},
   "outputs": [
    {
     "data": {
      "text/html": [
       "<div>\n",
       "<style scoped>\n",
       "    .dataframe tbody tr th:only-of-type {\n",
       "        vertical-align: middle;\n",
       "    }\n",
       "\n",
       "    .dataframe tbody tr th {\n",
       "        vertical-align: top;\n",
       "    }\n",
       "\n",
       "    .dataframe thead th {\n",
       "        text-align: right;\n",
       "    }\n",
       "</style>\n",
       "<table border=\"1\" class=\"dataframe\">\n",
       "  <thead>\n",
       "    <tr style=\"text-align: right;\">\n",
       "      <th></th>\n",
       "      <th>x</th>\n",
       "      <th>y</th>\n",
       "    </tr>\n",
       "  </thead>\n",
       "  <tbody>\n",
       "    <tr>\n",
       "      <th>225</th>\n",
       "      <td>0.352707</td>\n",
       "      <td>10.298313</td>\n",
       "    </tr>\n",
       "    <tr>\n",
       "      <th>228</th>\n",
       "      <td>1.922634</td>\n",
       "      <td>11.785860</td>\n",
       "    </tr>\n",
       "    <tr>\n",
       "      <th>238</th>\n",
       "      <td>2.231161</td>\n",
       "      <td>13.833053</td>\n",
       "    </tr>\n",
       "    <tr>\n",
       "      <th>242</th>\n",
       "      <td>1.293295</td>\n",
       "      <td>13.637816</td>\n",
       "    </tr>\n",
       "    <tr>\n",
       "      <th>246</th>\n",
       "      <td>0.394874</td>\n",
       "      <td>14.442921</td>\n",
       "    </tr>\n",
       "    <tr>\n",
       "      <th>254</th>\n",
       "      <td>0.459122</td>\n",
       "      <td>10.391192</td>\n",
       "    </tr>\n",
       "    <tr>\n",
       "      <th>264</th>\n",
       "      <td>1.223863</td>\n",
       "      <td>13.986474</td>\n",
       "    </tr>\n",
       "    <tr>\n",
       "      <th>266</th>\n",
       "      <td>0.633271</td>\n",
       "      <td>13.669848</td>\n",
       "    </tr>\n",
       "    <tr>\n",
       "      <th>272</th>\n",
       "      <td>0.411051</td>\n",
       "      <td>13.257083</td>\n",
       "    </tr>\n",
       "    <tr>\n",
       "      <th>277</th>\n",
       "      <td>6.270368</td>\n",
       "      <td>10.882869</td>\n",
       "    </tr>\n",
       "    <tr>\n",
       "      <th>278</th>\n",
       "      <td>0.400090</td>\n",
       "      <td>13.196545</td>\n",
       "    </tr>\n",
       "    <tr>\n",
       "      <th>286</th>\n",
       "      <td>1.697155</td>\n",
       "      <td>12.942266</td>\n",
       "    </tr>\n",
       "    <tr>\n",
       "      <th>289</th>\n",
       "      <td>1.251118</td>\n",
       "      <td>13.624102</td>\n",
       "    </tr>\n",
       "    <tr>\n",
       "      <th>291</th>\n",
       "      <td>1.623284</td>\n",
       "      <td>13.170617</td>\n",
       "    </tr>\n",
       "    <tr>\n",
       "      <th>293</th>\n",
       "      <td>0.928047</td>\n",
       "      <td>13.797121</td>\n",
       "    </tr>\n",
       "    <tr>\n",
       "      <th>294</th>\n",
       "      <td>1.138142</td>\n",
       "      <td>13.767056</td>\n",
       "    </tr>\n",
       "    <tr>\n",
       "      <th>296</th>\n",
       "      <td>1.830732</td>\n",
       "      <td>12.455801</td>\n",
       "    </tr>\n",
       "    <tr>\n",
       "      <th>303</th>\n",
       "      <td>0.372735</td>\n",
       "      <td>10.019953</td>\n",
       "    </tr>\n",
       "    <tr>\n",
       "      <th>307</th>\n",
       "      <td>5.300650</td>\n",
       "      <td>11.027744</td>\n",
       "    </tr>\n",
       "    <tr>\n",
       "      <th>322</th>\n",
       "      <td>2.414302</td>\n",
       "      <td>12.606928</td>\n",
       "    </tr>\n",
       "    <tr>\n",
       "      <th>707</th>\n",
       "      <td>0.159107</td>\n",
       "      <td>9.915891</td>\n",
       "    </tr>\n",
       "    <tr>\n",
       "      <th>733</th>\n",
       "      <td>5.222425</td>\n",
       "      <td>11.664083</td>\n",
       "    </tr>\n",
       "    <tr>\n",
       "      <th>742</th>\n",
       "      <td>6.251324</td>\n",
       "      <td>10.980482</td>\n",
       "    </tr>\n",
       "    <tr>\n",
       "      <th>746</th>\n",
       "      <td>0.841363</td>\n",
       "      <td>10.884976</td>\n",
       "    </tr>\n",
       "    <tr>\n",
       "      <th>748</th>\n",
       "      <td>1.263112</td>\n",
       "      <td>12.666793</td>\n",
       "    </tr>\n",
       "    <tr>\n",
       "      <th>754</th>\n",
       "      <td>0.883913</td>\n",
       "      <td>14.574909</td>\n",
       "    </tr>\n",
       "    <tr>\n",
       "      <th>764</th>\n",
       "      <td>0.841391</td>\n",
       "      <td>14.168139</td>\n",
       "    </tr>\n",
       "    <tr>\n",
       "      <th>767</th>\n",
       "      <td>1.315741</td>\n",
       "      <td>13.896380</td>\n",
       "    </tr>\n",
       "    <tr>\n",
       "      <th>814</th>\n",
       "      <td>2.486257</td>\n",
       "      <td>12.307549</td>\n",
       "    </tr>\n",
       "    <tr>\n",
       "      <th>824</th>\n",
       "      <td>0.537971</td>\n",
       "      <td>14.249302</td>\n",
       "    </tr>\n",
       "    <tr>\n",
       "      <th>826</th>\n",
       "      <td>1.037805</td>\n",
       "      <td>13.544748</td>\n",
       "    </tr>\n",
       "    <tr>\n",
       "      <th>830</th>\n",
       "      <td>1.846934</td>\n",
       "      <td>13.282312</td>\n",
       "    </tr>\n",
       "    <tr>\n",
       "      <th>834</th>\n",
       "      <td>4.724702</td>\n",
       "      <td>12.415987</td>\n",
       "    </tr>\n",
       "    <tr>\n",
       "      <th>842</th>\n",
       "      <td>0.459827</td>\n",
       "      <td>13.888678</td>\n",
       "    </tr>\n",
       "    <tr>\n",
       "      <th>855</th>\n",
       "      <td>0.583329</td>\n",
       "      <td>13.817384</td>\n",
       "    </tr>\n",
       "    <tr>\n",
       "      <th>865</th>\n",
       "      <td>0.728746</td>\n",
       "      <td>10.763959</td>\n",
       "    </tr>\n",
       "    <tr>\n",
       "      <th>874</th>\n",
       "      <td>1.211495</td>\n",
       "      <td>14.216790</td>\n",
       "    </tr>\n",
       "    <tr>\n",
       "      <th>875</th>\n",
       "      <td>0.541466</td>\n",
       "      <td>14.266996</td>\n",
       "    </tr>\n",
       "  </tbody>\n",
       "</table>\n",
       "</div>"
      ],
      "text/plain": [
       "            x          y\n",
       "225  0.352707  10.298313\n",
       "228  1.922634  11.785860\n",
       "238  2.231161  13.833053\n",
       "242  1.293295  13.637816\n",
       "246  0.394874  14.442921\n",
       "254  0.459122  10.391192\n",
       "264  1.223863  13.986474\n",
       "266  0.633271  13.669848\n",
       "272  0.411051  13.257083\n",
       "277  6.270368  10.882869\n",
       "278  0.400090  13.196545\n",
       "286  1.697155  12.942266\n",
       "289  1.251118  13.624102\n",
       "291  1.623284  13.170617\n",
       "293  0.928047  13.797121\n",
       "294  1.138142  13.767056\n",
       "296  1.830732  12.455801\n",
       "303  0.372735  10.019953\n",
       "307  5.300650  11.027744\n",
       "322  2.414302  12.606928\n",
       "707  0.159107   9.915891\n",
       "733  5.222425  11.664083\n",
       "742  6.251324  10.980482\n",
       "746  0.841363  10.884976\n",
       "748  1.263112  12.666793\n",
       "754  0.883913  14.574909\n",
       "764  0.841391  14.168139\n",
       "767  1.315741  13.896380\n",
       "814  2.486257  12.307549\n",
       "824  0.537971  14.249302\n",
       "826  1.037805  13.544748\n",
       "830  1.846934  13.282312\n",
       "834  4.724702  12.415987\n",
       "842  0.459827  13.888678\n",
       "855  0.583329  13.817384\n",
       "865  0.728746  10.763959\n",
       "874  1.211495  14.216790\n",
       "875  0.541466  14.266996"
      ]
     },
     "execution_count": 513,
     "metadata": {},
     "output_type": "execute_result"
    }
   ],
   "source": [
    "dfnew = df.loc[(df[\"label\"] == label) & (df[\"cluster\"] == cluster)][[\"x\", \"y\"]]\n",
    "dfnew"
   ]
  },
  {
   "cell_type": "code",
   "execution_count": 514,
   "id": "8dedc10e",
   "metadata": {},
   "outputs": [
    {
     "data": {
      "text/html": [
       "<div>\n",
       "<style scoped>\n",
       "    .dataframe tbody tr th:only-of-type {\n",
       "        vertical-align: middle;\n",
       "    }\n",
       "\n",
       "    .dataframe tbody tr th {\n",
       "        vertical-align: top;\n",
       "    }\n",
       "\n",
       "    .dataframe thead th {\n",
       "        text-align: right;\n",
       "    }\n",
       "</style>\n",
       "<table border=\"1\" class=\"dataframe\">\n",
       "  <thead>\n",
       "    <tr style=\"text-align: right;\">\n",
       "      <th></th>\n",
       "      <th>x</th>\n",
       "      <th>y</th>\n",
       "      <th>type</th>\n",
       "    </tr>\n",
       "  </thead>\n",
       "  <tbody>\n",
       "    <tr>\n",
       "      <th>0</th>\n",
       "      <td>1.303136</td>\n",
       "      <td>13.434372</td>\n",
       "      <td>new</td>\n",
       "    </tr>\n",
       "    <tr>\n",
       "      <th>1</th>\n",
       "      <td>0.357952</td>\n",
       "      <td>11.915037</td>\n",
       "      <td>new</td>\n",
       "    </tr>\n",
       "    <tr>\n",
       "      <th>2</th>\n",
       "      <td>4.028718</td>\n",
       "      <td>10.976549</td>\n",
       "      <td>new</td>\n",
       "    </tr>\n",
       "    <tr>\n",
       "      <th>3</th>\n",
       "      <td>4.967633</td>\n",
       "      <td>12.643261</td>\n",
       "      <td>new</td>\n",
       "    </tr>\n",
       "    <tr>\n",
       "      <th>4</th>\n",
       "      <td>1.848195</td>\n",
       "      <td>13.223188</td>\n",
       "      <td>new</td>\n",
       "    </tr>\n",
       "    <tr>\n",
       "      <th>5</th>\n",
       "      <td>2.389202</td>\n",
       "      <td>11.603295</td>\n",
       "      <td>new</td>\n",
       "    </tr>\n",
       "    <tr>\n",
       "      <th>6</th>\n",
       "      <td>1.890759</td>\n",
       "      <td>12.780089</td>\n",
       "      <td>new</td>\n",
       "    </tr>\n",
       "    <tr>\n",
       "      <th>7</th>\n",
       "      <td>1.851950</td>\n",
       "      <td>12.430385</td>\n",
       "      <td>new</td>\n",
       "    </tr>\n",
       "    <tr>\n",
       "      <th>8</th>\n",
       "      <td>0.554823</td>\n",
       "      <td>13.844740</td>\n",
       "      <td>new</td>\n",
       "    </tr>\n",
       "    <tr>\n",
       "      <th>9</th>\n",
       "      <td>1.700592</td>\n",
       "      <td>13.111139</td>\n",
       "      <td>new</td>\n",
       "    </tr>\n",
       "    <tr>\n",
       "      <th>10</th>\n",
       "      <td>4.663147</td>\n",
       "      <td>13.370612</td>\n",
       "      <td>new</td>\n",
       "    </tr>\n",
       "    <tr>\n",
       "      <th>11</th>\n",
       "      <td>1.810126</td>\n",
       "      <td>12.375124</td>\n",
       "      <td>new</td>\n",
       "    </tr>\n",
       "    <tr>\n",
       "      <th>12</th>\n",
       "      <td>2.140818</td>\n",
       "      <td>13.120538</td>\n",
       "      <td>new</td>\n",
       "    </tr>\n",
       "    <tr>\n",
       "      <th>13</th>\n",
       "      <td>2.611187</td>\n",
       "      <td>13.836464</td>\n",
       "      <td>new</td>\n",
       "    </tr>\n",
       "    <tr>\n",
       "      <th>14</th>\n",
       "      <td>1.788894</td>\n",
       "      <td>13.044270</td>\n",
       "      <td>new</td>\n",
       "    </tr>\n",
       "    <tr>\n",
       "      <th>15</th>\n",
       "      <td>2.534261</td>\n",
       "      <td>13.802541</td>\n",
       "      <td>new</td>\n",
       "    </tr>\n",
       "    <tr>\n",
       "      <th>16</th>\n",
       "      <td>4.667930</td>\n",
       "      <td>13.720098</td>\n",
       "      <td>new</td>\n",
       "    </tr>\n",
       "    <tr>\n",
       "      <th>17</th>\n",
       "      <td>2.912195</td>\n",
       "      <td>13.540622</td>\n",
       "      <td>new</td>\n",
       "    </tr>\n",
       "    <tr>\n",
       "      <th>18</th>\n",
       "      <td>2.214382</td>\n",
       "      <td>13.407928</td>\n",
       "      <td>new</td>\n",
       "    </tr>\n",
       "    <tr>\n",
       "      <th>19</th>\n",
       "      <td>2.204925</td>\n",
       "      <td>13.003815</td>\n",
       "      <td>new</td>\n",
       "    </tr>\n",
       "    <tr>\n",
       "      <th>20</th>\n",
       "      <td>2.670707</td>\n",
       "      <td>14.053264</td>\n",
       "      <td>new</td>\n",
       "    </tr>\n",
       "    <tr>\n",
       "      <th>21</th>\n",
       "      <td>2.606078</td>\n",
       "      <td>14.133679</td>\n",
       "      <td>new</td>\n",
       "    </tr>\n",
       "    <tr>\n",
       "      <th>22</th>\n",
       "      <td>2.458789</td>\n",
       "      <td>13.009239</td>\n",
       "      <td>new</td>\n",
       "    </tr>\n",
       "    <tr>\n",
       "      <th>23</th>\n",
       "      <td>2.024696</td>\n",
       "      <td>12.287256</td>\n",
       "      <td>new</td>\n",
       "    </tr>\n",
       "    <tr>\n",
       "      <th>24</th>\n",
       "      <td>2.119713</td>\n",
       "      <td>12.934503</td>\n",
       "      <td>new</td>\n",
       "    </tr>\n",
       "    <tr>\n",
       "      <th>25</th>\n",
       "      <td>2.453695</td>\n",
       "      <td>14.175407</td>\n",
       "      <td>new</td>\n",
       "    </tr>\n",
       "    <tr>\n",
       "      <th>26</th>\n",
       "      <td>2.068038</td>\n",
       "      <td>12.093207</td>\n",
       "      <td>new</td>\n",
       "    </tr>\n",
       "  </tbody>\n",
       "</table>\n",
       "</div>"
      ],
      "text/plain": [
       "           x          y type\n",
       "0   1.303136  13.434372  new\n",
       "1   0.357952  11.915037  new\n",
       "2   4.028718  10.976549  new\n",
       "3   4.967633  12.643261  new\n",
       "4   1.848195  13.223188  new\n",
       "5   2.389202  11.603295  new\n",
       "6   1.890759  12.780089  new\n",
       "7   1.851950  12.430385  new\n",
       "8   0.554823  13.844740  new\n",
       "9   1.700592  13.111139  new\n",
       "10  4.663147  13.370612  new\n",
       "11  1.810126  12.375124  new\n",
       "12  2.140818  13.120538  new\n",
       "13  2.611187  13.836464  new\n",
       "14  1.788894  13.044270  new\n",
       "15  2.534261  13.802541  new\n",
       "16  4.667930  13.720098  new\n",
       "17  2.912195  13.540622  new\n",
       "18  2.214382  13.407928  new\n",
       "19  2.204925  13.003815  new\n",
       "20  2.670707  14.053264  new\n",
       "21  2.606078  14.133679  new\n",
       "22  2.458789  13.009239  new\n",
       "23  2.024696  12.287256  new\n",
       "24  2.119713  12.934503  new\n",
       "25  2.453695  14.175407  new\n",
       "26  2.068038  12.093207  new"
      ]
     },
     "execution_count": 514,
     "metadata": {},
     "output_type": "execute_result"
    }
   ],
   "source": [
    "dfnew[\"type\"] = [\"og\"] * dfnew.shape[0]\n",
    "dfnewtwos = pd.DataFrame(newtwos, columns=[\"x\", \"y\"])\n",
    "dfnewtwos[\"type\"] = [\"new\"] * dfnewtwos.shape[0]\n",
    "dfnewtwos"
   ]
  },
  {
   "cell_type": "code",
   "execution_count": 515,
   "id": "5a6c426b",
   "metadata": {
    "scrolled": false
   },
   "outputs": [
    {
     "data": {
      "application/vnd.plotly.v1+json": {
       "config": {
        "plotlyServerURL": "https://plot.ly"
       },
       "data": [
        {
         "hovertemplate": "type=og<br>x=%{x}<br>y=%{y}<extra></extra>",
         "legendgroup": "og",
         "marker": {
          "color": "#636efa",
          "symbol": "circle"
         },
         "mode": "markers",
         "name": "og",
         "orientation": "v",
         "showlegend": true,
         "type": "scatter",
         "x": [
          0.3527071475982666,
          1.9226340055465698,
          2.231160879135132,
          1.293294906616211,
          0.3948736786842346,
          0.4591224193572998,
          1.223862648010254,
          0.6332709193229675,
          0.41105109453201294,
          6.270367622375488,
          0.4000896215438843,
          1.6971549987792969,
          1.2511177062988281,
          1.623284101486206,
          0.9280466437339783,
          1.1381418704986572,
          1.8307318687438965,
          0.3727354407310486,
          5.300650119781494,
          2.414302110671997,
          0.1591072529554367,
          5.222424507141113,
          6.251323699951172,
          0.841363251209259,
          1.2631118297576904,
          0.883912980556488,
          0.8413906693458557,
          1.3157405853271484,
          2.4862565994262695,
          0.5379706025123596,
          1.0378047227859497,
          1.846934199333191,
          4.724701881408691,
          0.45982688665390015,
          0.5833294987678528,
          0.7287461757659912,
          1.2114953994750977,
          0.541466474533081
         ],
         "xaxis": "x",
         "y": [
          10.29831314086914,
          11.785860061645508,
          13.833052635192871,
          13.637816429138184,
          14.442920684814453,
          10.391192436218262,
          13.98647403717041,
          13.669848442077637,
          13.25708293914795,
          10.882868766784668,
          13.196544647216797,
          12.942266464233398,
          13.624101638793945,
          13.17061710357666,
          13.797121047973633,
          13.76705551147461,
          12.455801010131836,
          10.019952774047852,
          11.02774429321289,
          12.606927871704102,
          9.91589069366455,
          11.664083480834961,
          10.98048210144043,
          10.884976387023926,
          12.666792869567871,
          14.574909210205078,
          14.16813850402832,
          13.896380424499512,
          12.307549476623535,
          14.24930191040039,
          13.544748306274414,
          13.282312393188477,
          12.415987014770508,
          13.888677597045898,
          13.817383766174316,
          10.763958930969238,
          14.216790199279785,
          14.266996383666992
         ],
         "yaxis": "y"
        },
        {
         "hovertemplate": "type=new<br>x=%{x}<br>y=%{y}<extra></extra>",
         "legendgroup": "new",
         "marker": {
          "color": "#EF553B",
          "symbol": "circle"
         },
         "mode": "markers",
         "name": "new",
         "orientation": "v",
         "showlegend": true,
         "type": "scatter",
         "x": [
          1.3031363487243652,
          0.35795217752456665,
          4.0287184715271,
          4.967633247375488,
          1.848195195198059,
          2.389202117919922,
          1.890758991241455,
          1.8519500494003296,
          0.5548229813575745,
          1.700592041015625,
          4.663147449493408,
          1.8101259469985962,
          2.140817642211914,
          2.611187219619751,
          1.7888940572738647,
          2.5342605113983154,
          4.667929649353027,
          2.9121949672698975,
          2.2143819332122803,
          2.2049248218536377,
          2.6707065105438232,
          2.6060779094696045,
          2.4587886333465576,
          2.024696111679077,
          2.1197125911712646,
          2.4536948204040527,
          2.068037509918213
         ],
         "xaxis": "x",
         "y": [
          13.434371948242188,
          11.915037155151367,
          10.97654914855957,
          12.643260955810547,
          13.223188400268555,
          11.60329532623291,
          12.780089378356934,
          12.430384635925293,
          13.84473991394043,
          13.111139297485352,
          13.370612144470215,
          12.375123977661133,
          13.120537757873535,
          13.836463928222656,
          13.044269561767578,
          13.80254077911377,
          13.720097541809082,
          13.540621757507324,
          13.407927513122559,
          13.003814697265625,
          14.053263664245605,
          14.133679389953613,
          13.009239196777344,
          12.287256240844727,
          12.934502601623535,
          14.175407409667969,
          12.093207359313965
         ],
         "yaxis": "y"
        }
       ],
       "layout": {
        "legend": {
         "title": {
          "text": "type"
         },
         "tracegroupgap": 0
        },
        "margin": {
         "t": 60
        },
        "template": {
         "data": {
          "bar": [
           {
            "error_x": {
             "color": "#2a3f5f"
            },
            "error_y": {
             "color": "#2a3f5f"
            },
            "marker": {
             "line": {
              "color": "#E5ECF6",
              "width": 0.5
             },
             "pattern": {
              "fillmode": "overlay",
              "size": 10,
              "solidity": 0.2
             }
            },
            "type": "bar"
           }
          ],
          "barpolar": [
           {
            "marker": {
             "line": {
              "color": "#E5ECF6",
              "width": 0.5
             },
             "pattern": {
              "fillmode": "overlay",
              "size": 10,
              "solidity": 0.2
             }
            },
            "type": "barpolar"
           }
          ],
          "carpet": [
           {
            "aaxis": {
             "endlinecolor": "#2a3f5f",
             "gridcolor": "white",
             "linecolor": "white",
             "minorgridcolor": "white",
             "startlinecolor": "#2a3f5f"
            },
            "baxis": {
             "endlinecolor": "#2a3f5f",
             "gridcolor": "white",
             "linecolor": "white",
             "minorgridcolor": "white",
             "startlinecolor": "#2a3f5f"
            },
            "type": "carpet"
           }
          ],
          "choropleth": [
           {
            "colorbar": {
             "outlinewidth": 0,
             "ticks": ""
            },
            "type": "choropleth"
           }
          ],
          "contour": [
           {
            "colorbar": {
             "outlinewidth": 0,
             "ticks": ""
            },
            "colorscale": [
             [
              0,
              "#0d0887"
             ],
             [
              0.1111111111111111,
              "#46039f"
             ],
             [
              0.2222222222222222,
              "#7201a8"
             ],
             [
              0.3333333333333333,
              "#9c179e"
             ],
             [
              0.4444444444444444,
              "#bd3786"
             ],
             [
              0.5555555555555556,
              "#d8576b"
             ],
             [
              0.6666666666666666,
              "#ed7953"
             ],
             [
              0.7777777777777778,
              "#fb9f3a"
             ],
             [
              0.8888888888888888,
              "#fdca26"
             ],
             [
              1,
              "#f0f921"
             ]
            ],
            "type": "contour"
           }
          ],
          "contourcarpet": [
           {
            "colorbar": {
             "outlinewidth": 0,
             "ticks": ""
            },
            "type": "contourcarpet"
           }
          ],
          "heatmap": [
           {
            "colorbar": {
             "outlinewidth": 0,
             "ticks": ""
            },
            "colorscale": [
             [
              0,
              "#0d0887"
             ],
             [
              0.1111111111111111,
              "#46039f"
             ],
             [
              0.2222222222222222,
              "#7201a8"
             ],
             [
              0.3333333333333333,
              "#9c179e"
             ],
             [
              0.4444444444444444,
              "#bd3786"
             ],
             [
              0.5555555555555556,
              "#d8576b"
             ],
             [
              0.6666666666666666,
              "#ed7953"
             ],
             [
              0.7777777777777778,
              "#fb9f3a"
             ],
             [
              0.8888888888888888,
              "#fdca26"
             ],
             [
              1,
              "#f0f921"
             ]
            ],
            "type": "heatmap"
           }
          ],
          "heatmapgl": [
           {
            "colorbar": {
             "outlinewidth": 0,
             "ticks": ""
            },
            "colorscale": [
             [
              0,
              "#0d0887"
             ],
             [
              0.1111111111111111,
              "#46039f"
             ],
             [
              0.2222222222222222,
              "#7201a8"
             ],
             [
              0.3333333333333333,
              "#9c179e"
             ],
             [
              0.4444444444444444,
              "#bd3786"
             ],
             [
              0.5555555555555556,
              "#d8576b"
             ],
             [
              0.6666666666666666,
              "#ed7953"
             ],
             [
              0.7777777777777778,
              "#fb9f3a"
             ],
             [
              0.8888888888888888,
              "#fdca26"
             ],
             [
              1,
              "#f0f921"
             ]
            ],
            "type": "heatmapgl"
           }
          ],
          "histogram": [
           {
            "marker": {
             "pattern": {
              "fillmode": "overlay",
              "size": 10,
              "solidity": 0.2
             }
            },
            "type": "histogram"
           }
          ],
          "histogram2d": [
           {
            "colorbar": {
             "outlinewidth": 0,
             "ticks": ""
            },
            "colorscale": [
             [
              0,
              "#0d0887"
             ],
             [
              0.1111111111111111,
              "#46039f"
             ],
             [
              0.2222222222222222,
              "#7201a8"
             ],
             [
              0.3333333333333333,
              "#9c179e"
             ],
             [
              0.4444444444444444,
              "#bd3786"
             ],
             [
              0.5555555555555556,
              "#d8576b"
             ],
             [
              0.6666666666666666,
              "#ed7953"
             ],
             [
              0.7777777777777778,
              "#fb9f3a"
             ],
             [
              0.8888888888888888,
              "#fdca26"
             ],
             [
              1,
              "#f0f921"
             ]
            ],
            "type": "histogram2d"
           }
          ],
          "histogram2dcontour": [
           {
            "colorbar": {
             "outlinewidth": 0,
             "ticks": ""
            },
            "colorscale": [
             [
              0,
              "#0d0887"
             ],
             [
              0.1111111111111111,
              "#46039f"
             ],
             [
              0.2222222222222222,
              "#7201a8"
             ],
             [
              0.3333333333333333,
              "#9c179e"
             ],
             [
              0.4444444444444444,
              "#bd3786"
             ],
             [
              0.5555555555555556,
              "#d8576b"
             ],
             [
              0.6666666666666666,
              "#ed7953"
             ],
             [
              0.7777777777777778,
              "#fb9f3a"
             ],
             [
              0.8888888888888888,
              "#fdca26"
             ],
             [
              1,
              "#f0f921"
             ]
            ],
            "type": "histogram2dcontour"
           }
          ],
          "mesh3d": [
           {
            "colorbar": {
             "outlinewidth": 0,
             "ticks": ""
            },
            "type": "mesh3d"
           }
          ],
          "parcoords": [
           {
            "line": {
             "colorbar": {
              "outlinewidth": 0,
              "ticks": ""
             }
            },
            "type": "parcoords"
           }
          ],
          "pie": [
           {
            "automargin": true,
            "type": "pie"
           }
          ],
          "scatter": [
           {
            "marker": {
             "colorbar": {
              "outlinewidth": 0,
              "ticks": ""
             }
            },
            "type": "scatter"
           }
          ],
          "scatter3d": [
           {
            "line": {
             "colorbar": {
              "outlinewidth": 0,
              "ticks": ""
             }
            },
            "marker": {
             "colorbar": {
              "outlinewidth": 0,
              "ticks": ""
             }
            },
            "type": "scatter3d"
           }
          ],
          "scattercarpet": [
           {
            "marker": {
             "colorbar": {
              "outlinewidth": 0,
              "ticks": ""
             }
            },
            "type": "scattercarpet"
           }
          ],
          "scattergeo": [
           {
            "marker": {
             "colorbar": {
              "outlinewidth": 0,
              "ticks": ""
             }
            },
            "type": "scattergeo"
           }
          ],
          "scattergl": [
           {
            "marker": {
             "colorbar": {
              "outlinewidth": 0,
              "ticks": ""
             }
            },
            "type": "scattergl"
           }
          ],
          "scattermapbox": [
           {
            "marker": {
             "colorbar": {
              "outlinewidth": 0,
              "ticks": ""
             }
            },
            "type": "scattermapbox"
           }
          ],
          "scatterpolar": [
           {
            "marker": {
             "colorbar": {
              "outlinewidth": 0,
              "ticks": ""
             }
            },
            "type": "scatterpolar"
           }
          ],
          "scatterpolargl": [
           {
            "marker": {
             "colorbar": {
              "outlinewidth": 0,
              "ticks": ""
             }
            },
            "type": "scatterpolargl"
           }
          ],
          "scatterternary": [
           {
            "marker": {
             "colorbar": {
              "outlinewidth": 0,
              "ticks": ""
             }
            },
            "type": "scatterternary"
           }
          ],
          "surface": [
           {
            "colorbar": {
             "outlinewidth": 0,
             "ticks": ""
            },
            "colorscale": [
             [
              0,
              "#0d0887"
             ],
             [
              0.1111111111111111,
              "#46039f"
             ],
             [
              0.2222222222222222,
              "#7201a8"
             ],
             [
              0.3333333333333333,
              "#9c179e"
             ],
             [
              0.4444444444444444,
              "#bd3786"
             ],
             [
              0.5555555555555556,
              "#d8576b"
             ],
             [
              0.6666666666666666,
              "#ed7953"
             ],
             [
              0.7777777777777778,
              "#fb9f3a"
             ],
             [
              0.8888888888888888,
              "#fdca26"
             ],
             [
              1,
              "#f0f921"
             ]
            ],
            "type": "surface"
           }
          ],
          "table": [
           {
            "cells": {
             "fill": {
              "color": "#EBF0F8"
             },
             "line": {
              "color": "white"
             }
            },
            "header": {
             "fill": {
              "color": "#C8D4E3"
             },
             "line": {
              "color": "white"
             }
            },
            "type": "table"
           }
          ]
         },
         "layout": {
          "annotationdefaults": {
           "arrowcolor": "#2a3f5f",
           "arrowhead": 0,
           "arrowwidth": 1
          },
          "autotypenumbers": "strict",
          "coloraxis": {
           "colorbar": {
            "outlinewidth": 0,
            "ticks": ""
           }
          },
          "colorscale": {
           "diverging": [
            [
             0,
             "#8e0152"
            ],
            [
             0.1,
             "#c51b7d"
            ],
            [
             0.2,
             "#de77ae"
            ],
            [
             0.3,
             "#f1b6da"
            ],
            [
             0.4,
             "#fde0ef"
            ],
            [
             0.5,
             "#f7f7f7"
            ],
            [
             0.6,
             "#e6f5d0"
            ],
            [
             0.7,
             "#b8e186"
            ],
            [
             0.8,
             "#7fbc41"
            ],
            [
             0.9,
             "#4d9221"
            ],
            [
             1,
             "#276419"
            ]
           ],
           "sequential": [
            [
             0,
             "#0d0887"
            ],
            [
             0.1111111111111111,
             "#46039f"
            ],
            [
             0.2222222222222222,
             "#7201a8"
            ],
            [
             0.3333333333333333,
             "#9c179e"
            ],
            [
             0.4444444444444444,
             "#bd3786"
            ],
            [
             0.5555555555555556,
             "#d8576b"
            ],
            [
             0.6666666666666666,
             "#ed7953"
            ],
            [
             0.7777777777777778,
             "#fb9f3a"
            ],
            [
             0.8888888888888888,
             "#fdca26"
            ],
            [
             1,
             "#f0f921"
            ]
           ],
           "sequentialminus": [
            [
             0,
             "#0d0887"
            ],
            [
             0.1111111111111111,
             "#46039f"
            ],
            [
             0.2222222222222222,
             "#7201a8"
            ],
            [
             0.3333333333333333,
             "#9c179e"
            ],
            [
             0.4444444444444444,
             "#bd3786"
            ],
            [
             0.5555555555555556,
             "#d8576b"
            ],
            [
             0.6666666666666666,
             "#ed7953"
            ],
            [
             0.7777777777777778,
             "#fb9f3a"
            ],
            [
             0.8888888888888888,
             "#fdca26"
            ],
            [
             1,
             "#f0f921"
            ]
           ]
          },
          "colorway": [
           "#636efa",
           "#EF553B",
           "#00cc96",
           "#ab63fa",
           "#FFA15A",
           "#19d3f3",
           "#FF6692",
           "#B6E880",
           "#FF97FF",
           "#FECB52"
          ],
          "font": {
           "color": "#2a3f5f"
          },
          "geo": {
           "bgcolor": "white",
           "lakecolor": "white",
           "landcolor": "#E5ECF6",
           "showlakes": true,
           "showland": true,
           "subunitcolor": "white"
          },
          "hoverlabel": {
           "align": "left"
          },
          "hovermode": "closest",
          "mapbox": {
           "style": "light"
          },
          "paper_bgcolor": "white",
          "plot_bgcolor": "#E5ECF6",
          "polar": {
           "angularaxis": {
            "gridcolor": "white",
            "linecolor": "white",
            "ticks": ""
           },
           "bgcolor": "#E5ECF6",
           "radialaxis": {
            "gridcolor": "white",
            "linecolor": "white",
            "ticks": ""
           }
          },
          "scene": {
           "xaxis": {
            "backgroundcolor": "#E5ECF6",
            "gridcolor": "white",
            "gridwidth": 2,
            "linecolor": "white",
            "showbackground": true,
            "ticks": "",
            "zerolinecolor": "white"
           },
           "yaxis": {
            "backgroundcolor": "#E5ECF6",
            "gridcolor": "white",
            "gridwidth": 2,
            "linecolor": "white",
            "showbackground": true,
            "ticks": "",
            "zerolinecolor": "white"
           },
           "zaxis": {
            "backgroundcolor": "#E5ECF6",
            "gridcolor": "white",
            "gridwidth": 2,
            "linecolor": "white",
            "showbackground": true,
            "ticks": "",
            "zerolinecolor": "white"
           }
          },
          "shapedefaults": {
           "line": {
            "color": "#2a3f5f"
           }
          },
          "ternary": {
           "aaxis": {
            "gridcolor": "white",
            "linecolor": "white",
            "ticks": ""
           },
           "baxis": {
            "gridcolor": "white",
            "linecolor": "white",
            "ticks": ""
           },
           "bgcolor": "#E5ECF6",
           "caxis": {
            "gridcolor": "white",
            "linecolor": "white",
            "ticks": ""
           }
          },
          "title": {
           "x": 0.05
          },
          "xaxis": {
           "automargin": true,
           "gridcolor": "white",
           "linecolor": "white",
           "ticks": "",
           "title": {
            "standoff": 15
           },
           "zerolinecolor": "white",
           "zerolinewidth": 2
          },
          "yaxis": {
           "automargin": true,
           "gridcolor": "white",
           "linecolor": "white",
           "ticks": "",
           "title": {
            "standoff": 15
           },
           "zerolinecolor": "white",
           "zerolinewidth": 2
          }
         }
        },
        "xaxis": {
         "anchor": "y",
         "domain": [
          0,
          1
         ],
         "title": {
          "text": "x"
         }
        },
        "yaxis": {
         "anchor": "x",
         "domain": [
          0,
          1
         ],
         "title": {
          "text": "y"
         }
        }
       }
      },
      "text/html": [
       "<div>                            <div id=\"813534c4-6569-4e66-bfaa-bb60c452cf14\" class=\"plotly-graph-div\" style=\"height:525px; width:100%;\"></div>            <script type=\"text/javascript\">                require([\"plotly\"], function(Plotly) {                    window.PLOTLYENV=window.PLOTLYENV || {};                                    if (document.getElementById(\"813534c4-6569-4e66-bfaa-bb60c452cf14\")) {                    Plotly.newPlot(                        \"813534c4-6569-4e66-bfaa-bb60c452cf14\",                        [{\"hovertemplate\":\"type=og<br>x=%{x}<br>y=%{y}<extra></extra>\",\"legendgroup\":\"og\",\"marker\":{\"color\":\"#636efa\",\"symbol\":\"circle\"},\"mode\":\"markers\",\"name\":\"og\",\"orientation\":\"v\",\"showlegend\":true,\"x\":[0.3527071475982666,1.9226340055465698,2.231160879135132,1.293294906616211,0.3948736786842346,0.4591224193572998,1.223862648010254,0.6332709193229675,0.41105109453201294,6.270367622375488,0.4000896215438843,1.6971549987792969,1.2511177062988281,1.623284101486206,0.9280466437339783,1.1381418704986572,1.8307318687438965,0.3727354407310486,5.300650119781494,2.414302110671997,0.1591072529554367,5.222424507141113,6.251323699951172,0.841363251209259,1.2631118297576904,0.883912980556488,0.8413906693458557,1.3157405853271484,2.4862565994262695,0.5379706025123596,1.0378047227859497,1.846934199333191,4.724701881408691,0.45982688665390015,0.5833294987678528,0.7287461757659912,1.2114953994750977,0.541466474533081],\"xaxis\":\"x\",\"y\":[10.29831314086914,11.785860061645508,13.833052635192871,13.637816429138184,14.442920684814453,10.391192436218262,13.98647403717041,13.669848442077637,13.25708293914795,10.882868766784668,13.196544647216797,12.942266464233398,13.624101638793945,13.17061710357666,13.797121047973633,13.76705551147461,12.455801010131836,10.019952774047852,11.02774429321289,12.606927871704102,9.91589069366455,11.664083480834961,10.98048210144043,10.884976387023926,12.666792869567871,14.574909210205078,14.16813850402832,13.896380424499512,12.307549476623535,14.24930191040039,13.544748306274414,13.282312393188477,12.415987014770508,13.888677597045898,13.817383766174316,10.763958930969238,14.216790199279785,14.266996383666992],\"yaxis\":\"y\",\"type\":\"scatter\"},{\"hovertemplate\":\"type=new<br>x=%{x}<br>y=%{y}<extra></extra>\",\"legendgroup\":\"new\",\"marker\":{\"color\":\"#EF553B\",\"symbol\":\"circle\"},\"mode\":\"markers\",\"name\":\"new\",\"orientation\":\"v\",\"showlegend\":true,\"x\":[1.3031363487243652,0.35795217752456665,4.0287184715271,4.967633247375488,1.848195195198059,2.389202117919922,1.890758991241455,1.8519500494003296,0.5548229813575745,1.700592041015625,4.663147449493408,1.8101259469985962,2.140817642211914,2.611187219619751,1.7888940572738647,2.5342605113983154,4.667929649353027,2.9121949672698975,2.2143819332122803,2.2049248218536377,2.6707065105438232,2.6060779094696045,2.4587886333465576,2.024696111679077,2.1197125911712646,2.4536948204040527,2.068037509918213],\"xaxis\":\"x\",\"y\":[13.434371948242188,11.915037155151367,10.97654914855957,12.643260955810547,13.223188400268555,11.60329532623291,12.780089378356934,12.430384635925293,13.84473991394043,13.111139297485352,13.370612144470215,12.375123977661133,13.120537757873535,13.836463928222656,13.044269561767578,13.80254077911377,13.720097541809082,13.540621757507324,13.407927513122559,13.003814697265625,14.053263664245605,14.133679389953613,13.009239196777344,12.287256240844727,12.934502601623535,14.175407409667969,12.093207359313965],\"yaxis\":\"y\",\"type\":\"scatter\"}],                        {\"template\":{\"data\":{\"bar\":[{\"error_x\":{\"color\":\"#2a3f5f\"},\"error_y\":{\"color\":\"#2a3f5f\"},\"marker\":{\"line\":{\"color\":\"#E5ECF6\",\"width\":0.5},\"pattern\":{\"fillmode\":\"overlay\",\"size\":10,\"solidity\":0.2}},\"type\":\"bar\"}],\"barpolar\":[{\"marker\":{\"line\":{\"color\":\"#E5ECF6\",\"width\":0.5},\"pattern\":{\"fillmode\":\"overlay\",\"size\":10,\"solidity\":0.2}},\"type\":\"barpolar\"}],\"carpet\":[{\"aaxis\":{\"endlinecolor\":\"#2a3f5f\",\"gridcolor\":\"white\",\"linecolor\":\"white\",\"minorgridcolor\":\"white\",\"startlinecolor\":\"#2a3f5f\"},\"baxis\":{\"endlinecolor\":\"#2a3f5f\",\"gridcolor\":\"white\",\"linecolor\":\"white\",\"minorgridcolor\":\"white\",\"startlinecolor\":\"#2a3f5f\"},\"type\":\"carpet\"}],\"choropleth\":[{\"colorbar\":{\"outlinewidth\":0,\"ticks\":\"\"},\"type\":\"choropleth\"}],\"contour\":[{\"colorbar\":{\"outlinewidth\":0,\"ticks\":\"\"},\"colorscale\":[[0.0,\"#0d0887\"],[0.1111111111111111,\"#46039f\"],[0.2222222222222222,\"#7201a8\"],[0.3333333333333333,\"#9c179e\"],[0.4444444444444444,\"#bd3786\"],[0.5555555555555556,\"#d8576b\"],[0.6666666666666666,\"#ed7953\"],[0.7777777777777778,\"#fb9f3a\"],[0.8888888888888888,\"#fdca26\"],[1.0,\"#f0f921\"]],\"type\":\"contour\"}],\"contourcarpet\":[{\"colorbar\":{\"outlinewidth\":0,\"ticks\":\"\"},\"type\":\"contourcarpet\"}],\"heatmap\":[{\"colorbar\":{\"outlinewidth\":0,\"ticks\":\"\"},\"colorscale\":[[0.0,\"#0d0887\"],[0.1111111111111111,\"#46039f\"],[0.2222222222222222,\"#7201a8\"],[0.3333333333333333,\"#9c179e\"],[0.4444444444444444,\"#bd3786\"],[0.5555555555555556,\"#d8576b\"],[0.6666666666666666,\"#ed7953\"],[0.7777777777777778,\"#fb9f3a\"],[0.8888888888888888,\"#fdca26\"],[1.0,\"#f0f921\"]],\"type\":\"heatmap\"}],\"heatmapgl\":[{\"colorbar\":{\"outlinewidth\":0,\"ticks\":\"\"},\"colorscale\":[[0.0,\"#0d0887\"],[0.1111111111111111,\"#46039f\"],[0.2222222222222222,\"#7201a8\"],[0.3333333333333333,\"#9c179e\"],[0.4444444444444444,\"#bd3786\"],[0.5555555555555556,\"#d8576b\"],[0.6666666666666666,\"#ed7953\"],[0.7777777777777778,\"#fb9f3a\"],[0.8888888888888888,\"#fdca26\"],[1.0,\"#f0f921\"]],\"type\":\"heatmapgl\"}],\"histogram\":[{\"marker\":{\"pattern\":{\"fillmode\":\"overlay\",\"size\":10,\"solidity\":0.2}},\"type\":\"histogram\"}],\"histogram2d\":[{\"colorbar\":{\"outlinewidth\":0,\"ticks\":\"\"},\"colorscale\":[[0.0,\"#0d0887\"],[0.1111111111111111,\"#46039f\"],[0.2222222222222222,\"#7201a8\"],[0.3333333333333333,\"#9c179e\"],[0.4444444444444444,\"#bd3786\"],[0.5555555555555556,\"#d8576b\"],[0.6666666666666666,\"#ed7953\"],[0.7777777777777778,\"#fb9f3a\"],[0.8888888888888888,\"#fdca26\"],[1.0,\"#f0f921\"]],\"type\":\"histogram2d\"}],\"histogram2dcontour\":[{\"colorbar\":{\"outlinewidth\":0,\"ticks\":\"\"},\"colorscale\":[[0.0,\"#0d0887\"],[0.1111111111111111,\"#46039f\"],[0.2222222222222222,\"#7201a8\"],[0.3333333333333333,\"#9c179e\"],[0.4444444444444444,\"#bd3786\"],[0.5555555555555556,\"#d8576b\"],[0.6666666666666666,\"#ed7953\"],[0.7777777777777778,\"#fb9f3a\"],[0.8888888888888888,\"#fdca26\"],[1.0,\"#f0f921\"]],\"type\":\"histogram2dcontour\"}],\"mesh3d\":[{\"colorbar\":{\"outlinewidth\":0,\"ticks\":\"\"},\"type\":\"mesh3d\"}],\"parcoords\":[{\"line\":{\"colorbar\":{\"outlinewidth\":0,\"ticks\":\"\"}},\"type\":\"parcoords\"}],\"pie\":[{\"automargin\":true,\"type\":\"pie\"}],\"scatter\":[{\"marker\":{\"colorbar\":{\"outlinewidth\":0,\"ticks\":\"\"}},\"type\":\"scatter\"}],\"scatter3d\":[{\"line\":{\"colorbar\":{\"outlinewidth\":0,\"ticks\":\"\"}},\"marker\":{\"colorbar\":{\"outlinewidth\":0,\"ticks\":\"\"}},\"type\":\"scatter3d\"}],\"scattercarpet\":[{\"marker\":{\"colorbar\":{\"outlinewidth\":0,\"ticks\":\"\"}},\"type\":\"scattercarpet\"}],\"scattergeo\":[{\"marker\":{\"colorbar\":{\"outlinewidth\":0,\"ticks\":\"\"}},\"type\":\"scattergeo\"}],\"scattergl\":[{\"marker\":{\"colorbar\":{\"outlinewidth\":0,\"ticks\":\"\"}},\"type\":\"scattergl\"}],\"scattermapbox\":[{\"marker\":{\"colorbar\":{\"outlinewidth\":0,\"ticks\":\"\"}},\"type\":\"scattermapbox\"}],\"scatterpolar\":[{\"marker\":{\"colorbar\":{\"outlinewidth\":0,\"ticks\":\"\"}},\"type\":\"scatterpolar\"}],\"scatterpolargl\":[{\"marker\":{\"colorbar\":{\"outlinewidth\":0,\"ticks\":\"\"}},\"type\":\"scatterpolargl\"}],\"scatterternary\":[{\"marker\":{\"colorbar\":{\"outlinewidth\":0,\"ticks\":\"\"}},\"type\":\"scatterternary\"}],\"surface\":[{\"colorbar\":{\"outlinewidth\":0,\"ticks\":\"\"},\"colorscale\":[[0.0,\"#0d0887\"],[0.1111111111111111,\"#46039f\"],[0.2222222222222222,\"#7201a8\"],[0.3333333333333333,\"#9c179e\"],[0.4444444444444444,\"#bd3786\"],[0.5555555555555556,\"#d8576b\"],[0.6666666666666666,\"#ed7953\"],[0.7777777777777778,\"#fb9f3a\"],[0.8888888888888888,\"#fdca26\"],[1.0,\"#f0f921\"]],\"type\":\"surface\"}],\"table\":[{\"cells\":{\"fill\":{\"color\":\"#EBF0F8\"},\"line\":{\"color\":\"white\"}},\"header\":{\"fill\":{\"color\":\"#C8D4E3\"},\"line\":{\"color\":\"white\"}},\"type\":\"table\"}]},\"layout\":{\"annotationdefaults\":{\"arrowcolor\":\"#2a3f5f\",\"arrowhead\":0,\"arrowwidth\":1},\"autotypenumbers\":\"strict\",\"coloraxis\":{\"colorbar\":{\"outlinewidth\":0,\"ticks\":\"\"}},\"colorscale\":{\"diverging\":[[0,\"#8e0152\"],[0.1,\"#c51b7d\"],[0.2,\"#de77ae\"],[0.3,\"#f1b6da\"],[0.4,\"#fde0ef\"],[0.5,\"#f7f7f7\"],[0.6,\"#e6f5d0\"],[0.7,\"#b8e186\"],[0.8,\"#7fbc41\"],[0.9,\"#4d9221\"],[1,\"#276419\"]],\"sequential\":[[0.0,\"#0d0887\"],[0.1111111111111111,\"#46039f\"],[0.2222222222222222,\"#7201a8\"],[0.3333333333333333,\"#9c179e\"],[0.4444444444444444,\"#bd3786\"],[0.5555555555555556,\"#d8576b\"],[0.6666666666666666,\"#ed7953\"],[0.7777777777777778,\"#fb9f3a\"],[0.8888888888888888,\"#fdca26\"],[1.0,\"#f0f921\"]],\"sequentialminus\":[[0.0,\"#0d0887\"],[0.1111111111111111,\"#46039f\"],[0.2222222222222222,\"#7201a8\"],[0.3333333333333333,\"#9c179e\"],[0.4444444444444444,\"#bd3786\"],[0.5555555555555556,\"#d8576b\"],[0.6666666666666666,\"#ed7953\"],[0.7777777777777778,\"#fb9f3a\"],[0.8888888888888888,\"#fdca26\"],[1.0,\"#f0f921\"]]},\"colorway\":[\"#636efa\",\"#EF553B\",\"#00cc96\",\"#ab63fa\",\"#FFA15A\",\"#19d3f3\",\"#FF6692\",\"#B6E880\",\"#FF97FF\",\"#FECB52\"],\"font\":{\"color\":\"#2a3f5f\"},\"geo\":{\"bgcolor\":\"white\",\"lakecolor\":\"white\",\"landcolor\":\"#E5ECF6\",\"showlakes\":true,\"showland\":true,\"subunitcolor\":\"white\"},\"hoverlabel\":{\"align\":\"left\"},\"hovermode\":\"closest\",\"mapbox\":{\"style\":\"light\"},\"paper_bgcolor\":\"white\",\"plot_bgcolor\":\"#E5ECF6\",\"polar\":{\"angularaxis\":{\"gridcolor\":\"white\",\"linecolor\":\"white\",\"ticks\":\"\"},\"bgcolor\":\"#E5ECF6\",\"radialaxis\":{\"gridcolor\":\"white\",\"linecolor\":\"white\",\"ticks\":\"\"}},\"scene\":{\"xaxis\":{\"backgroundcolor\":\"#E5ECF6\",\"gridcolor\":\"white\",\"gridwidth\":2,\"linecolor\":\"white\",\"showbackground\":true,\"ticks\":\"\",\"zerolinecolor\":\"white\"},\"yaxis\":{\"backgroundcolor\":\"#E5ECF6\",\"gridcolor\":\"white\",\"gridwidth\":2,\"linecolor\":\"white\",\"showbackground\":true,\"ticks\":\"\",\"zerolinecolor\":\"white\"},\"zaxis\":{\"backgroundcolor\":\"#E5ECF6\",\"gridcolor\":\"white\",\"gridwidth\":2,\"linecolor\":\"white\",\"showbackground\":true,\"ticks\":\"\",\"zerolinecolor\":\"white\"}},\"shapedefaults\":{\"line\":{\"color\":\"#2a3f5f\"}},\"ternary\":{\"aaxis\":{\"gridcolor\":\"white\",\"linecolor\":\"white\",\"ticks\":\"\"},\"baxis\":{\"gridcolor\":\"white\",\"linecolor\":\"white\",\"ticks\":\"\"},\"bgcolor\":\"#E5ECF6\",\"caxis\":{\"gridcolor\":\"white\",\"linecolor\":\"white\",\"ticks\":\"\"}},\"title\":{\"x\":0.05},\"xaxis\":{\"automargin\":true,\"gridcolor\":\"white\",\"linecolor\":\"white\",\"ticks\":\"\",\"title\":{\"standoff\":15},\"zerolinecolor\":\"white\",\"zerolinewidth\":2},\"yaxis\":{\"automargin\":true,\"gridcolor\":\"white\",\"linecolor\":\"white\",\"ticks\":\"\",\"title\":{\"standoff\":15},\"zerolinecolor\":\"white\",\"zerolinewidth\":2}}},\"xaxis\":{\"anchor\":\"y\",\"domain\":[0.0,1.0],\"title\":{\"text\":\"x\"}},\"yaxis\":{\"anchor\":\"x\",\"domain\":[0.0,1.0],\"title\":{\"text\":\"y\"}},\"legend\":{\"title\":{\"text\":\"type\"},\"tracegroupgap\":0},\"margin\":{\"t\":60}},                        {\"responsive\": true}                    ).then(function(){\n",
       "                            \n",
       "var gd = document.getElementById('813534c4-6569-4e66-bfaa-bb60c452cf14');\n",
       "var x = new MutationObserver(function (mutations, observer) {{\n",
       "        var display = window.getComputedStyle(gd).display;\n",
       "        if (!display || display === 'none') {{\n",
       "            console.log([gd, 'removed!']);\n",
       "            Plotly.purge(gd);\n",
       "            observer.disconnect();\n",
       "        }}\n",
       "}});\n",
       "\n",
       "// Listen for the removal of the full notebook cells\n",
       "var notebookContainer = gd.closest('#notebook-container');\n",
       "if (notebookContainer) {{\n",
       "    x.observe(notebookContainer, {childList: true});\n",
       "}}\n",
       "\n",
       "// Listen for the clearing of the current output cell\n",
       "var outputEl = gd.closest('.output');\n",
       "if (outputEl) {{\n",
       "    x.observe(outputEl, {childList: true});\n",
       "}}\n",
       "\n",
       "                        })                };                });            </script>        </div>"
      ]
     },
     "metadata": {},
     "output_type": "display_data"
    }
   ],
   "source": [
    "fig = px.scatter(\n",
    "    pd.concat([dfnew, dfnewtwos]), color=\"type\", x='x', y='y')\n",
    "\n",
    "fig.show()"
   ]
  },
  {
   "cell_type": "code",
   "execution_count": 516,
   "id": "e3e1891e",
   "metadata": {},
   "outputs": [
    {
     "name": "stderr",
     "output_type": "stream",
     "text": [
      "/var/folders/8t/119qytm92x1gj5w2__d4vj800000gn/T/ipykernel_78342/1963335029.py:1: FutureWarning:\n",
      "\n",
      "Dropping of nuisance columns in DataFrame reductions (with 'numeric_only=None') is deprecated; in a future version this will raise TypeError.  Select only valid columns before calling the reduction.\n",
      "\n"
     ]
    }
   ],
   "source": [
    "x_avg, y_avg = dfnew.mean(axis=0)\n",
    "refarr = np.array([x_avg, y_avg])"
   ]
  },
  {
   "cell_type": "code",
   "execution_count": 517,
   "id": "5812873b",
   "metadata": {},
   "outputs": [],
   "source": [
    "distances = []\n",
    "\n",
    "for b in newtwos:\n",
    "    distances.append(np.linalg.norm(b - refarr))\n",
    "    \n",
    "distances = np.array(distances)"
   ]
  },
  {
   "cell_type": "code",
   "execution_count": 518,
   "id": "238623d8",
   "metadata": {},
   "outputs": [
    {
     "data": {
      "text/plain": [
       "['@Delta thanks for making me late to my important meeting, losing my luggage, and being completely unhelpful. Your incompetence knows no bounds',\n",
       " \"@AmericanAir thanks for making me feel like a second-class citizen because I couldn't afford a first-class ticket. Your elitism is truly appalling\",\n",
       " \"@united thanks for the broken seats, the terrible food, and the unapologetic staff. You're really nailing it\",\n",
       " \"@JetBlue thanks for the cramped seats and the broken entertainment system. You're definitely not living up to the hype\",\n",
       " \"@Delta if your idea of customer service is to ignore your customers and treat them like dirt, you're doing a great job\",\n",
       " '@united thanks for the lost luggage, the Cancelled Flightled flights, and the terrible service. You guys are truly the worst',\n",
       " '@JetBlue thanks for the delayed flight and the poor communication with your customers. You guys really know how to make travel a hassle',\n",
       " \"@Delta thanks for the rude staff, the overpriced tickets, and the broken seats. You're definitely not living up to your reputation\",\n",
       " '@USAirways thanks for the delayed flight, the lost luggage, and the rude staff. You guys are truly the worst airline out there',\n",
       " '@united thanks for the Cancelled Flightled flight and the complete lack of communication with your customers. You guys are the worst',\n",
       " \"@AmericanAir thanks for the terrible food, the cramped seats, and the rude staff. You're definitely not living up to your reputation\",\n",
       " '@Delta I love how you manage to be the only airline that can consistently ruin my day with delayed flights and lost baggage #sarcasm',\n",
       " '@SouthwestAir if you want to make sure your customers never choose your airline again, just keep up the Cancelled Flightled flights and the terrible service',\n",
       " '@united if you want to make sure your customers never choose your airline again, just keep up the terrible service and the Cancelled Flightlations',\n",
       " '@USAirways If you want to make sure your customers never come back, just keep up the terrible service and rude staff #neveragain',\n",
       " '@JetBlue if you want to make sure your customers never choose your airline again, just keep up the delayed flights and the terrible service',\n",
       " \"@USAirways I've never had such a terrible experience with an airline before. Your staff is rude, your planes are dirty, and your service is terrible\",\n",
       " '@Delta thanks for making me miss my connecting flight, losing my luggage, and completely ruining my vacation. You guys are the worst',\n",
       " '@AmericanAir If only your customer service was as good as your prices...',\n",
       " \"@AmericanAir if your goal is to make your customers regret choosing your airline, you're doing a great job\",\n",
       " '@USAirways how is it possible to have such terrible customer service? Your staff is unhelpful, your planes are dirty, and your policies are unfair',\n",
       " '@AmericanAir how is it possible to have such terrible customer service? Your staff is unhelpful, your policies are unfair, and your planes are outdated',\n",
       " \"@JetBlue thanks for the cramped seats, the terrible food, and the broken entertainment system. You're definitely not living up to your reputation\",\n",
       " \"@united thanks for the 2-hour delay, the rude staff, and the overpriced snacks. You're really outdoing yourself\"]"
      ]
     },
     "execution_count": 518,
     "metadata": {},
     "output_type": "execute_result"
    }
   ],
   "source": [
    "sorted_x = np.argsort(distances)\n",
    "filtered = [queries[i] for i in sorted_x[:-math.ceil(sorted_x.shape[0]*0.1)]]\n",
    "filtered"
   ]
  },
  {
   "cell_type": "code",
   "execution_count": 519,
   "id": "866129a7",
   "metadata": {},
   "outputs": [
    {
     "data": {
      "text/html": [
       "<div>\n",
       "<style scoped>\n",
       "    .dataframe tbody tr th:only-of-type {\n",
       "        vertical-align: middle;\n",
       "    }\n",
       "\n",
       "    .dataframe tbody tr th {\n",
       "        vertical-align: top;\n",
       "    }\n",
       "\n",
       "    .dataframe thead th {\n",
       "        text-align: right;\n",
       "    }\n",
       "</style>\n",
       "<table border=\"1\" class=\"dataframe\">\n",
       "  <thead>\n",
       "    <tr style=\"text-align: right;\">\n",
       "      <th></th>\n",
       "      <th>text</th>\n",
       "      <th>label</th>\n",
       "    </tr>\n",
       "  </thead>\n",
       "  <tbody>\n",
       "    <tr>\n",
       "      <th>0</th>\n",
       "      <td>@Delta thanks for making me late to my importa...</td>\n",
       "      <td>negative</td>\n",
       "    </tr>\n",
       "    <tr>\n",
       "      <th>1</th>\n",
       "      <td>@AmericanAir thanks for making me feel like a ...</td>\n",
       "      <td>negative</td>\n",
       "    </tr>\n",
       "    <tr>\n",
       "      <th>2</th>\n",
       "      <td>@united thanks for the broken seats, the terri...</td>\n",
       "      <td>negative</td>\n",
       "    </tr>\n",
       "    <tr>\n",
       "      <th>3</th>\n",
       "      <td>@JetBlue thanks for the cramped seats and the ...</td>\n",
       "      <td>negative</td>\n",
       "    </tr>\n",
       "    <tr>\n",
       "      <th>4</th>\n",
       "      <td>@Delta if your idea of customer service is to ...</td>\n",
       "      <td>negative</td>\n",
       "    </tr>\n",
       "    <tr>\n",
       "      <th>5</th>\n",
       "      <td>@united thanks for the lost luggage, the Cance...</td>\n",
       "      <td>negative</td>\n",
       "    </tr>\n",
       "    <tr>\n",
       "      <th>6</th>\n",
       "      <td>@JetBlue thanks for the delayed flight and the...</td>\n",
       "      <td>negative</td>\n",
       "    </tr>\n",
       "    <tr>\n",
       "      <th>7</th>\n",
       "      <td>@Delta thanks for the rude staff, the overpric...</td>\n",
       "      <td>negative</td>\n",
       "    </tr>\n",
       "    <tr>\n",
       "      <th>8</th>\n",
       "      <td>@USAirways thanks for the delayed flight, the ...</td>\n",
       "      <td>negative</td>\n",
       "    </tr>\n",
       "    <tr>\n",
       "      <th>9</th>\n",
       "      <td>@united thanks for the Cancelled Flightled fli...</td>\n",
       "      <td>negative</td>\n",
       "    </tr>\n",
       "    <tr>\n",
       "      <th>10</th>\n",
       "      <td>@AmericanAir thanks for the terrible food, the...</td>\n",
       "      <td>negative</td>\n",
       "    </tr>\n",
       "    <tr>\n",
       "      <th>11</th>\n",
       "      <td>@Delta I love how you manage to be the only ai...</td>\n",
       "      <td>negative</td>\n",
       "    </tr>\n",
       "    <tr>\n",
       "      <th>12</th>\n",
       "      <td>@SouthwestAir if you want to make sure your cu...</td>\n",
       "      <td>negative</td>\n",
       "    </tr>\n",
       "    <tr>\n",
       "      <th>13</th>\n",
       "      <td>@united if you want to make sure your customer...</td>\n",
       "      <td>negative</td>\n",
       "    </tr>\n",
       "    <tr>\n",
       "      <th>14</th>\n",
       "      <td>@USAirways If you want to make sure your custo...</td>\n",
       "      <td>negative</td>\n",
       "    </tr>\n",
       "    <tr>\n",
       "      <th>15</th>\n",
       "      <td>@JetBlue if you want to make sure your custome...</td>\n",
       "      <td>negative</td>\n",
       "    </tr>\n",
       "    <tr>\n",
       "      <th>16</th>\n",
       "      <td>@USAirways I've never had such a terrible expe...</td>\n",
       "      <td>negative</td>\n",
       "    </tr>\n",
       "    <tr>\n",
       "      <th>17</th>\n",
       "      <td>@Delta thanks for making me miss my connecting...</td>\n",
       "      <td>negative</td>\n",
       "    </tr>\n",
       "    <tr>\n",
       "      <th>18</th>\n",
       "      <td>@AmericanAir If only your customer service was...</td>\n",
       "      <td>negative</td>\n",
       "    </tr>\n",
       "    <tr>\n",
       "      <th>19</th>\n",
       "      <td>@AmericanAir if your goal is to make your cust...</td>\n",
       "      <td>negative</td>\n",
       "    </tr>\n",
       "    <tr>\n",
       "      <th>20</th>\n",
       "      <td>@USAirways how is it possible to have such ter...</td>\n",
       "      <td>negative</td>\n",
       "    </tr>\n",
       "    <tr>\n",
       "      <th>21</th>\n",
       "      <td>@AmericanAir how is it possible to have such t...</td>\n",
       "      <td>negative</td>\n",
       "    </tr>\n",
       "    <tr>\n",
       "      <th>22</th>\n",
       "      <td>@JetBlue thanks for the cramped seats, the ter...</td>\n",
       "      <td>negative</td>\n",
       "    </tr>\n",
       "    <tr>\n",
       "      <th>23</th>\n",
       "      <td>@united thanks for the 2-hour delay, the rude ...</td>\n",
       "      <td>negative</td>\n",
       "    </tr>\n",
       "  </tbody>\n",
       "</table>\n",
       "</div>"
      ],
      "text/plain": [
       "                                                 text     label\n",
       "0   @Delta thanks for making me late to my importa...  negative\n",
       "1   @AmericanAir thanks for making me feel like a ...  negative\n",
       "2   @united thanks for the broken seats, the terri...  negative\n",
       "3   @JetBlue thanks for the cramped seats and the ...  negative\n",
       "4   @Delta if your idea of customer service is to ...  negative\n",
       "5   @united thanks for the lost luggage, the Cance...  negative\n",
       "6   @JetBlue thanks for the delayed flight and the...  negative\n",
       "7   @Delta thanks for the rude staff, the overpric...  negative\n",
       "8   @USAirways thanks for the delayed flight, the ...  negative\n",
       "9   @united thanks for the Cancelled Flightled fli...  negative\n",
       "10  @AmericanAir thanks for the terrible food, the...  negative\n",
       "11  @Delta I love how you manage to be the only ai...  negative\n",
       "12  @SouthwestAir if you want to make sure your cu...  negative\n",
       "13  @united if you want to make sure your customer...  negative\n",
       "14  @USAirways If you want to make sure your custo...  negative\n",
       "15  @JetBlue if you want to make sure your custome...  negative\n",
       "16  @USAirways I've never had such a terrible expe...  negative\n",
       "17  @Delta thanks for making me miss my connecting...  negative\n",
       "18  @AmericanAir If only your customer service was...  negative\n",
       "19  @AmericanAir if your goal is to make your cust...  negative\n",
       "20  @USAirways how is it possible to have such ter...  negative\n",
       "21  @AmericanAir how is it possible to have such t...  negative\n",
       "22  @JetBlue thanks for the cramped seats, the ter...  negative\n",
       "23  @united thanks for the 2-hour delay, the rude ...  negative"
      ]
     },
     "execution_count": 519,
     "metadata": {},
     "output_type": "execute_result"
    }
   ],
   "source": [
    "dataAppend = pd.DataFrame(filtered, columns=[\"text\"])\n",
    "dataAppend[\"label\"] = [label] * dataAppend.shape[0]\n",
    "dataAppend"
   ]
  },
  {
   "cell_type": "code",
   "execution_count": 520,
   "id": "df672f77",
   "metadata": {},
   "outputs": [],
   "source": [
    "dataAppend.to_csv('newpoints.csv', mode=\"a\", index=False, header=False)"
   ]
  },
  {
   "cell_type": "code",
   "execution_count": 440,
   "id": "7ca22f72",
   "metadata": {},
   "outputs": [],
   "source": [
    "dftest = pd.read_csv('misses.csv')  "
   ]
  },
  {
   "cell_type": "code",
   "execution_count": 441,
   "id": "5d5f177e",
   "metadata": {},
   "outputs": [
    {
     "data": {
      "text/html": [
       "<div>\n",
       "<style scoped>\n",
       "    .dataframe tbody tr th:only-of-type {\n",
       "        vertical-align: middle;\n",
       "    }\n",
       "\n",
       "    .dataframe tbody tr th {\n",
       "        vertical-align: top;\n",
       "    }\n",
       "\n",
       "    .dataframe thead th {\n",
       "        text-align: right;\n",
       "    }\n",
       "</style>\n",
       "<table border=\"1\" class=\"dataframe\">\n",
       "  <thead>\n",
       "    <tr style=\"text-align: right;\">\n",
       "      <th></th>\n",
       "      <th>Unnamed: 0.3</th>\n",
       "      <th>Unnamed: 0.2</th>\n",
       "      <th>Unnamed: 0.1</th>\n",
       "      <th>Unnamed: 0</th>\n",
       "      <th>label</th>\n",
       "      <th>text</th>\n",
       "      <th>category</th>\n",
       "      <th>original_id</th>\n",
       "      <th>predicted_label</th>\n",
       "      <th>emb_0</th>\n",
       "      <th>...</th>\n",
       "      <th>emb_758</th>\n",
       "      <th>emb_759</th>\n",
       "      <th>emb_760</th>\n",
       "      <th>emb_761</th>\n",
       "      <th>emb_762</th>\n",
       "      <th>emb_763</th>\n",
       "      <th>emb_764</th>\n",
       "      <th>emb_765</th>\n",
       "      <th>emb_766</th>\n",
       "      <th>emb_767</th>\n",
       "    </tr>\n",
       "  </thead>\n",
       "  <tbody>\n",
       "    <tr>\n",
       "      <th>0</th>\n",
       "      <td>0</td>\n",
       "      <td>0</td>\n",
       "      <td>0</td>\n",
       "      <td>8040</td>\n",
       "      <td>neutral</td>\n",
       "      <td>well mine sure aren't anything to write home ...</td>\n",
       "      <td>0</td>\n",
       "      <td>8040</td>\n",
       "      <td>2</td>\n",
       "      <td>0.215579</td>\n",
       "      <td>...</td>\n",
       "      <td>-0.674500</td>\n",
       "      <td>0.291064</td>\n",
       "      <td>-0.594291</td>\n",
       "      <td>-1.185963</td>\n",
       "      <td>-0.797891</td>\n",
       "      <td>-0.232986</td>\n",
       "      <td>-0.268296</td>\n",
       "      <td>0.327271</td>\n",
       "      <td>-0.362782</td>\n",
       "      <td>-0.162327</td>\n",
       "    </tr>\n",
       "    <tr>\n",
       "      <th>1</th>\n",
       "      <td>1</td>\n",
       "      <td>1</td>\n",
       "      <td>1</td>\n",
       "      <td>9001</td>\n",
       "      <td>neutral</td>\n",
       "      <td>that is certainly not the impression she's un...</td>\n",
       "      <td>0</td>\n",
       "      <td>9001</td>\n",
       "      <td>2</td>\n",
       "      <td>0.305053</td>\n",
       "      <td>...</td>\n",
       "      <td>-0.659103</td>\n",
       "      <td>0.560539</td>\n",
       "      <td>-0.586627</td>\n",
       "      <td>-0.749536</td>\n",
       "      <td>-1.188463</td>\n",
       "      <td>-0.468371</td>\n",
       "      <td>-0.253104</td>\n",
       "      <td>0.476058</td>\n",
       "      <td>0.103952</td>\n",
       "      <td>0.073833</td>\n",
       "    </tr>\n",
       "    <tr>\n",
       "      <th>2</th>\n",
       "      <td>2</td>\n",
       "      <td>2</td>\n",
       "      <td>2</td>\n",
       "      <td>8578</td>\n",
       "      <td>neutral</td>\n",
       "      <td>dont talk about my friend  like that. #thefu...</td>\n",
       "      <td>0</td>\n",
       "      <td>8578</td>\n",
       "      <td>2</td>\n",
       "      <td>-0.211526</td>\n",
       "      <td>...</td>\n",
       "      <td>-0.221571</td>\n",
       "      <td>-0.210997</td>\n",
       "      <td>-0.737913</td>\n",
       "      <td>-1.107444</td>\n",
       "      <td>-0.581977</td>\n",
       "      <td>-0.431517</td>\n",
       "      <td>0.074137</td>\n",
       "      <td>0.393541</td>\n",
       "      <td>0.268361</td>\n",
       "      <td>0.296378</td>\n",
       "    </tr>\n",
       "    <tr>\n",
       "      <th>3</th>\n",
       "      <td>3</td>\n",
       "      <td>3</td>\n",
       "      <td>3</td>\n",
       "      <td>1581</td>\n",
       "      <td>neutral</td>\n",
       "      <td>flight to DFW from IAD Cancelled Flightled fo...</td>\n",
       "      <td>0</td>\n",
       "      <td>1581</td>\n",
       "      <td>2</td>\n",
       "      <td>-0.001519</td>\n",
       "      <td>...</td>\n",
       "      <td>0.185525</td>\n",
       "      <td>-0.146651</td>\n",
       "      <td>-0.345825</td>\n",
       "      <td>-0.500949</td>\n",
       "      <td>0.218441</td>\n",
       "      <td>0.059343</td>\n",
       "      <td>-0.602169</td>\n",
       "      <td>-0.296241</td>\n",
       "      <td>-0.481539</td>\n",
       "      <td>0.708910</td>\n",
       "    </tr>\n",
       "    <tr>\n",
       "      <th>4</th>\n",
       "      <td>4</td>\n",
       "      <td>4</td>\n",
       "      <td>4</td>\n",
       "      <td>12431</td>\n",
       "      <td>neutral</td>\n",
       "      <td>and  get it together, perfect combination for...</td>\n",
       "      <td>0</td>\n",
       "      <td>12431</td>\n",
       "      <td>1</td>\n",
       "      <td>-0.345879</td>\n",
       "      <td>...</td>\n",
       "      <td>-0.589947</td>\n",
       "      <td>-0.566334</td>\n",
       "      <td>-0.589085</td>\n",
       "      <td>-0.663833</td>\n",
       "      <td>-1.192505</td>\n",
       "      <td>-0.246059</td>\n",
       "      <td>-0.088591</td>\n",
       "      <td>0.083913</td>\n",
       "      <td>-0.396284</td>\n",
       "      <td>-0.184618</td>\n",
       "    </tr>\n",
       "    <tr>\n",
       "      <th>...</th>\n",
       "      <td>...</td>\n",
       "      <td>...</td>\n",
       "      <td>...</td>\n",
       "      <td>...</td>\n",
       "      <td>...</td>\n",
       "      <td>...</td>\n",
       "      <td>...</td>\n",
       "      <td>...</td>\n",
       "      <td>...</td>\n",
       "      <td>...</td>\n",
       "      <td>...</td>\n",
       "      <td>...</td>\n",
       "      <td>...</td>\n",
       "      <td>...</td>\n",
       "      <td>...</td>\n",
       "      <td>...</td>\n",
       "      <td>...</td>\n",
       "      <td>...</td>\n",
       "      <td>...</td>\n",
       "      <td>...</td>\n",
       "      <td>...</td>\n",
       "    </tr>\n",
       "    <tr>\n",
       "      <th>407</th>\n",
       "      <td>407</td>\n",
       "      <td>407</td>\n",
       "      <td>407</td>\n",
       "      <td>6823</td>\n",
       "      <td>positive</td>\n",
       "      <td>A320 pulling into the gate as the sunrises he...</td>\n",
       "      <td>1</td>\n",
       "      <td>6823</td>\n",
       "      <td>0</td>\n",
       "      <td>-0.246986</td>\n",
       "      <td>...</td>\n",
       "      <td>-0.078308</td>\n",
       "      <td>-0.118500</td>\n",
       "      <td>-0.572997</td>\n",
       "      <td>0.477163</td>\n",
       "      <td>-0.203902</td>\n",
       "      <td>0.268203</td>\n",
       "      <td>-0.028085</td>\n",
       "      <td>0.418982</td>\n",
       "      <td>0.284505</td>\n",
       "      <td>-0.026405</td>\n",
       "    </tr>\n",
       "    <tr>\n",
       "      <th>408</th>\n",
       "      <td>408</td>\n",
       "      <td>408</td>\n",
       "      <td>408</td>\n",
       "      <td>378</td>\n",
       "      <td>positive</td>\n",
       "      <td>For my Grandma Ella's 80th, she would &amp;lt;3 a...</td>\n",
       "      <td>1</td>\n",
       "      <td>378</td>\n",
       "      <td>0</td>\n",
       "      <td>-0.409296</td>\n",
       "      <td>...</td>\n",
       "      <td>-0.661432</td>\n",
       "      <td>-0.717500</td>\n",
       "      <td>-1.323150</td>\n",
       "      <td>-0.453528</td>\n",
       "      <td>0.126615</td>\n",
       "      <td>0.290363</td>\n",
       "      <td>0.115345</td>\n",
       "      <td>0.756548</td>\n",
       "      <td>-0.186284</td>\n",
       "      <td>-0.172374</td>\n",
       "    </tr>\n",
       "    <tr>\n",
       "      <th>409</th>\n",
       "      <td>409</td>\n",
       "      <td>409</td>\n",
       "      <td>409</td>\n",
       "      <td>5527</td>\n",
       "      <td>positive</td>\n",
       "      <td>I will do just about anything tO GO TO THE VE...</td>\n",
       "      <td>1</td>\n",
       "      <td>5527</td>\n",
       "      <td>0</td>\n",
       "      <td>-0.383703</td>\n",
       "      <td>...</td>\n",
       "      <td>-0.740395</td>\n",
       "      <td>-0.603569</td>\n",
       "      <td>0.095837</td>\n",
       "      <td>-0.793519</td>\n",
       "      <td>-0.261575</td>\n",
       "      <td>0.512884</td>\n",
       "      <td>-0.530931</td>\n",
       "      <td>-0.230358</td>\n",
       "      <td>0.056423</td>\n",
       "      <td>0.550610</td>\n",
       "    </tr>\n",
       "    <tr>\n",
       "      <th>410</th>\n",
       "      <td>410</td>\n",
       "      <td>410</td>\n",
       "      <td>410</td>\n",
       "      <td>7678</td>\n",
       "      <td>positive</td>\n",
       "      <td>is amazing. Had a short delay. They gave me $...</td>\n",
       "      <td>1</td>\n",
       "      <td>7678</td>\n",
       "      <td>2</td>\n",
       "      <td>-0.381238</td>\n",
       "      <td>...</td>\n",
       "      <td>-0.200875</td>\n",
       "      <td>0.085695</td>\n",
       "      <td>-0.443693</td>\n",
       "      <td>-1.206835</td>\n",
       "      <td>-0.085316</td>\n",
       "      <td>0.287592</td>\n",
       "      <td>-0.492705</td>\n",
       "      <td>-0.153310</td>\n",
       "      <td>-0.246269</td>\n",
       "      <td>0.217216</td>\n",
       "    </tr>\n",
       "    <tr>\n",
       "      <th>411</th>\n",
       "      <td>411</td>\n",
       "      <td>411</td>\n",
       "      <td>411</td>\n",
       "      <td>589</td>\n",
       "      <td>positive</td>\n",
       "      <td>441, which also had 1 working WC in coach. Go...</td>\n",
       "      <td>1</td>\n",
       "      <td>589</td>\n",
       "      <td>2</td>\n",
       "      <td>-0.277235</td>\n",
       "      <td>...</td>\n",
       "      <td>-0.464820</td>\n",
       "      <td>-0.492334</td>\n",
       "      <td>-0.907867</td>\n",
       "      <td>-0.657052</td>\n",
       "      <td>-0.132889</td>\n",
       "      <td>0.062956</td>\n",
       "      <td>-0.121568</td>\n",
       "      <td>0.263083</td>\n",
       "      <td>-0.149534</td>\n",
       "      <td>0.197145</td>\n",
       "    </tr>\n",
       "  </tbody>\n",
       "</table>\n",
       "<p>412 rows × 777 columns</p>\n",
       "</div>"
      ],
      "text/plain": [
       "     Unnamed: 0.3  Unnamed: 0.2  Unnamed: 0.1  Unnamed: 0     label  \\\n",
       "0               0             0             0        8040   neutral   \n",
       "1               1             1             1        9001   neutral   \n",
       "2               2             2             2        8578   neutral   \n",
       "3               3             3             3        1581   neutral   \n",
       "4               4             4             4       12431   neutral   \n",
       "..            ...           ...           ...         ...       ...   \n",
       "407           407           407           407        6823  positive   \n",
       "408           408           408           408         378  positive   \n",
       "409           409           409           409        5527  positive   \n",
       "410           410           410           410        7678  positive   \n",
       "411           411           411           411         589  positive   \n",
       "\n",
       "                                                  text  category  original_id  \\\n",
       "0     well mine sure aren't anything to write home ...         0         8040   \n",
       "1     that is certainly not the impression she's un...         0         9001   \n",
       "2      dont talk about my friend  like that. #thefu...         0         8578   \n",
       "3     flight to DFW from IAD Cancelled Flightled fo...         0         1581   \n",
       "4     and  get it together, perfect combination for...         0        12431   \n",
       "..                                                 ...       ...          ...   \n",
       "407   A320 pulling into the gate as the sunrises he...         1         6823   \n",
       "408   For my Grandma Ella's 80th, she would &lt;3 a...         1          378   \n",
       "409   I will do just about anything tO GO TO THE VE...         1         5527   \n",
       "410   is amazing. Had a short delay. They gave me $...         1         7678   \n",
       "411   441, which also had 1 working WC in coach. Go...         1          589   \n",
       "\n",
       "     predicted_label     emb_0  ...   emb_758   emb_759   emb_760   emb_761  \\\n",
       "0                  2  0.215579  ... -0.674500  0.291064 -0.594291 -1.185963   \n",
       "1                  2  0.305053  ... -0.659103  0.560539 -0.586627 -0.749536   \n",
       "2                  2 -0.211526  ... -0.221571 -0.210997 -0.737913 -1.107444   \n",
       "3                  2 -0.001519  ...  0.185525 -0.146651 -0.345825 -0.500949   \n",
       "4                  1 -0.345879  ... -0.589947 -0.566334 -0.589085 -0.663833   \n",
       "..               ...       ...  ...       ...       ...       ...       ...   \n",
       "407                0 -0.246986  ... -0.078308 -0.118500 -0.572997  0.477163   \n",
       "408                0 -0.409296  ... -0.661432 -0.717500 -1.323150 -0.453528   \n",
       "409                0 -0.383703  ... -0.740395 -0.603569  0.095837 -0.793519   \n",
       "410                2 -0.381238  ... -0.200875  0.085695 -0.443693 -1.206835   \n",
       "411                2 -0.277235  ... -0.464820 -0.492334 -0.907867 -0.657052   \n",
       "\n",
       "      emb_762   emb_763   emb_764   emb_765   emb_766   emb_767  \n",
       "0   -0.797891 -0.232986 -0.268296  0.327271 -0.362782 -0.162327  \n",
       "1   -1.188463 -0.468371 -0.253104  0.476058  0.103952  0.073833  \n",
       "2   -0.581977 -0.431517  0.074137  0.393541  0.268361  0.296378  \n",
       "3    0.218441  0.059343 -0.602169 -0.296241 -0.481539  0.708910  \n",
       "4   -1.192505 -0.246059 -0.088591  0.083913 -0.396284 -0.184618  \n",
       "..        ...       ...       ...       ...       ...       ...  \n",
       "407 -0.203902  0.268203 -0.028085  0.418982  0.284505 -0.026405  \n",
       "408  0.126615  0.290363  0.115345  0.756548 -0.186284 -0.172374  \n",
       "409 -0.261575  0.512884 -0.530931 -0.230358  0.056423  0.550610  \n",
       "410 -0.085316  0.287592 -0.492705 -0.153310 -0.246269  0.217216  \n",
       "411 -0.132889  0.062956 -0.121568  0.263083 -0.149534  0.197145  \n",
       "\n",
       "[412 rows x 777 columns]"
      ]
     },
     "execution_count": 441,
     "metadata": {},
     "output_type": "execute_result"
    }
   ],
   "source": [
    "dftest"
   ]
  },
  {
   "cell_type": "code",
   "execution_count": 446,
   "id": "b4bdc59b",
   "metadata": {},
   "outputs": [],
   "source": [
    "joinedold = df.set_index('Unnamed: 0').join(dftest.set_index('Unnamed: 0'), how='inner', lsuffix='_left', rsuffix='_right')"
   ]
  },
  {
   "cell_type": "code",
   "execution_count": 455,
   "id": "cac91209",
   "metadata": {},
   "outputs": [
    {
     "data": {
      "text/plain": [
       "array([0, 1, 2, 3, 4, 5, 6], dtype=int32)"
      ]
     },
     "execution_count": 455,
     "metadata": {},
     "output_type": "execute_result"
    }
   ],
   "source": [
    "np.unique(joinedold[\"cluster\"].to_numpy())"
   ]
  },
  {
   "cell_type": "code",
   "execution_count": 459,
   "id": "76dd5bf5",
   "metadata": {},
   "outputs": [
    {
     "data": {
      "application/vnd.plotly.v1+json": {
       "config": {
        "plotlyServerURL": "https://plot.ly"
       },
       "data": [
        {
         "customdata": [
          [
           "@united I hope so too",
           "neutral",
           3,
           1
          ],
          [
           "@jetblue who's running your tweeter using the word fleek?",
           "neutral",
           1,
           2
          ],
          [
           "@united still waiting for a response on whether or not you allow use of a rear facing car seat on an ERJ145.",
           "neutral",
           5,
           2
          ],
          [
           "@united Based on suggestions from other passengers I have a rental car on standby for 11:30.  One way or another will be leaving then.",
           "neutral",
           5,
           2
          ],
          [
           "“@JetBlue: Our fleet's on fleek. http://t.co/Q16Xvwg0L6” .... I have to refrain what I want to say",
           "neutral",
           1,
           2
          ],
          [
           "@SouthwestAir damn weather messing up everything #serenitynow",
           "neutral",
           0,
           2
          ],
          [
           "@united in Bogota with no wallet is no fun. :-(",
           "neutral",
           5,
           2
          ],
          [
           "@JetBlue     Is it only $50 for my 2nd bag?  1st bag too full..",
           "neutral",
           4,
           2
          ],
          [
           "@SouthwestAir Thanks, Lindsey. Any idea when I'll get there?! Stuck in Denver and told to \"listen to the intercom better\".",
           "neutral",
           0,
           2
          ],
          [
           "@SouthwestAir k thanks :)",
           "neutral",
           0,
           1
          ],
          [
           "@JetBlue Marks 15th Year With 'Bluemanity' Plane Design - http://t.co/E5NaxBUe4s http://t.co/KlxivnbCYh",
           "neutral",
           1,
           1
          ],
          [
           "@USAirways I left my personal stuff on US4551 from PHL-BOS about an hour ago. Went baggage, was told plane left to call 800#",
           "neutral",
           4,
           2
          ],
          [
           "@SouthwestAir should offer cdn border towns incentive to fly since exchange rates are #hurt. #customerappreciation #gaincustomers #keepem2",
           "neutral",
           0,
           2
          ],
          [
           "@SouthwestAir microsecond too Late Flight so very very sad 😂😂😂😂😂😭😭😭😭😢😢😢😢",
           "neutral",
           0,
           2
          ],
          [
           "@JetBlue @pilyoc dont talk about my friend @JetBlue like that. #thefutureisweird",
           "neutral",
           1,
           2
          ],
          [
           "Please don't. RT “@JetBlue: Our fleet's on fleek. http://t.co/gdzadXzBYA”",
           "neutral",
           1,
           2
          ],
          [
           "@AmericanAir and @CVGairport get it together, perfect combination for delays and Cancelled Flightlations",
           "neutral",
           1,
           1
          ],
          [
           "@united since UA 1226 ORD-EWR is delayed pushing it into meal time does that mean it will be catered with meals in First?",
           "neutral",
           5,
           2
          ],
          [
           "@SouthwestAir I know that not everybody on flight can be 1st time flying. But in case it is people in front deplane 1st not from the back?!?",
           "neutral",
           0,
           2
          ],
          [
           "@JetBlue using A321 JFK-SEA for Summer 2015. It will be my first A321 flight ever! No Mint to Seattle, Core Config only.",
           "neutral",
           4,
           2
          ],
          [
           "@united...do you still have flat tire policy.  Shuttle broke down on way to ORD.  Will probably miss the 425pm to CLE...Help please!!",
           "neutral",
           4,
           2
          ],
          [
           "@SouthwestAir i cant look up my confirmation number at the moment on mobile. the email is no longer in my inbox",
           "neutral",
           4,
           2
          ],
          [
           "@USAirways thank you for the apology",
           "neutral",
           3,
           1
          ],
          [
           "@JetBlue I was returning from @FoodNetwork #SOBEWFF so I had limited carry on space in my tummy. Next flight I'll try that snack!",
           "neutral",
           4,
           2
          ],
          [
           "@JetBlue no, I am fine to fly! Haha, they come at random, with the hemophilia, but what if i need extra assistance",
           "neutral",
           1,
           2
          ],
          [
           "@USAirways please please please let my plane back to the gate so I can get off as I will miss connection due to CLT closing. 2034",
           "neutral",
           4,
           2
          ],
          [
           "@AmericanAir why is it from June 1 thru December 31 there are no bus/first milesaaver awards available from cun to nyc? #Explain #whyfly",
           "neutral",
           4,
           2
          ],
          [
           "@JetBlue Thank you.",
           "neutral",
           6,
           1
          ],
          [
           "@USAirways My hubby has a 5hr layover in DFW fm the cxl'd flt. Pls help get him home sooner if you can! Any room on S/by 2 BWI or PHL today?",
           "neutral",
           0,
           2
          ],
          [
           "@VirginAmerica a brilliant brisk am in Boston in cue for vx363 http://t.co/rMZNIVGmg6",
           "neutral",
           5,
           1
          ],
          [
           "@SouthwestAir how come on mobile I can't proceed w/o entering a postcode at purchase. I'm from Ireland and I don't have a postcode just.",
           "neutral",
           5,
           2
          ],
          [
           "@SouthwestAir yeah it happens. The PHX airport has extra long waits all spring long. Something locals know but tourist don't just FYI",
           "neutral",
           0,
           2
          ],
          [
           "@AmericanAir well you spelled my name wrong.",
           "neutral",
           2,
           2
          ],
          [
           "@JetBlue Hey! Check it out!! It's snowing in Boston. Who could have predicted such a thing?! http://t.co/ufyxXkIsa3",
           "neutral",
           1,
           1
          ],
          [
           "@SouthwestAir So there were 134 early-bird check-ins, because I was told there were no flythroughs? Good flight, otherwise ~",
           "neutral",
           4,
           2
          ],
          [
           "@JetBlue Im just saying change can be amazing, like Miami. 😉",
           "neutral",
           1,
           1
          ],
          [
           "@SouthwestAir only 1 guest needs to change a flight on a reservation of 2. How can I do it? I NEED this to happen. Say it can...Please help!",
           "neutral",
           4,
           2
          ],
          [
           "@AmericanAir why is it most first class passengers now request the sand which from coach ?",
           "neutral",
           5,
           2
          ],
          [
           "@SouthwestAir fortunately didn't have to. The flight took off on time.",
           "neutral",
           0,
           1
          ],
          [
           "@JetBlue no. come on.",
           "neutral",
           1,
           2
          ],
          [
           "@SouthwestAir I never got my flight confirmation. I've been on hold for an hour and I can't get info online. What am I to do?",
           "neutral",
           4,
           2
          ],
          [
           "@SouthwestAir Please bring back RDU to FLL direct route!  I noticed it is missing starting in Late Flight August!  The flights are always packed!",
           "neutral",
           0,
           2
          ],
          [
           "@AmericanAir \nThank you for responding...My laptop is in my bag and I need it for work. I am worried. The file code is UTEVGW.",
           "neutral",
           5,
           2
          ],
          [
           "@AmericanAir we then had to deplane, and change planes.",
           "neutral",
           1,
           2
          ],
          [
           "@USAirways @OBJ_3 even airlines are scheming to get a follow from OBJ LMAOOO 😂😂😂😂",
           "neutral",
           1,
           2
          ],
          [
           "@SouthwestAir better travel photos:\nMy Kindle e-book Easy Tips guide http://t.co/7dM2J8H97M:\nhttp://t.co/xeDeckGMW5 http://t.co/frGhglMkqF",
           "neutral",
           0,
           1
          ],
          [
           "@JetBlue A month ago I had a flight booked but then had to Cancelled Flight it... I'm now Flight Booking Problems a separate flight for a different occasion.",
           "neutral",
           4,
           2
          ],
          [
           "@SouthwestAir Thanks for reminding me about my upcoming trip to Florida but you really didn't need to... http://t.co/p6r5rt5Ow5",
           "neutral",
           0,
           2
          ],
          [
           "@United Airlines' CEO Jeff Smisek: Disloyal to Loyal Workers http://t.co/0cevY3P42b via @HuffPostBiz",
           "neutral",
           4,
           2
          ],
          [
           "@united ^JT is the ORD to PHL flight at 9:15 PM (CDT) delayed? DM I'm kinda hoping not to be stranded at ORD either.",
           "neutral",
           4,
           2
          ],
          [
           "@AmericanAir your message was delayed I just responded",
           "neutral",
           2,
           2
          ],
          [
           "@JetBlue I usually do-but I didn't make the Flight Booking Problems this time-that'll teach me! Yea I have that going for me at least haha",
           "neutral",
           6,
           1
          ],
          [
           "@united how much does it cost to check in an additional bag? Traveling from newark to glasgow. Thank you :)",
           "neutral",
           5,
           1
          ],
          [
           "@AmericanAir  Yes I do bit you don't follow me so I can't DM you",
           "neutral",
           5,
           2
          ],
          [
           "@JetBlue ...and when did your legal department start running your social media channels?",
           "neutral",
           1,
           2
          ],
          [
           "@SouthwestAir Thanks I get that. It looks like all BWI-SJD services stops after Aug 7. Is that the case? I cant find one date with flights.",
           "neutral",
           0,
           2
          ],
          [
           "@united Thanks. Got it straightend out last night.",
           "neutral",
           3,
           1
          ],
          [
           "@USAirways no problem...just funny have a nice day",
           "neutral",
           6,
           1
          ],
          [
           "@JetBlue Guess I'll wait another 24 hrs in hopes rate goes down &amp; is more reasonable. Fingers crossed. Cutting it close to my travel dates.",
           "neutral",
           4,
           2
          ],
          [
           "@united I filled out the form but I haven’t received any sort of email confirmation that it’s been received. Is that normal?",
           "neutral",
           5,
           2
          ],
          [
           "@united please help! Left my iPad Air 2 on my flight from NYC to Paris yesterday and can’t get in touch with anyone locally. What to do?",
           "neutral",
           4,
           2
          ],
          [
           "@AmericanAir I need some help. My record locator is bringing up TWO different flights in your system. One op by AA &amp; one from US Airways.",
           "neutral",
           2,
           2
          ],
          [
           "@VirginAmerica @ladygaga @carrieunderwood Julie Andrews first but Lady Gaga wow'd me last night. Carrie? Meh.",
           "neutral",
           5,
           1
          ],
          [
           "@SouthwestAir- ...was only less than 3500pts, but it helped. Had PartnerRewards incoming, but not fast enough to keep pts from expiring.",
           "neutral",
           6,
           2
          ],
          [
           "@united Lindsay and ??.  Darn.  Terrible memory on my part.  I know they are headed back to IAD and then PIT tonight.",
           "neutral",
           5,
           2
          ],
          [
           "@SouthwestAir @love_dragonss LAUREN IM SCREAKJMF",
           "neutral",
           0,
           1
          ],
          [
           "@united, Understandable. I did try Flight Booking Problems several times for 2 passengers &amp; got the messages I mentioned before. As for the agents price???",
           "neutral",
           5,
           2
          ],
          [
           "@SouthwestAir left behind iPad Air on flight 505 from Bradley to BWI, plane had already left by the time I realized. Can you possibly help?",
           "neutral",
           4,
           2
          ],
          [
           "@AmericanAir Thank you, but I'll be Cancelled Flighting my return flight, as I've already rebooked with another airline so I can get home today.",
           "neutral",
           4,
           2
          ],
          [
           "@united just kidding with you I'll send you my stuff now. Thanks",
           "neutral",
           5,
           2
          ],
          [
           "@SouthwestAir check the head of the plane, there has been dynamite placed onto it",
           "neutral",
           0,
           2
          ],
          [
           "@USAirways and @AmericanAir aren't as merged as the marketing departments would have us believe. Maybe @Delta or @united can get me home?",
           "neutral",
           5,
           2
          ],
          [
           "@united Thank you, ^JH, appreciate the prompt responses--me and other passengers will be doing so.",
           "neutral",
           3,
           1
          ],
          [
           "@united why de-ice before taxing? Maybe it #makestoomuchsense ? #shouldhaveflowndelta #unitedsucks @Delta @SouthwestAir @AmericanAir",
           "neutral",
           4,
           2
          ],
          [
           "@USAirways thank you.",
           "neutral",
           3,
           1
          ],
          [
           "@AmericanAir I've been trying to change frm AA 2401 to LAX at 6:50am MONDAY morning then AA 2586 from LAX to FAT to flight AA 1359?#helpAA",
           "neutral",
           4,
           2
          ],
          [
           "@JetBlue finally! Finally!",
           "neutral",
           1,
           1
          ],
          [
           "@SouthwestAir easy fix, let the business select actually board 1st, then board the pre-boards...",
           "neutral",
           0,
           2
          ],
          [
           "@SouthwestAir how do get priority seating after you already paid for the flight",
           "neutral",
           0,
           2
          ],
          [
           "@united Is there a direct number to call to request a refund?  Its telling me its not valid as I changed the ticket.  No number on site",
           "neutral",
           5,
           2
          ],
          [
           "@JetBlue saving my sanity. Leaving it behind for sunshine. #escape #FL #bliss #travel #InDenial #WhatFrozenPipes http://t.co/6TtzEJV3hY",
           "neutral",
           6,
           1
          ],
          [
           "@SouthwestAir So that's what happens when your power level goes over 9,000... feet in the air.",
           "neutral",
           0,
           2
          ],
          [
           "@AmericanAir well I'm flying @JetBlue instead - for free! Their credits actually work.",
           "neutral",
           6,
           1
          ],
          [
           "@USAirways tell reservations to rebook me from 5080 to 5129",
           "neutral",
           5,
           2
          ],
          [
           "@AmericanAir Amazing to watch @chasefoster (who travels with celebs all over the world) show the youth of America who *not* to fly with.",
           "neutral",
           4,
           1
          ],
          [
           "@JetBlue well mine sure aren't anything to write home about!",
           "neutral",
           4,
           2
          ],
          [
           "@SouthwestAir Thanks! Will do",
           "neutral",
           0,
           1
          ],
          [
           "@SouthwestAir @ClinicPolly \nThank you-- I may have already responded but was 8UXZJ2",
           "neutral",
           0,
           1
          ],
          [
           "@SouthwestAir #DestinationDragons iD is my favorite band and i met my 2bestfriends thanks to them! it would be life changing to see them!",
           "neutral",
           0,
           1
          ],
          [
           "@AmericanAir where do I look for cabin crew vacancies?",
           "neutral",
           2,
           2
          ],
          [
           "@JetBlue all up to date. Can't update via Google play.",
           "neutral",
           1,
           2
          ],
          [
           "@AmericanAir but my friend was told she was able to use her credit with the airline towards one of my flights, then was told she couldn't.",
           "neutral",
           4,
           2
          ],
          [
           "@united Okay, thank you both.",
           "neutral",
           3,
           1
          ],
          [
           "@united it can't be delivered. It has to be held there for me to cross the border to pick up. Please don't try to deliver.",
           "neutral",
           5,
           2
          ],
          [
           "@JetBlue Airline trouble this winter &amp; not getting good customer service? contact http://t.co/aQjn4HwNaC  we negotiate resolutions for You!",
           "neutral",
           4,
           2
          ],
          [
           "@united leisure. Military personnel for safety reason R highly recommended to not travel in uniform",
           "neutral",
           5,
           2
          ],
          [
           "@JetBlue so yesterday a flight I wanted to Chicago was on sale within my points range and today it isn't. Any way you guys can still honor",
           "neutral",
           4,
           2
          ],
          [
           "@USAirways skys r sunny air is cold I can't wait to get to #CLT",
           "neutral",
           6,
           1
          ],
          [
           "@SouthwestAir Already rebooked for tomorrow. Fingers crossed!",
           "neutral",
           0,
           2
          ],
          [
           "@JetBlue try harder. Take a winners attitude to your work.",
           "neutral",
           6,
           2
          ],
          [
           "@USAirways made it.. Never ran so fast in my life",
           "neutral",
           5,
           1
          ],
          [
           "@JetBlue Port-Au-Prince, Haiti for continued food distribution, medical supplies, &amp; orphan care!  #flyingitforward http://t.co/fn2QXybT9K",
           "neutral",
           1,
           1
          ],
          [
           "@JetBlue how can we get help with a hotel we booked with you and are having issues with.",
           "neutral",
           4,
           2
          ],
          [
           "@JetBlue the fact that #ChrisHasMadeUsBLUSH isn't trending is how you know I'm loyal ;)",
           "neutral",
           6,
           1
          ],
          [
           "@AmericanAir Still looking as we speak.",
           "neutral",
           2,
           2
          ],
          [
           "@united all set. Figured it out at the baggage office!",
           "neutral",
           1,
           1
          ],
          [
           "@SouthwestAir understand the weather, these kids need to get home! Nice kids doing volunteer work from a RI high school, please help",
           "neutral",
           0,
           1
          ],
          [
           "@AmericanAir - keeping AA up in the Air! My crew chief cousin Alex Espinosa in DFW! http://t.co/0HXLNvZknP",
           "neutral",
           2,
           1
          ],
          [
           "@united thanks. That means I have 30 minutes to make my international connection to HKG",
           "neutral",
           3,
           1
          ],
          [
           "@JetBlue Gerne :)",
           "neutral",
           1,
           1
          ],
          [
           "@united all day travel. #swag #ijustwanttosleep",
           "neutral",
           5,
           2
          ],
          [
           "@USAirways  I need to email customer service for help and a question, can you please provide the email address?",
           "neutral",
           5,
           2
          ],
          [
           "@SouthwestAir hey southwest! Help me find a flight from Nashville - Washington DC or Raleigh for under $150 on March 15 please!",
           "neutral",
           0,
           2
          ],
          [
           "@united My post was just more of disappointment.  I'm a frequent United flyer, it was a simple ??.  1 bad apple doesn't spoil the bunch.",
           "neutral",
           6,
           2
          ],
          [
           "@JetBlue should I check in my awesome bag on my flight or carry it on... Decisions...",
           "neutral",
           1,
           2
          ],
          [
           "@VirginAmerica Dear Virgin customer, while you're stranded in SF for 3 days &amp; $1000cost- we'll do the very least we can to accommodate you!",
           "neutral",
           5,
           2
          ],
          [
           "@JetBlue No, it's weird!! I picked other cities just to test, those worked...not the one I want. Works on phone though, so I'll use that.",
           "neutral",
           4,
           2
          ],
          [
           "@AmericanAir this receipt doesn't show the evoucher value nor does it mention having used an evoucher",
           "neutral",
           2,
           2
          ],
          [
           "@united can I get on a stand by list from ASE to ORD? I'm the only poor person in Aspen, that's why I'm asking for standby on twitter.",
           "neutral",
           5,
           2
          ],
          [
           "@SouthwestAir I have been on hold for over 28 minutes  please help http://t.co/Fx9BIJlxAt",
           "neutral",
           0,
           2
          ],
          [
           "@SouthwestAir @love_dragonss AHHHH YES LAUREN",
           "neutral",
           0,
           1
          ],
          [
           "@united @staralliance Very nice at LHR, congrats, but I'm sticking with AA/#BA. @AmericanAir @British_Airways",
           "neutral",
           6,
           1
          ],
          [
           "@AmericanAir we're all being told by emergency services to stay home for the next 24-48 hours.",
           "neutral",
           5,
           2
          ],
          [
           "“@united: @ItsAaronChriz Sorry to hear about your flight. Do you need help reFlight Booking Problems?”\n\n👎",
           "neutral",
           4,
           2
          ],
          [
           "@SouthwestAir to the rescue. Sundown in Chicago. Next stop San Antonio! http://t.co/rQBpmwETtq",
           "neutral",
           0,
           1
          ],
          [
           "@united Some 3rd party service known as EZEE flights. A man, who confirmed he was born in India, told me his name was Steve Wilson.",
           "neutral",
           5,
           2
          ],
          [
           "@AmericanAir I've tried...its @USAirways anyway",
           "neutral",
           2,
           2
          ],
          [
           ".@VirginAmerica If only you guys were starting those flights at the end of the month! Guess I’m still road tripping on Feb 27…",
           "neutral",
           4,
           2
          ],
          [
           "@united I have such a love hate relationship with you. Some days you're good, the others you are so terribly awful its saddening",
           "neutral",
           6,
           2
          ],
          [
           "@VirginAmerica Really missed a prime opportunity for Men Without Hats parody, there. https://t.co/mWpG7grEZP",
           "neutral",
           5,
           2
          ],
          [
           "“@JetBlue: Our fleet's on fleek. http://t.co/BBM6PAbORt” &lt;&lt;Now THAT is fuckin funny. 😂",
           "neutral",
           1,
           2
          ],
          [
           "@JetBlue this feels nice - what we've got going on here. Let's just swap me out with the fool in 5a and we can make it all better.",
           "neutral",
           6,
           1
          ],
          [
           "@AmericanAir We've sent you more info via DM.  I truly hope you resolve this very quickly. #media #filmcrew #cnn #nbc",
           "neutral",
           5,
           2
          ],
          [
           "YO! @InternJohnRadio @mrerickv  give @SouthwestAir their plane back.  They're mad &amp; threatening to take away my Companion Pass. #Luv",
           "neutral",
           4,
           2
          ],
          [
           "@SouthwestAir live in Atlanta but cant enroll in your Atlanta companion promotion. Error every time. Can you help? Also sent email. Thanks!",
           "neutral",
           0,
           2
          ],
          [
           "@JetBlue Just signed up for TrueBlue and booked a flight but keep getting an error when I try to link it to my TB account. What's the deal?",
           "neutral",
           4,
           2
          ],
          [
           "@JetBlue lol the fleet on fleek... i see yall ballin... new jets on deck..",
           "neutral",
           1,
           1
          ],
          [
           "@united you'll be hearing from me for sure.",
           "neutral",
           3,
           2
          ],
          [
           "@united Cancelled Flighting. bought a ticket for a friend but cant get the credit under my name",
           "neutral",
           4,
           2
          ],
          [
           "@united actually we did not consider she might have made a mistake. She did not complain beyond that she indicated it on her reservation.",
           "neutral",
           6,
           2
          ],
          [
           "@AmericanAir thanks!",
           "neutral",
           2,
           1
          ],
          [
           "@JetBlue my mom always said to never settle. If your chips ain't blue, you just won't do.",
           "neutral",
           4,
           2
          ],
          [
           "@united any chance flight 3745 is being delayed??  nervous about driving to DFW in this weather to drop off my brother",
           "neutral",
           4,
           2
          ],
          [
           "@united You please do not burn my dreams !!!  #burningman tickets sales today.",
           "neutral",
           5,
           2
          ],
          [
           "@united Hi guys. I submitted a request for ticket/hotel reimbursement for a delayed/over night stay coming back from the Dominican. Help?",
           "neutral",
           5,
           2
          ],
          [
           "@USAirways that is certainly not the impression she's under.",
           "neutral",
           5,
           2
          ],
          [
           "@AmericanAir basically u right now http://t.co/IN24Bpb7dw",
           "neutral",
           2,
           2
          ],
          [
           "@SouthwestAir Can someone rebook me? Please direct message me.",
           "neutral",
           0,
           2
          ],
          [
           "@AmericanAir the Late Flightst usair4603. Earlier 4591",
           "neutral",
           1,
           2
          ],
          [
           "@AmericanAir just downloaded the app for iPhone.  Notice drink coupon but nothing is displayed?  Getting ready to fly...",
           "neutral",
           4,
           2
          ],
          [
           "@JetBlue  I'm game if you're buying!!  ;)",
           "neutral",
           1,
           1
          ],
          [
           "@united fails again. @SouthwestAir saves the day.",
           "neutral",
           0,
           2
          ],
          [
           "@SouthwestAir 8FKQW is the conf #. Thanks for the reply",
           "neutral",
           0,
           1
          ],
          [
           "@SouthwestAir Is it a temporary site glitch or are you no longer offering flights from GRR to GEG after Feb? Can't find any online :(",
           "neutral",
           4,
           2
          ],
          [
           "@united flight to DFW from IAD Cancelled Flightled for mechanical can I get rental car to MDT-my origin",
           "neutral",
           4,
           2
          ],
          [
           "@SouthwestAir I've never met my favorite band and it would be sooo amazing to win destination dragons.",
           "neutral",
           0,
           1
          ],
          [
           "@JetBlue everyone is overreacting. Keep up your swag!",
           "neutral",
           1,
           2
          ],
          [
           "@united I sent in my feedback.  Thank you.",
           "neutral",
           3,
           1
          ],
          [
           "@VirginAmerica is helping me step up my @Tinder game! #TinderTips #tinderchamp http://t.co/jBmVVha63A",
           "neutral",
           5,
           1
          ],
          [
           "@AmericanAir no not yet. Waiting to be connected to an agent",
           "neutral",
           2,
           2
          ],
          [
           "@united booked award tix on ThaiAirways but I'm not seeing a conf# for them, just the United Flight Booking Problems#. Can you get get the Thai# for me?",
           "neutral",
           4,
           2
          ],
          [
           "@SouthwestAir Barzegar charges tourists 700 euros [!] a night for their stay in the tent village he runs. http://t.co/igSVzvrbbN",
           "neutral",
           0,
           2
          ],
          [
           "@SouthwestAir @love_dragonss LAUREN HoLY SHT",
           "neutral",
           0,
           1
          ],
          [
           "@USAirways it's vegas baby who doesn't have a good time in vegas lol",
           "neutral",
           4,
           2
          ],
          [
           "@JetBlue the you above all commercials? Like the legroom one",
           "neutral",
           1,
           1
          ],
          [
           "@USAirways we even offered to fly in to another airport and they said they couldn't do that. No explanation why they can't.",
           "neutral",
           4,
           2
          ],
          [
           "@JetBlue thanks anyways @SouthwestAir has my back! Awesome rate &amp; amazing customer service #nomoreaggravation",
           "neutral",
           0,
           1
          ],
          [
           "@united thank you!!!!! And next flight to Durango then driving to Farmington New Mexico for work! But hitting the slopes in Durango!",
           "neutral",
           6,
           1
          ],
          [
           "@SouthwestAir Any way you can help with entry to Vegas event? My Boyfriend &amp; I have been @Imaginedragons fans since 2009. They are awesome!",
           "neutral",
           0,
           1
          ],
          [
           "@SouthwestAir question all.  When will I receive my yearly bonus point accumulation? I think it's around now but not sure.  Thanks! :)",
           "neutral",
           0,
           1
          ],
          [
           "@JetBlue I hear you and safety is #1! I think we can get to JFK though now so let's help the pilots, passengers &amp; crew get there safely!",
           "neutral",
           6,
           1
          ],
          [
           "@SouthwestAir aren't you based in Chicago? Why are you doing a hunt in LA and not your home city????!! Please bring one home",
           "neutral",
           0,
           2
          ],
          [
           "@SouthwestAir #Vegas I was there 5 days ago. Miss the  Warm Weather",
           "neutral",
           0,
           2
          ],
          [
           "@SouthwestAir  flying Southwest for the first time to LGA with a layover in Atlanta!",
           "neutral",
           0,
           1
          ],
          [
           "@JetBlue deal!",
           "neutral",
           1,
           1
          ],
          [
           "@united I am going to a service desk now to see what the options are.",
           "neutral",
           5,
           2
          ],
          [
           "@SouthwestAir Thank you. The email about RR pts &amp; how to gain more wasn't clear so all of mine r gone. Anything u can do is appreciated.",
           "neutral",
           0,
           2
          ],
          [
           "@AmericanAir DM sent. Answer me please",
           "neutral",
           2,
           2
          ],
          [
           "@SouthwestAir companion pass please!",
           "neutral",
           0,
           1
          ],
          [
           "@AmericanAir online flight notification is down.",
           "neutral",
           4,
           2
          ],
          [
           "@southwestair TREMENDOUS job. Atlanta Airport saw SW celebrate Mardi Gras. Another reason I'm nuts for you guys! http://t.co/8WBzOrRn3C",
           "neutral",
           0,
           1
          ],
          [
           "@AmericanAir Please help AA 2258 Monday Cancelled Flightled.  Can you advise on reFlight Booking Problems / refund.  Have children and need to make plans now",
           "neutral",
           4,
           2
          ],
          [
           "@united this is for a check-in luggage. Employee told me not to include wheels in the dimensions.",
           "neutral",
           5,
           2
          ],
          [
           "@united Currently on standby to Lax then it is a 2 hour ride to Palm Springs. Long day starting at a snowy 3:30 am in philly.",
           "neutral",
           4,
           2
          ],
          [
           "@USAirways sorry, we are in Philly. Should've told you that.",
           "neutral",
           5,
           2
          ],
          [
           "@VirginAmerica Debbie Baldwin gave a #rockstar performance of the safety demo this evening on VX919 #LAS2SFO #BestCrew #SheRocks",
           "neutral",
           5,
           1
          ],
          [
           "Who did this?!?!“@JetBlue: Our fleet's on fleek. http://t.co/kHZrCCyp2A”",
           "neutral",
           1,
           2
          ],
          [
           "@AmericanAir I hear #Delta is offering 2,500 miles to frequent flyers if their bags doesn't come out within 20 minutes of landing thoughts?",
           "neutral",
           4,
           2
          ],
          [
           "@united it's done.  If you do something to make up for it I'll tweet that too.",
           "neutral",
           3,
           1
          ],
          [
           "@SouthwestAir Thank you!",
           "neutral",
           0,
           1
          ],
          [
           "@SouthwestAir I would love to go to the #DestinationDragons @ImagineDragons show tomorrow in Utah at @VelourLive! I've been trying so hard.",
           "neutral",
           0,
           1
          ],
          [
           "@USAirways sure did. I have carried this bag on numerous times on the same style plane. Planning accordingly apparently accounts for nothing",
           "neutral",
           6,
           2
          ],
          [
           "@JetBlue many thanks, as always your employees are professional and courteous. Whenever I have the option, you are my go-to airlines.",
           "neutral",
           6,
           1
          ],
          [
           "@SouthwestAir CEO Gary Kelly, \"You all are absolutely my heroes!\" #SouthwestRally #BWI #bestemployees #swaculture http://t.co/JTxyHQHfJJ",
           "neutral",
           0,
           1
          ],
          [
           "@USAirways Y'all need to get it together",
           "neutral",
           3,
           2
          ],
          [
           "@JetBlue I would go to Dallas to see my grand baby that I miss so much. I feel like a piece of my heart is there.",
           "neutral",
           6,
           1
          ],
          [
           "@SouthwestAir OMG OMG OMG !!! I JUST DID!!",
           "neutral",
           0,
           1
          ],
          [
           "@USAirways @GregWallace66 Yea, they will give you 5 cents on the dollar!",
           "neutral",
           5,
           2
          ],
          [
           "@AmericanAir Can I use an SWU on an Finnair codeshare of an American operated flight (JFK-MAN)?  Thanks in advance for the help!",
           "neutral",
           6,
           1
          ],
          [
           "@united Just got interrogated at the United Club Chicago. #UnitedAirlines #rude #PoorForm",
           "neutral",
           5,
           2
          ],
          [
           "@USAirways Thank you, although we're using our miles from our card and Flight Booking Problems companion tickets which can only be booked over the phone.",
           "neutral",
           6,
           2
          ],
          [
           "@JetBlue Think about it...boarding to a chill untz untz untz....like this http://t.co/lj2lARivE0...",
           "neutral",
           1,
           2
          ],
          [
           "@SouthwestAir I'm trying to get home to Nashville. I've been stuck in Dallas 2 days will my flight get out in the morning",
           "neutral",
           4,
           2
          ],
          [
           "@USAirways http://t.co/AXRYeIWzh0, vuelo24.es, vuelos24.es sell too cheap MAD-NYC with USAirways. Are they trusted webs or is it a scam?",
           "neutral",
           5,
           2
          ],
          [
           "@united 129 thousand fans of @JedediahBila are asking you to give her your utmost effort to get her a safe flight with her baggage soon!",
           "neutral",
           6,
           2
          ],
          [
           "@AmericanAir  hung up on now many times trying to cal 8004337300 crazy",
           "neutral",
           2,
           2
          ],
          [
           "@united your flights are really cheap what's the catch",
           "neutral",
           6,
           2
          ],
          [
           "@Jetblue I'm so sorry I cheated on you with @Delta @DeltaAssist. Please take me back. I wore protection.",
           "neutral",
           6,
           2
          ],
          [
           "@JetBlue I would like to communicate directly with a \"Customer Experience\" executive. Does Joanna Geraghty have an email address?",
           "negative",
           1,
           0
          ],
          [
           "@united Would be helpful if you could refresh boarding time info on boarding passes for delayed flights",
           "negative",
           5,
           0
          ],
          [
           "@JetBlue 117 days maybe.",
           "negative",
           1,
           0
          ],
          [
           "@AmericanAir work would be much better with my lesson plans and music for my classes today.",
           "negative",
           2,
           0
          ],
          [
           "@JetBlue I'll give u a chance but I don't think I'll fall for it #backtodelta",
           "negative",
           1,
           0
          ],
          [
           "@SouthwestAir would be great if I atleast was next to my husband who is flying in the same reservation",
           "negative",
           0,
           0
          ],
          [
           "@SouthwestAir same here. Would appreciate a follow so I can DM my info to figure out what I am supposed to do.",
           "negative",
           0,
           0
          ],
          [
           "@united Case ID 8544484",
           "negative",
           5,
           0
          ],
          [
           "@AmericanAir having trouble Flight Booking Problems a seat on US84 11 March, operated by AA. Neither airline's website will allow seat selection?",
           "negative",
           4,
           0
          ],
          [
           "@AmericanAir Thanks - I note some, but not all, flights are Cancelled Flightled - are only some aircraft/runways working out of DFW today/tomorrow?",
           "negative",
           1,
           0
          ],
          [
           "@SouthwestAir flight # 317",
           "negative",
           0,
           0
          ],
          [
           "@SouthwestAir discount for three delays?",
           "negative",
           0,
           0
          ],
          [
           "@united Your ERI-ORD express connections are hugely popular .. now if only we could have an ERI-EWR hop! :)",
           "negative",
           3,
           1
          ],
          [
           "@AmericanAir Hello, question, How many balloons do you think it will take to life up one of your planes?",
           "negative",
           1,
           0
          ],
          [
           "Well lets see.  You could pay for my Negroni with bitcoin. @JetBlue",
           "negative",
           1,
           0
          ],
          [
           "@AmericanAir flight was 2488 out of EWR STOP AT DALLAS THEN TO LA. I need to be in la tonight!",
           "negative",
           1,
           0
          ],
          [
           "@AmericanAir Hey AA, a suggestion: Note on your seat maps what seats have electronics box blocking legroom. AA215 http://t.co/hcNN0wXQQr",
           "negative",
           2,
           0
          ],
          [
           "@USAirways I love how just to give feedback to this link I have to fill out all my personal info on a form.  You guys are the best :)",
           "negative",
           6,
           1
          ],
          [
           "@JetBlue @philpete wonder if that's the pilot tweeting you back? Is it legal to tweet and fly? What if the plane in front stops suddenly?",
           "negative",
           1,
           0
          ],
          [
           "@united I'm asking if you can simplify the communications- thx",
           "negative",
           3,
           0
          ],
          [
           "@united Donna and Juan still the best in the United Club_ too bad UAL does not get it",
           "negative",
           6,
           1
          ],
          [
           "@SouthwestAir hooking us up and getting us to Tampa after our flight was Cancelled Flightled this morning #grateful #businesstrip",
           "negative",
           0,
           1
          ],
          [
           "@SouthwestAir can i have my bags back   ding!!",
           "negative",
           0,
           0
          ],
          [
           "@USAirways I do to as I have an afternoon Conference in Las Vegas and I would rather plan ahead than run thru the airport and then attempt",
           "negative",
           4,
           0
          ],
          [
           "@JetBlue does transferring trueblue points within family pooling members cost $? This is after having set up contribution-to-pool already.",
           "negative",
           1,
           0
          ],
          [
           "@SouthwestAir my rating for Southwest -9 on s scale of 1 to 10",
           "negative",
           0,
           0
          ],
          [
           "@united Anyone there? Did you read my DM?",
           "negative",
           3,
           0
          ],
          [
           "@united I think DM would be better",
           "negative",
           3,
           0
          ],
          [
           "@AmericanAir for tomorrow some sites show flight 1642 from ewr Cancelled Flightled, is it?",
           "negative",
           4,
           0
          ],
          [
           "@AmericanAir how do I see your report team?",
           "negative",
           2,
           0
          ],
          [
           "@JetBlue Good perspective. If only this safety concern had been expressed at some point before I arrived at the airport. #communicationiskey",
           "negative",
           6,
           1
          ],
          [
           "@SouthwestAir I'm in line at the airport right now. Will you cover hotel fair or am I to sleep in the airport?",
           "negative",
           0,
           0
          ],
          [
           "@USAirways transferred 4x pleeeeeeeease help!",
           "negative",
           5,
           0
          ],
          [
           "@SouthwestAir y airline I fly with, but haven't seen anything like this yet!",
           "negative",
           0,
           0
          ],
          [
           "@united my plane sounds like  a DJ  scratching is this normal? If so, will this eventually be a new entertainment fee.",
           "negative",
           6,
           0
          ],
          [
           "@SouthwestAir wifi stays connected about the lifetime of a higgs boson",
           "negative",
           0,
           0
          ],
          [
           "@AmericanAir on Feb. 15th your rep gave me the record locator and told me I'd be receiving an email with the itinerary and confirmation.",
           "negative",
           2,
           0
          ],
          [
           "@united thank you for the reply. I emailed your customer care department about my experience.",
           "negative",
           3,
           1
          ],
          [
           "@AmericanAir well done, you have taken the fun out of air travel @PHLAirport",
           "negative",
           6,
           1
          ],
          [
           "@united let me assure you my travel time is 4h2m not 5h2m #timezones #accuratetraveltimes #3rdtimethishashappened http://t.co/e0C9bI09cf",
           "negative",
           5,
           0
          ],
          [
           "@USAirways I don't think I've ever had a us airways flight that went smoothly.",
           "negative",
           4,
           1
          ],
          [
           "@united Thank you. Yes, I was hoping to speak with someone directly, but appreciate the link nonetheless. :)",
           "negative",
           3,
           1
          ],
          [
           "@JetBlue flight was two days ago. Flight 1918 from POS.",
           "negative",
           1,
           0
          ],
          [
           "@JetBlue  hmmm it says im following you. We just got de-iced, but still haning around for the runway to clear..",
           "negative",
           1,
           0
          ],
          [
           "“@united: @RobCNYC See information on our boarding process: http://t.co/gBIw9ugFNm ^KP”. I get group 1&amp;2. Just no reason on 3/5.",
           "negative",
           5,
           0
          ],
          [
           "@JetBlue after boarding flight 0510, the captain informs that he could exceed the16 hrs regulation and turned the plane around. Incredible!",
           "negative",
           1,
           1
          ],
          [
           "@united what if business as usual meant dropping the bully mentality and fostering inspiration for a greater business #EmployeeRelations",
           "negative",
           6,
           0
          ],
          [
           "@united when I read it say ' in some cases' can you please define this for me, when for example would it not be the case?",
           "negative",
           5,
           0
          ],
          [
           "@JetBlue \nApparently not.",
           "negative",
           1,
           0
          ],
          [
           "@USAirways Already tried. How about Conf # via DM",
           "negative",
           5,
           0
          ],
          [
           "@USAirways booked an award ticket recently, now same ticket is less miles. how do I contact you without using the online form or phone?",
           "negative",
           5,
           0
          ],
          [
           "@USAirways comin in clutch and sending me to Charlotte then home, I h8 u @AmericanAir, except for Wayne u a real g #ThankJesus #ThankMe",
           "negative",
           5,
           1
          ],
          [
           "@USAirways are the bags off Flight 1898 CLT to JFK? We landed last night just before midnight.",
           "negative",
           4,
           0
          ],
          [
           "@JetBlue where is the \"award winning service\"?",
           "negative",
           1,
           0
          ],
          [
           "@JetBlue just called that number and left message. Are you at to pass along message to team too?",
           "negative",
           1,
           0
          ],
          [
           "@usairways  US1799 CLT-&gt;SFO in first no desert, no snack basket. Incoming was on time ? What’s up?",
           "negative",
           5,
           0
          ],
          [
           "@USAirways your saving grace was our flight attendant Dallas who was amazing. wish he would transfer to Delta where I would see him again",
           "negative",
           6,
           1
          ],
          [
           "@VirginAmerica you're the best!! Whenever I (begrudgingly) use any other airline I'm delayed and Late Flight :(",
           "negative",
           4,
           1
          ],
          [
           "@united … But friendly efficient air attendants in coach #UA992 http://t.co/49pV3KcHNR",
           "negative",
           6,
           1
          ],
          [
           "@JetBlue where exactly can I leave a note",
           "negative",
           1,
           0
          ],
          [
           "@SouthwestAir it'd be nice if I could get an answer, even a simple \"no\" would do; I just want to know. :)",
           "negative",
           0,
           0
          ],
          [
           "Sir. RT @JetBlue: Our fleet's on fleek. http://t.co/F5IXyw8XyB",
           "negative",
           1,
           0
          ],
          [
           "@SouthwestAir is main supporter of play where Jesus is portrayed as homosexual partner of Judas and who performs a “gay wedding” #boycott",
           "negative",
           5,
           0
          ],
          [
           "@SouthwestAir I left my iPad on my flight 1831 from ERW to DEN. I opened claim 442998. It has so many memories on it. Plz help get it back.",
           "negative",
           4,
           0
          ],
          [
           "@united yes, after landing at 930pm last night. Spoke to 10 baggage claim customer service reps. Finally spoke to one amazing ticket agent.",
           "negative",
           6,
           1
          ],
          [
           "See what you started now @nytimes RT @JetBlue: Our fleet's on fleek. http://t.co/atd2Sm8HF4",
           "negative",
           1,
           0
          ],
          [
           "@JetBlue is JFK still closed? Tryna get out of Ft Lauderdale on flight 502, just want to get home to nyc!",
           "negative",
           4,
           0
          ],
          [
           "@USairways E190 lands without nose gear in Houston - @Flightglobal http://t.co/Yf9NhMwyFF",
           "negative",
           1,
           0
          ],
          [
           "@USAirways How do I get through?",
           "negative",
           5,
           0
          ],
          [
           "@SouthwestAir  Glad to see you know how to keep the money in your own pockets. 'Thanks' for the voucher in return for lost bag.",
           "negative",
           6,
           1
          ],
          [
           "@united I would like your baggage damage number as well! Another great thing from your 'trained' staff! Whats the number please.. Claim time",
           "negative",
           6,
           1
          ],
          [
           "@AmericanAir first the pilot, then the catering...",
           "negative",
           1,
           0
          ],
          [
           "@AmericanAir Weather was not involved.",
           "negative",
           2,
           0
          ],
          [
           "@SouthwestAir When will your phone agents be able to give the correct departure times for CUN? When can we checkin online for international?",
           "negative",
           0,
           0
          ],
          [
           "@AmericanAir  when do you anticipate decisions for Cancelled Flightlations at DFW tomorrow morning? Need to rearrange hotel reservations, etc. ASAP!",
           "negative",
           4,
           0
          ],
          [
           "Jet BOOOO 🍅🍅🍅🍅 RT @JetBlue: Our fleet's on fleek. http://t.co/0WbJAWx7xD",
           "negative",
           1,
           0
          ],
          [
           "@USAirways lol thanks to you we had to switch to American http://t.co/Sl6BDRXfN8",
           "negative",
           5,
           1
          ],
          [
           "@SouthwestAir you do a great job of achieving that at most cities, just not at BWI.",
           "negative",
           0,
           1
          ],
          [
           "@USAirways @united really know how to leave someone stranded after a funeral. Props to you guys. Really making this the perfect Monday.",
           "negative",
           6,
           1
          ],
          [
           "@united GRK13575M is the file reference",
           "negative",
           5,
           0
          ],
          [
           "@JetBlue walked from the gate to the just ask desk by gate 1 http://t.co/p6ucbVlv5E",
           "negative",
           1,
           0
          ],
          [
           "@USAirways not too impressed with your airlines but I would feel a lot better flying with if you upgraded me up to first class tomorrow",
           "negative",
           6,
           1
          ],
          [
           "Stop the madness \"@JetBlue: Our fleet's on fleek. http://t.co/Q5a7jtkI5K”",
           "negative",
           1,
           0
          ],
          [
           "@united thank you for leaving my bag in houston! despite what your system says, i was definitely on the flight!",
           "negative",
           6,
           1
          ],
          [
           "@USAirways right, can you use a shuttle ticket from LGA to BOS for any shuttle flight? Probably gonna miss the 4pm.",
           "negative",
           4,
           0
          ],
          [
           "@JetBlue It's not ideal, but it's okay. Better Late Flight than never! :)",
           "negative",
           6,
           1
          ],
          [
           "@united feck guys. Stop Cancelled Flightling flights from EWR to RIC the weather is fine I both locations!!!",
           "negative",
           6,
           1
          ],
          [
           "@SouthwestAir how it feels on flight 4251 http://t.co/JM8gQ1KGrF",
           "negative",
           0,
           0
          ],
          [
           "@united is probably the least satisfactory airline I've ever been on. Never fails to disappoint.",
           "negative",
           6,
           1
          ],
          [
           "@VirginAmerica soooo are you guys going to leave the seatbelt light on all flight? You can barely call this turbulence :-)",
           "negative",
           4,
           0
          ],
          [
           "@SouthwestAir thx but I'll be expecting a credit for this leg.",
           "negative",
           0,
           0
          ],
          [
           "@united I can't tell/purchase through the website because they put us on a Lufthansa flight for the first leg.",
           "negative",
           4,
           0
          ],
          [
           "@united The bright side would be keeping the promise that was made to me. Hope you're having a good night. Thanks.",
           "negative",
           3,
           1
          ],
          [
           "@united #Newarkliberty Airport need to indicate different gate#'s for terminals A&amp;C. #Flyingainteasy",
           "negative",
           1,
           0
          ],
          [
           "@SouthwestAir Hello remaining credits on your account will be refunded back to your credit card, when you choose a lower price flight?",
           "negative",
           0,
           0
          ],
          [
           "@United the internet is a great thing.  I am emailing executives in your company, maybe they will respond to me in a timely manner.",
           "negative",
           6,
           1
          ],
          [
           "@JetBlue your gif game is strong.",
           "negative",
           1,
           1
          ],
          [
           "@JetBlue ticket issued whilst delivering your customers.",
           "negative",
           1,
           0
          ],
          [
           "@USAirways No thank you. @AmericanAir was responsive &amp; I found alternate travel home.",
           "negative",
           2,
           1
          ],
          [
           "@usairways Ok thank you…I call from Spain to US for seating assistance!",
           "negative",
           6,
           1
          ],
          [
           "@JetBlue thank you! Hopefully it's soon! We are supposed to leave at 11:23",
           "negative",
           1,
           1
          ],
          [
           "@USAirways do families no longer get early boarding with young kids?  American, your new parent, gives it to us...",
           "negative",
           5,
           0
          ],
          [
           "@united Can you transfer my bags too?",
           "negative",
           5,
           0
          ],
          [
           "@SouthwestAir @LeeAnnHealey I was all, yeah sale fares! I got places to fly! Oh damn, right, I live where SWA doesn't fly. #why",
           "negative",
           0,
           0
          ],
          [
           "@VirginAmerica When will VX use all 6 LGA slots instead of 4 today? Adding AUS makes this less likely :(",
           "negative",
           5,
           0
          ],
          [
           "@SouthwestAir could I get a phone call from a customer service rep to get the issue resolved?",
           "negative",
           0,
           0
          ],
          [
           "@united We're hoping to hear from you actually.",
           "negative",
           3,
           0
          ],
          [
           "@united this is in ur Hemispheres magazine. I'm open to what will u do to make the \"flight more pleasant.\" http://t.co/VrQDpqEPFW",
           "negative",
           1,
           0
          ],
          [
           "@united it will be on a different airline.",
           "negative",
           4,
           0
          ],
          [
           "@united send someone to the customer service counter in person. DIA concourse B across from gate B36a.",
           "negative",
           5,
           0
          ],
          [
           "@SouthwestAir do these scavenger hunt  locations have anything in common because I'm playing detective trying to figure out the one for ATL.",
           "negative",
           0,
           0
          ],
          [
           "@VirginAmerica I requested a mileage challenge for status several weeks ago online but haven't heard back. How do I get help with this?",
           "negative",
           5,
           0
          ],
          [
           "@USAirways Just to follow up here is my experience: http://t.co/WJIiGZtiwg",
           "negative",
           5,
           0
          ],
          [
           "@SouthwestAir I would die if I got tickets to #DestinationDragons and you would be invited to my funeral",
           "negative",
           0,
           0
          ],
          [
           "@AmericanAir The wine served in USAirways flights are watered down somehow right out of the bottles.",
           "negative",
           6,
           1
          ],
          [
           "@usairways if you could change your name to @southwestair and do what they do...that'd be awesome. Also this plane smells like onion rings.",
           "negative",
           0,
           1
          ],
          [
           "@united thanks for updating me about the 1+ hour delay the exact second I got to ATL. 🙅🙅🙅",
           "positive",
           5,
           2
          ],
          [
           "@united all goods, I'll call tomorrow, thanks.",
           "positive",
           3,
           0
          ],
          [
           "@JetBlue it's been a while since I've angry tweeted an airline. Apparently you read my mind before I could bitch. Thank you for the credit.",
           "positive",
           6,
           2
          ],
          [
           "@SouthwestAir Luvin me some flights today!! Don't change!!  And please add Paypal as payment option!!!",
           "positive",
           0,
           0
          ],
          [
           "@united private jet would have been cool! Do does not work. I'll try again",
           "positive",
           4,
           2
          ],
          [
           "@VirginAmerica For my Grandma Ella's 80th, she would &lt;3 a bday greeting from your flight crew! She was a stewardess for Eastern Airlines.",
           "positive",
           4,
           0
          ],
          [
           "@JetBlue if I had my tux, it'd be a date! #UMosaicMeCrazy http://t.co/hap4gboSTU",
           "positive",
           1,
           0
          ],
          [
           "@virginamerica Well, I didn't…but NOW I DO! :-D",
           "positive",
           5,
           0
          ],
          [
           "@united On the plane but thanks! Maybe don't let so many people check in by themselves - teeming with morons.",
           "positive",
           6,
           2
          ],
          [
           "@USAirways - Huge props to Parizad at checkin in Sacramento for her help on Friday to get 3 of us home when other airlines were delayed",
           "positive",
           4,
           2
          ],
          [
           "@united thank you. Been trying for two days to set this up.",
           "positive",
           3,
           2
          ],
          [
           "@united :take note of this great example of @JetBlue actually making good for an extremely inconvenient situation. http://t.co/t3Gnk2N7LD",
           "positive",
           1,
           2
          ],
          [
           "@AmericanAir Thanks gang! Mind if I ask, do you handle all of your Social Media in house?",
           "positive",
           2,
           0
          ],
          [
           "@JetBlue heading to Buffalo... trading the cold in Boston for colder in Buffalo... Maybe the Caribbean next time?",
           "positive",
           1,
           0
          ],
          [
           "@united stay warm - I will be passing through Chicago next week",
           "positive",
           2,
           0
          ],
          [
           "@JetBlue Thanks for taking me back home today despite Pandora's best efforts to Cancelled Flight the flight. #jetblue #backhome #noplacelikehome",
           "positive",
           4,
           2
          ],
          [
           "Why “@JetBlue: Our fleet's on fleek. http://t.co/a7NvbJ8ipx”",
           "positive",
           1,
           0
          ],
          [
           "@united But thanks for asking",
           "positive",
           3,
           0
          ],
          [
           "@SouthwestAir save mile to visit family in 2015 and this will impact how many times I can see my mother.  I planned and you change the rules",
           "positive",
           4,
           2
          ],
          [
           "Stop. Please. RT @JetBlue: Our fleet's on fleek. http://t.co/EUl6sDURbU",
           "positive",
           1,
           2
          ],
          [
           "@JetBlue to offer service from Daytona Beach to New York - Albany Business Review http://t.co/dUhBJ41jHx",
           "positive",
           1,
           0
          ],
          [
           "@AmericanAir  thanks hoping that by wed I can get back to DFW",
           "positive",
           2,
           0
          ],
          [
           "@AmericanAir I was happy to purchase the upgrade. If only it was avail on my next flight.",
           "positive",
           6,
           2
          ],
          [
           "@AmericanAir would also like say kind move on adding the points !",
           "positive",
           2,
           0
          ],
          [
           "@united Club in Denver is dope 👌",
           "positive",
           3,
           0
          ],
          [
           "@USAirways #tbt every day.",
           "positive",
           5,
           2
          ],
          [
           "@united be  \"Chicago's hometown airline\" care about your neighbors #SaveTheDiagonals #FlyQuiet #ORDNoise",
           "positive",
           6,
           0
          ],
          [
           "@JetBlue things happen it's ok just wish I was on the beach and not in the airport",
           "positive",
           6,
           0
          ],
          [
           "@JetBlue totally would have.... but the outside view was even more camera ready haha #EvenMoreSpace #EvenMoreView http://t.co/dXuX6DBfd3",
           "positive",
           1,
           2
          ],
          [
           "@SouthwestAir thanks do yall expect to be operational tomorrow out of Nashville?",
           "positive",
           0,
           0
          ],
          [
           "@united yes, Thx! At 10:35 (landed at 9:20).",
           "positive",
           3,
           0
          ],
          [
           "@JetBlue flight to Orlando is unable to serve hot bevies.... So they've made movies and alcohol complimentary. That works",
           "positive",
           6,
           2
          ],
          [
           "@SouthwestAir me &amp; @sammi_jon3s are best friends because of @Imaginedragons. Any chance we could get tickets to #DestinationDragons ?",
           "positive",
           0,
           0
          ],
          [
           "@united thanks for not getting my BusinessFirst priority tagged bag onto my connecting flight at EWR despite a 2+ hour layover. Nice job",
           "positive",
           6,
           2
          ],
          [
           "@VirginAmerica I luv ur people and product! 1 thing is y do u charge for herbal tea but not black tea? I'm not a caffeine drinker",
           "positive",
           5,
           0
          ],
          [
           "@USAirways @AmericanAir Can you bring guinea pigs in small pet carrier onboard your flights?",
           "positive",
           5,
           0
          ],
          [
           "@AmericanAir thanks for the recommendation. We've been sitting here for 45 minutes, last update was 35 min ago.",
           "positive",
           2,
           2
          ],
          [
           "@USAirways TYVM USAir, Happy Night@ &lt;3",
           "positive",
           5,
           0
          ],
          [
           "@USAirways customer service at its finest",
           "positive",
           6,
           2
          ],
          [
           "@united Sure did! Only waited about 15min. Yay!",
           "positive",
           5,
           2
          ],
          [
           "@JetBlue sooo earlier i said i couldnt fly with you for my school trip but now i can! 😏",
           "positive",
           4,
           0
          ],
          [
           "@united kudos for not Cancelled Flightling flights from DFW this morning.   United usually first to panic...",
           "positive",
           4,
           2
          ],
          [
           "@SouthwestAir beyond ready",
           "positive",
           0,
           0
          ],
          [
           "@united Thanks for explanation. It seems like an odd incentive structure, tho, because it dramatically diminishes the value of the certs.",
           "positive",
           6,
           2
          ],
          [
           "@united After an hour+ wait, my issue is resolved. I did contact customer service to comment on the wait time. Thanks for contacting me.",
           "positive",
           6,
           2
          ],
          [
           "@AmericanAir @USAirways Statement wasn't sent yesterday like Jeanine said. After I even called last night as well. Again, excellent service",
           "positive",
           5,
           2
          ],
          [
           "@USAirways we haven't departed yet so let's not get too high hopes.  But everything has been on schedule so far",
           "positive",
           5,
           2
          ],
          [
           "@united thx off the response, finally got through the 45 min wait and talked to someone.",
           "positive",
           5,
           2
          ],
          [
           "What can I say other than when it comes to my #BrandLoveAffair w/ @jetblue ur my #soulandinspiration https://t.co/IGkoGyWksr #umosaicmecrazy",
           "positive",
           1,
           0
          ],
          [
           "@united that would help! or how about integrate it into the App so I can just \"activate\" it and surf...",
           "positive",
           3,
           0
          ],
          [
           "“@JetBlue: Our fleet's on fleek. http://t.co/3kVkd8yRxa” + lol wow",
           "positive",
           1,
           0
          ],
          [
           "@USAirways sitting on a plane in Philadelphia for over 20 minutes waiting just to get off the plane. Great service!",
           "positive",
           4,
           2
          ],
          [
           "@united will do. Just need to get CVG.... and my bag too. Thanks",
           "positive",
           3,
           0
          ],
          [
           "@USAirways thanks.  If you have another method also that would be nice.  Appears to be a design flaw",
           "positive",
           6,
           0
          ],
          [
           "@SouthwestAir can i get tiks for #DestinationDragons omg id love to! Plz 😱❤️im dying",
           "positive",
           0,
           0
          ],
          [
           "@JetBlue is amazing. Had a short delay. They gave me $150 credit! It was literally pretty much my fault I missed the flight.",
           "positive",
           6,
           2
          ],
          [
           "@united landing in anchorage, then on our way to fairbanks! http://t.co/FjkvQMbmaS",
           "positive",
           1,
           0
          ],
          [
           "@united all good man it isn't your fault that plane is having maintenance issues",
           "positive",
           6,
           2
          ],
          [
           "@united Resolved. Over hour of work on  ground &amp; somehow the system reset itself during takeoff. I appreciate the quick response/service.",
           "positive",
           6,
           2
          ],
          [
           "@united this is why I fly @SouthwestAir ... Never have any issues",
           "positive",
           0,
           2
          ],
          [
           "LMAO “@JetBlue: Our fleet's on fleek. http://t.co/aIyC9WV5oq”",
           "positive",
           1,
           0
          ],
          [
           "@VirginAmerica just promoting the product is all, had a problem with southwest and recommend noneother than the best! http://t.co/tFaNXBh1Cf",
           "positive",
           0,
           2
          ],
          [
           "@united The DEN b44 agent (9:30am) was amazing. The MPAgent at check in? She sucks. @seanMFmadden @PeterStraubMMA @jmercadoMMA @TonySimsMMA",
           "positive",
           5,
           2
          ],
          [
           "@JetBlue my email is my twitter handle followed by gmail ☺👍👍",
           "positive",
           1,
           0
          ],
          [
           "@United, will you fill it? Yes they will. Thanks! #BringYourOwn, @kleankanteen http://t.co/daaa0rqBXW",
           "positive",
           3,
           0
          ],
          [
           "@SouthwestAir so excited about our last minute trip to @Disneyland (and she doesn't know yet!) http://t.co/nKAFbjyARi",
           "positive",
           0,
           0
          ],
          [
           "@USairways Since I am a loyal USAir customer I am sure that they will make this up to me-right now I want to get home &amp; back to work.",
           "positive",
           6,
           2
          ],
          [
           "@AmericanAir oh it's nothing my issue was already resolved and I am in the air",
           "positive",
           2,
           2
          ],
          [
           "@AmericanAir ...have you seen Blue? Go look it up :)",
           "positive",
           2,
           0
          ],
          [
           "@JetBlue Thanks. Still booked our trip 3/13-17 LB to SLC to see grand kids.  Just very frustrating. Tried app, web, etc. Still love u guys!",
           "positive",
           6,
           2
          ],
          [
           "@SouthwestAir I will do just about anything tO GO TO THE VEGAS SHOW PLEASE MAN",
           "positive",
           0,
           0
          ],
          [
           "@AmericanAir None of the #LAX flights into #DFW have been Cancelled Flightled. Those landing before and after ours are fine. Completely arbitrary.",
           "positive",
           6,
           2
          ],
          [
           "@united so is that two seats avail so far for us.",
           "positive",
           3,
           2
          ],
          [
           "@AmericanAir shoutout to the agent on duty now @ Gate B1 #ABQ / outstanding customer service w delayed FLT 336 http://t.co/OoEJ4d4JoP",
           "positive",
           5,
           2
          ],
          [
           "@united 441, which also had 1 working WC in coach. Good thing this bird landed ahead of schedule. I have to use the WC stat.",
           "positive",
           6,
           2
          ],
          [
           "@USAirways we will...sunday! Just a few days away",
           "positive",
           5,
           0
          ],
          [
           "@VirginAmerica you will match my #AmericanAirlines status? Cool!",
           "positive",
           2,
           0
          ],
          [
           "@USAirways thx 4 replying. After trying 2 get thru many times, &amp; v-mail or people hanging up on, us we talked 2 tech...cont'd",
           "positive",
           5,
           2
          ],
          [
           "@USAirways over the phone. I called the 6170 number and she picked up almost immediately.",
           "positive",
           5,
           0
          ],
          [
           "@USAirways - Janet &amp; my DEN-PHL  flight Cancelled Flightled Saturday, USAIR rescheduled automatically &amp; notified us by email at no additional cost.",
           "positive",
           4,
           2
          ],
          [
           "@united That made me so mad, but then I called the bag number, and that person was helpful and told me where the bag really was. (2/2)",
           "positive",
           5,
           2
          ],
          [
           "@AmericanAir @RobertDwyer AA doesnt charge any fees to change award tickets as long as the origin, destination &amp; award type remains the same",
           "positive",
           2,
           0
          ],
          [
           "@JetBlue keep going back and forth with being able to board and then not. But great agents in savannah!",
           "positive",
           1,
           2
          ],
          [
           "@JetBlue TA off site at #thelodge. Should be a fun day. @YeniettElswood @AndrewBiga @CodyCleverly @HeidiMacey @motherpollock",
           "positive",
           1,
           2
          ],
          [
           "@SouthwestAir Oh no worries NL, no disappointments here. Better to have NO lounges than like #Delta who has them but does disappoint!",
           "positive",
           6,
           2
          ],
          [
           "@JetBlue A320 pulling into the gate as the sunrises here at @BostonLogan this morning #jetbluesofly #jetblue #airbus http://t.co/JGdu5us8Dz",
           "positive",
           1,
           0
          ],
          [
           "@SouthwestAir Can a pair of tickets waiting for me after my sports practice? I live here and definitely know where that is! @Imaginedragons",
           "positive",
           0,
           0
          ],
          [
           "@united I will. Thanks.",
           "positive",
           3,
           0
          ]
         ],
         "hovertemplate": "x=%{x}<br>y=%{y}<br>text_left=%{customdata[0]}<br>label_left=%{customdata[1]}<br>cluster=%{marker.color}<br>predicted_label_left=%{customdata[3]}<extra></extra>",
         "legendgroup": "",
         "marker": {
          "color": [
           3,
           1,
           5,
           5,
           1,
           0,
           5,
           4,
           0,
           0,
           1,
           4,
           0,
           0,
           1,
           1,
           1,
           5,
           0,
           4,
           4,
           4,
           3,
           4,
           1,
           4,
           4,
           6,
           0,
           5,
           5,
           0,
           2,
           1,
           4,
           1,
           4,
           5,
           0,
           1,
           4,
           0,
           5,
           1,
           1,
           0,
           4,
           0,
           4,
           4,
           2,
           6,
           5,
           5,
           1,
           0,
           3,
           6,
           4,
           5,
           4,
           2,
           5,
           6,
           5,
           0,
           5,
           4,
           4,
           5,
           0,
           5,
           3,
           4,
           3,
           4,
           1,
           0,
           0,
           5,
           6,
           0,
           6,
           5,
           4,
           4,
           0,
           0,
           0,
           2,
           1,
           4,
           3,
           5,
           4,
           5,
           4,
           6,
           0,
           6,
           5,
           1,
           4,
           6,
           2,
           1,
           0,
           2,
           3,
           1,
           5,
           5,
           0,
           6,
           1,
           5,
           4,
           2,
           5,
           0,
           0,
           6,
           5,
           4,
           0,
           5,
           2,
           4,
           6,
           5,
           1,
           6,
           5,
           4,
           0,
           4,
           1,
           3,
           4,
           6,
           2,
           4,
           4,
           5,
           5,
           5,
           2,
           0,
           1,
           4,
           1,
           0,
           0,
           4,
           4,
           0,
           1,
           3,
           5,
           2,
           4,
           0,
           0,
           4,
           1,
           4,
           0,
           6,
           0,
           0,
           6,
           0,
           0,
           0,
           1,
           5,
           0,
           2,
           0,
           4,
           0,
           4,
           5,
           4,
           5,
           5,
           1,
           4,
           3,
           0,
           0,
           6,
           6,
           0,
           3,
           6,
           0,
           5,
           6,
           5,
           6,
           1,
           4,
           5,
           6,
           2,
           6,
           6,
           1,
           5,
           1,
           2,
           1,
           0,
           0,
           5,
           4,
           1,
           0,
           0,
           3,
           1,
           1,
           1,
           2,
           6,
           1,
           3,
           6,
           0,
           0,
           4,
           1,
           0,
           3,
           3,
           4,
           2,
           6,
           0,
           5,
           0,
           6,
           0,
           2,
           3,
           6,
           5,
           4,
           3,
           1,
           1,
           5,
           1,
           6,
           5,
           1,
           5,
           5,
           5,
           4,
           1,
           1,
           5,
           6,
           4,
           6,
           1,
           0,
           1,
           5,
           4,
           6,
           1,
           4,
           1,
           5,
           6,
           6,
           1,
           2,
           0,
           4,
           1,
           5,
           0,
           6,
           5,
           1,
           6,
           1,
           6,
           4,
           6,
           6,
           0,
           6,
           4,
           0,
           4,
           3,
           1,
           0,
           6,
           1,
           1,
           2,
           6,
           1,
           5,
           5,
           0,
           5,
           0,
           3,
           1,
           4,
           5,
           0,
           5,
           5,
           0,
           6,
           0,
           5,
           3,
           6,
           0,
           4,
           4,
           1,
           5,
           6,
           4,
           3,
           1,
           2,
           1,
           2,
           4,
           1,
           3,
           4,
           1,
           1,
           2,
           6,
           2,
           3,
           5,
           6,
           6,
           1,
           0,
           3,
           6,
           0,
           6,
           5,
           5,
           2,
           5,
           6,
           5,
           4,
           4,
           0,
           6,
           6,
           5,
           5,
           5,
           1,
           3,
           1,
           4,
           3,
           6,
           0,
           6,
           1,
           6,
           6,
           0,
           1,
           0,
           5,
           1,
           3,
           0,
           6,
           2,
           2,
           6,
           0,
           6,
           3,
           5,
           6,
           5,
           2,
           5,
           5,
           4,
           5,
           2,
           1,
           1,
           6,
           1,
           0,
           3
          ],
          "coloraxis": "coloraxis",
          "symbol": "circle"
         },
         "mode": "markers",
         "name": "",
         "orientation": "v",
         "showlegend": false,
         "type": "scatter",
         "x": [
          0.5875425934791565,
          1.895021677017212,
          2.796940565109253,
          3.194814682006836,
          2.4200961589813232,
          5.547643184661865,
          2.443209648132324,
          3.913114547729492,
          5.915879249572754,
          6.8820576667785645,
          1.385367512702942,
          3.0098440647125244,
          5.465642929077148,
          5.547206878662109,
          2.665576696395874,
          2.497969150543213,
          1.049879550933838,
          2.836749315261841,
          5.303199291229248,
          3.0669353008270264,
          2.875366687774658,
          4.22611665725708,
          -0.1404012143611908,
          2.8145411014556885,
          1.9967782497406006,
          3.439063549041748,
          3.2348458766937256,
          0.15347667038440704,
          3.924790620803833,
          1.8756158351898193,
          4.263679027557373,
          5.385173320770264,
          0.882805585861206,
          1.987200379371643,
          4.529458999633789,
          0.9660813808441162,
          4.5687360763549805,
          2.1570026874542236,
          5.606516361236572,
          1.0714309215545654,
          4.277820587158203,
          5.258463382720947,
          0.7424226403236389,
          3.465705394744873,
          1.899127721786499,
          5.92242431640625,
          3.3857474327087402,
          5.847520351409912,
          2.6047892570495605,
          2.700852632522583,
          0.44404906034469604,
          0.926761269569397,
          0.8489450216293335,
          2.6801795959472656,
          2.065687894821167,
          5.1887006759643555,
          0.29493409395217896,
          1.3108012676239014,
          3.04526948928833,
          2.924607753753662,
          3.311727523803711,
          0.3752357065677643,
          2.5503697395324707,
          5.742350101470947,
          2.2566378116607666,
          5.981027603149414,
          2.2252001762390137,
          3.7492051124572754,
          3.4566705226898193,
          0.7419883012771606,
          6.263225078582764,
          0.8050841689109802,
          0.15819203853607178,
          2.8874270915985107,
          -0.0875304564833641,
          2.3495540618896484,
          0.6477813124656677,
          4.984859466552734,
          4.800148963928223,
          3.005408525466919,
          1.1450613737106323,
          7.039069175720215,
          0.430216521024704,
          2.6626691818237305,
          2.252627372741699,
          2.892725944519043,
          6.964035987854004,
          5.864742279052734,
          5.614218235015869,
          0.2706540524959564,
          3.1342151165008545,
          3.065607786178589,
          0.15861274302005768,
          2.7868831157684326,
          2.7884154319763184,
          2.526813507080078,
          1.6641433238983154,
          1.357985496520996,
          6.219184398651123,
          0.9875482320785522,
          2.27278995513916,
          1.586271047592163,
          2.5760438442230225,
          1.7894788980484009,
          0.15075045824050903,
          0.3439689576625824,
          6.300892353057861,
          0.5531817674636841,
          3.30302357673645,
          1.0632662773132324,
          2.2492151260375977,
          2.238757371902466,
          4.959228992462158,
          1.7283364534378052,
          2.0497822761535645,
          3.0938382148742676,
          2.8383195400238037,
          1.471626877784729,
          2.7170681953430176,
          5.9582414627075195,
          6.048397064208984,
          0.6521186828613281,
          1.026863694190979,
          2.398108720779419,
          6.6046013832092285,
          0.9824106097221375,
          0.09801512956619263,
          1.6284862756729126,
          2.2172627449035645,
          2.3620362281799316,
          1.5367424488067627,
          0.6015228629112244,
          2.130725383758545,
          2.713606357574463,
          5.816690444946289,
          2.99784255027771,
          1.395974040031433,
          0.7031090259552002,
          3.3751633167266846,
          0.3484073579311371,
          -0.626616358757019,
          3.1772189140319824,
          3.7438032627105713,
          2.632039785385132,
          1.4238790273666382,
          2.3710689544677734,
          -0.11438462138175964,
          6.671271324157715,
          1.4106581211090088,
          3.1889729499816895,
          1.0173848867416382,
          6.023696422576904,
          6.852487087249756,
          4.340325832366943,
          3.488112211227417,
          5.4723801612854,
          1.9314223527908325,
          0.18785406649112701,
          1.9133555889129639,
          0.3609151244163513,
          2.622370958328247,
          5.526749610900879,
          6.010063648223877,
          3.389937162399292,
          1.5441629886627197,
          3.019094944000244,
          5.773279666900635,
          1.2260738611221313,
          5.54977560043335,
          6.465194225311279,
          0.6613762974739075,
          6.512246608734131,
          5.168576717376709,
          5.861128807067871,
          0.8983741402626038,
          2.0943992137908936,
          5.955145359039307,
          0.012726761400699615,
          6.957052230834961,
          3.5632288455963135,
          5.729259014129639,
          3.5695292949676514,
          1.1622289419174194,
          1.8158434629440308,
          1.2688744068145752,
          3.535877227783203,
          1.795541524887085,
          4.649103164672852,
          0.708104133605957,
          6.924371242523193,
          5.507726669311523,
          2.1070497035980225,
          0.387667179107666,
          5.6912455558776855,
          1.8277820348739624,
          1.3042092323303223,
          7.037560939788818,
          4.1936469078063965,
          0.7319985628128052,
          2.234987497329712,
          2.838257312774658,
          1.4847280979156494,
          4.517388343811035,
          1.9408961534500122,
          0.7054927349090576,
          0.07030587643384933,
          0.3828672170639038,
          2.023303270339966,
          1.9563982486724854,
          2.4751980304718018,
          1.6085739135742188,
          -0.0016548612620681524,
          2.2370316982269287,
          5.727909088134766,
          6.632213115692139,
          1.5364409685134888,
          3.716054916381836,
          1.5074061155319214,
          6.774263858795166,
          6.813514709472656,
          0.7350977063179016,
          2.277773857116699,
          1.502384901046753,
          1.8145710229873657,
          0.1658068150281906,
          0.3527071475982666,
          2.506711006164551,
          0.9072253108024597,
          1.9226340055465698,
          5.406731128692627,
          6.479638576507568,
          3.3950307369232178,
          1.5336854457855225,
          6.9763569831848145,
          1.533138632774353,
          0.7689510583877563,
          3.8873291015625,
          0.048579052090644836,
          2.231160879135132,
          5.250466346740723,
          1.9860882759094238,
          5.294571399688721,
          1.293294906616211,
          6.6817851066589355,
          0.21978841722011566,
          0.38643118739128113,
          0.3948736786842346,
          1.990556001663208,
          2.0374748706817627,
          0.43012720346450806,
          1.4090806245803833,
          2.206163167953491,
          2.450007438659668,
          0.9677978157997131,
          0.4591224193572998,
          1.5639992952346802,
          2.9312195777893066,
          1.9638383388519287,
          3.140639305114746,
          1.4097033739089966,
          1.5332527160644531,
          0.33983170986175537,
          2.017301082611084,
          3.091501474380493,
          1.223862648010254,
          2.78547739982605,
          0.6332709193229675,
          2.033351182937622,
          6.167578220367432,
          1.973749041557312,
          5.426407814025879,
          3.7790558338165283,
          0.41105109453201294,
          1.4397965669631958,
          3.3054027557373047,
          3.1643147468566895,
          1.8217107057571411,
          6.270367622375488,
          0.4000896215438843,
          0.9739386439323425,
          1.3134005069732666,
          6.2512640953063965,
          3.6335294246673584,
          2.0074703693389893,
          1.1460586786270142,
          6.118714809417725,
          1.6971549987792969,
          1.4818475246429443,
          1.3215428590774536,
          1.2511177062988281,
          2.2177884578704834,
          1.623284101486206,
          3.5601236820220947,
          0.9280466437339783,
          1.1381418704986572,
          5.943974018096924,
          1.8307318687438965,
          3.098759889602661,
          6.890118598937988,
          1.8932660818099976,
          0.10081338882446289,
          2.002614974975586,
          4.565857887268066,
          0.3727354407310486,
          0.6557971239089966,
          1.7749065160751343,
          0.7661721110343933,
          5.300650119781494,
          1.48872709274292,
          3.357789993286133,
          0.9413094520568848,
          5.301402568817139,
          3.2621593475341797,
          6.445834159851074,
          0.5700989961624146,
          1.073441743850708,
          2.1700551509857178,
          1.7698216438293457,
          6.331902503967285,
          2.9382007122039795,
          1.7920961380004883,
          5.5457234382629395,
          2.414302110671997,
          5.687137603759766,
          3.116619110107422,
          0.584121823310852,
          1.54396390914917,
          4.845207691192627,
          2.741589307785034,
          2.1357550621032715,
          2.0903491973876953,
          2.069056272506714,
          2.2075369358062744,
          2.503636121749878,
          3.300442695617676,
          1.5593973398208618,
          0.7481628060340881,
          2.1693172454833984,
          1.2881686687469482,
          2.1195144653320312,
          1.7452497482299805,
          0.08730833977460861,
          4.59841775894165,
          2.7101681232452393,
          1.3320918083190918,
          -0.03185930848121643,
          0.8778067231178284,
          -0.08214488625526428,
          1.0593693256378174,
          2.1532750129699707,
          1.1708012819290161,
          1.2309819459915161,
          1.449767827987671,
          6.4030351638793945,
          2.91051983833313,
          2.566943883895874,
          5.651352882385254,
          1.8878272771835327,
          2.904872179031372,
          2.0394937992095947,
          3.369077205657959,
          1.4755595922470093,
          -0.07672728598117828,
          2.9909627437591553,
          2.0526721477508545,
          2.495276689529419,
          6.901350021362305,
          1.6875367164611816,
          0.6208610534667969,
          0.7152424454689026,
          2.3832762241363525,
          3.048375129699707,
          1.8501280546188354,
          0.6817575097084045,
          1.7672566175460815,
          4.700087547302246,
          0.8058814406394958,
          1.5806350708007812,
          5.981476306915283,
          2.4281139373779297,
          1.3702619075775146,
          0.6185616254806519,
          0.43822982907295227,
          6.5017924308776855,
          1.5965179204940796,
          5.472866058349609,
          2.2604408264160156,
          1.9610074758529663,
          1.0590194463729858,
          5.492576599121094,
          1.4059816598892212,
          0.7752546668052673,
          -0.33836761116981506,
          1.7419703006744385,
          5.407410144805908,
          1.2938178777694702,
          0.6799303889274597,
          2.2144179344177246,
          1.7945990562438965,
          2.1605284214019775,
          -0.27306726574897766,
          2.4682109355926514,
          1.4737681150436401,
          2.6058645248413086,
          0.7958893775939941,
          0.7016218304634094,
          1.8224490880966187,
          1.8068466186523438,
          5.953316688537598,
          1.3851410150527954,
          5.404452323913574,
          0.47326362133026123
         ],
         "xaxis": "x",
         "y": [
          8.812499046325684,
          16.144014358520508,
          10.834549903869629,
          11.002141952514648,
          15.734236717224121,
          12.81447982788086,
          12.11271858215332,
          12.215534210205078,
          11.12958812713623,
          10.944823265075684,
          16.066015243530273,
          12.497035026550293,
          12.41443157196045,
          12.797205924987793,
          15.123350143432617,
          15.747236251831055,
          13.6668062210083,
          12.503170013427734,
          12.468042373657227,
          13.24559211730957,
          13.713805198669434,
          12.874157905578613,
          9.539173126220703,
          12.519015312194824,
          13.9298095703125,
          13.853720664978027,
          12.931615829467773,
          14.468597412109375,
          11.914257049560547,
          11.151590347290039,
          12.831721305847168,
          11.776215553283691,
          11.675501823425293,
          14.186403274536133,
          12.779991149902344,
          15.574514389038086,
          12.300288200378418,
          12.612839698791504,
          11.9821195602417,
          16.020540237426758,
          13.228200912475586,
          12.158282279968262,
          10.839447021484375,
          14.258003234863281,
          15.63361644744873,
          11.108745574951172,
          13.732759475708008,
          10.780141830444336,
          15.187527656555176,
          13.208345413208008,
          11.890559196472168,
          13.611167907714844,
          10.722795486450195,
          11.850707054138184,
          16.348417282104492,
          12.897906303405762,
          9.028437614440918,
          11.5271577835083,
          13.92226791381836,
          11.315200805664062,
          12.818220138549805,
          12.585066795349121,
          11.185400009155273,
          10.988268852233887,
          12.063892364501953,
          12.208636283874512,
          13.154245376586914,
          12.782365798950195,
          13.912004470825195,
          9.724601745605469,
          12.12680721282959,
          11.930768966674805,
          9.556929588317871,
          14.133896827697754,
          9.537566184997559,
          14.415763854980469,
          15.70616340637207,
          12.043859481811523,
          12.376485824584961,
          11.956625938415527,
          13.311378479003906,
          12.331303596496582,
          14.20439624786377,
          11.10573673248291,
          15.007707595825195,
          15.185977935791016,
          11.084860801696777,
          11.120218276977539,
          11.330742835998535,
          12.393880844116211,
          12.888505935668945,
          13.694563865661621,
          8.999799728393555,
          11.828089714050293,
          13.730542182922363,
          11.73890209197998,
          14.053296089172363,
          14.106176376342773,
          12.024619102478027,
          14.212542533874512,
          10.119059562683105,
          15.117058753967285,
          13.474579811096191,
          12.865140914916992,
          11.751441955566406,
          13.042314529418945,
          11.228647232055664,
          12.813157081604004,
          10.535873413085938,
          16.055604934692383,
          9.879642486572266,
          10.488982200622559,
          12.70461654663086,
          12.247859001159668,
          13.224569320678711,
          13.293705940246582,
          12.958064079284668,
          12.143478393554688,
          11.838982582092285,
          12.606143951416016,
          12.100259780883789,
          12.770284652709961,
          12.111795425415039,
          13.45136547088623,
          12.222646713256836,
          13.185050964355469,
          11.457974433898926,
          14.534093856811523,
          12.238283157348633,
          11.769636154174805,
          15.351902961730957,
          14.542208671569824,
          10.714444160461426,
          14.32724380493164,
          10.95595932006836,
          13.019660949707031,
          15.836925506591797,
          9.010605812072754,
          13.601191520690918,
          10.05453872680664,
          10.590835571289062,
          13.608563423156738,
          13.50666618347168,
          15.52375316619873,
          12.756567001342773,
          11.547011375427246,
          11.584697723388672,
          11.465365409851074,
          15.790812492370605,
          12.808772087097168,
          15.973384857177734,
          11.620388984680176,
          11.013718605041504,
          13.207490921020508,
          12.12936019897461,
          11.307559967041016,
          15.413521766662598,
          9.082684516906738,
          10.947867393493652,
          12.290301322937012,
          13.249515533447266,
          11.632494926452637,
          12.175716400146484,
          13.42845344543457,
          15.631959915161133,
          13.6980562210083,
          11.685542106628418,
          14.444657325744629,
          11.3732271194458,
          11.256535530090332,
          13.66508960723877,
          12.135933876037598,
          12.36699104309082,
          11.571377754211426,
          15.95425796508789,
          10.328038215637207,
          10.917282104492188,
          11.800058364868164,
          12.112921714782715,
          14.614697456359863,
          11.626302719116211,
          13.162158012390137,
          10.902145385742188,
          13.875916481018066,
          11.198809623718262,
          11.565902709960938,
          15.96203899383545,
          12.372786521911621,
          9.107912063598633,
          11.041523933410645,
          11.423501968383789,
          12.936546325683594,
          13.57323169708252,
          11.47049617767334,
          10.046069145202637,
          13.921223640441895,
          11.869215965270996,
          11.949238777160645,
          13.455538749694824,
          12.105749130249023,
          12.496685028076172,
          15.911946296691895,
          13.170266151428223,
          11.698057174682617,
          13.395498275756836,
          11.942939758300781,
          13.990120887756348,
          12.951848030090332,
          16.32089614868164,
          13.230589866638184,
          14.673532485961914,
          12.307860374450684,
          14.06197452545166,
          11.801301002502441,
          11.746040344238281,
          9.72980785369873,
          13.382505416870117,
          13.951513290405273,
          12.120097160339355,
          12.211604118347168,
          9.75171947479248,
          14.852296829223633,
          16.05827522277832,
          14.433156967163086,
          11.843029975891113,
          10.29831314086914,
          14.646349906921387,
          9.320930480957031,
          11.785860061645508,
          11.970623970031738,
          11.282964706420898,
          13.305779457092285,
          12.376935005187988,
          12.227749824523926,
          9.689576148986816,
          9.074492454528809,
          14.556337356567383,
          12.180374145507812,
          13.833052635192871,
          11.970990180969238,
          10.419063568115234,
          12.462069511413574,
          13.637816429138184,
          11.913305282592773,
          12.333279609680176,
          9.918660163879395,
          14.442920684814453,
          10.576239585876465,
          12.85886001586914,
          9.352505683898926,
          15.58533763885498,
          13.809896469116211,
          10.989185333251953,
          15.07573413848877,
          10.391192436218262,
          9.811014175415039,
          15.188369750976562,
          10.127799987792969,
          12.127635955810547,
          11.191433906555176,
          15.247845649719238,
          14.638986587524414,
          15.175193786621094,
          12.46927547454834,
          13.98647403717041,
          13.546692848205566,
          13.669848442077637,
          15.539121627807617,
          10.81454849243164,
          15.97768497467041,
          11.094895362854004,
          12.661884307861328,
          13.25708293914795,
          15.771370887756348,
          13.814452171325684,
          14.946425437927246,
          10.050840377807617,
          10.882868766784668,
          13.196544647216797,
          13.122542381286621,
          12.165210723876953,
          11.937664031982422,
          14.05078411102295,
          16.002531051635742,
          11.291251182556152,
          10.840574264526367,
          12.942266464233398,
          9.707456588745117,
          15.739896774291992,
          13.624101638793945,
          15.705076217651367,
          13.17061710357666,
          13.67440128326416,
          13.797121047973633,
          13.76705551147461,
          12.40101432800293,
          12.455801010131836,
          14.348825454711914,
          11.695741653442383,
          14.07545280456543,
          9.174091339111328,
          15.205747604370117,
          12.6871337890625,
          10.019952774047852,
          15.192020416259766,
          13.542791366577148,
          11.678274154663086,
          11.02774429321289,
          14.550390243530273,
          12.694001197814941,
          10.624102592468262,
          12.05438232421875,
          12.428754806518555,
          11.376968383789062,
          9.008798599243164,
          14.694023132324219,
          15.164674758911133,
          10.473872184753418,
          11.965460777282715,
          11.566697120666504,
          10.060286521911621,
          11.755210876464844,
          12.606927871704102,
          11.933621406555176,
          10.782419204711914,
          9.360465049743652,
          12.995701789855957,
          12.32310962677002,
          13.878349304199219,
          13.373725891113281,
          15.902088165283203,
          11.18171215057373,
          13.648093223571777,
          13.394493103027344,
          10.737110137939453,
          15.080292701721191,
          11.853557586669922,
          14.253313064575195,
          14.515725135803223,
          13.302946090698242,
          15.806062698364258,
          8.914618492126465,
          12.122776985168457,
          15.552733421325684,
          15.875603675842285,
          11.65165901184082,
          13.625075340270996,
          11.916775703430176,
          9.549777030944824,
          9.926807403564453,
          14.401338577270508,
          13.831584930419922,
          15.402312278747559,
          12.230697631835938,
          10.170568466186523,
          12.636738777160645,
          11.188192367553711,
          13.0304536819458,
          12.058856964111328,
          14.797300338745117,
          10.765884399414062,
          11.203386306762695,
          9.716781616210938,
          10.93432903289795,
          13.900654792785645,
          13.45698070526123,
          12.084806442260742,
          11.68113899230957,
          9.940092086791992,
          11.887274742126465,
          10.230700492858887,
          10.713566780090332,
          15.842517852783203,
          9.716346740722656,
          15.868395805358887,
          12.386677742004395,
          10.562503814697266,
          11.601944923400879,
          11.704970359802246,
          13.41003704071045,
          15.032059669494629,
          13.801944732666016,
          13.28127670288086,
          11.563183784484863,
          15.797246932983398,
          10.895137786865234,
          12.006443977355957,
          16.248903274536133,
          9.163878440856934,
          11.436990737915039,
          13.128962516784668,
          12.334185600280762,
          11.504493713378906,
          14.231634140014648,
          11.441661834716797,
          13.304133415222168,
          9.524754524230957,
          11.843160629272461,
          15.335299491882324,
          9.81434440612793,
          11.391244888305664,
          10.506447792053223,
          10.423379898071289,
          13.058206558227539,
          10.654668807983398,
          12.190023422241211,
          15.605032920837402,
          15.648548126220703,
          10.734025955200195,
          15.561915397644043,
          11.703336715698242,
          8.888463020324707
         ],
         "yaxis": "y"
        }
       ],
       "layout": {
        "coloraxis": {
         "colorbar": {
          "title": {
           "text": "cluster"
          }
         },
         "colorscale": [
          [
           0,
           "#0d0887"
          ],
          [
           0.1111111111111111,
           "#46039f"
          ],
          [
           0.2222222222222222,
           "#7201a8"
          ],
          [
           0.3333333333333333,
           "#9c179e"
          ],
          [
           0.4444444444444444,
           "#bd3786"
          ],
          [
           0.5555555555555556,
           "#d8576b"
          ],
          [
           0.6666666666666666,
           "#ed7953"
          ],
          [
           0.7777777777777778,
           "#fb9f3a"
          ],
          [
           0.8888888888888888,
           "#fdca26"
          ],
          [
           1,
           "#f0f921"
          ]
         ]
        },
        "legend": {
         "tracegroupgap": 0
        },
        "margin": {
         "t": 60
        },
        "template": {
         "data": {
          "bar": [
           {
            "error_x": {
             "color": "#2a3f5f"
            },
            "error_y": {
             "color": "#2a3f5f"
            },
            "marker": {
             "line": {
              "color": "#E5ECF6",
              "width": 0.5
             },
             "pattern": {
              "fillmode": "overlay",
              "size": 10,
              "solidity": 0.2
             }
            },
            "type": "bar"
           }
          ],
          "barpolar": [
           {
            "marker": {
             "line": {
              "color": "#E5ECF6",
              "width": 0.5
             },
             "pattern": {
              "fillmode": "overlay",
              "size": 10,
              "solidity": 0.2
             }
            },
            "type": "barpolar"
           }
          ],
          "carpet": [
           {
            "aaxis": {
             "endlinecolor": "#2a3f5f",
             "gridcolor": "white",
             "linecolor": "white",
             "minorgridcolor": "white",
             "startlinecolor": "#2a3f5f"
            },
            "baxis": {
             "endlinecolor": "#2a3f5f",
             "gridcolor": "white",
             "linecolor": "white",
             "minorgridcolor": "white",
             "startlinecolor": "#2a3f5f"
            },
            "type": "carpet"
           }
          ],
          "choropleth": [
           {
            "colorbar": {
             "outlinewidth": 0,
             "ticks": ""
            },
            "type": "choropleth"
           }
          ],
          "contour": [
           {
            "colorbar": {
             "outlinewidth": 0,
             "ticks": ""
            },
            "colorscale": [
             [
              0,
              "#0d0887"
             ],
             [
              0.1111111111111111,
              "#46039f"
             ],
             [
              0.2222222222222222,
              "#7201a8"
             ],
             [
              0.3333333333333333,
              "#9c179e"
             ],
             [
              0.4444444444444444,
              "#bd3786"
             ],
             [
              0.5555555555555556,
              "#d8576b"
             ],
             [
              0.6666666666666666,
              "#ed7953"
             ],
             [
              0.7777777777777778,
              "#fb9f3a"
             ],
             [
              0.8888888888888888,
              "#fdca26"
             ],
             [
              1,
              "#f0f921"
             ]
            ],
            "type": "contour"
           }
          ],
          "contourcarpet": [
           {
            "colorbar": {
             "outlinewidth": 0,
             "ticks": ""
            },
            "type": "contourcarpet"
           }
          ],
          "heatmap": [
           {
            "colorbar": {
             "outlinewidth": 0,
             "ticks": ""
            },
            "colorscale": [
             [
              0,
              "#0d0887"
             ],
             [
              0.1111111111111111,
              "#46039f"
             ],
             [
              0.2222222222222222,
              "#7201a8"
             ],
             [
              0.3333333333333333,
              "#9c179e"
             ],
             [
              0.4444444444444444,
              "#bd3786"
             ],
             [
              0.5555555555555556,
              "#d8576b"
             ],
             [
              0.6666666666666666,
              "#ed7953"
             ],
             [
              0.7777777777777778,
              "#fb9f3a"
             ],
             [
              0.8888888888888888,
              "#fdca26"
             ],
             [
              1,
              "#f0f921"
             ]
            ],
            "type": "heatmap"
           }
          ],
          "heatmapgl": [
           {
            "colorbar": {
             "outlinewidth": 0,
             "ticks": ""
            },
            "colorscale": [
             [
              0,
              "#0d0887"
             ],
             [
              0.1111111111111111,
              "#46039f"
             ],
             [
              0.2222222222222222,
              "#7201a8"
             ],
             [
              0.3333333333333333,
              "#9c179e"
             ],
             [
              0.4444444444444444,
              "#bd3786"
             ],
             [
              0.5555555555555556,
              "#d8576b"
             ],
             [
              0.6666666666666666,
              "#ed7953"
             ],
             [
              0.7777777777777778,
              "#fb9f3a"
             ],
             [
              0.8888888888888888,
              "#fdca26"
             ],
             [
              1,
              "#f0f921"
             ]
            ],
            "type": "heatmapgl"
           }
          ],
          "histogram": [
           {
            "marker": {
             "pattern": {
              "fillmode": "overlay",
              "size": 10,
              "solidity": 0.2
             }
            },
            "type": "histogram"
           }
          ],
          "histogram2d": [
           {
            "colorbar": {
             "outlinewidth": 0,
             "ticks": ""
            },
            "colorscale": [
             [
              0,
              "#0d0887"
             ],
             [
              0.1111111111111111,
              "#46039f"
             ],
             [
              0.2222222222222222,
              "#7201a8"
             ],
             [
              0.3333333333333333,
              "#9c179e"
             ],
             [
              0.4444444444444444,
              "#bd3786"
             ],
             [
              0.5555555555555556,
              "#d8576b"
             ],
             [
              0.6666666666666666,
              "#ed7953"
             ],
             [
              0.7777777777777778,
              "#fb9f3a"
             ],
             [
              0.8888888888888888,
              "#fdca26"
             ],
             [
              1,
              "#f0f921"
             ]
            ],
            "type": "histogram2d"
           }
          ],
          "histogram2dcontour": [
           {
            "colorbar": {
             "outlinewidth": 0,
             "ticks": ""
            },
            "colorscale": [
             [
              0,
              "#0d0887"
             ],
             [
              0.1111111111111111,
              "#46039f"
             ],
             [
              0.2222222222222222,
              "#7201a8"
             ],
             [
              0.3333333333333333,
              "#9c179e"
             ],
             [
              0.4444444444444444,
              "#bd3786"
             ],
             [
              0.5555555555555556,
              "#d8576b"
             ],
             [
              0.6666666666666666,
              "#ed7953"
             ],
             [
              0.7777777777777778,
              "#fb9f3a"
             ],
             [
              0.8888888888888888,
              "#fdca26"
             ],
             [
              1,
              "#f0f921"
             ]
            ],
            "type": "histogram2dcontour"
           }
          ],
          "mesh3d": [
           {
            "colorbar": {
             "outlinewidth": 0,
             "ticks": ""
            },
            "type": "mesh3d"
           }
          ],
          "parcoords": [
           {
            "line": {
             "colorbar": {
              "outlinewidth": 0,
              "ticks": ""
             }
            },
            "type": "parcoords"
           }
          ],
          "pie": [
           {
            "automargin": true,
            "type": "pie"
           }
          ],
          "scatter": [
           {
            "marker": {
             "colorbar": {
              "outlinewidth": 0,
              "ticks": ""
             }
            },
            "type": "scatter"
           }
          ],
          "scatter3d": [
           {
            "line": {
             "colorbar": {
              "outlinewidth": 0,
              "ticks": ""
             }
            },
            "marker": {
             "colorbar": {
              "outlinewidth": 0,
              "ticks": ""
             }
            },
            "type": "scatter3d"
           }
          ],
          "scattercarpet": [
           {
            "marker": {
             "colorbar": {
              "outlinewidth": 0,
              "ticks": ""
             }
            },
            "type": "scattercarpet"
           }
          ],
          "scattergeo": [
           {
            "marker": {
             "colorbar": {
              "outlinewidth": 0,
              "ticks": ""
             }
            },
            "type": "scattergeo"
           }
          ],
          "scattergl": [
           {
            "marker": {
             "colorbar": {
              "outlinewidth": 0,
              "ticks": ""
             }
            },
            "type": "scattergl"
           }
          ],
          "scattermapbox": [
           {
            "marker": {
             "colorbar": {
              "outlinewidth": 0,
              "ticks": ""
             }
            },
            "type": "scattermapbox"
           }
          ],
          "scatterpolar": [
           {
            "marker": {
             "colorbar": {
              "outlinewidth": 0,
              "ticks": ""
             }
            },
            "type": "scatterpolar"
           }
          ],
          "scatterpolargl": [
           {
            "marker": {
             "colorbar": {
              "outlinewidth": 0,
              "ticks": ""
             }
            },
            "type": "scatterpolargl"
           }
          ],
          "scatterternary": [
           {
            "marker": {
             "colorbar": {
              "outlinewidth": 0,
              "ticks": ""
             }
            },
            "type": "scatterternary"
           }
          ],
          "surface": [
           {
            "colorbar": {
             "outlinewidth": 0,
             "ticks": ""
            },
            "colorscale": [
             [
              0,
              "#0d0887"
             ],
             [
              0.1111111111111111,
              "#46039f"
             ],
             [
              0.2222222222222222,
              "#7201a8"
             ],
             [
              0.3333333333333333,
              "#9c179e"
             ],
             [
              0.4444444444444444,
              "#bd3786"
             ],
             [
              0.5555555555555556,
              "#d8576b"
             ],
             [
              0.6666666666666666,
              "#ed7953"
             ],
             [
              0.7777777777777778,
              "#fb9f3a"
             ],
             [
              0.8888888888888888,
              "#fdca26"
             ],
             [
              1,
              "#f0f921"
             ]
            ],
            "type": "surface"
           }
          ],
          "table": [
           {
            "cells": {
             "fill": {
              "color": "#EBF0F8"
             },
             "line": {
              "color": "white"
             }
            },
            "header": {
             "fill": {
              "color": "#C8D4E3"
             },
             "line": {
              "color": "white"
             }
            },
            "type": "table"
           }
          ]
         },
         "layout": {
          "annotationdefaults": {
           "arrowcolor": "#2a3f5f",
           "arrowhead": 0,
           "arrowwidth": 1
          },
          "autotypenumbers": "strict",
          "coloraxis": {
           "colorbar": {
            "outlinewidth": 0,
            "ticks": ""
           }
          },
          "colorscale": {
           "diverging": [
            [
             0,
             "#8e0152"
            ],
            [
             0.1,
             "#c51b7d"
            ],
            [
             0.2,
             "#de77ae"
            ],
            [
             0.3,
             "#f1b6da"
            ],
            [
             0.4,
             "#fde0ef"
            ],
            [
             0.5,
             "#f7f7f7"
            ],
            [
             0.6,
             "#e6f5d0"
            ],
            [
             0.7,
             "#b8e186"
            ],
            [
             0.8,
             "#7fbc41"
            ],
            [
             0.9,
             "#4d9221"
            ],
            [
             1,
             "#276419"
            ]
           ],
           "sequential": [
            [
             0,
             "#0d0887"
            ],
            [
             0.1111111111111111,
             "#46039f"
            ],
            [
             0.2222222222222222,
             "#7201a8"
            ],
            [
             0.3333333333333333,
             "#9c179e"
            ],
            [
             0.4444444444444444,
             "#bd3786"
            ],
            [
             0.5555555555555556,
             "#d8576b"
            ],
            [
             0.6666666666666666,
             "#ed7953"
            ],
            [
             0.7777777777777778,
             "#fb9f3a"
            ],
            [
             0.8888888888888888,
             "#fdca26"
            ],
            [
             1,
             "#f0f921"
            ]
           ],
           "sequentialminus": [
            [
             0,
             "#0d0887"
            ],
            [
             0.1111111111111111,
             "#46039f"
            ],
            [
             0.2222222222222222,
             "#7201a8"
            ],
            [
             0.3333333333333333,
             "#9c179e"
            ],
            [
             0.4444444444444444,
             "#bd3786"
            ],
            [
             0.5555555555555556,
             "#d8576b"
            ],
            [
             0.6666666666666666,
             "#ed7953"
            ],
            [
             0.7777777777777778,
             "#fb9f3a"
            ],
            [
             0.8888888888888888,
             "#fdca26"
            ],
            [
             1,
             "#f0f921"
            ]
           ]
          },
          "colorway": [
           "#636efa",
           "#EF553B",
           "#00cc96",
           "#ab63fa",
           "#FFA15A",
           "#19d3f3",
           "#FF6692",
           "#B6E880",
           "#FF97FF",
           "#FECB52"
          ],
          "font": {
           "color": "#2a3f5f"
          },
          "geo": {
           "bgcolor": "white",
           "lakecolor": "white",
           "landcolor": "#E5ECF6",
           "showlakes": true,
           "showland": true,
           "subunitcolor": "white"
          },
          "hoverlabel": {
           "align": "left"
          },
          "hovermode": "closest",
          "mapbox": {
           "style": "light"
          },
          "paper_bgcolor": "white",
          "plot_bgcolor": "#E5ECF6",
          "polar": {
           "angularaxis": {
            "gridcolor": "white",
            "linecolor": "white",
            "ticks": ""
           },
           "bgcolor": "#E5ECF6",
           "radialaxis": {
            "gridcolor": "white",
            "linecolor": "white",
            "ticks": ""
           }
          },
          "scene": {
           "xaxis": {
            "backgroundcolor": "#E5ECF6",
            "gridcolor": "white",
            "gridwidth": 2,
            "linecolor": "white",
            "showbackground": true,
            "ticks": "",
            "zerolinecolor": "white"
           },
           "yaxis": {
            "backgroundcolor": "#E5ECF6",
            "gridcolor": "white",
            "gridwidth": 2,
            "linecolor": "white",
            "showbackground": true,
            "ticks": "",
            "zerolinecolor": "white"
           },
           "zaxis": {
            "backgroundcolor": "#E5ECF6",
            "gridcolor": "white",
            "gridwidth": 2,
            "linecolor": "white",
            "showbackground": true,
            "ticks": "",
            "zerolinecolor": "white"
           }
          },
          "shapedefaults": {
           "line": {
            "color": "#2a3f5f"
           }
          },
          "ternary": {
           "aaxis": {
            "gridcolor": "white",
            "linecolor": "white",
            "ticks": ""
           },
           "baxis": {
            "gridcolor": "white",
            "linecolor": "white",
            "ticks": ""
           },
           "bgcolor": "#E5ECF6",
           "caxis": {
            "gridcolor": "white",
            "linecolor": "white",
            "ticks": ""
           }
          },
          "title": {
           "x": 0.05
          },
          "xaxis": {
           "automargin": true,
           "gridcolor": "white",
           "linecolor": "white",
           "ticks": "",
           "title": {
            "standoff": 15
           },
           "zerolinecolor": "white",
           "zerolinewidth": 2
          },
          "yaxis": {
           "automargin": true,
           "gridcolor": "white",
           "linecolor": "white",
           "ticks": "",
           "title": {
            "standoff": 15
           },
           "zerolinecolor": "white",
           "zerolinewidth": 2
          }
         }
        },
        "xaxis": {
         "anchor": "y",
         "domain": [
          0,
          1
         ],
         "title": {
          "text": "x"
         }
        },
        "yaxis": {
         "anchor": "x",
         "domain": [
          0,
          1
         ],
         "title": {
          "text": "y"
         }
        }
       }
      },
      "text/html": [
       "<div>                            <div id=\"160d0a7c-5cb3-4379-a0a3-0e63ca3428bb\" class=\"plotly-graph-div\" style=\"height:525px; width:100%;\"></div>            <script type=\"text/javascript\">                require([\"plotly\"], function(Plotly) {                    window.PLOTLYENV=window.PLOTLYENV || {};                                    if (document.getElementById(\"160d0a7c-5cb3-4379-a0a3-0e63ca3428bb\")) {                    Plotly.newPlot(                        \"160d0a7c-5cb3-4379-a0a3-0e63ca3428bb\",                        [{\"customdata\":[[\"@united I hope so too\",\"neutral\",3,1],[\"@jetblue who's running your tweeter using the word fleek?\",\"neutral\",1,2],[\"@united still waiting for a response on whether or not you allow use of a rear facing car seat on an ERJ145.\",\"neutral\",5,2],[\"@united Based on suggestions from other passengers I have a rental car on standby for 11:30.  One way or another will be leaving then.\",\"neutral\",5,2],[\"\\u201c@JetBlue: Our fleet's on fleek. http://t.co/Q16Xvwg0L6\\u201d .... I have to refrain what I want to say\",\"neutral\",1,2],[\"@SouthwestAir damn weather messing up everything #serenitynow\",\"neutral\",0,2],[\"@united in Bogota with no wallet is no fun. :-(\",\"neutral\",5,2],[\"@JetBlue     Is it only $50 for my 2nd bag?  1st bag too full..\",\"neutral\",4,2],[\"@SouthwestAir Thanks, Lindsey. Any idea when I'll get there?! Stuck in Denver and told to \\\"listen to the intercom better\\\".\",\"neutral\",0,2],[\"@SouthwestAir k thanks :)\",\"neutral\",0,1],[\"@JetBlue Marks 15th Year With 'Bluemanity' Plane Design - http://t.co/E5NaxBUe4s http://t.co/KlxivnbCYh\",\"neutral\",1,1],[\"@USAirways I left my personal stuff on US4551 from PHL-BOS about an hour ago. Went baggage, was told plane left to call 800#\",\"neutral\",4,2],[\"@SouthwestAir should offer cdn border towns incentive to fly since exchange rates are #hurt. #customerappreciation #gaincustomers #keepem2\",\"neutral\",0,2],[\"@SouthwestAir microsecond too Late Flight so very very sad \\ud83d\\ude02\\ud83d\\ude02\\ud83d\\ude02\\ud83d\\ude02\\ud83d\\ude02\\ud83d\\ude2d\\ud83d\\ude2d\\ud83d\\ude2d\\ud83d\\ude2d\\ud83d\\ude22\\ud83d\\ude22\\ud83d\\ude22\\ud83d\\ude22\",\"neutral\",0,2],[\"@JetBlue @pilyoc dont talk about my friend @JetBlue like that. #thefutureisweird\",\"neutral\",1,2],[\"Please don't. RT \\u201c@JetBlue: Our fleet's on fleek. http://t.co/gdzadXzBYA\\u201d\",\"neutral\",1,2],[\"@AmericanAir and @CVGairport get it together, perfect combination for delays and Cancelled Flightlations\",\"neutral\",1,1],[\"@united since UA 1226 ORD-EWR is delayed pushing it into meal time does that mean it will be catered with meals in First?\",\"neutral\",5,2],[\"@SouthwestAir I know that not everybody on flight can be 1st time flying. But in case it is people in front deplane 1st not from the back?!?\",\"neutral\",0,2],[\"@JetBlue using A321 JFK-SEA for Summer 2015. It will be my first A321 flight ever! No Mint to Seattle, Core Config only.\",\"neutral\",4,2],[\"@united...do you still have flat tire policy.  Shuttle broke down on way to ORD.  Will probably miss the 425pm to CLE...Help please!!\",\"neutral\",4,2],[\"@SouthwestAir i cant look up my confirmation number at the moment on mobile. the email is no longer in my inbox\",\"neutral\",4,2],[\"@USAirways thank you for the apology\",\"neutral\",3,1],[\"@JetBlue I was returning from @FoodNetwork #SOBEWFF so I had limited carry on space in my tummy. Next flight I'll try that snack!\",\"neutral\",4,2],[\"@JetBlue no, I am fine to fly! Haha, they come at random, with the hemophilia, but what if i need extra assistance\",\"neutral\",1,2],[\"@USAirways please please please let my plane back to the gate so I can get off as I will miss connection due to CLT closing. 2034\",\"neutral\",4,2],[\"@AmericanAir why is it from June 1 thru December 31 there are no bus/first milesaaver awards available from cun to nyc? #Explain #whyfly\",\"neutral\",4,2],[\"@JetBlue Thank you.\",\"neutral\",6,1],[\"@USAirways My hubby has a 5hr layover in DFW fm the cxl'd flt. Pls help get him home sooner if you can! Any room on S/by 2 BWI or PHL today?\",\"neutral\",0,2],[\"@VirginAmerica a brilliant brisk am in Boston in cue for vx363 http://t.co/rMZNIVGmg6\",\"neutral\",5,1],[\"@SouthwestAir how come on mobile I can't proceed w/o entering a postcode at purchase. I'm from Ireland and I don't have a postcode just.\",\"neutral\",5,2],[\"@SouthwestAir yeah it happens. The PHX airport has extra long waits all spring long. Something locals know but tourist don't just FYI\",\"neutral\",0,2],[\"@AmericanAir well you spelled my name wrong.\",\"neutral\",2,2],[\"@JetBlue Hey! Check it out!! It's snowing in Boston. Who could have predicted such a thing?! http://t.co/ufyxXkIsa3\",\"neutral\",1,1],[\"@SouthwestAir So there were 134 early-bird check-ins, because I was told there were no flythroughs? Good flight, otherwise ~\",\"neutral\",4,2],[\"@JetBlue Im just saying change can be amazing, like Miami. \\ud83d\\ude09\",\"neutral\",1,1],[\"@SouthwestAir only 1 guest needs to change a flight on a reservation of 2. How can I do it? I NEED this to happen. Say it can...Please help!\",\"neutral\",4,2],[\"@AmericanAir why is it most first class passengers now request the sand which from coach ?\",\"neutral\",5,2],[\"@SouthwestAir fortunately didn't have to. The flight took off on time.\",\"neutral\",0,1],[\"@JetBlue no. come on.\",\"neutral\",1,2],[\"@SouthwestAir I never got my flight confirmation. I've been on hold for an hour and I can't get info online. What am I to do?\",\"neutral\",4,2],[\"@SouthwestAir Please bring back RDU to FLL direct route!  I noticed it is missing starting in Late Flight August!  The flights are always packed!\",\"neutral\",0,2],[\"@AmericanAir \\nThank you for responding...My laptop is in my bag and I need it for work. I am worried. The file code is UTEVGW.\",\"neutral\",5,2],[\"@AmericanAir we then had to deplane, and change planes.\",\"neutral\",1,2],[\"@USAirways @OBJ_3 even airlines are scheming to get a follow from OBJ LMAOOO \\ud83d\\ude02\\ud83d\\ude02\\ud83d\\ude02\\ud83d\\ude02\",\"neutral\",1,2],[\"@SouthwestAir better travel photos:\\nMy Kindle e-book Easy Tips guide http://t.co/7dM2J8H97M:\\nhttp://t.co/xeDeckGMW5 http://t.co/frGhglMkqF\",\"neutral\",0,1],[\"@JetBlue A month ago I had a flight booked but then had to Cancelled Flight it... I'm now Flight Booking Problems a separate flight for a different occasion.\",\"neutral\",4,2],[\"@SouthwestAir Thanks for reminding me about my upcoming trip to Florida but you really didn't need to... http://t.co/p6r5rt5Ow5\",\"neutral\",0,2],[\"@United Airlines' CEO Jeff Smisek: Disloyal to Loyal Workers http://t.co/0cevY3P42b via @HuffPostBiz\",\"neutral\",4,2],[\"@united ^JT is the ORD to PHL flight at 9:15 PM (CDT) delayed? DM I'm kinda hoping not to be stranded at ORD either.\",\"neutral\",4,2],[\"@AmericanAir your message was delayed I just responded\",\"neutral\",2,2],[\"@JetBlue I usually do-but I didn't make the Flight Booking Problems this time-that'll teach me! Yea I have that going for me at least haha\",\"neutral\",6,1],[\"@united how much does it cost to check in an additional bag? Traveling from newark to glasgow. Thank you :)\",\"neutral\",5,1],[\"@AmericanAir  Yes I do bit you don't follow me so I can't DM you\",\"neutral\",5,2],[\"@JetBlue ...and when did your legal department start running your social media channels?\",\"neutral\",1,2],[\"@SouthwestAir Thanks I get that. It looks like all BWI-SJD services stops after Aug 7. Is that the case? I cant find one date with flights.\",\"neutral\",0,2],[\"@united Thanks. Got it straightend out last night.\",\"neutral\",3,1],[\"@USAirways no problem...just funny have a nice day\",\"neutral\",6,1],[\"@JetBlue Guess I'll wait another 24 hrs in hopes rate goes down &amp; is more reasonable. Fingers crossed. Cutting it close to my travel dates.\",\"neutral\",4,2],[\"@united I filled out the form but I haven\\u2019t received any sort of email confirmation that it\\u2019s been received. Is that normal?\",\"neutral\",5,2],[\"@united please help! Left my iPad Air 2 on my flight from NYC to Paris yesterday and can\\u2019t get in touch with anyone locally. What to do?\",\"neutral\",4,2],[\"@AmericanAir I need some help. My record locator is bringing up TWO different flights in your system. One op by AA &amp; one from US Airways.\",\"neutral\",2,2],[\"@VirginAmerica @ladygaga @carrieunderwood Julie Andrews first but Lady Gaga wow'd me last night. Carrie? Meh.\",\"neutral\",5,1],[\"@SouthwestAir- ...was only less than 3500pts, but it helped. Had PartnerRewards incoming, but not fast enough to keep pts from expiring.\",\"neutral\",6,2],[\"@united Lindsay and ??.  Darn.  Terrible memory on my part.  I know they are headed back to IAD and then PIT tonight.\",\"neutral\",5,2],[\"@SouthwestAir @love_dragonss LAUREN IM SCREAKJMF\",\"neutral\",0,1],[\"@united, Understandable. I did try Flight Booking Problems several times for 2 passengers &amp; got the messages I mentioned before. As for the agents price???\",\"neutral\",5,2],[\"@SouthwestAir left behind iPad Air on flight 505 from Bradley to BWI, plane had already left by the time I realized. Can you possibly help?\",\"neutral\",4,2],[\"@AmericanAir Thank you, but I'll be Cancelled Flighting my return flight, as I've already rebooked with another airline so I can get home today.\",\"neutral\",4,2],[\"@united just kidding with you I'll send you my stuff now. Thanks\",\"neutral\",5,2],[\"@SouthwestAir check the head of the plane, there has been dynamite placed onto it\",\"neutral\",0,2],[\"@USAirways and @AmericanAir aren't as merged as the marketing departments would have us believe. Maybe @Delta or @united can get me home?\",\"neutral\",5,2],[\"@united Thank you, ^JH, appreciate the prompt responses--me and other passengers will be doing so.\",\"neutral\",3,1],[\"@united why de-ice before taxing? Maybe it #makestoomuchsense ? #shouldhaveflowndelta #unitedsucks @Delta @SouthwestAir @AmericanAir\",\"neutral\",4,2],[\"@USAirways thank you.\",\"neutral\",3,1],[\"@AmericanAir I've been trying to change frm AA 2401 to LAX at 6:50am MONDAY morning then AA 2586 from LAX to FAT to flight AA 1359?#helpAA\",\"neutral\",4,2],[\"@JetBlue finally! Finally!\",\"neutral\",1,1],[\"@SouthwestAir easy fix, let the business select actually board 1st, then board the pre-boards...\",\"neutral\",0,2],[\"@SouthwestAir how do get priority seating after you already paid for the flight\",\"neutral\",0,2],[\"@united Is there a direct number to call to request a refund?  Its telling me its not valid as I changed the ticket.  No number on site\",\"neutral\",5,2],[\"@JetBlue saving my sanity. Leaving it behind for sunshine. #escape #FL #bliss #travel #InDenial #WhatFrozenPipes http://t.co/6TtzEJV3hY\",\"neutral\",6,1],[\"@SouthwestAir So that's what happens when your power level goes over 9,000... feet in the air.\",\"neutral\",0,2],[\"@AmericanAir well I'm flying @JetBlue instead - for free! Their credits actually work.\",\"neutral\",6,1],[\"@USAirways tell reservations to rebook me from 5080 to 5129\",\"neutral\",5,2],[\"@AmericanAir Amazing to watch @chasefoster (who travels with celebs all over the world) show the youth of America who *not* to fly with.\",\"neutral\",4,1],[\"@JetBlue well mine sure aren't anything to write home about!\",\"neutral\",4,2],[\"@SouthwestAir Thanks! Will do\",\"neutral\",0,1],[\"@SouthwestAir @ClinicPolly \\nThank you-- I may have already responded but was 8UXZJ2\",\"neutral\",0,1],[\"@SouthwestAir #DestinationDragons iD is my favorite band and i met my 2bestfriends thanks to them! it would be life changing to see them!\",\"neutral\",0,1],[\"@AmericanAir where do I look for cabin crew vacancies?\",\"neutral\",2,2],[\"@JetBlue all up to date. Can't update via Google play.\",\"neutral\",1,2],[\"@AmericanAir but my friend was told she was able to use her credit with the airline towards one of my flights, then was told she couldn't.\",\"neutral\",4,2],[\"@united Okay, thank you both.\",\"neutral\",3,1],[\"@united it can't be delivered. It has to be held there for me to cross the border to pick up. Please don't try to deliver.\",\"neutral\",5,2],[\"@JetBlue Airline trouble this winter &amp; not getting good customer service? contact http://t.co/aQjn4HwNaC  we negotiate resolutions for You!\",\"neutral\",4,2],[\"@united leisure. Military personnel for safety reason R highly recommended to not travel in uniform\",\"neutral\",5,2],[\"@JetBlue so yesterday a flight I wanted to Chicago was on sale within my points range and today it isn't. Any way you guys can still honor\",\"neutral\",4,2],[\"@USAirways skys r sunny air is cold I can't wait to get to #CLT\",\"neutral\",6,1],[\"@SouthwestAir Already rebooked for tomorrow. Fingers crossed!\",\"neutral\",0,2],[\"@JetBlue try harder. Take a winners attitude to your work.\",\"neutral\",6,2],[\"@USAirways made it.. Never ran so fast in my life\",\"neutral\",5,1],[\"@JetBlue Port-Au-Prince, Haiti for continued food distribution, medical supplies, &amp; orphan care!  #flyingitforward http://t.co/fn2QXybT9K\",\"neutral\",1,1],[\"@JetBlue how can we get help with a hotel we booked with you and are having issues with.\",\"neutral\",4,2],[\"@JetBlue the fact that #ChrisHasMadeUsBLUSH isn't trending is how you know I'm loyal ;)\",\"neutral\",6,1],[\"@AmericanAir Still looking as we speak.\",\"neutral\",2,2],[\"@united all set. Figured it out at the baggage office!\",\"neutral\",1,1],[\"@SouthwestAir understand the weather, these kids need to get home! Nice kids doing volunteer work from a RI high school, please help\",\"neutral\",0,1],[\"@AmericanAir - keeping AA up in the Air! My crew chief cousin Alex Espinosa in DFW! http://t.co/0HXLNvZknP\",\"neutral\",2,1],[\"@united thanks. That means I have 30 minutes to make my international connection to HKG\",\"neutral\",3,1],[\"@JetBlue Gerne :)\",\"neutral\",1,1],[\"@united all day travel. #swag #ijustwanttosleep\",\"neutral\",5,2],[\"@USAirways  I need to email customer service for help and a question, can you please provide the email address?\",\"neutral\",5,2],[\"@SouthwestAir hey southwest! Help me find a flight from Nashville - Washington DC or Raleigh for under $150 on March 15 please!\",\"neutral\",0,2],[\"@united My post was just more of disappointment.  I'm a frequent United flyer, it was a simple ??.  1 bad apple doesn't spoil the bunch.\",\"neutral\",6,2],[\"@JetBlue should I check in my awesome bag on my flight or carry it on... Decisions...\",\"neutral\",1,2],[\"@VirginAmerica Dear Virgin customer, while you're stranded in SF for 3 days &amp; $1000cost- we'll do the very least we can to accommodate you!\",\"neutral\",5,2],[\"@JetBlue No, it's weird!! I picked other cities just to test, those worked...not the one I want. Works on phone though, so I'll use that.\",\"neutral\",4,2],[\"@AmericanAir this receipt doesn't show the evoucher value nor does it mention having used an evoucher\",\"neutral\",2,2],[\"@united can I get on a stand by list from ASE to ORD? I'm the only poor person in Aspen, that's why I'm asking for standby on twitter.\",\"neutral\",5,2],[\"@SouthwestAir I have been on hold for over 28 minutes  please help http://t.co/Fx9BIJlxAt\",\"neutral\",0,2],[\"@SouthwestAir @love_dragonss AHHHH YES LAUREN\",\"neutral\",0,1],[\"@united @staralliance Very nice at LHR, congrats, but I'm sticking with AA/#BA. @AmericanAir @British_Airways\",\"neutral\",6,1],[\"@AmericanAir we're all being told by emergency services to stay home for the next 24-48 hours.\",\"neutral\",5,2],[\"\\u201c@united: @ItsAaronChriz Sorry to hear about your flight. Do you need help reFlight Booking Problems?\\u201d\\n\\n\\ud83d\\udc4e\",\"neutral\",4,2],[\"@SouthwestAir to the rescue. Sundown in Chicago. Next stop San Antonio! http://t.co/rQBpmwETtq\",\"neutral\",0,1],[\"@united Some 3rd party service known as EZEE flights. A man, who confirmed he was born in India, told me his name was Steve Wilson.\",\"neutral\",5,2],[\"@AmericanAir I've tried...its @USAirways anyway\",\"neutral\",2,2],[\".@VirginAmerica If only you guys were starting those flights at the end of the month! Guess I\\u2019m still road tripping on Feb 27\\u2026\",\"neutral\",4,2],[\"@united I have such a love hate relationship with you. Some days you're good, the others you are so terribly awful its saddening\",\"neutral\",6,2],[\"@VirginAmerica Really missed a prime opportunity for Men Without Hats parody, there. https://t.co/mWpG7grEZP\",\"neutral\",5,2],[\"\\u201c@JetBlue: Our fleet's on fleek. http://t.co/BBM6PAbORt\\u201d &lt;&lt;Now THAT is fuckin funny. \\ud83d\\ude02\",\"neutral\",1,2],[\"@JetBlue this feels nice - what we've got going on here. Let's just swap me out with the fool in 5a and we can make it all better.\",\"neutral\",6,1],[\"@AmericanAir We've sent you more info via DM.  I truly hope you resolve this very quickly. #media #filmcrew #cnn #nbc\",\"neutral\",5,2],[\"YO! @InternJohnRadio @mrerickv  give @SouthwestAir their plane back.  They're mad &amp; threatening to take away my Companion Pass. #Luv\",\"neutral\",4,2],[\"@SouthwestAir live in Atlanta but cant enroll in your Atlanta companion promotion. Error every time. Can you help? Also sent email. Thanks!\",\"neutral\",0,2],[\"@JetBlue Just signed up for TrueBlue and booked a flight but keep getting an error when I try to link it to my TB account. What's the deal?\",\"neutral\",4,2],[\"@JetBlue lol the fleet on fleek... i see yall ballin... new jets on deck..\",\"neutral\",1,1],[\"@united you'll be hearing from me for sure.\",\"neutral\",3,2],[\"@united Cancelled Flighting. bought a ticket for a friend but cant get the credit under my name\",\"neutral\",4,2],[\"@united actually we did not consider she might have made a mistake. She did not complain beyond that she indicated it on her reservation.\",\"neutral\",6,2],[\"@AmericanAir thanks!\",\"neutral\",2,1],[\"@JetBlue my mom always said to never settle. If your chips ain't blue, you just won't do.\",\"neutral\",4,2],[\"@united any chance flight 3745 is being delayed??  nervous about driving to DFW in this weather to drop off my brother\",\"neutral\",4,2],[\"@united You please do not burn my dreams !!!  #burningman tickets sales today.\",\"neutral\",5,2],[\"@united Hi guys. I submitted a request for ticket/hotel reimbursement for a delayed/over night stay coming back from the Dominican. Help?\",\"neutral\",5,2],[\"@USAirways that is certainly not the impression she's under.\",\"neutral\",5,2],[\"@AmericanAir basically u right now http://t.co/IN24Bpb7dw\",\"neutral\",2,2],[\"@SouthwestAir Can someone rebook me? Please direct message me.\",\"neutral\",0,2],[\"@AmericanAir the Late Flightst usair4603. Earlier 4591\",\"neutral\",1,2],[\"@AmericanAir just downloaded the app for iPhone.  Notice drink coupon but nothing is displayed?  Getting ready to fly...\",\"neutral\",4,2],[\"@JetBlue  I'm game if you're buying!!  ;)\",\"neutral\",1,1],[\"@united fails again. @SouthwestAir saves the day.\",\"neutral\",0,2],[\"@SouthwestAir 8FKQW is the conf #. Thanks for the reply\",\"neutral\",0,1],[\"@SouthwestAir Is it a temporary site glitch or are you no longer offering flights from GRR to GEG after Feb? Can't find any online :(\",\"neutral\",4,2],[\"@united flight to DFW from IAD Cancelled Flightled for mechanical can I get rental car to MDT-my origin\",\"neutral\",4,2],[\"@SouthwestAir I've never met my favorite band and it would be sooo amazing to win destination dragons.\",\"neutral\",0,1],[\"@JetBlue everyone is overreacting. Keep up your swag!\",\"neutral\",1,2],[\"@united I sent in my feedback.  Thank you.\",\"neutral\",3,1],[\"@VirginAmerica is helping me step up my @Tinder game! #TinderTips #tinderchamp http://t.co/jBmVVha63A\",\"neutral\",5,1],[\"@AmericanAir no not yet. Waiting to be connected to an agent\",\"neutral\",2,2],[\"@united booked award tix on ThaiAirways but I'm not seeing a conf# for them, just the United Flight Booking Problems#. Can you get get the Thai# for me?\",\"neutral\",4,2],[\"@SouthwestAir Barzegar charges tourists 700 euros [!] a night for their stay in the tent village he runs. http://t.co/igSVzvrbbN\",\"neutral\",0,2],[\"@SouthwestAir @love_dragonss LAUREN HoLY SHT\",\"neutral\",0,1],[\"@USAirways it's vegas baby who doesn't have a good time in vegas lol\",\"neutral\",4,2],[\"@JetBlue the you above all commercials? Like the legroom one\",\"neutral\",1,1],[\"@USAirways we even offered to fly in to another airport and they said they couldn't do that. No explanation why they can't.\",\"neutral\",4,2],[\"@JetBlue thanks anyways @SouthwestAir has my back! Awesome rate &amp; amazing customer service #nomoreaggravation\",\"neutral\",0,1],[\"@united thank you!!!!! And next flight to Durango then driving to Farmington New Mexico for work! But hitting the slopes in Durango!\",\"neutral\",6,1],[\"@SouthwestAir Any way you can help with entry to Vegas event? My Boyfriend &amp; I have been @Imaginedragons fans since 2009. They are awesome!\",\"neutral\",0,1],[\"@SouthwestAir question all.  When will I receive my yearly bonus point accumulation? I think it's around now but not sure.  Thanks! :)\",\"neutral\",0,1],[\"@JetBlue I hear you and safety is #1! I think we can get to JFK though now so let's help the pilots, passengers &amp; crew get there safely!\",\"neutral\",6,1],[\"@SouthwestAir aren't you based in Chicago? Why are you doing a hunt in LA and not your home city????!! Please bring one home\",\"neutral\",0,2],[\"@SouthwestAir #Vegas I was there 5 days ago. Miss the  Warm Weather\",\"neutral\",0,2],[\"@SouthwestAir  flying Southwest for the first time to LGA with a layover in Atlanta!\",\"neutral\",0,1],[\"@JetBlue deal!\",\"neutral\",1,1],[\"@united I am going to a service desk now to see what the options are.\",\"neutral\",5,2],[\"@SouthwestAir Thank you. The email about RR pts &amp; how to gain more wasn't clear so all of mine r gone. Anything u can do is appreciated.\",\"neutral\",0,2],[\"@AmericanAir DM sent. Answer me please\",\"neutral\",2,2],[\"@SouthwestAir companion pass please!\",\"neutral\",0,1],[\"@AmericanAir online flight notification is down.\",\"neutral\",4,2],[\"@southwestair TREMENDOUS job. Atlanta Airport saw SW celebrate Mardi Gras. Another reason I'm nuts for you guys! http://t.co/8WBzOrRn3C\",\"neutral\",0,1],[\"@AmericanAir Please help AA 2258 Monday Cancelled Flightled.  Can you advise on reFlight Booking Problems / refund.  Have children and need to make plans now\",\"neutral\",4,2],[\"@united this is for a check-in luggage. Employee told me not to include wheels in the dimensions.\",\"neutral\",5,2],[\"@united Currently on standby to Lax then it is a 2 hour ride to Palm Springs. Long day starting at a snowy 3:30 am in philly.\",\"neutral\",4,2],[\"@USAirways sorry, we are in Philly. Should've told you that.\",\"neutral\",5,2],[\"@VirginAmerica Debbie Baldwin gave a #rockstar performance of the safety demo this evening on VX919 #LAS2SFO #BestCrew #SheRocks\",\"neutral\",5,1],[\"Who did this?!?!\\u201c@JetBlue: Our fleet's on fleek. http://t.co/kHZrCCyp2A\\u201d\",\"neutral\",1,2],[\"@AmericanAir I hear #Delta is offering 2,500 miles to frequent flyers if their bags doesn't come out within 20 minutes of landing thoughts?\",\"neutral\",4,2],[\"@united it's done.  If you do something to make up for it I'll tweet that too.\",\"neutral\",3,1],[\"@SouthwestAir Thank you!\",\"neutral\",0,1],[\"@SouthwestAir I would love to go to the #DestinationDragons @ImagineDragons show tomorrow in Utah at @VelourLive! I've been trying so hard.\",\"neutral\",0,1],[\"@USAirways sure did. I have carried this bag on numerous times on the same style plane. Planning accordingly apparently accounts for nothing\",\"neutral\",6,2],[\"@JetBlue many thanks, as always your employees are professional and courteous. Whenever I have the option, you are my go-to airlines.\",\"neutral\",6,1],[\"@SouthwestAir CEO Gary Kelly, \\\"You all are absolutely my heroes!\\\" #SouthwestRally #BWI #bestemployees #swaculture http://t.co/JTxyHQHfJJ\",\"neutral\",0,1],[\"@USAirways Y'all need to get it together\",\"neutral\",3,2],[\"@JetBlue I would go to Dallas to see my grand baby that I miss so much. I feel like a piece of my heart is there.\",\"neutral\",6,1],[\"@SouthwestAir OMG OMG OMG !!! I JUST DID!!\",\"neutral\",0,1],[\"@USAirways @GregWallace66 Yea, they will give you 5 cents on the dollar!\",\"neutral\",5,2],[\"@AmericanAir Can I use an SWU on an Finnair codeshare of an American operated flight (JFK-MAN)?  Thanks in advance for the help!\",\"neutral\",6,1],[\"@united Just got interrogated at the United Club Chicago. #UnitedAirlines #rude #PoorForm\",\"neutral\",5,2],[\"@USAirways Thank you, although we're using our miles from our card and Flight Booking Problems companion tickets which can only be booked over the phone.\",\"neutral\",6,2],[\"@JetBlue Think about it...boarding to a chill untz untz untz....like this http://t.co/lj2lARivE0...\",\"neutral\",1,2],[\"@SouthwestAir I'm trying to get home to Nashville. I've been stuck in Dallas 2 days will my flight get out in the morning\",\"neutral\",4,2],[\"@USAirways http://t.co/AXRYeIWzh0, vuelo24.es, vuelos24.es sell too cheap MAD-NYC with USAirways. Are they trusted webs or is it a scam?\",\"neutral\",5,2],[\"@united 129 thousand fans of @JedediahBila are asking you to give her your utmost effort to get her a safe flight with her baggage soon!\",\"neutral\",6,2],[\"@AmericanAir  hung up on now many times trying to cal 8004337300 crazy\",\"neutral\",2,2],[\"@united your flights are really cheap what's the catch\",\"neutral\",6,2],[\"@Jetblue I'm so sorry I cheated on you with @Delta @DeltaAssist. Please take me back. I wore protection.\",\"neutral\",6,2],[\"@JetBlue I would like to communicate directly with a \\\"Customer Experience\\\" executive. Does Joanna Geraghty have an email address?\",\"negative\",1,0],[\"@united Would be helpful if you could refresh boarding time info on boarding passes for delayed flights\",\"negative\",5,0],[\"@JetBlue 117 days maybe.\",\"negative\",1,0],[\"@AmericanAir work would be much better with my lesson plans and music for my classes today.\",\"negative\",2,0],[\"@JetBlue I'll give u a chance but I don't think I'll fall for it #backtodelta\",\"negative\",1,0],[\"@SouthwestAir would be great if I atleast was next to my husband who is flying in the same reservation\",\"negative\",0,0],[\"@SouthwestAir same here. Would appreciate a follow so I can DM my info to figure out what I am supposed to do.\",\"negative\",0,0],[\"@united Case ID 8544484\",\"negative\",5,0],[\"@AmericanAir having trouble Flight Booking Problems a seat on US84 11 March, operated by AA. Neither airline's website will allow seat selection?\",\"negative\",4,0],[\"@AmericanAir Thanks - I note some, but not all, flights are Cancelled Flightled - are only some aircraft/runways working out of DFW today/tomorrow?\",\"negative\",1,0],[\"@SouthwestAir flight # 317\",\"negative\",0,0],[\"@SouthwestAir discount for three delays?\",\"negative\",0,0],[\"@united Your ERI-ORD express connections are hugely popular .. now if only we could have an ERI-EWR hop! :)\",\"negative\",3,1],[\"@AmericanAir Hello, question, How many balloons do you think it will take to life up one of your planes?\",\"negative\",1,0],[\"Well lets see.  You could pay for my Negroni with bitcoin. @JetBlue\",\"negative\",1,0],[\"@AmericanAir flight was 2488 out of EWR STOP AT DALLAS THEN TO LA. I need to be in la tonight!\",\"negative\",1,0],[\"@AmericanAir Hey AA, a suggestion: Note on your seat maps what seats have electronics box blocking legroom. AA215 http://t.co/hcNN0wXQQr\",\"negative\",2,0],[\"@USAirways I love how just to give feedback to this link I have to fill out all my personal info on a form.  You guys are the best :)\",\"negative\",6,1],[\"@JetBlue @philpete wonder if that's the pilot tweeting you back? Is it legal to tweet and fly? What if the plane in front stops suddenly?\",\"negative\",1,0],[\"@united I'm asking if you can simplify the communications- thx\",\"negative\",3,0],[\"@united Donna and Juan still the best in the United Club_ too bad UAL does not get it\",\"negative\",6,1],[\"@SouthwestAir hooking us up and getting us to Tampa after our flight was Cancelled Flightled this morning #grateful #businesstrip\",\"negative\",0,1],[\"@SouthwestAir can i have my bags back   ding!!\",\"negative\",0,0],[\"@USAirways I do to as I have an afternoon Conference in Las Vegas and I would rather plan ahead than run thru the airport and then attempt\",\"negative\",4,0],[\"@JetBlue does transferring trueblue points within family pooling members cost $? This is after having set up contribution-to-pool already.\",\"negative\",1,0],[\"@SouthwestAir my rating for Southwest -9 on s scale of 1 to 10\",\"negative\",0,0],[\"@united Anyone there? Did you read my DM?\",\"negative\",3,0],[\"@united I think DM would be better\",\"negative\",3,0],[\"@AmericanAir for tomorrow some sites show flight 1642 from ewr Cancelled Flightled, is it?\",\"negative\",4,0],[\"@AmericanAir how do I see your report team?\",\"negative\",2,0],[\"@JetBlue Good perspective. If only this safety concern had been expressed at some point before I arrived at the airport. #communicationiskey\",\"negative\",6,1],[\"@SouthwestAir I'm in line at the airport right now. Will you cover hotel fair or am I to sleep in the airport?\",\"negative\",0,0],[\"@USAirways transferred 4x pleeeeeeeease help!\",\"negative\",5,0],[\"@SouthwestAir y airline I fly with, but haven't seen anything like this yet!\",\"negative\",0,0],[\"@united my plane sounds like  a DJ  scratching is this normal? If so, will this eventually be a new entertainment fee.\",\"negative\",6,0],[\"@SouthwestAir wifi stays connected about the lifetime of a higgs boson\",\"negative\",0,0],[\"@AmericanAir on Feb. 15th your rep gave me the record locator and told me I'd be receiving an email with the itinerary and confirmation.\",\"negative\",2,0],[\"@united thank you for the reply. I emailed your customer care department about my experience.\",\"negative\",3,1],[\"@AmericanAir well done, you have taken the fun out of air travel @PHLAirport\",\"negative\",6,1],[\"@united let me assure you my travel time is 4h2m not 5h2m #timezones #accuratetraveltimes #3rdtimethishashappened http://t.co/e0C9bI09cf\",\"negative\",5,0],[\"@USAirways I don't think I've ever had a us airways flight that went smoothly.\",\"negative\",4,1],[\"@united Thank you. Yes, I was hoping to speak with someone directly, but appreciate the link nonetheless. :)\",\"negative\",3,1],[\"@JetBlue flight was two days ago. Flight 1918 from POS.\",\"negative\",1,0],[\"@JetBlue  hmmm it says im following you. We just got de-iced, but still haning around for the runway to clear..\",\"negative\",1,0],[\"\\u201c@united: @RobCNYC See information on our boarding process: http://t.co/gBIw9ugFNm ^KP\\u201d. I get group 1&amp;2. Just no reason on 3/5.\",\"negative\",5,0],[\"@JetBlue after boarding flight 0510, the captain informs that he could exceed the16 hrs regulation and turned the plane around. Incredible!\",\"negative\",1,1],[\"@united what if business as usual meant dropping the bully mentality and fostering inspiration for a greater business #EmployeeRelations\",\"negative\",6,0],[\"@united when I read it say ' in some cases' can you please define this for me, when for example would it not be the case?\",\"negative\",5,0],[\"@JetBlue \\nApparently not.\",\"negative\",1,0],[\"@USAirways Already tried. How about Conf # via DM\",\"negative\",5,0],[\"@USAirways booked an award ticket recently, now same ticket is less miles. how do I contact you without using the online form or phone?\",\"negative\",5,0],[\"@USAirways comin in clutch and sending me to Charlotte then home, I h8 u @AmericanAir, except for Wayne u a real g #ThankJesus #ThankMe\",\"negative\",5,1],[\"@USAirways are the bags off Flight 1898 CLT to JFK? We landed last night just before midnight.\",\"negative\",4,0],[\"@JetBlue where is the \\\"award winning service\\\"?\",\"negative\",1,0],[\"@JetBlue just called that number and left message. Are you at to pass along message to team too?\",\"negative\",1,0],[\"@usairways  US1799 CLT-&gt;SFO in first no desert, no snack basket. Incoming was on time ? What\\u2019s up?\",\"negative\",5,0],[\"@USAirways your saving grace was our flight attendant Dallas who was amazing. wish he would transfer to Delta where I would see him again\",\"negative\",6,1],[\"@VirginAmerica you're the best!! Whenever I (begrudgingly) use any other airline I'm delayed and Late Flight :(\",\"negative\",4,1],[\"@united \\u2026 But friendly efficient air attendants in coach #UA992 http://t.co/49pV3KcHNR\",\"negative\",6,1],[\"@JetBlue where exactly can I leave a note\",\"negative\",1,0],[\"@SouthwestAir it'd be nice if I could get an answer, even a simple \\\"no\\\" would do; I just want to know. :)\",\"negative\",0,0],[\"Sir. RT @JetBlue: Our fleet's on fleek. http://t.co/F5IXyw8XyB\",\"negative\",1,0],[\"@SouthwestAir is main supporter of play where Jesus is portrayed as homosexual partner of Judas and who performs a \\u201cgay wedding\\u201d #boycott\",\"negative\",5,0],[\"@SouthwestAir I left my iPad on my flight 1831 from ERW to DEN. I opened claim 442998. It has so many memories on it. Plz help get it back.\",\"negative\",4,0],[\"@united yes, after landing at 930pm last night. Spoke to 10 baggage claim customer service reps. Finally spoke to one amazing ticket agent.\",\"negative\",6,1],[\"See what you started now @nytimes RT @JetBlue: Our fleet's on fleek. http://t.co/atd2Sm8HF4\",\"negative\",1,0],[\"@JetBlue is JFK still closed? Tryna get out of Ft Lauderdale on flight 502, just want to get home to nyc!\",\"negative\",4,0],[\"@USairways E190 lands without nose gear in Houston - @Flightglobal http://t.co/Yf9NhMwyFF\",\"negative\",1,0],[\"@USAirways How do I get through?\",\"negative\",5,0],[\"@SouthwestAir  Glad to see you know how to keep the money in your own pockets. 'Thanks' for the voucher in return for lost bag.\",\"negative\",6,1],[\"@united I would like your baggage damage number as well! Another great thing from your 'trained' staff! Whats the number please.. Claim time\",\"negative\",6,1],[\"@AmericanAir first the pilot, then the catering...\",\"negative\",1,0],[\"@AmericanAir Weather was not involved.\",\"negative\",2,0],[\"@SouthwestAir When will your phone agents be able to give the correct departure times for CUN? When can we checkin online for international?\",\"negative\",0,0],[\"@AmericanAir  when do you anticipate decisions for Cancelled Flightlations at DFW tomorrow morning? Need to rearrange hotel reservations, etc. ASAP!\",\"negative\",4,0],[\"Jet BOOOO \\ud83c\\udf45\\ud83c\\udf45\\ud83c\\udf45\\ud83c\\udf45 RT @JetBlue: Our fleet's on fleek. http://t.co/0WbJAWx7xD\",\"negative\",1,0],[\"@USAirways lol thanks to you we had to switch to American http://t.co/Sl6BDRXfN8\",\"negative\",5,1],[\"@SouthwestAir you do a great job of achieving that at most cities, just not at BWI.\",\"negative\",0,1],[\"@USAirways @united really know how to leave someone stranded after a funeral. Props to you guys. Really making this the perfect Monday.\",\"negative\",6,1],[\"@united GRK13575M is the file reference\",\"negative\",5,0],[\"@JetBlue walked from the gate to the just ask desk by gate 1 http://t.co/p6ucbVlv5E\",\"negative\",1,0],[\"@USAirways not too impressed with your airlines but I would feel a lot better flying with if you upgraded me up to first class tomorrow\",\"negative\",6,1],[\"Stop the madness \\\"@JetBlue: Our fleet's on fleek. http://t.co/Q5a7jtkI5K\\u201d\",\"negative\",1,0],[\"@united thank you for leaving my bag in houston! despite what your system says, i was definitely on the flight!\",\"negative\",6,1],[\"@USAirways right, can you use a shuttle ticket from LGA to BOS for any shuttle flight? Probably gonna miss the 4pm.\",\"negative\",4,0],[\"@JetBlue It's not ideal, but it's okay. Better Late Flight than never! :)\",\"negative\",6,1],[\"@united feck guys. Stop Cancelled Flightling flights from EWR to RIC the weather is fine I both locations!!!\",\"negative\",6,1],[\"@SouthwestAir how it feels on flight 4251 http://t.co/JM8gQ1KGrF\",\"negative\",0,0],[\"@united is probably the least satisfactory airline I've ever been on. Never fails to disappoint.\",\"negative\",6,1],[\"@VirginAmerica soooo are you guys going to leave the seatbelt light on all flight? You can barely call this turbulence :-)\",\"negative\",4,0],[\"@SouthwestAir thx but I'll be expecting a credit for this leg.\",\"negative\",0,0],[\"@united I can't tell/purchase through the website because they put us on a Lufthansa flight for the first leg.\",\"negative\",4,0],[\"@united The bright side would be keeping the promise that was made to me. Hope you're having a good night. Thanks.\",\"negative\",3,1],[\"@united #Newarkliberty Airport need to indicate different gate#'s for terminals A&amp;C. #Flyingainteasy\",\"negative\",1,0],[\"@SouthwestAir Hello remaining credits on your account will be refunded back to your credit card, when you choose a lower price flight?\",\"negative\",0,0],[\"@United the internet is a great thing.  I am emailing executives in your company, maybe they will respond to me in a timely manner.\",\"negative\",6,1],[\"@JetBlue your gif game is strong.\",\"negative\",1,1],[\"@JetBlue ticket issued whilst delivering your customers.\",\"negative\",1,0],[\"@USAirways No thank you. @AmericanAir was responsive &amp; I found alternate travel home.\",\"negative\",2,1],[\"@usairways Ok thank you\\u2026I call from Spain to US for seating assistance!\",\"negative\",6,1],[\"@JetBlue thank you! Hopefully it's soon! We are supposed to leave at 11:23\",\"negative\",1,1],[\"@USAirways do families no longer get early boarding with young kids?  American, your new parent, gives it to us...\",\"negative\",5,0],[\"@united Can you transfer my bags too?\",\"negative\",5,0],[\"@SouthwestAir @LeeAnnHealey I was all, yeah sale fares! I got places to fly! Oh damn, right, I live where SWA doesn't fly. #why\",\"negative\",0,0],[\"@VirginAmerica When will VX use all 6 LGA slots instead of 4 today? Adding AUS makes this less likely :(\",\"negative\",5,0],[\"@SouthwestAir could I get a phone call from a customer service rep to get the issue resolved?\",\"negative\",0,0],[\"@united We're hoping to hear from you actually.\",\"negative\",3,0],[\"@united this is in ur Hemispheres magazine. I'm open to what will u do to make the \\\"flight more pleasant.\\\" http://t.co/VrQDpqEPFW\",\"negative\",1,0],[\"@united it will be on a different airline.\",\"negative\",4,0],[\"@united send someone to the customer service counter in person. DIA concourse B across from gate B36a.\",\"negative\",5,0],[\"@SouthwestAir do these scavenger hunt  locations have anything in common because I'm playing detective trying to figure out the one for ATL.\",\"negative\",0,0],[\"@VirginAmerica I requested a mileage challenge for status several weeks ago online but haven't heard back. How do I get help with this?\",\"negative\",5,0],[\"@USAirways Just to follow up here is my experience: http://t.co/WJIiGZtiwg\",\"negative\",5,0],[\"@SouthwestAir I would die if I got tickets to #DestinationDragons and you would be invited to my funeral\",\"negative\",0,0],[\"@AmericanAir The wine served in USAirways flights are watered down somehow right out of the bottles.\",\"negative\",6,1],[\"@usairways if you could change your name to @southwestair and do what they do...that'd be awesome. Also this plane smells like onion rings.\",\"negative\",0,1],[\"@united thanks for updating me about the 1+ hour delay the exact second I got to ATL. \\ud83d\\ude45\\ud83d\\ude45\\ud83d\\ude45\",\"positive\",5,2],[\"@united all goods, I'll call tomorrow, thanks.\",\"positive\",3,0],[\"@JetBlue it's been a while since I've angry tweeted an airline. Apparently you read my mind before I could bitch. Thank you for the credit.\",\"positive\",6,2],[\"@SouthwestAir Luvin me some flights today!! Don't change!!  And please add Paypal as payment option!!!\",\"positive\",0,0],[\"@united private jet would have been cool! Do does not work. I'll try again\",\"positive\",4,2],[\"@VirginAmerica For my Grandma Ella's 80th, she would &lt;3 a bday greeting from your flight crew! She was a stewardess for Eastern Airlines.\",\"positive\",4,0],[\"@JetBlue if I had my tux, it'd be a date! #UMosaicMeCrazy http://t.co/hap4gboSTU\",\"positive\",1,0],[\"@virginamerica Well, I didn't\\u2026but NOW I DO! :-D\",\"positive\",5,0],[\"@united On the plane but thanks! Maybe don't let so many people check in by themselves - teeming with morons.\",\"positive\",6,2],[\"@USAirways - Huge props to Parizad at checkin in Sacramento for her help on Friday to get 3 of us home when other airlines were delayed\",\"positive\",4,2],[\"@united thank you. Been trying for two days to set this up.\",\"positive\",3,2],[\"@united :take note of this great example of @JetBlue actually making good for an extremely inconvenient situation. http://t.co/t3Gnk2N7LD\",\"positive\",1,2],[\"@AmericanAir Thanks gang! Mind if I ask, do you handle all of your Social Media in house?\",\"positive\",2,0],[\"@JetBlue heading to Buffalo... trading the cold in Boston for colder in Buffalo... Maybe the Caribbean next time?\",\"positive\",1,0],[\"@united stay warm - I will be passing through Chicago next week\",\"positive\",2,0],[\"@JetBlue Thanks for taking me back home today despite Pandora's best efforts to Cancelled Flight the flight. #jetblue #backhome #noplacelikehome\",\"positive\",4,2],[\"Why \\u201c@JetBlue: Our fleet's on fleek. http://t.co/a7NvbJ8ipx\\u201d\",\"positive\",1,0],[\"@united But thanks for asking\",\"positive\",3,0],[\"@SouthwestAir save mile to visit family in 2015 and this will impact how many times I can see my mother.  I planned and you change the rules\",\"positive\",4,2],[\"Stop. Please. RT @JetBlue: Our fleet's on fleek. http://t.co/EUl6sDURbU\",\"positive\",1,2],[\"@JetBlue to offer service from Daytona Beach to New York - Albany Business Review http://t.co/dUhBJ41jHx\",\"positive\",1,0],[\"@AmericanAir  thanks hoping that by wed I can get back to DFW\",\"positive\",2,0],[\"@AmericanAir I was happy to purchase the upgrade. If only it was avail on my next flight.\",\"positive\",6,2],[\"@AmericanAir would also like say kind move on adding the points !\",\"positive\",2,0],[\"@united Club in Denver is dope \\ud83d\\udc4c\",\"positive\",3,0],[\"@USAirways #tbt every day.\",\"positive\",5,2],[\"@united be  \\\"Chicago's hometown airline\\\" care about your neighbors #SaveTheDiagonals #FlyQuiet #ORDNoise\",\"positive\",6,0],[\"@JetBlue things happen it's ok just wish I was on the beach and not in the airport\",\"positive\",6,0],[\"@JetBlue totally would have.... but the outside view was even more camera ready haha #EvenMoreSpace #EvenMoreView http://t.co/dXuX6DBfd3\",\"positive\",1,2],[\"@SouthwestAir thanks do yall expect to be operational tomorrow out of Nashville?\",\"positive\",0,0],[\"@united yes, Thx! At 10:35 (landed at 9:20).\",\"positive\",3,0],[\"@JetBlue flight to Orlando is unable to serve hot bevies.... So they've made movies and alcohol complimentary. That works\",\"positive\",6,2],[\"@SouthwestAir me &amp; @sammi_jon3s are best friends because of @Imaginedragons. Any chance we could get tickets to #DestinationDragons ?\",\"positive\",0,0],[\"@united thanks for not getting my BusinessFirst priority tagged bag onto my connecting flight at EWR despite a 2+ hour layover. Nice job\",\"positive\",6,2],[\"@VirginAmerica I luv ur people and product! 1 thing is y do u charge for herbal tea but not black tea? I'm not a caffeine drinker\",\"positive\",5,0],[\"@USAirways @AmericanAir Can you bring guinea pigs in small pet carrier onboard your flights?\",\"positive\",5,0],[\"@AmericanAir thanks for the recommendation. We've been sitting here for 45 minutes, last update was 35 min ago.\",\"positive\",2,2],[\"@USAirways TYVM USAir, Happy Night@ &lt;3\",\"positive\",5,0],[\"@USAirways customer service at its finest\",\"positive\",6,2],[\"@united Sure did! Only waited about 15min. Yay!\",\"positive\",5,2],[\"@JetBlue sooo earlier i said i couldnt fly with you for my school trip but now i can! \\ud83d\\ude0f\",\"positive\",4,0],[\"@united kudos for not Cancelled Flightling flights from DFW this morning.   United usually first to panic...\",\"positive\",4,2],[\"@SouthwestAir beyond ready\",\"positive\",0,0],[\"@united Thanks for explanation. It seems like an odd incentive structure, tho, because it dramatically diminishes the value of the certs.\",\"positive\",6,2],[\"@united After an hour+ wait, my issue is resolved. I did contact customer service to comment on the wait time. Thanks for contacting me.\",\"positive\",6,2],[\"@AmericanAir @USAirways Statement wasn't sent yesterday like Jeanine said. After I even called last night as well. Again, excellent service\",\"positive\",5,2],[\"@USAirways we haven't departed yet so let's not get too high hopes.  But everything has been on schedule so far\",\"positive\",5,2],[\"@united thx off the response, finally got through the 45 min wait and talked to someone.\",\"positive\",5,2],[\"What can I say other than when it comes to my #BrandLoveAffair w/ @jetblue ur my #soulandinspiration https://t.co/IGkoGyWksr #umosaicmecrazy\",\"positive\",1,0],[\"@united that would help! or how about integrate it into the App so I can just \\\"activate\\\" it and surf...\",\"positive\",3,0],[\"\\u201c@JetBlue: Our fleet's on fleek. http://t.co/3kVkd8yRxa\\u201d + lol wow\",\"positive\",1,0],[\"@USAirways sitting on a plane in Philadelphia for over 20 minutes waiting just to get off the plane. Great service!\",\"positive\",4,2],[\"@united will do. Just need to get CVG.... and my bag too. Thanks\",\"positive\",3,0],[\"@USAirways thanks.  If you have another method also that would be nice.  Appears to be a design flaw\",\"positive\",6,0],[\"@SouthwestAir can i get tiks for #DestinationDragons omg id love to! Plz \\ud83d\\ude31\\u2764\\ufe0fim dying\",\"positive\",0,0],[\"@JetBlue is amazing. Had a short delay. They gave me $150 credit! It was literally pretty much my fault I missed the flight.\",\"positive\",6,2],[\"@united landing in anchorage, then on our way to fairbanks! http://t.co/FjkvQMbmaS\",\"positive\",1,0],[\"@united all good man it isn't your fault that plane is having maintenance issues\",\"positive\",6,2],[\"@united Resolved. Over hour of work on  ground &amp; somehow the system reset itself during takeoff. I appreciate the quick response/service.\",\"positive\",6,2],[\"@united this is why I fly @SouthwestAir ... Never have any issues\",\"positive\",0,2],[\"LMAO \\u201c@JetBlue: Our fleet's on fleek. http://t.co/aIyC9WV5oq\\u201d\",\"positive\",1,0],[\"@VirginAmerica just promoting the product is all, had a problem with southwest and recommend noneother than the best! http://t.co/tFaNXBh1Cf\",\"positive\",0,2],[\"@united The DEN b44 agent (9:30am) was amazing. The MPAgent at check in? She sucks. @seanMFmadden @PeterStraubMMA @jmercadoMMA @TonySimsMMA\",\"positive\",5,2],[\"@JetBlue my email is my twitter handle followed by gmail \\u263a\\ud83d\\udc4d\\ud83d\\udc4d\",\"positive\",1,0],[\"@United, will you fill it? Yes they will. Thanks! #BringYourOwn, @kleankanteen http://t.co/daaa0rqBXW\",\"positive\",3,0],[\"@SouthwestAir so excited about our last minute trip to @Disneyland (and she doesn't know yet!) http://t.co/nKAFbjyARi\",\"positive\",0,0],[\"@USairways Since I am a loyal USAir customer I am sure that they will make this up to me-right now I want to get home &amp; back to work.\",\"positive\",6,2],[\"@AmericanAir oh it's nothing my issue was already resolved and I am in the air\",\"positive\",2,2],[\"@AmericanAir ...have you seen Blue? Go look it up :)\",\"positive\",2,0],[\"@JetBlue Thanks. Still booked our trip 3/13-17 LB to SLC to see grand kids.  Just very frustrating. Tried app, web, etc. Still love u guys!\",\"positive\",6,2],[\"@SouthwestAir I will do just about anything tO GO TO THE VEGAS SHOW PLEASE MAN\",\"positive\",0,0],[\"@AmericanAir None of the #LAX flights into #DFW have been Cancelled Flightled. Those landing before and after ours are fine. Completely arbitrary.\",\"positive\",6,2],[\"@united so is that two seats avail so far for us.\",\"positive\",3,2],[\"@AmericanAir shoutout to the agent on duty now @ Gate B1 #ABQ / outstanding customer service w delayed FLT 336 http://t.co/OoEJ4d4JoP\",\"positive\",5,2],[\"@united 441, which also had 1 working WC in coach. Good thing this bird landed ahead of schedule. I have to use the WC stat.\",\"positive\",6,2],[\"@USAirways we will...sunday! Just a few days away\",\"positive\",5,0],[\"@VirginAmerica you will match my #AmericanAirlines status? Cool!\",\"positive\",2,0],[\"@USAirways thx 4 replying. After trying 2 get thru many times, &amp; v-mail or people hanging up on, us we talked 2 tech...cont'd\",\"positive\",5,2],[\"@USAirways over the phone. I called the 6170 number and she picked up almost immediately.\",\"positive\",5,0],[\"@USAirways - Janet &amp; my DEN-PHL  flight Cancelled Flightled Saturday, USAIR rescheduled automatically &amp; notified us by email at no additional cost.\",\"positive\",4,2],[\"@united That made me so mad, but then I called the bag number, and that person was helpful and told me where the bag really was. (2/2)\",\"positive\",5,2],[\"@AmericanAir @RobertDwyer AA doesnt charge any fees to change award tickets as long as the origin, destination &amp; award type remains the same\",\"positive\",2,0],[\"@JetBlue keep going back and forth with being able to board and then not. But great agents in savannah!\",\"positive\",1,2],[\"@JetBlue TA off site at #thelodge. Should be a fun day. @YeniettElswood @AndrewBiga @CodyCleverly @HeidiMacey @motherpollock\",\"positive\",1,2],[\"@SouthwestAir Oh no worries NL, no disappointments here. Better to have NO lounges than like #Delta who has them but does disappoint!\",\"positive\",6,2],[\"@JetBlue A320 pulling into the gate as the sunrises here at @BostonLogan this morning #jetbluesofly #jetblue #airbus http://t.co/JGdu5us8Dz\",\"positive\",1,0],[\"@SouthwestAir Can a pair of tickets waiting for me after my sports practice? I live here and definitely know where that is! @Imaginedragons\",\"positive\",0,0],[\"@united I will. Thanks.\",\"positive\",3,0]],\"hovertemplate\":\"x=%{x}<br>y=%{y}<br>text_left=%{customdata[0]}<br>label_left=%{customdata[1]}<br>cluster=%{marker.color}<br>predicted_label_left=%{customdata[3]}<extra></extra>\",\"legendgroup\":\"\",\"marker\":{\"color\":[3,1,5,5,1,0,5,4,0,0,1,4,0,0,1,1,1,5,0,4,4,4,3,4,1,4,4,6,0,5,5,0,2,1,4,1,4,5,0,1,4,0,5,1,1,0,4,0,4,4,2,6,5,5,1,0,3,6,4,5,4,2,5,6,5,0,5,4,4,5,0,5,3,4,3,4,1,0,0,5,6,0,6,5,4,4,0,0,0,2,1,4,3,5,4,5,4,6,0,6,5,1,4,6,2,1,0,2,3,1,5,5,0,6,1,5,4,2,5,0,0,6,5,4,0,5,2,4,6,5,1,6,5,4,0,4,1,3,4,6,2,4,4,5,5,5,2,0,1,4,1,0,0,4,4,0,1,3,5,2,4,0,0,4,1,4,0,6,0,0,6,0,0,0,1,5,0,2,0,4,0,4,5,4,5,5,1,4,3,0,0,6,6,0,3,6,0,5,6,5,6,1,4,5,6,2,6,6,1,5,1,2,1,0,0,5,4,1,0,0,3,1,1,1,2,6,1,3,6,0,0,4,1,0,3,3,4,2,6,0,5,0,6,0,2,3,6,5,4,3,1,1,5,1,6,5,1,5,5,5,4,1,1,5,6,4,6,1,0,1,5,4,6,1,4,1,5,6,6,1,2,0,4,1,5,0,6,5,1,6,1,6,4,6,6,0,6,4,0,4,3,1,0,6,1,1,2,6,1,5,5,0,5,0,3,1,4,5,0,5,5,0,6,0,5,3,6,0,4,4,1,5,6,4,3,1,2,1,2,4,1,3,4,1,1,2,6,2,3,5,6,6,1,0,3,6,0,6,5,5,2,5,6,5,4,4,0,6,6,5,5,5,1,3,1,4,3,6,0,6,1,6,6,0,1,0,5,1,3,0,6,2,2,6,0,6,3,5,6,5,2,5,5,4,5,2,1,1,6,1,0,3],\"coloraxis\":\"coloraxis\",\"symbol\":\"circle\"},\"mode\":\"markers\",\"name\":\"\",\"orientation\":\"v\",\"showlegend\":false,\"x\":[0.5875425934791565,1.895021677017212,2.796940565109253,3.194814682006836,2.4200961589813232,5.547643184661865,2.443209648132324,3.913114547729492,5.915879249572754,6.8820576667785645,1.385367512702942,3.0098440647125244,5.465642929077148,5.547206878662109,2.665576696395874,2.497969150543213,1.049879550933838,2.836749315261841,5.303199291229248,3.0669353008270264,2.875366687774658,4.22611665725708,-0.1404012143611908,2.8145411014556885,1.9967782497406006,3.439063549041748,3.2348458766937256,0.15347667038440704,3.924790620803833,1.8756158351898193,4.263679027557373,5.385173320770264,0.882805585861206,1.987200379371643,4.529458999633789,0.9660813808441162,4.5687360763549805,2.1570026874542236,5.606516361236572,1.0714309215545654,4.277820587158203,5.258463382720947,0.7424226403236389,3.465705394744873,1.899127721786499,5.92242431640625,3.3857474327087402,5.847520351409912,2.6047892570495605,2.700852632522583,0.44404906034469604,0.926761269569397,0.8489450216293335,2.6801795959472656,2.065687894821167,5.1887006759643555,0.29493409395217896,1.3108012676239014,3.04526948928833,2.924607753753662,3.311727523803711,0.3752357065677643,2.5503697395324707,5.742350101470947,2.2566378116607666,5.981027603149414,2.2252001762390137,3.7492051124572754,3.4566705226898193,0.7419883012771606,6.263225078582764,0.8050841689109802,0.15819203853607178,2.8874270915985107,-0.0875304564833641,2.3495540618896484,0.6477813124656677,4.984859466552734,4.800148963928223,3.005408525466919,1.1450613737106323,7.039069175720215,0.430216521024704,2.6626691818237305,2.252627372741699,2.892725944519043,6.964035987854004,5.864742279052734,5.614218235015869,0.2706540524959564,3.1342151165008545,3.065607786178589,0.15861274302005768,2.7868831157684326,2.7884154319763184,2.526813507080078,1.6641433238983154,1.357985496520996,6.219184398651123,0.9875482320785522,2.27278995513916,1.586271047592163,2.5760438442230225,1.7894788980484009,0.15075045824050903,0.3439689576625824,6.300892353057861,0.5531817674636841,3.30302357673645,1.0632662773132324,2.2492151260375977,2.238757371902466,4.959228992462158,1.7283364534378052,2.0497822761535645,3.0938382148742676,2.8383195400238037,1.471626877784729,2.7170681953430176,5.9582414627075195,6.048397064208984,0.6521186828613281,1.026863694190979,2.398108720779419,6.6046013832092285,0.9824106097221375,0.09801512956619263,1.6284862756729126,2.2172627449035645,2.3620362281799316,1.5367424488067627,0.6015228629112244,2.130725383758545,2.713606357574463,5.816690444946289,2.99784255027771,1.395974040031433,0.7031090259552002,3.3751633167266846,0.3484073579311371,-0.626616358757019,3.1772189140319824,3.7438032627105713,2.632039785385132,1.4238790273666382,2.3710689544677734,-0.11438462138175964,6.671271324157715,1.4106581211090088,3.1889729499816895,1.0173848867416382,6.023696422576904,6.852487087249756,4.340325832366943,3.488112211227417,5.4723801612854,1.9314223527908325,0.18785406649112701,1.9133555889129639,0.3609151244163513,2.622370958328247,5.526749610900879,6.010063648223877,3.389937162399292,1.5441629886627197,3.019094944000244,5.773279666900635,1.2260738611221313,5.54977560043335,6.465194225311279,0.6613762974739075,6.512246608734131,5.168576717376709,5.861128807067871,0.8983741402626038,2.0943992137908936,5.955145359039307,0.012726761400699615,6.957052230834961,3.5632288455963135,5.729259014129639,3.5695292949676514,1.1622289419174194,1.8158434629440308,1.2688744068145752,3.535877227783203,1.795541524887085,4.649103164672852,0.708104133605957,6.924371242523193,5.507726669311523,2.1070497035980225,0.387667179107666,5.6912455558776855,1.8277820348739624,1.3042092323303223,7.037560939788818,4.1936469078063965,0.7319985628128052,2.234987497329712,2.838257312774658,1.4847280979156494,4.517388343811035,1.9408961534500122,0.7054927349090576,0.07030587643384933,0.3828672170639038,2.023303270339966,1.9563982486724854,2.4751980304718018,1.6085739135742188,-0.0016548612620681524,2.2370316982269287,5.727909088134766,6.632213115692139,1.5364409685134888,3.716054916381836,1.5074061155319214,6.774263858795166,6.813514709472656,0.7350977063179016,2.277773857116699,1.502384901046753,1.8145710229873657,0.1658068150281906,0.3527071475982666,2.506711006164551,0.9072253108024597,1.9226340055465698,5.406731128692627,6.479638576507568,3.3950307369232178,1.5336854457855225,6.9763569831848145,1.533138632774353,0.7689510583877563,3.8873291015625,0.048579052090644836,2.231160879135132,5.250466346740723,1.9860882759094238,5.294571399688721,1.293294906616211,6.6817851066589355,0.21978841722011566,0.38643118739128113,0.3948736786842346,1.990556001663208,2.0374748706817627,0.43012720346450806,1.4090806245803833,2.206163167953491,2.450007438659668,0.9677978157997131,0.4591224193572998,1.5639992952346802,2.9312195777893066,1.9638383388519287,3.140639305114746,1.4097033739089966,1.5332527160644531,0.33983170986175537,2.017301082611084,3.091501474380493,1.223862648010254,2.78547739982605,0.6332709193229675,2.033351182937622,6.167578220367432,1.973749041557312,5.426407814025879,3.7790558338165283,0.41105109453201294,1.4397965669631958,3.3054027557373047,3.1643147468566895,1.8217107057571411,6.270367622375488,0.4000896215438843,0.9739386439323425,1.3134005069732666,6.2512640953063965,3.6335294246673584,2.0074703693389893,1.1460586786270142,6.118714809417725,1.6971549987792969,1.4818475246429443,1.3215428590774536,1.2511177062988281,2.2177884578704834,1.623284101486206,3.5601236820220947,0.9280466437339783,1.1381418704986572,5.943974018096924,1.8307318687438965,3.098759889602661,6.890118598937988,1.8932660818099976,0.10081338882446289,2.002614974975586,4.565857887268066,0.3727354407310486,0.6557971239089966,1.7749065160751343,0.7661721110343933,5.300650119781494,1.48872709274292,3.357789993286133,0.9413094520568848,5.301402568817139,3.2621593475341797,6.445834159851074,0.5700989961624146,1.073441743850708,2.1700551509857178,1.7698216438293457,6.331902503967285,2.9382007122039795,1.7920961380004883,5.5457234382629395,2.414302110671997,5.687137603759766,3.116619110107422,0.584121823310852,1.54396390914917,4.845207691192627,2.741589307785034,2.1357550621032715,2.0903491973876953,2.069056272506714,2.2075369358062744,2.503636121749878,3.300442695617676,1.5593973398208618,0.7481628060340881,2.1693172454833984,1.2881686687469482,2.1195144653320312,1.7452497482299805,0.08730833977460861,4.59841775894165,2.7101681232452393,1.3320918083190918,-0.03185930848121643,0.8778067231178284,-0.08214488625526428,1.0593693256378174,2.1532750129699707,1.1708012819290161,1.2309819459915161,1.449767827987671,6.4030351638793945,2.91051983833313,2.566943883895874,5.651352882385254,1.8878272771835327,2.904872179031372,2.0394937992095947,3.369077205657959,1.4755595922470093,-0.07672728598117828,2.9909627437591553,2.0526721477508545,2.495276689529419,6.901350021362305,1.6875367164611816,0.6208610534667969,0.7152424454689026,2.3832762241363525,3.048375129699707,1.8501280546188354,0.6817575097084045,1.7672566175460815,4.700087547302246,0.8058814406394958,1.5806350708007812,5.981476306915283,2.4281139373779297,1.3702619075775146,0.6185616254806519,0.43822982907295227,6.5017924308776855,1.5965179204940796,5.472866058349609,2.2604408264160156,1.9610074758529663,1.0590194463729858,5.492576599121094,1.4059816598892212,0.7752546668052673,-0.33836761116981506,1.7419703006744385,5.407410144805908,1.2938178777694702,0.6799303889274597,2.2144179344177246,1.7945990562438965,2.1605284214019775,-0.27306726574897766,2.4682109355926514,1.4737681150436401,2.6058645248413086,0.7958893775939941,0.7016218304634094,1.8224490880966187,1.8068466186523438,5.953316688537598,1.3851410150527954,5.404452323913574,0.47326362133026123],\"xaxis\":\"x\",\"y\":[8.812499046325684,16.144014358520508,10.834549903869629,11.002141952514648,15.734236717224121,12.81447982788086,12.11271858215332,12.215534210205078,11.12958812713623,10.944823265075684,16.066015243530273,12.497035026550293,12.41443157196045,12.797205924987793,15.123350143432617,15.747236251831055,13.6668062210083,12.503170013427734,12.468042373657227,13.24559211730957,13.713805198669434,12.874157905578613,9.539173126220703,12.519015312194824,13.9298095703125,13.853720664978027,12.931615829467773,14.468597412109375,11.914257049560547,11.151590347290039,12.831721305847168,11.776215553283691,11.675501823425293,14.186403274536133,12.779991149902344,15.574514389038086,12.300288200378418,12.612839698791504,11.9821195602417,16.020540237426758,13.228200912475586,12.158282279968262,10.839447021484375,14.258003234863281,15.63361644744873,11.108745574951172,13.732759475708008,10.780141830444336,15.187527656555176,13.208345413208008,11.890559196472168,13.611167907714844,10.722795486450195,11.850707054138184,16.348417282104492,12.897906303405762,9.028437614440918,11.5271577835083,13.92226791381836,11.315200805664062,12.818220138549805,12.585066795349121,11.185400009155273,10.988268852233887,12.063892364501953,12.208636283874512,13.154245376586914,12.782365798950195,13.912004470825195,9.724601745605469,12.12680721282959,11.930768966674805,9.556929588317871,14.133896827697754,9.537566184997559,14.415763854980469,15.70616340637207,12.043859481811523,12.376485824584961,11.956625938415527,13.311378479003906,12.331303596496582,14.20439624786377,11.10573673248291,15.007707595825195,15.185977935791016,11.084860801696777,11.120218276977539,11.330742835998535,12.393880844116211,12.888505935668945,13.694563865661621,8.999799728393555,11.828089714050293,13.730542182922363,11.73890209197998,14.053296089172363,14.106176376342773,12.024619102478027,14.212542533874512,10.119059562683105,15.117058753967285,13.474579811096191,12.865140914916992,11.751441955566406,13.042314529418945,11.228647232055664,12.813157081604004,10.535873413085938,16.055604934692383,9.879642486572266,10.488982200622559,12.70461654663086,12.247859001159668,13.224569320678711,13.293705940246582,12.958064079284668,12.143478393554688,11.838982582092285,12.606143951416016,12.100259780883789,12.770284652709961,12.111795425415039,13.45136547088623,12.222646713256836,13.185050964355469,11.457974433898926,14.534093856811523,12.238283157348633,11.769636154174805,15.351902961730957,14.542208671569824,10.714444160461426,14.32724380493164,10.95595932006836,13.019660949707031,15.836925506591797,9.010605812072754,13.601191520690918,10.05453872680664,10.590835571289062,13.608563423156738,13.50666618347168,15.52375316619873,12.756567001342773,11.547011375427246,11.584697723388672,11.465365409851074,15.790812492370605,12.808772087097168,15.973384857177734,11.620388984680176,11.013718605041504,13.207490921020508,12.12936019897461,11.307559967041016,15.413521766662598,9.082684516906738,10.947867393493652,12.290301322937012,13.249515533447266,11.632494926452637,12.175716400146484,13.42845344543457,15.631959915161133,13.6980562210083,11.685542106628418,14.444657325744629,11.3732271194458,11.256535530090332,13.66508960723877,12.135933876037598,12.36699104309082,11.571377754211426,15.95425796508789,10.328038215637207,10.917282104492188,11.800058364868164,12.112921714782715,14.614697456359863,11.626302719116211,13.162158012390137,10.902145385742188,13.875916481018066,11.198809623718262,11.565902709960938,15.96203899383545,12.372786521911621,9.107912063598633,11.041523933410645,11.423501968383789,12.936546325683594,13.57323169708252,11.47049617767334,10.046069145202637,13.921223640441895,11.869215965270996,11.949238777160645,13.455538749694824,12.105749130249023,12.496685028076172,15.911946296691895,13.170266151428223,11.698057174682617,13.395498275756836,11.942939758300781,13.990120887756348,12.951848030090332,16.32089614868164,13.230589866638184,14.673532485961914,12.307860374450684,14.06197452545166,11.801301002502441,11.746040344238281,9.72980785369873,13.382505416870117,13.951513290405273,12.120097160339355,12.211604118347168,9.75171947479248,14.852296829223633,16.05827522277832,14.433156967163086,11.843029975891113,10.29831314086914,14.646349906921387,9.320930480957031,11.785860061645508,11.970623970031738,11.282964706420898,13.305779457092285,12.376935005187988,12.227749824523926,9.689576148986816,9.074492454528809,14.556337356567383,12.180374145507812,13.833052635192871,11.970990180969238,10.419063568115234,12.462069511413574,13.637816429138184,11.913305282592773,12.333279609680176,9.918660163879395,14.442920684814453,10.576239585876465,12.85886001586914,9.352505683898926,15.58533763885498,13.809896469116211,10.989185333251953,15.07573413848877,10.391192436218262,9.811014175415039,15.188369750976562,10.127799987792969,12.127635955810547,11.191433906555176,15.247845649719238,14.638986587524414,15.175193786621094,12.46927547454834,13.98647403717041,13.546692848205566,13.669848442077637,15.539121627807617,10.81454849243164,15.97768497467041,11.094895362854004,12.661884307861328,13.25708293914795,15.771370887756348,13.814452171325684,14.946425437927246,10.050840377807617,10.882868766784668,13.196544647216797,13.122542381286621,12.165210723876953,11.937664031982422,14.05078411102295,16.002531051635742,11.291251182556152,10.840574264526367,12.942266464233398,9.707456588745117,15.739896774291992,13.624101638793945,15.705076217651367,13.17061710357666,13.67440128326416,13.797121047973633,13.76705551147461,12.40101432800293,12.455801010131836,14.348825454711914,11.695741653442383,14.07545280456543,9.174091339111328,15.205747604370117,12.6871337890625,10.019952774047852,15.192020416259766,13.542791366577148,11.678274154663086,11.02774429321289,14.550390243530273,12.694001197814941,10.624102592468262,12.05438232421875,12.428754806518555,11.376968383789062,9.008798599243164,14.694023132324219,15.164674758911133,10.473872184753418,11.965460777282715,11.566697120666504,10.060286521911621,11.755210876464844,12.606927871704102,11.933621406555176,10.782419204711914,9.360465049743652,12.995701789855957,12.32310962677002,13.878349304199219,13.373725891113281,15.902088165283203,11.18171215057373,13.648093223571777,13.394493103027344,10.737110137939453,15.080292701721191,11.853557586669922,14.253313064575195,14.515725135803223,13.302946090698242,15.806062698364258,8.914618492126465,12.122776985168457,15.552733421325684,15.875603675842285,11.65165901184082,13.625075340270996,11.916775703430176,9.549777030944824,9.926807403564453,14.401338577270508,13.831584930419922,15.402312278747559,12.230697631835938,10.170568466186523,12.636738777160645,11.188192367553711,13.0304536819458,12.058856964111328,14.797300338745117,10.765884399414062,11.203386306762695,9.716781616210938,10.93432903289795,13.900654792785645,13.45698070526123,12.084806442260742,11.68113899230957,9.940092086791992,11.887274742126465,10.230700492858887,10.713566780090332,15.842517852783203,9.716346740722656,15.868395805358887,12.386677742004395,10.562503814697266,11.601944923400879,11.704970359802246,13.41003704071045,15.032059669494629,13.801944732666016,13.28127670288086,11.563183784484863,15.797246932983398,10.895137786865234,12.006443977355957,16.248903274536133,9.163878440856934,11.436990737915039,13.128962516784668,12.334185600280762,11.504493713378906,14.231634140014648,11.441661834716797,13.304133415222168,9.524754524230957,11.843160629272461,15.335299491882324,9.81434440612793,11.391244888305664,10.506447792053223,10.423379898071289,13.058206558227539,10.654668807983398,12.190023422241211,15.605032920837402,15.648548126220703,10.734025955200195,15.561915397644043,11.703336715698242,8.888463020324707],\"yaxis\":\"y\",\"type\":\"scatter\"}],                        {\"template\":{\"data\":{\"bar\":[{\"error_x\":{\"color\":\"#2a3f5f\"},\"error_y\":{\"color\":\"#2a3f5f\"},\"marker\":{\"line\":{\"color\":\"#E5ECF6\",\"width\":0.5},\"pattern\":{\"fillmode\":\"overlay\",\"size\":10,\"solidity\":0.2}},\"type\":\"bar\"}],\"barpolar\":[{\"marker\":{\"line\":{\"color\":\"#E5ECF6\",\"width\":0.5},\"pattern\":{\"fillmode\":\"overlay\",\"size\":10,\"solidity\":0.2}},\"type\":\"barpolar\"}],\"carpet\":[{\"aaxis\":{\"endlinecolor\":\"#2a3f5f\",\"gridcolor\":\"white\",\"linecolor\":\"white\",\"minorgridcolor\":\"white\",\"startlinecolor\":\"#2a3f5f\"},\"baxis\":{\"endlinecolor\":\"#2a3f5f\",\"gridcolor\":\"white\",\"linecolor\":\"white\",\"minorgridcolor\":\"white\",\"startlinecolor\":\"#2a3f5f\"},\"type\":\"carpet\"}],\"choropleth\":[{\"colorbar\":{\"outlinewidth\":0,\"ticks\":\"\"},\"type\":\"choropleth\"}],\"contour\":[{\"colorbar\":{\"outlinewidth\":0,\"ticks\":\"\"},\"colorscale\":[[0.0,\"#0d0887\"],[0.1111111111111111,\"#46039f\"],[0.2222222222222222,\"#7201a8\"],[0.3333333333333333,\"#9c179e\"],[0.4444444444444444,\"#bd3786\"],[0.5555555555555556,\"#d8576b\"],[0.6666666666666666,\"#ed7953\"],[0.7777777777777778,\"#fb9f3a\"],[0.8888888888888888,\"#fdca26\"],[1.0,\"#f0f921\"]],\"type\":\"contour\"}],\"contourcarpet\":[{\"colorbar\":{\"outlinewidth\":0,\"ticks\":\"\"},\"type\":\"contourcarpet\"}],\"heatmap\":[{\"colorbar\":{\"outlinewidth\":0,\"ticks\":\"\"},\"colorscale\":[[0.0,\"#0d0887\"],[0.1111111111111111,\"#46039f\"],[0.2222222222222222,\"#7201a8\"],[0.3333333333333333,\"#9c179e\"],[0.4444444444444444,\"#bd3786\"],[0.5555555555555556,\"#d8576b\"],[0.6666666666666666,\"#ed7953\"],[0.7777777777777778,\"#fb9f3a\"],[0.8888888888888888,\"#fdca26\"],[1.0,\"#f0f921\"]],\"type\":\"heatmap\"}],\"heatmapgl\":[{\"colorbar\":{\"outlinewidth\":0,\"ticks\":\"\"},\"colorscale\":[[0.0,\"#0d0887\"],[0.1111111111111111,\"#46039f\"],[0.2222222222222222,\"#7201a8\"],[0.3333333333333333,\"#9c179e\"],[0.4444444444444444,\"#bd3786\"],[0.5555555555555556,\"#d8576b\"],[0.6666666666666666,\"#ed7953\"],[0.7777777777777778,\"#fb9f3a\"],[0.8888888888888888,\"#fdca26\"],[1.0,\"#f0f921\"]],\"type\":\"heatmapgl\"}],\"histogram\":[{\"marker\":{\"pattern\":{\"fillmode\":\"overlay\",\"size\":10,\"solidity\":0.2}},\"type\":\"histogram\"}],\"histogram2d\":[{\"colorbar\":{\"outlinewidth\":0,\"ticks\":\"\"},\"colorscale\":[[0.0,\"#0d0887\"],[0.1111111111111111,\"#46039f\"],[0.2222222222222222,\"#7201a8\"],[0.3333333333333333,\"#9c179e\"],[0.4444444444444444,\"#bd3786\"],[0.5555555555555556,\"#d8576b\"],[0.6666666666666666,\"#ed7953\"],[0.7777777777777778,\"#fb9f3a\"],[0.8888888888888888,\"#fdca26\"],[1.0,\"#f0f921\"]],\"type\":\"histogram2d\"}],\"histogram2dcontour\":[{\"colorbar\":{\"outlinewidth\":0,\"ticks\":\"\"},\"colorscale\":[[0.0,\"#0d0887\"],[0.1111111111111111,\"#46039f\"],[0.2222222222222222,\"#7201a8\"],[0.3333333333333333,\"#9c179e\"],[0.4444444444444444,\"#bd3786\"],[0.5555555555555556,\"#d8576b\"],[0.6666666666666666,\"#ed7953\"],[0.7777777777777778,\"#fb9f3a\"],[0.8888888888888888,\"#fdca26\"],[1.0,\"#f0f921\"]],\"type\":\"histogram2dcontour\"}],\"mesh3d\":[{\"colorbar\":{\"outlinewidth\":0,\"ticks\":\"\"},\"type\":\"mesh3d\"}],\"parcoords\":[{\"line\":{\"colorbar\":{\"outlinewidth\":0,\"ticks\":\"\"}},\"type\":\"parcoords\"}],\"pie\":[{\"automargin\":true,\"type\":\"pie\"}],\"scatter\":[{\"marker\":{\"colorbar\":{\"outlinewidth\":0,\"ticks\":\"\"}},\"type\":\"scatter\"}],\"scatter3d\":[{\"line\":{\"colorbar\":{\"outlinewidth\":0,\"ticks\":\"\"}},\"marker\":{\"colorbar\":{\"outlinewidth\":0,\"ticks\":\"\"}},\"type\":\"scatter3d\"}],\"scattercarpet\":[{\"marker\":{\"colorbar\":{\"outlinewidth\":0,\"ticks\":\"\"}},\"type\":\"scattercarpet\"}],\"scattergeo\":[{\"marker\":{\"colorbar\":{\"outlinewidth\":0,\"ticks\":\"\"}},\"type\":\"scattergeo\"}],\"scattergl\":[{\"marker\":{\"colorbar\":{\"outlinewidth\":0,\"ticks\":\"\"}},\"type\":\"scattergl\"}],\"scattermapbox\":[{\"marker\":{\"colorbar\":{\"outlinewidth\":0,\"ticks\":\"\"}},\"type\":\"scattermapbox\"}],\"scatterpolar\":[{\"marker\":{\"colorbar\":{\"outlinewidth\":0,\"ticks\":\"\"}},\"type\":\"scatterpolar\"}],\"scatterpolargl\":[{\"marker\":{\"colorbar\":{\"outlinewidth\":0,\"ticks\":\"\"}},\"type\":\"scatterpolargl\"}],\"scatterternary\":[{\"marker\":{\"colorbar\":{\"outlinewidth\":0,\"ticks\":\"\"}},\"type\":\"scatterternary\"}],\"surface\":[{\"colorbar\":{\"outlinewidth\":0,\"ticks\":\"\"},\"colorscale\":[[0.0,\"#0d0887\"],[0.1111111111111111,\"#46039f\"],[0.2222222222222222,\"#7201a8\"],[0.3333333333333333,\"#9c179e\"],[0.4444444444444444,\"#bd3786\"],[0.5555555555555556,\"#d8576b\"],[0.6666666666666666,\"#ed7953\"],[0.7777777777777778,\"#fb9f3a\"],[0.8888888888888888,\"#fdca26\"],[1.0,\"#f0f921\"]],\"type\":\"surface\"}],\"table\":[{\"cells\":{\"fill\":{\"color\":\"#EBF0F8\"},\"line\":{\"color\":\"white\"}},\"header\":{\"fill\":{\"color\":\"#C8D4E3\"},\"line\":{\"color\":\"white\"}},\"type\":\"table\"}]},\"layout\":{\"annotationdefaults\":{\"arrowcolor\":\"#2a3f5f\",\"arrowhead\":0,\"arrowwidth\":1},\"autotypenumbers\":\"strict\",\"coloraxis\":{\"colorbar\":{\"outlinewidth\":0,\"ticks\":\"\"}},\"colorscale\":{\"diverging\":[[0,\"#8e0152\"],[0.1,\"#c51b7d\"],[0.2,\"#de77ae\"],[0.3,\"#f1b6da\"],[0.4,\"#fde0ef\"],[0.5,\"#f7f7f7\"],[0.6,\"#e6f5d0\"],[0.7,\"#b8e186\"],[0.8,\"#7fbc41\"],[0.9,\"#4d9221\"],[1,\"#276419\"]],\"sequential\":[[0.0,\"#0d0887\"],[0.1111111111111111,\"#46039f\"],[0.2222222222222222,\"#7201a8\"],[0.3333333333333333,\"#9c179e\"],[0.4444444444444444,\"#bd3786\"],[0.5555555555555556,\"#d8576b\"],[0.6666666666666666,\"#ed7953\"],[0.7777777777777778,\"#fb9f3a\"],[0.8888888888888888,\"#fdca26\"],[1.0,\"#f0f921\"]],\"sequentialminus\":[[0.0,\"#0d0887\"],[0.1111111111111111,\"#46039f\"],[0.2222222222222222,\"#7201a8\"],[0.3333333333333333,\"#9c179e\"],[0.4444444444444444,\"#bd3786\"],[0.5555555555555556,\"#d8576b\"],[0.6666666666666666,\"#ed7953\"],[0.7777777777777778,\"#fb9f3a\"],[0.8888888888888888,\"#fdca26\"],[1.0,\"#f0f921\"]]},\"colorway\":[\"#636efa\",\"#EF553B\",\"#00cc96\",\"#ab63fa\",\"#FFA15A\",\"#19d3f3\",\"#FF6692\",\"#B6E880\",\"#FF97FF\",\"#FECB52\"],\"font\":{\"color\":\"#2a3f5f\"},\"geo\":{\"bgcolor\":\"white\",\"lakecolor\":\"white\",\"landcolor\":\"#E5ECF6\",\"showlakes\":true,\"showland\":true,\"subunitcolor\":\"white\"},\"hoverlabel\":{\"align\":\"left\"},\"hovermode\":\"closest\",\"mapbox\":{\"style\":\"light\"},\"paper_bgcolor\":\"white\",\"plot_bgcolor\":\"#E5ECF6\",\"polar\":{\"angularaxis\":{\"gridcolor\":\"white\",\"linecolor\":\"white\",\"ticks\":\"\"},\"bgcolor\":\"#E5ECF6\",\"radialaxis\":{\"gridcolor\":\"white\",\"linecolor\":\"white\",\"ticks\":\"\"}},\"scene\":{\"xaxis\":{\"backgroundcolor\":\"#E5ECF6\",\"gridcolor\":\"white\",\"gridwidth\":2,\"linecolor\":\"white\",\"showbackground\":true,\"ticks\":\"\",\"zerolinecolor\":\"white\"},\"yaxis\":{\"backgroundcolor\":\"#E5ECF6\",\"gridcolor\":\"white\",\"gridwidth\":2,\"linecolor\":\"white\",\"showbackground\":true,\"ticks\":\"\",\"zerolinecolor\":\"white\"},\"zaxis\":{\"backgroundcolor\":\"#E5ECF6\",\"gridcolor\":\"white\",\"gridwidth\":2,\"linecolor\":\"white\",\"showbackground\":true,\"ticks\":\"\",\"zerolinecolor\":\"white\"}},\"shapedefaults\":{\"line\":{\"color\":\"#2a3f5f\"}},\"ternary\":{\"aaxis\":{\"gridcolor\":\"white\",\"linecolor\":\"white\",\"ticks\":\"\"},\"baxis\":{\"gridcolor\":\"white\",\"linecolor\":\"white\",\"ticks\":\"\"},\"bgcolor\":\"#E5ECF6\",\"caxis\":{\"gridcolor\":\"white\",\"linecolor\":\"white\",\"ticks\":\"\"}},\"title\":{\"x\":0.05},\"xaxis\":{\"automargin\":true,\"gridcolor\":\"white\",\"linecolor\":\"white\",\"ticks\":\"\",\"title\":{\"standoff\":15},\"zerolinecolor\":\"white\",\"zerolinewidth\":2},\"yaxis\":{\"automargin\":true,\"gridcolor\":\"white\",\"linecolor\":\"white\",\"ticks\":\"\",\"title\":{\"standoff\":15},\"zerolinecolor\":\"white\",\"zerolinewidth\":2}}},\"xaxis\":{\"anchor\":\"y\",\"domain\":[0.0,1.0],\"title\":{\"text\":\"x\"}},\"yaxis\":{\"anchor\":\"x\",\"domain\":[0.0,1.0],\"title\":{\"text\":\"y\"}},\"coloraxis\":{\"colorbar\":{\"title\":{\"text\":\"cluster\"}},\"colorscale\":[[0.0,\"#0d0887\"],[0.1111111111111111,\"#46039f\"],[0.2222222222222222,\"#7201a8\"],[0.3333333333333333,\"#9c179e\"],[0.4444444444444444,\"#bd3786\"],[0.5555555555555556,\"#d8576b\"],[0.6666666666666666,\"#ed7953\"],[0.7777777777777778,\"#fb9f3a\"],[0.8888888888888888,\"#fdca26\"],[1.0,\"#f0f921\"]]},\"legend\":{\"tracegroupgap\":0},\"margin\":{\"t\":60}},                        {\"responsive\": true}                    ).then(function(){\n",
       "                            \n",
       "var gd = document.getElementById('160d0a7c-5cb3-4379-a0a3-0e63ca3428bb');\n",
       "var x = new MutationObserver(function (mutations, observer) {{\n",
       "        var display = window.getComputedStyle(gd).display;\n",
       "        if (!display || display === 'none') {{\n",
       "            console.log([gd, 'removed!']);\n",
       "            Plotly.purge(gd);\n",
       "            observer.disconnect();\n",
       "        }}\n",
       "}});\n",
       "\n",
       "// Listen for the removal of the full notebook cells\n",
       "var notebookContainer = gd.closest('#notebook-container');\n",
       "if (notebookContainer) {{\n",
       "    x.observe(notebookContainer, {childList: true});\n",
       "}}\n",
       "\n",
       "// Listen for the clearing of the current output cell\n",
       "var outputEl = gd.closest('.output');\n",
       "if (outputEl) {{\n",
       "    x.observe(outputEl, {childList: true});\n",
       "}}\n",
       "\n",
       "                        })                };                });            </script>        </div>"
      ]
     },
     "metadata": {},
     "output_type": "display_data"
    }
   ],
   "source": [
    "fig = px.scatter(\n",
    "    joinedold, x='x', y='y', color='cluster', hover_data=['x', 'y', 'text_left', 'label_left', 'cluster', 'predicted_label_left'])\n",
    "\n",
    "fig.show()"
   ]
  },
  {
   "cell_type": "code",
   "execution_count": null,
   "id": "a486a42f",
   "metadata": {},
   "outputs": [],
   "source": []
  }
 ],
 "metadata": {
  "kernelspec": {
   "display_name": "Python 3 (ipykernel)",
   "language": "python",
   "name": "python3"
  },
  "language_info": {
   "codemirror_mode": {
    "name": "ipython",
    "version": 3
   },
   "file_extension": ".py",
   "mimetype": "text/x-python",
   "name": "python",
   "nbconvert_exporter": "python",
   "pygments_lexer": "ipython3",
   "version": "3.10.4"
  }
 },
 "nbformat": 4,
 "nbformat_minor": 5
}
